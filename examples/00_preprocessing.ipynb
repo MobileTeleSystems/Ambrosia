{
 "cells": [
  {
   "cell_type": "markdown",
   "id": "8f4933e1",
   "metadata": {},
   "source": [
    "# *Ambrosia* data preprocessing tools overview"
   ]
  },
  {
   "cell_type": "markdown",
   "id": "ff5fbc29",
   "metadata": {},
   "source": [
    "This example describes the data preprocessing methods which are implemented in the library. For the demonstration of these tools usage, synthetically generated one week data of daily content views by users is used."
   ]
  },
  {
   "cell_type": "markdown",
   "id": "50b37b75",
   "metadata": {},
   "source": [
    "Data processing tools are the number of classes that have the same access interface - they have set of implemented methods that are intuitive to the users:\n",
    "\n",
    "``fit`` - get the necessary for class parameters from the passed data \\\n",
    "``transform`` - make transformation of the passed data \\\n",
    "``fit_transform`` - combine the above two methods \\\n",
    "``get_params_dict`` - get a dict of fitted params \\\n",
    "``load_params_dict`` - set a dict of pre-fitted params \\\n",
    "``store_params`` - store fitted params to a file \\\n",
    "``load_params `` - load pre-fitted params from a file"
   ]
  },
  {
   "cell_type": "markdown",
   "id": "c29ff757",
   "metadata": {},
   "source": [
    "Let's take a look on some of preprocessing classes in the context of processing our user dataset."
   ]
  },
  {
   "cell_type": "code",
   "execution_count": 2,
   "id": "4e3821e0",
   "metadata": {},
   "outputs": [],
   "source": [
    "import numpy as np\n",
    "import pandas as pd\n",
    "import seaborn as sns\n",
    "\n",
    "from ambrosia.preprocessing import (AggregatePreprocessor, RobustPreprocessor,\n",
    "                                    IQRPreprocessor, LogTransformer,\n",
    "                                    BoxCoxTransformer)"
   ]
  },
  {
   "cell_type": "markdown",
   "id": "b996e26d",
   "metadata": {},
   "source": [
    "Load data"
   ]
  },
  {
   "cell_type": "code",
   "execution_count": 3,
   "id": "936e3b3d",
   "metadata": {},
   "outputs": [],
   "source": [
    "data = pd.read_csv('../tests/test_data/week_metrics.csv')"
   ]
  },
  {
   "cell_type": "code",
   "execution_count": 4,
   "id": "268a2f75",
   "metadata": {},
   "outputs": [
    {
     "data": {
      "text/html": [
       "<div>\n",
       "<style scoped>\n",
       "    .dataframe tbody tr th:only-of-type {\n",
       "        vertical-align: middle;\n",
       "    }\n",
       "\n",
       "    .dataframe tbody tr th {\n",
       "        vertical-align: top;\n",
       "    }\n",
       "\n",
       "    .dataframe thead th {\n",
       "        text-align: right;\n",
       "    }\n",
       "</style>\n",
       "<table border=\"1\" class=\"dataframe\">\n",
       "  <thead>\n",
       "    <tr style=\"text-align: right;\">\n",
       "      <th></th>\n",
       "      <th>id</th>\n",
       "      <th>gender</th>\n",
       "      <th>watched</th>\n",
       "      <th>sessions</th>\n",
       "      <th>day</th>\n",
       "      <th>platform</th>\n",
       "    </tr>\n",
       "  </thead>\n",
       "  <tbody>\n",
       "    <tr>\n",
       "      <th>0</th>\n",
       "      <td>0</td>\n",
       "      <td>Male</td>\n",
       "      <td>28.440846</td>\n",
       "      <td>4</td>\n",
       "      <td>1</td>\n",
       "      <td>android</td>\n",
       "    </tr>\n",
       "    <tr>\n",
       "      <th>1</th>\n",
       "      <td>1</td>\n",
       "      <td>Female</td>\n",
       "      <td>1.825271</td>\n",
       "      <td>2</td>\n",
       "      <td>1</td>\n",
       "      <td>ios</td>\n",
       "    </tr>\n",
       "    <tr>\n",
       "      <th>2</th>\n",
       "      <td>2</td>\n",
       "      <td>Female</td>\n",
       "      <td>46.995606</td>\n",
       "      <td>0</td>\n",
       "      <td>1</td>\n",
       "      <td>web</td>\n",
       "    </tr>\n",
       "    <tr>\n",
       "      <th>3</th>\n",
       "      <td>3</td>\n",
       "      <td>Female</td>\n",
       "      <td>37.310264</td>\n",
       "      <td>1</td>\n",
       "      <td>1</td>\n",
       "      <td>ios</td>\n",
       "    </tr>\n",
       "    <tr>\n",
       "      <th>4</th>\n",
       "      <td>4</td>\n",
       "      <td>Female</td>\n",
       "      <td>147.513105</td>\n",
       "      <td>0</td>\n",
       "      <td>1</td>\n",
       "      <td>web</td>\n",
       "    </tr>\n",
       "  </tbody>\n",
       "</table>\n",
       "</div>"
      ],
      "text/plain": [
       "   id  gender     watched  sessions  day platform\n",
       "0   0    Male   28.440846         4    1  android\n",
       "1   1  Female    1.825271         2    1      ios\n",
       "2   2  Female   46.995606         0    1      web\n",
       "3   3  Female   37.310264         1    1      ios\n",
       "4   4  Female  147.513105         0    1      web"
      ]
     },
     "execution_count": 4,
     "metadata": {},
     "output_type": "execute_result"
    }
   ],
   "source": [
    "data.head()"
   ]
  },
  {
   "cell_type": "markdown",
   "id": "421e6537",
   "metadata": {},
   "source": [
    "## Data aggregation"
   ]
  },
  {
   "cell_type": "markdown",
   "id": "4d968fb8",
   "metadata": {},
   "source": [
    "In our task, we would like to first aggregate data by user in order, for example, to get a more reliable statistical picture of the views metric and get rid of intra-user the dependency."
   ]
  },
  {
   "cell_type": "markdown",
   "id": "74f5dc7f",
   "metadata": {},
   "source": [
    "For this we will use the ``AggregatePreprocessor`` class, which allows us to aggregate categorical and continuous variables in a convenient way.\n",
    "\n",
    "The default aggregation behavior is set at instantiation time. However, when aggregating, we can always use the more detailed ``agg_params`` parameter, which sets own aggregation method for each metric."
   ]
  },
  {
   "cell_type": "code",
   "execution_count": 5,
   "id": "8e034761",
   "metadata": {},
   "outputs": [],
   "source": [
    "aggregator = AggregatePreprocessor(categorial_method='mode', real_method='sum')"
   ]
  },
  {
   "cell_type": "markdown",
   "id": "2a1b00df",
   "metadata": {},
   "source": [
    "Now fit aggregator and transform the data "
   ]
  },
  {
   "cell_type": "code",
   "execution_count": 6,
   "id": "98b56446",
   "metadata": {},
   "outputs": [
    {
     "data": {
      "text/html": [
       "<div>\n",
       "<style scoped>\n",
       "    .dataframe tbody tr th:only-of-type {\n",
       "        vertical-align: middle;\n",
       "    }\n",
       "\n",
       "    .dataframe tbody tr th {\n",
       "        vertical-align: top;\n",
       "    }\n",
       "\n",
       "    .dataframe thead th {\n",
       "        text-align: right;\n",
       "    }\n",
       "</style>\n",
       "<table border=\"1\" class=\"dataframe\">\n",
       "  <thead>\n",
       "    <tr style=\"text-align: right;\">\n",
       "      <th></th>\n",
       "      <th>id</th>\n",
       "      <th>watched</th>\n",
       "      <th>sessions</th>\n",
       "      <th>gender</th>\n",
       "      <th>platform</th>\n",
       "    </tr>\n",
       "  </thead>\n",
       "  <tbody>\n",
       "    <tr>\n",
       "      <th>0</th>\n",
       "      <td>0</td>\n",
       "      <td>772.597224</td>\n",
       "      <td>8</td>\n",
       "      <td>Male</td>\n",
       "      <td>ios</td>\n",
       "    </tr>\n",
       "    <tr>\n",
       "      <th>1</th>\n",
       "      <td>1</td>\n",
       "      <td>538.076739</td>\n",
       "      <td>15</td>\n",
       "      <td>Female</td>\n",
       "      <td>android</td>\n",
       "    </tr>\n",
       "    <tr>\n",
       "      <th>2</th>\n",
       "      <td>2</td>\n",
       "      <td>288.492353</td>\n",
       "      <td>20</td>\n",
       "      <td>Female</td>\n",
       "      <td>android</td>\n",
       "    </tr>\n",
       "    <tr>\n",
       "      <th>3</th>\n",
       "      <td>3</td>\n",
       "      <td>373.620408</td>\n",
       "      <td>9</td>\n",
       "      <td>Female</td>\n",
       "      <td>ios</td>\n",
       "    </tr>\n",
       "    <tr>\n",
       "      <th>4</th>\n",
       "      <td>4</td>\n",
       "      <td>630.238862</td>\n",
       "      <td>14</td>\n",
       "      <td>Female</td>\n",
       "      <td>ios</td>\n",
       "    </tr>\n",
       "    <tr>\n",
       "      <th>...</th>\n",
       "      <td>...</td>\n",
       "      <td>...</td>\n",
       "      <td>...</td>\n",
       "      <td>...</td>\n",
       "      <td>...</td>\n",
       "    </tr>\n",
       "    <tr>\n",
       "      <th>4995</th>\n",
       "      <td>4995</td>\n",
       "      <td>390.133588</td>\n",
       "      <td>14</td>\n",
       "      <td>Male</td>\n",
       "      <td>android</td>\n",
       "    </tr>\n",
       "    <tr>\n",
       "      <th>4996</th>\n",
       "      <td>4996</td>\n",
       "      <td>544.423724</td>\n",
       "      <td>25</td>\n",
       "      <td>Female</td>\n",
       "      <td>ios</td>\n",
       "    </tr>\n",
       "    <tr>\n",
       "      <th>4997</th>\n",
       "      <td>4997</td>\n",
       "      <td>204.713032</td>\n",
       "      <td>19</td>\n",
       "      <td>Male</td>\n",
       "      <td>android</td>\n",
       "    </tr>\n",
       "    <tr>\n",
       "      <th>4998</th>\n",
       "      <td>4998</td>\n",
       "      <td>1088.642872</td>\n",
       "      <td>25</td>\n",
       "      <td>Female</td>\n",
       "      <td>web</td>\n",
       "    </tr>\n",
       "    <tr>\n",
       "      <th>4999</th>\n",
       "      <td>4999</td>\n",
       "      <td>405.817078</td>\n",
       "      <td>11</td>\n",
       "      <td>Male</td>\n",
       "      <td>android</td>\n",
       "    </tr>\n",
       "  </tbody>\n",
       "</table>\n",
       "<p>5000 rows × 5 columns</p>\n",
       "</div>"
      ],
      "text/plain": [
       "        id      watched  sessions  gender platform\n",
       "0        0   772.597224         8    Male      ios\n",
       "1        1   538.076739        15  Female  android\n",
       "2        2   288.492353        20  Female  android\n",
       "3        3   373.620408         9  Female      ios\n",
       "4        4   630.238862        14  Female      ios\n",
       "...    ...          ...       ...     ...      ...\n",
       "4995  4995   390.133588        14    Male  android\n",
       "4996  4996   544.423724        25  Female      ios\n",
       "4997  4997   204.713032        19    Male  android\n",
       "4998  4998  1088.642872        25  Female      web\n",
       "4999  4999   405.817078        11    Male  android\n",
       "\n",
       "[5000 rows x 5 columns]"
      ]
     },
     "execution_count": 6,
     "metadata": {},
     "output_type": "execute_result"
    }
   ],
   "source": [
    "aggregator.fit_transform(dataframe=data,\n",
    "                         groupby_columns='id',\n",
    "                         real_cols=['watched', 'sessions'],\n",
    "                         categorial_cols=['gender', 'platform'])"
   ]
  },
  {
   "cell_type": "markdown",
   "id": "762b3a86",
   "metadata": {},
   "source": [
    "The instance is fitted now and we can see its parameters"
   ]
  },
  {
   "cell_type": "code",
   "execution_count": 7,
   "id": "916fbc8d",
   "metadata": {},
   "outputs": [
    {
     "data": {
      "text/plain": [
       "{'aggregation_params': {'watched': 'sum',\n",
       "  'sessions': 'sum',\n",
       "  'gender': 'mode',\n",
       "  'platform': 'mode'},\n",
       " 'groupby_columns': 'id'}"
      ]
     },
     "execution_count": 7,
     "metadata": {},
     "output_type": "execute_result"
    }
   ],
   "source": [
    "aggregator.get_params_dict()"
   ]
  },
  {
   "cell_type": "markdown",
   "id": "4c312952",
   "metadata": {},
   "source": [
    "These parameters can be saved as a json file and loaded in the future for the same aggregation tasks. But first let's refit the aggregator using detailed aggregation. You can use aliases for aggregation or pass pandas compatible methods."
   ]
  },
  {
   "cell_type": "code",
   "execution_count": 8,
   "id": "31b16b61",
   "metadata": {},
   "outputs": [],
   "source": [
    "# Add extra column before\n",
    "data['is_holiday'] = data['day'].apply(lambda x: 0 if x < 6 else 1)"
   ]
  },
  {
   "cell_type": "code",
   "execution_count": 9,
   "id": "b0573659",
   "metadata": {},
   "outputs": [
    {
     "data": {
      "text/html": [
       "<div>\n",
       "<style scoped>\n",
       "    .dataframe tbody tr th:only-of-type {\n",
       "        vertical-align: middle;\n",
       "    }\n",
       "\n",
       "    .dataframe tbody tr th {\n",
       "        vertical-align: top;\n",
       "    }\n",
       "\n",
       "    .dataframe thead th {\n",
       "        text-align: right;\n",
       "    }\n",
       "</style>\n",
       "<table border=\"1\" class=\"dataframe\">\n",
       "  <thead>\n",
       "    <tr style=\"text-align: right;\">\n",
       "      <th></th>\n",
       "      <th>id</th>\n",
       "      <th>is_holiday</th>\n",
       "      <th>watched</th>\n",
       "      <th>sessions</th>\n",
       "      <th>gender</th>\n",
       "      <th>platform</th>\n",
       "    </tr>\n",
       "  </thead>\n",
       "  <tbody>\n",
       "    <tr>\n",
       "      <th>0</th>\n",
       "      <td>0</td>\n",
       "      <td>0</td>\n",
       "      <td>601.893096</td>\n",
       "      <td>4</td>\n",
       "      <td>Male</td>\n",
       "      <td>ios</td>\n",
       "    </tr>\n",
       "    <tr>\n",
       "      <th>1</th>\n",
       "      <td>0</td>\n",
       "      <td>1</td>\n",
       "      <td>170.704127</td>\n",
       "      <td>1</td>\n",
       "      <td>Male</td>\n",
       "      <td>android</td>\n",
       "    </tr>\n",
       "    <tr>\n",
       "      <th>2</th>\n",
       "      <td>1</td>\n",
       "      <td>0</td>\n",
       "      <td>327.533247</td>\n",
       "      <td>3</td>\n",
       "      <td>Female</td>\n",
       "      <td>web</td>\n",
       "    </tr>\n",
       "    <tr>\n",
       "      <th>3</th>\n",
       "      <td>1</td>\n",
       "      <td>1</td>\n",
       "      <td>210.543492</td>\n",
       "      <td>6</td>\n",
       "      <td>Female</td>\n",
       "      <td>ios</td>\n",
       "    </tr>\n",
       "    <tr>\n",
       "      <th>4</th>\n",
       "      <td>2</td>\n",
       "      <td>0</td>\n",
       "      <td>271.548875</td>\n",
       "      <td>7</td>\n",
       "      <td>Female</td>\n",
       "      <td>web</td>\n",
       "    </tr>\n",
       "    <tr>\n",
       "      <th>...</th>\n",
       "      <td>...</td>\n",
       "      <td>...</td>\n",
       "      <td>...</td>\n",
       "      <td>...</td>\n",
       "      <td>...</td>\n",
       "      <td>...</td>\n",
       "    </tr>\n",
       "    <tr>\n",
       "      <th>9995</th>\n",
       "      <td>4997</td>\n",
       "      <td>1</td>\n",
       "      <td>65.368574</td>\n",
       "      <td>2</td>\n",
       "      <td>Male</td>\n",
       "      <td>ios</td>\n",
       "    </tr>\n",
       "    <tr>\n",
       "      <th>9996</th>\n",
       "      <td>4998</td>\n",
       "      <td>0</td>\n",
       "      <td>1051.360035</td>\n",
       "      <td>4</td>\n",
       "      <td>Female</td>\n",
       "      <td>web</td>\n",
       "    </tr>\n",
       "    <tr>\n",
       "      <th>9997</th>\n",
       "      <td>4998</td>\n",
       "      <td>1</td>\n",
       "      <td>37.282837</td>\n",
       "      <td>10</td>\n",
       "      <td>Female</td>\n",
       "      <td>android</td>\n",
       "    </tr>\n",
       "    <tr>\n",
       "      <th>9998</th>\n",
       "      <td>4999</td>\n",
       "      <td>0</td>\n",
       "      <td>245.553217</td>\n",
       "      <td>6</td>\n",
       "      <td>Male</td>\n",
       "      <td>android</td>\n",
       "    </tr>\n",
       "    <tr>\n",
       "      <th>9999</th>\n",
       "      <td>4999</td>\n",
       "      <td>1</td>\n",
       "      <td>160.263861</td>\n",
       "      <td>2</td>\n",
       "      <td>Male</td>\n",
       "      <td>ios</td>\n",
       "    </tr>\n",
       "  </tbody>\n",
       "</table>\n",
       "<p>10000 rows × 6 columns</p>\n",
       "</div>"
      ],
      "text/plain": [
       "        id  is_holiday      watched  sessions  gender platform\n",
       "0        0           0   601.893096         4    Male      ios\n",
       "1        0           1   170.704127         1    Male  android\n",
       "2        1           0   327.533247         3  Female      web\n",
       "3        1           1   210.543492         6  Female      ios\n",
       "4        2           0   271.548875         7  Female      web\n",
       "...    ...         ...          ...       ...     ...      ...\n",
       "9995  4997           1    65.368574         2    Male      ios\n",
       "9996  4998           0  1051.360035         4  Female      web\n",
       "9997  4998           1    37.282837        10  Female  android\n",
       "9998  4999           0   245.553217         6    Male  android\n",
       "9999  4999           1   160.263861         2    Male      ios\n",
       "\n",
       "[10000 rows x 6 columns]"
      ]
     },
     "execution_count": 9,
     "metadata": {},
     "output_type": "execute_result"
    }
   ],
   "source": [
    "aggregator.fit_transform(\n",
    "    data,\n",
    "    groupby_columns=['id', 'is_holiday'],\n",
    "    agg_params={\n",
    "        'watched': 'sum',\n",
    "        'sessions': 'max',\n",
    "        'gender': 'simple',  # simple - choose the first possible value\n",
    "        'platform': 'mode'\n",
    "    })"
   ]
  },
  {
   "cell_type": "markdown",
   "id": "5b75ed11",
   "metadata": {},
   "source": [
    "Check and store instance parameters in a file"
   ]
  },
  {
   "cell_type": "code",
   "execution_count": 10,
   "id": "0ec8327d",
   "metadata": {},
   "outputs": [
    {
     "data": {
      "text/plain": [
       "{'aggregation_params': {'watched': 'sum',\n",
       "  'sessions': 'max',\n",
       "  'gender': 'simple',\n",
       "  'platform': 'mode'},\n",
       " 'groupby_columns': ['id', 'is_holiday']}"
      ]
     },
     "execution_count": 10,
     "metadata": {},
     "output_type": "execute_result"
    }
   ],
   "source": [
    "aggregator.get_params_dict()"
   ]
  },
  {
   "cell_type": "code",
   "execution_count": 11,
   "id": "2cf4097b",
   "metadata": {},
   "outputs": [],
   "source": [
    "aggregator.store_params('_examples_configs/aggregator.json')"
   ]
  },
  {
   "cell_type": "markdown",
   "id": "4dc6b971",
   "metadata": {},
   "source": [
    "Create new instance"
   ]
  },
  {
   "cell_type": "code",
   "execution_count": 12,
   "id": "9baae40e",
   "metadata": {},
   "outputs": [],
   "source": [
    "aggregator_loaded = AggregatePreprocessor()"
   ]
  },
  {
   "cell_type": "markdown",
   "id": "194fa705",
   "metadata": {},
   "source": [
    "Load parameters"
   ]
  },
  {
   "cell_type": "code",
   "execution_count": 13,
   "id": "965006a5",
   "metadata": {},
   "outputs": [],
   "source": [
    "aggregator_loaded.load_params('_examples_configs/aggregator.json')"
   ]
  },
  {
   "cell_type": "code",
   "execution_count": 14,
   "id": "be530447",
   "metadata": {},
   "outputs": [
    {
     "data": {
      "text/plain": [
       "{'aggregation_params': {'watched': 'sum',\n",
       "  'sessions': 'max',\n",
       "  'gender': 'simple',\n",
       "  'platform': 'mode'},\n",
       " 'groupby_columns': ['id', 'is_holiday']}"
      ]
     },
     "execution_count": 14,
     "metadata": {},
     "output_type": "execute_result"
    }
   ],
   "source": [
    "aggregator_loaded.get_params_dict()"
   ]
  },
  {
   "cell_type": "markdown",
   "id": "fa20cac6",
   "metadata": {},
   "source": [
    "Aggregate data"
   ]
  },
  {
   "cell_type": "code",
   "execution_count": 15,
   "id": "68514941",
   "metadata": {},
   "outputs": [],
   "source": [
    "data_aggregated = aggregator_loaded.transform(data)"
   ]
  },
  {
   "cell_type": "code",
   "execution_count": 16,
   "id": "ca6fb81c",
   "metadata": {},
   "outputs": [
    {
     "data": {
      "text/html": [
       "<div>\n",
       "<style scoped>\n",
       "    .dataframe tbody tr th:only-of-type {\n",
       "        vertical-align: middle;\n",
       "    }\n",
       "\n",
       "    .dataframe tbody tr th {\n",
       "        vertical-align: top;\n",
       "    }\n",
       "\n",
       "    .dataframe thead th {\n",
       "        text-align: right;\n",
       "    }\n",
       "</style>\n",
       "<table border=\"1\" class=\"dataframe\">\n",
       "  <thead>\n",
       "    <tr style=\"text-align: right;\">\n",
       "      <th></th>\n",
       "      <th>id</th>\n",
       "      <th>is_holiday</th>\n",
       "      <th>watched</th>\n",
       "      <th>sessions</th>\n",
       "      <th>gender</th>\n",
       "      <th>platform</th>\n",
       "    </tr>\n",
       "  </thead>\n",
       "  <tbody>\n",
       "    <tr>\n",
       "      <th>0</th>\n",
       "      <td>0</td>\n",
       "      <td>0</td>\n",
       "      <td>601.893096</td>\n",
       "      <td>4</td>\n",
       "      <td>Male</td>\n",
       "      <td>ios</td>\n",
       "    </tr>\n",
       "    <tr>\n",
       "      <th>1</th>\n",
       "      <td>0</td>\n",
       "      <td>1</td>\n",
       "      <td>170.704127</td>\n",
       "      <td>1</td>\n",
       "      <td>Male</td>\n",
       "      <td>android</td>\n",
       "    </tr>\n",
       "    <tr>\n",
       "      <th>2</th>\n",
       "      <td>1</td>\n",
       "      <td>0</td>\n",
       "      <td>327.533247</td>\n",
       "      <td>3</td>\n",
       "      <td>Female</td>\n",
       "      <td>web</td>\n",
       "    </tr>\n",
       "    <tr>\n",
       "      <th>3</th>\n",
       "      <td>1</td>\n",
       "      <td>1</td>\n",
       "      <td>210.543492</td>\n",
       "      <td>6</td>\n",
       "      <td>Female</td>\n",
       "      <td>ios</td>\n",
       "    </tr>\n",
       "    <tr>\n",
       "      <th>4</th>\n",
       "      <td>2</td>\n",
       "      <td>0</td>\n",
       "      <td>271.548875</td>\n",
       "      <td>7</td>\n",
       "      <td>Female</td>\n",
       "      <td>web</td>\n",
       "    </tr>\n",
       "  </tbody>\n",
       "</table>\n",
       "</div>"
      ],
      "text/plain": [
       "   id  is_holiday     watched  sessions  gender platform\n",
       "0   0           0  601.893096         4    Male      ios\n",
       "1   0           1  170.704127         1    Male  android\n",
       "2   1           0  327.533247         3  Female      web\n",
       "3   1           1  210.543492         6  Female      ios\n",
       "4   2           0  271.548875         7  Female      web"
      ]
     },
     "execution_count": 16,
     "metadata": {},
     "output_type": "execute_result"
    }
   ],
   "source": [
    "data_aggregated.head()"
   ]
  },
  {
   "cell_type": "markdown",
   "id": "0a44acc7",
   "metadata": {},
   "source": [
    "---"
   ]
  },
  {
   "cell_type": "markdown",
   "id": "b243372a",
   "metadata": {},
   "source": [
    "## Cleaning the outliers"
   ]
  },
  {
   "cell_type": "markdown",
   "id": "eb74eb97",
   "metadata": {},
   "source": [
    "In many problems, we need to get rid of outliers in the data in order to make the results more reliable and applied statistical tests more sensitive. \n",
    "\n",
    "For this purpose, the library contains 2 classes: ``RobustPreprocessor`` and ``IQRPreprocessor``. \\\n",
    "We will remove some rows from our aggregated data using these techniques."
   ]
  },
  {
   "cell_type": "markdown",
   "id": "92448cd9",
   "metadata": {},
   "source": [
    "---"
   ]
  },
  {
   "cell_type": "markdown",
   "id": "ed44316e",
   "metadata": {},
   "source": [
    "### ``RobustPreprocessor``"
   ]
  },
  {
   "cell_type": "markdown",
   "id": "4a9b275e",
   "metadata": {},
   "source": [
    "The ``RobustPreprocessor`` removes objects that fall into the tails of the empirical distribution of the metrics that is estimaed form the passed data. The type of tail and its size for threshold calculation is specified by the user during fitting the data."
   ]
  },
  {
   "cell_type": "markdown",
   "id": "ccc03734",
   "metadata": {},
   "source": [
    "Let's create an instance"
   ]
  },
  {
   "cell_type": "code",
   "execution_count": 17,
   "id": "7d8acd67",
   "metadata": {},
   "outputs": [],
   "source": [
    "robust_transformer = RobustPreprocessor()"
   ]
  },
  {
   "cell_type": "markdown",
   "id": "35cdb4a5",
   "metadata": {},
   "source": [
    "Fit transformer"
   ]
  },
  {
   "cell_type": "code",
   "execution_count": 18,
   "id": "5bcbbce0",
   "metadata": {},
   "outputs": [
    {
     "data": {
      "text/plain": [
       "<ambrosia.preprocessing.robust.RobustPreprocessor at 0x13ebc0c40>"
      ]
     },
     "execution_count": 18,
     "metadata": {},
     "output_type": "execute_result"
    }
   ],
   "source": [
    "robust_transformer.fit(dataframe=data_aggregated,\n",
    "                       column_names='watched',\n",
    "                       alpha=0.01,\n",
    "                       tail='right')"
   ]
  },
  {
   "cell_type": "markdown",
   "id": "457e92ad",
   "metadata": {},
   "source": [
    "Check fitted params"
   ]
  },
  {
   "cell_type": "code",
   "execution_count": 19,
   "id": "203775ce",
   "metadata": {},
   "outputs": [
    {
     "data": {
      "text/plain": [
       "{'tail': 'right',\n",
       " 'column_names': ['watched'],\n",
       " 'alpha': [0.01],\n",
       " 'quantiles': [[1049.5734329308516]]}"
      ]
     },
     "execution_count": 19,
     "metadata": {},
     "output_type": "execute_result"
    }
   ],
   "source": [
    "robust_transformer.get_params_dict()"
   ]
  },
  {
   "cell_type": "markdown",
   "id": "b93d1ba9",
   "metadata": {},
   "source": [
    "Transform data (1% of rows will be removed, because this is the same dataframe)"
   ]
  },
  {
   "cell_type": "code",
   "execution_count": 20,
   "id": "d57f9d17",
   "metadata": {},
   "outputs": [
    {
     "name": "stderr",
     "output_type": "stream",
     "text": [
      "ambrosia LOGGER: Making right-tail robust transformation of columns ['watched']\n",
      "                 with alphas = [0.01]\n",
      "ambrosia LOGGER: \n",
      "\n",
      "ambrosia LOGGER: Change Mean watched: 350.8333 ===> 342.2530\n",
      "ambrosia LOGGER: Change Variance watched: 56929.6826 ===> 49971.0812\n",
      "ambrosia LOGGER: Change IQR watched: 331.3509 ===> 325.2846\n",
      "ambrosia LOGGER: Change Range watched: 1566.7685 ===> 1047.1196\n"
     ]
    },
    {
     "data": {
      "text/html": [
       "<div>\n",
       "<style scoped>\n",
       "    .dataframe tbody tr th:only-of-type {\n",
       "        vertical-align: middle;\n",
       "    }\n",
       "\n",
       "    .dataframe tbody tr th {\n",
       "        vertical-align: top;\n",
       "    }\n",
       "\n",
       "    .dataframe thead th {\n",
       "        text-align: right;\n",
       "    }\n",
       "</style>\n",
       "<table border=\"1\" class=\"dataframe\">\n",
       "  <thead>\n",
       "    <tr style=\"text-align: right;\">\n",
       "      <th></th>\n",
       "      <th>id</th>\n",
       "      <th>is_holiday</th>\n",
       "      <th>watched</th>\n",
       "      <th>sessions</th>\n",
       "      <th>gender</th>\n",
       "      <th>platform</th>\n",
       "    </tr>\n",
       "  </thead>\n",
       "  <tbody>\n",
       "    <tr>\n",
       "      <th>0</th>\n",
       "      <td>0</td>\n",
       "      <td>0</td>\n",
       "      <td>601.893096</td>\n",
       "      <td>4</td>\n",
       "      <td>Male</td>\n",
       "      <td>ios</td>\n",
       "    </tr>\n",
       "    <tr>\n",
       "      <th>1</th>\n",
       "      <td>0</td>\n",
       "      <td>1</td>\n",
       "      <td>170.704127</td>\n",
       "      <td>1</td>\n",
       "      <td>Male</td>\n",
       "      <td>android</td>\n",
       "    </tr>\n",
       "    <tr>\n",
       "      <th>2</th>\n",
       "      <td>1</td>\n",
       "      <td>0</td>\n",
       "      <td>327.533247</td>\n",
       "      <td>3</td>\n",
       "      <td>Female</td>\n",
       "      <td>web</td>\n",
       "    </tr>\n",
       "    <tr>\n",
       "      <th>3</th>\n",
       "      <td>1</td>\n",
       "      <td>1</td>\n",
       "      <td>210.543492</td>\n",
       "      <td>6</td>\n",
       "      <td>Female</td>\n",
       "      <td>ios</td>\n",
       "    </tr>\n",
       "    <tr>\n",
       "      <th>4</th>\n",
       "      <td>2</td>\n",
       "      <td>0</td>\n",
       "      <td>271.548875</td>\n",
       "      <td>7</td>\n",
       "      <td>Female</td>\n",
       "      <td>web</td>\n",
       "    </tr>\n",
       "    <tr>\n",
       "      <th>...</th>\n",
       "      <td>...</td>\n",
       "      <td>...</td>\n",
       "      <td>...</td>\n",
       "      <td>...</td>\n",
       "      <td>...</td>\n",
       "      <td>...</td>\n",
       "    </tr>\n",
       "    <tr>\n",
       "      <th>9994</th>\n",
       "      <td>4997</td>\n",
       "      <td>0</td>\n",
       "      <td>139.344458</td>\n",
       "      <td>6</td>\n",
       "      <td>Male</td>\n",
       "      <td>android</td>\n",
       "    </tr>\n",
       "    <tr>\n",
       "      <th>9995</th>\n",
       "      <td>4997</td>\n",
       "      <td>1</td>\n",
       "      <td>65.368574</td>\n",
       "      <td>2</td>\n",
       "      <td>Male</td>\n",
       "      <td>ios</td>\n",
       "    </tr>\n",
       "    <tr>\n",
       "      <th>9997</th>\n",
       "      <td>4998</td>\n",
       "      <td>1</td>\n",
       "      <td>37.282837</td>\n",
       "      <td>10</td>\n",
       "      <td>Female</td>\n",
       "      <td>android</td>\n",
       "    </tr>\n",
       "    <tr>\n",
       "      <th>9998</th>\n",
       "      <td>4999</td>\n",
       "      <td>0</td>\n",
       "      <td>245.553217</td>\n",
       "      <td>6</td>\n",
       "      <td>Male</td>\n",
       "      <td>android</td>\n",
       "    </tr>\n",
       "    <tr>\n",
       "      <th>9999</th>\n",
       "      <td>4999</td>\n",
       "      <td>1</td>\n",
       "      <td>160.263861</td>\n",
       "      <td>2</td>\n",
       "      <td>Male</td>\n",
       "      <td>ios</td>\n",
       "    </tr>\n",
       "  </tbody>\n",
       "</table>\n",
       "<p>9900 rows × 6 columns</p>\n",
       "</div>"
      ],
      "text/plain": [
       "        id  is_holiday     watched  sessions  gender platform\n",
       "0        0           0  601.893096         4    Male      ios\n",
       "1        0           1  170.704127         1    Male  android\n",
       "2        1           0  327.533247         3  Female      web\n",
       "3        1           1  210.543492         6  Female      ios\n",
       "4        2           0  271.548875         7  Female      web\n",
       "...    ...         ...         ...       ...     ...      ...\n",
       "9994  4997           0  139.344458         6    Male  android\n",
       "9995  4997           1   65.368574         2    Male      ios\n",
       "9997  4998           1   37.282837        10  Female  android\n",
       "9998  4999           0  245.553217         6    Male  android\n",
       "9999  4999           1  160.263861         2    Male      ios\n",
       "\n",
       "[9900 rows x 6 columns]"
      ]
     },
     "execution_count": 20,
     "metadata": {},
     "output_type": "execute_result"
    }
   ],
   "source": [
    "robust_transformer.transform(data_aggregated)"
   ]
  },
  {
   "cell_type": "markdown",
   "id": "77b4e492",
   "metadata": {},
   "source": [
    "For all our preprocessing classes we have same methods for storing and loading parameters. This is useful to process the data in the future in the same way."
   ]
  },
  {
   "cell_type": "code",
   "execution_count": 21,
   "id": "1bffd782",
   "metadata": {},
   "outputs": [],
   "source": [
    "robust_transformer.store_params('_examples_configs/robust.json')"
   ]
  },
  {
   "cell_type": "markdown",
   "id": "2adfd696",
   "metadata": {},
   "source": [
    "Recreate instance"
   ]
  },
  {
   "cell_type": "code",
   "execution_count": 22,
   "id": "e99b8580",
   "metadata": {},
   "outputs": [],
   "source": [
    "del robust_transformer\n",
    "\n",
    "robust_transformer = RobustPreprocessor()"
   ]
  },
  {
   "cell_type": "markdown",
   "id": "988f98bf",
   "metadata": {},
   "source": [
    "Load params"
   ]
  },
  {
   "cell_type": "code",
   "execution_count": 23,
   "id": "c51bf5ff",
   "metadata": {},
   "outputs": [],
   "source": [
    "robust_transformer.load_params('_examples_configs/robust.json')"
   ]
  },
  {
   "cell_type": "markdown",
   "id": "a0cefe2b",
   "metadata": {},
   "source": [
    "Transform data (we get the same transformation as before)"
   ]
  },
  {
   "cell_type": "code",
   "execution_count": 24,
   "id": "7f447cc9",
   "metadata": {},
   "outputs": [
    {
     "name": "stderr",
     "output_type": "stream",
     "text": [
      "ambrosia LOGGER: Making right-tail robust transformation of columns ['watched']\n",
      "                 with alphas = [0.01]\n",
      "ambrosia LOGGER: \n",
      "\n",
      "ambrosia LOGGER: Change Mean watched: 350.8333 ===> 342.2530\n",
      "ambrosia LOGGER: Change Variance watched: 56929.6826 ===> 49971.0812\n",
      "ambrosia LOGGER: Change IQR watched: 331.3509 ===> 325.2846\n",
      "ambrosia LOGGER: Change Range watched: 1566.7685 ===> 1047.1196\n"
     ]
    },
    {
     "data": {
      "text/html": [
       "<div>\n",
       "<style scoped>\n",
       "    .dataframe tbody tr th:only-of-type {\n",
       "        vertical-align: middle;\n",
       "    }\n",
       "\n",
       "    .dataframe tbody tr th {\n",
       "        vertical-align: top;\n",
       "    }\n",
       "\n",
       "    .dataframe thead th {\n",
       "        text-align: right;\n",
       "    }\n",
       "</style>\n",
       "<table border=\"1\" class=\"dataframe\">\n",
       "  <thead>\n",
       "    <tr style=\"text-align: right;\">\n",
       "      <th></th>\n",
       "      <th>id</th>\n",
       "      <th>is_holiday</th>\n",
       "      <th>watched</th>\n",
       "      <th>sessions</th>\n",
       "      <th>gender</th>\n",
       "      <th>platform</th>\n",
       "    </tr>\n",
       "  </thead>\n",
       "  <tbody>\n",
       "    <tr>\n",
       "      <th>0</th>\n",
       "      <td>0</td>\n",
       "      <td>0</td>\n",
       "      <td>601.893096</td>\n",
       "      <td>4</td>\n",
       "      <td>Male</td>\n",
       "      <td>ios</td>\n",
       "    </tr>\n",
       "    <tr>\n",
       "      <th>1</th>\n",
       "      <td>0</td>\n",
       "      <td>1</td>\n",
       "      <td>170.704127</td>\n",
       "      <td>1</td>\n",
       "      <td>Male</td>\n",
       "      <td>android</td>\n",
       "    </tr>\n",
       "    <tr>\n",
       "      <th>2</th>\n",
       "      <td>1</td>\n",
       "      <td>0</td>\n",
       "      <td>327.533247</td>\n",
       "      <td>3</td>\n",
       "      <td>Female</td>\n",
       "      <td>web</td>\n",
       "    </tr>\n",
       "    <tr>\n",
       "      <th>3</th>\n",
       "      <td>1</td>\n",
       "      <td>1</td>\n",
       "      <td>210.543492</td>\n",
       "      <td>6</td>\n",
       "      <td>Female</td>\n",
       "      <td>ios</td>\n",
       "    </tr>\n",
       "    <tr>\n",
       "      <th>4</th>\n",
       "      <td>2</td>\n",
       "      <td>0</td>\n",
       "      <td>271.548875</td>\n",
       "      <td>7</td>\n",
       "      <td>Female</td>\n",
       "      <td>web</td>\n",
       "    </tr>\n",
       "    <tr>\n",
       "      <th>...</th>\n",
       "      <td>...</td>\n",
       "      <td>...</td>\n",
       "      <td>...</td>\n",
       "      <td>...</td>\n",
       "      <td>...</td>\n",
       "      <td>...</td>\n",
       "    </tr>\n",
       "    <tr>\n",
       "      <th>9994</th>\n",
       "      <td>4997</td>\n",
       "      <td>0</td>\n",
       "      <td>139.344458</td>\n",
       "      <td>6</td>\n",
       "      <td>Male</td>\n",
       "      <td>android</td>\n",
       "    </tr>\n",
       "    <tr>\n",
       "      <th>9995</th>\n",
       "      <td>4997</td>\n",
       "      <td>1</td>\n",
       "      <td>65.368574</td>\n",
       "      <td>2</td>\n",
       "      <td>Male</td>\n",
       "      <td>ios</td>\n",
       "    </tr>\n",
       "    <tr>\n",
       "      <th>9997</th>\n",
       "      <td>4998</td>\n",
       "      <td>1</td>\n",
       "      <td>37.282837</td>\n",
       "      <td>10</td>\n",
       "      <td>Female</td>\n",
       "      <td>android</td>\n",
       "    </tr>\n",
       "    <tr>\n",
       "      <th>9998</th>\n",
       "      <td>4999</td>\n",
       "      <td>0</td>\n",
       "      <td>245.553217</td>\n",
       "      <td>6</td>\n",
       "      <td>Male</td>\n",
       "      <td>android</td>\n",
       "    </tr>\n",
       "    <tr>\n",
       "      <th>9999</th>\n",
       "      <td>4999</td>\n",
       "      <td>1</td>\n",
       "      <td>160.263861</td>\n",
       "      <td>2</td>\n",
       "      <td>Male</td>\n",
       "      <td>ios</td>\n",
       "    </tr>\n",
       "  </tbody>\n",
       "</table>\n",
       "<p>9900 rows × 6 columns</p>\n",
       "</div>"
      ],
      "text/plain": [
       "        id  is_holiday     watched  sessions  gender platform\n",
       "0        0           0  601.893096         4    Male      ios\n",
       "1        0           1  170.704127         1    Male  android\n",
       "2        1           0  327.533247         3  Female      web\n",
       "3        1           1  210.543492         6  Female      ios\n",
       "4        2           0  271.548875         7  Female      web\n",
       "...    ...         ...         ...       ...     ...      ...\n",
       "9994  4997           0  139.344458         6    Male  android\n",
       "9995  4997           1   65.368574         2    Male      ios\n",
       "9997  4998           1   37.282837        10  Female  android\n",
       "9998  4999           0  245.553217         6    Male  android\n",
       "9999  4999           1  160.263861         2    Male      ios\n",
       "\n",
       "[9900 rows x 6 columns]"
      ]
     },
     "execution_count": 24,
     "metadata": {},
     "output_type": "execute_result"
    }
   ],
   "source": [
    "robust_transformer.transform(data_aggregated)"
   ]
  },
  {
   "cell_type": "markdown",
   "id": "9ee1645b",
   "metadata": {},
   "source": [
    "The dispersion characteristics of the data have decreased."
   ]
  },
  {
   "cell_type": "markdown",
   "id": "416a7168",
   "metadata": {},
   "source": [
    "---"
   ]
  },
  {
   "cell_type": "markdown",
   "id": "e2f0f01c",
   "metadata": {},
   "source": [
    "### ``IQRPreprocessor``"
   ]
  },
  {
   "cell_type": "markdown",
   "id": "865368ec",
   "metadata": {},
   "source": [
    "The ``IQRPreprocessor`` class removes objects that go beyond the maximum and minimum values of the constructed boxplot based on the passed data with empirical distribution of the metrics."
   ]
  },
  {
   "cell_type": "markdown",
   "id": "930b4146",
   "metadata": {},
   "source": [
    "Again create an instance"
   ]
  },
  {
   "cell_type": "code",
   "execution_count": 25,
   "id": "29a02bd2",
   "metadata": {},
   "outputs": [],
   "source": [
    "iqr_transformer = IQRPreprocessor()"
   ]
  },
  {
   "cell_type": "markdown",
   "id": "d644e04e",
   "metadata": {},
   "source": [
    "Fit (this time we will use two metrics)"
   ]
  },
  {
   "cell_type": "code",
   "execution_count": 26,
   "id": "0335496d",
   "metadata": {},
   "outputs": [
    {
     "data": {
      "text/plain": [
       "<ambrosia.preprocessing.robust.IQRPreprocessor at 0x13ec32370>"
      ]
     },
     "execution_count": 26,
     "metadata": {},
     "output_type": "execute_result"
    }
   ],
   "source": [
    "iqr_transformer.fit(dataframe=data_aggregated,\n",
    "                    column_names=['watched', 'sessions'])"
   ]
  },
  {
   "cell_type": "markdown",
   "id": "4614e4e5",
   "metadata": {},
   "source": [
    "Look at fitted params"
   ]
  },
  {
   "cell_type": "code",
   "execution_count": 27,
   "id": "0afa9a1f",
   "metadata": {},
   "outputs": [
    {
     "data": {
      "text/plain": [
       "{'column_names': ['watched', 'sessions'],\n",
       " 'medians': [304.98240670946467, 4.0],\n",
       " 'quartiles': [[161.81242236582537, 493.1633345302498], [2.0, 7.0]]}"
      ]
     },
     "execution_count": 27,
     "metadata": {},
     "output_type": "execute_result"
    }
   ],
   "source": [
    "iqr_transformer.get_params_dict()"
   ]
  },
  {
   "cell_type": "markdown",
   "id": "6c91f04f",
   "metadata": {},
   "source": [
    "Transform data"
   ]
  },
  {
   "cell_type": "code",
   "execution_count": 28,
   "id": "f9a75704",
   "metadata": {},
   "outputs": [
    {
     "name": "stderr",
     "output_type": "stream",
     "text": [
      "ambrosia LOGGER: Making IQR transformation of columns ['watched', 'sessions']\n",
      "ambrosia LOGGER: \n",
      "\n",
      "ambrosia LOGGER: Change Mean watched: 350.8333 ===> 338.0876\n",
      "ambrosia LOGGER: Change Variance watched: 56929.6826 ===> 47660.8027\n",
      "ambrosia LOGGER: Change IQR watched: 331.3509 ===> 321.3204\n",
      "ambrosia LOGGER: Change Range watched: 1566.7685 ===> 987.6670\n",
      "ambrosia LOGGER: \n",
      "\n",
      "ambrosia LOGGER: Change Mean sessions: 4.8478 ===> 4.5908\n",
      "ambrosia LOGGER: Change Variance sessions: 12.5680 ===> 9.5394\n",
      "ambrosia LOGGER: Change IQR sessions: 5.0000 ===> 4.0000\n",
      "ambrosia LOGGER: Change Range sessions: 30.0000 ===> 14.0000\n"
     ]
    }
   ],
   "source": [
    "data_aggregated = iqr_transformer.transform(data_aggregated)"
   ]
  },
  {
   "cell_type": "markdown",
   "id": "da4bfe60",
   "metadata": {},
   "source": [
    "Check how many rows have been removed"
   ]
  },
  {
   "cell_type": "code",
   "execution_count": 29,
   "id": "94df0d58",
   "metadata": {},
   "outputs": [
    {
     "data": {
      "text/plain": [
       "(9662, 6)"
      ]
     },
     "execution_count": 29,
     "metadata": {},
     "output_type": "execute_result"
    }
   ],
   "source": [
    "data_aggregated.shape"
   ]
  },
  {
   "cell_type": "markdown",
   "id": "39a9c3ac",
   "metadata": {},
   "source": [
    "Class instance parameters can be stored and loaded from a file as well as for other classes."
   ]
  },
  {
   "cell_type": "markdown",
   "id": "5b3a679a",
   "metadata": {},
   "source": [
    "---"
   ]
  },
  {
   "cell_type": "markdown",
   "id": "623a3a0e",
   "metadata": {},
   "source": [
    "## Metric tranformations"
   ]
  },
  {
   "cell_type": "markdown",
   "id": "3273e3b7",
   "metadata": {},
   "source": [
    "For some tasks, we may want to transform metrics, for example, to reduce the variance or make distribution shape more normal (however, be careful with this procedure, as you may lose the interpretability of the metrics).\n",
    "\n",
    "For that purpose, we have implemented two common transformers: ``LogTransformer``, ``BoxCoxTransformer``. \\\n",
    "We will demonstrate their work on our ``watched`` data."
   ]
  },
  {
   "cell_type": "markdown",
   "id": "1f0fa4a2",
   "metadata": {},
   "source": [
    "---"
   ]
  },
  {
   "cell_type": "markdown",
   "id": "40bbe0a0",
   "metadata": {},
   "source": [
    "### ``LogTransformer``"
   ]
  },
  {
   "cell_type": "markdown",
   "id": "81462caf",
   "metadata": {},
   "source": [
    "This transformer simply applied a logarithmic transformation to the metrics. Since it has the same interface as other classes, we still need to fit it to the data and it will fit only the names of the columns."
   ]
  },
  {
   "cell_type": "markdown",
   "id": "a4a83776",
   "metadata": {},
   "source": [
    "Create an instance"
   ]
  },
  {
   "cell_type": "code",
   "execution_count": 30,
   "id": "c6ab487e",
   "metadata": {},
   "outputs": [],
   "source": [
    "log_transformer = LogTransformer()"
   ]
  },
  {
   "cell_type": "markdown",
   "id": "1841bd71",
   "metadata": {},
   "source": [
    "Fit transformer"
   ]
  },
  {
   "cell_type": "code",
   "execution_count": 31,
   "id": "57cafe9e",
   "metadata": {},
   "outputs": [
    {
     "data": {
      "text/plain": [
       "<ambrosia.preprocessing.transformers.LogTransformer at 0x13ec3f580>"
      ]
     },
     "execution_count": 31,
     "metadata": {},
     "output_type": "execute_result"
    }
   ],
   "source": [
    "log_transformer.fit(dataframe=data_aggregated, column_names=['watched'])"
   ]
  },
  {
   "cell_type": "markdown",
   "id": "85c22906",
   "metadata": {},
   "source": [
    "Transform data"
   ]
  },
  {
   "cell_type": "code",
   "execution_count": 32,
   "id": "d6af34e7",
   "metadata": {},
   "outputs": [],
   "source": [
    "data_aggregated_logged = log_transformer.transform(data_aggregated)"
   ]
  },
  {
   "cell_type": "markdown",
   "id": "3bf2239e",
   "metadata": {},
   "source": [
    "Make sure that the variance of the metric has decreased after the transformation"
   ]
  },
  {
   "cell_type": "code",
   "execution_count": 33,
   "id": "3d4880f4",
   "metadata": {},
   "outputs": [
    {
     "name": "stdout",
     "output_type": "stream",
     "text": [
      "Original std: 218.32484049843603\n",
      "Log metric std: 0.827898247795576\n"
     ]
    }
   ],
   "source": [
    "print('Original std:', data_aggregated.watched.std())\n",
    "print('Log metric std:', data_aggregated_logged.watched.std())"
   ]
  },
  {
   "cell_type": "markdown",
   "id": "ab678d9f",
   "metadata": {},
   "source": [
    "Class instance parameters can be stored and loaded from a file."
   ]
  },
  {
   "cell_type": "markdown",
   "id": "914caf9b",
   "metadata": {},
   "source": [
    "---"
   ]
  },
  {
   "cell_type": "markdown",
   "id": "4629020a",
   "metadata": {},
   "source": [
    "### ``BoxCoxTransformer``"
   ]
  },
  {
   "cell_type": "markdown",
   "id": "02853022",
   "metadata": {},
   "source": [
    "This class uses the Box-Cox transformation from the power transformation family and allows to make the data distribution more normal. \\\n",
    "The ``lambda_`` power parameter of the transformation is selected automatically during fitting."
   ]
  },
  {
   "cell_type": "markdown",
   "id": "e12e086e",
   "metadata": {},
   "source": [
    "Create an instance"
   ]
  },
  {
   "cell_type": "code",
   "execution_count": 34,
   "id": "e1c9e72f",
   "metadata": {},
   "outputs": [],
   "source": [
    "boxcox_transformer = BoxCoxTransformer()"
   ]
  },
  {
   "cell_type": "markdown",
   "id": "51a92ca5",
   "metadata": {},
   "source": [
    "Fit transformer"
   ]
  },
  {
   "cell_type": "code",
   "execution_count": 35,
   "id": "dfaa8bba",
   "metadata": {},
   "outputs": [
    {
     "data": {
      "text/plain": [
       "<ambrosia.preprocessing.transformers.BoxCoxTransformer at 0x13ec4a460>"
      ]
     },
     "execution_count": 35,
     "metadata": {},
     "output_type": "execute_result"
    }
   ],
   "source": [
    "boxcox_transformer.fit(dataframe=data_aggregated, column_names=['watched'])"
   ]
  },
  {
   "cell_type": "markdown",
   "id": "dba07b10",
   "metadata": {},
   "source": [
    "Transform data"
   ]
  },
  {
   "cell_type": "code",
   "execution_count": 36,
   "id": "bcca2454",
   "metadata": {},
   "outputs": [
    {
     "data": {
      "text/html": [
       "<div>\n",
       "<style scoped>\n",
       "    .dataframe tbody tr th:only-of-type {\n",
       "        vertical-align: middle;\n",
       "    }\n",
       "\n",
       "    .dataframe tbody tr th {\n",
       "        vertical-align: top;\n",
       "    }\n",
       "\n",
       "    .dataframe thead th {\n",
       "        text-align: right;\n",
       "    }\n",
       "</style>\n",
       "<table border=\"1\" class=\"dataframe\">\n",
       "  <thead>\n",
       "    <tr style=\"text-align: right;\">\n",
       "      <th></th>\n",
       "      <th>id</th>\n",
       "      <th>is_holiday</th>\n",
       "      <th>watched</th>\n",
       "      <th>sessions</th>\n",
       "      <th>gender</th>\n",
       "      <th>platform</th>\n",
       "    </tr>\n",
       "  </thead>\n",
       "  <tbody>\n",
       "    <tr>\n",
       "      <th>0</th>\n",
       "      <td>0</td>\n",
       "      <td>0</td>\n",
       "      <td>34.356077</td>\n",
       "      <td>4</td>\n",
       "      <td>Male</td>\n",
       "      <td>ios</td>\n",
       "    </tr>\n",
       "    <tr>\n",
       "      <th>1</th>\n",
       "      <td>0</td>\n",
       "      <td>1</td>\n",
       "      <td>18.974271</td>\n",
       "      <td>1</td>\n",
       "      <td>Male</td>\n",
       "      <td>android</td>\n",
       "    </tr>\n",
       "    <tr>\n",
       "      <th>2</th>\n",
       "      <td>1</td>\n",
       "      <td>0</td>\n",
       "      <td>25.887571</td>\n",
       "      <td>3</td>\n",
       "      <td>Female</td>\n",
       "      <td>web</td>\n",
       "    </tr>\n",
       "    <tr>\n",
       "      <th>3</th>\n",
       "      <td>1</td>\n",
       "      <td>1</td>\n",
       "      <td>20.991262</td>\n",
       "      <td>6</td>\n",
       "      <td>Female</td>\n",
       "      <td>ios</td>\n",
       "    </tr>\n",
       "    <tr>\n",
       "      <th>4</th>\n",
       "      <td>2</td>\n",
       "      <td>0</td>\n",
       "      <td>23.696137</td>\n",
       "      <td>7</td>\n",
       "      <td>Female</td>\n",
       "      <td>web</td>\n",
       "    </tr>\n",
       "    <tr>\n",
       "      <th>...</th>\n",
       "      <td>...</td>\n",
       "      <td>...</td>\n",
       "      <td>...</td>\n",
       "      <td>...</td>\n",
       "      <td>...</td>\n",
       "      <td>...</td>\n",
       "    </tr>\n",
       "    <tr>\n",
       "      <th>9994</th>\n",
       "      <td>4997</td>\n",
       "      <td>0</td>\n",
       "      <td>17.188778</td>\n",
       "      <td>6</td>\n",
       "      <td>Male</td>\n",
       "      <td>android</td>\n",
       "    </tr>\n",
       "    <tr>\n",
       "      <th>9995</th>\n",
       "      <td>4997</td>\n",
       "      <td>1</td>\n",
       "      <td>11.753853</td>\n",
       "      <td>2</td>\n",
       "      <td>Male</td>\n",
       "      <td>ios</td>\n",
       "    </tr>\n",
       "    <tr>\n",
       "      <th>9997</th>\n",
       "      <td>4998</td>\n",
       "      <td>1</td>\n",
       "      <td>8.726168</td>\n",
       "      <td>10</td>\n",
       "      <td>Female</td>\n",
       "      <td>android</td>\n",
       "    </tr>\n",
       "    <tr>\n",
       "      <th>9998</th>\n",
       "      <td>4999</td>\n",
       "      <td>0</td>\n",
       "      <td>22.590802</td>\n",
       "      <td>6</td>\n",
       "      <td>Male</td>\n",
       "      <td>android</td>\n",
       "    </tr>\n",
       "    <tr>\n",
       "      <th>9999</th>\n",
       "      <td>4999</td>\n",
       "      <td>1</td>\n",
       "      <td>18.402294</td>\n",
       "      <td>2</td>\n",
       "      <td>Male</td>\n",
       "      <td>ios</td>\n",
       "    </tr>\n",
       "  </tbody>\n",
       "</table>\n",
       "<p>9662 rows × 6 columns</p>\n",
       "</div>"
      ],
      "text/plain": [
       "        id  is_holiday    watched  sessions  gender platform\n",
       "0        0           0  34.356077         4    Male      ios\n",
       "1        0           1  18.974271         1    Male  android\n",
       "2        1           0  25.887571         3  Female      web\n",
       "3        1           1  20.991262         6  Female      ios\n",
       "4        2           0  23.696137         7  Female      web\n",
       "...    ...         ...        ...       ...     ...      ...\n",
       "9994  4997           0  17.188778         6    Male  android\n",
       "9995  4997           1  11.753853         2    Male      ios\n",
       "9997  4998           1   8.726168        10  Female  android\n",
       "9998  4999           0  22.590802         6    Male  android\n",
       "9999  4999           1  18.402294         2    Male      ios\n",
       "\n",
       "[9662 rows x 6 columns]"
      ]
     },
     "execution_count": 36,
     "metadata": {},
     "output_type": "execute_result"
    }
   ],
   "source": [
    "boxcox_transformer.transform(data_aggregated)"
   ]
  },
  {
   "cell_type": "markdown",
   "id": "fc41981c",
   "metadata": {},
   "source": [
    "Check fitted parameters"
   ]
  },
  {
   "cell_type": "code",
   "execution_count": 37,
   "id": "f5f8d8c0",
   "metadata": {},
   "outputs": [
    {
     "data": {
      "text/plain": [
       "{'column_names': ['watched'], 'lambda_': [0.4314844480895849]}"
      ]
     },
     "execution_count": 37,
     "metadata": {},
     "output_type": "execute_result"
    }
   ],
   "source": [
    "boxcox_transformer.get_params_dict()"
   ]
  },
  {
   "cell_type": "markdown",
   "id": "93730c1b",
   "metadata": {},
   "source": [
    "Store them in a file"
   ]
  },
  {
   "cell_type": "code",
   "execution_count": 38,
   "id": "7fb377ed",
   "metadata": {},
   "outputs": [],
   "source": [
    "boxcox_transformer.store_params('_examples_configs/boxcox_tranformer.json')"
   ]
  },
  {
   "cell_type": "markdown",
   "id": "3077641b",
   "metadata": {},
   "source": [
    "Create new instance"
   ]
  },
  {
   "cell_type": "code",
   "execution_count": 39,
   "id": "dfafe6cb",
   "metadata": {},
   "outputs": [],
   "source": [
    "boxcox_transformer_loaded = BoxCoxTransformer()"
   ]
  },
  {
   "cell_type": "markdown",
   "id": "e7df21e3",
   "metadata": {},
   "source": [
    "Load params"
   ]
  },
  {
   "cell_type": "code",
   "execution_count": 40,
   "id": "5b195b4b",
   "metadata": {},
   "outputs": [],
   "source": [
    "boxcox_transformer_loaded.load_params(\n",
    "    '_examples_configs/boxcox_tranformer.json')"
   ]
  },
  {
   "cell_type": "markdown",
   "id": "f52b7c7e",
   "metadata": {},
   "source": [
    "Transform metric and compare distribution shape with the unchanged one"
   ]
  },
  {
   "cell_type": "code",
   "execution_count": 41,
   "id": "5bb128f1",
   "metadata": {},
   "outputs": [
    {
     "data": {
      "text/plain": [
       "<AxesSubplot:xlabel='watched', ylabel='Count'>"
      ]
     },
     "execution_count": 41,
     "metadata": {},
     "output_type": "execute_result"
    },
    {
     "data": {
      "image/png": "[encoded data removed]",
      "text/plain": [
       "<Figure size 640x480 with 1 Axes>"
      ]
     },
     "metadata": {},
     "output_type": "display_data"
    }
   ],
   "source": [
    "sns.histplot(data_aggregated.watched)"
   ]
  },
  {
   "cell_type": "code",
   "execution_count": 42,
   "id": "4b7d1bac",
   "metadata": {},
   "outputs": [
    {
     "data": {
      "text/plain": [
       "<AxesSubplot:xlabel='watched', ylabel='Count'>"
      ]
     },
     "execution_count": 42,
     "metadata": {},
     "output_type": "execute_result"
    },
    {
     "data": {
      "image/png": "[encoded data removed]",
      "text/plain": [
       "<Figure size 640x480 with 1 Axes>"
      ]
     },
     "metadata": {},
     "output_type": "display_data"
    }
   ],
   "source": [
    "sns.histplot(boxcox_transformer_loaded.transform(data_aggregated).watched)"
   ]
  },
  {
   "cell_type": "markdown",
   "id": "33dbb890",
   "metadata": {},
   "source": [
    "Metric distribution becomes more normal"
   ]
  },
  {
   "cell_type": "markdown",
   "id": "6cc7fa9d",
   "metadata": {},
   "source": [
    "---"
   ]
  },
  {
   "cell_type": "markdown",
   "id": "39a78f80",
   "metadata": {},
   "source": [
    "*One note*: for convenience, all transformers can apply their transformation directly to the passed dataframe, just set the ``inplace`` parameter to ``True`` in the corresponding transformation method."
   ]
  },
  {
   "cell_type": "markdown",
   "id": "8bc26ac2",
   "metadata": {},
   "source": [
    "---"
   ]
  },
  {
   "cell_type": "markdown",
   "id": "5a3a8a87",
   "metadata": {},
   "source": [
    "*Ambrosia* preprocessing functionality is not limited to these classes\n",
    "\n",
    "Check:\n",
    "\n",
    "* An overview of advanced metric transformation to learn about different methods for reducing variance\n",
    "* An overview of the ``Preprocessor`` class - a convenient chain pipeline transformer that combines almost all      available preprocessing techniques in its methods\n",
    "* *Ambrosia* preprocessing modules documentation"
   ]
  }
 ],
 "metadata": {
  "kernelspec": {
   "display_name": "Python 3 (ipykernel)",
   "language": "python",
   "name": "python3"
  },
  "language_info": {
   "codemirror_mode": {
    "name": "ipython",
    "version": 3
   },
   "file_extension": ".py",
   "mimetype": "text/x-python",
   "name": "python",
   "nbconvert_exporter": "python",
   "pygments_lexer": "ipython3",
   "version": "3.9.16"
  },
  "varInspector": {
   "cols": {
    "lenName": 16,
    "lenType": 16,
    "lenVar": 40
   },
   "kernels_config": {
    "python": {
     "delete_cmd_postfix": "",
     "delete_cmd_prefix": "del ",
     "library": "var_list.py",
     "varRefreshCmd": "print(var_dic_list())"
    },
    "r": {
     "delete_cmd_postfix": ") ",
     "delete_cmd_prefix": "rm(",
     "library": "var_list.r",
     "varRefreshCmd": "cat(var_dic_list()) "
    }
   },
   "types_to_exclude": [
    "module",
    "function",
    "builtin_function_or_method",
    "instance",
    "_Feature"
   ],
   "window_display": false
  }
 },
 "nbformat": 4,
 "nbformat_minor": 5
}
