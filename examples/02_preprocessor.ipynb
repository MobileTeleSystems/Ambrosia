{
 "cells": [
  {
   "cell_type": "markdown",
   "id": "a4759f2c",
   "metadata": {},
   "source": [
    "# Chain ``Preprocessor`` class overview"
   ]
  },
  {
   "cell_type": "markdown",
   "id": "62252eb1",
   "metadata": {},
   "source": [
    "In this tutorial, we will look at the functionality of the sequential ``Preprocessor``, which combines in its methods most of the data processing classes implemented in *Ambrosia*.\n",
    "\n",
    "To demonstrate the capabilities of the class, we will use synthetic data on the time spent by users on video and audio content."
   ]
  },
  {
   "cell_type": "code",
   "execution_count": 1,
   "id": "fc66df27",
   "metadata": {},
   "outputs": [],
   "source": [
    "import sys, os\n",
    "sys.path.insert(1, os.path.realpath(os.path.pardir))"
   ]
  },
  {
   "cell_type": "code",
   "execution_count": 2,
   "id": "4e3821e0",
   "metadata": {},
   "outputs": [],
   "source": [
    "import numpy as np\n",
    "import pandas as pd\n",
    "\n",
    "from ambrosia.preprocessing import Preprocessor"
   ]
  },
  {
   "cell_type": "markdown",
   "id": "d57cbd38",
   "metadata": {},
   "source": [
    "Load data"
   ]
  },
  {
   "cell_type": "code",
   "execution_count": 3,
   "id": "a3ccf9e5",
   "metadata": {},
   "outputs": [],
   "source": [
    "data = pd.read_csv('../tests/test_data/pipeline_test.csv')"
   ]
  },
  {
   "cell_type": "markdown",
   "id": "551fe88c",
   "metadata": {},
   "source": [
    "This is daily data for users on a period of a week"
   ]
  },
  {
   "cell_type": "code",
   "execution_count": 4,
   "id": "9e6bf054",
   "metadata": {},
   "outputs": [
    {
     "data": {
      "text/html": [
       "<div>\n",
       "<style scoped>\n",
       "    .dataframe tbody tr th:only-of-type {\n",
       "        vertical-align: middle;\n",
       "    }\n",
       "\n",
       "    .dataframe tbody tr th {\n",
       "        vertical-align: top;\n",
       "    }\n",
       "\n",
       "    .dataframe thead th {\n",
       "        text-align: right;\n",
       "    }\n",
       "</style>\n",
       "<table border=\"1\" class=\"dataframe\">\n",
       "  <thead>\n",
       "    <tr style=\"text-align: right;\">\n",
       "      <th></th>\n",
       "      <th>id</th>\n",
       "      <th>gender</th>\n",
       "      <th>watched</th>\n",
       "      <th>audio</th>\n",
       "      <th>day</th>\n",
       "      <th>platform</th>\n",
       "    </tr>\n",
       "  </thead>\n",
       "  <tbody>\n",
       "    <tr>\n",
       "      <th>0</th>\n",
       "      <td>0</td>\n",
       "      <td>Male</td>\n",
       "      <td>7.912889</td>\n",
       "      <td>2.210973</td>\n",
       "      <td>1</td>\n",
       "      <td>web</td>\n",
       "    </tr>\n",
       "    <tr>\n",
       "      <th>1</th>\n",
       "      <td>1</td>\n",
       "      <td>Male</td>\n",
       "      <td>6.678690</td>\n",
       "      <td>0.020715</td>\n",
       "      <td>1</td>\n",
       "      <td>ios</td>\n",
       "    </tr>\n",
       "    <tr>\n",
       "      <th>2</th>\n",
       "      <td>2</td>\n",
       "      <td>Female</td>\n",
       "      <td>721.434299</td>\n",
       "      <td>59.996870</td>\n",
       "      <td>1</td>\n",
       "      <td>ios</td>\n",
       "    </tr>\n",
       "    <tr>\n",
       "      <th>3</th>\n",
       "      <td>3</td>\n",
       "      <td>Male</td>\n",
       "      <td>135.248218</td>\n",
       "      <td>18.982887</td>\n",
       "      <td>1</td>\n",
       "      <td>ios</td>\n",
       "    </tr>\n",
       "    <tr>\n",
       "      <th>4</th>\n",
       "      <td>4</td>\n",
       "      <td>Female</td>\n",
       "      <td>38.962917</td>\n",
       "      <td>8.324667</td>\n",
       "      <td>1</td>\n",
       "      <td>android</td>\n",
       "    </tr>\n",
       "  </tbody>\n",
       "</table>\n",
       "</div>"
      ],
      "text/plain": [
       "   id  gender     watched      audio  day platform\n",
       "0   0    Male    7.912889   2.210973    1      web\n",
       "1   1    Male    6.678690   0.020715    1      ios\n",
       "2   2  Female  721.434299  59.996870    1      ios\n",
       "3   3    Male  135.248218  18.982887    1      ios\n",
       "4   4  Female   38.962917   8.324667    1  android"
      ]
     },
     "execution_count": 4,
     "metadata": {},
     "output_type": "execute_result"
    }
   ],
   "source": [
    "data.head()"
   ]
  },
  {
   "cell_type": "markdown",
   "id": "8860407c",
   "metadata": {},
   "source": [
    "The ``Preprocessor`` class allows one to create custom sequential pipelines that include the steps of data aggregation, outlier removal, and metric transformation. These pipelines can be saved and loaded from files, making them suitable for ongoing data processing."
   ]
  },
  {
   "cell_type": "markdown",
   "id": "ce673f46",
   "metadata": {},
   "source": [
    "Let's create a class instance and pass data to it"
   ]
  },
  {
   "cell_type": "code",
   "execution_count": 14,
   "id": "e5f3b4d9",
   "metadata": {},
   "outputs": [],
   "source": [
    "preprocessor = Preprocessor(dataframe=data, verbose=True)"
   ]
  },
  {
   "cell_type": "markdown",
   "id": "4492234f",
   "metadata": {},
   "source": [
    "Now we will apply a number of preprocessing steps: aggregation, outliers removal and CUPED metric transformation for variance reduction\n",
    "\n",
    "For almost all of the individual data processing classes in *Ambrosia*, the ``Preprocessor`` class has a corresponding method. Check the class documentation to find out their aliases and capabilities."
   ]
  },
  {
   "cell_type": "code",
   "execution_count": 9,
   "id": "ff997634",
   "metadata": {},
   "outputs": [],
   "source": [
    "### Set detailed aggregation parameters\n",
    "agg_params = {\n",
    "    'watched': 'sum',\n",
    "    'audio': 'sum',\n",
    "    'gender': 'simple',  # simple - choose the first possible value\n",
    "    'platform': 'mode'\n",
    "}"
   ]
  },
  {
   "cell_type": "code",
   "execution_count": 15,
   "id": "003a2ab5",
   "metadata": {},
   "outputs": [
    {
     "name": "stderr",
     "output_type": "stream",
     "text": [
      "ambrosia LOGGER: Making right-tail robust transformation of columns ['watched', 'audio']\n",
      "                 with alphas = [0.01 0.01]\n",
      "ambrosia LOGGER: \n",
      "\n",
      "ambrosia LOGGER: Change Mean watched: 5343.8899 ===> 5170.2892\n",
      "ambrosia LOGGER: Change Variance watched: 10951522.1717 ===> 8739833.1681\n",
      "ambrosia LOGGER: Change IQR watched: 3958.8107 ===> 3856.7420\n",
      "ambrosia LOGGER: Change Range watched: 35983.1570 ===> 15681.7113\n",
      "ambrosia LOGGER: \n",
      "\n",
      "ambrosia LOGGER: Change Mean audio: 350.3962 ===> 344.7125\n",
      "ambrosia LOGGER: Change Variance audio: 17724.3973 ===> 15469.6160\n",
      "ambrosia LOGGER: Change IQR audio: 176.0167 ===> 172.6091\n",
      "ambrosia LOGGER: Change Range audio: 1098.9677 ===> 683.7463\n",
      "ambrosia LOGGER: After transformation СUPED for watched, the variance is 7.8360 % of the original\n",
      "ambrosia LOGGER: Variance transformation 8739833.1681 ===> 684853.6668\n"
     ]
    }
   ],
   "source": [
    "processed_data = preprocessor.aggregate(groupby_columns='id', agg_params=agg_params)\\\n",
    "                  .robust(['watched', 'audio'], alpha=0.01, tail='right') \\\n",
    "                  .cuped('watched', by='audio', transformed_name='watched_cuped') \\\n",
    "                  .data()"
   ]
  },
  {
   "cell_type": "markdown",
   "id": "cebd3a25",
   "metadata": {},
   "source": [
    "Note, that final ``data()`` method returns the result data frame."
   ]
  },
  {
   "cell_type": "code",
   "execution_count": 19,
   "id": "34da26a2",
   "metadata": {},
   "outputs": [
    {
     "data": {
      "text/html": [
       "<div>\n",
       "<style scoped>\n",
       "    .dataframe tbody tr th:only-of-type {\n",
       "        vertical-align: middle;\n",
       "    }\n",
       "\n",
       "    .dataframe tbody tr th {\n",
       "        vertical-align: top;\n",
       "    }\n",
       "\n",
       "    .dataframe thead th {\n",
       "        text-align: right;\n",
       "    }\n",
       "</style>\n",
       "<table border=\"1\" class=\"dataframe\">\n",
       "  <thead>\n",
       "    <tr style=\"text-align: right;\">\n",
       "      <th></th>\n",
       "      <th>id</th>\n",
       "      <th>watched</th>\n",
       "      <th>audio</th>\n",
       "      <th>gender</th>\n",
       "      <th>platform</th>\n",
       "      <th>watched_cuped</th>\n",
       "    </tr>\n",
       "  </thead>\n",
       "  <tbody>\n",
       "    <tr>\n",
       "      <th>0</th>\n",
       "      <td>0</td>\n",
       "      <td>2489.224016</td>\n",
       "      <td>213.817130</td>\n",
       "      <td>Male</td>\n",
       "      <td>web</td>\n",
       "      <td>5476.097797</td>\n",
       "    </tr>\n",
       "    <tr>\n",
       "      <th>1</th>\n",
       "      <td>1</td>\n",
       "      <td>3970.775664</td>\n",
       "      <td>281.958297</td>\n",
       "      <td>Male</td>\n",
       "      <td>ios</td>\n",
       "      <td>5402.751034</td>\n",
       "    </tr>\n",
       "    <tr>\n",
       "      <th>2</th>\n",
       "      <td>2</td>\n",
       "      <td>5900.186483</td>\n",
       "      <td>416.944150</td>\n",
       "      <td>Female</td>\n",
       "      <td>ios</td>\n",
       "      <td>4251.949148</td>\n",
       "    </tr>\n",
       "    <tr>\n",
       "      <th>3</th>\n",
       "      <td>3</td>\n",
       "      <td>5557.860998</td>\n",
       "      <td>384.782010</td>\n",
       "      <td>Male</td>\n",
       "      <td>web</td>\n",
       "      <td>4643.524511</td>\n",
       "    </tr>\n",
       "    <tr>\n",
       "      <th>4</th>\n",
       "      <td>4</td>\n",
       "      <td>7588.374990</td>\n",
       "      <td>448.263748</td>\n",
       "      <td>Female</td>\n",
       "      <td>android</td>\n",
       "      <td>5225.462582</td>\n",
       "    </tr>\n",
       "  </tbody>\n",
       "</table>\n",
       "</div>"
      ],
      "text/plain": [
       "   id      watched       audio  gender platform  watched_cuped\n",
       "0   0  2489.224016  213.817130    Male      web    5476.097797\n",
       "1   1  3970.775664  281.958297    Male      ios    5402.751034\n",
       "2   2  5900.186483  416.944150  Female      ios    4251.949148\n",
       "3   3  5557.860998  384.782010    Male      web    4643.524511\n",
       "4   4  7588.374990  448.263748  Female  android    5225.462582"
      ]
     },
     "execution_count": 19,
     "metadata": {},
     "output_type": "execute_result"
    }
   ],
   "source": [
    "processed_data.head()"
   ]
  },
  {
   "cell_type": "markdown",
   "id": "7f306085",
   "metadata": {},
   "source": [
    "Method ``transformations()`` allow to get a list of all applied transformations. Parameters of these transformations were fitted when the methods were executed"
   ]
  },
  {
   "cell_type": "code",
   "execution_count": 21,
   "id": "a03148a4",
   "metadata": {},
   "outputs": [
    {
     "data": {
      "text/plain": [
       "[<ambrosia.preprocessing.aggregate.AggregatePreprocessor at 0x134dad6d0>,\n",
       " <ambrosia.preprocessing.robust.RobustPreprocessor at 0x1347cea30>,\n",
       " <ambrosia.preprocessing.cuped.Cuped at 0x1349a2850>]"
      ]
     },
     "execution_count": 21,
     "metadata": {},
     "output_type": "execute_result"
    }
   ],
   "source": [
    "preprocessor.transformations()"
   ]
  },
  {
   "cell_type": "markdown",
   "id": "c58ae996",
   "metadata": {},
   "source": [
    "For many scenarios, it is useful to store executed transformations with fitted parameters for future use. \\\n",
    "For example, we may have some continuous batch data that we would like to transform, or we are waiting for some A/B test to finish and we need to process the data with the same pre-experimental parameters.\n",
    "\n",
    "For this, the ``Preprocessor`` has two methods that allow to save and load fitted transformations: ``store_transformations()`` and ``transform_from_config()``"
   ]
  },
  {
   "cell_type": "markdown",
   "id": "7254aa0f",
   "metadata": {},
   "source": [
    "First, let's store them"
   ]
  },
  {
   "cell_type": "code",
   "execution_count": 25,
   "id": "4124811b",
   "metadata": {},
   "outputs": [],
   "source": [
    "store_path = '_examples_configs/preprocessor.json'"
   ]
  },
  {
   "cell_type": "code",
   "execution_count": 26,
   "id": "81261537",
   "metadata": {},
   "outputs": [],
   "source": [
    "preprocessor.store_transformations(store_path=store_path)"
   ]
  },
  {
   "cell_type": "markdown",
   "id": "5830c098",
   "metadata": {},
   "source": [
    "Now imagine that in the future we would like to process the data using these stored transformations. \\\n",
    "For simplicity, we will use the same data"
   ]
  },
  {
   "cell_type": "markdown",
   "id": "4fc85fa4",
   "metadata": {},
   "source": [
    "Create new instance with data to process"
   ]
  },
  {
   "cell_type": "code",
   "execution_count": 29,
   "id": "0b3f0201",
   "metadata": {},
   "outputs": [],
   "source": [
    "future_preprocessor = Preprocessor(dataframe=data)"
   ]
  },
  {
   "cell_type": "markdown",
   "id": "a732de42",
   "metadata": {},
   "source": [
    "Pass a path to stored transformations"
   ]
  },
  {
   "cell_type": "code",
   "execution_count": 30,
   "id": "76d6eec0",
   "metadata": {},
   "outputs": [
    {
     "ename": "TypeError",
     "evalue": "transform() got an unexpected keyword argument 'inplace'",
     "output_type": "error",
     "traceback": [
      "\u001b[0;31m---------------------------------------------------------------------------\u001b[0m",
      "\u001b[0;31mTypeError\u001b[0m                                 Traceback (most recent call last)",
      "Cell \u001b[0;32mIn[30], line 1\u001b[0m\n\u001b[0;32m----> 1\u001b[0m \u001b[43mfuture_preprocessor\u001b[49m\u001b[38;5;241;43m.\u001b[39;49m\u001b[43mtransform_from_config\u001b[49m\u001b[43m(\u001b[49m\u001b[43mload_path\u001b[49m\u001b[38;5;241;43m=\u001b[39;49m\u001b[43mstore_path\u001b[49m\u001b[43m)\u001b[49m\n",
      "File \u001b[0;32m~/gitlab/Ambrosia/ambrosia/preprocessing/preprocessor.py:466\u001b[0m, in \u001b[0;36mPreprocessor.transform_from_config\u001b[0;34m(self, load_path)\u001b[0m\n\u001b[1;32m    452\u001b[0m \u001b[38;5;250m\u001b[39m\u001b[38;5;124;03m\"\"\"\u001b[39;00m\n\u001b[1;32m    453\u001b[0m \u001b[38;5;124;03mRun transformations from the config file on the internal data frame.\u001b[39;00m\n\u001b[1;32m    454\u001b[0m \n\u001b[0;32m   (...)\u001b[0m\n\u001b[1;32m    463\u001b[0m \u001b[38;5;124;03m    Transformed inner data frame\u001b[39;00m\n\u001b[1;32m    464\u001b[0m \u001b[38;5;124;03m\"\"\"\u001b[39;00m\n\u001b[1;32m    465\u001b[0m \u001b[38;5;28mself\u001b[39m\u001b[38;5;241m.\u001b[39mload_transformations(load_path)\n\u001b[0;32m--> 466\u001b[0m \u001b[38;5;28;01mreturn\u001b[39;00m \u001b[38;5;28;43mself\u001b[39;49m\u001b[38;5;241;43m.\u001b[39;49m\u001b[43mapply_transformations\u001b[49m\u001b[43m(\u001b[49m\u001b[43m)\u001b[49m\n",
      "File \u001b[0;32m~/gitlab/Ambrosia/ambrosia/preprocessing/preprocessor.py:448\u001b[0m, in \u001b[0;36mPreprocessor.apply_transformations\u001b[0;34m(self)\u001b[0m\n\u001b[1;32m    439\u001b[0m \u001b[38;5;250m\u001b[39m\u001b[38;5;124;03m\"\"\"\u001b[39;00m\n\u001b[1;32m    440\u001b[0m \u001b[38;5;124;03mApply all transformations to the inner data frame.\u001b[39;00m\n\u001b[1;32m    441\u001b[0m \n\u001b[0;32m   (...)\u001b[0m\n\u001b[1;32m    445\u001b[0m \u001b[38;5;124;03m    Transformed inner data frame\u001b[39;00m\n\u001b[1;32m    446\u001b[0m \u001b[38;5;124;03m\"\"\"\u001b[39;00m\n\u001b[1;32m    447\u001b[0m \u001b[38;5;28;01mfor\u001b[39;00m transformer \u001b[38;5;129;01min\u001b[39;00m \u001b[38;5;28mself\u001b[39m\u001b[38;5;241m.\u001b[39mtransformers:\n\u001b[0;32m--> 448\u001b[0m     \u001b[43mtransformer\u001b[49m\u001b[38;5;241;43m.\u001b[39;49m\u001b[43mtransform\u001b[49m\u001b[43m(\u001b[49m\u001b[38;5;28;43mself\u001b[39;49m\u001b[38;5;241;43m.\u001b[39;49m\u001b[43mdataframe\u001b[49m\u001b[43m,\u001b[49m\u001b[43m \u001b[49m\u001b[43minplace\u001b[49m\u001b[38;5;241;43m=\u001b[39;49m\u001b[38;5;28;43;01mTrue\u001b[39;49;00m\u001b[43m)\u001b[49m\n\u001b[1;32m    449\u001b[0m \u001b[38;5;28;01mreturn\u001b[39;00m \u001b[38;5;28mself\u001b[39m\u001b[38;5;241m.\u001b[39mdata()\n",
      "\u001b[0;31mTypeError\u001b[0m: transform() got an unexpected keyword argument 'inplace'"
     ]
    }
   ],
   "source": [
    "future_preprocessor.transform_from_config(load_path=store_path)"
   ]
  },
  {
   "cell_type": "markdown",
   "id": "1afbd742",
   "metadata": {},
   "source": [
    "---"
   ]
  },
  {
   "cell_type": "markdown",
   "id": "41cffa7c",
   "metadata": {},
   "source": [
    "To learn more about the transformations that can be used in the ``Preprocessor``, their functionality and usage\n",
    "\n",
    "Check:\n",
    "- ``Preprocessor`` class documentation\n",
    "- An overview of *Ambrosia* main data preprocessing tools\n",
    "- An overview of advanced metric transformation to learn about different methods for reducing variance"
   ]
  }
 ],
 "metadata": {
  "kernelspec": {
   "display_name": "Python 3 (ipykernel)",
   "language": "python",
   "name": "python3"
  },
  "language_info": {
   "codemirror_mode": {
    "name": "ipython",
    "version": 3
   },
   "file_extension": ".py",
   "mimetype": "text/x-python",
   "name": "python",
   "nbconvert_exporter": "python",
   "pygments_lexer": "ipython3",
   "version": "3.9.16"
  },
  "varInspector": {
   "cols": {
    "lenName": 16,
    "lenType": 16,
    "lenVar": 40
   },
   "kernels_config": {
    "python": {
     "delete_cmd_postfix": "",
     "delete_cmd_prefix": "del ",
     "library": "var_list.py",
     "varRefreshCmd": "print(var_dic_list())"
    },
    "r": {
     "delete_cmd_postfix": ") ",
     "delete_cmd_prefix": "rm(",
     "library": "var_list.r",
     "varRefreshCmd": "cat(var_dic_list()) "
    }
   },
   "types_to_exclude": [
    "module",
    "function",
    "builtin_function_or_method",
    "instance",
    "_Feature"
   ],
   "window_display": false
  }
 },
 "nbformat": 4,
 "nbformat_minor": 5
}
