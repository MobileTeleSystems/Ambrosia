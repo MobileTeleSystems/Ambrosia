{
 "cells": [
  {
   "cell_type": "markdown",
   "id": "2e99ccd3",
   "metadata": {},
   "source": [
    "# Example of the ``Tester`` class usage for evaluation of the effect"
   ]
  },
  {
   "cell_type": "markdown",
   "id": "9999b2d7",
   "metadata": {},
   "source": [
    "This tutorial will show how *Amrosia* testing tools can be used to create statistical evaluation of the effects in the experiments."
   ]
  },
  {
   "cell_type": "markdown",
   "id": "f93f3ac8",
   "metadata": {},
   "source": [
    "Usually when we make statistical evaluation, we have pre-selected statistical criteria and first error decision threshold on the experiment design stage.\n",
    "\n",
    "The experimenters compare the p-value obtained after the experiment with the first error threshold and obtain a point estimate of the effect with constructed confidence intervals."
   ]
  },
  {
   "cell_type": "markdown",
   "id": "f9f26fef",
   "metadata": {},
   "source": [
    "Further we will observe all these steps using ``Tester``  class on the synthetically generated data."
   ]
  },
  {
   "cell_type": "markdown",
   "id": "0b1847bd",
   "metadata": {},
   "source": [
    "## Let's start the tutorial"
   ]
  },
  {
   "cell_type": "code",
   "execution_count": 2,
   "id": "c7afe24b",
   "metadata": {},
   "outputs": [],
   "source": [
    "import pandas as pd\n",
    "import numpy as np\n",
    "\n",
    "from ambrosia.tester import Tester"
   ]
  },
  {
   "cell_type": "markdown",
   "id": "ee42d6ea",
   "metadata": {},
   "source": [
    "Load data"
   ]
  },
  {
   "cell_type": "code",
   "execution_count": 3,
   "id": "47df81ea",
   "metadata": {},
   "outputs": [],
   "source": [
    "data = pd.read_csv('../tests/test_data/watch_result_agg.csv')"
   ]
  },
  {
   "cell_type": "markdown",
   "id": "6be2414f",
   "metadata": {},
   "source": [
    "There is some  data on users content views, which was aggregated during the experiment, and we have two groups."
   ]
  },
  {
   "cell_type": "code",
   "execution_count": 4,
   "id": "dc48eaf4",
   "metadata": {},
   "outputs": [
    {
     "data": {
      "text/html": [
       "<div>\n",
       "<style scoped>\n",
       "    .dataframe tbody tr th:only-of-type {\n",
       "        vertical-align: middle;\n",
       "    }\n",
       "\n",
       "    .dataframe tbody tr th {\n",
       "        vertical-align: top;\n",
       "    }\n",
       "\n",
       "    .dataframe thead th {\n",
       "        text-align: right;\n",
       "    }\n",
       "</style>\n",
       "<table border=\"1\" class=\"dataframe\">\n",
       "  <thead>\n",
       "    <tr style=\"text-align: right;\">\n",
       "      <th></th>\n",
       "      <th>id</th>\n",
       "      <th>watched</th>\n",
       "      <th>group</th>\n",
       "    </tr>\n",
       "  </thead>\n",
       "  <tbody>\n",
       "    <tr>\n",
       "      <th>0</th>\n",
       "      <td>6</td>\n",
       "      <td>597.833362</td>\n",
       "      <td>A</td>\n",
       "    </tr>\n",
       "    <tr>\n",
       "      <th>1</th>\n",
       "      <td>11</td>\n",
       "      <td>549.314234</td>\n",
       "      <td>A</td>\n",
       "    </tr>\n",
       "    <tr>\n",
       "      <th>2</th>\n",
       "      <td>20</td>\n",
       "      <td>564.401942</td>\n",
       "      <td>A</td>\n",
       "    </tr>\n",
       "    <tr>\n",
       "      <th>3</th>\n",
       "      <td>21</td>\n",
       "      <td>248.735358</td>\n",
       "      <td>A</td>\n",
       "    </tr>\n",
       "    <tr>\n",
       "      <th>4</th>\n",
       "      <td>23</td>\n",
       "      <td>926.048946</td>\n",
       "      <td>B</td>\n",
       "    </tr>\n",
       "  </tbody>\n",
       "</table>\n",
       "</div>"
      ],
      "text/plain": [
       "   id     watched group\n",
       "0   6  597.833362     A\n",
       "1  11  549.314234     A\n",
       "2  20  564.401942     A\n",
       "3  21  248.735358     A\n",
       "4  23  926.048946     B"
      ]
     },
     "execution_count": 4,
     "metadata": {},
     "output_type": "execute_result"
    }
   ],
   "source": [
    "data.head()"
   ]
  },
  {
   "cell_type": "markdown",
   "id": "ff0bcb13",
   "metadata": {},
   "source": [
    "All what is needed for the effect estimation is inside ``Tester`` class. It has one main public method ``run()`` which returns the table with a p-value, point effect and cinfidence interval."
   ]
  },
  {
   "cell_type": "markdown",
   "id": "b92a0727",
   "metadata": {},
   "source": [
    "The ``Splitter`` class is *Ambrosia's* main tool for splitting objects into the creating groups. \n",
    "\n",
    "Let's create an instance of the class and pass to the constructor experimental data and the name of group columns, and arguments that we defined during the design stage"
   ]
  },
  {
   "cell_type": "code",
   "execution_count": 5,
   "id": "be77be3a",
   "metadata": {},
   "outputs": [],
   "source": [
    "tester = Tester(dataframe=data,\n",
    "                column_groups='group',\n",
    "                metrics='watched',\n",
    "                first_type_errors=0.01)"
   ]
  },
  {
   "cell_type": "markdown",
   "id": "f96f5e65",
   "metadata": {},
   "source": [
    "Now we will call ``run()`` method to estimate absolute uplift using t-test criterion"
   ]
  },
  {
   "cell_type": "code",
   "execution_count": 6,
   "id": "c04ae50e",
   "metadata": {},
   "outputs": [
    {
     "data": {
      "text/html": [
       "<div>\n",
       "<style scoped>\n",
       "    .dataframe tbody tr th:only-of-type {\n",
       "        vertical-align: middle;\n",
       "    }\n",
       "\n",
       "    .dataframe tbody tr th {\n",
       "        vertical-align: top;\n",
       "    }\n",
       "\n",
       "    .dataframe thead th {\n",
       "        text-align: right;\n",
       "    }\n",
       "</style>\n",
       "<table border=\"1\" class=\"dataframe\">\n",
       "  <thead>\n",
       "    <tr style=\"text-align: right;\">\n",
       "      <th></th>\n",
       "      <th>first_type_error</th>\n",
       "      <th>pvalue</th>\n",
       "      <th>effect</th>\n",
       "      <th>confidence_interval</th>\n",
       "      <th>metric name</th>\n",
       "      <th>group A label</th>\n",
       "      <th>group B label</th>\n",
       "    </tr>\n",
       "  </thead>\n",
       "  <tbody>\n",
       "    <tr>\n",
       "      <th>0</th>\n",
       "      <td>0.01</td>\n",
       "      <td>0.000022</td>\n",
       "      <td>55.314679</td>\n",
       "      <td>(14.578, 96.0514)</td>\n",
       "      <td>watched</td>\n",
       "      <td>A</td>\n",
       "      <td>B</td>\n",
       "    </tr>\n",
       "  </tbody>\n",
       "</table>\n",
       "</div>"
      ],
      "text/plain": [
       "   first_type_error    pvalue     effect confidence_interval metric name  \\\n",
       "0              0.01  0.000022  55.314679   (14.578, 96.0514)     watched   \n",
       "\n",
       "  group A label group B label  \n",
       "0             A             B  "
      ]
     },
     "execution_count": 6,
     "metadata": {},
     "output_type": "execute_result"
    }
   ],
   "source": [
    "tester.run(effect_type='absolute',\n",
    "           method='theory',\n",
    "           criterion='ttest',\n",
    "          )"
   ]
  },
  {
   "cell_type": "markdown",
   "id": "01640021",
   "metadata": {},
   "source": [
    "We can also estimate relative effect"
   ]
  },
  {
   "cell_type": "code",
   "execution_count": 7,
   "id": "b6dda89d",
   "metadata": {},
   "outputs": [
    {
     "data": {
      "text/html": [
       "<div>\n",
       "<style scoped>\n",
       "    .dataframe tbody tr th:only-of-type {\n",
       "        vertical-align: middle;\n",
       "    }\n",
       "\n",
       "    .dataframe tbody tr th {\n",
       "        vertical-align: top;\n",
       "    }\n",
       "\n",
       "    .dataframe thead th {\n",
       "        text-align: right;\n",
       "    }\n",
       "</style>\n",
       "<table border=\"1\" class=\"dataframe\">\n",
       "  <thead>\n",
       "    <tr style=\"text-align: right;\">\n",
       "      <th></th>\n",
       "      <th>first_type_error</th>\n",
       "      <th>pvalue</th>\n",
       "      <th>effect</th>\n",
       "      <th>confidence_interval</th>\n",
       "      <th>metric name</th>\n",
       "      <th>group A label</th>\n",
       "      <th>group B label</th>\n",
       "    </tr>\n",
       "  </thead>\n",
       "  <tbody>\n",
       "    <tr>\n",
       "      <th>0</th>\n",
       "      <td>0.01</td>\n",
       "      <td>0.00004</td>\n",
       "      <td>0.079901</td>\n",
       "      <td>(0.0299, 0.1303)</td>\n",
       "      <td>watched</td>\n",
       "      <td>A</td>\n",
       "      <td>B</td>\n",
       "    </tr>\n",
       "  </tbody>\n",
       "</table>\n",
       "</div>"
      ],
      "text/plain": [
       "   first_type_error   pvalue    effect confidence_interval metric name  \\\n",
       "0              0.01  0.00004  0.079901    (0.0299, 0.1303)     watched   \n",
       "\n",
       "  group A label group B label  \n",
       "0             A             B  "
      ]
     },
     "execution_count": 7,
     "metadata": {},
     "output_type": "execute_result"
    }
   ],
   "source": [
    "tester.run(effect_type='relative',\n",
    "           method='theory',\n",
    "           criterion='ttest',\n",
    "          )"
   ]
  },
  {
   "cell_type": "markdown",
   "id": "b9021a36",
   "metadata": {},
   "source": [
    "Change alternative from ``\"two-sided\"`` to ``\"greater\"``"
   ]
  },
  {
   "cell_type": "code",
   "execution_count": 8,
   "id": "82544357",
   "metadata": {},
   "outputs": [
    {
     "data": {
      "text/html": [
       "<div>\n",
       "<style scoped>\n",
       "    .dataframe tbody tr th:only-of-type {\n",
       "        vertical-align: middle;\n",
       "    }\n",
       "\n",
       "    .dataframe tbody tr th {\n",
       "        vertical-align: top;\n",
       "    }\n",
       "\n",
       "    .dataframe thead th {\n",
       "        text-align: right;\n",
       "    }\n",
       "</style>\n",
       "<table border=\"1\" class=\"dataframe\">\n",
       "  <thead>\n",
       "    <tr style=\"text-align: right;\">\n",
       "      <th></th>\n",
       "      <th>first_type_error</th>\n",
       "      <th>pvalue</th>\n",
       "      <th>effect</th>\n",
       "      <th>confidence_interval</th>\n",
       "      <th>metric name</th>\n",
       "      <th>group A label</th>\n",
       "      <th>group B label</th>\n",
       "    </tr>\n",
       "  </thead>\n",
       "  <tbody>\n",
       "    <tr>\n",
       "      <th>0</th>\n",
       "      <td>0.01</td>\n",
       "      <td>0.00002</td>\n",
       "      <td>0.079901</td>\n",
       "      <td>(0.0347, inf)</td>\n",
       "      <td>watched</td>\n",
       "      <td>A</td>\n",
       "      <td>B</td>\n",
       "    </tr>\n",
       "  </tbody>\n",
       "</table>\n",
       "</div>"
      ],
      "text/plain": [
       "   first_type_error   pvalue    effect confidence_interval metric name  \\\n",
       "0              0.01  0.00002  0.079901       (0.0347, inf)     watched   \n",
       "\n",
       "  group A label group B label  \n",
       "0             A             B  "
      ]
     },
     "execution_count": 8,
     "metadata": {},
     "output_type": "execute_result"
    }
   ],
   "source": [
    "tester.run(\n",
    "    effect_type='relative',\n",
    "    method='theory',\n",
    "    criterion='ttest',\n",
    "    alternative='greater',\n",
    ")"
   ]
  },
  {
   "cell_type": "markdown",
   "id": "74801255",
   "metadata": {},
   "source": [
    "Change criterion to Mann–Whitney test"
   ]
  },
  {
   "cell_type": "code",
   "execution_count": 9,
   "id": "d0226f0f",
   "metadata": {},
   "outputs": [
    {
     "data": {
      "text/html": [
       "<div>\n",
       "<style scoped>\n",
       "    .dataframe tbody tr th:only-of-type {\n",
       "        vertical-align: middle;\n",
       "    }\n",
       "\n",
       "    .dataframe tbody tr th {\n",
       "        vertical-align: top;\n",
       "    }\n",
       "\n",
       "    .dataframe thead th {\n",
       "        text-align: right;\n",
       "    }\n",
       "</style>\n",
       "<table border=\"1\" class=\"dataframe\">\n",
       "  <thead>\n",
       "    <tr style=\"text-align: right;\">\n",
       "      <th></th>\n",
       "      <th>first_type_error</th>\n",
       "      <th>pvalue</th>\n",
       "      <th>effect</th>\n",
       "      <th>confidence_interval</th>\n",
       "      <th>metric name</th>\n",
       "      <th>group A label</th>\n",
       "      <th>group B label</th>\n",
       "    </tr>\n",
       "  </thead>\n",
       "  <tbody>\n",
       "    <tr>\n",
       "      <th>0</th>\n",
       "      <td>0.01</td>\n",
       "      <td>0.000035</td>\n",
       "      <td>43.598116</td>\n",
       "      <td>(None, None)</td>\n",
       "      <td>watched</td>\n",
       "      <td>A</td>\n",
       "      <td>B</td>\n",
       "    </tr>\n",
       "  </tbody>\n",
       "</table>\n",
       "</div>"
      ],
      "text/plain": [
       "   first_type_error    pvalue     effect confidence_interval metric name  \\\n",
       "0              0.01  0.000035  43.598116        (None, None)     watched   \n",
       "\n",
       "  group A label group B label  \n",
       "0             A             B  "
      ]
     },
     "execution_count": 9,
     "metadata": {},
     "output_type": "execute_result"
    }
   ],
   "source": [
    "tester.run(effect_type='absolute',\n",
    "           method='theory',\n",
    "           criterion='mw',\n",
    "           metrics='watched',\n",
    "           first_type_errors=0.01)"
   ]
  },
  {
   "cell_type": "markdown",
   "id": "d4ede50e",
   "metadata": {},
   "source": [
    "Use bootstrap criteria by changing ``method`` to ``\"empiric\"``"
   ]
  },
  {
   "cell_type": "code",
   "execution_count": 10,
   "id": "2fb7122c",
   "metadata": {},
   "outputs": [
    {
     "data": {
      "text/html": [
       "<div>\n",
       "<style scoped>\n",
       "    .dataframe tbody tr th:only-of-type {\n",
       "        vertical-align: middle;\n",
       "    }\n",
       "\n",
       "    .dataframe tbody tr th {\n",
       "        vertical-align: top;\n",
       "    }\n",
       "\n",
       "    .dataframe thead th {\n",
       "        text-align: right;\n",
       "    }\n",
       "</style>\n",
       "<table border=\"1\" class=\"dataframe\">\n",
       "  <thead>\n",
       "    <tr style=\"text-align: right;\">\n",
       "      <th></th>\n",
       "      <th>first_type_error</th>\n",
       "      <th>pvalue</th>\n",
       "      <th>effect</th>\n",
       "      <th>confidence_interval</th>\n",
       "      <th>metric name</th>\n",
       "      <th>group A label</th>\n",
       "      <th>group B label</th>\n",
       "    </tr>\n",
       "  </thead>\n",
       "  <tbody>\n",
       "    <tr>\n",
       "      <th>0</th>\n",
       "      <td>0.01</td>\n",
       "      <td>3.552714e-15</td>\n",
       "      <td>55.314679</td>\n",
       "      <td>(21.2797, 88.1704)</td>\n",
       "      <td>watched</td>\n",
       "      <td>A</td>\n",
       "      <td>B</td>\n",
       "    </tr>\n",
       "  </tbody>\n",
       "</table>\n",
       "</div>"
      ],
      "text/plain": [
       "   first_type_error        pvalue     effect confidence_interval metric name  \\\n",
       "0              0.01  3.552714e-15  55.314679  (21.2797, 88.1704)     watched   \n",
       "\n",
       "  group A label group B label  \n",
       "0             A             B  "
      ]
     },
     "execution_count": 10,
     "metadata": {},
     "output_type": "execute_result"
    }
   ],
   "source": [
    "tester.run(effect_type='absolute',\n",
    "           method='empiric',\n",
    "           metrics='watched',\n",
    "           first_type_errors=0.01)"
   ]
  },
  {
   "cell_type": "markdown",
   "id": "13759aed",
   "metadata": {},
   "source": [
    "If we want to make evaluation binary values, like conversion, method should be changed to ``\"binary\"``"
   ]
  },
  {
   "cell_type": "markdown",
   "id": "87cf49c4",
   "metadata": {},
   "source": [
    "## Multiple hypothesis correction"
   ]
  },
  {
   "cell_type": "markdown",
   "id": "b10d4dfa",
   "metadata": {},
   "source": [
    "``Tester`` has ability to apply MHC to p-value and confidence intervals. Total number of hypothesis is equal to the number of groups combinations multiplied by the number of metrics passed.\n",
    "\n",
    "By the default Bonferroni correction is applied, but it can be turned off by passing ``None`` argument to the ``correction_method``."
   ]
  },
  {
   "cell_type": "markdown",
   "id": "cd7c7dec",
   "metadata": {},
   "source": [
    "Let's create number of synthetic groups and look at the ``Tester`` behavior"
   ]
  },
  {
   "cell_type": "code",
   "execution_count": 11,
   "id": "353e0aa3",
   "metadata": {},
   "outputs": [],
   "source": [
    "total_size = 1000\n",
    "groups = ['A', 'B', 'C', \"D\"]"
   ]
  },
  {
   "cell_type": "code",
   "execution_count": 12,
   "id": "f6328dd2",
   "metadata": {},
   "outputs": [],
   "source": [
    "np.random.seed(42)\n",
    "multi_groups_result = pd.DataFrame(np.random.normal(size=(total_size, 2)),\n",
    "                                   columns=['metric_1', 'metric_2'])\n",
    "multi_groups_result['groups'] = np.random.choice(groups, size=total_size)\n",
    "multi_groups_result = multi_groups_result.sort_values('groups')"
   ]
  },
  {
   "cell_type": "code",
   "execution_count": 13,
   "id": "7619fac5",
   "metadata": {},
   "outputs": [],
   "source": [
    "multi_tester = Tester(dataframe=multi_groups_result,\n",
    "                      column_groups='groups',\n",
    "                      metrics=['metric_1', 'metric_2'])"
   ]
  },
  {
   "cell_type": "markdown",
   "id": "da51fc5d",
   "metadata": {},
   "source": [
    "Here we have 6 unique pairs to test and two metrics, so due to Bonferroni correction the p-values will reduced by 12 times and CI's will be increased to corresponding values"
   ]
  },
  {
   "cell_type": "code",
   "execution_count": 14,
   "id": "a1ef46d1",
   "metadata": {},
   "outputs": [
    {
     "data": {
      "text/html": [
       "<div>\n",
       "<style scoped>\n",
       "    .dataframe tbody tr th:only-of-type {\n",
       "        vertical-align: middle;\n",
       "    }\n",
       "\n",
       "    .dataframe tbody tr th {\n",
       "        vertical-align: top;\n",
       "    }\n",
       "\n",
       "    .dataframe thead th {\n",
       "        text-align: right;\n",
       "    }\n",
       "</style>\n",
       "<table border=\"1\" class=\"dataframe\">\n",
       "  <thead>\n",
       "    <tr style=\"text-align: right;\">\n",
       "      <th></th>\n",
       "      <th>first_type_error</th>\n",
       "      <th>pvalue</th>\n",
       "      <th>effect</th>\n",
       "      <th>confidence_interval</th>\n",
       "      <th>metric name</th>\n",
       "      <th>group A label</th>\n",
       "      <th>group B label</th>\n",
       "    </tr>\n",
       "  </thead>\n",
       "  <tbody>\n",
       "    <tr>\n",
       "      <th>0</th>\n",
       "      <td>0.05</td>\n",
       "      <td>1.0</td>\n",
       "      <td>-0.084442</td>\n",
       "      <td>(-0.3213, 0.1524)</td>\n",
       "      <td>metric_1</td>\n",
       "      <td>A</td>\n",
       "      <td>B</td>\n",
       "    </tr>\n",
       "    <tr>\n",
       "      <th>1</th>\n",
       "      <td>0.05</td>\n",
       "      <td>1.0</td>\n",
       "      <td>-0.102428</td>\n",
       "      <td>(-0.3644, 0.1595)</td>\n",
       "      <td>metric_2</td>\n",
       "      <td>A</td>\n",
       "      <td>B</td>\n",
       "    </tr>\n",
       "    <tr>\n",
       "      <th>2</th>\n",
       "      <td>0.05</td>\n",
       "      <td>1.0</td>\n",
       "      <td>0.028641</td>\n",
       "      <td>(-0.2191, 0.2764)</td>\n",
       "      <td>metric_1</td>\n",
       "      <td>A</td>\n",
       "      <td>C</td>\n",
       "    </tr>\n",
       "    <tr>\n",
       "      <th>3</th>\n",
       "      <td>0.05</td>\n",
       "      <td>1.0</td>\n",
       "      <td>-0.142255</td>\n",
       "      <td>(-0.4022, 0.1176)</td>\n",
       "      <td>metric_2</td>\n",
       "      <td>A</td>\n",
       "      <td>C</td>\n",
       "    </tr>\n",
       "    <tr>\n",
       "      <th>4</th>\n",
       "      <td>0.05</td>\n",
       "      <td>1.0</td>\n",
       "      <td>0.050312</td>\n",
       "      <td>(-0.1946, 0.2952)</td>\n",
       "      <td>metric_1</td>\n",
       "      <td>A</td>\n",
       "      <td>D</td>\n",
       "    </tr>\n",
       "    <tr>\n",
       "      <th>5</th>\n",
       "      <td>0.05</td>\n",
       "      <td>1.0</td>\n",
       "      <td>-0.063565</td>\n",
       "      <td>(-0.3157, 0.1885)</td>\n",
       "      <td>metric_2</td>\n",
       "      <td>A</td>\n",
       "      <td>D</td>\n",
       "    </tr>\n",
       "    <tr>\n",
       "      <th>6</th>\n",
       "      <td>0.05</td>\n",
       "      <td>1.0</td>\n",
       "      <td>0.113082</td>\n",
       "      <td>(-0.1351, 0.3613)</td>\n",
       "      <td>metric_1</td>\n",
       "      <td>B</td>\n",
       "      <td>C</td>\n",
       "    </tr>\n",
       "    <tr>\n",
       "      <th>7</th>\n",
       "      <td>0.05</td>\n",
       "      <td>1.0</td>\n",
       "      <td>-0.039827</td>\n",
       "      <td>(-0.3085, 0.2289)</td>\n",
       "      <td>metric_2</td>\n",
       "      <td>B</td>\n",
       "      <td>C</td>\n",
       "    </tr>\n",
       "    <tr>\n",
       "      <th>8</th>\n",
       "      <td>0.05</td>\n",
       "      <td>1.0</td>\n",
       "      <td>0.134753</td>\n",
       "      <td>(-0.1107, 0.3802)</td>\n",
       "      <td>metric_1</td>\n",
       "      <td>B</td>\n",
       "      <td>D</td>\n",
       "    </tr>\n",
       "    <tr>\n",
       "      <th>9</th>\n",
       "      <td>0.05</td>\n",
       "      <td>1.0</td>\n",
       "      <td>0.038863</td>\n",
       "      <td>(-0.2223, 0.3)</td>\n",
       "      <td>metric_2</td>\n",
       "      <td>B</td>\n",
       "      <td>D</td>\n",
       "    </tr>\n",
       "    <tr>\n",
       "      <th>10</th>\n",
       "      <td>0.05</td>\n",
       "      <td>1.0</td>\n",
       "      <td>0.021671</td>\n",
       "      <td>(-0.2342, 0.2776)</td>\n",
       "      <td>metric_1</td>\n",
       "      <td>C</td>\n",
       "      <td>D</td>\n",
       "    </tr>\n",
       "    <tr>\n",
       "      <th>11</th>\n",
       "      <td>0.05</td>\n",
       "      <td>1.0</td>\n",
       "      <td>0.078690</td>\n",
       "      <td>(-0.1804, 0.3378)</td>\n",
       "      <td>metric_2</td>\n",
       "      <td>C</td>\n",
       "      <td>D</td>\n",
       "    </tr>\n",
       "  </tbody>\n",
       "</table>\n",
       "</div>"
      ],
      "text/plain": [
       "    first_type_error  pvalue    effect confidence_interval metric name  \\\n",
       "0               0.05     1.0 -0.084442   (-0.3213, 0.1524)    metric_1   \n",
       "1               0.05     1.0 -0.102428   (-0.3644, 0.1595)    metric_2   \n",
       "2               0.05     1.0  0.028641   (-0.2191, 0.2764)    metric_1   \n",
       "3               0.05     1.0 -0.142255   (-0.4022, 0.1176)    metric_2   \n",
       "4               0.05     1.0  0.050312   (-0.1946, 0.2952)    metric_1   \n",
       "5               0.05     1.0 -0.063565   (-0.3157, 0.1885)    metric_2   \n",
       "6               0.05     1.0  0.113082   (-0.1351, 0.3613)    metric_1   \n",
       "7               0.05     1.0 -0.039827   (-0.3085, 0.2289)    metric_2   \n",
       "8               0.05     1.0  0.134753   (-0.1107, 0.3802)    metric_1   \n",
       "9               0.05     1.0  0.038863      (-0.2223, 0.3)    metric_2   \n",
       "10              0.05     1.0  0.021671   (-0.2342, 0.2776)    metric_1   \n",
       "11              0.05     1.0  0.078690   (-0.1804, 0.3378)    metric_2   \n",
       "\n",
       "   group A label group B label  \n",
       "0              A             B  \n",
       "1              A             B  \n",
       "2              A             C  \n",
       "3              A             C  \n",
       "4              A             D  \n",
       "5              A             D  \n",
       "6              B             C  \n",
       "7              B             C  \n",
       "8              B             D  \n",
       "9              B             D  \n",
       "10             C             D  \n",
       "11             C             D  "
      ]
     },
     "execution_count": 14,
     "metadata": {},
     "output_type": "execute_result"
    }
   ],
   "source": [
    "multi_tester.run(method='theory')"
   ]
  },
  {
   "cell_type": "markdown",
   "id": "64603911",
   "metadata": {},
   "source": [
    "When we deny the MHC"
   ]
  },
  {
   "cell_type": "code",
   "execution_count": 15,
   "id": "d56b03bc",
   "metadata": {},
   "outputs": [
    {
     "data": {
      "text/html": [
       "<div>\n",
       "<style scoped>\n",
       "    .dataframe tbody tr th:only-of-type {\n",
       "        vertical-align: middle;\n",
       "    }\n",
       "\n",
       "    .dataframe tbody tr th {\n",
       "        vertical-align: top;\n",
       "    }\n",
       "\n",
       "    .dataframe thead th {\n",
       "        text-align: right;\n",
       "    }\n",
       "</style>\n",
       "<table border=\"1\" class=\"dataframe\">\n",
       "  <thead>\n",
       "    <tr style=\"text-align: right;\">\n",
       "      <th></th>\n",
       "      <th>first_type_error</th>\n",
       "      <th>pvalue</th>\n",
       "      <th>effect</th>\n",
       "      <th>confidence_interval</th>\n",
       "      <th>metric name</th>\n",
       "      <th>group A label</th>\n",
       "      <th>group B label</th>\n",
       "    </tr>\n",
       "  </thead>\n",
       "  <tbody>\n",
       "    <tr>\n",
       "      <th>0</th>\n",
       "      <td>0.05</td>\n",
       "      <td>0.307529</td>\n",
       "      <td>-0.084442</td>\n",
       "      <td>(-0.2465, 0.0776)</td>\n",
       "      <td>metric_1</td>\n",
       "      <td>A</td>\n",
       "      <td>B</td>\n",
       "    </tr>\n",
       "    <tr>\n",
       "      <th>1</th>\n",
       "      <td>0.05</td>\n",
       "      <td>0.263036</td>\n",
       "      <td>-0.102428</td>\n",
       "      <td>(-0.2816, 0.0767)</td>\n",
       "      <td>metric_2</td>\n",
       "      <td>A</td>\n",
       "      <td>B</td>\n",
       "    </tr>\n",
       "    <tr>\n",
       "      <th>2</th>\n",
       "      <td>0.05</td>\n",
       "      <td>0.740575</td>\n",
       "      <td>0.028641</td>\n",
       "      <td>(-0.1408, 0.1981)</td>\n",
       "      <td>metric_1</td>\n",
       "      <td>A</td>\n",
       "      <td>C</td>\n",
       "    </tr>\n",
       "    <tr>\n",
       "      <th>3</th>\n",
       "      <td>0.05</td>\n",
       "      <td>0.117435</td>\n",
       "      <td>-0.142255</td>\n",
       "      <td>(-0.32, 0.0355)</td>\n",
       "      <td>metric_2</td>\n",
       "      <td>A</td>\n",
       "      <td>C</td>\n",
       "    </tr>\n",
       "    <tr>\n",
       "      <th>4</th>\n",
       "      <td>0.05</td>\n",
       "      <td>0.556405</td>\n",
       "      <td>0.050312</td>\n",
       "      <td>(-0.1172, 0.2179)</td>\n",
       "      <td>metric_1</td>\n",
       "      <td>A</td>\n",
       "      <td>D</td>\n",
       "    </tr>\n",
       "    <tr>\n",
       "      <th>5</th>\n",
       "      <td>0.05</td>\n",
       "      <td>0.470332</td>\n",
       "      <td>-0.063565</td>\n",
       "      <td>(-0.236, 0.1089)</td>\n",
       "      <td>metric_2</td>\n",
       "      <td>A</td>\n",
       "      <td>D</td>\n",
       "    </tr>\n",
       "    <tr>\n",
       "      <th>6</th>\n",
       "      <td>0.05</td>\n",
       "      <td>0.192379</td>\n",
       "      <td>0.113082</td>\n",
       "      <td>(-0.0567, 0.2829)</td>\n",
       "      <td>metric_1</td>\n",
       "      <td>B</td>\n",
       "      <td>C</td>\n",
       "    </tr>\n",
       "    <tr>\n",
       "      <th>7</th>\n",
       "      <td>0.05</td>\n",
       "      <td>0.671231</td>\n",
       "      <td>-0.039827</td>\n",
       "      <td>(-0.2236, 0.144)</td>\n",
       "      <td>metric_2</td>\n",
       "      <td>B</td>\n",
       "      <td>C</td>\n",
       "    </tr>\n",
       "    <tr>\n",
       "      <th>8</th>\n",
       "      <td>0.05</td>\n",
       "      <td>0.116301</td>\n",
       "      <td>0.134753</td>\n",
       "      <td>(-0.0331, 0.3026)</td>\n",
       "      <td>metric_1</td>\n",
       "      <td>B</td>\n",
       "      <td>D</td>\n",
       "    </tr>\n",
       "    <tr>\n",
       "      <th>9</th>\n",
       "      <td>0.05</td>\n",
       "      <td>0.670008</td>\n",
       "      <td>0.038863</td>\n",
       "      <td>(-0.1398, 0.2175)</td>\n",
       "      <td>metric_2</td>\n",
       "      <td>B</td>\n",
       "      <td>D</td>\n",
       "    </tr>\n",
       "    <tr>\n",
       "      <th>10</th>\n",
       "      <td>0.05</td>\n",
       "      <td>0.808385</td>\n",
       "      <td>0.021671</td>\n",
       "      <td>(-0.1534, 0.1967)</td>\n",
       "      <td>metric_1</td>\n",
       "      <td>C</td>\n",
       "      <td>D</td>\n",
       "    </tr>\n",
       "    <tr>\n",
       "      <th>11</th>\n",
       "      <td>0.05</td>\n",
       "      <td>0.384652</td>\n",
       "      <td>0.078690</td>\n",
       "      <td>(-0.0986, 0.2559)</td>\n",
       "      <td>metric_2</td>\n",
       "      <td>C</td>\n",
       "      <td>D</td>\n",
       "    </tr>\n",
       "  </tbody>\n",
       "</table>\n",
       "</div>"
      ],
      "text/plain": [
       "    first_type_error    pvalue    effect confidence_interval metric name  \\\n",
       "0               0.05  0.307529 -0.084442   (-0.2465, 0.0776)    metric_1   \n",
       "1               0.05  0.263036 -0.102428   (-0.2816, 0.0767)    metric_2   \n",
       "2               0.05  0.740575  0.028641   (-0.1408, 0.1981)    metric_1   \n",
       "3               0.05  0.117435 -0.142255     (-0.32, 0.0355)    metric_2   \n",
       "4               0.05  0.556405  0.050312   (-0.1172, 0.2179)    metric_1   \n",
       "5               0.05  0.470332 -0.063565    (-0.236, 0.1089)    metric_2   \n",
       "6               0.05  0.192379  0.113082   (-0.0567, 0.2829)    metric_1   \n",
       "7               0.05  0.671231 -0.039827    (-0.2236, 0.144)    metric_2   \n",
       "8               0.05  0.116301  0.134753   (-0.0331, 0.3026)    metric_1   \n",
       "9               0.05  0.670008  0.038863   (-0.1398, 0.2175)    metric_2   \n",
       "10              0.05  0.808385  0.021671   (-0.1534, 0.1967)    metric_1   \n",
       "11              0.05  0.384652  0.078690   (-0.0986, 0.2559)    metric_2   \n",
       "\n",
       "   group A label group B label  \n",
       "0              A             B  \n",
       "1              A             B  \n",
       "2              A             C  \n",
       "3              A             C  \n",
       "4              A             D  \n",
       "5              A             D  \n",
       "6              B             C  \n",
       "7              B             C  \n",
       "8              B             D  \n",
       "9              B             D  \n",
       "10             C             D  \n",
       "11             C             D  "
      ]
     },
     "execution_count": 15,
     "metadata": {},
     "output_type": "execute_result"
    }
   ],
   "source": [
    "multi_tester.run(method='theory', correction_method=None)"
   ]
  },
  {
   "cell_type": "markdown",
   "id": "b4af4211",
   "metadata": {},
   "source": [
    "---"
   ]
  },
  {
   "cell_type": "markdown",
   "id": "c5e3ac8e",
   "metadata": {},
   "source": [
    "## Learn more"
   ]
  },
  {
   "cell_type": "markdown",
   "id": "7a80d9e4",
   "metadata": {},
   "source": [
    "There is some more information on evaluating the effect of experiments using *Ambrosia*\n",
    "\n",
    "Check:\n",
    "\n",
    "* ``Tester`` class documentation\n",
    "* An example of making statistical inference and effect estimation on Spark data "
   ]
  }
 ],
 "metadata": {
  "kernelspec": {
   "display_name": "Python 3 (ipykernel)",
   "language": "python",
   "name": "python3"
  },
  "language_info": {
   "codemirror_mode": {
    "name": "ipython",
    "version": 3
   },
   "file_extension": ".py",
   "mimetype": "text/x-python",
   "name": "python",
   "nbconvert_exporter": "python",
   "pygments_lexer": "ipython3",
   "version": "3.9.16"
  },
  "varInspector": {
   "cols": {
    "lenName": 16,
    "lenType": 16,
    "lenVar": 40
   },
   "kernels_config": {
    "python": {
     "delete_cmd_postfix": "",
     "delete_cmd_prefix": "del ",
     "library": "var_list.py",
     "varRefreshCmd": "print(var_dic_list())"
    },
    "r": {
     "delete_cmd_postfix": ") ",
     "delete_cmd_prefix": "rm(",
     "library": "var_list.r",
     "varRefreshCmd": "cat(var_dic_list()) "
    }
   },
   "types_to_exclude": [
    "module",
    "function",
    "builtin_function_or_method",
    "instance",
    "_Feature"
   ],
   "window_display": false
  }
 },
 "nbformat": 4,
 "nbformat_minor": 5
}
