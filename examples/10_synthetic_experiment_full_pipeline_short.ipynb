{
 "cells": [
  {
   "cell_type": "markdown",
   "id": "46382b8f",
   "metadata": {},
   "source": [
    "# *Ambrosia* in action. Building a simple A/B pipeline on synthetic data"
   ]
  },
  {
   "cell_type": "markdown",
   "id": "f6327bf6",
   "metadata": {},
   "source": [
    "In this example, a short, complete experimental pipeline will be built using various parts of *Ambrosia*. Synthetically generated one week data of daily content views by users is used."
   ]
  },
  {
   "cell_type": "markdown",
   "id": "8a5acb85",
   "metadata": {},
   "source": [
    "The tutorial will be useful for building a general understanding about building A/B pipelines and using the tools from *Ambrosia*. \\\n",
    "We will not discuss the choice of hypothesis, criteria, or the logic behind certain parameter values."
   ]
  },
  {
   "cell_type": "code",
   "execution_count": 1,
   "id": "8739e2e0",
   "metadata": {},
   "outputs": [],
   "source": [
    "import sys, os\n",
    "sys.path.insert(1, os.path.realpath(os.path.pardir))"
   ]
  },
  {
   "cell_type": "code",
   "execution_count": 2,
   "id": "319a66c0",
   "metadata": {},
   "outputs": [
    {
     "name": "stderr",
     "output_type": "stream",
     "text": [
      "Your CPU supports instructions that this binary was not compiled to use: AVX2\n",
      "For maximum performance, you can install NMSLIB from sources \n",
      "pip install --no-binary :all: nmslib\n"
     ]
    }
   ],
   "source": [
    "import pandas as pd\n",
    "\n",
    "from ambrosia.preprocessing import AggregatePreprocessor\n",
    "from ambrosia.designer import Designer\n",
    "from ambrosia.splitter import Splitter\n",
    "from ambrosia.tester import Tester"
   ]
  },
  {
   "cell_type": "markdown",
   "id": "61497215",
   "metadata": {},
   "source": [
    "Load data"
   ]
  },
  {
   "cell_type": "code",
   "execution_count": 3,
   "id": "7e55901f",
   "metadata": {},
   "outputs": [
    {
     "data": {
      "text/html": [
       "<div>\n",
       "<style scoped>\n",
       "    .dataframe tbody tr th:only-of-type {\n",
       "        vertical-align: middle;\n",
       "    }\n",
       "\n",
       "    .dataframe tbody tr th {\n",
       "        vertical-align: top;\n",
       "    }\n",
       "\n",
       "    .dataframe thead th {\n",
       "        text-align: right;\n",
       "    }\n",
       "</style>\n",
       "<table border=\"1\" class=\"dataframe\">\n",
       "  <thead>\n",
       "    <tr style=\"text-align: right;\">\n",
       "      <th></th>\n",
       "      <th>id</th>\n",
       "      <th>gender</th>\n",
       "      <th>watched</th>\n",
       "      <th>sessions</th>\n",
       "      <th>day</th>\n",
       "      <th>platform</th>\n",
       "    </tr>\n",
       "  </thead>\n",
       "  <tbody>\n",
       "    <tr>\n",
       "      <th>0</th>\n",
       "      <td>0</td>\n",
       "      <td>Male</td>\n",
       "      <td>28.440846</td>\n",
       "      <td>4</td>\n",
       "      <td>1</td>\n",
       "      <td>android</td>\n",
       "    </tr>\n",
       "    <tr>\n",
       "      <th>1</th>\n",
       "      <td>1</td>\n",
       "      <td>Female</td>\n",
       "      <td>1.825271</td>\n",
       "      <td>2</td>\n",
       "      <td>1</td>\n",
       "      <td>ios</td>\n",
       "    </tr>\n",
       "    <tr>\n",
       "      <th>2</th>\n",
       "      <td>2</td>\n",
       "      <td>Female</td>\n",
       "      <td>46.995606</td>\n",
       "      <td>0</td>\n",
       "      <td>1</td>\n",
       "      <td>web</td>\n",
       "    </tr>\n",
       "    <tr>\n",
       "      <th>3</th>\n",
       "      <td>3</td>\n",
       "      <td>Female</td>\n",
       "      <td>37.310264</td>\n",
       "      <td>1</td>\n",
       "      <td>1</td>\n",
       "      <td>ios</td>\n",
       "    </tr>\n",
       "    <tr>\n",
       "      <th>4</th>\n",
       "      <td>4</td>\n",
       "      <td>Female</td>\n",
       "      <td>147.513105</td>\n",
       "      <td>0</td>\n",
       "      <td>1</td>\n",
       "      <td>web</td>\n",
       "    </tr>\n",
       "  </tbody>\n",
       "</table>\n",
       "</div>"
      ],
      "text/plain": [
       "   id  gender     watched  sessions  day platform\n",
       "0   0    Male   28.440846         4    1  android\n",
       "1   1  Female    1.825271         2    1      ios\n",
       "2   2  Female   46.995606         0    1      web\n",
       "3   3  Female   37.310264         1    1      ios\n",
       "4   4  Female  147.513105         0    1      web"
      ]
     },
     "execution_count": 3,
     "metadata": {},
     "output_type": "execute_result"
    }
   ],
   "source": [
    "dataframe = pd.read_csv('../tests/test_data/week_metrics.csv')\n",
    "dataframe.head()"
   ]
  },
  {
   "cell_type": "markdown",
   "id": "bc4d2485",
   "metadata": {},
   "source": [
    "## Aggregate data"
   ]
  },
  {
   "cell_type": "markdown",
   "id": "c9ce4ddd",
   "metadata": {},
   "source": [
    "We would like to run a fixed-horizon A/B test in which we will observe the weekly metrics of users, and for the design of the experiment we have historical data of the size of a week. *(For the real experiments historical data of one week is not enougth in that case)*\n",
    "\n",
    "First, we need to aggregate the metrics by users in order to bring the metrics of the objects in the dataset to the desired form and so that rows become independent of each other."
   ]
  },
  {
   "cell_type": "code",
   "execution_count": 5,
   "id": "f89c9ddf",
   "metadata": {},
   "outputs": [],
   "source": [
    "transformer = AggregatePreprocessor()"
   ]
  },
  {
   "cell_type": "code",
   "execution_count": 6,
   "id": "5bd0fe40",
   "metadata": {},
   "outputs": [],
   "source": [
    "df = transformer.fit_transform(dataframe, groupby_columns='id', agg_params={\n",
    "    'watched' : 'sum',\n",
    "    'sessions' : 'max',\n",
    "    'gender' : 'simple',\n",
    "    'platform' : 'mode'\n",
    "})"
   ]
  },
  {
   "cell_type": "code",
   "execution_count": 7,
   "id": "35067891",
   "metadata": {},
   "outputs": [
    {
     "data": {
      "text/html": [
       "<div>\n",
       "<style scoped>\n",
       "    .dataframe tbody tr th:only-of-type {\n",
       "        vertical-align: middle;\n",
       "    }\n",
       "\n",
       "    .dataframe tbody tr th {\n",
       "        vertical-align: top;\n",
       "    }\n",
       "\n",
       "    .dataframe thead th {\n",
       "        text-align: right;\n",
       "    }\n",
       "</style>\n",
       "<table border=\"1\" class=\"dataframe\">\n",
       "  <thead>\n",
       "    <tr style=\"text-align: right;\">\n",
       "      <th></th>\n",
       "      <th>id</th>\n",
       "      <th>watched</th>\n",
       "      <th>sessions</th>\n",
       "      <th>gender</th>\n",
       "      <th>platform</th>\n",
       "    </tr>\n",
       "  </thead>\n",
       "  <tbody>\n",
       "    <tr>\n",
       "      <th>0</th>\n",
       "      <td>0</td>\n",
       "      <td>772.597224</td>\n",
       "      <td>4</td>\n",
       "      <td>Male</td>\n",
       "      <td>ios</td>\n",
       "    </tr>\n",
       "    <tr>\n",
       "      <th>1</th>\n",
       "      <td>1</td>\n",
       "      <td>538.076739</td>\n",
       "      <td>6</td>\n",
       "      <td>Female</td>\n",
       "      <td>android</td>\n",
       "    </tr>\n",
       "    <tr>\n",
       "      <th>2</th>\n",
       "      <td>2</td>\n",
       "      <td>288.492353</td>\n",
       "      <td>7</td>\n",
       "      <td>Female</td>\n",
       "      <td>android</td>\n",
       "    </tr>\n",
       "    <tr>\n",
       "      <th>3</th>\n",
       "      <td>3</td>\n",
       "      <td>373.620408</td>\n",
       "      <td>3</td>\n",
       "      <td>Female</td>\n",
       "      <td>ios</td>\n",
       "    </tr>\n",
       "    <tr>\n",
       "      <th>4</th>\n",
       "      <td>4</td>\n",
       "      <td>630.238862</td>\n",
       "      <td>8</td>\n",
       "      <td>Female</td>\n",
       "      <td>ios</td>\n",
       "    </tr>\n",
       "  </tbody>\n",
       "</table>\n",
       "</div>"
      ],
      "text/plain": [
       "   id     watched  sessions  gender platform\n",
       "0   0  772.597224         4    Male      ios\n",
       "1   1  538.076739         6  Female  android\n",
       "2   2  288.492353         7  Female  android\n",
       "3   3  373.620408         3  Female      ios\n",
       "4   4  630.238862         8  Female      ios"
      ]
     },
     "execution_count": 7,
     "metadata": {},
     "output_type": "execute_result"
    }
   ],
   "source": [
    "df.head()"
   ]
  },
  {
   "cell_type": "markdown",
   "id": "ebb04797",
   "metadata": {},
   "source": [
    "## Design A/B test parameters"
   ]
  },
  {
   "cell_type": "markdown",
   "id": "0559e359",
   "metadata": {},
   "source": [
    "Let's conduct an experiment design, suppose we want to catch a **5% effect** on the ``watched`` metric with standard I and II type statistical errors. \\\n",
    "How many users should be in each experimental group for that scenario?\n",
    "\n",
    "We will use theoretical approach for the parameters calculation, and after the end of the experiment we will apply the two sample independent t-test as a statistical criterion."
   ]
  },
  {
   "cell_type": "code",
   "execution_count": 8,
   "id": "a81f0676",
   "metadata": {},
   "outputs": [],
   "source": [
    "designer = Designer(dataframe=df, metrics='watched')"
   ]
  },
  {
   "cell_type": "code",
   "execution_count": 9,
   "id": "b85d6dc4",
   "metadata": {},
   "outputs": [
    {
     "data": {
      "text/html": [
       "<div>\n",
       "<style scoped>\n",
       "    .dataframe tbody tr th:only-of-type {\n",
       "        vertical-align: middle;\n",
       "    }\n",
       "\n",
       "    .dataframe tbody tr th {\n",
       "        vertical-align: top;\n",
       "    }\n",
       "\n",
       "    .dataframe thead tr th {\n",
       "        text-align: left;\n",
       "    }\n",
       "\n",
       "    .dataframe thead tr:last-of-type th {\n",
       "        text-align: right;\n",
       "    }\n",
       "</style>\n",
       "<table border=\"1\" class=\"dataframe\">\n",
       "  <thead>\n",
       "    <tr>\n",
       "      <th>errors</th>\n",
       "      <th>(0.05; 0.2)</th>\n",
       "    </tr>\n",
       "    <tr>\n",
       "      <th>effects</th>\n",
       "      <th></th>\n",
       "    </tr>\n",
       "  </thead>\n",
       "  <tbody>\n",
       "    <tr>\n",
       "      <th>5.0%</th>\n",
       "      <td>894</td>\n",
       "    </tr>\n",
       "  </tbody>\n",
       "</table>\n",
       "</div>"
      ],
      "text/plain": [
       "errors  (0.05; 0.2)\n",
       "effects            \n",
       "5.0%            894"
      ]
     },
     "execution_count": 9,
     "metadata": {},
     "output_type": "execute_result"
    }
   ],
   "source": [
    "designer.run('size', method='theory', effects=1.05)"
   ]
  },
  {
   "cell_type": "markdown",
   "id": "078dcb73",
   "metadata": {},
   "source": [
    "**For our experiment, a number of about 900 objects in each experimental group is sufficient**"
   ]
  },
  {
   "cell_type": "markdown",
   "id": "6b418ff9",
   "metadata": {},
   "source": [
    "# Split groups"
   ]
  },
  {
   "cell_type": "markdown",
   "id": "9b0090f8",
   "metadata": {},
   "source": [
    "In our business scenario, we don't need a real-time splitting system and we can use batch group split. We will use the same data frame as a complete database containing unique object IDs and some useful data.\n",
    "\n",
    "Let's make a group split of the calculated size, that considers ``gender`` and ``platform``  variables stratification. Hash split approach will be used to get the deterministic split result."
   ]
  },
  {
   "cell_type": "code",
   "execution_count": 48,
   "id": "b4ec87e9",
   "metadata": {},
   "outputs": [],
   "source": [
    "splitter = Splitter(dataframe=df,\n",
    "                    strat_columns=['gender', 'platform'],\n",
    "                    fit_columns=['sessions'])"
   ]
  },
  {
   "cell_type": "code",
   "execution_count": 54,
   "id": "36765a0b",
   "metadata": {},
   "outputs": [],
   "source": [
    "splitted_groups = splitter.run(groups_size=900, method='hash', salt='exp_322')"
   ]
  },
  {
   "cell_type": "code",
   "execution_count": 55,
   "id": "d811d883",
   "metadata": {},
   "outputs": [
    {
     "data": {
      "text/html": [
       "<div>\n",
       "<style scoped>\n",
       "    .dataframe tbody tr th:only-of-type {\n",
       "        vertical-align: middle;\n",
       "    }\n",
       "\n",
       "    .dataframe tbody tr th {\n",
       "        vertical-align: top;\n",
       "    }\n",
       "\n",
       "    .dataframe thead th {\n",
       "        text-align: right;\n",
       "    }\n",
       "</style>\n",
       "<table border=\"1\" class=\"dataframe\">\n",
       "  <thead>\n",
       "    <tr style=\"text-align: right;\">\n",
       "      <th></th>\n",
       "      <th>id</th>\n",
       "      <th>watched</th>\n",
       "      <th>sessions</th>\n",
       "      <th>gender</th>\n",
       "      <th>platform</th>\n",
       "      <th>group</th>\n",
       "    </tr>\n",
       "  </thead>\n",
       "  <tbody>\n",
       "    <tr>\n",
       "      <th>1</th>\n",
       "      <td>1</td>\n",
       "      <td>538.076739</td>\n",
       "      <td>6</td>\n",
       "      <td>Female</td>\n",
       "      <td>android</td>\n",
       "      <td>A</td>\n",
       "    </tr>\n",
       "    <tr>\n",
       "      <th>6</th>\n",
       "      <td>6</td>\n",
       "      <td>516.444015</td>\n",
       "      <td>10</td>\n",
       "      <td>Female</td>\n",
       "      <td>android</td>\n",
       "      <td>A</td>\n",
       "    </tr>\n",
       "    <tr>\n",
       "      <th>10</th>\n",
       "      <td>10</td>\n",
       "      <td>678.150205</td>\n",
       "      <td>3</td>\n",
       "      <td>Female</td>\n",
       "      <td>android</td>\n",
       "      <td>A</td>\n",
       "    </tr>\n",
       "    <tr>\n",
       "      <th>31</th>\n",
       "      <td>31</td>\n",
       "      <td>638.889779</td>\n",
       "      <td>11</td>\n",
       "      <td>Female</td>\n",
       "      <td>android</td>\n",
       "      <td>A</td>\n",
       "    </tr>\n",
       "    <tr>\n",
       "      <th>49</th>\n",
       "      <td>49</td>\n",
       "      <td>441.192430</td>\n",
       "      <td>5</td>\n",
       "      <td>Female</td>\n",
       "      <td>android</td>\n",
       "      <td>A</td>\n",
       "    </tr>\n",
       "    <tr>\n",
       "      <th>...</th>\n",
       "      <td>...</td>\n",
       "      <td>...</td>\n",
       "      <td>...</td>\n",
       "      <td>...</td>\n",
       "      <td>...</td>\n",
       "      <td>...</td>\n",
       "    </tr>\n",
       "    <tr>\n",
       "      <th>378</th>\n",
       "      <td>378</td>\n",
       "      <td>1217.191864</td>\n",
       "      <td>5</td>\n",
       "      <td>Male</td>\n",
       "      <td>android</td>\n",
       "      <td>A</td>\n",
       "    </tr>\n",
       "    <tr>\n",
       "      <th>258</th>\n",
       "      <td>258</td>\n",
       "      <td>1356.446101</td>\n",
       "      <td>3</td>\n",
       "      <td>Female</td>\n",
       "      <td>ios</td>\n",
       "      <td>A</td>\n",
       "    </tr>\n",
       "    <tr>\n",
       "      <th>1973</th>\n",
       "      <td>1973</td>\n",
       "      <td>662.959150</td>\n",
       "      <td>8</td>\n",
       "      <td>Female</td>\n",
       "      <td>android</td>\n",
       "      <td>B</td>\n",
       "    </tr>\n",
       "    <tr>\n",
       "      <th>4324</th>\n",
       "      <td>4324</td>\n",
       "      <td>610.512075</td>\n",
       "      <td>5</td>\n",
       "      <td>Male</td>\n",
       "      <td>web</td>\n",
       "      <td>B</td>\n",
       "    </tr>\n",
       "    <tr>\n",
       "      <th>4791</th>\n",
       "      <td>4791</td>\n",
       "      <td>607.091209</td>\n",
       "      <td>22</td>\n",
       "      <td>Male</td>\n",
       "      <td>web</td>\n",
       "      <td>B</td>\n",
       "    </tr>\n",
       "  </tbody>\n",
       "</table>\n",
       "<p>1800 rows × 6 columns</p>\n",
       "</div>"
      ],
      "text/plain": [
       "        id      watched  sessions  gender platform group\n",
       "1        1   538.076739         6  Female  android     A\n",
       "6        6   516.444015        10  Female  android     A\n",
       "10      10   678.150205         3  Female  android     A\n",
       "31      31   638.889779        11  Female  android     A\n",
       "49      49   441.192430         5  Female  android     A\n",
       "...    ...          ...       ...     ...      ...   ...\n",
       "378    378  1217.191864         5    Male  android     A\n",
       "258    258  1356.446101         3  Female      ios     A\n",
       "1973  1973   662.959150         8  Female  android     B\n",
       "4324  4324   610.512075         5    Male      web     B\n",
       "4791  4791   607.091209        22    Male      web     B\n",
       "\n",
       "[1800 rows x 6 columns]"
      ]
     },
     "execution_count": 55,
     "metadata": {},
     "output_type": "execute_result"
    }
   ],
   "source": [
    "splitted_groups"
   ]
  },
  {
   "cell_type": "markdown",
   "id": "aafb65bb",
   "metadata": {},
   "source": [
    "Objects with these identifiers will fall into the corresponding groups. Let's wait for the end of the experiment and look at the result."
   ]
  },
  {
   "cell_type": "markdown",
   "id": "35ac243e",
   "metadata": {},
   "source": [
    "## Result measurment"
   ]
  },
  {
   "cell_type": "markdown",
   "id": "cb8f4455",
   "metadata": {},
   "source": [
    "The experiment ended and we received data on daily metrics in both groups for a week. \\\n",
    "Let's aggregate data to weekly values and examine for statistically significant changes."
   ]
  },
  {
   "cell_type": "code",
   "execution_count": 56,
   "id": "19ecd11b",
   "metadata": {},
   "outputs": [
    {
     "data": {
      "text/html": [
       "<div>\n",
       "<style scoped>\n",
       "    .dataframe tbody tr th:only-of-type {\n",
       "        vertical-align: middle;\n",
       "    }\n",
       "\n",
       "    .dataframe tbody tr th {\n",
       "        vertical-align: top;\n",
       "    }\n",
       "\n",
       "    .dataframe thead th {\n",
       "        text-align: right;\n",
       "    }\n",
       "</style>\n",
       "<table border=\"1\" class=\"dataframe\">\n",
       "  <thead>\n",
       "    <tr style=\"text-align: right;\">\n",
       "      <th></th>\n",
       "      <th>id</th>\n",
       "      <th>watched</th>\n",
       "      <th>group</th>\n",
       "      <th>day</th>\n",
       "    </tr>\n",
       "  </thead>\n",
       "  <tbody>\n",
       "    <tr>\n",
       "      <th>0</th>\n",
       "      <td>1708</td>\n",
       "      <td>349.581133</td>\n",
       "      <td>A</td>\n",
       "      <td>1</td>\n",
       "    </tr>\n",
       "    <tr>\n",
       "      <th>1</th>\n",
       "      <td>24</td>\n",
       "      <td>124.224169</td>\n",
       "      <td>A</td>\n",
       "      <td>1</td>\n",
       "    </tr>\n",
       "    <tr>\n",
       "      <th>2</th>\n",
       "      <td>1692</td>\n",
       "      <td>14.812922</td>\n",
       "      <td>A</td>\n",
       "      <td>1</td>\n",
       "    </tr>\n",
       "    <tr>\n",
       "      <th>3</th>\n",
       "      <td>185</td>\n",
       "      <td>179.607284</td>\n",
       "      <td>A</td>\n",
       "      <td>1</td>\n",
       "    </tr>\n",
       "    <tr>\n",
       "      <th>4</th>\n",
       "      <td>205</td>\n",
       "      <td>349.539016</td>\n",
       "      <td>A</td>\n",
       "      <td>1</td>\n",
       "    </tr>\n",
       "  </tbody>\n",
       "</table>\n",
       "</div>"
      ],
      "text/plain": [
       "     id     watched group  day\n",
       "0  1708  349.581133     A    1\n",
       "1    24  124.224169     A    1\n",
       "2  1692   14.812922     A    1\n",
       "3   185  179.607284     A    1\n",
       "4   205  349.539016     A    1"
      ]
     },
     "execution_count": 56,
     "metadata": {},
     "output_type": "execute_result"
    }
   ],
   "source": [
    "experiment_result = pd.read_csv('../tests/test_data/watch_result.csv')\n",
    "experiment_result.head()"
   ]
  },
  {
   "cell_type": "markdown",
   "id": "4ee47ade",
   "metadata": {},
   "source": [
    "Aggregate"
   ]
  },
  {
   "cell_type": "code",
   "execution_count": 58,
   "id": "fc1bb674",
   "metadata": {},
   "outputs": [],
   "source": [
    "transformer = AggregatePreprocessor(real_method='sum')"
   ]
  },
  {
   "cell_type": "code",
   "execution_count": 59,
   "id": "d6fab706",
   "metadata": {},
   "outputs": [],
   "source": [
    "df_to_test = transformer.fit_transform(dataframe=experiment_result,\n",
    "                                       groupby_columns='id',\n",
    "                                       real_cols='watched',\n",
    "                                       categorial_cols='group')"
   ]
  },
  {
   "cell_type": "code",
   "execution_count": 60,
   "id": "1a0ff9f9",
   "metadata": {},
   "outputs": [
    {
     "data": {
      "text/html": [
       "<div>\n",
       "<style scoped>\n",
       "    .dataframe tbody tr th:only-of-type {\n",
       "        vertical-align: middle;\n",
       "    }\n",
       "\n",
       "    .dataframe tbody tr th {\n",
       "        vertical-align: top;\n",
       "    }\n",
       "\n",
       "    .dataframe thead th {\n",
       "        text-align: right;\n",
       "    }\n",
       "</style>\n",
       "<table border=\"1\" class=\"dataframe\">\n",
       "  <thead>\n",
       "    <tr style=\"text-align: right;\">\n",
       "      <th></th>\n",
       "      <th>id</th>\n",
       "      <th>watched</th>\n",
       "      <th>group</th>\n",
       "    </tr>\n",
       "  </thead>\n",
       "  <tbody>\n",
       "    <tr>\n",
       "      <th>0</th>\n",
       "      <td>6</td>\n",
       "      <td>597.833362</td>\n",
       "      <td>A</td>\n",
       "    </tr>\n",
       "    <tr>\n",
       "      <th>1</th>\n",
       "      <td>11</td>\n",
       "      <td>549.314234</td>\n",
       "      <td>A</td>\n",
       "    </tr>\n",
       "    <tr>\n",
       "      <th>2</th>\n",
       "      <td>20</td>\n",
       "      <td>564.401942</td>\n",
       "      <td>A</td>\n",
       "    </tr>\n",
       "    <tr>\n",
       "      <th>3</th>\n",
       "      <td>21</td>\n",
       "      <td>248.735358</td>\n",
       "      <td>A</td>\n",
       "    </tr>\n",
       "    <tr>\n",
       "      <th>4</th>\n",
       "      <td>23</td>\n",
       "      <td>926.048946</td>\n",
       "      <td>B</td>\n",
       "    </tr>\n",
       "    <tr>\n",
       "      <th>...</th>\n",
       "      <td>...</td>\n",
       "      <td>...</td>\n",
       "      <td>...</td>\n",
       "    </tr>\n",
       "    <tr>\n",
       "      <th>1795</th>\n",
       "      <td>4987</td>\n",
       "      <td>454.662125</td>\n",
       "      <td>A</td>\n",
       "    </tr>\n",
       "    <tr>\n",
       "      <th>1796</th>\n",
       "      <td>4988</td>\n",
       "      <td>404.600192</td>\n",
       "      <td>B</td>\n",
       "    </tr>\n",
       "    <tr>\n",
       "      <th>1797</th>\n",
       "      <td>4997</td>\n",
       "      <td>594.629770</td>\n",
       "      <td>B</td>\n",
       "    </tr>\n",
       "    <tr>\n",
       "      <th>1798</th>\n",
       "      <td>4998</td>\n",
       "      <td>1025.918249</td>\n",
       "      <td>B</td>\n",
       "    </tr>\n",
       "    <tr>\n",
       "      <th>1799</th>\n",
       "      <td>4999</td>\n",
       "      <td>737.005009</td>\n",
       "      <td>B</td>\n",
       "    </tr>\n",
       "  </tbody>\n",
       "</table>\n",
       "<p>1800 rows × 3 columns</p>\n",
       "</div>"
      ],
      "text/plain": [
       "        id      watched group\n",
       "0        6   597.833362     A\n",
       "1       11   549.314234     A\n",
       "2       20   564.401942     A\n",
       "3       21   248.735358     A\n",
       "4       23   926.048946     B\n",
       "...    ...          ...   ...\n",
       "1795  4987   454.662125     A\n",
       "1796  4988   404.600192     B\n",
       "1797  4997   594.629770     B\n",
       "1798  4998  1025.918249     B\n",
       "1799  4999   737.005009     B\n",
       "\n",
       "[1800 rows x 3 columns]"
      ]
     },
     "execution_count": 60,
     "metadata": {},
     "output_type": "execute_result"
    }
   ],
   "source": [
    "df_to_test"
   ]
  },
  {
   "cell_type": "markdown",
   "id": "2c6a155c",
   "metadata": {},
   "source": [
    "Evaluate the result and calculate relative effect with the corresponding CI"
   ]
  },
  {
   "cell_type": "code",
   "execution_count": 61,
   "id": "101f5353",
   "metadata": {},
   "outputs": [],
   "source": [
    "tester = Tester(dataframe=df_to_test, metrics='watched', column_groups='group')"
   ]
  },
  {
   "cell_type": "code",
   "execution_count": 62,
   "id": "b4c57f74",
   "metadata": {},
   "outputs": [
    {
     "data": {
      "text/html": [
       "<div>\n",
       "<style scoped>\n",
       "    .dataframe tbody tr th:only-of-type {\n",
       "        vertical-align: middle;\n",
       "    }\n",
       "\n",
       "    .dataframe tbody tr th {\n",
       "        vertical-align: top;\n",
       "    }\n",
       "\n",
       "    .dataframe thead th {\n",
       "        text-align: right;\n",
       "    }\n",
       "</style>\n",
       "<table border=\"1\" class=\"dataframe\">\n",
       "  <thead>\n",
       "    <tr style=\"text-align: right;\">\n",
       "      <th></th>\n",
       "      <th>first_type_error</th>\n",
       "      <th>pvalue</th>\n",
       "      <th>effect</th>\n",
       "      <th>confidence_interval</th>\n",
       "      <th>metric name</th>\n",
       "      <th>group A label</th>\n",
       "      <th>group B label</th>\n",
       "    </tr>\n",
       "  </thead>\n",
       "  <tbody>\n",
       "    <tr>\n",
       "      <th>0</th>\n",
       "      <td>0.05</td>\n",
       "      <td>0.00004</td>\n",
       "      <td>0.079901</td>\n",
       "      <td>(0.0419, 0.1183)</td>\n",
       "      <td>watched</td>\n",
       "      <td>A</td>\n",
       "      <td>B</td>\n",
       "    </tr>\n",
       "  </tbody>\n",
       "</table>\n",
       "</div>"
      ],
      "text/plain": [
       "   first_type_error   pvalue    effect confidence_interval metric name  \\\n",
       "0              0.05  0.00004  0.079901    (0.0419, 0.1183)     watched   \n",
       "\n",
       "  group A label group B label  \n",
       "0             A             B  "
      ]
     },
     "execution_count": 62,
     "metadata": {},
     "output_type": "execute_result"
    }
   ],
   "source": [
    "tester.run(effect_type='relative', method='theory')"
   ]
  },
  {
   "cell_type": "markdown",
   "id": "4c925dc4",
   "metadata": {},
   "source": [
    "**For the chosen I type error we obtained a statistically significant result, with a point estimate of the effect of about ~8%**"
   ]
  }
 ],
 "metadata": {
  "kernelspec": {
   "display_name": "Python 3 (ipykernel)",
   "language": "python",
   "name": "python3"
  },
  "language_info": {
   "codemirror_mode": {
    "name": "ipython",
    "version": 3
   },
   "file_extension": ".py",
   "mimetype": "text/x-python",
   "name": "python",
   "nbconvert_exporter": "python",
   "pygments_lexer": "ipython3",
   "version": "3.9.16"
  },
  "varInspector": {
   "cols": {
    "lenName": 16,
    "lenType": 16,
    "lenVar": 40
   },
   "kernels_config": {
    "python": {
     "delete_cmd_postfix": "",
     "delete_cmd_prefix": "del ",
     "library": "var_list.py",
     "varRefreshCmd": "print(var_dic_list())"
    },
    "r": {
     "delete_cmd_postfix": ") ",
     "delete_cmd_prefix": "rm(",
     "library": "var_list.r",
     "varRefreshCmd": "cat(var_dic_list()) "
    }
   },
   "types_to_exclude": [
    "module",
    "function",
    "builtin_function_or_method",
    "instance",
    "_Feature"
   ],
   "window_display": false
  }
 },
 "nbformat": 4,
 "nbformat_minor": 5
}
