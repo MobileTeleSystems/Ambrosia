{
 "cells": [
  {
   "cell_type": "markdown",
   "id": "bdd654b0",
   "metadata": {},
   "source": [
    "# *Ambrosia* advanced metric transformation tools overview"
   ]
  },
  {
   "cell_type": "markdown",
   "id": "a3eff0f6",
   "metadata": {},
   "source": [
    "This notebook contains examples of using classes ``Cuped``, ``MultiCuped`` and ``MLVarianceReducer`` designed to reduce the variance of target metrics. Synthetically generated data is used for this purpose. **This data is artificial, so everything turned out very well.**\n",
    "\n",
    "There will be no theoretical aspects and details of these techniques, they will be added later. Use this notebook as API tutorial only."
   ]
  },
  {
   "cell_type": "code",
   "execution_count": 2,
   "id": "935cecc4",
   "metadata": {},
   "outputs": [],
   "source": [
    "import pandas as pd\n",
    "from ambrosia.preprocessing import Cuped, MultiCuped, MLVarianceReducer"
   ]
  },
  {
   "cell_type": "markdown",
   "id": "b0e88bb5",
   "metadata": {},
   "source": [
    "Load data"
   ]
  },
  {
   "cell_type": "code",
   "execution_count": 3,
   "id": "cb2e0555",
   "metadata": {},
   "outputs": [],
   "source": [
    "data = pd.read_csv('../tests/test_data/var_table.csv')"
   ]
  },
  {
   "cell_type": "code",
   "execution_count": 4,
   "id": "3ec9c49d",
   "metadata": {},
   "outputs": [
    {
     "data": {
      "text/html": [
       "<div>\n",
       "<style scoped>\n",
       "    .dataframe tbody tr th:only-of-type {\n",
       "        vertical-align: middle;\n",
       "    }\n",
       "\n",
       "    .dataframe tbody tr th {\n",
       "        vertical-align: top;\n",
       "    }\n",
       "\n",
       "    .dataframe thead th {\n",
       "        text-align: right;\n",
       "    }\n",
       "</style>\n",
       "<table border=\"1\" class=\"dataframe\">\n",
       "  <thead>\n",
       "    <tr style=\"text-align: right;\">\n",
       "      <th></th>\n",
       "      <th>feature_1</th>\n",
       "      <th>feature_2</th>\n",
       "      <th>feature_3</th>\n",
       "      <th>target</th>\n",
       "    </tr>\n",
       "  </thead>\n",
       "  <tbody>\n",
       "    <tr>\n",
       "      <th>0</th>\n",
       "      <td>-2.426916</td>\n",
       "      <td>5.575498</td>\n",
       "      <td>43.505323</td>\n",
       "      <td>187.385459</td>\n",
       "    </tr>\n",
       "    <tr>\n",
       "      <th>1</th>\n",
       "      <td>-2.745189</td>\n",
       "      <td>7.995822</td>\n",
       "      <td>19.942889</td>\n",
       "      <td>99.691566</td>\n",
       "    </tr>\n",
       "    <tr>\n",
       "      <th>2</th>\n",
       "      <td>2.437555</td>\n",
       "      <td>17.254237</td>\n",
       "      <td>33.091612</td>\n",
       "      <td>188.880782</td>\n",
       "    </tr>\n",
       "    <tr>\n",
       "      <th>3</th>\n",
       "      <td>6.202871</td>\n",
       "      <td>28.913551</td>\n",
       "      <td>25.026746</td>\n",
       "      <td>199.532560</td>\n",
       "    </tr>\n",
       "    <tr>\n",
       "      <th>4</th>\n",
       "      <td>3.099725</td>\n",
       "      <td>3.771417</td>\n",
       "      <td>26.403917</td>\n",
       "      <td>121.956238</td>\n",
       "    </tr>\n",
       "  </tbody>\n",
       "</table>\n",
       "</div>"
      ],
      "text/plain": [
       "   feature_1  feature_2  feature_3      target\n",
       "0  -2.426916   5.575498  43.505323  187.385459\n",
       "1  -2.745189   7.995822  19.942889   99.691566\n",
       "2   2.437555  17.254237  33.091612  188.880782\n",
       "3   6.202871  28.913551  25.026746  199.532560\n",
       "4   3.099725   3.771417  26.403917  121.956238"
      ]
     },
     "execution_count": 4,
     "metadata": {},
     "output_type": "execute_result"
    }
   ],
   "source": [
    "data.head()"
   ]
  },
  {
   "cell_type": "code",
   "execution_count": 5,
   "id": "9f1900b2",
   "metadata": {},
   "outputs": [],
   "source": [
    "target_column = 'target'"
   ]
  },
  {
   "cell_type": "markdown",
   "id": "df734659",
   "metadata": {},
   "source": [
    "## CUPED"
   ]
  },
  {
   "cell_type": "code",
   "execution_count": 6,
   "id": "4953b0b9",
   "metadata": {},
   "outputs": [],
   "source": [
    "cuped = Cuped()"
   ]
  },
  {
   "cell_type": "markdown",
   "id": "c694c2a1",
   "metadata": {},
   "source": [
    "Fit and transform"
   ]
  },
  {
   "cell_type": "code",
   "execution_count": 7,
   "id": "ca51646e",
   "metadata": {},
   "outputs": [
    {
     "name": "stderr",
     "output_type": "stream",
     "text": [
      "ambrosia LOGGER: After transformation СUPED for target, the variance is 67.0818 % of the original\n",
      "ambrosia LOGGER: Variance transformation 2982.4627 ===> 2000.6892\n"
     ]
    },
    {
     "data": {
      "text/html": [
       "<div>\n",
       "<style scoped>\n",
       "    .dataframe tbody tr th:only-of-type {\n",
       "        vertical-align: middle;\n",
       "    }\n",
       "\n",
       "    .dataframe tbody tr th {\n",
       "        vertical-align: top;\n",
       "    }\n",
       "\n",
       "    .dataframe thead th {\n",
       "        text-align: right;\n",
       "    }\n",
       "</style>\n",
       "<table border=\"1\" class=\"dataframe\">\n",
       "  <thead>\n",
       "    <tr style=\"text-align: right;\">\n",
       "      <th></th>\n",
       "      <th>feature_1</th>\n",
       "      <th>feature_2</th>\n",
       "      <th>feature_3</th>\n",
       "      <th>target</th>\n",
       "      <th>target_cuped</th>\n",
       "    </tr>\n",
       "  </thead>\n",
       "  <tbody>\n",
       "    <tr>\n",
       "      <th>0</th>\n",
       "      <td>-2.426916</td>\n",
       "      <td>5.575498</td>\n",
       "      <td>43.505323</td>\n",
       "      <td>187.385459</td>\n",
       "      <td>204.513107</td>\n",
       "    </tr>\n",
       "    <tr>\n",
       "      <th>1</th>\n",
       "      <td>-2.745189</td>\n",
       "      <td>7.995822</td>\n",
       "      <td>19.942889</td>\n",
       "      <td>99.691566</td>\n",
       "      <td>109.350175</td>\n",
       "    </tr>\n",
       "    <tr>\n",
       "      <th>2</th>\n",
       "      <td>2.437555</td>\n",
       "      <td>17.254237</td>\n",
       "      <td>33.091612</td>\n",
       "      <td>188.880782</td>\n",
       "      <td>169.968233</td>\n",
       "    </tr>\n",
       "    <tr>\n",
       "      <th>3</th>\n",
       "      <td>6.202871</td>\n",
       "      <td>28.913551</td>\n",
       "      <td>25.026746</td>\n",
       "      <td>199.532560</td>\n",
       "      <td>144.639755</td>\n",
       "    </tr>\n",
       "    <tr>\n",
       "      <th>4</th>\n",
       "      <td>3.099725</td>\n",
       "      <td>3.771417</td>\n",
       "      <td>26.403917</td>\n",
       "      <td>121.956238</td>\n",
       "      <td>144.651222</td>\n",
       "    </tr>\n",
       "    <tr>\n",
       "      <th>...</th>\n",
       "      <td>...</td>\n",
       "      <td>...</td>\n",
       "      <td>...</td>\n",
       "      <td>...</td>\n",
       "      <td>...</td>\n",
       "    </tr>\n",
       "    <tr>\n",
       "      <th>2995</th>\n",
       "      <td>1.277060</td>\n",
       "      <td>22.630330</td>\n",
       "      <td>36.479685</td>\n",
       "      <td>216.416345</td>\n",
       "      <td>180.913351</td>\n",
       "    </tr>\n",
       "    <tr>\n",
       "      <th>2996</th>\n",
       "      <td>5.124652</td>\n",
       "      <td>58.120888</td>\n",
       "      <td>13.836445</td>\n",
       "      <td>239.307014</td>\n",
       "      <td>94.281340</td>\n",
       "    </tr>\n",
       "    <tr>\n",
       "      <th>2997</th>\n",
       "      <td>-0.654616</td>\n",
       "      <td>3.930848</td>\n",
       "      <td>32.036205</td>\n",
       "      <td>139.957720</td>\n",
       "      <td>162.160705</td>\n",
       "    </tr>\n",
       "    <tr>\n",
       "      <th>2998</th>\n",
       "      <td>0.401016</td>\n",
       "      <td>29.254561</td>\n",
       "      <td>38.268808</td>\n",
       "      <td>240.608496</td>\n",
       "      <td>184.663346</td>\n",
       "    </tr>\n",
       "    <tr>\n",
       "      <th>2999</th>\n",
       "      <td>0.488993</td>\n",
       "      <td>4.792474</td>\n",
       "      <td>26.568754</td>\n",
       "      <td>121.064233</td>\n",
       "      <td>140.608270</td>\n",
       "    </tr>\n",
       "  </tbody>\n",
       "</table>\n",
       "<p>3000 rows × 5 columns</p>\n",
       "</div>"
      ],
      "text/plain": [
       "      feature_1  feature_2  feature_3      target  target_cuped\n",
       "0     -2.426916   5.575498  43.505323  187.385459    204.513107\n",
       "1     -2.745189   7.995822  19.942889   99.691566    109.350175\n",
       "2      2.437555  17.254237  33.091612  188.880782    169.968233\n",
       "3      6.202871  28.913551  25.026746  199.532560    144.639755\n",
       "4      3.099725   3.771417  26.403917  121.956238    144.651222\n",
       "...         ...        ...        ...         ...           ...\n",
       "2995   1.277060  22.630330  36.479685  216.416345    180.913351\n",
       "2996   5.124652  58.120888  13.836445  239.307014     94.281340\n",
       "2997  -0.654616   3.930848  32.036205  139.957720    162.160705\n",
       "2998   0.401016  29.254561  38.268808  240.608496    184.663346\n",
       "2999   0.488993   4.792474  26.568754  121.064233    140.608270\n",
       "\n",
       "[3000 rows x 5 columns]"
      ]
     },
     "execution_count": 7,
     "metadata": {},
     "output_type": "execute_result"
    }
   ],
   "source": [
    "cuped.fit_transform(\n",
    "    dataframe=data,\n",
    "    target_column=target_column,\n",
    "    covariate_column='feature_2',\n",
    "    transformed_name='target_cuped',\n",
    "    inplace=True,\n",
    ")"
   ]
  },
  {
   "cell_type": "markdown",
   "id": "9edbe750",
   "metadata": {},
   "source": [
    "Store fitted params"
   ]
  },
  {
   "cell_type": "code",
   "execution_count": 8,
   "id": "0246c998",
   "metadata": {},
   "outputs": [],
   "source": [
    "store_path_cuped = '_examples_configs/cuped_config.json'"
   ]
  },
  {
   "cell_type": "code",
   "execution_count": 9,
   "id": "77800996",
   "metadata": {},
   "outputs": [
    {
     "data": {
      "text/plain": [
       "{'target_column': 'target',\n",
       " 'transformed_name': 'target_cuped',\n",
       " 'covariate_column': 'feature_2',\n",
       " 'theta': 3.085966714908545,\n",
       " 'bias': 11.125671107545354}"
      ]
     },
     "execution_count": 9,
     "metadata": {},
     "output_type": "execute_result"
    }
   ],
   "source": [
    "cuped.get_params_dict()"
   ]
  },
  {
   "cell_type": "code",
   "execution_count": 10,
   "id": "67842bbf",
   "metadata": {},
   "outputs": [],
   "source": [
    "cuped.store_params(store_path_cuped)"
   ]
  },
  {
   "cell_type": "markdown",
   "id": "afaa934f",
   "metadata": {},
   "source": [
    "Load params"
   ]
  },
  {
   "cell_type": "code",
   "execution_count": 11,
   "id": "d529620e",
   "metadata": {
    "scrolled": true
   },
   "outputs": [],
   "source": [
    "new_cuped = Cuped()\n",
    "new_cuped.load_params(store_path_cuped)"
   ]
  },
  {
   "cell_type": "code",
   "execution_count": 12,
   "id": "4ffdce31",
   "metadata": {},
   "outputs": [
    {
     "data": {
      "text/plain": [
       "{'target_column': 'target',\n",
       " 'transformed_name': 'target_cuped',\n",
       " 'covariate_column': 'feature_2',\n",
       " 'theta': 3.085966714908545,\n",
       " 'bias': 11.125671107545354}"
      ]
     },
     "execution_count": 12,
     "metadata": {},
     "output_type": "execute_result"
    }
   ],
   "source": [
    "new_cuped.get_params_dict()"
   ]
  },
  {
   "cell_type": "markdown",
   "id": "16538711",
   "metadata": {},
   "source": [
    "## MultiCuped"
   ]
  },
  {
   "cell_type": "code",
   "execution_count": 13,
   "id": "b4955d79",
   "metadata": {},
   "outputs": [],
   "source": [
    "multicuped = MultiCuped()"
   ]
  },
  {
   "cell_type": "markdown",
   "id": "71219981",
   "metadata": {},
   "source": [
    "Fit and transform"
   ]
  },
  {
   "cell_type": "code",
   "execution_count": 14,
   "id": "a51bd70d",
   "metadata": {},
   "outputs": [
    {
     "name": "stderr",
     "output_type": "stream",
     "text": [
      "ambrosia LOGGER: After transformation Multi СUPED for target, the variance is 1.2779 % of the original\n",
      "ambrosia LOGGER: Variance transformation 2982.4627 ===> 38.1133\n"
     ]
    },
    {
     "data": {
      "text/html": [
       "<div>\n",
       "<style scoped>\n",
       "    .dataframe tbody tr th:only-of-type {\n",
       "        vertical-align: middle;\n",
       "    }\n",
       "\n",
       "    .dataframe tbody tr th {\n",
       "        vertical-align: top;\n",
       "    }\n",
       "\n",
       "    .dataframe thead th {\n",
       "        text-align: right;\n",
       "    }\n",
       "</style>\n",
       "<table border=\"1\" class=\"dataframe\">\n",
       "  <thead>\n",
       "    <tr style=\"text-align: right;\">\n",
       "      <th></th>\n",
       "      <th>feature_1</th>\n",
       "      <th>feature_2</th>\n",
       "      <th>feature_3</th>\n",
       "      <th>target</th>\n",
       "      <th>target_cuped</th>\n",
       "      <th>target_multicuped</th>\n",
       "    </tr>\n",
       "  </thead>\n",
       "  <tbody>\n",
       "    <tr>\n",
       "      <th>0</th>\n",
       "      <td>-2.426916</td>\n",
       "      <td>5.575498</td>\n",
       "      <td>43.505323</td>\n",
       "      <td>187.385459</td>\n",
       "      <td>204.513107</td>\n",
       "      <td>141.715314</td>\n",
       "    </tr>\n",
       "    <tr>\n",
       "      <th>1</th>\n",
       "      <td>-2.745189</td>\n",
       "      <td>7.995822</td>\n",
       "      <td>19.942889</td>\n",
       "      <td>99.691566</td>\n",
       "      <td>109.350175</td>\n",
       "      <td>140.948473</td>\n",
       "    </tr>\n",
       "    <tr>\n",
       "      <th>2</th>\n",
       "      <td>2.437555</td>\n",
       "      <td>17.254237</td>\n",
       "      <td>33.091612</td>\n",
       "      <td>188.880782</td>\n",
       "      <td>169.968233</td>\n",
       "      <td>149.436534</td>\n",
       "    </tr>\n",
       "    <tr>\n",
       "      <th>3</th>\n",
       "      <td>6.202871</td>\n",
       "      <td>28.913551</td>\n",
       "      <td>25.026746</td>\n",
       "      <td>199.532560</td>\n",
       "      <td>144.639755</td>\n",
       "      <td>156.975607</td>\n",
       "    </tr>\n",
       "    <tr>\n",
       "      <th>4</th>\n",
       "      <td>3.099725</td>\n",
       "      <td>3.771417</td>\n",
       "      <td>26.403917</td>\n",
       "      <td>121.956238</td>\n",
       "      <td>144.651222</td>\n",
       "      <td>150.181834</td>\n",
       "    </tr>\n",
       "    <tr>\n",
       "      <th>...</th>\n",
       "      <td>...</td>\n",
       "      <td>...</td>\n",
       "      <td>...</td>\n",
       "      <td>...</td>\n",
       "      <td>...</td>\n",
       "      <td>...</td>\n",
       "    </tr>\n",
       "    <tr>\n",
       "      <th>2995</th>\n",
       "      <td>1.277060</td>\n",
       "      <td>22.630330</td>\n",
       "      <td>36.479685</td>\n",
       "      <td>216.416345</td>\n",
       "      <td>180.913351</td>\n",
       "      <td>147.103213</td>\n",
       "    </tr>\n",
       "    <tr>\n",
       "      <th>2996</th>\n",
       "      <td>5.124652</td>\n",
       "      <td>58.120888</td>\n",
       "      <td>13.836445</td>\n",
       "      <td>239.307014</td>\n",
       "      <td>94.281340</td>\n",
       "      <td>152.893408</td>\n",
       "    </tr>\n",
       "    <tr>\n",
       "      <th>2997</th>\n",
       "      <td>-0.654616</td>\n",
       "      <td>3.930848</td>\n",
       "      <td>32.036205</td>\n",
       "      <td>139.957720</td>\n",
       "      <td>162.160705</td>\n",
       "      <td>145.165200</td>\n",
       "    </tr>\n",
       "    <tr>\n",
       "      <th>2998</th>\n",
       "      <td>0.401016</td>\n",
       "      <td>29.254561</td>\n",
       "      <td>38.268808</td>\n",
       "      <td>240.608496</td>\n",
       "      <td>184.663346</td>\n",
       "      <td>144.036343</td>\n",
       "    </tr>\n",
       "    <tr>\n",
       "      <th>2999</th>\n",
       "      <td>0.488993</td>\n",
       "      <td>4.792474</td>\n",
       "      <td>26.568754</td>\n",
       "      <td>121.064233</td>\n",
       "      <td>140.608270</td>\n",
       "      <td>145.531984</td>\n",
       "    </tr>\n",
       "  </tbody>\n",
       "</table>\n",
       "<p>3000 rows × 6 columns</p>\n",
       "</div>"
      ],
      "text/plain": [
       "      feature_1  feature_2  feature_3      target  target_cuped  \\\n",
       "0     -2.426916   5.575498  43.505323  187.385459    204.513107   \n",
       "1     -2.745189   7.995822  19.942889   99.691566    109.350175   \n",
       "2      2.437555  17.254237  33.091612  188.880782    169.968233   \n",
       "3      6.202871  28.913551  25.026746  199.532560    144.639755   \n",
       "4      3.099725   3.771417  26.403917  121.956238    144.651222   \n",
       "...         ...        ...        ...         ...           ...   \n",
       "2995   1.277060  22.630330  36.479685  216.416345    180.913351   \n",
       "2996   5.124652  58.120888  13.836445  239.307014     94.281340   \n",
       "2997  -0.654616   3.930848  32.036205  139.957720    162.160705   \n",
       "2998   0.401016  29.254561  38.268808  240.608496    184.663346   \n",
       "2999   0.488993   4.792474  26.568754  121.064233    140.608270   \n",
       "\n",
       "      target_multicuped  \n",
       "0            141.715314  \n",
       "1            140.948473  \n",
       "2            149.436534  \n",
       "3            156.975607  \n",
       "4            150.181834  \n",
       "...                 ...  \n",
       "2995         147.103213  \n",
       "2996         152.893408  \n",
       "2997         145.165200  \n",
       "2998         144.036343  \n",
       "2999         145.531984  \n",
       "\n",
       "[3000 rows x 6 columns]"
      ]
     },
     "execution_count": 14,
     "metadata": {},
     "output_type": "execute_result"
    }
   ],
   "source": [
    "multicuped.fit_transform(dataframe=data,\n",
    "                         target_column=target_column,\n",
    "                         covariate_columns=['feature_2', 'feature_3'],\n",
    "                         transformed_name='target_multicuped',\n",
    "                         inplace=True)"
   ]
  },
  {
   "cell_type": "markdown",
   "id": "8de064d8",
   "metadata": {},
   "source": [
    "Store fitted params"
   ]
  },
  {
   "cell_type": "code",
   "execution_count": 15,
   "id": "ce778217",
   "metadata": {},
   "outputs": [],
   "source": [
    "store_path_multicuped = '_examples_configs/multicuped_config.json'"
   ]
  },
  {
   "cell_type": "code",
   "execution_count": 16,
   "id": "a6cbc51b",
   "metadata": {},
   "outputs": [
    {
     "data": {
      "text/plain": [
       "{'target_column': 'target',\n",
       " 'transformed_name': 'target_multicuped',\n",
       " 'covariate_columns': ['feature_2', 'feature_3'],\n",
       " 'theta': [[3.034447972098987], [4.000919354909565]],\n",
       " 'bias': 145.30970530527566}"
      ]
     },
     "execution_count": 16,
     "metadata": {},
     "output_type": "execute_result"
    }
   ],
   "source": [
    "multicuped.get_params_dict()"
   ]
  },
  {
   "cell_type": "code",
   "execution_count": 17,
   "id": "24318dc9",
   "metadata": {},
   "outputs": [],
   "source": [
    "multicuped.store_params(store_path_multicuped)"
   ]
  },
  {
   "cell_type": "markdown",
   "id": "5aa4cdfa",
   "metadata": {},
   "source": [
    "Load params"
   ]
  },
  {
   "cell_type": "code",
   "execution_count": 18,
   "id": "d8ae05f8",
   "metadata": {
    "scrolled": true
   },
   "outputs": [],
   "source": [
    "new_multicuped = MultiCuped()\n",
    "new_multicuped.load_params(store_path_multicuped)"
   ]
  },
  {
   "cell_type": "code",
   "execution_count": 19,
   "id": "fd6493e8",
   "metadata": {},
   "outputs": [
    {
     "data": {
      "text/plain": [
       "{'target_column': 'target',\n",
       " 'transformed_name': 'target_multicuped',\n",
       " 'covariate_columns': ['feature_2', 'feature_3'],\n",
       " 'theta': [[3.034447972098987], [4.000919354909565]],\n",
       " 'bias': 145.30970530527566}"
      ]
     },
     "execution_count": 19,
     "metadata": {},
     "output_type": "execute_result"
    }
   ],
   "source": [
    "new_multicuped.get_params_dict()"
   ]
  },
  {
   "cell_type": "markdown",
   "id": "20cb945f",
   "metadata": {},
   "source": [
    "## ML Variance Reduction"
   ]
  },
  {
   "cell_type": "code",
   "execution_count": 20,
   "id": "834d6fb1",
   "metadata": {},
   "outputs": [],
   "source": [
    "mltransformer = MLVarianceReducer()"
   ]
  },
  {
   "cell_type": "markdown",
   "id": "ec2fcc2f",
   "metadata": {},
   "source": [
    "Fit and transform"
   ]
  },
  {
   "cell_type": "code",
   "execution_count": 21,
   "id": "fcb2424e",
   "metadata": {},
   "outputs": [
    {
     "name": "stderr",
     "output_type": "stream",
     "text": [
      "ambrosia LOGGER: After transformation ML approach reduce for target, the variance is 0.9774 % of the original\n",
      "ambrosia LOGGER: Variance transformation 2982.4627 ===> 29.1504\n",
      "ambrosia LOGGER: Prediction MSE score - 2945.29041\n"
     ]
    },
    {
     "data": {
      "text/html": [
       "<div>\n",
       "<style scoped>\n",
       "    .dataframe tbody tr th:only-of-type {\n",
       "        vertical-align: middle;\n",
       "    }\n",
       "\n",
       "    .dataframe tbody tr th {\n",
       "        vertical-align: top;\n",
       "    }\n",
       "\n",
       "    .dataframe thead th {\n",
       "        text-align: right;\n",
       "    }\n",
       "</style>\n",
       "<table border=\"1\" class=\"dataframe\">\n",
       "  <thead>\n",
       "    <tr style=\"text-align: right;\">\n",
       "      <th></th>\n",
       "      <th>feature_1</th>\n",
       "      <th>feature_2</th>\n",
       "      <th>feature_3</th>\n",
       "      <th>target</th>\n",
       "      <th>target_cuped</th>\n",
       "      <th>target_multicuped</th>\n",
       "      <th>target_mlreducer</th>\n",
       "    </tr>\n",
       "  </thead>\n",
       "  <tbody>\n",
       "    <tr>\n",
       "      <th>0</th>\n",
       "      <td>-2.426916</td>\n",
       "      <td>5.575498</td>\n",
       "      <td>43.505323</td>\n",
       "      <td>187.385459</td>\n",
       "      <td>204.513107</td>\n",
       "      <td>141.715314</td>\n",
       "      <td>144.540545</td>\n",
       "    </tr>\n",
       "    <tr>\n",
       "      <th>1</th>\n",
       "      <td>-2.745189</td>\n",
       "      <td>7.995822</td>\n",
       "      <td>19.942889</td>\n",
       "      <td>99.691566</td>\n",
       "      <td>109.350175</td>\n",
       "      <td>140.948473</td>\n",
       "      <td>141.665906</td>\n",
       "    </tr>\n",
       "    <tr>\n",
       "      <th>2</th>\n",
       "      <td>2.437555</td>\n",
       "      <td>17.254237</td>\n",
       "      <td>33.091612</td>\n",
       "      <td>188.880782</td>\n",
       "      <td>169.968233</td>\n",
       "      <td>149.436534</td>\n",
       "      <td>149.703421</td>\n",
       "    </tr>\n",
       "    <tr>\n",
       "      <th>3</th>\n",
       "      <td>6.202871</td>\n",
       "      <td>28.913551</td>\n",
       "      <td>25.026746</td>\n",
       "      <td>199.532560</td>\n",
       "      <td>144.639755</td>\n",
       "      <td>156.975607</td>\n",
       "      <td>153.785873</td>\n",
       "    </tr>\n",
       "    <tr>\n",
       "      <th>4</th>\n",
       "      <td>3.099725</td>\n",
       "      <td>3.771417</td>\n",
       "      <td>26.403917</td>\n",
       "      <td>121.956238</td>\n",
       "      <td>144.651222</td>\n",
       "      <td>150.181834</td>\n",
       "      <td>150.223084</td>\n",
       "    </tr>\n",
       "    <tr>\n",
       "      <th>...</th>\n",
       "      <td>...</td>\n",
       "      <td>...</td>\n",
       "      <td>...</td>\n",
       "      <td>...</td>\n",
       "      <td>...</td>\n",
       "      <td>...</td>\n",
       "      <td>...</td>\n",
       "    </tr>\n",
       "    <tr>\n",
       "      <th>2995</th>\n",
       "      <td>1.277060</td>\n",
       "      <td>22.630330</td>\n",
       "      <td>36.479685</td>\n",
       "      <td>216.416345</td>\n",
       "      <td>180.913351</td>\n",
       "      <td>147.103213</td>\n",
       "      <td>148.719639</td>\n",
       "    </tr>\n",
       "    <tr>\n",
       "      <th>2996</th>\n",
       "      <td>5.124652</td>\n",
       "      <td>58.120888</td>\n",
       "      <td>13.836445</td>\n",
       "      <td>239.307014</td>\n",
       "      <td>94.281340</td>\n",
       "      <td>152.893408</td>\n",
       "      <td>151.970972</td>\n",
       "    </tr>\n",
       "    <tr>\n",
       "      <th>2997</th>\n",
       "      <td>-0.654616</td>\n",
       "      <td>3.930848</td>\n",
       "      <td>32.036205</td>\n",
       "      <td>139.957720</td>\n",
       "      <td>162.160705</td>\n",
       "      <td>145.165200</td>\n",
       "      <td>146.166828</td>\n",
       "    </tr>\n",
       "    <tr>\n",
       "      <th>2998</th>\n",
       "      <td>0.401016</td>\n",
       "      <td>29.254561</td>\n",
       "      <td>38.268808</td>\n",
       "      <td>240.608496</td>\n",
       "      <td>184.663346</td>\n",
       "      <td>144.036343</td>\n",
       "      <td>141.938850</td>\n",
       "    </tr>\n",
       "    <tr>\n",
       "      <th>2999</th>\n",
       "      <td>0.488993</td>\n",
       "      <td>4.792474</td>\n",
       "      <td>26.568754</td>\n",
       "      <td>121.064233</td>\n",
       "      <td>140.608270</td>\n",
       "      <td>145.531984</td>\n",
       "      <td>144.528026</td>\n",
       "    </tr>\n",
       "  </tbody>\n",
       "</table>\n",
       "<p>3000 rows × 7 columns</p>\n",
       "</div>"
      ],
      "text/plain": [
       "      feature_1  feature_2  feature_3      target  target_cuped  \\\n",
       "0     -2.426916   5.575498  43.505323  187.385459    204.513107   \n",
       "1     -2.745189   7.995822  19.942889   99.691566    109.350175   \n",
       "2      2.437555  17.254237  33.091612  188.880782    169.968233   \n",
       "3      6.202871  28.913551  25.026746  199.532560    144.639755   \n",
       "4      3.099725   3.771417  26.403917  121.956238    144.651222   \n",
       "...         ...        ...        ...         ...           ...   \n",
       "2995   1.277060  22.630330  36.479685  216.416345    180.913351   \n",
       "2996   5.124652  58.120888  13.836445  239.307014     94.281340   \n",
       "2997  -0.654616   3.930848  32.036205  139.957720    162.160705   \n",
       "2998   0.401016  29.254561  38.268808  240.608496    184.663346   \n",
       "2999   0.488993   4.792474  26.568754  121.064233    140.608270   \n",
       "\n",
       "      target_multicuped  target_mlreducer  \n",
       "0            141.715314        144.540545  \n",
       "1            140.948473        141.665906  \n",
       "2            149.436534        149.703421  \n",
       "3            156.975607        153.785873  \n",
       "4            150.181834        150.223084  \n",
       "...                 ...               ...  \n",
       "2995         147.103213        148.719639  \n",
       "2996         152.893408        151.970972  \n",
       "2997         145.165200        146.166828  \n",
       "2998         144.036343        141.938850  \n",
       "2999         145.531984        144.528026  \n",
       "\n",
       "[3000 rows x 7 columns]"
      ]
     },
     "execution_count": 21,
     "metadata": {},
     "output_type": "execute_result"
    }
   ],
   "source": [
    "mltransformer.fit_transform(dataframe=data,\n",
    "                            target_column=target_column,\n",
    "                            covariate_columns=['feature_2', 'feature_3'],\n",
    "                            transformed_name='target_mlreducer',\n",
    "                            inplace=True)"
   ]
  },
  {
   "cell_type": "markdown",
   "id": "a889a41c",
   "metadata": {},
   "source": [
    "**Note:** Be careful about overfitting and failing method(s) prerequisites"
   ]
  },
  {
   "cell_type": "markdown",
   "id": "cb1b3030",
   "metadata": {},
   "source": [
    "<video src=\"https://upload.wikimedia.org/wikipedia/commons/4/42/Shepard_Calais_1906_FrenchGP.ogv\" controls autoplay loop>The HTML video element is not supported!</video>"
   ]
  },
  {
   "cell_type": "markdown",
   "id": "56287ea8",
   "metadata": {},
   "source": [
    "## Final variance of the target metric"
   ]
  },
  {
   "cell_type": "code",
   "execution_count": 22,
   "id": "8ee88824",
   "metadata": {},
   "outputs": [
    {
     "data": {
      "text/plain": [
       "target               2983.457229\n",
       "target_cuped         2001.356367\n",
       "target_multicuped      38.126050\n",
       "target_mlreducer       29.160151\n",
       "dtype: float64"
      ]
     },
     "execution_count": 22,
     "metadata": {},
     "output_type": "execute_result"
    }
   ],
   "source": [
    "data[['target', 'target_cuped', 'target_multicuped', 'target_mlreducer']].var()"
   ]
  },
  {
   "cell_type": "markdown",
   "id": "a59835fb",
   "metadata": {},
   "source": [
    "We can observe different variance reduction of the target metric "
   ]
  },
  {
   "cell_type": "markdown",
   "id": "66b7d730",
   "metadata": {},
   "source": [
    "---"
   ]
  },
  {
   "cell_type": "markdown",
   "id": "240767ee",
   "metadata": {},
   "source": [
    "## Learn more"
   ]
  },
  {
   "cell_type": "markdown",
   "id": "5a600dbd",
   "metadata": {},
   "source": [
    "To get the information on advanced metric transformation techniques see the following resources:\n",
    "\n",
    "\n",
    "* [Paper on CUPED](https://www.exp-platform.com/Documents/2013-02-CUPED-ImprovingSensitivityOfControlledExperiments.pdf)\n",
    "* [Booking article on CUPED](https://booking.ai/how-booking-com-increases-the-power-of-online-experiments-with-cuped-995d186fff1d)\n",
    "* [Avito article on ML-based criteria](https://habr.com/ru/companies/avito/articles/590105/)\n",
    "* [Article with research on variance reduction techniques](https://j-sephb-lt-n.github.io/exploring_statistics/cuped_cupac_and_other_variance_reduction_techniques.html)"
   ]
  }
 ],
 "metadata": {
  "kernelspec": {
   "display_name": "Python 3 (ipykernel)",
   "language": "python",
   "name": "python3"
  },
  "language_info": {
   "codemirror_mode": {
    "name": "ipython",
    "version": 3
   },
   "file_extension": ".py",
   "mimetype": "text/x-python",
   "name": "python",
   "nbconvert_exporter": "python",
   "pygments_lexer": "ipython3",
   "version": "3.9.16"
  },
  "varInspector": {
   "cols": {
    "lenName": 16,
    "lenType": 16,
    "lenVar": 40
   },
   "kernels_config": {
    "python": {
     "delete_cmd_postfix": "",
     "delete_cmd_prefix": "del ",
     "library": "var_list.py",
     "varRefreshCmd": "print(var_dic_list())"
    },
    "r": {
     "delete_cmd_postfix": ") ",
     "delete_cmd_prefix": "rm(",
     "library": "var_list.r",
     "varRefreshCmd": "cat(var_dic_list()) "
    }
   },
   "types_to_exclude": [
    "module",
    "function",
    "builtin_function_or_method",
    "instance",
    "_Feature"
   ],
   "window_display": false
  }
 },
 "nbformat": 4,
 "nbformat_minor": 5
}
