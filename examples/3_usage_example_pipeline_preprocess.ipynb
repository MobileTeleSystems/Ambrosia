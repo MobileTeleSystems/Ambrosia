{
 "cells": [
  {
   "cell_type": "markdown",
   "id": "40564e98",
   "metadata": {},
   "source": [
    "# Example of sequential usage of preprocessing classes"
   ]
  },
  {
   "cell_type": "code",
   "execution_count": 2,
   "id": "ad0eed0e",
   "metadata": {},
   "outputs": [],
   "source": [
    "import pandas as pd\n",
    "from tqdm.notebook import tqdm"
   ]
  },
  {
   "cell_type": "markdown",
   "id": "9e879555",
   "metadata": {},
   "source": [
    "## Load data"
   ]
  },
  {
   "cell_type": "code",
   "execution_count": 3,
   "id": "d242fc00",
   "metadata": {},
   "outputs": [
    {
     "data": {
      "text/html": [
       "<div>\n",
       "<style scoped>\n",
       "    .dataframe tbody tr th:only-of-type {\n",
       "        vertical-align: middle;\n",
       "    }\n",
       "\n",
       "    .dataframe tbody tr th {\n",
       "        vertical-align: top;\n",
       "    }\n",
       "\n",
       "    .dataframe thead th {\n",
       "        text-align: right;\n",
       "    }\n",
       "</style>\n",
       "<table border=\"1\" class=\"dataframe\">\n",
       "  <thead>\n",
       "    <tr style=\"text-align: right;\">\n",
       "      <th></th>\n",
       "      <th>id</th>\n",
       "      <th>gender</th>\n",
       "      <th>watched</th>\n",
       "      <th>audio</th>\n",
       "      <th>day</th>\n",
       "      <th>platform</th>\n",
       "    </tr>\n",
       "  </thead>\n",
       "  <tbody>\n",
       "    <tr>\n",
       "      <th>0</th>\n",
       "      <td>0</td>\n",
       "      <td>Male</td>\n",
       "      <td>7.912889</td>\n",
       "      <td>2.210973</td>\n",
       "      <td>1</td>\n",
       "      <td>web</td>\n",
       "    </tr>\n",
       "    <tr>\n",
       "      <th>1</th>\n",
       "      <td>1</td>\n",
       "      <td>Male</td>\n",
       "      <td>6.678690</td>\n",
       "      <td>0.020715</td>\n",
       "      <td>1</td>\n",
       "      <td>ios</td>\n",
       "    </tr>\n",
       "    <tr>\n",
       "      <th>2</th>\n",
       "      <td>2</td>\n",
       "      <td>Female</td>\n",
       "      <td>721.434299</td>\n",
       "      <td>59.996870</td>\n",
       "      <td>1</td>\n",
       "      <td>ios</td>\n",
       "    </tr>\n",
       "    <tr>\n",
       "      <th>3</th>\n",
       "      <td>3</td>\n",
       "      <td>Male</td>\n",
       "      <td>135.248218</td>\n",
       "      <td>18.982887</td>\n",
       "      <td>1</td>\n",
       "      <td>ios</td>\n",
       "    </tr>\n",
       "    <tr>\n",
       "      <th>4</th>\n",
       "      <td>4</td>\n",
       "      <td>Female</td>\n",
       "      <td>38.962917</td>\n",
       "      <td>8.324667</td>\n",
       "      <td>1</td>\n",
       "      <td>android</td>\n",
       "    </tr>\n",
       "  </tbody>\n",
       "</table>\n",
       "</div>"
      ],
      "text/plain": [
       "   id  gender     watched      audio  day platform\n",
       "0   0    Male    7.912889   2.210973    1      web\n",
       "1   1    Male    6.678690   0.020715    1      ios\n",
       "2   2  Female  721.434299  59.996870    1      ios\n",
       "3   3    Male  135.248218  18.982887    1      ios\n",
       "4   4  Female   38.962917   8.324667    1  android"
      ]
     },
     "execution_count": 3,
     "metadata": {},
     "output_type": "execute_result"
    }
   ],
   "source": [
    "dataframe = pd.read_csv('../tests/test_data/pipeline_test.csv')\n",
    "dataframe.head()"
   ]
  },
  {
   "cell_type": "markdown",
   "id": "b8773f43",
   "metadata": {},
   "source": [
    "Let's try to design an experiment on views of some content, with a priori information that the ``audio`` metric affects ``watched``"
   ]
  },
  {
   "cell_type": "markdown",
   "id": "74a516df",
   "metadata": {},
   "source": [
    "## ``Preprocessor`` class allows to perform sequential data transformations"
   ]
  },
  {
   "cell_type": "code",
   "execution_count": 4,
   "id": "5c3cf798",
   "metadata": {},
   "outputs": [],
   "source": [
    "from ambrosia.preprocessing import Preprocessor"
   ]
  },
  {
   "cell_type": "code",
   "execution_count": 5,
   "id": "67f1413e",
   "metadata": {},
   "outputs": [],
   "source": [
    "transformer = Preprocessor(dataframe, verbose=True)"
   ]
  },
  {
   "cell_type": "code",
   "execution_count": 6,
   "id": "6568ec1d",
   "metadata": {},
   "outputs": [
    {
     "name": "stderr",
     "output_type": "stream",
     "text": [
      "ambrosia LOGGER: Making both-tail robust transformation of columns ['watched', 'audio']\n",
      "                 with alphas = [0.001 0.001]\n",
      "ambrosia LOGGER: \n",
      "\n",
      "ambrosia LOGGER: Change Mean watched: 5343.8899 ===> 5329.8074\n",
      "ambrosia LOGGER: Change Variance watched: 10951522.1717 ===> 10521270.5734\n",
      "ambrosia LOGGER: Change IQR watched: 3958.8107 ===> 3947.3561\n",
      "ambrosia LOGGER: Change Range watched: 35983.1570 ===> 23290.5057\n",
      "ambrosia LOGGER: \n",
      "\n",
      "ambrosia LOGGER: Change Mean audio: 350.3962 ===> 350.1165\n",
      "ambrosia LOGGER: Change Variance audio: 17724.3973 ===> 17323.2004\n",
      "ambrosia LOGGER: Change IQR audio: 176.0167 ===> 175.5187\n",
      "ambrosia LOGGER: Change Range audio: 1098.9677 ===> 851.8852\n",
      "ambrosia LOGGER: After transformation СUPED for watched, the variance is 8.0098 % of the original\n",
      "ambrosia LOGGER: Variance transformation 10523378.6220 ===> 842903.5296\n"
     ]
    }
   ],
   "source": [
    "data = transformer.aggregate(groupby_columns='id', \n",
    "                             agg_params={\n",
    "                              'watched' : 'sum',\n",
    "                              'audio' : 'sum',\n",
    "                              'gender' : 'simple', # simple - choose the first possible value\n",
    "                              'platform' : 'mode'\n",
    "                          })\\\n",
    "                  .robust(['watched', 'audio'], alpha=0.001) \\\n",
    "                  .cuped('watched', by='audio', name='watched_cuped') \\\n",
    "                  .data()"
   ]
  },
  {
   "cell_type": "code",
   "execution_count": 7,
   "id": "2ad1962e",
   "metadata": {},
   "outputs": [
    {
     "data": {
      "text/html": [
       "<div>\n",
       "<style scoped>\n",
       "    .dataframe tbody tr th:only-of-type {\n",
       "        vertical-align: middle;\n",
       "    }\n",
       "\n",
       "    .dataframe tbody tr th {\n",
       "        vertical-align: top;\n",
       "    }\n",
       "\n",
       "    .dataframe thead th {\n",
       "        text-align: right;\n",
       "    }\n",
       "</style>\n",
       "<table border=\"1\" class=\"dataframe\">\n",
       "  <thead>\n",
       "    <tr style=\"text-align: right;\">\n",
       "      <th></th>\n",
       "      <th>id</th>\n",
       "      <th>watched</th>\n",
       "      <th>audio</th>\n",
       "      <th>gender</th>\n",
       "      <th>platform</th>\n",
       "      <th>watched_cuped</th>\n",
       "    </tr>\n",
       "  </thead>\n",
       "  <tbody>\n",
       "    <tr>\n",
       "      <th>0</th>\n",
       "      <td>0</td>\n",
       "      <td>2489.224016</td>\n",
       "      <td>213.817130</td>\n",
       "      <td>Male</td>\n",
       "      <td>web</td>\n",
       "      <td>5710.891532</td>\n",
       "    </tr>\n",
       "    <tr>\n",
       "      <th>1</th>\n",
       "      <td>1</td>\n",
       "      <td>3970.775664</td>\n",
       "      <td>281.958297</td>\n",
       "      <td>Male</td>\n",
       "      <td>ios</td>\n",
       "      <td>5581.810354</td>\n",
       "    </tr>\n",
       "    <tr>\n",
       "      <th>2</th>\n",
       "      <td>2</td>\n",
       "      <td>5900.186483</td>\n",
       "      <td>416.944150</td>\n",
       "      <td>Female</td>\n",
       "      <td>ios</td>\n",
       "      <td>4320.600063</td>\n",
       "    </tr>\n",
       "    <tr>\n",
       "      <th>3</th>\n",
       "      <td>3</td>\n",
       "      <td>5557.860998</td>\n",
       "      <td>384.782010</td>\n",
       "      <td>Male</td>\n",
       "      <td>web</td>\n",
       "      <td>4738.481668</td>\n",
       "    </tr>\n",
       "    <tr>\n",
       "      <th>4</th>\n",
       "      <td>4</td>\n",
       "      <td>7588.374990</td>\n",
       "      <td>448.263748</td>\n",
       "      <td>Female</td>\n",
       "      <td>android</td>\n",
       "      <td>5268.496390</td>\n",
       "    </tr>\n",
       "    <tr>\n",
       "      <th>...</th>\n",
       "      <td>...</td>\n",
       "      <td>...</td>\n",
       "      <td>...</td>\n",
       "      <td>...</td>\n",
       "      <td>...</td>\n",
       "      <td>...</td>\n",
       "    </tr>\n",
       "    <tr>\n",
       "      <th>4995</th>\n",
       "      <td>4995</td>\n",
       "      <td>1647.603060</td>\n",
       "      <td>167.552826</td>\n",
       "      <td>Male</td>\n",
       "      <td>web</td>\n",
       "      <td>5962.806415</td>\n",
       "    </tr>\n",
       "    <tr>\n",
       "      <th>4996</th>\n",
       "      <td>4996</td>\n",
       "      <td>7403.347846</td>\n",
       "      <td>423.972130</td>\n",
       "      <td>Female</td>\n",
       "      <td>android</td>\n",
       "      <td>5657.643130</td>\n",
       "    </tr>\n",
       "    <tr>\n",
       "      <th>4997</th>\n",
       "      <td>4997</td>\n",
       "      <td>3243.170373</td>\n",
       "      <td>287.159499</td>\n",
       "      <td>Male</td>\n",
       "      <td>android</td>\n",
       "      <td>4731.265776</td>\n",
       "    </tr>\n",
       "    <tr>\n",
       "      <th>4998</th>\n",
       "      <td>4998</td>\n",
       "      <td>12538.349029</td>\n",
       "      <td>615.502371</td>\n",
       "      <td>Female</td>\n",
       "      <td>ios</td>\n",
       "      <td>6265.500026</td>\n",
       "    </tr>\n",
       "    <tr>\n",
       "      <th>4999</th>\n",
       "      <td>4999</td>\n",
       "      <td>2302.644537</td>\n",
       "      <td>213.418724</td>\n",
       "      <td>Female</td>\n",
       "      <td>android</td>\n",
       "      <td>5533.729081</td>\n",
       "    </tr>\n",
       "  </tbody>\n",
       "</table>\n",
       "<p>4992 rows × 6 columns</p>\n",
       "</div>"
      ],
      "text/plain": [
       "        id       watched       audio  gender platform  watched_cuped\n",
       "0        0   2489.224016  213.817130    Male      web    5710.891532\n",
       "1        1   3970.775664  281.958297    Male      ios    5581.810354\n",
       "2        2   5900.186483  416.944150  Female      ios    4320.600063\n",
       "3        3   5557.860998  384.782010    Male      web    4738.481668\n",
       "4        4   7588.374990  448.263748  Female  android    5268.496390\n",
       "...    ...           ...         ...     ...      ...            ...\n",
       "4995  4995   1647.603060  167.552826    Male      web    5962.806415\n",
       "4996  4996   7403.347846  423.972130  Female  android    5657.643130\n",
       "4997  4997   3243.170373  287.159499    Male  android    4731.265776\n",
       "4998  4998  12538.349029  615.502371  Female      ios    6265.500026\n",
       "4999  4999   2302.644537  213.418724  Female  android    5533.729081\n",
       "\n",
       "[4992 rows x 6 columns]"
      ]
     },
     "execution_count": 7,
     "metadata": {},
     "output_type": "execute_result"
    }
   ],
   "source": [
    "data"
   ]
  },
  {
   "cell_type": "markdown",
   "id": "92eef65e",
   "metadata": {},
   "source": [
    "### We can get a list of all transformations"
   ]
  },
  {
   "cell_type": "code",
   "execution_count": 8,
   "id": "8e94abaa",
   "metadata": {},
   "outputs": [
    {
     "data": {
      "text/plain": [
       "[<ambrosia.preprocessing.aggregate.AggregatePreprocessor at 0x12befc5b0>,\n",
       " <ambrosia.preprocessing.robust.RobustPreprocessor at 0x135fdd6d0>,\n",
       " <ambrosia.preprocessing.cuped.Cuped at 0x108ce21f0>]"
      ]
     },
     "execution_count": 8,
     "metadata": {},
     "output_type": "execute_result"
    }
   ],
   "source": [
    "transformer.transformations()"
   ]
  },
  {
   "cell_type": "markdown",
   "id": "76912bd4",
   "metadata": {},
   "source": [
    "### For transformations that are fitted, it is important to save their parameters"
   ]
  },
  {
   "cell_type": "code",
   "execution_count": 9,
   "id": "98577096",
   "metadata": {},
   "outputs": [
    {
     "data": {
      "text/plain": [
       "{'theta': 23.63670743446695, 'bias': 350.1164659554492}"
      ]
     },
     "execution_count": 9,
     "metadata": {},
     "output_type": "execute_result"
    }
   ],
   "source": [
    "transformer.transformations()[2].get_params_dict()"
   ]
  },
  {
   "cell_type": "code",
   "execution_count": 10,
   "id": "8d48ca73",
   "metadata": {},
   "outputs": [],
   "source": [
    "transformer.transformations()[2].store_params('examples_configs/params_cuped.json')"
   ]
  },
  {
   "cell_type": "markdown",
   "id": "a56a5b8b",
   "metadata": {},
   "source": [
    "## Now let's design an experiment"
   ]
  },
  {
   "cell_type": "code",
   "execution_count": 11,
   "id": "45455a66",
   "metadata": {},
   "outputs": [],
   "source": [
    "from ambrosia.designer import Designer"
   ]
  },
  {
   "cell_type": "code",
   "execution_count": 12,
   "id": "1f3ba05d",
   "metadata": {},
   "outputs": [],
   "source": [
    "designer = Designer(dataframe=data, effects=1.05, first_type_errors=0.05, second_type_errors=0.7)"
   ]
  },
  {
   "cell_type": "code",
   "execution_count": 13,
   "id": "fd8e4870",
   "metadata": {},
   "outputs": [
    {
     "data": {
      "application/vnd.jupyter.widget-view+json": {
       "model_id": "84018e01d9b74ddba6a60241bb0aced8",
       "version_major": 2,
       "version_minor": 0
      },
      "text/plain": [
       "Group sizes calculation:   0%|          | 0/1 [00:00<?, ?it/s]"
      ]
     },
     "metadata": {},
     "output_type": "display_data"
    },
    {
     "data": {
      "text/html": [
       "<div>\n",
       "<style scoped>\n",
       "    .dataframe tbody tr th:only-of-type {\n",
       "        vertical-align: middle;\n",
       "    }\n",
       "\n",
       "    .dataframe tbody tr th {\n",
       "        vertical-align: top;\n",
       "    }\n",
       "\n",
       "    .dataframe thead th {\n",
       "        text-align: right;\n",
       "    }\n",
       "</style>\n",
       "<table border=\"1\" class=\"dataframe\">\n",
       "  <thead>\n",
       "    <tr style=\"text-align: right;\">\n",
       "      <th>errors</th>\n",
       "      <th>(0.05, 0.7)</th>\n",
       "    </tr>\n",
       "    <tr>\n",
       "      <th>effect</th>\n",
       "      <th></th>\n",
       "    </tr>\n",
       "  </thead>\n",
       "  <tbody>\n",
       "    <tr>\n",
       "      <th>5.0%</th>\n",
       "      <td>633</td>\n",
       "    </tr>\n",
       "  </tbody>\n",
       "</table>\n",
       "</div>"
      ],
      "text/plain": [
       "errors  (0.05, 0.7)\n",
       "effect             \n",
       "5.0%            633"
      ]
     },
     "execution_count": 13,
     "metadata": {},
     "output_type": "execute_result"
    }
   ],
   "source": [
    "designer.run('size', method='empiric', metrics='watched')"
   ]
  },
  {
   "cell_type": "code",
   "execution_count": 14,
   "id": "9dc52d26",
   "metadata": {},
   "outputs": [
    {
     "data": {
      "application/vnd.jupyter.widget-view+json": {
       "model_id": "0a21619b81d04e27b5de93fe223038db",
       "version_major": 2,
       "version_minor": 0
      },
      "text/plain": [
       "Group sizes calculation:   0%|          | 0/1 [00:00<?, ?it/s]"
      ]
     },
     "metadata": {},
     "output_type": "display_data"
    },
    {
     "data": {
      "text/html": [
       "<div>\n",
       "<style scoped>\n",
       "    .dataframe tbody tr th:only-of-type {\n",
       "        vertical-align: middle;\n",
       "    }\n",
       "\n",
       "    .dataframe tbody tr th {\n",
       "        vertical-align: top;\n",
       "    }\n",
       "\n",
       "    .dataframe thead th {\n",
       "        text-align: right;\n",
       "    }\n",
       "</style>\n",
       "<table border=\"1\" class=\"dataframe\">\n",
       "  <thead>\n",
       "    <tr style=\"text-align: right;\">\n",
       "      <th>errors</th>\n",
       "      <th>(0.05, 0.7)</th>\n",
       "    </tr>\n",
       "    <tr>\n",
       "      <th>effect</th>\n",
       "      <th></th>\n",
       "    </tr>\n",
       "  </thead>\n",
       "  <tbody>\n",
       "    <tr>\n",
       "      <th>5.0%</th>\n",
       "      <td>49</td>\n",
       "    </tr>\n",
       "  </tbody>\n",
       "</table>\n",
       "</div>"
      ],
      "text/plain": [
       "errors  (0.05, 0.7)\n",
       "effect             \n",
       "5.0%             49"
      ]
     },
     "execution_count": 14,
     "metadata": {},
     "output_type": "execute_result"
    }
   ],
   "source": [
    "designer.run('size', method='empiric', metrics='watched_cuped')"
   ]
  },
  {
   "cell_type": "markdown",
   "id": "c2d7e87a",
   "metadata": {},
   "source": [
    "## ``ambrosia`` library can be used not only as a tool, but also for conducting your own research\n",
    "## Let's check that this sample size will really be enough"
   ]
  },
  {
   "cell_type": "code",
   "execution_count": 15,
   "id": "eae4ca25",
   "metadata": {},
   "outputs": [
    {
     "name": "stderr",
     "output_type": "stream",
     "text": [
      "Your CPU supports instructions that this binary was not compiled to use: AVX2\n",
      "For maximum performance, you can install NMSLIB from sources \n",
      "pip install --no-binary :all: nmslib\n"
     ]
    }
   ],
   "source": [
    "from ambrosia.preprocessing import Cuped\n",
    "from ambrosia.splitter import Splitter\n",
    "from ambrosia.tester import Tester"
   ]
  },
  {
   "cell_type": "code",
   "execution_count": 16,
   "id": "0b0c9afd",
   "metadata": {},
   "outputs": [],
   "source": [
    "transformer = Preprocessor(dataframe=dataframe)"
   ]
  },
  {
   "cell_type": "code",
   "execution_count": 17,
   "id": "eed10d01",
   "metadata": {},
   "outputs": [
    {
     "name": "stderr",
     "output_type": "stream",
     "text": [
      "ambrosia LOGGER: Making both-tail robust transformation of columns ['watched', 'audio']\n",
      "                 with alphas = [0.001 0.001]\n",
      "ambrosia LOGGER: \n",
      "\n",
      "ambrosia LOGGER: Change Mean watched: 5343.8899 ===> 5329.8074\n",
      "ambrosia LOGGER: Change Variance watched: 10951522.1717 ===> 10521270.5734\n",
      "ambrosia LOGGER: Change IQR watched: 3958.8107 ===> 3947.3561\n",
      "ambrosia LOGGER: Change Range watched: 35983.1570 ===> 23290.5057\n",
      "ambrosia LOGGER: \n",
      "\n",
      "ambrosia LOGGER: Change Mean audio: 350.3962 ===> 350.1165\n",
      "ambrosia LOGGER: Change Variance audio: 17724.3973 ===> 17323.2004\n",
      "ambrosia LOGGER: Change IQR audio: 176.0167 ===> 175.5187\n",
      "ambrosia LOGGER: Change Range audio: 1098.9677 ===> 851.8852\n"
     ]
    }
   ],
   "source": [
    "data_exp = transformer.aggregate(groupby_columns='id', \n",
    "                                 agg_params={\n",
    "                                     'watched' : 'sum',\n",
    "                                     'audio' : 'sum',\n",
    "                                     'gender' : 'simple',\n",
    "                                     'platform' : 'mode'\n",
    "                                 }) \\\n",
    "                      .robust(['watched', 'audio'], alpha=0.001)\\\n",
    "                      .data()"
   ]
  },
  {
   "cell_type": "code",
   "execution_count": 18,
   "id": "275c4e85",
   "metadata": {},
   "outputs": [
    {
     "data": {
      "text/html": [
       "<div>\n",
       "<style scoped>\n",
       "    .dataframe tbody tr th:only-of-type {\n",
       "        vertical-align: middle;\n",
       "    }\n",
       "\n",
       "    .dataframe tbody tr th {\n",
       "        vertical-align: top;\n",
       "    }\n",
       "\n",
       "    .dataframe thead th {\n",
       "        text-align: right;\n",
       "    }\n",
       "</style>\n",
       "<table border=\"1\" class=\"dataframe\">\n",
       "  <thead>\n",
       "    <tr style=\"text-align: right;\">\n",
       "      <th></th>\n",
       "      <th>id</th>\n",
       "      <th>watched</th>\n",
       "      <th>audio</th>\n",
       "      <th>gender</th>\n",
       "      <th>platform</th>\n",
       "    </tr>\n",
       "  </thead>\n",
       "  <tbody>\n",
       "    <tr>\n",
       "      <th>0</th>\n",
       "      <td>0</td>\n",
       "      <td>2489.224016</td>\n",
       "      <td>213.817130</td>\n",
       "      <td>Male</td>\n",
       "      <td>web</td>\n",
       "    </tr>\n",
       "    <tr>\n",
       "      <th>1</th>\n",
       "      <td>1</td>\n",
       "      <td>3970.775664</td>\n",
       "      <td>281.958297</td>\n",
       "      <td>Male</td>\n",
       "      <td>ios</td>\n",
       "    </tr>\n",
       "    <tr>\n",
       "      <th>2</th>\n",
       "      <td>2</td>\n",
       "      <td>5900.186483</td>\n",
       "      <td>416.944150</td>\n",
       "      <td>Female</td>\n",
       "      <td>ios</td>\n",
       "    </tr>\n",
       "    <tr>\n",
       "      <th>3</th>\n",
       "      <td>3</td>\n",
       "      <td>5557.860998</td>\n",
       "      <td>384.782010</td>\n",
       "      <td>Male</td>\n",
       "      <td>web</td>\n",
       "    </tr>\n",
       "    <tr>\n",
       "      <th>4</th>\n",
       "      <td>4</td>\n",
       "      <td>7588.374990</td>\n",
       "      <td>448.263748</td>\n",
       "      <td>Female</td>\n",
       "      <td>android</td>\n",
       "    </tr>\n",
       "    <tr>\n",
       "      <th>...</th>\n",
       "      <td>...</td>\n",
       "      <td>...</td>\n",
       "      <td>...</td>\n",
       "      <td>...</td>\n",
       "      <td>...</td>\n",
       "    </tr>\n",
       "    <tr>\n",
       "      <th>4995</th>\n",
       "      <td>4995</td>\n",
       "      <td>1647.603060</td>\n",
       "      <td>167.552826</td>\n",
       "      <td>Male</td>\n",
       "      <td>web</td>\n",
       "    </tr>\n",
       "    <tr>\n",
       "      <th>4996</th>\n",
       "      <td>4996</td>\n",
       "      <td>7403.347846</td>\n",
       "      <td>423.972130</td>\n",
       "      <td>Female</td>\n",
       "      <td>android</td>\n",
       "    </tr>\n",
       "    <tr>\n",
       "      <th>4997</th>\n",
       "      <td>4997</td>\n",
       "      <td>3243.170373</td>\n",
       "      <td>287.159499</td>\n",
       "      <td>Male</td>\n",
       "      <td>android</td>\n",
       "    </tr>\n",
       "    <tr>\n",
       "      <th>4998</th>\n",
       "      <td>4998</td>\n",
       "      <td>12538.349029</td>\n",
       "      <td>615.502371</td>\n",
       "      <td>Female</td>\n",
       "      <td>ios</td>\n",
       "    </tr>\n",
       "    <tr>\n",
       "      <th>4999</th>\n",
       "      <td>4999</td>\n",
       "      <td>2302.644537</td>\n",
       "      <td>213.418724</td>\n",
       "      <td>Female</td>\n",
       "      <td>android</td>\n",
       "    </tr>\n",
       "  </tbody>\n",
       "</table>\n",
       "<p>4992 rows × 5 columns</p>\n",
       "</div>"
      ],
      "text/plain": [
       "        id       watched       audio  gender platform\n",
       "0        0   2489.224016  213.817130    Male      web\n",
       "1        1   3970.775664  281.958297    Male      ios\n",
       "2        2   5900.186483  416.944150  Female      ios\n",
       "3        3   5557.860998  384.782010    Male      web\n",
       "4        4   7588.374990  448.263748  Female  android\n",
       "...    ...           ...         ...     ...      ...\n",
       "4995  4995   1647.603060  167.552826    Male      web\n",
       "4996  4996   7403.347846  423.972130  Female  android\n",
       "4997  4997   3243.170373  287.159499    Male  android\n",
       "4998  4998  12538.349029  615.502371  Female      ios\n",
       "4999  4999   2302.644537  213.418724  Female  android\n",
       "\n",
       "[4992 rows x 5 columns]"
      ]
     },
     "execution_count": 18,
     "metadata": {},
     "output_type": "execute_result"
    }
   ],
   "source": [
    "data_exp"
   ]
  },
  {
   "cell_type": "code",
   "execution_count": 19,
   "id": "2e9d0b2d",
   "metadata": {},
   "outputs": [
    {
     "data": {
      "application/vnd.jupyter.widget-view+json": {
       "model_id": "51d72080cb394205a2f8033fcccd1768",
       "version_major": 2,
       "version_minor": 0
      },
      "text/plain": [
       "  0%|          | 0/500 [00:00<?, ?it/s]"
      ]
     },
     "metadata": {},
     "output_type": "display_data"
    }
   ],
   "source": [
    "tests_amounts: int = 500\n",
    "group_size: int = 50\n",
    "amount_first_type_errors: int = 0\n",
    "alpha: float = 0.05\n",
    "    \n",
    "for exp_num in tqdm(range(tests_amounts)):\n",
    "    # Checking for I type error\n",
    "    splitter = Splitter(data_exp, fit_columns='audio')\n",
    "    groups = splitter.run(method='metric', salt=f'exp {exp_num}', groups_size=group_size, strat_columns='gender')\n",
    "    \n",
    "    transformer = Preprocessor(groups, verbose=False)\n",
    "    exp_data = transformer.cuped(\n",
    "        target='watched',\n",
    "        by='audio',\n",
    "        name='watched_cuped',\n",
    "        load_path='examples_configs/params_cuped.json').data()\n",
    "\n",
    "    tester = Tester(exp_data, metrics='watched_cuped', column_groups='group')\n",
    "    pvalue = tester.run(method='empiric')['pvalue']\n",
    "    amount_first_type_errors += (pvalue < alpha) # Reject equality of means when it is true"
   ]
  },
  {
   "cell_type": "code",
   "execution_count": 20,
   "id": "075bf40c",
   "metadata": {},
   "outputs": [
    {
     "name": "stdout",
     "output_type": "stream",
     "text": [
      "Empirical I type error: 0.048\n"
     ]
    }
   ],
   "source": [
    "print('Empirical I type error: {}'.format(amount_first_type_errors.loc[0] / tests_amounts))"
   ]
  }
 ],
 "metadata": {
  "kernelspec": {
   "display_name": "Python 3 (ipykernel)",
   "language": "python",
   "name": "python3"
  },
  "language_info": {
   "codemirror_mode": {
    "name": "ipython",
    "version": 3
   },
   "file_extension": ".py",
   "mimetype": "text/x-python",
   "name": "python",
   "nbconvert_exporter": "python",
   "pygments_lexer": "ipython3",
   "version": "3.9.6"
  },
  "varInspector": {
   "cols": {
    "lenName": 16,
    "lenType": 16,
    "lenVar": 40
   },
   "kernels_config": {
    "python": {
     "delete_cmd_postfix": "",
     "delete_cmd_prefix": "del ",
     "library": "var_list.py",
     "varRefreshCmd": "print(var_dic_list())"
    },
    "r": {
     "delete_cmd_postfix": ") ",
     "delete_cmd_prefix": "rm(",
     "library": "var_list.r",
     "varRefreshCmd": "cat(var_dic_list()) "
    }
   },
   "types_to_exclude": [
    "module",
    "function",
    "builtin_function_or_method",
    "instance",
    "_Feature"
   ],
   "window_display": false
  },
  "vscode": {
   "interpreter": {
    "hash": "15e03aca08654ff88849a83ba91b8d68554484428ba3c5cc187066980980321c"
   }
  }
 },
 "nbformat": 4,
 "nbformat_minor": 5
}
