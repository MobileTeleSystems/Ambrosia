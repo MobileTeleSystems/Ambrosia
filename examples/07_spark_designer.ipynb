{
 "cells": [
  {
   "cell_type": "markdown",
   "id": "8dc91a90",
   "metadata": {},
   "source": [
    "# Overview of *Ambrosia* ``Designer`` class Spark data support"
   ]
  },
  {
   "cell_type": "markdown",
   "id": "473a582c",
   "metadata": {},
   "source": [
    "This example shows the functionality of the ``Designer`` class on Spark DataFrames. Synthetic data on LTV and user retention rate is used."
   ]
  },
  {
   "cell_type": "markdown",
   "id": "0d550c8e",
   "metadata": {},
   "source": [
    "The functionality of the ``Designer`` class on Spark data currently is limited compared to the pandas format. \\\n",
    "In order to learn about the full functionality of the ``Designer`` and get information about why the design of A / B test parameters is needed and how it can be done, see the main tutorial on the ``Designer`` class."
   ]
  },
  {
   "cell_type": "code",
   "execution_count": 2,
   "id": "9f0cbd84",
   "metadata": {},
   "outputs": [],
   "source": [
    "import os\n",
    "\n",
    "import pandas as pd\n",
    "import pyspark\n",
    "\n",
    "from ambrosia.designer import Designer"
   ]
  },
  {
   "cell_type": "markdown",
   "id": "7f27f46b",
   "metadata": {},
   "source": [
    "Build local spark session"
   ]
  },
  {
   "cell_type": "code",
   "execution_count": 3,
   "id": "22faaae9",
   "metadata": {
    "scrolled": false
   },
   "outputs": [
    {
     "name": "stderr",
     "output_type": "stream",
     "text": [
      "Setting default log level to \"WARN\".\n",
      "To adjust logging level use sc.setLogLevel(newLevel). For SparkR, use setLogLevel(newLevel).\n"
     ]
    },
    {
     "name": "stdout",
     "output_type": "stream",
     "text": [
      "23/04/21 17:39:34 WARN NativeCodeLoader: Unable to load native-hadoop library for your platform... using builtin-java classes where applicable\n"
     ]
    }
   ],
   "source": [
    "os.environ['SPARK_LOCAL_IP'] = '127.0.0.1'\n",
    "spark = pyspark.sql.SparkSession.builder.master(\"local[1]\").getOrCreate()\n",
    "spark.sparkContext.setLogLevel('ERROR')"
   ]
  },
  {
   "cell_type": "markdown",
   "id": "b26defd2",
   "metadata": {},
   "source": [
    "Create Spark DataFrame"
   ]
  },
  {
   "cell_type": "code",
   "execution_count": 4,
   "id": "d05d2446",
   "metadata": {},
   "outputs": [],
   "source": [
    "ltv_and_retention_dataset = pd.read_csv(\n",
    "    \"./../tests/test_data/ltv_retention.csv\")\n",
    "sdf = spark.createDataFrame(ltv_and_retention_dataset)"
   ]
  },
  {
   "cell_type": "code",
   "execution_count": 5,
   "id": "a36e1c7e",
   "metadata": {},
   "outputs": [
    {
     "name": "stdout",
     "output_type": "stream",
     "text": [
      "root\n",
      " |-- LTV: double (nullable = true)\n",
      " |-- retention: double (nullable = true)\n",
      "\n"
     ]
    }
   ],
   "source": [
    "sdf.printSchema()"
   ]
  },
  {
   "cell_type": "markdown",
   "id": "da9d3149",
   "metadata": {},
   "source": [
    "### Spark A/B test parameters theoretical design"
   ]
  },
  {
   "cell_type": "markdown",
   "id": "31a11fff",
   "metadata": {},
   "source": [
    "First, we will use a theoretical approach to find the missing parameters of a hypothetical experiment. \\\n",
    "We will obtain theoretical estimates for the size of groups, MDE in the power of the test with the appropriate known parameters."
   ]
  },
  {
   "cell_type": "markdown",
   "id": "9a96c310",
   "metadata": {},
   "source": [
    "Create class instance and set grid of parameters, I and II type errors remain default"
   ]
  },
  {
   "cell_type": "code",
   "execution_count": 6,
   "id": "8917439d",
   "metadata": {},
   "outputs": [],
   "source": [
    "designer = Designer(dataframe=sdf,\n",
    "                    effects=[1.05, 1.2],\n",
    "                    sizes=[100, 1000],\n",
    "                    metrics='LTV')"
   ]
  },
  {
   "cell_type": "markdown",
   "id": "fc826a9f",
   "metadata": {},
   "source": [
    "Design groups size"
   ]
  },
  {
   "cell_type": "code",
   "execution_count": 7,
   "id": "179e2203",
   "metadata": {},
   "outputs": [
    {
     "name": "stderr",
     "output_type": "stream",
     "text": [
      "                                                                                \r"
     ]
    },
    {
     "data": {
      "text/html": [
       "<div>\n",
       "<style scoped>\n",
       "    .dataframe tbody tr th:only-of-type {\n",
       "        vertical-align: middle;\n",
       "    }\n",
       "\n",
       "    .dataframe tbody tr th {\n",
       "        vertical-align: top;\n",
       "    }\n",
       "\n",
       "    .dataframe thead tr th {\n",
       "        text-align: left;\n",
       "    }\n",
       "\n",
       "    .dataframe thead tr:last-of-type th {\n",
       "        text-align: right;\n",
       "    }\n",
       "</style>\n",
       "<table border=\"1\" class=\"dataframe\">\n",
       "  <thead>\n",
       "    <tr>\n",
       "      <th>Errors ($\\alpha$, $\\beta$)</th>\n",
       "      <th>(0.05; 0.2)</th>\n",
       "    </tr>\n",
       "    <tr>\n",
       "      <th>Effect</th>\n",
       "      <th></th>\n",
       "    </tr>\n",
       "  </thead>\n",
       "  <tbody>\n",
       "    <tr>\n",
       "      <th>5.0%</th>\n",
       "      <td>6206</td>\n",
       "    </tr>\n",
       "    <tr>\n",
       "      <th>20.0%</th>\n",
       "      <td>389</td>\n",
       "    </tr>\n",
       "  </tbody>\n",
       "</table>\n",
       "</div>"
      ],
      "text/plain": [
       "Errors ($\\alpha$, $\\beta$) (0.05; 0.2)\n",
       "Effect                                \n",
       "5.0%                              6206\n",
       "20.0%                              389"
      ]
     },
     "execution_count": 7,
     "metadata": {},
     "output_type": "execute_result"
    }
   ],
   "source": [
    "designer.run('size', 'theory')"
   ]
  },
  {
   "cell_type": "markdown",
   "id": "e2c35dea",
   "metadata": {},
   "source": [
    "Design minimal detectable effect"
   ]
  },
  {
   "cell_type": "code",
   "execution_count": 8,
   "id": "281df6ec",
   "metadata": {},
   "outputs": [
    {
     "data": {
      "text/html": [
       "<div>\n",
       "<style scoped>\n",
       "    .dataframe tbody tr th:only-of-type {\n",
       "        vertical-align: middle;\n",
       "    }\n",
       "\n",
       "    .dataframe tbody tr th {\n",
       "        vertical-align: top;\n",
       "    }\n",
       "\n",
       "    .dataframe thead tr th {\n",
       "        text-align: left;\n",
       "    }\n",
       "\n",
       "    .dataframe thead tr:last-of-type th {\n",
       "        text-align: right;\n",
       "    }\n",
       "</style>\n",
       "<table border=\"1\" class=\"dataframe\">\n",
       "  <thead>\n",
       "    <tr>\n",
       "      <th>Errors ($\\alpha$, $\\beta$)</th>\n",
       "      <th>(0.05; 0.2)</th>\n",
       "    </tr>\n",
       "    <tr>\n",
       "      <th>Group sizes</th>\n",
       "      <th></th>\n",
       "    </tr>\n",
       "  </thead>\n",
       "  <tbody>\n",
       "    <tr>\n",
       "      <th>100</th>\n",
       "      <td>39.6%</td>\n",
       "    </tr>\n",
       "    <tr>\n",
       "      <th>1000</th>\n",
       "      <td>12.5%</td>\n",
       "    </tr>\n",
       "  </tbody>\n",
       "</table>\n",
       "</div>"
      ],
      "text/plain": [
       "Errors ($\\alpha$, $\\beta$) (0.05; 0.2)\n",
       "Group sizes                           \n",
       "100                              39.6%\n",
       "1000                             12.5%"
      ]
     },
     "execution_count": 8,
     "metadata": {},
     "output_type": "execute_result"
    }
   ],
   "source": [
    "designer.run('effect', 'theory')"
   ]
  },
  {
   "cell_type": "markdown",
   "id": "1a36fda3",
   "metadata": {},
   "source": [
    "Design test power"
   ]
  },
  {
   "cell_type": "code",
   "execution_count": 9,
   "id": "aa82c1b7",
   "metadata": {
    "scrolled": true
   },
   "outputs": [
    {
     "data": {
      "text/html": [
       "<div>\n",
       "<style scoped>\n",
       "    .dataframe tbody tr th:only-of-type {\n",
       "        vertical-align: middle;\n",
       "    }\n",
       "\n",
       "    .dataframe tbody tr th {\n",
       "        vertical-align: top;\n",
       "    }\n",
       "\n",
       "    .dataframe thead th {\n",
       "        text-align: right;\n",
       "    }\n",
       "</style>\n",
       "<table border=\"1\" class=\"dataframe\">\n",
       "  <thead>\n",
       "    <tr style=\"text-align: right;\">\n",
       "      <th></th>\n",
       "      <th>Group sizes</th>\n",
       "      <th>100</th>\n",
       "      <th>1000</th>\n",
       "    </tr>\n",
       "    <tr>\n",
       "      <th>$\\alpha$</th>\n",
       "      <th>Effect</th>\n",
       "      <th></th>\n",
       "      <th></th>\n",
       "    </tr>\n",
       "  </thead>\n",
       "  <tbody>\n",
       "    <tr>\n",
       "      <th rowspan=\"2\" valign=\"top\">0.05</th>\n",
       "      <th>5.0%</th>\n",
       "      <td>6.4%</td>\n",
       "      <td>20.3%</td>\n",
       "    </tr>\n",
       "    <tr>\n",
       "      <th>20.0%</th>\n",
       "      <td>29.4%</td>\n",
       "      <td>99.4%</td>\n",
       "    </tr>\n",
       "  </tbody>\n",
       "</table>\n",
       "</div>"
      ],
      "text/plain": [
       "Group sizes       100    1000\n",
       "$\\alpha$ Effect              \n",
       "0.05     5.0%     6.4%  20.3%\n",
       "         20.0%   29.4%  99.4%"
      ]
     },
     "execution_count": 9,
     "metadata": {},
     "output_type": "execute_result"
    }
   ],
   "source": [
    "designer.run('power', 'theory')"
   ]
  },
  {
   "cell_type": "markdown",
   "id": "62c3291f",
   "metadata": {},
   "source": [
    "### Spark A/B test parameters empirical design"
   ]
  },
  {
   "cell_type": "markdown",
   "id": "564efd8c",
   "metadata": {},
   "source": [
    "Now let's calculate the parameters using multiple sampling of groups from the transmitted data and modeling a hypothetical effect. \\\n",
    "This approach, with high value of `bootstrap_size` parameter (number of sampled groups per step), gives more accurate estimation of the parameters, but requires much more computational resources than the theoretical one."
   ]
  },
  {
   "cell_type": "code",
   "execution_count": 10,
   "id": "c5cfdbec",
   "metadata": {},
   "outputs": [],
   "source": [
    "designer = Designer(dataframe=sdf,\n",
    "                    second_type_errors=0.1,\n",
    "                    effects=[1.1, 1.2],\n",
    "                    sizes=[500, 2000],\n",
    "                    metrics='LTV')"
   ]
  },
  {
   "cell_type": "markdown",
   "id": "cb82ad30",
   "metadata": {},
   "source": [
    "Currently, we don't have ``criterion`` parameter which we implement for different statistical criteria in pandas data empirical design, here ``t-test`` criterion is always used."
   ]
  },
  {
   "cell_type": "code",
   "execution_count": 11,
   "id": "690ff393",
   "metadata": {},
   "outputs": [
    {
     "data": {
      "application/vnd.jupyter.widget-view+json": {
       "model_id": "c2b505db174943128b77f26936ab2f6e",
       "version_major": 2,
       "version_minor": 0
      },
      "text/plain": [
       "  0%|          | 0/2 [00:00<?, ?it/s]"
      ]
     },
     "metadata": {},
     "output_type": "display_data"
    },
    {
     "data": {
      "text/html": [
       "<div>\n",
       "<style scoped>\n",
       "    .dataframe tbody tr th:only-of-type {\n",
       "        vertical-align: middle;\n",
       "    }\n",
       "\n",
       "    .dataframe tbody tr th {\n",
       "        vertical-align: top;\n",
       "    }\n",
       "\n",
       "    .dataframe thead th {\n",
       "        text-align: right;\n",
       "    }\n",
       "</style>\n",
       "<table border=\"1\" class=\"dataframe\">\n",
       "  <thead>\n",
       "    <tr style=\"text-align: right;\">\n",
       "      <th>errors</th>\n",
       "      <th>(0.1, 0.05)</th>\n",
       "    </tr>\n",
       "    <tr>\n",
       "      <th>effect</th>\n",
       "      <th></th>\n",
       "    </tr>\n",
       "  </thead>\n",
       "  <tbody>\n",
       "    <tr>\n",
       "      <th>20.0%</th>\n",
       "      <td>247</td>\n",
       "    </tr>\n",
       "    <tr>\n",
       "      <th>10.0%</th>\n",
       "      <td>1198</td>\n",
       "    </tr>\n",
       "  </tbody>\n",
       "</table>\n",
       "</div>"
      ],
      "text/plain": [
       "errors  (0.1, 0.05)\n",
       "effect             \n",
       "20.0%           247\n",
       "10.0%          1198"
      ]
     },
     "execution_count": 11,
     "metadata": {},
     "output_type": "execute_result"
    }
   ],
   "source": [
    "designer.run('size', 'empiric', bootstrap_size=20)"
   ]
  },
  {
   "cell_type": "code",
   "execution_count": 12,
   "id": "4c23475d",
   "metadata": {},
   "outputs": [
    {
     "data": {
      "application/vnd.jupyter.widget-view+json": {
       "model_id": "b66f58547f3246cf8f758fa0152e60e9",
       "version_major": 2,
       "version_minor": 0
      },
      "text/plain": [
       "  0%|          | 0/2 [00:00<?, ?it/s]"
      ]
     },
     "metadata": {},
     "output_type": "display_data"
    },
    {
     "data": {
      "text/html": [
       "<div>\n",
       "<style scoped>\n",
       "    .dataframe tbody tr th:only-of-type {\n",
       "        vertical-align: middle;\n",
       "    }\n",
       "\n",
       "    .dataframe tbody tr th {\n",
       "        vertical-align: top;\n",
       "    }\n",
       "\n",
       "    .dataframe thead th {\n",
       "        text-align: right;\n",
       "    }\n",
       "</style>\n",
       "<table border=\"1\" class=\"dataframe\">\n",
       "  <thead>\n",
       "    <tr style=\"text-align: right;\">\n",
       "      <th>errors</th>\n",
       "      <th>(0.1, 0.05)</th>\n",
       "    </tr>\n",
       "    <tr>\n",
       "      <th>group_sizes</th>\n",
       "      <th></th>\n",
       "    </tr>\n",
       "  </thead>\n",
       "  <tbody>\n",
       "    <tr>\n",
       "      <th>500</th>\n",
       "      <td>9.6%</td>\n",
       "    </tr>\n",
       "    <tr>\n",
       "      <th>2000</th>\n",
       "      <td>5.9%</td>\n",
       "    </tr>\n",
       "  </tbody>\n",
       "</table>\n",
       "</div>"
      ],
      "text/plain": [
       "errors      (0.1, 0.05)\n",
       "group_sizes            \n",
       "500                9.6%\n",
       "2000               5.9%"
      ]
     },
     "execution_count": 12,
     "metadata": {},
     "output_type": "execute_result"
    }
   ],
   "source": [
    "designer.run('effect', 'empiric', bootstrap_size=20)"
   ]
  },
  {
   "cell_type": "markdown",
   "id": "ccf483dd",
   "metadata": {},
   "source": [
    "### Spark design for binary metrics "
   ]
  },
  {
   "cell_type": "markdown",
   "id": "7cc29707",
   "metadata": {},
   "source": [
    "For binary metrics,  ``\"theory\"`` or ``\"binary\"`` approaches can be used. \\\n",
    "The first approach uses different approximations for binary data, while the latter calculates experimental parameters based on the constructed confidence intervals of various types."
   ]
  },
  {
   "cell_type": "code",
   "execution_count": 14,
   "id": "bf2b0a47",
   "metadata": {},
   "outputs": [],
   "source": [
    "designer = Designer(dataframe=sdf,\n",
    "                    second_type_errors=0.5,\n",
    "                    sizes=150,\n",
    "                    effects=1.2,\n",
    "                    metrics='retention')"
   ]
  },
  {
   "cell_type": "markdown",
   "id": "240638d9",
   "metadata": {},
   "source": [
    "Group size:"
   ]
  },
  {
   "cell_type": "code",
   "execution_count": 15,
   "id": "533ef9a9",
   "metadata": {},
   "outputs": [
    {
     "data": {
      "text/html": [
       "<div>\n",
       "<style scoped>\n",
       "    .dataframe tbody tr th:only-of-type {\n",
       "        vertical-align: middle;\n",
       "    }\n",
       "\n",
       "    .dataframe tbody tr th {\n",
       "        vertical-align: top;\n",
       "    }\n",
       "\n",
       "    .dataframe thead tr th {\n",
       "        text-align: left;\n",
       "    }\n",
       "\n",
       "    .dataframe thead tr:last-of-type th {\n",
       "        text-align: right;\n",
       "    }\n",
       "</style>\n",
       "<table border=\"1\" class=\"dataframe\">\n",
       "  <thead>\n",
       "    <tr>\n",
       "      <th>Errors ($\\alpha$, $\\beta$)</th>\n",
       "      <th>(0.05; 0.5)</th>\n",
       "    </tr>\n",
       "    <tr>\n",
       "      <th>Effect</th>\n",
       "      <th></th>\n",
       "    </tr>\n",
       "  </thead>\n",
       "  <tbody>\n",
       "    <tr>\n",
       "      <th>20.0%</th>\n",
       "      <td>289</td>\n",
       "    </tr>\n",
       "  </tbody>\n",
       "</table>\n",
       "</div>"
      ],
      "text/plain": [
       "Errors ($\\alpha$, $\\beta$) (0.05; 0.5)\n",
       "Effect                                \n",
       "20.0%                              289"
      ]
     },
     "execution_count": 15,
     "metadata": {},
     "output_type": "execute_result"
    }
   ],
   "source": [
    "designer.run('size', 'theory')"
   ]
  },
  {
   "cell_type": "code",
   "execution_count": 16,
   "id": "c18d9f28",
   "metadata": {},
   "outputs": [
    {
     "data": {
      "text/html": [
       "<div>\n",
       "<style scoped>\n",
       "    .dataframe tbody tr th:only-of-type {\n",
       "        vertical-align: middle;\n",
       "    }\n",
       "\n",
       "    .dataframe tbody tr th {\n",
       "        vertical-align: top;\n",
       "    }\n",
       "\n",
       "    .dataframe thead tr th {\n",
       "        text-align: left;\n",
       "    }\n",
       "\n",
       "    .dataframe thead tr:last-of-type th {\n",
       "        text-align: right;\n",
       "    }\n",
       "</style>\n",
       "<table border=\"1\" class=\"dataframe\">\n",
       "  <thead>\n",
       "    <tr>\n",
       "      <th>Errors ($\\alpha$, $\\beta$)</th>\n",
       "      <th>(0.05; 0.5)</th>\n",
       "    </tr>\n",
       "    <tr>\n",
       "      <th>Effect</th>\n",
       "      <th></th>\n",
       "    </tr>\n",
       "  </thead>\n",
       "  <tbody>\n",
       "    <tr>\n",
       "      <th>20.0%</th>\n",
       "      <td>280</td>\n",
       "    </tr>\n",
       "  </tbody>\n",
       "</table>\n",
       "</div>"
      ],
      "text/plain": [
       "Errors ($\\alpha$, $\\beta$) (0.05; 0.5)\n",
       "Effect                                \n",
       "20.0%                              280"
      ]
     },
     "execution_count": 16,
     "metadata": {},
     "output_type": "execute_result"
    }
   ],
   "source": [
    "designer.run('size', 'binary', interval_type='newcombe', amount=100000)"
   ]
  },
  {
   "cell_type": "markdown",
   "id": "10669e8d",
   "metadata": {},
   "source": [
    "Power:"
   ]
  },
  {
   "cell_type": "code",
   "execution_count": 17,
   "id": "d02a3e4d",
   "metadata": {
    "scrolled": true
   },
   "outputs": [
    {
     "data": {
      "text/html": [
       "<div>\n",
       "<style scoped>\n",
       "    .dataframe tbody tr th:only-of-type {\n",
       "        vertical-align: middle;\n",
       "    }\n",
       "\n",
       "    .dataframe tbody tr th {\n",
       "        vertical-align: top;\n",
       "    }\n",
       "\n",
       "    .dataframe thead th {\n",
       "        text-align: right;\n",
       "    }\n",
       "</style>\n",
       "<table border=\"1\" class=\"dataframe\">\n",
       "  <thead>\n",
       "    <tr style=\"text-align: right;\">\n",
       "      <th></th>\n",
       "      <th>Group sizes</th>\n",
       "      <th>150</th>\n",
       "    </tr>\n",
       "    <tr>\n",
       "      <th>$\\alpha$</th>\n",
       "      <th>Effect</th>\n",
       "      <th></th>\n",
       "    </tr>\n",
       "  </thead>\n",
       "  <tbody>\n",
       "    <tr>\n",
       "      <th>0.05</th>\n",
       "      <th>20.0%</th>\n",
       "      <td>29.2%</td>\n",
       "    </tr>\n",
       "  </tbody>\n",
       "</table>\n",
       "</div>"
      ],
      "text/plain": [
       "Group sizes        150\n",
       "$\\alpha$ Effect       \n",
       "0.05     20.0%   29.2%"
      ]
     },
     "execution_count": 17,
     "metadata": {},
     "output_type": "execute_result"
    }
   ],
   "source": [
    "designer.run('power', 'theory')"
   ]
  },
  {
   "cell_type": "code",
   "execution_count": 18,
   "id": "f63087e0",
   "metadata": {},
   "outputs": [
    {
     "data": {
      "text/html": [
       "<div>\n",
       "<style scoped>\n",
       "    .dataframe tbody tr th:only-of-type {\n",
       "        vertical-align: middle;\n",
       "    }\n",
       "\n",
       "    .dataframe tbody tr th {\n",
       "        vertical-align: top;\n",
       "    }\n",
       "\n",
       "    .dataframe thead th {\n",
       "        text-align: right;\n",
       "    }\n",
       "</style>\n",
       "<table border=\"1\" class=\"dataframe\">\n",
       "  <thead>\n",
       "    <tr style=\"text-align: right;\">\n",
       "      <th></th>\n",
       "      <th>Group sizes</th>\n",
       "      <th>150</th>\n",
       "    </tr>\n",
       "    <tr>\n",
       "      <th>$\\alpha$</th>\n",
       "      <th>Effect</th>\n",
       "      <th></th>\n",
       "    </tr>\n",
       "  </thead>\n",
       "  <tbody>\n",
       "    <tr>\n",
       "      <th>0.05</th>\n",
       "      <th>20.0%</th>\n",
       "      <td>30.3%</td>\n",
       "    </tr>\n",
       "  </tbody>\n",
       "</table>\n",
       "</div>"
      ],
      "text/plain": [
       "Group sizes        150\n",
       "$\\alpha$ Effect       \n",
       "0.05     20.0%   30.3%"
      ]
     },
     "execution_count": 18,
     "metadata": {},
     "output_type": "execute_result"
    }
   ],
   "source": [
    "designer.run('power', 'binary', interval_type='newcombe', amount=100000)"
   ]
  },
  {
   "cell_type": "code",
   "execution_count": 19,
   "id": "a566f5f9",
   "metadata": {},
   "outputs": [],
   "source": [
    "spark.stop()"
   ]
  }
 ],
 "metadata": {
  "kernelspec": {
   "display_name": "Python 3 (ipykernel)",
   "language": "python",
   "name": "python3"
  },
  "language_info": {
   "codemirror_mode": {
    "name": "ipython",
    "version": 3
   },
   "file_extension": ".py",
   "mimetype": "text/x-python",
   "name": "python",
   "nbconvert_exporter": "python",
   "pygments_lexer": "ipython3",
   "version": "3.9.16"
  },
  "varInspector": {
   "cols": {
    "lenName": 16,
    "lenType": 16,
    "lenVar": 40
   },
   "kernels_config": {
    "python": {
     "delete_cmd_postfix": "",
     "delete_cmd_prefix": "del ",
     "library": "var_list.py",
     "varRefreshCmd": "print(var_dic_list())"
    },
    "r": {
     "delete_cmd_postfix": ") ",
     "delete_cmd_prefix": "rm(",
     "library": "var_list.r",
     "varRefreshCmd": "cat(var_dic_list()) "
    }
   },
   "types_to_exclude": [
    "module",
    "function",
    "builtin_function_or_method",
    "instance",
    "_Feature"
   ],
   "window_display": false
  },
  "vscode": {
   "interpreter": {
    "hash": "d8fb73508d2acb87fe0aab48900f4b3a805e91f36d689aef3b766391c2767938"
   }
  }
 },
 "nbformat": 4,
 "nbformat_minor": 5
}
