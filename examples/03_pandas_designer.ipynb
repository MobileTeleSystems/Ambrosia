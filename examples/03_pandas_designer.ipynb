{
 "cells": [
  {
   "cell_type": "markdown",
   "id": "211f7b78",
   "metadata": {},
   "source": [
    "# Example of the ``Designer`` class usage for A/B test parameters calculation"
   ]
  },
  {
   "cell_type": "markdown",
   "id": "2adc6e72",
   "metadata": {},
   "source": [
    "This tutorial will review *Ambrosia's* experiments design tools using an example of calculating the parameters of a hypothetical A/B test. For this, synthetic data on MTS KION users metrics will be used."
   ]
  },
  {
   "cell_type": "markdown",
   "id": "8b2006b5",
   "metadata": {},
   "source": [
    "Before we start looking at the tools, here is a short list of questions and answers to help understand some of the experiment design essentials"
   ]
  },
  {
   "cell_type": "markdown",
   "id": "8dc00524",
   "metadata": {},
   "source": [
    "**Note:** In this tutorial fixed-horizon experiments are assumed. For this kind of experiments, decisions are made based on the results obtained at the end of the planned test duration."
   ]
  },
  {
   "cell_type": "markdown",
   "id": "6536e1dd",
   "metadata": {},
   "source": [
    "## What is needed before designing A/B test parameters?"
   ]
  },
  {
   "cell_type": "markdown",
   "id": "33c2f6ba",
   "metadata": {},
   "source": [
    "Before the experiment it is good to have:\n",
    "\n",
    "- Formulated and fixed hypothesis\n",
    "- One or a set of metrics that meet all the requirements of the task, and on which the conclusion will be drawn\n",
    "- A fixed plan of the decision-making process based on the results of the experiment\n",
    "\n",
    "Also, for a calculation of the test parameters itself, we need to have historical data on selected metrics."
   ]
  },
  {
   "cell_type": "markdown",
   "id": "3e423555",
   "metadata": {},
   "source": [
    "## What parameters does usual A/B test have?"
   ]
  },
  {
   "cell_type": "markdown",
   "id": "f088817c",
   "metadata": {},
   "source": [
    "In usual A/B test we use some **statistical criteria** that tests our hypothesis, and there are four related parameters for the experimental setup:\n",
    "\n",
    "- **I type error** (alpha) - probability of false success of the criterion in the absence of real changes,\\\n",
    "1 - alpha is called *statistical significance*\n",
    "- **II type error** (beta) - probability of false failure of the criterion in the presence of real changes,\\\n",
    "1 - beta is called *statistical power*\n",
    "- **Groups sizes** - number of objects in each experimental group, converted to the duration of the experiment using traffic\n",
    "- **Minimal detectable effect** (MDE) - is the smallest true effect from a change that has a certain level of statistical power for a certain level of statistical significance"
   ]
  },
  {
   "cell_type": "markdown",
   "id": "f3214f08",
   "metadata": {},
   "source": [
    "**Note:** For tests with multigroups or sets of metrics, this must be taken into account in an appropriate way when calculating the parameters of the experiment."
   ]
  },
  {
   "cell_type": "markdown",
   "id": "f20c554c",
   "metadata": {},
   "source": [
    "## Why one need to calculate A/B test parameters?"
   ]
  },
  {
   "cell_type": "markdown",
   "id": "f06eb216",
   "metadata": {},
   "source": [
    "This is necessary to obtain correct and expected results from the experiment.\\\n",
    "Nobody wants to run an experiment longer than necessary or get results with low statistical power.\n",
    "\n",
    "Basically, researches fix I type error at some level (industry default is 0.05) and try to maximize statistical power of test under the existing limitations of business environment .\n",
    "\n",
    "These limitations usually include:\n",
    "\n",
    "- Test duration limitation due to risks of implemented change negative impact\n",
    "- Test duration limitation because of test costs\n",
    "- Group sizes limitation due to limits of available objects pool or traffic channel\n",
    "- MDE limitation due to it's minimal reasonable size\n",
    "- MDE limitation due to weak impact of the change on the tested metric\n",
    "- MDE limitation due to development costs of implemented change\n",
    "- Costs of I and II type errors, which limits of fixes these values\n",
    "\n",
    "\n",
    "For example, there may be such a statement of the design problem: \\\n",
    "What is the minimal detectable effect on the metric that we can detect with given errors of type I and II, if the size of our groups is fixed?"
   ]
  },
  {
   "cell_type": "markdown",
   "id": "86980b25",
   "metadata": {},
   "source": [
    "## How parameters can be calculated?"
   ]
  },
  {
   "cell_type": "markdown",
   "id": "be7acf9d",
   "metadata": {},
   "source": [
    "*Ambrosia* offers two approaches to calculate experiment parameters using metric historical data.\n",
    "\n",
    "**Theoretical approach**\n",
    "\n",
    "First method is based on the results of the analytical formula for the difference of normally distributed quantities. \n",
    "This method is very fast because it only requires the value of the mean and variance of the empirical distribution of the metric, and is recommended for first use.\n",
    "\n",
    "Don't worry if your metric isn't distributed normally, for a large enough group the CLT will work for you. However, to obtain completely correct results, it is necessary to check the nominal coverage of the corresponding confidence intervals.\n",
    "\n",
    "You can read more about this theoretical formula [here](https://habr.com/ru/company/ru_mts/blog/700992/) or in other sources.\n",
    "\n",
    "**Empirical approach**\n",
    "\n",
    "The theoretical approach is fast and convenient, but does not take into account your specific criteria and all the features of the distribution of metric values.\n",
    "\n",
    "The empirical method allows parameters to be calculated by repeatedly sampling the groups from the passed historical data, modeling the effect on the test group, and applying the selected statistical test on large number of group pairs. Thus, the statistical power can be estimated empirically and other parameters optimally matched.\n",
    "\n",
    "This method is more computationally consuming and can give noisy results in parameters estimation with a small number of sampled groups."
   ]
  },
  {
   "cell_type": "markdown",
   "id": "4af9934a",
   "metadata": {},
   "source": [
    "**Note:** For binary metrics empirical approach is not suitable. You can choose ``binary`` method which solves inverse problem by constructing a large number of binary confidence intervals. \\\n",
    "This method has its own features, see a separate example with the design of binary metrics."
   ]
  },
  {
   "cell_type": "markdown",
   "id": "9a854fcf",
   "metadata": {},
   "source": [
    "## Now, let's start the tutorial"
   ]
  },
  {
   "cell_type": "code",
   "execution_count": 2,
   "id": "1012592a",
   "metadata": {},
   "outputs": [],
   "source": [
    "import numpy as np\n",
    "import pandas as pd\n",
    "\n",
    "import yaml\n",
    "\n",
    "from ambrosia.designer import Designer, design, load_from_config"
   ]
  },
  {
   "cell_type": "markdown",
   "id": "9df67da6",
   "metadata": {},
   "source": [
    "Load data"
   ]
  },
  {
   "cell_type": "code",
   "execution_count": 3,
   "id": "04d60065",
   "metadata": {},
   "outputs": [],
   "source": [
    "data = pd.read_csv('../tests/test_data/kion_data.csv', sep=';')"
   ]
  },
  {
   "cell_type": "code",
   "execution_count": 4,
   "id": "46d33b3c",
   "metadata": {},
   "outputs": [
    {
     "data": {
      "text/html": [
       "<div>\n",
       "<style scoped>\n",
       "    .dataframe tbody tr th:only-of-type {\n",
       "        vertical-align: middle;\n",
       "    }\n",
       "\n",
       "    .dataframe tbody tr th {\n",
       "        vertical-align: top;\n",
       "    }\n",
       "\n",
       "    .dataframe thead th {\n",
       "        text-align: right;\n",
       "    }\n",
       "</style>\n",
       "<table border=\"1\" class=\"dataframe\">\n",
       "  <thead>\n",
       "    <tr style=\"text-align: right;\">\n",
       "      <th></th>\n",
       "      <th>profile_id</th>\n",
       "      <th>sum_dur</th>\n",
       "      <th>vod_cnt</th>\n",
       "      <th>ln_vod_cnt</th>\n",
       "      <th>bin_col</th>\n",
       "    </tr>\n",
       "  </thead>\n",
       "  <tbody>\n",
       "    <tr>\n",
       "      <th>0</th>\n",
       "      <td>99402893794</td>\n",
       "      <td>20104282</td>\n",
       "      <td>83</td>\n",
       "      <td>5.533356</td>\n",
       "      <td>1</td>\n",
       "    </tr>\n",
       "    <tr>\n",
       "      <th>1</th>\n",
       "      <td>878511937265</td>\n",
       "      <td>3986136</td>\n",
       "      <td>53</td>\n",
       "      <td>4.807294</td>\n",
       "      <td>1</td>\n",
       "    </tr>\n",
       "    <tr>\n",
       "      <th>2</th>\n",
       "      <td>998929369788</td>\n",
       "      <td>2063965</td>\n",
       "      <td>22</td>\n",
       "      <td>3.187069</td>\n",
       "      <td>1</td>\n",
       "    </tr>\n",
       "    <tr>\n",
       "      <th>3</th>\n",
       "      <td>265028786131</td>\n",
       "      <td>523539</td>\n",
       "      <td>14</td>\n",
       "      <td>2.679252</td>\n",
       "      <td>1</td>\n",
       "    </tr>\n",
       "    <tr>\n",
       "      <th>4</th>\n",
       "      <td>995182338752</td>\n",
       "      <td>1588224</td>\n",
       "      <td>19</td>\n",
       "      <td>4.177776</td>\n",
       "      <td>1</td>\n",
       "    </tr>\n",
       "  </tbody>\n",
       "</table>\n",
       "</div>"
      ],
      "text/plain": [
       "     profile_id   sum_dur  vod_cnt  ln_vod_cnt  bin_col\n",
       "0   99402893794  20104282       83    5.533356        1\n",
       "1  878511937265   3986136       53    4.807294        1\n",
       "2  998929369788   2063965       22    3.187069        1\n",
       "3  265028786131    523539       14    2.679252        1\n",
       "4  995182338752   1588224       19    4.177776        1"
      ]
     },
     "execution_count": 4,
     "metadata": {},
     "output_type": "execute_result"
    }
   ],
   "source": [
    "data.head()"
   ]
  },
  {
   "cell_type": "markdown",
   "id": "1c66cdf2",
   "metadata": {},
   "source": [
    "The ``Designer`` class is *Ambrosia*'s main tool for calculating experimental parameters. It has one main public method ``run()`` which returns the table with calculated parameters of the test. \n",
    "\n",
    "Let's create an instance of the class and pass to the constructor a dataframe with historical data about the metrics that we will design, in our case, this is the total duration of viewing the content ``sum_dur`` per user."
   ]
  },
  {
   "cell_type": "code",
   "execution_count": 5,
   "id": "db074d82",
   "metadata": {},
   "outputs": [],
   "source": [
    "designer = Designer(dataframe=data, metrics='sum_dur')"
   ]
  },
  {
   "cell_type": "markdown",
   "id": "2ccb7fe2",
   "metadata": {},
   "source": [
    "In fact, we can pass this dataframe and metrics later as an argument to the ``run()`` method. We can do the same with most of the parameters related directly to the experiment (errors, effects, and so on) - either pass them to the constructor during initialization (and then they will become attributes of the created instance), or pass them later, when execute ``run()`` method. In case of parameter selection ambiguity, the argument in the method takes precedence over the attribute value."
   ]
  },
  {
   "cell_type": "markdown",
   "id": "9fe1e02e",
   "metadata": {},
   "source": [
    "### Theoretical design"
   ]
  },
  {
   "cell_type": "markdown",
   "id": "f439c18e",
   "metadata": {},
   "source": [
    "Now we will calculate the parameters of the experiment using theoretical approach and grid of other known params"
   ]
  },
  {
   "cell_type": "code",
   "execution_count": 6,
   "id": "83792098",
   "metadata": {},
   "outputs": [],
   "source": [
    "### Set parameters grid\n",
    "effects = [1.05, 1.1, 1.2]  # MDE in percents\n",
    "sizes = [1000, 3000, 7000]  # Size of each group\n",
    "first_type_errors = [0.01, 0.05]\n",
    "second_type_errors = [0.1, 0.2]"
   ]
  },
  {
   "cell_type": "markdown",
   "id": "fff7eae3",
   "metadata": {},
   "source": [
    "Calculate MDE"
   ]
  },
  {
   "cell_type": "code",
   "execution_count": 7,
   "id": "e6cfa91c",
   "metadata": {},
   "outputs": [
    {
     "data": {
      "text/html": [
       "<div>\n",
       "<style scoped>\n",
       "    .dataframe tbody tr th:only-of-type {\n",
       "        vertical-align: middle;\n",
       "    }\n",
       "\n",
       "    .dataframe tbody tr th {\n",
       "        vertical-align: top;\n",
       "    }\n",
       "\n",
       "    .dataframe thead tr th {\n",
       "        text-align: left;\n",
       "    }\n",
       "\n",
       "    .dataframe thead tr:last-of-type th {\n",
       "        text-align: right;\n",
       "    }\n",
       "</style>\n",
       "<table border=\"1\" class=\"dataframe\">\n",
       "  <thead>\n",
       "    <tr>\n",
       "      <th>Errors ($\\alpha$, $\\beta$)</th>\n",
       "      <th>(0.01; 0.1)</th>\n",
       "      <th>(0.01; 0.2)</th>\n",
       "      <th>(0.05; 0.1)</th>\n",
       "      <th>(0.05; 0.2)</th>\n",
       "    </tr>\n",
       "    <tr>\n",
       "      <th>Group sizes</th>\n",
       "      <th></th>\n",
       "      <th></th>\n",
       "      <th></th>\n",
       "      <th></th>\n",
       "    </tr>\n",
       "  </thead>\n",
       "  <tbody>\n",
       "    <tr>\n",
       "      <th>1000</th>\n",
       "      <td>61.1%</td>\n",
       "      <td>54.2%</td>\n",
       "      <td>51.4%</td>\n",
       "      <td>44.4%</td>\n",
       "    </tr>\n",
       "    <tr>\n",
       "      <th>3000</th>\n",
       "      <td>35.3%</td>\n",
       "      <td>31.3%</td>\n",
       "      <td>29.6%</td>\n",
       "      <td>25.6%</td>\n",
       "    </tr>\n",
       "    <tr>\n",
       "      <th>7000</th>\n",
       "      <td>23.1%</td>\n",
       "      <td>20.5%</td>\n",
       "      <td>19.4%</td>\n",
       "      <td>16.8%</td>\n",
       "    </tr>\n",
       "  </tbody>\n",
       "</table>\n",
       "</div>"
      ],
      "text/plain": [
       "Errors ($\\alpha$, $\\beta$) (0.01; 0.1) (0.01; 0.2) (0.05; 0.1) (0.05; 0.2)\n",
       "Group sizes                                                               \n",
       "1000                             61.1%       54.2%       51.4%       44.4%\n",
       "3000                             35.3%       31.3%       29.6%       25.6%\n",
       "7000                             23.1%       20.5%       19.4%       16.8%"
      ]
     },
     "execution_count": 7,
     "metadata": {},
     "output_type": "execute_result"
    }
   ],
   "source": [
    "designer.run(to_design='effect',\n",
    "             method='theory',\n",
    "             first_type_errors=first_type_errors,\n",
    "             second_type_errors=second_type_errors,\n",
    "             sizes=sizes)"
   ]
  },
  {
   "cell_type": "markdown",
   "id": "9e2b02e0",
   "metadata": {},
   "source": [
    "We will use these error rates further, so let's set them using setters"
   ]
  },
  {
   "cell_type": "code",
   "execution_count": 8,
   "id": "79f2fb0f",
   "metadata": {},
   "outputs": [],
   "source": [
    "designer.set_first_errors(first_type_errors)\n",
    "designer.set_second_errors(second_type_errors)"
   ]
  },
  {
   "cell_type": "markdown",
   "id": "dbd03824",
   "metadata": {},
   "source": [
    "Now calculate group sizes"
   ]
  },
  {
   "cell_type": "code",
   "execution_count": 9,
   "id": "bbfb4b68",
   "metadata": {},
   "outputs": [
    {
     "data": {
      "text/html": [
       "<div>\n",
       "<style scoped>\n",
       "    .dataframe tbody tr th:only-of-type {\n",
       "        vertical-align: middle;\n",
       "    }\n",
       "\n",
       "    .dataframe tbody tr th {\n",
       "        vertical-align: top;\n",
       "    }\n",
       "\n",
       "    .dataframe thead tr th {\n",
       "        text-align: left;\n",
       "    }\n",
       "\n",
       "    .dataframe thead tr:last-of-type th {\n",
       "        text-align: right;\n",
       "    }\n",
       "</style>\n",
       "<table border=\"1\" class=\"dataframe\">\n",
       "  <thead>\n",
       "    <tr>\n",
       "      <th>Errors ($\\alpha$, $\\beta$)</th>\n",
       "      <th>(0.01; 0.1)</th>\n",
       "      <th>(0.01; 0.2)</th>\n",
       "      <th>(0.05; 0.1)</th>\n",
       "      <th>(0.05; 0.2)</th>\n",
       "    </tr>\n",
       "    <tr>\n",
       "      <th>Effect</th>\n",
       "      <th></th>\n",
       "      <th></th>\n",
       "      <th></th>\n",
       "      <th></th>\n",
       "    </tr>\n",
       "  </thead>\n",
       "  <tbody>\n",
       "    <tr>\n",
       "      <th>5.0%</th>\n",
       "      <td>149323</td>\n",
       "      <td>117206</td>\n",
       "      <td>105448</td>\n",
       "      <td>78768</td>\n",
       "    </tr>\n",
       "    <tr>\n",
       "      <th>10.0%</th>\n",
       "      <td>37332</td>\n",
       "      <td>29303</td>\n",
       "      <td>26363</td>\n",
       "      <td>19693</td>\n",
       "    </tr>\n",
       "    <tr>\n",
       "      <th>20.0%</th>\n",
       "      <td>9335</td>\n",
       "      <td>7327</td>\n",
       "      <td>6592</td>\n",
       "      <td>4924</td>\n",
       "    </tr>\n",
       "  </tbody>\n",
       "</table>\n",
       "</div>"
      ],
      "text/plain": [
       "Errors ($\\alpha$, $\\beta$) (0.01; 0.1) (0.01; 0.2) (0.05; 0.1) (0.05; 0.2)\n",
       "Effect                                                                    \n",
       "5.0%                            149323      117206      105448       78768\n",
       "10.0%                            37332       29303       26363       19693\n",
       "20.0%                             9335        7327        6592        4924"
      ]
     },
     "execution_count": 9,
     "metadata": {},
     "output_type": "execute_result"
    }
   ],
   "source": [
    "designer.run(to_design='size', method='theory', effects=effects)"
   ]
  },
  {
   "cell_type": "markdown",
   "id": "a2370c6b",
   "metadata": {},
   "source": [
    "Finally calculate statistical power"
   ]
  },
  {
   "cell_type": "code",
   "execution_count": 10,
   "id": "50769743",
   "metadata": {},
   "outputs": [
    {
     "data": {
      "text/html": [
       "<div>\n",
       "<style scoped>\n",
       "    .dataframe tbody tr th:only-of-type {\n",
       "        vertical-align: middle;\n",
       "    }\n",
       "\n",
       "    .dataframe tbody tr th {\n",
       "        vertical-align: top;\n",
       "    }\n",
       "\n",
       "    .dataframe thead th {\n",
       "        text-align: right;\n",
       "    }\n",
       "</style>\n",
       "<table border=\"1\" class=\"dataframe\">\n",
       "  <thead>\n",
       "    <tr style=\"text-align: right;\">\n",
       "      <th></th>\n",
       "      <th>Group sizes</th>\n",
       "      <th>1000</th>\n",
       "      <th>3000</th>\n",
       "      <th>7000</th>\n",
       "    </tr>\n",
       "    <tr>\n",
       "      <th>$\\alpha$</th>\n",
       "      <th>Effect</th>\n",
       "      <th></th>\n",
       "      <th></th>\n",
       "      <th></th>\n",
       "    </tr>\n",
       "  </thead>\n",
       "  <tbody>\n",
       "    <tr>\n",
       "      <th rowspan=\"3\" valign=\"top\">0.01</th>\n",
       "      <th>5.0%</th>\n",
       "      <td>1.4%</td>\n",
       "      <td>2.2%</td>\n",
       "      <td>4.1%</td>\n",
       "    </tr>\n",
       "    <tr>\n",
       "      <th>10.0%</th>\n",
       "      <td>2.7%</td>\n",
       "      <td>6.9%</td>\n",
       "      <td>18.3%</td>\n",
       "    </tr>\n",
       "    <tr>\n",
       "      <th>20.0%</th>\n",
       "      <td>9.4%</td>\n",
       "      <td>34.8%</td>\n",
       "      <td>77.8%</td>\n",
       "    </tr>\n",
       "    <tr>\n",
       "      <th rowspan=\"3\" valign=\"top\">0.05</th>\n",
       "      <th>5.0%</th>\n",
       "      <td>6.1%</td>\n",
       "      <td>8.5%</td>\n",
       "      <td>13.3%</td>\n",
       "    </tr>\n",
       "    <tr>\n",
       "      <th>10.0%</th>\n",
       "      <td>9.7%</td>\n",
       "      <td>19.4%</td>\n",
       "      <td>38.6%</td>\n",
       "    </tr>\n",
       "    <tr>\n",
       "      <th>20.0%</th>\n",
       "      <td>24.3%</td>\n",
       "      <td>59.0%</td>\n",
       "      <td>91.6%</td>\n",
       "    </tr>\n",
       "  </tbody>\n",
       "</table>\n",
       "</div>"
      ],
      "text/plain": [
       "Group sizes       1000   3000   7000\n",
       "$\\alpha$ Effect                     \n",
       "0.01     5.0%     1.4%   2.2%   4.1%\n",
       "         10.0%    2.7%   6.9%  18.3%\n",
       "         20.0%    9.4%  34.8%  77.8%\n",
       "0.05     5.0%     6.1%   8.5%  13.3%\n",
       "         10.0%    9.7%  19.4%  38.6%\n",
       "         20.0%   24.3%  59.0%  91.6%"
      ]
     },
     "execution_count": 10,
     "metadata": {},
     "output_type": "execute_result"
    }
   ],
   "source": [
    "designer.run(to_design='power', method='theory', effects=effects, sizes=sizes)"
   ]
  },
  {
   "cell_type": "markdown",
   "id": "f7137f51",
   "metadata": {},
   "source": [
    "We can change alternative, by default it is ``\"two-sided\"``, now we want test only positive changes "
   ]
  },
  {
   "cell_type": "code",
   "execution_count": 11,
   "id": "311b23bf",
   "metadata": {},
   "outputs": [
    {
     "data": {
      "text/html": [
       "<div>\n",
       "<style scoped>\n",
       "    .dataframe tbody tr th:only-of-type {\n",
       "        vertical-align: middle;\n",
       "    }\n",
       "\n",
       "    .dataframe tbody tr th {\n",
       "        vertical-align: top;\n",
       "    }\n",
       "\n",
       "    .dataframe thead th {\n",
       "        text-align: right;\n",
       "    }\n",
       "</style>\n",
       "<table border=\"1\" class=\"dataframe\">\n",
       "  <thead>\n",
       "    <tr style=\"text-align: right;\">\n",
       "      <th></th>\n",
       "      <th>Group sizes</th>\n",
       "      <th>1000</th>\n",
       "      <th>3000</th>\n",
       "      <th>7000</th>\n",
       "    </tr>\n",
       "    <tr>\n",
       "      <th>$\\alpha$</th>\n",
       "      <th>Effect</th>\n",
       "      <th></th>\n",
       "      <th></th>\n",
       "      <th></th>\n",
       "    </tr>\n",
       "  </thead>\n",
       "  <tbody>\n",
       "    <tr>\n",
       "      <th rowspan=\"3\" valign=\"top\">0.01</th>\n",
       "      <th>5.0%</th>\n",
       "      <td>2.2%</td>\n",
       "      <td>3.8%</td>\n",
       "      <td>6.8%</td>\n",
       "    </tr>\n",
       "    <tr>\n",
       "      <th>10.0%</th>\n",
       "      <td>4.5%</td>\n",
       "      <td>10.9%</td>\n",
       "      <td>25.6%</td>\n",
       "    </tr>\n",
       "    <tr>\n",
       "      <th>20.0%</th>\n",
       "      <td>14.4%</td>\n",
       "      <td>44.4%</td>\n",
       "      <td>84.5%</td>\n",
       "    </tr>\n",
       "    <tr>\n",
       "      <th rowspan=\"3\" valign=\"top\">0.05</th>\n",
       "      <th>5.0%</th>\n",
       "      <td>9.2%</td>\n",
       "      <td>13.6%</td>\n",
       "      <td>20.9%</td>\n",
       "    </tr>\n",
       "    <tr>\n",
       "      <th>10.0%</th>\n",
       "      <td>15.5%</td>\n",
       "      <td>29.1%</td>\n",
       "      <td>51.0%</td>\n",
       "    </tr>\n",
       "    <tr>\n",
       "      <th>20.0%</th>\n",
       "      <td>35.1%</td>\n",
       "      <td>70.6%</td>\n",
       "      <td>95.5%</td>\n",
       "    </tr>\n",
       "  </tbody>\n",
       "</table>\n",
       "</div>"
      ],
      "text/plain": [
       "Group sizes       1000   3000   7000\n",
       "$\\alpha$ Effect                     \n",
       "0.01     5.0%     2.2%   3.8%   6.8%\n",
       "         10.0%    4.5%  10.9%  25.6%\n",
       "         20.0%   14.4%  44.4%  84.5%\n",
       "0.05     5.0%     9.2%  13.6%  20.9%\n",
       "         10.0%   15.5%  29.1%  51.0%\n",
       "         20.0%   35.1%  70.6%  95.5%"
      ]
     },
     "execution_count": 11,
     "metadata": {},
     "output_type": "execute_result"
    }
   ],
   "source": [
    "designer.run(to_design='power',\n",
    "             method='theory',\n",
    "             effects=effects,\n",
    "             sizes=sizes,\n",
    "             alternative='greater')"
   ]
  },
  {
   "cell_type": "markdown",
   "id": "234354a7",
   "metadata": {},
   "source": [
    "Parameter ``groups_ratio`` allows to make groups sizes unequal. The size of group B is equal to the size of group A multiplied by ``groups_ratio`` value. By default, it is equal to ``1.0``. \n",
    "\n",
    "Let's make calculation of required size for group A : group B  in proportion of 10 : 1. The output group size calculation results show us the size of group A"
   ]
  },
  {
   "cell_type": "code",
   "execution_count": 12,
   "id": "72af6b28",
   "metadata": {},
   "outputs": [
    {
     "data": {
      "text/html": [
       "<div>\n",
       "<style scoped>\n",
       "    .dataframe tbody tr th:only-of-type {\n",
       "        vertical-align: middle;\n",
       "    }\n",
       "\n",
       "    .dataframe tbody tr th {\n",
       "        vertical-align: top;\n",
       "    }\n",
       "\n",
       "    .dataframe thead tr th {\n",
       "        text-align: left;\n",
       "    }\n",
       "\n",
       "    .dataframe thead tr:last-of-type th {\n",
       "        text-align: right;\n",
       "    }\n",
       "</style>\n",
       "<table border=\"1\" class=\"dataframe\">\n",
       "  <thead>\n",
       "    <tr>\n",
       "      <th>Errors ($\\alpha$, $\\beta$)</th>\n",
       "      <th>(0.01; 0.1)</th>\n",
       "      <th>(0.01; 0.2)</th>\n",
       "      <th>(0.05; 0.1)</th>\n",
       "      <th>(0.05; 0.2)</th>\n",
       "    </tr>\n",
       "    <tr>\n",
       "      <th>Effect</th>\n",
       "      <th></th>\n",
       "      <th></th>\n",
       "      <th></th>\n",
       "      <th></th>\n",
       "    </tr>\n",
       "  </thead>\n",
       "  <tbody>\n",
       "    <tr>\n",
       "      <th>5.0%</th>\n",
       "      <td>821269</td>\n",
       "      <td>644622</td>\n",
       "      <td>579958</td>\n",
       "      <td>433219</td>\n",
       "    </tr>\n",
       "    <tr>\n",
       "      <th>10.0%</th>\n",
       "      <td>205320</td>\n",
       "      <td>161158</td>\n",
       "      <td>144991</td>\n",
       "      <td>108306</td>\n",
       "    </tr>\n",
       "    <tr>\n",
       "      <th>20.0%</th>\n",
       "      <td>51333</td>\n",
       "      <td>40292</td>\n",
       "      <td>36249</td>\n",
       "      <td>27078</td>\n",
       "    </tr>\n",
       "  </tbody>\n",
       "</table>\n",
       "</div>"
      ],
      "text/plain": [
       "Errors ($\\alpha$, $\\beta$) (0.01; 0.1) (0.01; 0.2) (0.05; 0.1) (0.05; 0.2)\n",
       "Effect                                                                    \n",
       "5.0%                            821269      644622      579958      433219\n",
       "10.0%                           205320      161158      144991      108306\n",
       "20.0%                            51333       40292       36249       27078"
      ]
     },
     "execution_count": 12,
     "metadata": {},
     "output_type": "execute_result"
    }
   ],
   "source": [
    "designer.run(to_design='size',\n",
    "             method='theory',\n",
    "             effects=effects,\n",
    "             sizes=sizes,\n",
    "             groups_ratio=0.1)"
   ]
  },
  {
   "cell_type": "markdown",
   "id": "fced383d",
   "metadata": {},
   "source": [
    "### Empirical design"
   ]
  },
  {
   "cell_type": "markdown",
   "id": "9de2c2e5",
   "metadata": {},
   "source": [
    "Now we will change design method to ``empiric`` and calculate group sizes by conducting a lot of pseudo A/B tests on historical data.\n",
    "\n",
    "As a default statistical criterion, the ``Designer`` uses the two-sample independent T-test."
   ]
  },
  {
   "cell_type": "markdown",
   "id": "2a6d6bd8",
   "metadata": {},
   "source": [
    "To limit computational cost we will set ``bs_samples`` parameter to a low value. This parameter determines how many pseudo A/B tests we will conduct to evaluate one value of the parameter, and high values (use at least >1000) will give more accurate estimation of parameters.\n",
    "\n",
    "We will also use multiprocessing to speed up calculations and set the value of ``n_jobs`` to ``4`` (by default it is equal to ``1``)."
   ]
  },
  {
   "cell_type": "code",
   "execution_count": 13,
   "id": "916c89ad",
   "metadata": {},
   "outputs": [
    {
     "data": {
      "application/vnd.jupyter.widget-view+json": {
       "model_id": "8dfa3b051d78483fba8785cd813ac57d",
       "version_major": 2,
       "version_minor": 0
      },
      "text/plain": [
       "Group sizes calculation:   0%|          | 0/12 [00:00<?, ?it/s]"
      ]
     },
     "metadata": {},
     "output_type": "display_data"
    },
    {
     "data": {
      "text/html": [
       "<div>\n",
       "<style scoped>\n",
       "    .dataframe tbody tr th:only-of-type {\n",
       "        vertical-align: middle;\n",
       "    }\n",
       "\n",
       "    .dataframe tbody tr th {\n",
       "        vertical-align: top;\n",
       "    }\n",
       "\n",
       "    .dataframe thead th {\n",
       "        text-align: right;\n",
       "    }\n",
       "</style>\n",
       "<table border=\"1\" class=\"dataframe\">\n",
       "  <thead>\n",
       "    <tr style=\"text-align: right;\">\n",
       "      <th>Errors ($\\alpha$, $\\beta$)</th>\n",
       "      <th>(0.01, 0.1)</th>\n",
       "      <th>(0.01, 0.2)</th>\n",
       "      <th>(0.05, 0.1)</th>\n",
       "      <th>(0.05, 0.2)</th>\n",
       "    </tr>\n",
       "    <tr>\n",
       "      <th>Effect</th>\n",
       "      <th></th>\n",
       "      <th></th>\n",
       "      <th></th>\n",
       "      <th></th>\n",
       "    </tr>\n",
       "  </thead>\n",
       "  <tbody>\n",
       "    <tr>\n",
       "      <th>5.0%</th>\n",
       "      <td>153569</td>\n",
       "      <td>137126</td>\n",
       "      <td>117300</td>\n",
       "      <td>73706</td>\n",
       "    </tr>\n",
       "    <tr>\n",
       "      <th>10.0%</th>\n",
       "      <td>41096</td>\n",
       "      <td>34920</td>\n",
       "      <td>27711</td>\n",
       "      <td>21503</td>\n",
       "    </tr>\n",
       "    <tr>\n",
       "      <th>20.0%</th>\n",
       "      <td>10299</td>\n",
       "      <td>8827</td>\n",
       "      <td>7639</td>\n",
       "      <td>5822</td>\n",
       "    </tr>\n",
       "  </tbody>\n",
       "</table>\n",
       "</div>"
      ],
      "text/plain": [
       "Errors ($\\alpha$, $\\beta$)  (0.01, 0.1)  (0.01, 0.2)  (0.05, 0.1)  (0.05, 0.2)\n",
       "Effect                                                                        \n",
       "5.0%                             153569       137126       117300        73706\n",
       "10.0%                             41096        34920        27711        21503\n",
       "20.0%                             10299         8827         7639         5822"
      ]
     },
     "execution_count": 13,
     "metadata": {},
     "output_type": "execute_result"
    }
   ],
   "source": [
    "designer.run(to_design='size',\n",
    "             method='empiric',\n",
    "             effects=effects,\n",
    "             bs_samples=100,\n",
    "             n_jobs=4)"
   ]
  },
  {
   "cell_type": "markdown",
   "id": "165885a2",
   "metadata": {},
   "source": [
    "Statistical criterion can be changed using corresponding parameter ``criterion``"
   ]
  },
  {
   "cell_type": "code",
   "execution_count": 14,
   "id": "c49fbfb9",
   "metadata": {},
   "outputs": [
    {
     "data": {
      "application/vnd.jupyter.widget-view+json": {
       "model_id": "0ac3f3f204a24f85ad9f501b73266f13",
       "version_major": 2,
       "version_minor": 0
      },
      "text/plain": [
       "Group sizes calculation:   0%|          | 0/12 [00:00<?, ?it/s]"
      ]
     },
     "metadata": {},
     "output_type": "display_data"
    },
    {
     "data": {
      "text/html": [
       "<div>\n",
       "<style scoped>\n",
       "    .dataframe tbody tr th:only-of-type {\n",
       "        vertical-align: middle;\n",
       "    }\n",
       "\n",
       "    .dataframe tbody tr th {\n",
       "        vertical-align: top;\n",
       "    }\n",
       "\n",
       "    .dataframe thead th {\n",
       "        text-align: right;\n",
       "    }\n",
       "</style>\n",
       "<table border=\"1\" class=\"dataframe\">\n",
       "  <thead>\n",
       "    <tr style=\"text-align: right;\">\n",
       "      <th>Errors ($\\alpha$, $\\beta$)</th>\n",
       "      <th>(0.01, 0.1)</th>\n",
       "      <th>(0.01, 0.2)</th>\n",
       "      <th>(0.05, 0.1)</th>\n",
       "      <th>(0.05, 0.2)</th>\n",
       "    </tr>\n",
       "    <tr>\n",
       "      <th>Effect</th>\n",
       "      <th></th>\n",
       "      <th></th>\n",
       "      <th></th>\n",
       "      <th></th>\n",
       "    </tr>\n",
       "  </thead>\n",
       "  <tbody>\n",
       "    <tr>\n",
       "      <th>5.0%</th>\n",
       "      <td>66810</td>\n",
       "      <td>58589</td>\n",
       "      <td>46579</td>\n",
       "      <td>39088</td>\n",
       "    </tr>\n",
       "    <tr>\n",
       "      <th>10.0%</th>\n",
       "      <td>15249</td>\n",
       "      <td>12426</td>\n",
       "      <td>10748</td>\n",
       "      <td>10069</td>\n",
       "    </tr>\n",
       "    <tr>\n",
       "      <th>20.0%</th>\n",
       "      <td>4247</td>\n",
       "      <td>3891</td>\n",
       "      <td>2979</td>\n",
       "      <td>2340</td>\n",
       "    </tr>\n",
       "  </tbody>\n",
       "</table>\n",
       "</div>"
      ],
      "text/plain": [
       "Errors ($\\alpha$, $\\beta$)  (0.01, 0.1)  (0.01, 0.2)  (0.05, 0.1)  (0.05, 0.2)\n",
       "Effect                                                                        \n",
       "5.0%                              66810        58589        46579        39088\n",
       "10.0%                             15249        12426        10748        10069\n",
       "20.0%                              4247         3891         2979         2340"
      ]
     },
     "execution_count": 14,
     "metadata": {},
     "output_type": "execute_result"
    }
   ],
   "source": [
    "designer.run(to_design='size',\n",
    "             method='empiric',\n",
    "             effects=effects,\n",
    "             criterion='mw',\n",
    "             bs_samples=100,\n",
    "             n_jobs=4)"
   ]
  },
  {
   "cell_type": "markdown",
   "id": "70db3f00",
   "metadata": {},
   "source": [
    "We can use bootstrap criterion to calculate some parameter"
   ]
  },
  {
   "cell_type": "code",
   "execution_count": 25,
   "id": "00827860",
   "metadata": {
    "scrolled": true
   },
   "outputs": [
    {
     "data": {
      "application/vnd.jupyter.widget-view+json": {
       "model_id": "9bc180b8bd7b4386994316404b57d126",
       "version_major": 2,
       "version_minor": 0
      },
      "text/plain": [
       "Empirical errors calculation:   0%|          | 0/18 [00:00<?, ?it/s]"
      ]
     },
     "metadata": {},
     "output_type": "display_data"
    },
    {
     "data": {
      "text/html": [
       "<div>\n",
       "<style scoped>\n",
       "    .dataframe tbody tr th:only-of-type {\n",
       "        vertical-align: middle;\n",
       "    }\n",
       "\n",
       "    .dataframe tbody tr th {\n",
       "        vertical-align: top;\n",
       "    }\n",
       "\n",
       "    .dataframe thead th {\n",
       "        text-align: right;\n",
       "    }\n",
       "</style>\n",
       "<table border=\"1\" class=\"dataframe\">\n",
       "  <thead>\n",
       "    <tr style=\"text-align: right;\">\n",
       "      <th></th>\n",
       "      <th>Group sizes</th>\n",
       "      <th>(1000, 1000)</th>\n",
       "      <th>(3000, 3000)</th>\n",
       "      <th>(7000, 7000)</th>\n",
       "    </tr>\n",
       "    <tr>\n",
       "      <th>$\\alpha$</th>\n",
       "      <th>Effect</th>\n",
       "      <th></th>\n",
       "      <th></th>\n",
       "      <th></th>\n",
       "    </tr>\n",
       "  </thead>\n",
       "  <tbody>\n",
       "    <tr>\n",
       "      <th rowspan=\"3\" valign=\"top\">0.01</th>\n",
       "      <th>5.0%</th>\n",
       "      <td>2.2%</td>\n",
       "      <td>3.9%</td>\n",
       "      <td>5.1%</td>\n",
       "    </tr>\n",
       "    <tr>\n",
       "      <th>10.0%</th>\n",
       "      <td>4.5%</td>\n",
       "      <td>7.8%</td>\n",
       "      <td>19.7%</td>\n",
       "    </tr>\n",
       "    <tr>\n",
       "      <th>20.0%</th>\n",
       "      <td>9.9%</td>\n",
       "      <td>31.5%</td>\n",
       "      <td>70.8%</td>\n",
       "    </tr>\n",
       "    <tr>\n",
       "      <th rowspan=\"3\" valign=\"top\">0.05</th>\n",
       "      <th>5.0%</th>\n",
       "      <td>7.6%</td>\n",
       "      <td>9.8%</td>\n",
       "      <td>13.9%</td>\n",
       "    </tr>\n",
       "    <tr>\n",
       "      <th>10.0%</th>\n",
       "      <td>10.6%</td>\n",
       "      <td>19.7%</td>\n",
       "      <td>37.5%</td>\n",
       "    </tr>\n",
       "    <tr>\n",
       "      <th>20.0%</th>\n",
       "      <td>24.4%</td>\n",
       "      <td>57.1%</td>\n",
       "      <td>84.7%</td>\n",
       "    </tr>\n",
       "  </tbody>\n",
       "</table>\n",
       "</div>"
      ],
      "text/plain": [
       "Group sizes     (1000, 1000) (3000, 3000) (7000, 7000)\n",
       "$\\alpha$ Effect                                       \n",
       "0.01     5.0%           2.2%         3.9%         5.1%\n",
       "         10.0%          4.5%         7.8%        19.7%\n",
       "         20.0%          9.9%        31.5%        70.8%\n",
       "0.05     5.0%           7.6%         9.8%        13.9%\n",
       "         10.0%         10.6%        19.7%        37.5%\n",
       "         20.0%         24.4%        57.1%        84.7%"
      ]
     },
     "execution_count": 25,
     "metadata": {},
     "output_type": "execute_result"
    }
   ],
   "source": [
    "designer.run(to_design='power',\n",
    "             method='empiric',\n",
    "             effects=effects,\n",
    "             sizes=sizes,\n",
    "             criterion='bootstrap',\n",
    "             bs_samples=1000,\n",
    "             n_jobs=4)"
   ]
  },
  {
   "cell_type": "markdown",
   "id": "ddccf087",
   "metadata": {},
   "source": [
    "There is a number of implemented criteria in *Ambrosia*, but it must be remembered that each of them has its own prerequisites and each tests its own null hypothesis."
   ]
  },
  {
   "cell_type": "markdown",
   "id": "c725147e",
   "metadata": {},
   "source": [
    "``alternative`` and ``groups_ratio`` parameters are also available in the empirical approach"
   ]
  },
  {
   "cell_type": "code",
   "execution_count": 27,
   "id": "f1165644",
   "metadata": {},
   "outputs": [
    {
     "data": {
      "application/vnd.jupyter.widget-view+json": {
       "model_id": "ed16c245abe6458aa7382c108564f454",
       "version_major": 2,
       "version_minor": 0
      },
      "text/plain": [
       "Empirical errors calculation:   0%|          | 0/18 [00:00<?, ?it/s]"
      ]
     },
     "metadata": {},
     "output_type": "display_data"
    },
    {
     "data": {
      "text/html": [
       "<div>\n",
       "<style scoped>\n",
       "    .dataframe tbody tr th:only-of-type {\n",
       "        vertical-align: middle;\n",
       "    }\n",
       "\n",
       "    .dataframe tbody tr th {\n",
       "        vertical-align: top;\n",
       "    }\n",
       "\n",
       "    .dataframe thead th {\n",
       "        text-align: right;\n",
       "    }\n",
       "</style>\n",
       "<table border=\"1\" class=\"dataframe\">\n",
       "  <thead>\n",
       "    <tr style=\"text-align: right;\">\n",
       "      <th></th>\n",
       "      <th>Group sizes</th>\n",
       "      <th>(1000, 2000)</th>\n",
       "      <th>(3000, 6000)</th>\n",
       "      <th>(7000, 14000)</th>\n",
       "    </tr>\n",
       "    <tr>\n",
       "      <th>$\\alpha$</th>\n",
       "      <th>Effect</th>\n",
       "      <th></th>\n",
       "      <th></th>\n",
       "      <th></th>\n",
       "    </tr>\n",
       "  </thead>\n",
       "  <tbody>\n",
       "    <tr>\n",
       "      <th rowspan=\"3\" valign=\"top\">0.01</th>\n",
       "      <th>5.0%</th>\n",
       "      <td>3.6%</td>\n",
       "      <td>5.9%</td>\n",
       "      <td>10.7%</td>\n",
       "    </tr>\n",
       "    <tr>\n",
       "      <th>10.0%</th>\n",
       "      <td>7.9%</td>\n",
       "      <td>16.4%</td>\n",
       "      <td>34.5%</td>\n",
       "    </tr>\n",
       "    <tr>\n",
       "      <th>20.0%</th>\n",
       "      <td>21.9%</td>\n",
       "      <td>55.4%</td>\n",
       "      <td>88.0%</td>\n",
       "    </tr>\n",
       "    <tr>\n",
       "      <th rowspan=\"3\" valign=\"top\">0.05</th>\n",
       "      <th>5.0%</th>\n",
       "      <td>12.5%</td>\n",
       "      <td>17.6%</td>\n",
       "      <td>25.9%</td>\n",
       "    </tr>\n",
       "    <tr>\n",
       "      <th>10.0%</th>\n",
       "      <td>20.5%</td>\n",
       "      <td>37.1%</td>\n",
       "      <td>58.8%</td>\n",
       "    </tr>\n",
       "    <tr>\n",
       "      <th>20.0%</th>\n",
       "      <td>44.4%</td>\n",
       "      <td>76.5%</td>\n",
       "      <td>96.4%</td>\n",
       "    </tr>\n",
       "  </tbody>\n",
       "</table>\n",
       "</div>"
      ],
      "text/plain": [
       "Group sizes     (1000, 2000) (3000, 6000) (7000, 14000)\n",
       "$\\alpha$ Effect                                        \n",
       "0.01     5.0%           3.6%         5.9%         10.7%\n",
       "         10.0%          7.9%        16.4%         34.5%\n",
       "         20.0%         21.9%        55.4%         88.0%\n",
       "0.05     5.0%          12.5%        17.6%         25.9%\n",
       "         10.0%         20.5%        37.1%         58.8%\n",
       "         20.0%         44.4%        76.5%         96.4%"
      ]
     },
     "execution_count": 27,
     "metadata": {},
     "output_type": "execute_result"
    }
   ],
   "source": [
    "designer.run(to_design='power',\n",
    "             method='empiric',\n",
    "             sizes=sizes,\n",
    "             effects=effects,\n",
    "             criterion='ttest',\n",
    "             bs_samples=10000,\n",
    "             alternative='greater',\n",
    "             groups_ratio=2.0,\n",
    "             n_jobs=4)"
   ]
  },
  {
   "cell_type": "markdown",
   "id": "c5fa7550",
   "metadata": {},
   "source": [
    "**Note:** The empirical approach consumes a significant amount of computing resources and memory, especially when calculations are made on large groups."
   ]
  },
  {
   "cell_type": "markdown",
   "id": "48848491",
   "metadata": {},
   "source": [
    "### Stand-alone design function"
   ]
  },
  {
   "cell_type": "markdown",
   "id": "7eea2f58",
   "metadata": {},
   "source": [
    "There is a function that replicates the behavior of the ``Designer`` and it can also be used in the same way to calculate A/B test parameters"
   ]
  },
  {
   "cell_type": "markdown",
   "id": "5e02d071",
   "metadata": {},
   "source": [
    "Let's design test parameters for two metrics, we will get the output dict with pandas tables"
   ]
  },
  {
   "cell_type": "code",
   "execution_count": 28,
   "id": "3c6307bd",
   "metadata": {},
   "outputs": [],
   "source": [
    "design_result = design(to_design='power',\n",
    "                       dataframe=data,\n",
    "                       metrics=['sum_dur', 'vod_cnt'],\n",
    "                       method='theory',\n",
    "                       first_type_errors=first_type_errors,\n",
    "                       sizes=sizes,\n",
    "                       effects=effects)"
   ]
  },
  {
   "cell_type": "markdown",
   "id": "577fc9bf",
   "metadata": {},
   "source": [
    "Theoretical design of power for ``sum_dur`` metric"
   ]
  },
  {
   "cell_type": "code",
   "execution_count": 29,
   "id": "0287b0df",
   "metadata": {},
   "outputs": [
    {
     "data": {
      "text/html": [
       "<div>\n",
       "<style scoped>\n",
       "    .dataframe tbody tr th:only-of-type {\n",
       "        vertical-align: middle;\n",
       "    }\n",
       "\n",
       "    .dataframe tbody tr th {\n",
       "        vertical-align: top;\n",
       "    }\n",
       "\n",
       "    .dataframe thead th {\n",
       "        text-align: right;\n",
       "    }\n",
       "</style>\n",
       "<table border=\"1\" class=\"dataframe\">\n",
       "  <thead>\n",
       "    <tr style=\"text-align: right;\">\n",
       "      <th></th>\n",
       "      <th>Group sizes</th>\n",
       "      <th>1000</th>\n",
       "      <th>3000</th>\n",
       "      <th>7000</th>\n",
       "    </tr>\n",
       "    <tr>\n",
       "      <th>$\\alpha$</th>\n",
       "      <th>Effect</th>\n",
       "      <th></th>\n",
       "      <th></th>\n",
       "      <th></th>\n",
       "    </tr>\n",
       "  </thead>\n",
       "  <tbody>\n",
       "    <tr>\n",
       "      <th rowspan=\"3\" valign=\"top\">0.01</th>\n",
       "      <th>5.0%</th>\n",
       "      <td>1.4%</td>\n",
       "      <td>2.2%</td>\n",
       "      <td>4.1%</td>\n",
       "    </tr>\n",
       "    <tr>\n",
       "      <th>10.0%</th>\n",
       "      <td>2.7%</td>\n",
       "      <td>6.9%</td>\n",
       "      <td>18.3%</td>\n",
       "    </tr>\n",
       "    <tr>\n",
       "      <th>20.0%</th>\n",
       "      <td>9.4%</td>\n",
       "      <td>34.8%</td>\n",
       "      <td>77.8%</td>\n",
       "    </tr>\n",
       "    <tr>\n",
       "      <th rowspan=\"3\" valign=\"top\">0.05</th>\n",
       "      <th>5.0%</th>\n",
       "      <td>6.1%</td>\n",
       "      <td>8.5%</td>\n",
       "      <td>13.3%</td>\n",
       "    </tr>\n",
       "    <tr>\n",
       "      <th>10.0%</th>\n",
       "      <td>9.7%</td>\n",
       "      <td>19.4%</td>\n",
       "      <td>38.6%</td>\n",
       "    </tr>\n",
       "    <tr>\n",
       "      <th>20.0%</th>\n",
       "      <td>24.3%</td>\n",
       "      <td>59.0%</td>\n",
       "      <td>91.6%</td>\n",
       "    </tr>\n",
       "  </tbody>\n",
       "</table>\n",
       "</div>"
      ],
      "text/plain": [
       "Group sizes       1000   3000   7000\n",
       "$\\alpha$ Effect                     \n",
       "0.01     5.0%     1.4%   2.2%   4.1%\n",
       "         10.0%    2.7%   6.9%  18.3%\n",
       "         20.0%    9.4%  34.8%  77.8%\n",
       "0.05     5.0%     6.1%   8.5%  13.3%\n",
       "         10.0%    9.7%  19.4%  38.6%\n",
       "         20.0%   24.3%  59.0%  91.6%"
      ]
     },
     "execution_count": 29,
     "metadata": {},
     "output_type": "execute_result"
    }
   ],
   "source": [
    "design_result['sum_dur']"
   ]
  },
  {
   "cell_type": "markdown",
   "id": "60fe20dc",
   "metadata": {},
   "source": [
    "Theoretical design of power for ``vod_cnt`` metric"
   ]
  },
  {
   "cell_type": "code",
   "execution_count": 30,
   "id": "62340f89",
   "metadata": {},
   "outputs": [
    {
     "data": {
      "text/html": [
       "<div>\n",
       "<style scoped>\n",
       "    .dataframe tbody tr th:only-of-type {\n",
       "        vertical-align: middle;\n",
       "    }\n",
       "\n",
       "    .dataframe tbody tr th {\n",
       "        vertical-align: top;\n",
       "    }\n",
       "\n",
       "    .dataframe thead th {\n",
       "        text-align: right;\n",
       "    }\n",
       "</style>\n",
       "<table border=\"1\" class=\"dataframe\">\n",
       "  <thead>\n",
       "    <tr style=\"text-align: right;\">\n",
       "      <th></th>\n",
       "      <th>Group sizes</th>\n",
       "      <th>1000</th>\n",
       "      <th>3000</th>\n",
       "      <th>7000</th>\n",
       "    </tr>\n",
       "    <tr>\n",
       "      <th>$\\alpha$</th>\n",
       "      <th>Effect</th>\n",
       "      <th></th>\n",
       "      <th></th>\n",
       "      <th></th>\n",
       "    </tr>\n",
       "  </thead>\n",
       "  <tbody>\n",
       "    <tr>\n",
       "      <th rowspan=\"3\" valign=\"top\">0.01</th>\n",
       "      <th>5.0%</th>\n",
       "      <td>2.3%</td>\n",
       "      <td>5.6%</td>\n",
       "      <td>14.4%</td>\n",
       "    </tr>\n",
       "    <tr>\n",
       "      <th>10.0%</th>\n",
       "      <td>7.6%</td>\n",
       "      <td>27.5%</td>\n",
       "      <td>67.2%</td>\n",
       "    </tr>\n",
       "    <tr>\n",
       "      <th>20.0%</th>\n",
       "      <td>38.5%</td>\n",
       "      <td>91.6%</td>\n",
       "      <td>100.0%</td>\n",
       "    </tr>\n",
       "    <tr>\n",
       "      <th rowspan=\"3\" valign=\"top\">0.05</th>\n",
       "      <th>5.0%</th>\n",
       "      <td>8.8%</td>\n",
       "      <td>16.7%</td>\n",
       "      <td>32.7%</td>\n",
       "    </tr>\n",
       "    <tr>\n",
       "      <th>10.0%</th>\n",
       "      <td>20.8%</td>\n",
       "      <td>50.7%</td>\n",
       "      <td>85.6%</td>\n",
       "    </tr>\n",
       "    <tr>\n",
       "      <th>20.0%</th>\n",
       "      <td>62.7%</td>\n",
       "      <td>97.7%</td>\n",
       "      <td>100.0%</td>\n",
       "    </tr>\n",
       "  </tbody>\n",
       "</table>\n",
       "</div>"
      ],
      "text/plain": [
       "Group sizes       1000   3000    7000\n",
       "$\\alpha$ Effect                      \n",
       "0.01     5.0%     2.3%   5.6%   14.4%\n",
       "         10.0%    7.6%  27.5%   67.2%\n",
       "         20.0%   38.5%  91.6%  100.0%\n",
       "0.05     5.0%     8.8%  16.7%   32.7%\n",
       "         10.0%   20.8%  50.7%   85.6%\n",
       "         20.0%   62.7%  97.7%  100.0%"
      ]
     },
     "execution_count": 30,
     "metadata": {},
     "output_type": "execute_result"
    }
   ],
   "source": [
    "design_result['vod_cnt']"
   ]
  },
  {
   "cell_type": "markdown",
   "id": "ed90c01d",
   "metadata": {},
   "source": [
    "### Storable configuration"
   ]
  },
  {
   "cell_type": "markdown",
   "id": "fe71f4ec",
   "metadata": {},
   "source": [
    "The ``Designer`` class instance could be saved and created from a ``yaml`` config file. Attributes like datasets are not serialized and must be set after instanse is loaded."
   ]
  },
  {
   "cell_type": "markdown",
   "id": "48d71af9",
   "metadata": {},
   "source": [
    "Lets create an instance with preferred attributes"
   ]
  },
  {
   "cell_type": "code",
   "execution_count": 31,
   "id": "2ef0db73",
   "metadata": {},
   "outputs": [],
   "source": [
    "store_path = '_examples_configs/designer_config.yaml'"
   ]
  },
  {
   "cell_type": "code",
   "execution_count": 32,
   "id": "75191f47",
   "metadata": {},
   "outputs": [],
   "source": [
    "storable_designer = Designer(effects=[1.05, 1.1, 1.2],\n",
    "                             sizes=[1000, 3000, 7000],\n",
    "                             first_type_errors=[0.01, 0.05],\n",
    "                             metrics=['sum_dur', 'ln_vod_cnt'])"
   ]
  },
  {
   "cell_type": "code",
   "execution_count": 33,
   "id": "cc0b7946",
   "metadata": {},
   "outputs": [
    {
     "data": {
      "text/plain": [
       "{'effects': [1.05, 1.1, 1.2],\n",
       " 'sizes': [1000, 3000, 7000],\n",
       " 'first_type_errors': [0.01, 0.05],\n",
       " 'second_type_errors': [0.2],\n",
       " 'metrics': ['sum_dur', 'ln_vod_cnt'],\n",
       " 'method': 'theory'}"
      ]
     },
     "execution_count": 33,
     "metadata": {},
     "output_type": "execute_result"
    }
   ],
   "source": [
    "storable_designer.__getstate__()"
   ]
  },
  {
   "cell_type": "markdown",
   "id": "08df0ff2",
   "metadata": {},
   "source": [
    "Save the config in a file"
   ]
  },
  {
   "cell_type": "code",
   "execution_count": 34,
   "id": "48eccef7",
   "metadata": {},
   "outputs": [],
   "source": [
    "with open(store_path, 'w') as outfile:\n",
    "    yaml.dump(storable_designer, outfile, default_flow_style=True)"
   ]
  },
  {
   "cell_type": "markdown",
   "id": "83ebf719",
   "metadata": {},
   "source": [
    "Load instance from a file and set data"
   ]
  },
  {
   "cell_type": "code",
   "execution_count": 35,
   "id": "d7681647",
   "metadata": {
    "scrolled": true
   },
   "outputs": [],
   "source": [
    "loaded_designer = load_from_config(store_path)\n",
    "loaded_designer.set_dataframe(data)"
   ]
  },
  {
   "cell_type": "code",
   "execution_count": 36,
   "id": "68304c70",
   "metadata": {},
   "outputs": [
    {
     "data": {
      "text/plain": [
       "{'effects': [1.05, 1.1, 1.2],\n",
       " 'sizes': [1000, 3000, 7000],\n",
       " 'first_type_errors': [0.01, 0.05],\n",
       " 'second_type_errors': [0.2],\n",
       " 'metrics': ['sum_dur', 'ln_vod_cnt'],\n",
       " 'method': 'theory'}"
      ]
     },
     "execution_count": 36,
     "metadata": {},
     "output_type": "execute_result"
    }
   ],
   "source": [
    "loaded_designer.__getstate__()"
   ]
  },
  {
   "cell_type": "markdown",
   "id": "8304f483",
   "metadata": {},
   "source": [
    "Design some experiment parameter"
   ]
  },
  {
   "cell_type": "code",
   "execution_count": 37,
   "id": "9e34a0ec",
   "metadata": {
    "scrolled": false
   },
   "outputs": [],
   "source": [
    "design_results = loaded_designer.run('power')"
   ]
  },
  {
   "cell_type": "code",
   "execution_count": 38,
   "id": "04f78e49",
   "metadata": {},
   "outputs": [
    {
     "data": {
      "text/html": [
       "<div>\n",
       "<style scoped>\n",
       "    .dataframe tbody tr th:only-of-type {\n",
       "        vertical-align: middle;\n",
       "    }\n",
       "\n",
       "    .dataframe tbody tr th {\n",
       "        vertical-align: top;\n",
       "    }\n",
       "\n",
       "    .dataframe thead th {\n",
       "        text-align: right;\n",
       "    }\n",
       "</style>\n",
       "<table border=\"1\" class=\"dataframe\">\n",
       "  <thead>\n",
       "    <tr style=\"text-align: right;\">\n",
       "      <th></th>\n",
       "      <th>Group sizes</th>\n",
       "      <th>1000</th>\n",
       "      <th>3000</th>\n",
       "      <th>7000</th>\n",
       "    </tr>\n",
       "    <tr>\n",
       "      <th>$\\alpha$</th>\n",
       "      <th>Effect</th>\n",
       "      <th></th>\n",
       "      <th></th>\n",
       "      <th></th>\n",
       "    </tr>\n",
       "  </thead>\n",
       "  <tbody>\n",
       "    <tr>\n",
       "      <th rowspan=\"3\" valign=\"top\">0.01</th>\n",
       "      <th>5.0%</th>\n",
       "      <td>1.4%</td>\n",
       "      <td>2.2%</td>\n",
       "      <td>4.1%</td>\n",
       "    </tr>\n",
       "    <tr>\n",
       "      <th>10.0%</th>\n",
       "      <td>2.7%</td>\n",
       "      <td>6.9%</td>\n",
       "      <td>18.3%</td>\n",
       "    </tr>\n",
       "    <tr>\n",
       "      <th>20.0%</th>\n",
       "      <td>9.4%</td>\n",
       "      <td>34.8%</td>\n",
       "      <td>77.8%</td>\n",
       "    </tr>\n",
       "    <tr>\n",
       "      <th rowspan=\"3\" valign=\"top\">0.05</th>\n",
       "      <th>5.0%</th>\n",
       "      <td>6.1%</td>\n",
       "      <td>8.5%</td>\n",
       "      <td>13.3%</td>\n",
       "    </tr>\n",
       "    <tr>\n",
       "      <th>10.0%</th>\n",
       "      <td>9.7%</td>\n",
       "      <td>19.4%</td>\n",
       "      <td>38.6%</td>\n",
       "    </tr>\n",
       "    <tr>\n",
       "      <th>20.0%</th>\n",
       "      <td>24.3%</td>\n",
       "      <td>59.0%</td>\n",
       "      <td>91.6%</td>\n",
       "    </tr>\n",
       "  </tbody>\n",
       "</table>\n",
       "</div>"
      ],
      "text/plain": [
       "Group sizes       1000   3000   7000\n",
       "$\\alpha$ Effect                     \n",
       "0.01     5.0%     1.4%   2.2%   4.1%\n",
       "         10.0%    2.7%   6.9%  18.3%\n",
       "         20.0%    9.4%  34.8%  77.8%\n",
       "0.05     5.0%     6.1%   8.5%  13.3%\n",
       "         10.0%    9.7%  19.4%  38.6%\n",
       "         20.0%   24.3%  59.0%  91.6%"
      ]
     },
     "execution_count": 38,
     "metadata": {},
     "output_type": "execute_result"
    }
   ],
   "source": [
    "design_results['sum_dur']"
   ]
  },
  {
   "cell_type": "markdown",
   "id": "3030e7fb",
   "metadata": {},
   "source": [
    "---"
   ]
  },
  {
   "cell_type": "markdown",
   "id": "c5e3ac8e",
   "metadata": {},
   "source": [
    "## Learn more"
   ]
  },
  {
   "cell_type": "markdown",
   "id": "7a80d9e4",
   "metadata": {},
   "source": [
    "There are a few more examples of designing experiment parameters with *Ambrosia*\n",
    "\n",
    "Check:\n",
    "\n",
    "* ``Designer`` class documentation\n",
    "* An example of binary metrics experiment design\n",
    "* An example of designing parameters using Spark DataFrame (currently has limited functionality)\n",
    "* [Habr post about *Ambrosia*](https://habr.com/ru/company/ru_mts/blog/700992/)"
   ]
  }
 ],
 "metadata": {
  "kernelspec": {
   "display_name": "Python 3 (ipykernel)",
   "language": "python",
   "name": "python3"
  },
  "language_info": {
   "codemirror_mode": {
    "name": "ipython",
    "version": 3
   },
   "file_extension": ".py",
   "mimetype": "text/x-python",
   "name": "python",
   "nbconvert_exporter": "python",
   "pygments_lexer": "ipython3",
   "version": "3.9.16"
  },
  "varInspector": {
   "cols": {
    "lenName": 16,
    "lenType": 16,
    "lenVar": 40
   },
   "kernels_config": {
    "python": {
     "delete_cmd_postfix": "",
     "delete_cmd_prefix": "del ",
     "library": "var_list.py",
     "varRefreshCmd": "print(var_dic_list())"
    },
    "r": {
     "delete_cmd_postfix": ") ",
     "delete_cmd_prefix": "rm(",
     "library": "var_list.r",
     "varRefreshCmd": "cat(var_dic_list()) "
    }
   },
   "types_to_exclude": [
    "module",
    "function",
    "builtin_function_or_method",
    "instance",
    "_Feature"
   ],
   "window_display": false
  }
 },
 "nbformat": 4,
 "nbformat_minor": 5
}
