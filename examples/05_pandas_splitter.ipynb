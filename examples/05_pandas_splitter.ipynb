{
 "cells": [
  {
   "cell_type": "markdown",
   "id": "f9f85dba",
   "metadata": {},
   "source": [
    "# Example of the ``Splitter`` class usage for solving group splitting problem"
   ]
  },
  {
   "cell_type": "markdown",
   "id": "9999b2d7",
   "metadata": {},
   "source": [
    "In this tutorial we will use *Amrosia* splitting tools to create a number of groups using different strategies.\n",
    "\n",
    "Group splitting problem usually appears in A/B testing when we have designed experiment parameters and want to create experimental groups consist from the objects of the research."
   ]
  },
  {
   "cell_type": "markdown",
   "id": "c5dc7c24",
   "metadata": {},
   "source": [
    "## Two different splitting paradigms"
   ]
  },
  {
   "cell_type": "markdown",
   "id": "35270460",
   "metadata": {},
   "source": [
    "Basically, the splitting of objects into groups is divided into *batch* and *real-time split* approaches. \n",
    "\n",
    "For the first type of splitting we precalculate the contents of our experimental groups using, for example, a common database with research objects. \\\n",
    "In the second type of splitting approach some tools distribute objects into groups in real time as they arrive, although it may also use some pre-calculated information.\n",
    "\n",
    "Further in this tutorial we will review the tools for batch splitting tasks."
   ]
  },
  {
   "cell_type": "markdown",
   "id": "f2540cb9",
   "metadata": {},
   "source": [
    "**Note:** *Ambrosia* now supports only batch spliiting. Real-time splitting tools are under development."
   ]
  },
  {
   "cell_type": "markdown",
   "id": "0b1847bd",
   "metadata": {},
   "source": [
    "## Let's start the tutorial"
   ]
  },
  {
   "cell_type": "code",
   "execution_count": 1,
   "id": "23bc1ccc",
   "metadata": {},
   "outputs": [],
   "source": [
    "import sys, os\n",
    "sys.path.insert(1, os.path.realpath(os.path.pardir))"
   ]
  },
  {
   "cell_type": "code",
   "execution_count": 2,
   "id": "c7afe24b",
   "metadata": {},
   "outputs": [
    {
     "name": "stderr",
     "output_type": "stream",
     "text": [
      "Your CPU supports instructions that this binary was not compiled to use: AVX2\n",
      "For maximum performance, you can install NMSLIB from sources \n",
      "pip install --no-binary :all: nmslib\n"
     ]
    }
   ],
   "source": [
    "import pandas as pd\n",
    "import numpy as np\n",
    "\n",
    "import yaml\n",
    "\n",
    "from ambrosia.splitter import Splitter, split, load_from_config"
   ]
  },
  {
   "cell_type": "markdown",
   "id": "9df67da6",
   "metadata": {},
   "source": [
    "Generate synthetic data with a number of defferent columns.\\\n",
    "We will create 200000 objects with unique id and some numerical features"
   ]
  },
  {
   "cell_type": "code",
   "execution_count": 3,
   "id": "04d60065",
   "metadata": {},
   "outputs": [
    {
     "data": {
      "text/html": [
       "<div>\n",
       "<style scoped>\n",
       "    .dataframe tbody tr th:only-of-type {\n",
       "        vertical-align: middle;\n",
       "    }\n",
       "\n",
       "    .dataframe tbody tr th {\n",
       "        vertical-align: top;\n",
       "    }\n",
       "\n",
       "    .dataframe thead th {\n",
       "        text-align: right;\n",
       "    }\n",
       "</style>\n",
       "<table border=\"1\" class=\"dataframe\">\n",
       "  <thead>\n",
       "    <tr style=\"text-align: right;\">\n",
       "      <th></th>\n",
       "      <th>m</th>\n",
       "      <th>a</th>\n",
       "      <th>b</th>\n",
       "      <th>l</th>\n",
       "      <th>e</th>\n",
       "      <th>object_id</th>\n",
       "    </tr>\n",
       "  </thead>\n",
       "  <tbody>\n",
       "    <tr>\n",
       "      <th>0</th>\n",
       "      <td>0.0</td>\n",
       "      <td>0.496714</td>\n",
       "      <td>1.561841</td>\n",
       "      <td>1</td>\n",
       "      <td>1</td>\n",
       "      <td>63869</td>\n",
       "    </tr>\n",
       "    <tr>\n",
       "      <th>1</th>\n",
       "      <td>0.0</td>\n",
       "      <td>-0.138264</td>\n",
       "      <td>-0.094228</td>\n",
       "      <td>0</td>\n",
       "      <td>0</td>\n",
       "      <td>82374</td>\n",
       "    </tr>\n",
       "    <tr>\n",
       "      <th>2</th>\n",
       "      <td>0.0</td>\n",
       "      <td>0.647689</td>\n",
       "      <td>-1.329536</td>\n",
       "      <td>1</td>\n",
       "      <td>0</td>\n",
       "      <td>162918</td>\n",
       "    </tr>\n",
       "    <tr>\n",
       "      <th>3</th>\n",
       "      <td>0.0</td>\n",
       "      <td>1.523030</td>\n",
       "      <td>-1.388638</td>\n",
       "      <td>1</td>\n",
       "      <td>0</td>\n",
       "      <td>36327</td>\n",
       "    </tr>\n",
       "    <tr>\n",
       "      <th>4</th>\n",
       "      <td>0.0</td>\n",
       "      <td>-0.234153</td>\n",
       "      <td>-0.342651</td>\n",
       "      <td>0</td>\n",
       "      <td>0</td>\n",
       "      <td>91526</td>\n",
       "    </tr>\n",
       "  </tbody>\n",
       "</table>\n",
       "</div>"
      ],
      "text/plain": [
       "     m         a         b  l  e  object_id\n",
       "0  0.0  0.496714  1.561841  1  1      63869\n",
       "1  0.0 -0.138264 -0.094228  0  0      82374\n",
       "2  0.0  0.647689 -1.329536  1  0     162918\n",
       "3  0.0  1.523030 -1.388638  1  0      36327\n",
       "4  0.0 -0.234153 -0.342651  0  0      91526"
      ]
     },
     "execution_count": 3,
     "metadata": {},
     "output_type": "execute_result"
    }
   ],
   "source": [
    "np.random.seed(42)\n",
    "\n",
    "dataframe = pd.DataFrame({\n",
    "    'm': np.zeros((200000, )),\n",
    "    'a': np.random.normal(size=200000),\n",
    "    'b': np.random.normal(size=200000)\n",
    "})\n",
    "dataframe['l'] = np.where(dataframe['a'] > 0, 1, 0)\n",
    "dataframe['e'] = np.where(dataframe['b'] > 0, 1, 0)\n",
    "dataframe['object_id'] = np.random.choice(dataframe.index,\n",
    "                                          size=dataframe.shape[0],\n",
    "                                          replace=False)\n",
    "dataframe.head()"
   ]
  },
  {
   "cell_type": "code",
   "execution_count": 4,
   "id": "a0085df0",
   "metadata": {},
   "outputs": [
    {
     "data": {
      "text/plain": [
       "(200000, 6)"
      ]
     },
     "execution_count": 4,
     "metadata": {},
     "output_type": "execute_result"
    }
   ],
   "source": [
    "dataframe.shape"
   ]
  },
  {
   "cell_type": "markdown",
   "id": "ff0bcb13",
   "metadata": {},
   "source": [
    "Now let's get acquainted with the ``Splitter`` class."
   ]
  },
  {
   "cell_type": "markdown",
   "id": "b92a0727",
   "metadata": {},
   "source": [
    "The ``Splitter`` class is *Ambrosia's* main tool for splitting objects into the creating groups. It has one main public method ``run()`` which returns the table with a groups of the desired size.\n",
    "\n",
    "Let's create an instance of the class and pass to the constructor generated data ``dataframe`` about objects *(this data is like some abstract user database)* which will be used further for the creation of the groups using different methods. We also specify for ``id_column``  a column ``\"object_id\"``  that contains unique identifiers of objects. If this column had not been specified, dataframe indexes will be used as identifiers."
   ]
  },
  {
   "cell_type": "code",
   "execution_count": 5,
   "id": "be77be3a",
   "metadata": {},
   "outputs": [],
   "source": [
    "splitter = Splitter(dataframe=dataframe, id_column='object_id')"
   ]
  },
  {
   "cell_type": "markdown",
   "id": "69da2e7c",
   "metadata": {},
   "source": [
    "As well as in the ``Designer`` class, we can pass this dataframe and other parameters later as an argument to the ``run()`` method. We can do the same with most of the parameters related directly to the experiment (errors, effects, and so on) - either pass them to the constructor during initialization (and then they will become attributes of the created instance), or pass them later, when execute ``run()`` method. In case of parameter selection ambiguity, the argument in the method takes precedence over the attribute value."
   ]
  },
  {
   "cell_type": "markdown",
   "id": "ea43eea2",
   "metadata": {},
   "source": [
    "Now let's move on to review different ways to create groups that are implemented in the ``Splitter`` class."
   ]
  },
  {
   "cell_type": "markdown",
   "id": "745ffc31",
   "metadata": {},
   "source": [
    "## Split approaches"
   ]
  },
  {
   "cell_type": "markdown",
   "id": "c6bd4532",
   "metadata": {},
   "source": [
    "### Simple split"
   ]
  },
  {
   "cell_type": "markdown",
   "id": "6c30789a",
   "metadata": {},
   "source": [
    "The first type of splitting strategy is called ``\"simple\"`` and is really about a very simple, non-deterministic way of creating groups, in which a new result is produced each time it is executed."
   ]
  },
  {
   "cell_type": "markdown",
   "id": "4535c3c2",
   "metadata": {},
   "source": [
    "To create such split we need to execute ``run()`` method with corresponding value of ``method`` parameter. We will create groups each of size 2000 objects."
   ]
  },
  {
   "cell_type": "code",
   "execution_count": 6,
   "id": "921f926a",
   "metadata": {},
   "outputs": [
    {
     "data": {
      "text/html": [
       "<div>\n",
       "<style scoped>\n",
       "    .dataframe tbody tr th:only-of-type {\n",
       "        vertical-align: middle;\n",
       "    }\n",
       "\n",
       "    .dataframe tbody tr th {\n",
       "        vertical-align: top;\n",
       "    }\n",
       "\n",
       "    .dataframe thead th {\n",
       "        text-align: right;\n",
       "    }\n",
       "</style>\n",
       "<table border=\"1\" class=\"dataframe\">\n",
       "  <thead>\n",
       "    <tr style=\"text-align: right;\">\n",
       "      <th></th>\n",
       "      <th>m</th>\n",
       "      <th>a</th>\n",
       "      <th>b</th>\n",
       "      <th>l</th>\n",
       "      <th>e</th>\n",
       "      <th>object_id</th>\n",
       "      <th>group</th>\n",
       "    </tr>\n",
       "  </thead>\n",
       "  <tbody>\n",
       "    <tr>\n",
       "      <th>191060</th>\n",
       "      <td>0.0</td>\n",
       "      <td>-0.230298</td>\n",
       "      <td>1.253592</td>\n",
       "      <td>0</td>\n",
       "      <td>1</td>\n",
       "      <td>136859</td>\n",
       "      <td>A</td>\n",
       "    </tr>\n",
       "    <tr>\n",
       "      <th>121593</th>\n",
       "      <td>0.0</td>\n",
       "      <td>1.974664</td>\n",
       "      <td>-1.780258</td>\n",
       "      <td>1</td>\n",
       "      <td>0</td>\n",
       "      <td>164797</td>\n",
       "      <td>A</td>\n",
       "    </tr>\n",
       "    <tr>\n",
       "      <th>185512</th>\n",
       "      <td>0.0</td>\n",
       "      <td>-1.254767</td>\n",
       "      <td>-0.152099</td>\n",
       "      <td>0</td>\n",
       "      <td>0</td>\n",
       "      <td>49954</td>\n",
       "      <td>A</td>\n",
       "    </tr>\n",
       "    <tr>\n",
       "      <th>79803</th>\n",
       "      <td>0.0</td>\n",
       "      <td>-1.572960</td>\n",
       "      <td>-0.706893</td>\n",
       "      <td>0</td>\n",
       "      <td>0</td>\n",
       "      <td>154922</td>\n",
       "      <td>A</td>\n",
       "    </tr>\n",
       "    <tr>\n",
       "      <th>98956</th>\n",
       "      <td>0.0</td>\n",
       "      <td>0.714251</td>\n",
       "      <td>0.662607</td>\n",
       "      <td>1</td>\n",
       "      <td>1</td>\n",
       "      <td>99718</td>\n",
       "      <td>A</td>\n",
       "    </tr>\n",
       "    <tr>\n",
       "      <th>...</th>\n",
       "      <td>...</td>\n",
       "      <td>...</td>\n",
       "      <td>...</td>\n",
       "      <td>...</td>\n",
       "      <td>...</td>\n",
       "      <td>...</td>\n",
       "      <td>...</td>\n",
       "    </tr>\n",
       "    <tr>\n",
       "      <th>53739</th>\n",
       "      <td>0.0</td>\n",
       "      <td>0.070655</td>\n",
       "      <td>0.644952</td>\n",
       "      <td>1</td>\n",
       "      <td>1</td>\n",
       "      <td>62827</td>\n",
       "      <td>B</td>\n",
       "    </tr>\n",
       "    <tr>\n",
       "      <th>178405</th>\n",
       "      <td>0.0</td>\n",
       "      <td>-0.423988</td>\n",
       "      <td>-0.706336</td>\n",
       "      <td>0</td>\n",
       "      <td>0</td>\n",
       "      <td>103080</td>\n",
       "      <td>B</td>\n",
       "    </tr>\n",
       "    <tr>\n",
       "      <th>95002</th>\n",
       "      <td>0.0</td>\n",
       "      <td>-0.105022</td>\n",
       "      <td>0.714893</td>\n",
       "      <td>0</td>\n",
       "      <td>1</td>\n",
       "      <td>155745</td>\n",
       "      <td>B</td>\n",
       "    </tr>\n",
       "    <tr>\n",
       "      <th>166811</th>\n",
       "      <td>0.0</td>\n",
       "      <td>-1.459109</td>\n",
       "      <td>0.339358</td>\n",
       "      <td>0</td>\n",
       "      <td>1</td>\n",
       "      <td>157092</td>\n",
       "      <td>B</td>\n",
       "    </tr>\n",
       "    <tr>\n",
       "      <th>41369</th>\n",
       "      <td>0.0</td>\n",
       "      <td>0.721402</td>\n",
       "      <td>-0.980647</td>\n",
       "      <td>1</td>\n",
       "      <td>0</td>\n",
       "      <td>113</td>\n",
       "      <td>B</td>\n",
       "    </tr>\n",
       "  </tbody>\n",
       "</table>\n",
       "<p>4000 rows × 7 columns</p>\n",
       "</div>"
      ],
      "text/plain": [
       "          m         a         b  l  e  object_id group\n",
       "191060  0.0 -0.230298  1.253592  0  1     136859     A\n",
       "121593  0.0  1.974664 -1.780258  1  0     164797     A\n",
       "185512  0.0 -1.254767 -0.152099  0  0      49954     A\n",
       "79803   0.0 -1.572960 -0.706893  0  0     154922     A\n",
       "98956   0.0  0.714251  0.662607  1  1      99718     A\n",
       "...     ...       ...       ... .. ..        ...   ...\n",
       "53739   0.0  0.070655  0.644952  1  1      62827     B\n",
       "178405  0.0 -0.423988 -0.706336  0  0     103080     B\n",
       "95002   0.0 -0.105022  0.714893  0  1     155745     B\n",
       "166811  0.0 -1.459109  0.339358  0  1     157092     B\n",
       "41369   0.0  0.721402 -0.980647  1  0        113     B\n",
       "\n",
       "[4000 rows x 7 columns]"
      ]
     },
     "execution_count": 6,
     "metadata": {},
     "output_type": "execute_result"
    }
   ],
   "source": [
    "splitter.run(method='simple', groups_size=2000)"
   ]
  },
  {
   "cell_type": "markdown",
   "id": "89762262",
   "metadata": {},
   "source": [
    "### Hash split "
   ]
  },
  {
   "cell_type": "markdown",
   "id": "5cec7387",
   "metadata": {},
   "source": [
    "The hash split strategy is based on hashing object identifiers and distributing the resulting hash values into appropriate groups. \\\n",
    "This method allows you to perform a deterministic split of objects into groups, also there is no need for a tables with the assigned group labels, because this splitting method allows  to restore the labels at any time by re-execution. \n",
    "\n",
    "To make the splits for each experiment unique, the ``\"salt\"`` parameter is used, which is appended to the end of the identifier of each object. The salt value can be, for example, the name of the experiment being performed.\n",
    "\n",
    "You can read more about hash-based splitting on the web."
   ]
  },
  {
   "cell_type": "markdown",
   "id": "5fd3ed2b",
   "metadata": {},
   "source": [
    "Let's create a hash split and make sure the result is deterministic"
   ]
  },
  {
   "cell_type": "code",
   "execution_count": 7,
   "id": "eb4ccd56",
   "metadata": {},
   "outputs": [],
   "source": [
    "groups_size= 5000\n",
    "salt = 'example_dummy_experiment_2023'"
   ]
  },
  {
   "cell_type": "markdown",
   "id": "5e9f60bd",
   "metadata": {},
   "source": [
    "Execute split with pre-defined salt value"
   ]
  },
  {
   "cell_type": "code",
   "execution_count": 8,
   "id": "5445f600",
   "metadata": {},
   "outputs": [
    {
     "data": {
      "text/html": [
       "<div>\n",
       "<style scoped>\n",
       "    .dataframe tbody tr th:only-of-type {\n",
       "        vertical-align: middle;\n",
       "    }\n",
       "\n",
       "    .dataframe tbody tr th {\n",
       "        vertical-align: top;\n",
       "    }\n",
       "\n",
       "    .dataframe thead th {\n",
       "        text-align: right;\n",
       "    }\n",
       "</style>\n",
       "<table border=\"1\" class=\"dataframe\">\n",
       "  <thead>\n",
       "    <tr style=\"text-align: right;\">\n",
       "      <th></th>\n",
       "      <th>m</th>\n",
       "      <th>a</th>\n",
       "      <th>b</th>\n",
       "      <th>l</th>\n",
       "      <th>e</th>\n",
       "      <th>object_id</th>\n",
       "      <th>group</th>\n",
       "    </tr>\n",
       "  </thead>\n",
       "  <tbody>\n",
       "    <tr>\n",
       "      <th>14</th>\n",
       "      <td>0.0</td>\n",
       "      <td>-1.724918</td>\n",
       "      <td>-0.350186</td>\n",
       "      <td>0</td>\n",
       "      <td>0</td>\n",
       "      <td>90837</td>\n",
       "      <td>A</td>\n",
       "    </tr>\n",
       "    <tr>\n",
       "      <th>44</th>\n",
       "      <td>0.0</td>\n",
       "      <td>-1.478522</td>\n",
       "      <td>0.166608</td>\n",
       "      <td>0</td>\n",
       "      <td>1</td>\n",
       "      <td>123196</td>\n",
       "      <td>A</td>\n",
       "    </tr>\n",
       "    <tr>\n",
       "      <th>64</th>\n",
       "      <td>0.0</td>\n",
       "      <td>0.812526</td>\n",
       "      <td>0.914659</td>\n",
       "      <td>1</td>\n",
       "      <td>1</td>\n",
       "      <td>117133</td>\n",
       "      <td>A</td>\n",
       "    </tr>\n",
       "    <tr>\n",
       "      <th>65</th>\n",
       "      <td>0.0</td>\n",
       "      <td>1.356240</td>\n",
       "      <td>0.731410</td>\n",
       "      <td>1</td>\n",
       "      <td>1</td>\n",
       "      <td>144787</td>\n",
       "      <td>A</td>\n",
       "    </tr>\n",
       "    <tr>\n",
       "      <th>161</th>\n",
       "      <td>0.0</td>\n",
       "      <td>0.787085</td>\n",
       "      <td>-1.012367</td>\n",
       "      <td>1</td>\n",
       "      <td>0</td>\n",
       "      <td>186437</td>\n",
       "      <td>A</td>\n",
       "    </tr>\n",
       "    <tr>\n",
       "      <th>...</th>\n",
       "      <td>...</td>\n",
       "      <td>...</td>\n",
       "      <td>...</td>\n",
       "      <td>...</td>\n",
       "      <td>...</td>\n",
       "      <td>...</td>\n",
       "      <td>...</td>\n",
       "    </tr>\n",
       "    <tr>\n",
       "      <th>199760</th>\n",
       "      <td>0.0</td>\n",
       "      <td>0.172396</td>\n",
       "      <td>0.844596</td>\n",
       "      <td>1</td>\n",
       "      <td>1</td>\n",
       "      <td>166816</td>\n",
       "      <td>B</td>\n",
       "    </tr>\n",
       "    <tr>\n",
       "      <th>199783</th>\n",
       "      <td>0.0</td>\n",
       "      <td>-0.477993</td>\n",
       "      <td>-0.899310</td>\n",
       "      <td>0</td>\n",
       "      <td>0</td>\n",
       "      <td>134168</td>\n",
       "      <td>B</td>\n",
       "    </tr>\n",
       "    <tr>\n",
       "      <th>199867</th>\n",
       "      <td>0.0</td>\n",
       "      <td>-1.164759</td>\n",
       "      <td>-0.649031</td>\n",
       "      <td>0</td>\n",
       "      <td>0</td>\n",
       "      <td>41423</td>\n",
       "      <td>B</td>\n",
       "    </tr>\n",
       "    <tr>\n",
       "      <th>199868</th>\n",
       "      <td>0.0</td>\n",
       "      <td>0.162848</td>\n",
       "      <td>2.835048</td>\n",
       "      <td>1</td>\n",
       "      <td>1</td>\n",
       "      <td>33513</td>\n",
       "      <td>B</td>\n",
       "    </tr>\n",
       "    <tr>\n",
       "      <th>199915</th>\n",
       "      <td>0.0</td>\n",
       "      <td>0.882166</td>\n",
       "      <td>-1.665376</td>\n",
       "      <td>1</td>\n",
       "      <td>0</td>\n",
       "      <td>33638</td>\n",
       "      <td>B</td>\n",
       "    </tr>\n",
       "  </tbody>\n",
       "</table>\n",
       "<p>10000 rows × 7 columns</p>\n",
       "</div>"
      ],
      "text/plain": [
       "          m         a         b  l  e  object_id group\n",
       "14      0.0 -1.724918 -0.350186  0  0      90837     A\n",
       "44      0.0 -1.478522  0.166608  0  1     123196     A\n",
       "64      0.0  0.812526  0.914659  1  1     117133     A\n",
       "65      0.0  1.356240  0.731410  1  1     144787     A\n",
       "161     0.0  0.787085 -1.012367  1  0     186437     A\n",
       "...     ...       ...       ... .. ..        ...   ...\n",
       "199760  0.0  0.172396  0.844596  1  1     166816     B\n",
       "199783  0.0 -0.477993 -0.899310  0  0     134168     B\n",
       "199867  0.0 -1.164759 -0.649031  0  0      41423     B\n",
       "199868  0.0  0.162848  2.835048  1  1      33513     B\n",
       "199915  0.0  0.882166 -1.665376  1  0      33638     B\n",
       "\n",
       "[10000 rows x 7 columns]"
      ]
     },
     "execution_count": 8,
     "metadata": {},
     "output_type": "execute_result"
    }
   ],
   "source": [
    "splitter.run(method='hash', groups_size=groups_size, salt=salt)"
   ]
  },
  {
   "cell_type": "markdown",
   "id": "bd02710d",
   "metadata": {},
   "source": [
    "Then get a similar groups for the same salt value"
   ]
  },
  {
   "cell_type": "code",
   "execution_count": 9,
   "id": "d2f60ccf",
   "metadata": {},
   "outputs": [
    {
     "data": {
      "text/html": [
       "<div>\n",
       "<style scoped>\n",
       "    .dataframe tbody tr th:only-of-type {\n",
       "        vertical-align: middle;\n",
       "    }\n",
       "\n",
       "    .dataframe tbody tr th {\n",
       "        vertical-align: top;\n",
       "    }\n",
       "\n",
       "    .dataframe thead th {\n",
       "        text-align: right;\n",
       "    }\n",
       "</style>\n",
       "<table border=\"1\" class=\"dataframe\">\n",
       "  <thead>\n",
       "    <tr style=\"text-align: right;\">\n",
       "      <th></th>\n",
       "      <th>m</th>\n",
       "      <th>a</th>\n",
       "      <th>b</th>\n",
       "      <th>l</th>\n",
       "      <th>e</th>\n",
       "      <th>object_id</th>\n",
       "      <th>group</th>\n",
       "    </tr>\n",
       "  </thead>\n",
       "  <tbody>\n",
       "    <tr>\n",
       "      <th>14</th>\n",
       "      <td>0.0</td>\n",
       "      <td>-1.724918</td>\n",
       "      <td>-0.350186</td>\n",
       "      <td>0</td>\n",
       "      <td>0</td>\n",
       "      <td>90837</td>\n",
       "      <td>A</td>\n",
       "    </tr>\n",
       "    <tr>\n",
       "      <th>44</th>\n",
       "      <td>0.0</td>\n",
       "      <td>-1.478522</td>\n",
       "      <td>0.166608</td>\n",
       "      <td>0</td>\n",
       "      <td>1</td>\n",
       "      <td>123196</td>\n",
       "      <td>A</td>\n",
       "    </tr>\n",
       "    <tr>\n",
       "      <th>64</th>\n",
       "      <td>0.0</td>\n",
       "      <td>0.812526</td>\n",
       "      <td>0.914659</td>\n",
       "      <td>1</td>\n",
       "      <td>1</td>\n",
       "      <td>117133</td>\n",
       "      <td>A</td>\n",
       "    </tr>\n",
       "    <tr>\n",
       "      <th>65</th>\n",
       "      <td>0.0</td>\n",
       "      <td>1.356240</td>\n",
       "      <td>0.731410</td>\n",
       "      <td>1</td>\n",
       "      <td>1</td>\n",
       "      <td>144787</td>\n",
       "      <td>A</td>\n",
       "    </tr>\n",
       "    <tr>\n",
       "      <th>161</th>\n",
       "      <td>0.0</td>\n",
       "      <td>0.787085</td>\n",
       "      <td>-1.012367</td>\n",
       "      <td>1</td>\n",
       "      <td>0</td>\n",
       "      <td>186437</td>\n",
       "      <td>A</td>\n",
       "    </tr>\n",
       "    <tr>\n",
       "      <th>...</th>\n",
       "      <td>...</td>\n",
       "      <td>...</td>\n",
       "      <td>...</td>\n",
       "      <td>...</td>\n",
       "      <td>...</td>\n",
       "      <td>...</td>\n",
       "      <td>...</td>\n",
       "    </tr>\n",
       "    <tr>\n",
       "      <th>199760</th>\n",
       "      <td>0.0</td>\n",
       "      <td>0.172396</td>\n",
       "      <td>0.844596</td>\n",
       "      <td>1</td>\n",
       "      <td>1</td>\n",
       "      <td>166816</td>\n",
       "      <td>B</td>\n",
       "    </tr>\n",
       "    <tr>\n",
       "      <th>199783</th>\n",
       "      <td>0.0</td>\n",
       "      <td>-0.477993</td>\n",
       "      <td>-0.899310</td>\n",
       "      <td>0</td>\n",
       "      <td>0</td>\n",
       "      <td>134168</td>\n",
       "      <td>B</td>\n",
       "    </tr>\n",
       "    <tr>\n",
       "      <th>199867</th>\n",
       "      <td>0.0</td>\n",
       "      <td>-1.164759</td>\n",
       "      <td>-0.649031</td>\n",
       "      <td>0</td>\n",
       "      <td>0</td>\n",
       "      <td>41423</td>\n",
       "      <td>B</td>\n",
       "    </tr>\n",
       "    <tr>\n",
       "      <th>199868</th>\n",
       "      <td>0.0</td>\n",
       "      <td>0.162848</td>\n",
       "      <td>2.835048</td>\n",
       "      <td>1</td>\n",
       "      <td>1</td>\n",
       "      <td>33513</td>\n",
       "      <td>B</td>\n",
       "    </tr>\n",
       "    <tr>\n",
       "      <th>199915</th>\n",
       "      <td>0.0</td>\n",
       "      <td>0.882166</td>\n",
       "      <td>-1.665376</td>\n",
       "      <td>1</td>\n",
       "      <td>0</td>\n",
       "      <td>33638</td>\n",
       "      <td>B</td>\n",
       "    </tr>\n",
       "  </tbody>\n",
       "</table>\n",
       "<p>10000 rows × 7 columns</p>\n",
       "</div>"
      ],
      "text/plain": [
       "          m         a         b  l  e  object_id group\n",
       "14      0.0 -1.724918 -0.350186  0  0      90837     A\n",
       "44      0.0 -1.478522  0.166608  0  1     123196     A\n",
       "64      0.0  0.812526  0.914659  1  1     117133     A\n",
       "65      0.0  1.356240  0.731410  1  1     144787     A\n",
       "161     0.0  0.787085 -1.012367  1  0     186437     A\n",
       "...     ...       ...       ... .. ..        ...   ...\n",
       "199760  0.0  0.172396  0.844596  1  1     166816     B\n",
       "199783  0.0 -0.477993 -0.899310  0  0     134168     B\n",
       "199867  0.0 -1.164759 -0.649031  0  0      41423     B\n",
       "199868  0.0  0.162848  2.835048  1  1      33513     B\n",
       "199915  0.0  0.882166 -1.665376  1  0      33638     B\n",
       "\n",
       "[10000 rows x 7 columns]"
      ]
     },
     "execution_count": 9,
     "metadata": {},
     "output_type": "execute_result"
    }
   ],
   "source": [
    "splitter.run(method='hash', groups_size=groups_size, salt=salt)"
   ]
  },
  {
   "cell_type": "markdown",
   "id": "b40a62e3",
   "metadata": {},
   "source": [
    "Split result will be different if the salt is changed"
   ]
  },
  {
   "cell_type": "code",
   "execution_count": 10,
   "id": "aee50de2",
   "metadata": {},
   "outputs": [
    {
     "data": {
      "text/html": [
       "<div>\n",
       "<style scoped>\n",
       "    .dataframe tbody tr th:only-of-type {\n",
       "        vertical-align: middle;\n",
       "    }\n",
       "\n",
       "    .dataframe tbody tr th {\n",
       "        vertical-align: top;\n",
       "    }\n",
       "\n",
       "    .dataframe thead th {\n",
       "        text-align: right;\n",
       "    }\n",
       "</style>\n",
       "<table border=\"1\" class=\"dataframe\">\n",
       "  <thead>\n",
       "    <tr style=\"text-align: right;\">\n",
       "      <th></th>\n",
       "      <th>m</th>\n",
       "      <th>a</th>\n",
       "      <th>b</th>\n",
       "      <th>l</th>\n",
       "      <th>e</th>\n",
       "      <th>object_id</th>\n",
       "      <th>group</th>\n",
       "    </tr>\n",
       "  </thead>\n",
       "  <tbody>\n",
       "    <tr>\n",
       "      <th>43</th>\n",
       "      <td>0.0</td>\n",
       "      <td>-0.301104</td>\n",
       "      <td>0.440295</td>\n",
       "      <td>0</td>\n",
       "      <td>1</td>\n",
       "      <td>139147</td>\n",
       "      <td>A</td>\n",
       "    </tr>\n",
       "    <tr>\n",
       "      <th>192</th>\n",
       "      <td>0.0</td>\n",
       "      <td>0.214094</td>\n",
       "      <td>0.021427</td>\n",
       "      <td>1</td>\n",
       "      <td>1</td>\n",
       "      <td>231</td>\n",
       "      <td>A</td>\n",
       "    </tr>\n",
       "    <tr>\n",
       "      <th>226</th>\n",
       "      <td>0.0</td>\n",
       "      <td>0.064280</td>\n",
       "      <td>1.553626</td>\n",
       "      <td>1</td>\n",
       "      <td>1</td>\n",
       "      <td>139761</td>\n",
       "      <td>A</td>\n",
       "    </tr>\n",
       "    <tr>\n",
       "      <th>235</th>\n",
       "      <td>0.0</td>\n",
       "      <td>0.633919</td>\n",
       "      <td>-1.277988</td>\n",
       "      <td>1</td>\n",
       "      <td>0</td>\n",
       "      <td>153281</td>\n",
       "      <td>A</td>\n",
       "    </tr>\n",
       "    <tr>\n",
       "      <th>285</th>\n",
       "      <td>0.0</td>\n",
       "      <td>-1.952088</td>\n",
       "      <td>1.610653</td>\n",
       "      <td>0</td>\n",
       "      <td>1</td>\n",
       "      <td>36040</td>\n",
       "      <td>A</td>\n",
       "    </tr>\n",
       "    <tr>\n",
       "      <th>...</th>\n",
       "      <td>...</td>\n",
       "      <td>...</td>\n",
       "      <td>...</td>\n",
       "      <td>...</td>\n",
       "      <td>...</td>\n",
       "      <td>...</td>\n",
       "      <td>...</td>\n",
       "    </tr>\n",
       "    <tr>\n",
       "      <th>199862</th>\n",
       "      <td>0.0</td>\n",
       "      <td>2.035899</td>\n",
       "      <td>0.452816</td>\n",
       "      <td>1</td>\n",
       "      <td>1</td>\n",
       "      <td>34064</td>\n",
       "      <td>B</td>\n",
       "    </tr>\n",
       "    <tr>\n",
       "      <th>199949</th>\n",
       "      <td>0.0</td>\n",
       "      <td>0.438721</td>\n",
       "      <td>-0.592572</td>\n",
       "      <td>1</td>\n",
       "      <td>0</td>\n",
       "      <td>99013</td>\n",
       "      <td>B</td>\n",
       "    </tr>\n",
       "    <tr>\n",
       "      <th>199970</th>\n",
       "      <td>0.0</td>\n",
       "      <td>0.868163</td>\n",
       "      <td>0.463027</td>\n",
       "      <td>1</td>\n",
       "      <td>1</td>\n",
       "      <td>53783</td>\n",
       "      <td>B</td>\n",
       "    </tr>\n",
       "    <tr>\n",
       "      <th>199991</th>\n",
       "      <td>0.0</td>\n",
       "      <td>0.383196</td>\n",
       "      <td>0.230814</td>\n",
       "      <td>1</td>\n",
       "      <td>1</td>\n",
       "      <td>199822</td>\n",
       "      <td>B</td>\n",
       "    </tr>\n",
       "    <tr>\n",
       "      <th>199996</th>\n",
       "      <td>0.0</td>\n",
       "      <td>0.565654</td>\n",
       "      <td>-2.316381</td>\n",
       "      <td>1</td>\n",
       "      <td>0</td>\n",
       "      <td>147356</td>\n",
       "      <td>B</td>\n",
       "    </tr>\n",
       "  </tbody>\n",
       "</table>\n",
       "<p>10000 rows × 7 columns</p>\n",
       "</div>"
      ],
      "text/plain": [
       "          m         a         b  l  e  object_id group\n",
       "43      0.0 -0.301104  0.440295  0  1     139147     A\n",
       "192     0.0  0.214094  0.021427  1  1        231     A\n",
       "226     0.0  0.064280  1.553626  1  1     139761     A\n",
       "235     0.0  0.633919 -1.277988  1  0     153281     A\n",
       "285     0.0 -1.952088  1.610653  0  1      36040     A\n",
       "...     ...       ...       ... .. ..        ...   ...\n",
       "199862  0.0  2.035899  0.452816  1  1      34064     B\n",
       "199949  0.0  0.438721 -0.592572  1  0      99013     B\n",
       "199970  0.0  0.868163  0.463027  1  1      53783     B\n",
       "199991  0.0  0.383196  0.230814  1  1     199822     B\n",
       "199996  0.0  0.565654 -2.316381  1  0     147356     B\n",
       "\n",
       "[10000 rows x 7 columns]"
      ]
     },
     "execution_count": 10,
     "metadata": {},
     "output_type": "execute_result"
    }
   ],
   "source": [
    "splitter.run(method='hash', groups_size=groups_size, salt='salt')"
   ]
  },
  {
   "cell_type": "markdown",
   "id": "48daaba6",
   "metadata": {},
   "source": [
    "If no salt argument is passed, a random value will be generated during the split."
   ]
  },
  {
   "cell_type": "markdown",
   "id": "9acc1466",
   "metadata": {},
   "source": [
    "**Hash splitting method is fast and convenient and is recommended to use by default.**"
   ]
  },
  {
   "cell_type": "markdown",
   "id": "13114a16",
   "metadata": {},
   "source": [
    "### Metric split"
   ]
  },
  {
   "cell_type": "markdown",
   "id": "ea95daae",
   "metadata": {},
   "source": [
    "For some tasks, it is very useful to find similar objects and distribute them into groups. For example, we can choose a random object in group A and from the general pool find the closest neighbor to it by some metric and send it to group B. This will make the groups more similar and increase the power of some statistical tests, which is especially valuable for small groups.\n",
    "\n",
    "This approach is implemented in the ``\"metric\"`` split method, we can specify a set of features using ``fit_columns`` parameter, based on which pairs of similar objects will be selected using minimization of the Euclidean distance and distributed between the groups."
   ]
  },
  {
   "cell_type": "markdown",
   "id": "325198b5",
   "metadata": {},
   "source": [
    "We will create two groups using metric split based on two features ``a`` and ``b``. Metric split requires sufficient computational resources to find nearest neighbors to set of points equal to size of one group."
   ]
  },
  {
   "cell_type": "code",
   "execution_count": 11,
   "id": "641850ec",
   "metadata": {},
   "outputs": [],
   "source": [
    "metric_split = splitter.run(method='metric', groups_size=groups_size, fit_columns=['a', 'b'])"
   ]
  },
  {
   "cell_type": "code",
   "execution_count": 12,
   "id": "0876ff3e",
   "metadata": {},
   "outputs": [
    {
     "data": {
      "text/html": [
       "<div>\n",
       "<style scoped>\n",
       "    .dataframe tbody tr th:only-of-type {\n",
       "        vertical-align: middle;\n",
       "    }\n",
       "\n",
       "    .dataframe tbody tr th {\n",
       "        vertical-align: top;\n",
       "    }\n",
       "\n",
       "    .dataframe thead th {\n",
       "        text-align: right;\n",
       "    }\n",
       "</style>\n",
       "<table border=\"1\" class=\"dataframe\">\n",
       "  <thead>\n",
       "    <tr style=\"text-align: right;\">\n",
       "      <th></th>\n",
       "      <th>m</th>\n",
       "      <th>a</th>\n",
       "      <th>b</th>\n",
       "      <th>l</th>\n",
       "      <th>e</th>\n",
       "      <th>object_id</th>\n",
       "      <th>group</th>\n",
       "    </tr>\n",
       "  </thead>\n",
       "  <tbody>\n",
       "    <tr>\n",
       "      <th>199994</th>\n",
       "      <td>0.0</td>\n",
       "      <td>-0.590488</td>\n",
       "      <td>-0.518154</td>\n",
       "      <td>0</td>\n",
       "      <td>0</td>\n",
       "      <td>12123</td>\n",
       "      <td>A</td>\n",
       "    </tr>\n",
       "    <tr>\n",
       "      <th>80866</th>\n",
       "      <td>0.0</td>\n",
       "      <td>0.436653</td>\n",
       "      <td>-0.458537</td>\n",
       "      <td>1</td>\n",
       "      <td>0</td>\n",
       "      <td>11556</td>\n",
       "      <td>A</td>\n",
       "    </tr>\n",
       "    <tr>\n",
       "      <th>128000</th>\n",
       "      <td>0.0</td>\n",
       "      <td>0.448011</td>\n",
       "      <td>-0.555275</td>\n",
       "      <td>1</td>\n",
       "      <td>0</td>\n",
       "      <td>71871</td>\n",
       "      <td>A</td>\n",
       "    </tr>\n",
       "    <tr>\n",
       "      <th>95833</th>\n",
       "      <td>0.0</td>\n",
       "      <td>0.514975</td>\n",
       "      <td>1.088812</td>\n",
       "      <td>1</td>\n",
       "      <td>1</td>\n",
       "      <td>149913</td>\n",
       "      <td>A</td>\n",
       "    </tr>\n",
       "    <tr>\n",
       "      <th>41929</th>\n",
       "      <td>0.0</td>\n",
       "      <td>-1.537990</td>\n",
       "      <td>-0.270142</td>\n",
       "      <td>0</td>\n",
       "      <td>0</td>\n",
       "      <td>54406</td>\n",
       "      <td>A</td>\n",
       "    </tr>\n",
       "    <tr>\n",
       "      <th>...</th>\n",
       "      <td>...</td>\n",
       "      <td>...</td>\n",
       "      <td>...</td>\n",
       "      <td>...</td>\n",
       "      <td>...</td>\n",
       "      <td>...</td>\n",
       "      <td>...</td>\n",
       "    </tr>\n",
       "    <tr>\n",
       "      <th>191916</th>\n",
       "      <td>0.0</td>\n",
       "      <td>-1.306423</td>\n",
       "      <td>-0.777014</td>\n",
       "      <td>0</td>\n",
       "      <td>0</td>\n",
       "      <td>13089</td>\n",
       "      <td>B</td>\n",
       "    </tr>\n",
       "    <tr>\n",
       "      <th>57853</th>\n",
       "      <td>0.0</td>\n",
       "      <td>-0.490125</td>\n",
       "      <td>1.742080</td>\n",
       "      <td>0</td>\n",
       "      <td>1</td>\n",
       "      <td>159390</td>\n",
       "      <td>B</td>\n",
       "    </tr>\n",
       "    <tr>\n",
       "      <th>189321</th>\n",
       "      <td>0.0</td>\n",
       "      <td>-1.759917</td>\n",
       "      <td>0.181625</td>\n",
       "      <td>0</td>\n",
       "      <td>1</td>\n",
       "      <td>153730</td>\n",
       "      <td>B</td>\n",
       "    </tr>\n",
       "    <tr>\n",
       "      <th>92099</th>\n",
       "      <td>0.0</td>\n",
       "      <td>-0.972475</td>\n",
       "      <td>0.624865</td>\n",
       "      <td>0</td>\n",
       "      <td>1</td>\n",
       "      <td>13100</td>\n",
       "      <td>B</td>\n",
       "    </tr>\n",
       "    <tr>\n",
       "      <th>137630</th>\n",
       "      <td>0.0</td>\n",
       "      <td>-0.175013</td>\n",
       "      <td>0.633727</td>\n",
       "      <td>0</td>\n",
       "      <td>1</td>\n",
       "      <td>23283</td>\n",
       "      <td>B</td>\n",
       "    </tr>\n",
       "  </tbody>\n",
       "</table>\n",
       "<p>10000 rows × 7 columns</p>\n",
       "</div>"
      ],
      "text/plain": [
       "          m         a         b  l  e  object_id group\n",
       "199994  0.0 -0.590488 -0.518154  0  0      12123     A\n",
       "80866   0.0  0.436653 -0.458537  1  0      11556     A\n",
       "128000  0.0  0.448011 -0.555275  1  0      71871     A\n",
       "95833   0.0  0.514975  1.088812  1  1     149913     A\n",
       "41929   0.0 -1.537990 -0.270142  0  0      54406     A\n",
       "...     ...       ...       ... .. ..        ...   ...\n",
       "191916  0.0 -1.306423 -0.777014  0  0      13089     B\n",
       "57853   0.0 -0.490125  1.742080  0  1     159390     B\n",
       "189321  0.0 -1.759917  0.181625  0  1     153730     B\n",
       "92099   0.0 -0.972475  0.624865  0  1      13100     B\n",
       "137630  0.0 -0.175013  0.633727  0  1      23283     B\n",
       "\n",
       "[10000 rows x 7 columns]"
      ]
     },
     "execution_count": 12,
     "metadata": {},
     "output_type": "execute_result"
    }
   ],
   "source": [
    "metric_split"
   ]
  },
  {
   "cell_type": "markdown",
   "id": "a7577de8",
   "metadata": {},
   "source": [
    "Currently, pairs of similar objects occupy the same positions in group slices, and that is the only way to find them if you want to inspect individually."
   ]
  },
  {
   "cell_type": "code",
   "execution_count": 13,
   "id": "d734afb2",
   "metadata": {},
   "outputs": [
    {
     "data": {
      "text/plain": [
       "m                 0.0\n",
       "a           -0.590488\n",
       "b           -0.518154\n",
       "l                   0\n",
       "e                   0\n",
       "object_id       12123\n",
       "group               A\n",
       "Name: 199994, dtype: object"
      ]
     },
     "execution_count": 13,
     "metadata": {},
     "output_type": "execute_result"
    }
   ],
   "source": [
    "metric_split.query(\"group == 'A'\").iloc[0]"
   ]
  },
  {
   "cell_type": "code",
   "execution_count": 14,
   "id": "fce6a40b",
   "metadata": {},
   "outputs": [
    {
     "data": {
      "text/plain": [
       "m                 0.0\n",
       "a            -0.59219\n",
       "b           -0.519087\n",
       "l                   0\n",
       "e                   0\n",
       "object_id      145596\n",
       "group               B\n",
       "Name: 111639, dtype: object"
      ]
     },
     "execution_count": 14,
     "metadata": {},
     "output_type": "execute_result"
    }
   ],
   "source": [
    "metric_split.query(\"group == 'B'\").iloc[0]"
   ]
  },
  {
   "cell_type": "markdown",
   "id": "0dde1841",
   "metadata": {},
   "source": [
    "**Note:** Metric split creates pairs (or sets in the case of multiple groups) of dependent objects between groups. This leads to the need to **use paired statistical tests**."
   ]
  },
  {
   "cell_type": "markdown",
   "id": "5be7b10c",
   "metadata": {},
   "source": [
    "## Stratification"
   ]
  },
  {
   "cell_type": "markdown",
   "id": "dc62c006",
   "metadata": {},
   "source": [
    "We can sample groups based with stratification. \n",
    "\n",
    "The stratification technique makes groups more homogeneous and similar to the general population from which these groups were sampled, as well as to reduce the dispersion of metrics in groups. This may be especially usefull in the case of small groups."
   ]
  },
  {
   "cell_type": "markdown",
   "id": "a9ce7e77",
   "metadata": {},
   "source": [
    "To demonstrate let's choose a binary column for stratification and pass it to ``strat_columns`` parameter, and see the ratios of the feature distribution in the case of stratification and without it"
   ]
  },
  {
   "cell_type": "code",
   "execution_count": 15,
   "id": "ff2a0bb4",
   "metadata": {},
   "outputs": [],
   "source": [
    "groups_size = 500"
   ]
  },
  {
   "cell_type": "code",
   "execution_count": 16,
   "id": "92c39eb6",
   "metadata": {},
   "outputs": [],
   "source": [
    "stratified_split = splitter.run(method='simple', groups_size=groups_size, strat_columns=['l'])\n",
    "non_stratified_split = splitter.run(method='simple', groups_size=groups_size)"
   ]
  },
  {
   "cell_type": "code",
   "execution_count": 17,
   "id": "ce82ecc3",
   "metadata": {},
   "outputs": [
    {
     "name": "stdout",
     "output_type": "stream",
     "text": [
      "Initial share of strata: 50.1%\n"
     ]
    }
   ],
   "source": [
    "print(f'Initial share of strata: {dataframe[\"l\"].mean() * 100:.1f}%')"
   ]
  },
  {
   "cell_type": "markdown",
   "id": "a6af9692",
   "metadata": {},
   "source": [
    "Share of strata inside the splits"
   ]
  },
  {
   "cell_type": "code",
   "execution_count": 18,
   "id": "74faa68b",
   "metadata": {},
   "outputs": [
    {
     "name": "stdout",
     "output_type": "stream",
     "text": [
      "Share of strata in groups with stratification: 50.1%\n",
      "Share of strata in groups without stratification: 51.3%\n"
     ]
    }
   ],
   "source": [
    "print(\n",
    "    f'Share of strata in groups with stratification: {stratified_split[\"l\"].mean() * 100:.1f}%'\n",
    ")\n",
    "print(\n",
    "    f'Share of strata in groups without stratification: {non_stratified_split[\"l\"].mean() * 100:.1f}%'\n",
    ")"
   ]
  },
  {
   "cell_type": "markdown",
   "id": "4126b81f",
   "metadata": {},
   "source": [
    "Share of strata inside the groups"
   ]
  },
  {
   "cell_type": "code",
   "execution_count": 19,
   "id": "53a6c493",
   "metadata": {},
   "outputs": [
    {
     "name": "stdout",
     "output_type": "stream",
     "text": [
      "Share of strata in each group with stratification\n",
      " group\n",
      "A    0.500\n",
      "B    0.502\n",
      "Name: l, dtype: float64\n",
      "\n",
      "\n",
      "Share of strata in each group without stratification\n",
      " group\n",
      "A    0.514\n",
      "B    0.512\n",
      "Name: l, dtype: float64\n"
     ]
    }
   ],
   "source": [
    "print('Share of strata in each group with stratification\\n',\n",
    "      np.round(stratified_split.groupby('group')['l'].mean(), 3))\n",
    "print('\\n\\nShare of strata in each group without stratification\\n',\n",
    "      np.round(non_stratified_split.groupby('group')['l'].mean(), 3))"
   ]
  },
  {
   "cell_type": "markdown",
   "id": "da407080",
   "metadata": {},
   "source": [
    "## Multigroup split"
   ]
  },
  {
   "cell_type": "markdown",
   "id": "3f624a04",
   "metadata": {},
   "source": [
    "Often, two experimental groups are not enough, for example, when we want to test the performance of multiple new recommender system algorithms. For that scenario one may want to make A/B/C/.. split.\n",
    "\n",
    "In *Ambrosia*, all  functions and methods above are generalized for split into several groups and the number of groups can be controlled using ``groups_number`` parameter."
   ]
  },
  {
   "cell_type": "markdown",
   "id": "5e796787",
   "metadata": {},
   "source": [
    "Let's create 3 groups using metric split"
   ]
  },
  {
   "cell_type": "code",
   "execution_count": 20,
   "id": "a7132c2d",
   "metadata": {},
   "outputs": [],
   "source": [
    "metric_multisplit = splitter.run(method='metric',\n",
    "                                 groups_size=groups_size,\n",
    "                                 fit_columns=['a', 'b'],\n",
    "                                 groups_number=3)"
   ]
  },
  {
   "cell_type": "code",
   "execution_count": 21,
   "id": "83a39541",
   "metadata": {},
   "outputs": [
    {
     "data": {
      "text/plain": [
       "m                 0.0\n",
       "a            0.612142\n",
       "b            0.115751\n",
       "l                   1\n",
       "e                   1\n",
       "object_id      182967\n",
       "group               A\n",
       "Name: 74537, dtype: object"
      ]
     },
     "execution_count": 21,
     "metadata": {},
     "output_type": "execute_result"
    }
   ],
   "source": [
    "metric_multisplit.query(\"group == 'A'\").iloc[0]"
   ]
  },
  {
   "cell_type": "code",
   "execution_count": 22,
   "id": "cf6b210c",
   "metadata": {},
   "outputs": [
    {
     "data": {
      "text/plain": [
       "m                 0.0\n",
       "a            0.614548\n",
       "b            0.116243\n",
       "l                   1\n",
       "e                   1\n",
       "object_id      197300\n",
       "group               B\n",
       "Name: 118068, dtype: object"
      ]
     },
     "execution_count": 22,
     "metadata": {},
     "output_type": "execute_result"
    }
   ],
   "source": [
    "metric_multisplit.query(\"group == 'B'\").iloc[0]"
   ]
  },
  {
   "cell_type": "code",
   "execution_count": 23,
   "id": "6f1aaaa7",
   "metadata": {},
   "outputs": [
    {
     "data": {
      "text/plain": [
       "m                 0.0\n",
       "a            0.613116\n",
       "b            0.115762\n",
       "l                   1\n",
       "e                   1\n",
       "object_id       77456\n",
       "group               C\n",
       "Name: 150076, dtype: object"
      ]
     },
     "execution_count": 23,
     "metadata": {},
     "output_type": "execute_result"
    }
   ],
   "source": [
    "metric_multisplit.query(\"group == 'C'\").iloc[0]"
   ]
  },
  {
   "cell_type": "markdown",
   "id": "b98fcfb9",
   "metadata": {},
   "source": [
    "And now create 10 groups using hash method"
   ]
  },
  {
   "cell_type": "code",
   "execution_count": 24,
   "id": "57b72bf5",
   "metadata": {},
   "outputs": [],
   "source": [
    "hash_multisplit = splitter.run(method='hash',\n",
    "                               groups_size=1000,\n",
    "                               groups_number=10)"
   ]
  },
  {
   "cell_type": "code",
   "execution_count": 25,
   "id": "ad6cb962",
   "metadata": {},
   "outputs": [
    {
     "data": {
      "text/html": [
       "<div>\n",
       "<style scoped>\n",
       "    .dataframe tbody tr th:only-of-type {\n",
       "        vertical-align: middle;\n",
       "    }\n",
       "\n",
       "    .dataframe tbody tr th {\n",
       "        vertical-align: top;\n",
       "    }\n",
       "\n",
       "    .dataframe thead th {\n",
       "        text-align: right;\n",
       "    }\n",
       "</style>\n",
       "<table border=\"1\" class=\"dataframe\">\n",
       "  <thead>\n",
       "    <tr style=\"text-align: right;\">\n",
       "      <th></th>\n",
       "      <th>m</th>\n",
       "      <th>a</th>\n",
       "      <th>b</th>\n",
       "      <th>l</th>\n",
       "      <th>e</th>\n",
       "      <th>object_id</th>\n",
       "      <th>group</th>\n",
       "    </tr>\n",
       "  </thead>\n",
       "  <tbody>\n",
       "    <tr>\n",
       "      <th>16</th>\n",
       "      <td>0.0</td>\n",
       "      <td>-1.012831</td>\n",
       "      <td>0.747465</td>\n",
       "      <td>0</td>\n",
       "      <td>1</td>\n",
       "      <td>155174</td>\n",
       "      <td>A</td>\n",
       "    </tr>\n",
       "    <tr>\n",
       "      <th>245</th>\n",
       "      <td>0.0</td>\n",
       "      <td>-0.334501</td>\n",
       "      <td>0.615637</td>\n",
       "      <td>0</td>\n",
       "      <td>1</td>\n",
       "      <td>199630</td>\n",
       "      <td>A</td>\n",
       "    </tr>\n",
       "    <tr>\n",
       "      <th>710</th>\n",
       "      <td>0.0</td>\n",
       "      <td>0.211017</td>\n",
       "      <td>1.701546</td>\n",
       "      <td>1</td>\n",
       "      <td>1</td>\n",
       "      <td>156984</td>\n",
       "      <td>A</td>\n",
       "    </tr>\n",
       "    <tr>\n",
       "      <th>920</th>\n",
       "      <td>0.0</td>\n",
       "      <td>1.073632</td>\n",
       "      <td>0.596244</td>\n",
       "      <td>1</td>\n",
       "      <td>1</td>\n",
       "      <td>78818</td>\n",
       "      <td>A</td>\n",
       "    </tr>\n",
       "    <tr>\n",
       "      <th>1159</th>\n",
       "      <td>0.0</td>\n",
       "      <td>-0.324831</td>\n",
       "      <td>0.547028</td>\n",
       "      <td>0</td>\n",
       "      <td>1</td>\n",
       "      <td>40862</td>\n",
       "      <td>A</td>\n",
       "    </tr>\n",
       "    <tr>\n",
       "      <th>...</th>\n",
       "      <td>...</td>\n",
       "      <td>...</td>\n",
       "      <td>...</td>\n",
       "      <td>...</td>\n",
       "      <td>...</td>\n",
       "      <td>...</td>\n",
       "      <td>...</td>\n",
       "    </tr>\n",
       "    <tr>\n",
       "      <th>198886</th>\n",
       "      <td>0.0</td>\n",
       "      <td>2.243574</td>\n",
       "      <td>0.782718</td>\n",
       "      <td>1</td>\n",
       "      <td>1</td>\n",
       "      <td>134662</td>\n",
       "      <td>J</td>\n",
       "    </tr>\n",
       "    <tr>\n",
       "      <th>199060</th>\n",
       "      <td>0.0</td>\n",
       "      <td>1.154370</td>\n",
       "      <td>0.258987</td>\n",
       "      <td>1</td>\n",
       "      <td>1</td>\n",
       "      <td>195179</td>\n",
       "      <td>J</td>\n",
       "    </tr>\n",
       "    <tr>\n",
       "      <th>199812</th>\n",
       "      <td>0.0</td>\n",
       "      <td>-2.566508</td>\n",
       "      <td>0.553087</td>\n",
       "      <td>0</td>\n",
       "      <td>1</td>\n",
       "      <td>165028</td>\n",
       "      <td>J</td>\n",
       "    </tr>\n",
       "    <tr>\n",
       "      <th>199946</th>\n",
       "      <td>0.0</td>\n",
       "      <td>0.934797</td>\n",
       "      <td>-1.368926</td>\n",
       "      <td>1</td>\n",
       "      <td>0</td>\n",
       "      <td>25702</td>\n",
       "      <td>J</td>\n",
       "    </tr>\n",
       "    <tr>\n",
       "      <th>199960</th>\n",
       "      <td>0.0</td>\n",
       "      <td>0.730843</td>\n",
       "      <td>-0.735387</td>\n",
       "      <td>1</td>\n",
       "      <td>0</td>\n",
       "      <td>35482</td>\n",
       "      <td>J</td>\n",
       "    </tr>\n",
       "  </tbody>\n",
       "</table>\n",
       "<p>10000 rows × 7 columns</p>\n",
       "</div>"
      ],
      "text/plain": [
       "          m         a         b  l  e  object_id group\n",
       "16      0.0 -1.012831  0.747465  0  1     155174     A\n",
       "245     0.0 -0.334501  0.615637  0  1     199630     A\n",
       "710     0.0  0.211017  1.701546  1  1     156984     A\n",
       "920     0.0  1.073632  0.596244  1  1      78818     A\n",
       "1159    0.0 -0.324831  0.547028  0  1      40862     A\n",
       "...     ...       ...       ... .. ..        ...   ...\n",
       "198886  0.0  2.243574  0.782718  1  1     134662     J\n",
       "199060  0.0  1.154370  0.258987  1  1     195179     J\n",
       "199812  0.0 -2.566508  0.553087  0  1     165028     J\n",
       "199946  0.0  0.934797 -1.368926  1  0      25702     J\n",
       "199960  0.0  0.730843 -0.735387  1  0      35482     J\n",
       "\n",
       "[10000 rows x 7 columns]"
      ]
     },
     "execution_count": 25,
     "metadata": {},
     "output_type": "execute_result"
    }
   ],
   "source": [
    "hash_multisplit"
   ]
  },
  {
   "cell_type": "code",
   "execution_count": 26,
   "id": "f79ff24c",
   "metadata": {},
   "outputs": [
    {
     "data": {
      "text/plain": [
       "A    1000\n",
       "B    1000\n",
       "C    1000\n",
       "D    1000\n",
       "E    1000\n",
       "F    1000\n",
       "G    1000\n",
       "H    1000\n",
       "I    1000\n",
       "J    1000\n",
       "Name: group, dtype: int64"
      ]
     },
     "execution_count": 26,
     "metadata": {},
     "output_type": "execute_result"
    }
   ],
   "source": [
    "hash_multisplit.group.value_counts()"
   ]
  },
  {
   "cell_type": "markdown",
   "id": "e11acd16",
   "metadata": {},
   "source": [
    "## Splitting the full table"
   ]
  },
  {
   "cell_type": "markdown",
   "id": "394cc3de",
   "metadata": {},
   "source": [
    "Sometimes there are scenarios where one need to divide an entire table into groups. At the moment, *Ambrosia* allows to split data frames into 2 groups using the ``part_of_table``.\n",
    "\n",
    "We will split passed data frame in a ratio of 1/3 (group A to B) using hash method"
   ]
  },
  {
   "cell_type": "code",
   "execution_count": 27,
   "id": "2c0c57df",
   "metadata": {},
   "outputs": [],
   "source": [
    "part_of_table = 1/3\n",
    "fractional_hash_split = splitter.run(method='hash',\n",
    "                                     part_of_table=part_of_table,\n",
    "                                     salt='fractional_split')"
   ]
  },
  {
   "cell_type": "code",
   "execution_count": 28,
   "id": "13337cf9",
   "metadata": {},
   "outputs": [
    {
     "data": {
      "text/html": [
       "<div>\n",
       "<style scoped>\n",
       "    .dataframe tbody tr th:only-of-type {\n",
       "        vertical-align: middle;\n",
       "    }\n",
       "\n",
       "    .dataframe tbody tr th {\n",
       "        vertical-align: top;\n",
       "    }\n",
       "\n",
       "    .dataframe thead th {\n",
       "        text-align: right;\n",
       "    }\n",
       "</style>\n",
       "<table border=\"1\" class=\"dataframe\">\n",
       "  <thead>\n",
       "    <tr style=\"text-align: right;\">\n",
       "      <th></th>\n",
       "      <th>m</th>\n",
       "      <th>a</th>\n",
       "      <th>b</th>\n",
       "      <th>l</th>\n",
       "      <th>e</th>\n",
       "      <th>object_id</th>\n",
       "      <th>group</th>\n",
       "    </tr>\n",
       "  </thead>\n",
       "  <tbody>\n",
       "    <tr>\n",
       "      <th>1</th>\n",
       "      <td>0.0</td>\n",
       "      <td>-0.138264</td>\n",
       "      <td>-0.094228</td>\n",
       "      <td>0</td>\n",
       "      <td>0</td>\n",
       "      <td>82374</td>\n",
       "      <td>A</td>\n",
       "    </tr>\n",
       "    <tr>\n",
       "      <th>3</th>\n",
       "      <td>0.0</td>\n",
       "      <td>1.523030</td>\n",
       "      <td>-1.388638</td>\n",
       "      <td>1</td>\n",
       "      <td>0</td>\n",
       "      <td>36327</td>\n",
       "      <td>A</td>\n",
       "    </tr>\n",
       "    <tr>\n",
       "      <th>5</th>\n",
       "      <td>0.0</td>\n",
       "      <td>-0.234137</td>\n",
       "      <td>-1.580520</td>\n",
       "      <td>0</td>\n",
       "      <td>0</td>\n",
       "      <td>63304</td>\n",
       "      <td>A</td>\n",
       "    </tr>\n",
       "    <tr>\n",
       "      <th>6</th>\n",
       "      <td>0.0</td>\n",
       "      <td>1.579213</td>\n",
       "      <td>0.587148</td>\n",
       "      <td>1</td>\n",
       "      <td>1</td>\n",
       "      <td>187546</td>\n",
       "      <td>A</td>\n",
       "    </tr>\n",
       "    <tr>\n",
       "      <th>15</th>\n",
       "      <td>0.0</td>\n",
       "      <td>-0.562288</td>\n",
       "      <td>-1.362157</td>\n",
       "      <td>0</td>\n",
       "      <td>0</td>\n",
       "      <td>133839</td>\n",
       "      <td>A</td>\n",
       "    </tr>\n",
       "    <tr>\n",
       "      <th>...</th>\n",
       "      <td>...</td>\n",
       "      <td>...</td>\n",
       "      <td>...</td>\n",
       "      <td>...</td>\n",
       "      <td>...</td>\n",
       "      <td>...</td>\n",
       "      <td>...</td>\n",
       "    </tr>\n",
       "    <tr>\n",
       "      <th>199991</th>\n",
       "      <td>0.0</td>\n",
       "      <td>0.383196</td>\n",
       "      <td>0.230814</td>\n",
       "      <td>1</td>\n",
       "      <td>1</td>\n",
       "      <td>199822</td>\n",
       "      <td>B</td>\n",
       "    </tr>\n",
       "    <tr>\n",
       "      <th>199994</th>\n",
       "      <td>0.0</td>\n",
       "      <td>-0.590488</td>\n",
       "      <td>-0.518154</td>\n",
       "      <td>0</td>\n",
       "      <td>0</td>\n",
       "      <td>12123</td>\n",
       "      <td>B</td>\n",
       "    </tr>\n",
       "    <tr>\n",
       "      <th>199996</th>\n",
       "      <td>0.0</td>\n",
       "      <td>0.565654</td>\n",
       "      <td>-2.316381</td>\n",
       "      <td>1</td>\n",
       "      <td>0</td>\n",
       "      <td>147356</td>\n",
       "      <td>B</td>\n",
       "    </tr>\n",
       "    <tr>\n",
       "      <th>199998</th>\n",
       "      <td>0.0</td>\n",
       "      <td>0.855673</td>\n",
       "      <td>0.462531</td>\n",
       "      <td>1</td>\n",
       "      <td>1</td>\n",
       "      <td>132270</td>\n",
       "      <td>B</td>\n",
       "    </tr>\n",
       "    <tr>\n",
       "      <th>199999</th>\n",
       "      <td>0.0</td>\n",
       "      <td>-1.064948</td>\n",
       "      <td>-0.137357</td>\n",
       "      <td>0</td>\n",
       "      <td>0</td>\n",
       "      <td>86886</td>\n",
       "      <td>B</td>\n",
       "    </tr>\n",
       "  </tbody>\n",
       "</table>\n",
       "<p>200000 rows × 7 columns</p>\n",
       "</div>"
      ],
      "text/plain": [
       "          m         a         b  l  e  object_id group\n",
       "1       0.0 -0.138264 -0.094228  0  0      82374     A\n",
       "3       0.0  1.523030 -1.388638  1  0      36327     A\n",
       "5       0.0 -0.234137 -1.580520  0  0      63304     A\n",
       "6       0.0  1.579213  0.587148  1  1     187546     A\n",
       "15      0.0 -0.562288 -1.362157  0  0     133839     A\n",
       "...     ...       ...       ... .. ..        ...   ...\n",
       "199991  0.0  0.383196  0.230814  1  1     199822     B\n",
       "199994  0.0 -0.590488 -0.518154  0  0      12123     B\n",
       "199996  0.0  0.565654 -2.316381  1  0     147356     B\n",
       "199998  0.0  0.855673  0.462531  1  1     132270     B\n",
       "199999  0.0 -1.064948 -0.137357  0  0      86886     B\n",
       "\n",
       "[200000 rows x 7 columns]"
      ]
     },
     "execution_count": 28,
     "metadata": {},
     "output_type": "execute_result"
    }
   ],
   "source": [
    "fractional_hash_split"
   ]
  },
  {
   "cell_type": "code",
   "execution_count": 29,
   "id": "b5208afa",
   "metadata": {},
   "outputs": [
    {
     "data": {
      "text/plain": [
       "B    0.666665\n",
       "A    0.333335\n",
       "Name: group, dtype: float64"
      ]
     },
     "execution_count": 29,
     "metadata": {},
     "output_type": "execute_result"
    }
   ],
   "source": [
    "fractional_hash_split.group.value_counts(normalize=True)"
   ]
  },
  {
   "cell_type": "markdown",
   "id": "1a991b1e",
   "metadata": {},
   "source": [
    "## Selection of an existing group for a test group"
   ]
  },
  {
   "cell_type": "markdown",
   "id": "2c3cc967",
   "metadata": {},
   "source": [
    "Another type of scenario that sometimes occurs in A/B testing tasks, is a problem of post-generation of a control group from the total available pool of objects that were not affected by the treatment.\n",
    "\n",
    "Although you have to be quite careful in post-analysis of experiments and in post-generation of samples, *Ambrosia* allows to create control group to the existing test using all methods above.\n",
    "\n",
    "To do this, it is enough to pass a list of identifiers from the test group to ``test_group_ids`` parameter."
   ]
  },
  {
   "cell_type": "code",
   "execution_count": 30,
   "id": "7536c586",
   "metadata": {},
   "outputs": [],
   "source": [
    "np.random.seed(42)\n",
    "group_size = 10000\n",
    "test_ids = np.random.choice(dataframe.object_id, size=group_size, replace=False)"
   ]
  },
  {
   "cell_type": "code",
   "execution_count": 31,
   "id": "b2dac7c5",
   "metadata": {},
   "outputs": [],
   "source": [
    "post_hash_split = splitter.run(method='hash',\n",
    "                               groups_size=groups_size,\n",
    "                               test_group_ids=test_ids,\n",
    "                               salt='post-split')"
   ]
  },
  {
   "cell_type": "code",
   "execution_count": 32,
   "id": "1ea1539e",
   "metadata": {},
   "outputs": [
    {
     "data": {
      "text/html": [
       "<div>\n",
       "<style scoped>\n",
       "    .dataframe tbody tr th:only-of-type {\n",
       "        vertical-align: middle;\n",
       "    }\n",
       "\n",
       "    .dataframe tbody tr th {\n",
       "        vertical-align: top;\n",
       "    }\n",
       "\n",
       "    .dataframe thead th {\n",
       "        text-align: right;\n",
       "    }\n",
       "</style>\n",
       "<table border=\"1\" class=\"dataframe\">\n",
       "  <thead>\n",
       "    <tr style=\"text-align: right;\">\n",
       "      <th></th>\n",
       "      <th>m</th>\n",
       "      <th>a</th>\n",
       "      <th>b</th>\n",
       "      <th>l</th>\n",
       "      <th>e</th>\n",
       "      <th>object_id</th>\n",
       "      <th>group</th>\n",
       "    </tr>\n",
       "  </thead>\n",
       "  <tbody>\n",
       "    <tr>\n",
       "      <th>24</th>\n",
       "      <td>0.0</td>\n",
       "      <td>-0.544383</td>\n",
       "      <td>0.242347</td>\n",
       "      <td>0</td>\n",
       "      <td>1</td>\n",
       "      <td>37916</td>\n",
       "      <td>A</td>\n",
       "    </tr>\n",
       "    <tr>\n",
       "      <th>94</th>\n",
       "      <td>0.0</td>\n",
       "      <td>-0.392108</td>\n",
       "      <td>0.026810</td>\n",
       "      <td>0</td>\n",
       "      <td>1</td>\n",
       "      <td>12345</td>\n",
       "      <td>A</td>\n",
       "    </tr>\n",
       "    <tr>\n",
       "      <th>136</th>\n",
       "      <td>0.0</td>\n",
       "      <td>-0.783253</td>\n",
       "      <td>-1.911507</td>\n",
       "      <td>0</td>\n",
       "      <td>0</td>\n",
       "      <td>94132</td>\n",
       "      <td>A</td>\n",
       "    </tr>\n",
       "    <tr>\n",
       "      <th>152</th>\n",
       "      <td>0.0</td>\n",
       "      <td>-0.680025</td>\n",
       "      <td>-0.649503</td>\n",
       "      <td>0</td>\n",
       "      <td>0</td>\n",
       "      <td>87931</td>\n",
       "      <td>A</td>\n",
       "    </tr>\n",
       "    <tr>\n",
       "      <th>155</th>\n",
       "      <td>0.0</td>\n",
       "      <td>-0.714351</td>\n",
       "      <td>0.266708</td>\n",
       "      <td>0</td>\n",
       "      <td>1</td>\n",
       "      <td>122498</td>\n",
       "      <td>A</td>\n",
       "    </tr>\n",
       "    <tr>\n",
       "      <th>...</th>\n",
       "      <td>...</td>\n",
       "      <td>...</td>\n",
       "      <td>...</td>\n",
       "      <td>...</td>\n",
       "      <td>...</td>\n",
       "      <td>...</td>\n",
       "      <td>...</td>\n",
       "    </tr>\n",
       "    <tr>\n",
       "      <th>199945</th>\n",
       "      <td>0.0</td>\n",
       "      <td>2.866851</td>\n",
       "      <td>-0.048362</td>\n",
       "      <td>1</td>\n",
       "      <td>0</td>\n",
       "      <td>146867</td>\n",
       "      <td>B</td>\n",
       "    </tr>\n",
       "    <tr>\n",
       "      <th>199963</th>\n",
       "      <td>0.0</td>\n",
       "      <td>-0.935605</td>\n",
       "      <td>0.169802</td>\n",
       "      <td>0</td>\n",
       "      <td>1</td>\n",
       "      <td>116839</td>\n",
       "      <td>B</td>\n",
       "    </tr>\n",
       "    <tr>\n",
       "      <th>199976</th>\n",
       "      <td>0.0</td>\n",
       "      <td>-0.811208</td>\n",
       "      <td>-0.931313</td>\n",
       "      <td>0</td>\n",
       "      <td>0</td>\n",
       "      <td>18652</td>\n",
       "      <td>B</td>\n",
       "    </tr>\n",
       "    <tr>\n",
       "      <th>199977</th>\n",
       "      <td>0.0</td>\n",
       "      <td>0.547009</td>\n",
       "      <td>0.330221</td>\n",
       "      <td>1</td>\n",
       "      <td>1</td>\n",
       "      <td>180593</td>\n",
       "      <td>B</td>\n",
       "    </tr>\n",
       "    <tr>\n",
       "      <th>199997</th>\n",
       "      <td>0.0</td>\n",
       "      <td>0.160020</td>\n",
       "      <td>0.831556</td>\n",
       "      <td>1</td>\n",
       "      <td>1</td>\n",
       "      <td>12296</td>\n",
       "      <td>B</td>\n",
       "    </tr>\n",
       "  </tbody>\n",
       "</table>\n",
       "<p>20000 rows × 7 columns</p>\n",
       "</div>"
      ],
      "text/plain": [
       "          m         a         b  l  e  object_id group\n",
       "24      0.0 -0.544383  0.242347  0  1      37916     A\n",
       "94      0.0 -0.392108  0.026810  0  1      12345     A\n",
       "136     0.0 -0.783253 -1.911507  0  0      94132     A\n",
       "152     0.0 -0.680025 -0.649503  0  0      87931     A\n",
       "155     0.0 -0.714351  0.266708  0  1     122498     A\n",
       "...     ...       ...       ... .. ..        ...   ...\n",
       "199945  0.0  2.866851 -0.048362  1  0     146867     B\n",
       "199963  0.0 -0.935605  0.169802  0  1     116839     B\n",
       "199976  0.0 -0.811208 -0.931313  0  0      18652     B\n",
       "199977  0.0  0.547009  0.330221  1  1     180593     B\n",
       "199997  0.0  0.160020  0.831556  1  1      12296     B\n",
       "\n",
       "[20000 rows x 7 columns]"
      ]
     },
     "execution_count": 32,
     "metadata": {},
     "output_type": "execute_result"
    }
   ],
   "source": [
    "post_hash_split"
   ]
  },
  {
   "cell_type": "markdown",
   "id": "4ce6c2d4",
   "metadata": {},
   "source": [
    "Check that all objects with test ids are in group B and not in A"
   ]
  },
  {
   "cell_type": "code",
   "execution_count": 33,
   "id": "7dcaa774",
   "metadata": {},
   "outputs": [
    {
     "data": {
      "text/plain": [
       "0"
      ]
     },
     "execution_count": 33,
     "metadata": {},
     "output_type": "execute_result"
    }
   ],
   "source": [
    "np.isin(test_ids, post_hash_split.query(\"group == 'A'\").object_id).sum()"
   ]
  },
  {
   "cell_type": "code",
   "execution_count": 34,
   "id": "1fb3d52e",
   "metadata": {},
   "outputs": [
    {
     "data": {
      "text/plain": [
       "10000"
      ]
     },
     "execution_count": 34,
     "metadata": {},
     "output_type": "execute_result"
    }
   ],
   "source": [
    "np.isin(test_ids, post_hash_split.query(\"group == 'B'\").object_id).sum()"
   ]
  },
  {
   "cell_type": "markdown",
   "id": "b944b5cf",
   "metadata": {},
   "source": [
    "## Storable configuration"
   ]
  },
  {
   "cell_type": "markdown",
   "id": "6b83b9b3",
   "metadata": {},
   "source": [
    "Sometimes it is convenient to save the created class instance to a file, so later it can be loaded and reused with preselected attributes. Attributes like datasets are not serialized and must be set after instanse is loaded. \\\n",
    "Implemented ``load_from_config`` function allows to restore instance directly from ``.yaml`` file"
   ]
  },
  {
   "cell_type": "markdown",
   "id": "56de6b1b",
   "metadata": {},
   "source": [
    "Let's create an instance with the parameters we want to save in a file"
   ]
  },
  {
   "cell_type": "code",
   "execution_count": 35,
   "id": "2ef0db73",
   "metadata": {},
   "outputs": [],
   "source": [
    "store_path = '_examples_configs/splitter_config.yaml'"
   ]
  },
  {
   "cell_type": "code",
   "execution_count": 36,
   "id": "75191f47",
   "metadata": {},
   "outputs": [],
   "source": [
    "storable_splitter = Splitter(id_column='object_id',\n",
    "                             groups_size=322,\n",
    "                             strat_columns=['l', 'e'])"
   ]
  },
  {
   "cell_type": "code",
   "execution_count": 37,
   "id": "cc0b7946",
   "metadata": {},
   "outputs": [
    {
     "data": {
      "text/plain": [
       "{'id_column': 'object_id',\n",
       " 'groups_size': 322,\n",
       " 'fit_columns': None,\n",
       " 'strat_columns': ['l', 'e']}"
      ]
     },
     "execution_count": 37,
     "metadata": {},
     "output_type": "execute_result"
    }
   ],
   "source": [
    "storable_splitter.__getstate__()"
   ]
  },
  {
   "cell_type": "markdown",
   "id": "d29ab9d3",
   "metadata": {},
   "source": [
    "Save as the ``.yaml`` file"
   ]
  },
  {
   "cell_type": "code",
   "execution_count": 38,
   "id": "42e139ad",
   "metadata": {},
   "outputs": [],
   "source": [
    "with open(store_path, \"w\") as outfile:\n",
    "    yaml.dump(storable_splitter, outfile, default_flow_style=False)"
   ]
  },
  {
   "cell_type": "markdown",
   "id": "a0e315db",
   "metadata": {},
   "source": [
    "Load from the file"
   ]
  },
  {
   "cell_type": "code",
   "execution_count": 39,
   "id": "9b78b6f6",
   "metadata": {},
   "outputs": [],
   "source": [
    "loaded_splitter = load_from_config(store_path)"
   ]
  },
  {
   "cell_type": "code",
   "execution_count": 40,
   "id": "21200aa5",
   "metadata": {},
   "outputs": [
    {
     "data": {
      "text/plain": [
       "{'id_column': 'object_id',\n",
       " 'groups_size': 322,\n",
       " 'fit_columns': None,\n",
       " 'strat_columns': ['l', 'e']}"
      ]
     },
     "execution_count": 40,
     "metadata": {},
     "output_type": "execute_result"
    }
   ],
   "source": [
    "loaded_splitter.__getstate__()"
   ]
  },
  {
   "cell_type": "markdown",
   "id": "4978d3a3",
   "metadata": {},
   "source": [
    "Set dataframe and make some split"
   ]
  },
  {
   "cell_type": "code",
   "execution_count": 41,
   "id": "4f4c2709",
   "metadata": {},
   "outputs": [],
   "source": [
    "loaded_splitter.set_dataframe(dataframe)"
   ]
  },
  {
   "cell_type": "code",
   "execution_count": 42,
   "id": "30285efc",
   "metadata": {},
   "outputs": [
    {
     "data": {
      "text/html": [
       "<div>\n",
       "<style scoped>\n",
       "    .dataframe tbody tr th:only-of-type {\n",
       "        vertical-align: middle;\n",
       "    }\n",
       "\n",
       "    .dataframe tbody tr th {\n",
       "        vertical-align: top;\n",
       "    }\n",
       "\n",
       "    .dataframe thead th {\n",
       "        text-align: right;\n",
       "    }\n",
       "</style>\n",
       "<table border=\"1\" class=\"dataframe\">\n",
       "  <thead>\n",
       "    <tr style=\"text-align: right;\">\n",
       "      <th></th>\n",
       "      <th>m</th>\n",
       "      <th>a</th>\n",
       "      <th>b</th>\n",
       "      <th>l</th>\n",
       "      <th>e</th>\n",
       "      <th>object_id</th>\n",
       "      <th>group</th>\n",
       "    </tr>\n",
       "  </thead>\n",
       "  <tbody>\n",
       "    <tr>\n",
       "      <th>2198</th>\n",
       "      <td>0.0</td>\n",
       "      <td>-0.641487</td>\n",
       "      <td>-0.658645</td>\n",
       "      <td>0</td>\n",
       "      <td>0</td>\n",
       "      <td>20742</td>\n",
       "      <td>A</td>\n",
       "    </tr>\n",
       "    <tr>\n",
       "      <th>2642</th>\n",
       "      <td>0.0</td>\n",
       "      <td>-0.847634</td>\n",
       "      <td>-0.043161</td>\n",
       "      <td>0</td>\n",
       "      <td>0</td>\n",
       "      <td>120722</td>\n",
       "      <td>A</td>\n",
       "    </tr>\n",
       "    <tr>\n",
       "      <th>7596</th>\n",
       "      <td>0.0</td>\n",
       "      <td>-1.572989</td>\n",
       "      <td>-1.090749</td>\n",
       "      <td>0</td>\n",
       "      <td>0</td>\n",
       "      <td>24930</td>\n",
       "      <td>A</td>\n",
       "    </tr>\n",
       "    <tr>\n",
       "      <th>7688</th>\n",
       "      <td>0.0</td>\n",
       "      <td>-0.233898</td>\n",
       "      <td>-1.196993</td>\n",
       "      <td>0</td>\n",
       "      <td>0</td>\n",
       "      <td>5767</td>\n",
       "      <td>A</td>\n",
       "    </tr>\n",
       "    <tr>\n",
       "      <th>10737</th>\n",
       "      <td>0.0</td>\n",
       "      <td>-1.000271</td>\n",
       "      <td>-0.298924</td>\n",
       "      <td>0</td>\n",
       "      <td>0</td>\n",
       "      <td>187434</td>\n",
       "      <td>A</td>\n",
       "    </tr>\n",
       "    <tr>\n",
       "      <th>...</th>\n",
       "      <td>...</td>\n",
       "      <td>...</td>\n",
       "      <td>...</td>\n",
       "      <td>...</td>\n",
       "      <td>...</td>\n",
       "      <td>...</td>\n",
       "      <td>...</td>\n",
       "    </tr>\n",
       "    <tr>\n",
       "      <th>197562</th>\n",
       "      <td>0.0</td>\n",
       "      <td>2.832918</td>\n",
       "      <td>0.327783</td>\n",
       "      <td>1</td>\n",
       "      <td>1</td>\n",
       "      <td>41784</td>\n",
       "      <td>B</td>\n",
       "    </tr>\n",
       "    <tr>\n",
       "      <th>132857</th>\n",
       "      <td>0.0</td>\n",
       "      <td>0.286866</td>\n",
       "      <td>-0.218729</td>\n",
       "      <td>1</td>\n",
       "      <td>0</td>\n",
       "      <td>11805</td>\n",
       "      <td>A</td>\n",
       "    </tr>\n",
       "    <tr>\n",
       "      <th>36947</th>\n",
       "      <td>0.0</td>\n",
       "      <td>-0.893407</td>\n",
       "      <td>-0.847359</td>\n",
       "      <td>0</td>\n",
       "      <td>0</td>\n",
       "      <td>175180</td>\n",
       "      <td>A</td>\n",
       "    </tr>\n",
       "    <tr>\n",
       "      <th>27596</th>\n",
       "      <td>0.0</td>\n",
       "      <td>1.459311</td>\n",
       "      <td>1.463153</td>\n",
       "      <td>1</td>\n",
       "      <td>1</td>\n",
       "      <td>65061</td>\n",
       "      <td>B</td>\n",
       "    </tr>\n",
       "    <tr>\n",
       "      <th>162879</th>\n",
       "      <td>0.0</td>\n",
       "      <td>0.702267</td>\n",
       "      <td>-0.490351</td>\n",
       "      <td>1</td>\n",
       "      <td>0</td>\n",
       "      <td>35838</td>\n",
       "      <td>B</td>\n",
       "    </tr>\n",
       "  </tbody>\n",
       "</table>\n",
       "<p>644 rows × 7 columns</p>\n",
       "</div>"
      ],
      "text/plain": [
       "          m         a         b  l  e  object_id group\n",
       "2198    0.0 -0.641487 -0.658645  0  0      20742     A\n",
       "2642    0.0 -0.847634 -0.043161  0  0     120722     A\n",
       "7596    0.0 -1.572989 -1.090749  0  0      24930     A\n",
       "7688    0.0 -0.233898 -1.196993  0  0       5767     A\n",
       "10737   0.0 -1.000271 -0.298924  0  0     187434     A\n",
       "...     ...       ...       ... .. ..        ...   ...\n",
       "197562  0.0  2.832918  0.327783  1  1      41784     B\n",
       "132857  0.0  0.286866 -0.218729  1  0      11805     A\n",
       "36947   0.0 -0.893407 -0.847359  0  0     175180     A\n",
       "27596   0.0  1.459311  1.463153  1  1      65061     B\n",
       "162879  0.0  0.702267 -0.490351  1  0      35838     B\n",
       "\n",
       "[644 rows x 7 columns]"
      ]
     },
     "execution_count": 42,
     "metadata": {},
     "output_type": "execute_result"
    }
   ],
   "source": [
    "loaded_splitter.run(method='hash', salt='from_yaml')"
   ]
  },
  {
   "cell_type": "markdown",
   "id": "de4530f7",
   "metadata": {},
   "source": [
    "## Stand-alone split function"
   ]
  },
  {
   "cell_type": "markdown",
   "id": "9339069d",
   "metadata": {},
   "source": [
    "*Ambrosia* contains the ``split`` function that replicates the behavior of the ``Splitter`` class and can also be used for the same split tasks"
   ]
  },
  {
   "cell_type": "code",
   "execution_count": 43,
   "id": "0d8a7a47",
   "metadata": {},
   "outputs": [
    {
     "data": {
      "text/html": [
       "<div>\n",
       "<style scoped>\n",
       "    .dataframe tbody tr th:only-of-type {\n",
       "        vertical-align: middle;\n",
       "    }\n",
       "\n",
       "    .dataframe tbody tr th {\n",
       "        vertical-align: top;\n",
       "    }\n",
       "\n",
       "    .dataframe thead th {\n",
       "        text-align: right;\n",
       "    }\n",
       "</style>\n",
       "<table border=\"1\" class=\"dataframe\">\n",
       "  <thead>\n",
       "    <tr style=\"text-align: right;\">\n",
       "      <th></th>\n",
       "      <th>m</th>\n",
       "      <th>a</th>\n",
       "      <th>b</th>\n",
       "      <th>l</th>\n",
       "      <th>e</th>\n",
       "      <th>object_id</th>\n",
       "      <th>group</th>\n",
       "    </tr>\n",
       "  </thead>\n",
       "  <tbody>\n",
       "    <tr>\n",
       "      <th>196900</th>\n",
       "      <td>0.0</td>\n",
       "      <td>0.050390</td>\n",
       "      <td>0.819410</td>\n",
       "      <td>1</td>\n",
       "      <td>1</td>\n",
       "      <td>14646</td>\n",
       "      <td>A</td>\n",
       "    </tr>\n",
       "    <tr>\n",
       "      <th>43323</th>\n",
       "      <td>0.0</td>\n",
       "      <td>-3.393915</td>\n",
       "      <td>-0.281103</td>\n",
       "      <td>0</td>\n",
       "      <td>0</td>\n",
       "      <td>36721</td>\n",
       "      <td>A</td>\n",
       "    </tr>\n",
       "    <tr>\n",
       "      <th>171194</th>\n",
       "      <td>0.0</td>\n",
       "      <td>-0.177053</td>\n",
       "      <td>0.248580</td>\n",
       "      <td>0</td>\n",
       "      <td>1</td>\n",
       "      <td>156469</td>\n",
       "      <td>A</td>\n",
       "    </tr>\n",
       "    <tr>\n",
       "      <th>185518</th>\n",
       "      <td>0.0</td>\n",
       "      <td>0.757116</td>\n",
       "      <td>0.366774</td>\n",
       "      <td>1</td>\n",
       "      <td>1</td>\n",
       "      <td>53901</td>\n",
       "      <td>A</td>\n",
       "    </tr>\n",
       "    <tr>\n",
       "      <th>10289</th>\n",
       "      <td>0.0</td>\n",
       "      <td>-0.751167</td>\n",
       "      <td>2.058094</td>\n",
       "      <td>0</td>\n",
       "      <td>1</td>\n",
       "      <td>134394</td>\n",
       "      <td>A</td>\n",
       "    </tr>\n",
       "    <tr>\n",
       "      <th>...</th>\n",
       "      <td>...</td>\n",
       "      <td>...</td>\n",
       "      <td>...</td>\n",
       "      <td>...</td>\n",
       "      <td>...</td>\n",
       "      <td>...</td>\n",
       "      <td>...</td>\n",
       "    </tr>\n",
       "    <tr>\n",
       "      <th>69994</th>\n",
       "      <td>0.0</td>\n",
       "      <td>-1.329803</td>\n",
       "      <td>-0.023193</td>\n",
       "      <td>0</td>\n",
       "      <td>0</td>\n",
       "      <td>24351</td>\n",
       "      <td>B</td>\n",
       "    </tr>\n",
       "    <tr>\n",
       "      <th>114139</th>\n",
       "      <td>0.0</td>\n",
       "      <td>0.714640</td>\n",
       "      <td>1.330547</td>\n",
       "      <td>1</td>\n",
       "      <td>1</td>\n",
       "      <td>99421</td>\n",
       "      <td>B</td>\n",
       "    </tr>\n",
       "    <tr>\n",
       "      <th>142263</th>\n",
       "      <td>0.0</td>\n",
       "      <td>-0.590689</td>\n",
       "      <td>-0.951325</td>\n",
       "      <td>0</td>\n",
       "      <td>0</td>\n",
       "      <td>97706</td>\n",
       "      <td>B</td>\n",
       "    </tr>\n",
       "    <tr>\n",
       "      <th>86716</th>\n",
       "      <td>0.0</td>\n",
       "      <td>-0.601845</td>\n",
       "      <td>0.501994</td>\n",
       "      <td>0</td>\n",
       "      <td>1</td>\n",
       "      <td>83325</td>\n",
       "      <td>B</td>\n",
       "    </tr>\n",
       "    <tr>\n",
       "      <th>108454</th>\n",
       "      <td>0.0</td>\n",
       "      <td>0.835601</td>\n",
       "      <td>0.454933</td>\n",
       "      <td>1</td>\n",
       "      <td>1</td>\n",
       "      <td>18123</td>\n",
       "      <td>B</td>\n",
       "    </tr>\n",
       "  </tbody>\n",
       "</table>\n",
       "<p>2000 rows × 7 columns</p>\n",
       "</div>"
      ],
      "text/plain": [
       "          m         a         b  l  e  object_id group\n",
       "196900  0.0  0.050390  0.819410  1  1      14646     A\n",
       "43323   0.0 -3.393915 -0.281103  0  0      36721     A\n",
       "171194  0.0 -0.177053  0.248580  0  1     156469     A\n",
       "185518  0.0  0.757116  0.366774  1  1      53901     A\n",
       "10289   0.0 -0.751167  2.058094  0  1     134394     A\n",
       "...     ...       ...       ... .. ..        ...   ...\n",
       "69994   0.0 -1.329803 -0.023193  0  0      24351     B\n",
       "114139  0.0  0.714640  1.330547  1  1      99421     B\n",
       "142263  0.0 -0.590689 -0.951325  0  0      97706     B\n",
       "86716   0.0 -0.601845  0.501994  0  1      83325     B\n",
       "108454  0.0  0.835601  0.454933  1  1      18123     B\n",
       "\n",
       "[2000 rows x 7 columns]"
      ]
     },
     "execution_count": 43,
     "metadata": {},
     "output_type": "execute_result"
    }
   ],
   "source": [
    "split(method='simple',\n",
    "      dataframe=dataframe,\n",
    "      id_column='object_id',\n",
    "      groups_size=1000)"
   ]
  },
  {
   "cell_type": "markdown",
   "id": "f762b617",
   "metadata": {},
   "source": [
    "---"
   ]
  },
  {
   "cell_type": "markdown",
   "id": "c47318c2",
   "metadata": {},
   "source": [
    "## Learn more"
   ]
  },
  {
   "cell_type": "markdown",
   "id": "7a80d9e4",
   "metadata": {},
   "source": [
    "There is some more information about groups split using *Ambrosia*\n",
    "\n",
    "Check:\n",
    "\n",
    "* ``Splitter`` class documentation\n",
    "* An example of splitting groups from a Spark DataFrame (currently has limited functionality)"
   ]
  }
 ],
 "metadata": {
  "kernelspec": {
   "display_name": "Python 3 (ipykernel)",
   "language": "python",
   "name": "python3"
  },
  "language_info": {
   "codemirror_mode": {
    "name": "ipython",
    "version": 3
   },
   "file_extension": ".py",
   "mimetype": "text/x-python",
   "name": "python",
   "nbconvert_exporter": "python",
   "pygments_lexer": "ipython3",
   "version": "3.9.16"
  },
  "varInspector": {
   "cols": {
    "lenName": 16,
    "lenType": 16,
    "lenVar": 40
   },
   "kernels_config": {
    "python": {
     "delete_cmd_postfix": "",
     "delete_cmd_prefix": "del ",
     "library": "var_list.py",
     "varRefreshCmd": "print(var_dic_list())"
    },
    "r": {
     "delete_cmd_postfix": ") ",
     "delete_cmd_prefix": "rm(",
     "library": "var_list.r",
     "varRefreshCmd": "cat(var_dic_list()) "
    }
   },
   "types_to_exclude": [
    "module",
    "function",
    "builtin_function_or_method",
    "instance",
    "_Feature"
   ],
   "window_display": false
  }
 },
 "nbformat": 4,
 "nbformat_minor": 5
}
