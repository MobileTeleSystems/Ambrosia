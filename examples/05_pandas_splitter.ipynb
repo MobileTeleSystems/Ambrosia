{
 "cells": [
  {
   "cell_type": "markdown",
   "id": "f9f85dba",
   "metadata": {},
   "source": [
    "# Example of the ``Splitter`` class usage for solving group splitting problem"
   ]
  },
  {
   "cell_type": "markdown",
   "id": "9999b2d7",
   "metadata": {},
   "source": [
    "In this tutorial we will use *Amrosia* splitting tools to create a number of groups using different strategies.\n",
    "\n",
    "Group splitting problem usually appears in A/B testing when we have designed experiment parameters and want to create experimental groups consist from the objects of the research."
   ]
  },
  {
   "cell_type": "markdown",
   "id": "c5dc7c24",
   "metadata": {},
   "source": [
    "## Two different splitting paradigms"
   ]
  },
  {
   "cell_type": "markdown",
   "id": "35270460",
   "metadata": {},
   "source": [
    "Basically, the splitting of objects into groups is divided into *batch* and *real-time split* approaches. \n",
    "\n",
    "For the first type of splitting we precalculate the contents of our experimental groups using, for example, a common database with research objects. \\\n",
    "In the second type of splitting approach some tools distribute objects into groups in real time as they arrive, although it may also use some pre-calculated information.\n",
    "\n",
    "Further in this tutorial we will review the tools for batch splitting tasks."
   ]
  },
  {
   "cell_type": "markdown",
   "id": "f2540cb9",
   "metadata": {},
   "source": [
    "**Note:** *Ambrosia* now supports only batch spliiting. Real-time splitting tools are under development."
   ]
  },
  {
   "cell_type": "markdown",
   "id": "0b1847bd",
   "metadata": {},
   "source": [
    "## Let's start the tutorial"
   ]
  },
  {
   "cell_type": "code",
   "execution_count": 1,
   "id": "23bc1ccc",
   "metadata": {},
   "outputs": [],
   "source": [
    "import sys, os\n",
    "sys.path.insert(1, os.path.realpath(os.path.pardir))"
   ]
  },
  {
   "cell_type": "code",
   "execution_count": 7,
   "id": "c7afe24b",
   "metadata": {},
   "outputs": [],
   "source": [
    "import pandas as pd\n",
    "import numpy as np\n",
    "\n",
    "import yaml\n",
    "\n",
    "from ambrosia.splitter import Splitter, split, load_from_config"
   ]
  },
  {
   "cell_type": "markdown",
   "id": "9df67da6",
   "metadata": {},
   "source": [
    "Generate synthetic data with a number of defferent columns.\\\n",
    "We will create 200000 objects with unique id and some numerical features"
   ]
  },
  {
   "cell_type": "code",
   "execution_count": 21,
   "id": "04d60065",
   "metadata": {},
   "outputs": [
    {
     "data": {
      "text/html": [
       "<div>\n",
       "<style scoped>\n",
       "    .dataframe tbody tr th:only-of-type {\n",
       "        vertical-align: middle;\n",
       "    }\n",
       "\n",
       "    .dataframe tbody tr th {\n",
       "        vertical-align: top;\n",
       "    }\n",
       "\n",
       "    .dataframe thead th {\n",
       "        text-align: right;\n",
       "    }\n",
       "</style>\n",
       "<table border=\"1\" class=\"dataframe\">\n",
       "  <thead>\n",
       "    <tr style=\"text-align: right;\">\n",
       "      <th></th>\n",
       "      <th>m</th>\n",
       "      <th>a</th>\n",
       "      <th>b</th>\n",
       "      <th>l</th>\n",
       "      <th>e</th>\n",
       "      <th>object_id</th>\n",
       "    </tr>\n",
       "  </thead>\n",
       "  <tbody>\n",
       "    <tr>\n",
       "      <th>0</th>\n",
       "      <td>0.0</td>\n",
       "      <td>0.496714</td>\n",
       "      <td>1.561841</td>\n",
       "      <td>0</td>\n",
       "      <td>1</td>\n",
       "      <td>63869</td>\n",
       "    </tr>\n",
       "    <tr>\n",
       "      <th>1</th>\n",
       "      <td>0.0</td>\n",
       "      <td>-0.138264</td>\n",
       "      <td>-0.094228</td>\n",
       "      <td>1</td>\n",
       "      <td>1</td>\n",
       "      <td>82374</td>\n",
       "    </tr>\n",
       "    <tr>\n",
       "      <th>2</th>\n",
       "      <td>0.0</td>\n",
       "      <td>0.647689</td>\n",
       "      <td>-1.329536</td>\n",
       "      <td>1</td>\n",
       "      <td>0</td>\n",
       "      <td>162918</td>\n",
       "    </tr>\n",
       "    <tr>\n",
       "      <th>3</th>\n",
       "      <td>0.0</td>\n",
       "      <td>1.523030</td>\n",
       "      <td>-1.388638</td>\n",
       "      <td>1</td>\n",
       "      <td>0</td>\n",
       "      <td>36327</td>\n",
       "    </tr>\n",
       "    <tr>\n",
       "      <th>4</th>\n",
       "      <td>0.0</td>\n",
       "      <td>-0.234153</td>\n",
       "      <td>-0.342651</td>\n",
       "      <td>0</td>\n",
       "      <td>1</td>\n",
       "      <td>91526</td>\n",
       "    </tr>\n",
       "  </tbody>\n",
       "</table>\n",
       "</div>"
      ],
      "text/plain": [
       "     m         a         b  l  e  object_id\n",
       "0  0.0  0.496714  1.561841  0  1      63869\n",
       "1  0.0 -0.138264 -0.094228  1  1      82374\n",
       "2  0.0  0.647689 -1.329536  1  0     162918\n",
       "3  0.0  1.523030 -1.388638  1  0      36327\n",
       "4  0.0 -0.234153 -0.342651  0  1      91526"
      ]
     },
     "execution_count": 21,
     "metadata": {},
     "output_type": "execute_result"
    }
   ],
   "source": [
    "np.random.seed(42)\n",
    "\n",
    "dataframe = pd.DataFrame({\n",
    "    'm': np.zeros((200000, )),\n",
    "    'a': np.random.normal(size=200000),\n",
    "    'b': np.random.normal(size=200000)\n",
    "})\n",
    "dataframe['l'] = np.where(df2['a'] > 0, 1, 0)\n",
    "dataframe['e'] = np.where(df2['b'] > 0, 1, 0)\n",
    "dataframe['object_id'] = np.random.choice(dataframe.index,\n",
    "                                          size=df2.shape[0],\n",
    "                                          replace=False)\n",
    "dataframe.head()"
   ]
  },
  {
   "cell_type": "code",
   "execution_count": 22,
   "id": "a0085df0",
   "metadata": {},
   "outputs": [
    {
     "data": {
      "text/plain": [
       "(200000, 6)"
      ]
     },
     "execution_count": 22,
     "metadata": {},
     "output_type": "execute_result"
    }
   ],
   "source": [
    "dataframe.shape"
   ]
  },
  {
   "cell_type": "markdown",
   "id": "ff0bcb13",
   "metadata": {},
   "source": [
    "Now let's get acquainted with the ``Splitter`` class."
   ]
  },
  {
   "cell_type": "markdown",
   "id": "b92a0727",
   "metadata": {},
   "source": [
    "The ``Splitter`` class is *Ambrosia's* main tool for splitting objects into the creating groups. It has one main public method ``run()`` which returns the table with a groups of the desired size.\n",
    "\n",
    "Let's create an instance of the class and pass to the constructor generated data ``dataframe`` about objects *(this data is like some abstract user database)* which will be used further for the creation of the groups using different methods. We also specify for ``id_column``  a column ``\"object_id\"``  that contains unique identifiers of objects. If this column had not been specified, dataframe indexes will be used as identifiers."
   ]
  },
  {
   "cell_type": "code",
   "execution_count": 23,
   "id": "be77be3a",
   "metadata": {},
   "outputs": [],
   "source": [
    "splitter = Splitter(dataframe=dataframe, id_column='object_id')"
   ]
  },
  {
   "cell_type": "markdown",
   "id": "69da2e7c",
   "metadata": {},
   "source": [
    "As well as in the ``Designer`` class, we can pass this dataframe and other parameters later as an argument to the ``run()`` method. We can do the same with most of the parameters related directly to the experiment (errors, effects, and so on) - either pass them to the constructor during initialization (and then they will become attributes of the created instance), or pass them later, when execute ``run()`` method. In case of parameter selection ambiguity, the argument in the method takes precedence over the attribute value."
   ]
  },
  {
   "cell_type": "markdown",
   "id": "ea43eea2",
   "metadata": {},
   "source": [
    "Now let's move on to review different ways to create groups that are implemented in the ``Splitter`` class."
   ]
  },
  {
   "cell_type": "markdown",
   "id": "745ffc31",
   "metadata": {},
   "source": [
    "## Split approaches"
   ]
  },
  {
   "cell_type": "markdown",
   "id": "c6bd4532",
   "metadata": {},
   "source": [
    "### Simple split"
   ]
  },
  {
   "cell_type": "markdown",
   "id": "6c30789a",
   "metadata": {},
   "source": [
    "The first type of splitting strategy is called ``\"simple\"`` and is really about a very simple, non-deterministic way of creating groups, in which a new result is produced each time it is executed."
   ]
  },
  {
   "cell_type": "markdown",
   "id": "4535c3c2",
   "metadata": {},
   "source": [
    "To create such split we need to execute ``run()`` method with corresponding value of ``method`` parameter. We will create groups each of size 2000 objects."
   ]
  },
  {
   "cell_type": "code",
   "execution_count": 31,
   "id": "921f926a",
   "metadata": {},
   "outputs": [
    {
     "data": {
      "text/html": [
       "<div>\n",
       "<style scoped>\n",
       "    .dataframe tbody tr th:only-of-type {\n",
       "        vertical-align: middle;\n",
       "    }\n",
       "\n",
       "    .dataframe tbody tr th {\n",
       "        vertical-align: top;\n",
       "    }\n",
       "\n",
       "    .dataframe thead th {\n",
       "        text-align: right;\n",
       "    }\n",
       "</style>\n",
       "<table border=\"1\" class=\"dataframe\">\n",
       "  <thead>\n",
       "    <tr style=\"text-align: right;\">\n",
       "      <th></th>\n",
       "      <th>m</th>\n",
       "      <th>a</th>\n",
       "      <th>b</th>\n",
       "      <th>l</th>\n",
       "      <th>e</th>\n",
       "      <th>object_id</th>\n",
       "      <th>group</th>\n",
       "    </tr>\n",
       "  </thead>\n",
       "  <tbody>\n",
       "    <tr>\n",
       "      <th>169442</th>\n",
       "      <td>0.0</td>\n",
       "      <td>-1.264081</td>\n",
       "      <td>-0.843481</td>\n",
       "      <td>0</td>\n",
       "      <td>1</td>\n",
       "      <td>197575</td>\n",
       "      <td>A</td>\n",
       "    </tr>\n",
       "    <tr>\n",
       "      <th>186911</th>\n",
       "      <td>0.0</td>\n",
       "      <td>-0.146136</td>\n",
       "      <td>1.708641</td>\n",
       "      <td>0</td>\n",
       "      <td>0</td>\n",
       "      <td>98109</td>\n",
       "      <td>A</td>\n",
       "    </tr>\n",
       "    <tr>\n",
       "      <th>194145</th>\n",
       "      <td>0.0</td>\n",
       "      <td>-1.411002</td>\n",
       "      <td>0.323674</td>\n",
       "      <td>1</td>\n",
       "      <td>1</td>\n",
       "      <td>34031</td>\n",
       "      <td>A</td>\n",
       "    </tr>\n",
       "    <tr>\n",
       "      <th>33386</th>\n",
       "      <td>0.0</td>\n",
       "      <td>0.201264</td>\n",
       "      <td>1.322248</td>\n",
       "      <td>0</td>\n",
       "      <td>0</td>\n",
       "      <td>199765</td>\n",
       "      <td>A</td>\n",
       "    </tr>\n",
       "    <tr>\n",
       "      <th>129400</th>\n",
       "      <td>0.0</td>\n",
       "      <td>-0.261651</td>\n",
       "      <td>0.043902</td>\n",
       "      <td>0</td>\n",
       "      <td>1</td>\n",
       "      <td>112889</td>\n",
       "      <td>A</td>\n",
       "    </tr>\n",
       "    <tr>\n",
       "      <th>...</th>\n",
       "      <td>...</td>\n",
       "      <td>...</td>\n",
       "      <td>...</td>\n",
       "      <td>...</td>\n",
       "      <td>...</td>\n",
       "      <td>...</td>\n",
       "      <td>...</td>\n",
       "    </tr>\n",
       "    <tr>\n",
       "      <th>49247</th>\n",
       "      <td>0.0</td>\n",
       "      <td>-0.039739</td>\n",
       "      <td>-0.649425</td>\n",
       "      <td>1</td>\n",
       "      <td>1</td>\n",
       "      <td>57936</td>\n",
       "      <td>B</td>\n",
       "    </tr>\n",
       "    <tr>\n",
       "      <th>63700</th>\n",
       "      <td>0.0</td>\n",
       "      <td>-0.961996</td>\n",
       "      <td>1.400426</td>\n",
       "      <td>1</td>\n",
       "      <td>1</td>\n",
       "      <td>122455</td>\n",
       "      <td>B</td>\n",
       "    </tr>\n",
       "    <tr>\n",
       "      <th>93594</th>\n",
       "      <td>0.0</td>\n",
       "      <td>0.486525</td>\n",
       "      <td>-0.749344</td>\n",
       "      <td>1</td>\n",
       "      <td>1</td>\n",
       "      <td>47744</td>\n",
       "      <td>B</td>\n",
       "    </tr>\n",
       "    <tr>\n",
       "      <th>66644</th>\n",
       "      <td>0.0</td>\n",
       "      <td>0.600458</td>\n",
       "      <td>0.042417</td>\n",
       "      <td>0</td>\n",
       "      <td>0</td>\n",
       "      <td>104374</td>\n",
       "      <td>B</td>\n",
       "    </tr>\n",
       "    <tr>\n",
       "      <th>61500</th>\n",
       "      <td>0.0</td>\n",
       "      <td>-0.363826</td>\n",
       "      <td>-0.330980</td>\n",
       "      <td>1</td>\n",
       "      <td>0</td>\n",
       "      <td>53497</td>\n",
       "      <td>B</td>\n",
       "    </tr>\n",
       "  </tbody>\n",
       "</table>\n",
       "<p>4000 rows × 7 columns</p>\n",
       "</div>"
      ],
      "text/plain": [
       "          m         a         b  l  e  object_id group\n",
       "169442  0.0 -1.264081 -0.843481  0  1     197575     A\n",
       "186911  0.0 -0.146136  1.708641  0  0      98109     A\n",
       "194145  0.0 -1.411002  0.323674  1  1      34031     A\n",
       "33386   0.0  0.201264  1.322248  0  0     199765     A\n",
       "129400  0.0 -0.261651  0.043902  0  1     112889     A\n",
       "...     ...       ...       ... .. ..        ...   ...\n",
       "49247   0.0 -0.039739 -0.649425  1  1      57936     B\n",
       "63700   0.0 -0.961996  1.400426  1  1     122455     B\n",
       "93594   0.0  0.486525 -0.749344  1  1      47744     B\n",
       "66644   0.0  0.600458  0.042417  0  0     104374     B\n",
       "61500   0.0 -0.363826 -0.330980  1  0      53497     B\n",
       "\n",
       "[4000 rows x 7 columns]"
      ]
     },
     "execution_count": 31,
     "metadata": {},
     "output_type": "execute_result"
    }
   ],
   "source": [
    "splitter.run(method='simple', groups_size=2000)"
   ]
  },
  {
   "cell_type": "markdown",
   "id": "89762262",
   "metadata": {},
   "source": [
    "### Hash split "
   ]
  },
  {
   "cell_type": "markdown",
   "id": "5cec7387",
   "metadata": {},
   "source": [
    "The hash split strategy is based on hashing object identifiers and distributing the resulting hash values into appropriate groups. \\\n",
    "This method allows you to perform a deterministic split of objects into groups, also there is no need for a tables with the assigned group labels, because this splitting method allows  to restore the labels at any time by re-execution. \n",
    "\n",
    "To make the splits for each experiment unique, the ``\"salt\"`` parameter is used, which is appended to the end of the identifier of each object. The salt value can be, for example, the name of the experiment being performed.\n",
    "\n",
    "You can read more about hash-based splitting on the web."
   ]
  },
  {
   "cell_type": "markdown",
   "id": "5fd3ed2b",
   "metadata": {},
   "source": [
    "Let's create a hash split and make sure the result is deterministic"
   ]
  },
  {
   "cell_type": "code",
   "execution_count": 33,
   "id": "eb4ccd56",
   "metadata": {},
   "outputs": [],
   "source": [
    "groups_size= 5000\n",
    "salt = 'example_dummy_experiment_2023'"
   ]
  },
  {
   "cell_type": "markdown",
   "id": "5e9f60bd",
   "metadata": {},
   "source": [
    "Execute split with pre-defined salt value"
   ]
  },
  {
   "cell_type": "code",
   "execution_count": 34,
   "id": "5445f600",
   "metadata": {},
   "outputs": [
    {
     "data": {
      "text/html": [
       "<div>\n",
       "<style scoped>\n",
       "    .dataframe tbody tr th:only-of-type {\n",
       "        vertical-align: middle;\n",
       "    }\n",
       "\n",
       "    .dataframe tbody tr th {\n",
       "        vertical-align: top;\n",
       "    }\n",
       "\n",
       "    .dataframe thead th {\n",
       "        text-align: right;\n",
       "    }\n",
       "</style>\n",
       "<table border=\"1\" class=\"dataframe\">\n",
       "  <thead>\n",
       "    <tr style=\"text-align: right;\">\n",
       "      <th></th>\n",
       "      <th>m</th>\n",
       "      <th>a</th>\n",
       "      <th>b</th>\n",
       "      <th>l</th>\n",
       "      <th>e</th>\n",
       "      <th>object_id</th>\n",
       "      <th>group</th>\n",
       "    </tr>\n",
       "  </thead>\n",
       "  <tbody>\n",
       "    <tr>\n",
       "      <th>14</th>\n",
       "      <td>0.0</td>\n",
       "      <td>-1.724918</td>\n",
       "      <td>-0.350186</td>\n",
       "      <td>0</td>\n",
       "      <td>0</td>\n",
       "      <td>90837</td>\n",
       "      <td>A</td>\n",
       "    </tr>\n",
       "    <tr>\n",
       "      <th>44</th>\n",
       "      <td>0.0</td>\n",
       "      <td>-1.478522</td>\n",
       "      <td>0.166608</td>\n",
       "      <td>0</td>\n",
       "      <td>0</td>\n",
       "      <td>123196</td>\n",
       "      <td>A</td>\n",
       "    </tr>\n",
       "    <tr>\n",
       "      <th>64</th>\n",
       "      <td>0.0</td>\n",
       "      <td>0.812526</td>\n",
       "      <td>0.914659</td>\n",
       "      <td>1</td>\n",
       "      <td>1</td>\n",
       "      <td>117133</td>\n",
       "      <td>A</td>\n",
       "    </tr>\n",
       "    <tr>\n",
       "      <th>65</th>\n",
       "      <td>0.0</td>\n",
       "      <td>1.356240</td>\n",
       "      <td>0.731410</td>\n",
       "      <td>0</td>\n",
       "      <td>1</td>\n",
       "      <td>144787</td>\n",
       "      <td>A</td>\n",
       "    </tr>\n",
       "    <tr>\n",
       "      <th>161</th>\n",
       "      <td>0.0</td>\n",
       "      <td>0.787085</td>\n",
       "      <td>-1.012367</td>\n",
       "      <td>1</td>\n",
       "      <td>0</td>\n",
       "      <td>186437</td>\n",
       "      <td>A</td>\n",
       "    </tr>\n",
       "    <tr>\n",
       "      <th>...</th>\n",
       "      <td>...</td>\n",
       "      <td>...</td>\n",
       "      <td>...</td>\n",
       "      <td>...</td>\n",
       "      <td>...</td>\n",
       "      <td>...</td>\n",
       "      <td>...</td>\n",
       "    </tr>\n",
       "    <tr>\n",
       "      <th>199760</th>\n",
       "      <td>0.0</td>\n",
       "      <td>0.172396</td>\n",
       "      <td>0.844596</td>\n",
       "      <td>0</td>\n",
       "      <td>0</td>\n",
       "      <td>166816</td>\n",
       "      <td>B</td>\n",
       "    </tr>\n",
       "    <tr>\n",
       "      <th>199783</th>\n",
       "      <td>0.0</td>\n",
       "      <td>-0.477993</td>\n",
       "      <td>-0.899310</td>\n",
       "      <td>0</td>\n",
       "      <td>0</td>\n",
       "      <td>134168</td>\n",
       "      <td>B</td>\n",
       "    </tr>\n",
       "    <tr>\n",
       "      <th>199867</th>\n",
       "      <td>0.0</td>\n",
       "      <td>-1.164759</td>\n",
       "      <td>-0.649031</td>\n",
       "      <td>1</td>\n",
       "      <td>0</td>\n",
       "      <td>41423</td>\n",
       "      <td>B</td>\n",
       "    </tr>\n",
       "    <tr>\n",
       "      <th>199868</th>\n",
       "      <td>0.0</td>\n",
       "      <td>0.162848</td>\n",
       "      <td>2.835048</td>\n",
       "      <td>0</td>\n",
       "      <td>0</td>\n",
       "      <td>33513</td>\n",
       "      <td>B</td>\n",
       "    </tr>\n",
       "    <tr>\n",
       "      <th>199915</th>\n",
       "      <td>0.0</td>\n",
       "      <td>0.882166</td>\n",
       "      <td>-1.665376</td>\n",
       "      <td>1</td>\n",
       "      <td>1</td>\n",
       "      <td>33638</td>\n",
       "      <td>B</td>\n",
       "    </tr>\n",
       "  </tbody>\n",
       "</table>\n",
       "<p>10000 rows × 7 columns</p>\n",
       "</div>"
      ],
      "text/plain": [
       "          m         a         b  l  e  object_id group\n",
       "14      0.0 -1.724918 -0.350186  0  0      90837     A\n",
       "44      0.0 -1.478522  0.166608  0  0     123196     A\n",
       "64      0.0  0.812526  0.914659  1  1     117133     A\n",
       "65      0.0  1.356240  0.731410  0  1     144787     A\n",
       "161     0.0  0.787085 -1.012367  1  0     186437     A\n",
       "...     ...       ...       ... .. ..        ...   ...\n",
       "199760  0.0  0.172396  0.844596  0  0     166816     B\n",
       "199783  0.0 -0.477993 -0.899310  0  0     134168     B\n",
       "199867  0.0 -1.164759 -0.649031  1  0      41423     B\n",
       "199868  0.0  0.162848  2.835048  0  0      33513     B\n",
       "199915  0.0  0.882166 -1.665376  1  1      33638     B\n",
       "\n",
       "[10000 rows x 7 columns]"
      ]
     },
     "execution_count": 34,
     "metadata": {},
     "output_type": "execute_result"
    }
   ],
   "source": [
    "splitter.run(method='hash', groups_size=groups_size, salt=salt)"
   ]
  },
  {
   "cell_type": "markdown",
   "id": "bd02710d",
   "metadata": {},
   "source": [
    "Then get a similar groups for the same salt value"
   ]
  },
  {
   "cell_type": "code",
   "execution_count": 35,
   "id": "d2f60ccf",
   "metadata": {},
   "outputs": [
    {
     "data": {
      "text/html": [
       "<div>\n",
       "<style scoped>\n",
       "    .dataframe tbody tr th:only-of-type {\n",
       "        vertical-align: middle;\n",
       "    }\n",
       "\n",
       "    .dataframe tbody tr th {\n",
       "        vertical-align: top;\n",
       "    }\n",
       "\n",
       "    .dataframe thead th {\n",
       "        text-align: right;\n",
       "    }\n",
       "</style>\n",
       "<table border=\"1\" class=\"dataframe\">\n",
       "  <thead>\n",
       "    <tr style=\"text-align: right;\">\n",
       "      <th></th>\n",
       "      <th>m</th>\n",
       "      <th>a</th>\n",
       "      <th>b</th>\n",
       "      <th>l</th>\n",
       "      <th>e</th>\n",
       "      <th>object_id</th>\n",
       "      <th>group</th>\n",
       "    </tr>\n",
       "  </thead>\n",
       "  <tbody>\n",
       "    <tr>\n",
       "      <th>14</th>\n",
       "      <td>0.0</td>\n",
       "      <td>-1.724918</td>\n",
       "      <td>-0.350186</td>\n",
       "      <td>0</td>\n",
       "      <td>0</td>\n",
       "      <td>90837</td>\n",
       "      <td>A</td>\n",
       "    </tr>\n",
       "    <tr>\n",
       "      <th>44</th>\n",
       "      <td>0.0</td>\n",
       "      <td>-1.478522</td>\n",
       "      <td>0.166608</td>\n",
       "      <td>0</td>\n",
       "      <td>0</td>\n",
       "      <td>123196</td>\n",
       "      <td>A</td>\n",
       "    </tr>\n",
       "    <tr>\n",
       "      <th>64</th>\n",
       "      <td>0.0</td>\n",
       "      <td>0.812526</td>\n",
       "      <td>0.914659</td>\n",
       "      <td>1</td>\n",
       "      <td>1</td>\n",
       "      <td>117133</td>\n",
       "      <td>A</td>\n",
       "    </tr>\n",
       "    <tr>\n",
       "      <th>65</th>\n",
       "      <td>0.0</td>\n",
       "      <td>1.356240</td>\n",
       "      <td>0.731410</td>\n",
       "      <td>0</td>\n",
       "      <td>1</td>\n",
       "      <td>144787</td>\n",
       "      <td>A</td>\n",
       "    </tr>\n",
       "    <tr>\n",
       "      <th>161</th>\n",
       "      <td>0.0</td>\n",
       "      <td>0.787085</td>\n",
       "      <td>-1.012367</td>\n",
       "      <td>1</td>\n",
       "      <td>0</td>\n",
       "      <td>186437</td>\n",
       "      <td>A</td>\n",
       "    </tr>\n",
       "    <tr>\n",
       "      <th>...</th>\n",
       "      <td>...</td>\n",
       "      <td>...</td>\n",
       "      <td>...</td>\n",
       "      <td>...</td>\n",
       "      <td>...</td>\n",
       "      <td>...</td>\n",
       "      <td>...</td>\n",
       "    </tr>\n",
       "    <tr>\n",
       "      <th>199760</th>\n",
       "      <td>0.0</td>\n",
       "      <td>0.172396</td>\n",
       "      <td>0.844596</td>\n",
       "      <td>0</td>\n",
       "      <td>0</td>\n",
       "      <td>166816</td>\n",
       "      <td>B</td>\n",
       "    </tr>\n",
       "    <tr>\n",
       "      <th>199783</th>\n",
       "      <td>0.0</td>\n",
       "      <td>-0.477993</td>\n",
       "      <td>-0.899310</td>\n",
       "      <td>0</td>\n",
       "      <td>0</td>\n",
       "      <td>134168</td>\n",
       "      <td>B</td>\n",
       "    </tr>\n",
       "    <tr>\n",
       "      <th>199867</th>\n",
       "      <td>0.0</td>\n",
       "      <td>-1.164759</td>\n",
       "      <td>-0.649031</td>\n",
       "      <td>1</td>\n",
       "      <td>0</td>\n",
       "      <td>41423</td>\n",
       "      <td>B</td>\n",
       "    </tr>\n",
       "    <tr>\n",
       "      <th>199868</th>\n",
       "      <td>0.0</td>\n",
       "      <td>0.162848</td>\n",
       "      <td>2.835048</td>\n",
       "      <td>0</td>\n",
       "      <td>0</td>\n",
       "      <td>33513</td>\n",
       "      <td>B</td>\n",
       "    </tr>\n",
       "    <tr>\n",
       "      <th>199915</th>\n",
       "      <td>0.0</td>\n",
       "      <td>0.882166</td>\n",
       "      <td>-1.665376</td>\n",
       "      <td>1</td>\n",
       "      <td>1</td>\n",
       "      <td>33638</td>\n",
       "      <td>B</td>\n",
       "    </tr>\n",
       "  </tbody>\n",
       "</table>\n",
       "<p>10000 rows × 7 columns</p>\n",
       "</div>"
      ],
      "text/plain": [
       "          m         a         b  l  e  object_id group\n",
       "14      0.0 -1.724918 -0.350186  0  0      90837     A\n",
       "44      0.0 -1.478522  0.166608  0  0     123196     A\n",
       "64      0.0  0.812526  0.914659  1  1     117133     A\n",
       "65      0.0  1.356240  0.731410  0  1     144787     A\n",
       "161     0.0  0.787085 -1.012367  1  0     186437     A\n",
       "...     ...       ...       ... .. ..        ...   ...\n",
       "199760  0.0  0.172396  0.844596  0  0     166816     B\n",
       "199783  0.0 -0.477993 -0.899310  0  0     134168     B\n",
       "199867  0.0 -1.164759 -0.649031  1  0      41423     B\n",
       "199868  0.0  0.162848  2.835048  0  0      33513     B\n",
       "199915  0.0  0.882166 -1.665376  1  1      33638     B\n",
       "\n",
       "[10000 rows x 7 columns]"
      ]
     },
     "execution_count": 35,
     "metadata": {},
     "output_type": "execute_result"
    }
   ],
   "source": [
    "splitter.run(method='hash', groups_size=groups_size, salt=salt)"
   ]
  },
  {
   "cell_type": "markdown",
   "id": "b40a62e3",
   "metadata": {},
   "source": [
    "Split result will be different if the salt is changed"
   ]
  },
  {
   "cell_type": "code",
   "execution_count": 37,
   "id": "aee50de2",
   "metadata": {},
   "outputs": [
    {
     "data": {
      "text/html": [
       "<div>\n",
       "<style scoped>\n",
       "    .dataframe tbody tr th:only-of-type {\n",
       "        vertical-align: middle;\n",
       "    }\n",
       "\n",
       "    .dataframe tbody tr th {\n",
       "        vertical-align: top;\n",
       "    }\n",
       "\n",
       "    .dataframe thead th {\n",
       "        text-align: right;\n",
       "    }\n",
       "</style>\n",
       "<table border=\"1\" class=\"dataframe\">\n",
       "  <thead>\n",
       "    <tr style=\"text-align: right;\">\n",
       "      <th></th>\n",
       "      <th>m</th>\n",
       "      <th>a</th>\n",
       "      <th>b</th>\n",
       "      <th>l</th>\n",
       "      <th>e</th>\n",
       "      <th>object_id</th>\n",
       "      <th>group</th>\n",
       "    </tr>\n",
       "  </thead>\n",
       "  <tbody>\n",
       "    <tr>\n",
       "      <th>43</th>\n",
       "      <td>0.0</td>\n",
       "      <td>-0.301104</td>\n",
       "      <td>0.440295</td>\n",
       "      <td>1</td>\n",
       "      <td>0</td>\n",
       "      <td>139147</td>\n",
       "      <td>A</td>\n",
       "    </tr>\n",
       "    <tr>\n",
       "      <th>192</th>\n",
       "      <td>0.0</td>\n",
       "      <td>0.214094</td>\n",
       "      <td>0.021427</td>\n",
       "      <td>1</td>\n",
       "      <td>0</td>\n",
       "      <td>231</td>\n",
       "      <td>A</td>\n",
       "    </tr>\n",
       "    <tr>\n",
       "      <th>226</th>\n",
       "      <td>0.0</td>\n",
       "      <td>0.064280</td>\n",
       "      <td>1.553626</td>\n",
       "      <td>1</td>\n",
       "      <td>0</td>\n",
       "      <td>139761</td>\n",
       "      <td>A</td>\n",
       "    </tr>\n",
       "    <tr>\n",
       "      <th>235</th>\n",
       "      <td>0.0</td>\n",
       "      <td>0.633919</td>\n",
       "      <td>-1.277988</td>\n",
       "      <td>0</td>\n",
       "      <td>1</td>\n",
       "      <td>153281</td>\n",
       "      <td>A</td>\n",
       "    </tr>\n",
       "    <tr>\n",
       "      <th>285</th>\n",
       "      <td>0.0</td>\n",
       "      <td>-1.952088</td>\n",
       "      <td>1.610653</td>\n",
       "      <td>1</td>\n",
       "      <td>0</td>\n",
       "      <td>36040</td>\n",
       "      <td>A</td>\n",
       "    </tr>\n",
       "    <tr>\n",
       "      <th>...</th>\n",
       "      <td>...</td>\n",
       "      <td>...</td>\n",
       "      <td>...</td>\n",
       "      <td>...</td>\n",
       "      <td>...</td>\n",
       "      <td>...</td>\n",
       "      <td>...</td>\n",
       "    </tr>\n",
       "    <tr>\n",
       "      <th>199862</th>\n",
       "      <td>0.0</td>\n",
       "      <td>2.035899</td>\n",
       "      <td>0.452816</td>\n",
       "      <td>0</td>\n",
       "      <td>0</td>\n",
       "      <td>34064</td>\n",
       "      <td>B</td>\n",
       "    </tr>\n",
       "    <tr>\n",
       "      <th>199949</th>\n",
       "      <td>0.0</td>\n",
       "      <td>0.438721</td>\n",
       "      <td>-0.592572</td>\n",
       "      <td>1</td>\n",
       "      <td>1</td>\n",
       "      <td>99013</td>\n",
       "      <td>B</td>\n",
       "    </tr>\n",
       "    <tr>\n",
       "      <th>199970</th>\n",
       "      <td>0.0</td>\n",
       "      <td>0.868163</td>\n",
       "      <td>0.463027</td>\n",
       "      <td>0</td>\n",
       "      <td>1</td>\n",
       "      <td>53783</td>\n",
       "      <td>B</td>\n",
       "    </tr>\n",
       "    <tr>\n",
       "      <th>199991</th>\n",
       "      <td>0.0</td>\n",
       "      <td>0.383196</td>\n",
       "      <td>0.230814</td>\n",
       "      <td>0</td>\n",
       "      <td>1</td>\n",
       "      <td>199822</td>\n",
       "      <td>B</td>\n",
       "    </tr>\n",
       "    <tr>\n",
       "      <th>199996</th>\n",
       "      <td>0.0</td>\n",
       "      <td>0.565654</td>\n",
       "      <td>-2.316381</td>\n",
       "      <td>1</td>\n",
       "      <td>1</td>\n",
       "      <td>147356</td>\n",
       "      <td>B</td>\n",
       "    </tr>\n",
       "  </tbody>\n",
       "</table>\n",
       "<p>10000 rows × 7 columns</p>\n",
       "</div>"
      ],
      "text/plain": [
       "          m         a         b  l  e  object_id group\n",
       "43      0.0 -0.301104  0.440295  1  0     139147     A\n",
       "192     0.0  0.214094  0.021427  1  0        231     A\n",
       "226     0.0  0.064280  1.553626  1  0     139761     A\n",
       "235     0.0  0.633919 -1.277988  0  1     153281     A\n",
       "285     0.0 -1.952088  1.610653  1  0      36040     A\n",
       "...     ...       ...       ... .. ..        ...   ...\n",
       "199862  0.0  2.035899  0.452816  0  0      34064     B\n",
       "199949  0.0  0.438721 -0.592572  1  1      99013     B\n",
       "199970  0.0  0.868163  0.463027  0  1      53783     B\n",
       "199991  0.0  0.383196  0.230814  0  1     199822     B\n",
       "199996  0.0  0.565654 -2.316381  1  1     147356     B\n",
       "\n",
       "[10000 rows x 7 columns]"
      ]
     },
     "execution_count": 37,
     "metadata": {},
     "output_type": "execute_result"
    }
   ],
   "source": [
    "splitter.run(method='hash', groups_size=groups_size, salt='salt')"
   ]
  },
  {
   "cell_type": "markdown",
   "id": "48daaba6",
   "metadata": {},
   "source": [
    "If no salt argument is passed, a random value will be generated during the split."
   ]
  },
  {
   "cell_type": "markdown",
   "id": "9acc1466",
   "metadata": {},
   "source": [
    "**Hash splitting method is fast and convenient and is recommended to use by default.**"
   ]
  },
  {
   "cell_type": "markdown",
   "id": "13114a16",
   "metadata": {},
   "source": [
    "### Metric split"
   ]
  },
  {
   "cell_type": "markdown",
   "id": "ea95daae",
   "metadata": {},
   "source": [
    "For some tasks, it is very useful to find similar objects and distribute them into groups. For example, we can choose a random object in group A and from the general pool find the closest neighbor to it by some metric and send it to group B. This will make the groups more similar and increase the power of some statistical tests, which is especially valuable for small groups.\n",
    "\n",
    "This approach is implemented in the ``\"metric\"`` split method, we can specify a set of features using ``fit_columns`` parameter, based on which pairs of similar objects will be selected using minimization of the Euclidean distance and distributed between the groups."
   ]
  },
  {
   "cell_type": "markdown",
   "id": "325198b5",
   "metadata": {},
   "source": [
    "We will create two groups using metric split based on two features ``a`` and ``b``. Metric split requires sufficient computational resources to find nearest neighbors to set of points equal to size of one group."
   ]
  },
  {
   "cell_type": "code",
   "execution_count": 41,
   "id": "641850ec",
   "metadata": {},
   "outputs": [],
   "source": [
    "metric_split = splitter.run(method='metric', groups_size=groups_size, fit_columns=['a', 'b'])"
   ]
  },
  {
   "cell_type": "code",
   "execution_count": 42,
   "id": "0876ff3e",
   "metadata": {},
   "outputs": [
    {
     "data": {
      "text/html": [
       "<div>\n",
       "<style scoped>\n",
       "    .dataframe tbody tr th:only-of-type {\n",
       "        vertical-align: middle;\n",
       "    }\n",
       "\n",
       "    .dataframe tbody tr th {\n",
       "        vertical-align: top;\n",
       "    }\n",
       "\n",
       "    .dataframe thead th {\n",
       "        text-align: right;\n",
       "    }\n",
       "</style>\n",
       "<table border=\"1\" class=\"dataframe\">\n",
       "  <thead>\n",
       "    <tr style=\"text-align: right;\">\n",
       "      <th></th>\n",
       "      <th>m</th>\n",
       "      <th>a</th>\n",
       "      <th>b</th>\n",
       "      <th>l</th>\n",
       "      <th>e</th>\n",
       "      <th>object_id</th>\n",
       "      <th>group</th>\n",
       "    </tr>\n",
       "  </thead>\n",
       "  <tbody>\n",
       "    <tr>\n",
       "      <th>22850</th>\n",
       "      <td>0.0</td>\n",
       "      <td>0.969768</td>\n",
       "      <td>-0.705291</td>\n",
       "      <td>1</td>\n",
       "      <td>0</td>\n",
       "      <td>124320</td>\n",
       "      <td>A</td>\n",
       "    </tr>\n",
       "    <tr>\n",
       "      <th>144144</th>\n",
       "      <td>0.0</td>\n",
       "      <td>0.466991</td>\n",
       "      <td>-0.967875</td>\n",
       "      <td>0</td>\n",
       "      <td>1</td>\n",
       "      <td>173341</td>\n",
       "      <td>A</td>\n",
       "    </tr>\n",
       "    <tr>\n",
       "      <th>23853</th>\n",
       "      <td>0.0</td>\n",
       "      <td>0.780214</td>\n",
       "      <td>0.894208</td>\n",
       "      <td>0</td>\n",
       "      <td>0</td>\n",
       "      <td>63407</td>\n",
       "      <td>A</td>\n",
       "    </tr>\n",
       "    <tr>\n",
       "      <th>129993</th>\n",
       "      <td>0.0</td>\n",
       "      <td>-0.012896</td>\n",
       "      <td>-0.953599</td>\n",
       "      <td>1</td>\n",
       "      <td>1</td>\n",
       "      <td>148856</td>\n",
       "      <td>A</td>\n",
       "    </tr>\n",
       "    <tr>\n",
       "      <th>126999</th>\n",
       "      <td>0.0</td>\n",
       "      <td>0.262705</td>\n",
       "      <td>-0.126261</td>\n",
       "      <td>0</td>\n",
       "      <td>0</td>\n",
       "      <td>78810</td>\n",
       "      <td>A</td>\n",
       "    </tr>\n",
       "    <tr>\n",
       "      <th>...</th>\n",
       "      <td>...</td>\n",
       "      <td>...</td>\n",
       "      <td>...</td>\n",
       "      <td>...</td>\n",
       "      <td>...</td>\n",
       "      <td>...</td>\n",
       "      <td>...</td>\n",
       "    </tr>\n",
       "    <tr>\n",
       "      <th>149267</th>\n",
       "      <td>0.0</td>\n",
       "      <td>-1.330439</td>\n",
       "      <td>0.390575</td>\n",
       "      <td>1</td>\n",
       "      <td>0</td>\n",
       "      <td>75453</td>\n",
       "      <td>B</td>\n",
       "    </tr>\n",
       "    <tr>\n",
       "      <th>151571</th>\n",
       "      <td>0.0</td>\n",
       "      <td>-0.356644</td>\n",
       "      <td>0.794770</td>\n",
       "      <td>1</td>\n",
       "      <td>0</td>\n",
       "      <td>172434</td>\n",
       "      <td>B</td>\n",
       "    </tr>\n",
       "    <tr>\n",
       "      <th>61357</th>\n",
       "      <td>0.0</td>\n",
       "      <td>-0.026874</td>\n",
       "      <td>0.806196</td>\n",
       "      <td>0</td>\n",
       "      <td>1</td>\n",
       "      <td>172192</td>\n",
       "      <td>B</td>\n",
       "    </tr>\n",
       "    <tr>\n",
       "      <th>152968</th>\n",
       "      <td>0.0</td>\n",
       "      <td>1.023680</td>\n",
       "      <td>0.231463</td>\n",
       "      <td>0</td>\n",
       "      <td>1</td>\n",
       "      <td>194383</td>\n",
       "      <td>B</td>\n",
       "    </tr>\n",
       "    <tr>\n",
       "      <th>180181</th>\n",
       "      <td>0.0</td>\n",
       "      <td>0.908872</td>\n",
       "      <td>0.055259</td>\n",
       "      <td>1</td>\n",
       "      <td>0</td>\n",
       "      <td>59180</td>\n",
       "      <td>B</td>\n",
       "    </tr>\n",
       "  </tbody>\n",
       "</table>\n",
       "<p>10000 rows × 7 columns</p>\n",
       "</div>"
      ],
      "text/plain": [
       "          m         a         b  l  e  object_id group\n",
       "22850   0.0  0.969768 -0.705291  1  0     124320     A\n",
       "144144  0.0  0.466991 -0.967875  0  1     173341     A\n",
       "23853   0.0  0.780214  0.894208  0  0      63407     A\n",
       "129993  0.0 -0.012896 -0.953599  1  1     148856     A\n",
       "126999  0.0  0.262705 -0.126261  0  0      78810     A\n",
       "...     ...       ...       ... .. ..        ...   ...\n",
       "149267  0.0 -1.330439  0.390575  1  0      75453     B\n",
       "151571  0.0 -0.356644  0.794770  1  0     172434     B\n",
       "61357   0.0 -0.026874  0.806196  0  1     172192     B\n",
       "152968  0.0  1.023680  0.231463  0  1     194383     B\n",
       "180181  0.0  0.908872  0.055259  1  0      59180     B\n",
       "\n",
       "[10000 rows x 7 columns]"
      ]
     },
     "execution_count": 42,
     "metadata": {},
     "output_type": "execute_result"
    }
   ],
   "source": [
    "metric_split"
   ]
  },
  {
   "cell_type": "markdown",
   "id": "a7577de8",
   "metadata": {},
   "source": [
    "Currently, pairs of similar objects occupy the same positions in group slices, and that is the only way to find them if you want to inspect individually."
   ]
  },
  {
   "cell_type": "code",
   "execution_count": 47,
   "id": "d734afb2",
   "metadata": {},
   "outputs": [
    {
     "data": {
      "text/plain": [
       "m                 0.0\n",
       "a            0.969768\n",
       "b           -0.705291\n",
       "l                   1\n",
       "e                   0\n",
       "object_id      124320\n",
       "group               A\n",
       "Name: 22850, dtype: object"
      ]
     },
     "execution_count": 47,
     "metadata": {},
     "output_type": "execute_result"
    }
   ],
   "source": [
    "metric_split.query(\"group == 'A'\").iloc[0]"
   ]
  },
  {
   "cell_type": "code",
   "execution_count": 48,
   "id": "fce6a40b",
   "metadata": {},
   "outputs": [
    {
     "data": {
      "text/plain": [
       "m                 0.0\n",
       "a            0.967779\n",
       "b           -0.707851\n",
       "l                   1\n",
       "e                   0\n",
       "object_id       96793\n",
       "group               B\n",
       "Name: 24997, dtype: object"
      ]
     },
     "execution_count": 48,
     "metadata": {},
     "output_type": "execute_result"
    }
   ],
   "source": [
    "metric_split.query(\"group == 'B'\").iloc[0]"
   ]
  },
  {
   "cell_type": "markdown",
   "id": "0dde1841",
   "metadata": {},
   "source": [
    "**Note:** Metric split creates pairs (or sets in the case of multiple groups) of dependent objects between groups. This leads to the need to **use paired statistical tests**."
   ]
  },
  {
   "cell_type": "markdown",
   "id": "5be7b10c",
   "metadata": {},
   "source": [
    "## Stratification"
   ]
  },
  {
   "cell_type": "markdown",
   "id": "dc62c006",
   "metadata": {},
   "source": [
    "We can sample groups based with stratification. \n",
    "\n",
    "The stratification technique makes groups more homogeneous and similar to the general population from which these groups were sampled, as well as to reduce the dispersion of metrics in groups. This may be especially usefull in the case of small groups."
   ]
  },
  {
   "cell_type": "markdown",
   "id": "a9ce7e77",
   "metadata": {},
   "source": [
    "To demonstrate let's choose a binary column for stratification and pass it to ``strat_columns`` parameter, and see the ratios of the feature distribution in the case of stratification and without it"
   ]
  },
  {
   "cell_type": "code",
   "execution_count": 88,
   "id": "ff2a0bb4",
   "metadata": {},
   "outputs": [],
   "source": [
    "groups_size = 500"
   ]
  },
  {
   "cell_type": "code",
   "execution_count": 89,
   "id": "92c39eb6",
   "metadata": {},
   "outputs": [],
   "source": [
    "stratified_split = splitter.run(method='simple', groups_size=groups_size, strat_columns=['l'])\n",
    "non_stratified_split = splitter.run(method='simple', groups_size=groups_size)"
   ]
  },
  {
   "cell_type": "code",
   "execution_count": 90,
   "id": "ce82ecc3",
   "metadata": {},
   "outputs": [
    {
     "name": "stdout",
     "output_type": "stream",
     "text": [
      "Initial share of strata: 50.0%\n"
     ]
    }
   ],
   "source": [
    "print(f'Initial share of strata: {dataframe[\"l\"].mean() * 100:.1f}%')"
   ]
  },
  {
   "cell_type": "markdown",
   "id": "a6af9692",
   "metadata": {},
   "source": [
    "Share of strata inside the splits"
   ]
  },
  {
   "cell_type": "code",
   "execution_count": 99,
   "id": "74faa68b",
   "metadata": {},
   "outputs": [
    {
     "name": "stdout",
     "output_type": "stream",
     "text": [
      "Share of strata in groups with stratification: 49.9%\n",
      "Share of strata in groups without stratification: 51.2%\n"
     ]
    }
   ],
   "source": [
    "print(\n",
    "    f'Share of strata in groups with stratification: {stratified_split[\"l\"].mean() * 100:.1f}%'\n",
    ")\n",
    "print(\n",
    "    f'Share of strata in groups without stratification: {non_stratified_split[\"l\"].mean() * 100:.1f}%'\n",
    ")"
   ]
  },
  {
   "cell_type": "markdown",
   "id": "4126b81f",
   "metadata": {},
   "source": [
    "Share of strata inside the groups"
   ]
  },
  {
   "cell_type": "code",
   "execution_count": 100,
   "id": "53a6c493",
   "metadata": {},
   "outputs": [
    {
     "name": "stdout",
     "output_type": "stream",
     "text": [
      "Share of strata in each group with stratification\n",
      " group\n",
      "A    0.498\n",
      "B    0.500\n",
      "Name: l, dtype: float64\n",
      "\n",
      "\n",
      "Share of strata in each group without stratification\n",
      " group\n",
      "A    0.510\n",
      "B    0.514\n",
      "Name: l, dtype: float64\n"
     ]
    }
   ],
   "source": [
    "print('Share of strata in each group with stratification\\n',\n",
    "      np.round(stratified_split.groupby('group')['l'].mean(), 3))\n",
    "print('\\n\\nShare of strata in each group without stratification\\n',\n",
    "      np.round(non_stratified_split.groupby('group')['l'].mean(), 3))"
   ]
  },
  {
   "cell_type": "markdown",
   "id": "da407080",
   "metadata": {},
   "source": [
    "## Multigroup split"
   ]
  },
  {
   "cell_type": "markdown",
   "id": "3f624a04",
   "metadata": {},
   "source": [
    "Often, two experimental groups are not enough, for example, when we want to test the performance of multiple new recommender system algorithms. For that scenario one may want to make A/B/C/.. split.\n",
    "\n",
    "In *Ambrosia*, all  functions and methods above are generalized for split into several groups and the number of groups can be controlled using ``groups_number`` parameter."
   ]
  },
  {
   "cell_type": "markdown",
   "id": "5e796787",
   "metadata": {},
   "source": [
    "Let's create 3 groups using metric split"
   ]
  },
  {
   "cell_type": "code",
   "execution_count": 49,
   "id": "a7132c2d",
   "metadata": {},
   "outputs": [],
   "source": [
    "metric_multisplit = splitter.run(method='metric',\n",
    "                                 groups_size=groups_size,\n",
    "                                 fit_columns=['a', 'b'],\n",
    "                                 groups_number=3)"
   ]
  },
  {
   "cell_type": "code",
   "execution_count": 52,
   "id": "83a39541",
   "metadata": {},
   "outputs": [
    {
     "data": {
      "text/plain": [
       "m                 0.0\n",
       "a            0.207803\n",
       "b            0.446489\n",
       "l                   0\n",
       "e                   0\n",
       "object_id      141744\n",
       "group               A\n",
       "Name: 3417, dtype: object"
      ]
     },
     "execution_count": 52,
     "metadata": {},
     "output_type": "execute_result"
    }
   ],
   "source": [
    "metric_multisplit.query(\"group == 'A'\").iloc[0]"
   ]
  },
  {
   "cell_type": "code",
   "execution_count": 53,
   "id": "cf6b210c",
   "metadata": {},
   "outputs": [
    {
     "data": {
      "text/plain": [
       "m                 0.0\n",
       "a            0.203121\n",
       "b            0.442142\n",
       "l                   1\n",
       "e                   0\n",
       "object_id      115623\n",
       "group               B\n",
       "Name: 162660, dtype: object"
      ]
     },
     "execution_count": 53,
     "metadata": {},
     "output_type": "execute_result"
    }
   ],
   "source": [
    "metric_multisplit.query(\"group == 'B'\").iloc[0]"
   ]
  },
  {
   "cell_type": "code",
   "execution_count": 54,
   "id": "6f1aaaa7",
   "metadata": {},
   "outputs": [
    {
     "data": {
      "text/plain": [
       "m                 0.0\n",
       "a            0.206613\n",
       "b            0.443756\n",
       "l                   0\n",
       "e                   1\n",
       "object_id       85901\n",
       "group               C\n",
       "Name: 199756, dtype: object"
      ]
     },
     "execution_count": 54,
     "metadata": {},
     "output_type": "execute_result"
    }
   ],
   "source": [
    "metric_multisplit.query(\"group == 'C'\").iloc[0]"
   ]
  },
  {
   "cell_type": "markdown",
   "id": "b98fcfb9",
   "metadata": {},
   "source": [
    "And now create 10 groups using hash method"
   ]
  },
  {
   "cell_type": "code",
   "execution_count": 56,
   "id": "57b72bf5",
   "metadata": {},
   "outputs": [],
   "source": [
    "hash_multisplit = splitter.run(method='hash',\n",
    "                               groups_size=1000,\n",
    "                               groups_number=10)"
   ]
  },
  {
   "cell_type": "code",
   "execution_count": 57,
   "id": "ad6cb962",
   "metadata": {},
   "outputs": [
    {
     "data": {
      "text/html": [
       "<div>\n",
       "<style scoped>\n",
       "    .dataframe tbody tr th:only-of-type {\n",
       "        vertical-align: middle;\n",
       "    }\n",
       "\n",
       "    .dataframe tbody tr th {\n",
       "        vertical-align: top;\n",
       "    }\n",
       "\n",
       "    .dataframe thead th {\n",
       "        text-align: right;\n",
       "    }\n",
       "</style>\n",
       "<table border=\"1\" class=\"dataframe\">\n",
       "  <thead>\n",
       "    <tr style=\"text-align: right;\">\n",
       "      <th></th>\n",
       "      <th>m</th>\n",
       "      <th>a</th>\n",
       "      <th>b</th>\n",
       "      <th>l</th>\n",
       "      <th>e</th>\n",
       "      <th>object_id</th>\n",
       "      <th>group</th>\n",
       "    </tr>\n",
       "  </thead>\n",
       "  <tbody>\n",
       "    <tr>\n",
       "      <th>36</th>\n",
       "      <td>0.0</td>\n",
       "      <td>0.208864</td>\n",
       "      <td>0.524205</td>\n",
       "      <td>1</td>\n",
       "      <td>0</td>\n",
       "      <td>172915</td>\n",
       "      <td>A</td>\n",
       "    </tr>\n",
       "    <tr>\n",
       "      <th>208</th>\n",
       "      <td>0.0</td>\n",
       "      <td>0.515048</td>\n",
       "      <td>-0.678438</td>\n",
       "      <td>0</td>\n",
       "      <td>0</td>\n",
       "      <td>176441</td>\n",
       "      <td>A</td>\n",
       "    </tr>\n",
       "    <tr>\n",
       "      <th>250</th>\n",
       "      <td>0.0</td>\n",
       "      <td>-1.260884</td>\n",
       "      <td>2.688230</td>\n",
       "      <td>1</td>\n",
       "      <td>1</td>\n",
       "      <td>161465</td>\n",
       "      <td>A</td>\n",
       "    </tr>\n",
       "    <tr>\n",
       "      <th>443</th>\n",
       "      <td>0.0</td>\n",
       "      <td>-0.089120</td>\n",
       "      <td>-1.183396</td>\n",
       "      <td>0</td>\n",
       "      <td>0</td>\n",
       "      <td>87055</td>\n",
       "      <td>A</td>\n",
       "    </tr>\n",
       "    <tr>\n",
       "      <th>458</th>\n",
       "      <td>0.0</td>\n",
       "      <td>-0.553649</td>\n",
       "      <td>-0.360052</td>\n",
       "      <td>1</td>\n",
       "      <td>1</td>\n",
       "      <td>79178</td>\n",
       "      <td>A</td>\n",
       "    </tr>\n",
       "    <tr>\n",
       "      <th>...</th>\n",
       "      <td>...</td>\n",
       "      <td>...</td>\n",
       "      <td>...</td>\n",
       "      <td>...</td>\n",
       "      <td>...</td>\n",
       "      <td>...</td>\n",
       "      <td>...</td>\n",
       "    </tr>\n",
       "    <tr>\n",
       "      <th>199249</th>\n",
       "      <td>0.0</td>\n",
       "      <td>1.255824</td>\n",
       "      <td>-0.311677</td>\n",
       "      <td>0</td>\n",
       "      <td>1</td>\n",
       "      <td>18141</td>\n",
       "      <td>J</td>\n",
       "    </tr>\n",
       "    <tr>\n",
       "      <th>199317</th>\n",
       "      <td>0.0</td>\n",
       "      <td>0.565089</td>\n",
       "      <td>-0.397288</td>\n",
       "      <td>0</td>\n",
       "      <td>0</td>\n",
       "      <td>125400</td>\n",
       "      <td>J</td>\n",
       "    </tr>\n",
       "    <tr>\n",
       "      <th>199569</th>\n",
       "      <td>0.0</td>\n",
       "      <td>1.778133</td>\n",
       "      <td>-0.960608</td>\n",
       "      <td>1</td>\n",
       "      <td>1</td>\n",
       "      <td>121432</td>\n",
       "      <td>J</td>\n",
       "    </tr>\n",
       "    <tr>\n",
       "      <th>199702</th>\n",
       "      <td>0.0</td>\n",
       "      <td>-2.924105</td>\n",
       "      <td>1.870715</td>\n",
       "      <td>0</td>\n",
       "      <td>0</td>\n",
       "      <td>171345</td>\n",
       "      <td>J</td>\n",
       "    </tr>\n",
       "    <tr>\n",
       "      <th>199887</th>\n",
       "      <td>0.0</td>\n",
       "      <td>0.381679</td>\n",
       "      <td>-1.151327</td>\n",
       "      <td>1</td>\n",
       "      <td>0</td>\n",
       "      <td>54585</td>\n",
       "      <td>J</td>\n",
       "    </tr>\n",
       "  </tbody>\n",
       "</table>\n",
       "<p>10000 rows × 7 columns</p>\n",
       "</div>"
      ],
      "text/plain": [
       "          m         a         b  l  e  object_id group\n",
       "36      0.0  0.208864  0.524205  1  0     172915     A\n",
       "208     0.0  0.515048 -0.678438  0  0     176441     A\n",
       "250     0.0 -1.260884  2.688230  1  1     161465     A\n",
       "443     0.0 -0.089120 -1.183396  0  0      87055     A\n",
       "458     0.0 -0.553649 -0.360052  1  1      79178     A\n",
       "...     ...       ...       ... .. ..        ...   ...\n",
       "199249  0.0  1.255824 -0.311677  0  1      18141     J\n",
       "199317  0.0  0.565089 -0.397288  0  0     125400     J\n",
       "199569  0.0  1.778133 -0.960608  1  1     121432     J\n",
       "199702  0.0 -2.924105  1.870715  0  0     171345     J\n",
       "199887  0.0  0.381679 -1.151327  1  0      54585     J\n",
       "\n",
       "[10000 rows x 7 columns]"
      ]
     },
     "execution_count": 57,
     "metadata": {},
     "output_type": "execute_result"
    }
   ],
   "source": [
    "hash_multisplit"
   ]
  },
  {
   "cell_type": "code",
   "execution_count": 58,
   "id": "f79ff24c",
   "metadata": {},
   "outputs": [
    {
     "data": {
      "text/plain": [
       "A    1000\n",
       "B    1000\n",
       "C    1000\n",
       "D    1000\n",
       "E    1000\n",
       "F    1000\n",
       "G    1000\n",
       "H    1000\n",
       "I    1000\n",
       "J    1000\n",
       "Name: group, dtype: int64"
      ]
     },
     "execution_count": 58,
     "metadata": {},
     "output_type": "execute_result"
    }
   ],
   "source": [
    "hash_multisplit.group.value_counts()"
   ]
  },
  {
   "cell_type": "markdown",
   "id": "e11acd16",
   "metadata": {},
   "source": [
    "## Splitting the full table"
   ]
  },
  {
   "cell_type": "markdown",
   "id": "394cc3de",
   "metadata": {},
   "source": [
    "Sometimes there are scenarios where one need to divide an entire table into groups. At the moment, *Ambrosia* allows to split data frames into 2 groups using the ``part_of_table``.\n",
    "\n",
    "We will split passed data frame in a ratio of 1/3 (group A to B) using hash method"
   ]
  },
  {
   "cell_type": "code",
   "execution_count": 80,
   "id": "2c0c57df",
   "metadata": {},
   "outputs": [],
   "source": [
    "part_of_table = 1/3\n",
    "fractional_hash_split = splitter.run(method='hash',\n",
    "                                     part_of_table=part_of_table,\n",
    "                                     salt='fractional_split')"
   ]
  },
  {
   "cell_type": "code",
   "execution_count": 81,
   "id": "13337cf9",
   "metadata": {},
   "outputs": [
    {
     "data": {
      "text/html": [
       "<div>\n",
       "<style scoped>\n",
       "    .dataframe tbody tr th:only-of-type {\n",
       "        vertical-align: middle;\n",
       "    }\n",
       "\n",
       "    .dataframe tbody tr th {\n",
       "        vertical-align: top;\n",
       "    }\n",
       "\n",
       "    .dataframe thead th {\n",
       "        text-align: right;\n",
       "    }\n",
       "</style>\n",
       "<table border=\"1\" class=\"dataframe\">\n",
       "  <thead>\n",
       "    <tr style=\"text-align: right;\">\n",
       "      <th></th>\n",
       "      <th>m</th>\n",
       "      <th>a</th>\n",
       "      <th>b</th>\n",
       "      <th>l</th>\n",
       "      <th>e</th>\n",
       "      <th>object_id</th>\n",
       "      <th>group</th>\n",
       "    </tr>\n",
       "  </thead>\n",
       "  <tbody>\n",
       "    <tr>\n",
       "      <th>1</th>\n",
       "      <td>0.0</td>\n",
       "      <td>-0.138264</td>\n",
       "      <td>-0.094228</td>\n",
       "      <td>1</td>\n",
       "      <td>1</td>\n",
       "      <td>82374</td>\n",
       "      <td>A</td>\n",
       "    </tr>\n",
       "    <tr>\n",
       "      <th>3</th>\n",
       "      <td>0.0</td>\n",
       "      <td>1.523030</td>\n",
       "      <td>-1.388638</td>\n",
       "      <td>1</td>\n",
       "      <td>0</td>\n",
       "      <td>36327</td>\n",
       "      <td>A</td>\n",
       "    </tr>\n",
       "    <tr>\n",
       "      <th>5</th>\n",
       "      <td>0.0</td>\n",
       "      <td>-0.234137</td>\n",
       "      <td>-1.580520</td>\n",
       "      <td>1</td>\n",
       "      <td>0</td>\n",
       "      <td>63304</td>\n",
       "      <td>A</td>\n",
       "    </tr>\n",
       "    <tr>\n",
       "      <th>6</th>\n",
       "      <td>0.0</td>\n",
       "      <td>1.579213</td>\n",
       "      <td>0.587148</td>\n",
       "      <td>0</td>\n",
       "      <td>0</td>\n",
       "      <td>187546</td>\n",
       "      <td>A</td>\n",
       "    </tr>\n",
       "    <tr>\n",
       "      <th>15</th>\n",
       "      <td>0.0</td>\n",
       "      <td>-0.562288</td>\n",
       "      <td>-1.362157</td>\n",
       "      <td>1</td>\n",
       "      <td>0</td>\n",
       "      <td>133839</td>\n",
       "      <td>A</td>\n",
       "    </tr>\n",
       "    <tr>\n",
       "      <th>...</th>\n",
       "      <td>...</td>\n",
       "      <td>...</td>\n",
       "      <td>...</td>\n",
       "      <td>...</td>\n",
       "      <td>...</td>\n",
       "      <td>...</td>\n",
       "      <td>...</td>\n",
       "    </tr>\n",
       "    <tr>\n",
       "      <th>199991</th>\n",
       "      <td>0.0</td>\n",
       "      <td>0.383196</td>\n",
       "      <td>0.230814</td>\n",
       "      <td>0</td>\n",
       "      <td>1</td>\n",
       "      <td>199822</td>\n",
       "      <td>B</td>\n",
       "    </tr>\n",
       "    <tr>\n",
       "      <th>199994</th>\n",
       "      <td>0.0</td>\n",
       "      <td>-0.590488</td>\n",
       "      <td>-0.518154</td>\n",
       "      <td>1</td>\n",
       "      <td>0</td>\n",
       "      <td>12123</td>\n",
       "      <td>B</td>\n",
       "    </tr>\n",
       "    <tr>\n",
       "      <th>199996</th>\n",
       "      <td>0.0</td>\n",
       "      <td>0.565654</td>\n",
       "      <td>-2.316381</td>\n",
       "      <td>1</td>\n",
       "      <td>1</td>\n",
       "      <td>147356</td>\n",
       "      <td>B</td>\n",
       "    </tr>\n",
       "    <tr>\n",
       "      <th>199998</th>\n",
       "      <td>0.0</td>\n",
       "      <td>0.855673</td>\n",
       "      <td>0.462531</td>\n",
       "      <td>1</td>\n",
       "      <td>1</td>\n",
       "      <td>132270</td>\n",
       "      <td>B</td>\n",
       "    </tr>\n",
       "    <tr>\n",
       "      <th>199999</th>\n",
       "      <td>0.0</td>\n",
       "      <td>-1.064948</td>\n",
       "      <td>-0.137357</td>\n",
       "      <td>0</td>\n",
       "      <td>1</td>\n",
       "      <td>86886</td>\n",
       "      <td>B</td>\n",
       "    </tr>\n",
       "  </tbody>\n",
       "</table>\n",
       "<p>200000 rows × 7 columns</p>\n",
       "</div>"
      ],
      "text/plain": [
       "          m         a         b  l  e  object_id group\n",
       "1       0.0 -0.138264 -0.094228  1  1      82374     A\n",
       "3       0.0  1.523030 -1.388638  1  0      36327     A\n",
       "5       0.0 -0.234137 -1.580520  1  0      63304     A\n",
       "6       0.0  1.579213  0.587148  0  0     187546     A\n",
       "15      0.0 -0.562288 -1.362157  1  0     133839     A\n",
       "...     ...       ...       ... .. ..        ...   ...\n",
       "199991  0.0  0.383196  0.230814  0  1     199822     B\n",
       "199994  0.0 -0.590488 -0.518154  1  0      12123     B\n",
       "199996  0.0  0.565654 -2.316381  1  1     147356     B\n",
       "199998  0.0  0.855673  0.462531  1  1     132270     B\n",
       "199999  0.0 -1.064948 -0.137357  0  1      86886     B\n",
       "\n",
       "[200000 rows x 7 columns]"
      ]
     },
     "execution_count": 81,
     "metadata": {},
     "output_type": "execute_result"
    }
   ],
   "source": [
    "fractional_hash_split"
   ]
  },
  {
   "cell_type": "code",
   "execution_count": 82,
   "id": "b5208afa",
   "metadata": {},
   "outputs": [
    {
     "data": {
      "text/plain": [
       "B    0.666665\n",
       "A    0.333335\n",
       "Name: group, dtype: float64"
      ]
     },
     "execution_count": 82,
     "metadata": {},
     "output_type": "execute_result"
    }
   ],
   "source": [
    "fractional_hash_split.group.value_counts(normalize=True)"
   ]
  },
  {
   "cell_type": "markdown",
   "id": "1a991b1e",
   "metadata": {},
   "source": [
    "## Selection of an existing group for a test group"
   ]
  },
  {
   "cell_type": "markdown",
   "id": "2c3cc967",
   "metadata": {},
   "source": [
    "Another type of scenario that sometimes occurs in A/B testing tasks, is a problem of post-generation of a control group from the total available pool of objects that were not affected by the treatment.\n",
    "\n",
    "Although you have to be quite careful in post-analysis of experiments and in post-generation of samples, *Ambrosia* allows to create control group to the existing test using all methods above.\n",
    "\n",
    "To do this, it is enough to pass a list of identifiers from the test group to ``test_group_ids`` parameter."
   ]
  },
  {
   "cell_type": "code",
   "execution_count": 59,
   "id": "7536c586",
   "metadata": {},
   "outputs": [],
   "source": [
    "np.random.seed(42)\n",
    "group_size = 10000\n",
    "test_ids = np.random.choice(dataframe.object_id, size=group_size, replace=False)"
   ]
  },
  {
   "cell_type": "code",
   "execution_count": 60,
   "id": "b2dac7c5",
   "metadata": {},
   "outputs": [],
   "source": [
    "post_hash_split = splitter.run(method='hash',\n",
    "                               groups_size=groups_size,\n",
    "                               test_group_ids=test_ids,\n",
    "                               salt='post-split')"
   ]
  },
  {
   "cell_type": "code",
   "execution_count": 71,
   "id": "1ea1539e",
   "metadata": {},
   "outputs": [
    {
     "data": {
      "text/html": [
       "<div>\n",
       "<style scoped>\n",
       "    .dataframe tbody tr th:only-of-type {\n",
       "        vertical-align: middle;\n",
       "    }\n",
       "\n",
       "    .dataframe tbody tr th {\n",
       "        vertical-align: top;\n",
       "    }\n",
       "\n",
       "    .dataframe thead th {\n",
       "        text-align: right;\n",
       "    }\n",
       "</style>\n",
       "<table border=\"1\" class=\"dataframe\">\n",
       "  <thead>\n",
       "    <tr style=\"text-align: right;\">\n",
       "      <th></th>\n",
       "      <th>m</th>\n",
       "      <th>a</th>\n",
       "      <th>b</th>\n",
       "      <th>l</th>\n",
       "      <th>e</th>\n",
       "      <th>object_id</th>\n",
       "      <th>group</th>\n",
       "    </tr>\n",
       "  </thead>\n",
       "  <tbody>\n",
       "    <tr>\n",
       "      <th>24</th>\n",
       "      <td>0.0</td>\n",
       "      <td>-0.544383</td>\n",
       "      <td>0.242347</td>\n",
       "      <td>0</td>\n",
       "      <td>0</td>\n",
       "      <td>37916</td>\n",
       "      <td>A</td>\n",
       "    </tr>\n",
       "    <tr>\n",
       "      <th>94</th>\n",
       "      <td>0.0</td>\n",
       "      <td>-0.392108</td>\n",
       "      <td>0.026810</td>\n",
       "      <td>1</td>\n",
       "      <td>0</td>\n",
       "      <td>12345</td>\n",
       "      <td>A</td>\n",
       "    </tr>\n",
       "    <tr>\n",
       "      <th>136</th>\n",
       "      <td>0.0</td>\n",
       "      <td>-0.783253</td>\n",
       "      <td>-1.911507</td>\n",
       "      <td>0</td>\n",
       "      <td>0</td>\n",
       "      <td>94132</td>\n",
       "      <td>A</td>\n",
       "    </tr>\n",
       "    <tr>\n",
       "      <th>152</th>\n",
       "      <td>0.0</td>\n",
       "      <td>-0.680025</td>\n",
       "      <td>-0.649503</td>\n",
       "      <td>1</td>\n",
       "      <td>0</td>\n",
       "      <td>87931</td>\n",
       "      <td>A</td>\n",
       "    </tr>\n",
       "    <tr>\n",
       "      <th>155</th>\n",
       "      <td>0.0</td>\n",
       "      <td>-0.714351</td>\n",
       "      <td>0.266708</td>\n",
       "      <td>1</td>\n",
       "      <td>1</td>\n",
       "      <td>122498</td>\n",
       "      <td>A</td>\n",
       "    </tr>\n",
       "    <tr>\n",
       "      <th>...</th>\n",
       "      <td>...</td>\n",
       "      <td>...</td>\n",
       "      <td>...</td>\n",
       "      <td>...</td>\n",
       "      <td>...</td>\n",
       "      <td>...</td>\n",
       "      <td>...</td>\n",
       "    </tr>\n",
       "    <tr>\n",
       "      <th>199945</th>\n",
       "      <td>0.0</td>\n",
       "      <td>2.866851</td>\n",
       "      <td>-0.048362</td>\n",
       "      <td>1</td>\n",
       "      <td>0</td>\n",
       "      <td>146867</td>\n",
       "      <td>B</td>\n",
       "    </tr>\n",
       "    <tr>\n",
       "      <th>199963</th>\n",
       "      <td>0.0</td>\n",
       "      <td>-0.935605</td>\n",
       "      <td>0.169802</td>\n",
       "      <td>1</td>\n",
       "      <td>1</td>\n",
       "      <td>116839</td>\n",
       "      <td>B</td>\n",
       "    </tr>\n",
       "    <tr>\n",
       "      <th>199976</th>\n",
       "      <td>0.0</td>\n",
       "      <td>-0.811208</td>\n",
       "      <td>-0.931313</td>\n",
       "      <td>0</td>\n",
       "      <td>0</td>\n",
       "      <td>18652</td>\n",
       "      <td>B</td>\n",
       "    </tr>\n",
       "    <tr>\n",
       "      <th>199977</th>\n",
       "      <td>0.0</td>\n",
       "      <td>0.547009</td>\n",
       "      <td>0.330221</td>\n",
       "      <td>0</td>\n",
       "      <td>0</td>\n",
       "      <td>180593</td>\n",
       "      <td>B</td>\n",
       "    </tr>\n",
       "    <tr>\n",
       "      <th>199997</th>\n",
       "      <td>0.0</td>\n",
       "      <td>0.160020</td>\n",
       "      <td>0.831556</td>\n",
       "      <td>1</td>\n",
       "      <td>1</td>\n",
       "      <td>12296</td>\n",
       "      <td>B</td>\n",
       "    </tr>\n",
       "  </tbody>\n",
       "</table>\n",
       "<p>20000 rows × 7 columns</p>\n",
       "</div>"
      ],
      "text/plain": [
       "          m         a         b  l  e  object_id group\n",
       "24      0.0 -0.544383  0.242347  0  0      37916     A\n",
       "94      0.0 -0.392108  0.026810  1  0      12345     A\n",
       "136     0.0 -0.783253 -1.911507  0  0      94132     A\n",
       "152     0.0 -0.680025 -0.649503  1  0      87931     A\n",
       "155     0.0 -0.714351  0.266708  1  1     122498     A\n",
       "...     ...       ...       ... .. ..        ...   ...\n",
       "199945  0.0  2.866851 -0.048362  1  0     146867     B\n",
       "199963  0.0 -0.935605  0.169802  1  1     116839     B\n",
       "199976  0.0 -0.811208 -0.931313  0  0      18652     B\n",
       "199977  0.0  0.547009  0.330221  0  0     180593     B\n",
       "199997  0.0  0.160020  0.831556  1  1      12296     B\n",
       "\n",
       "[20000 rows x 7 columns]"
      ]
     },
     "execution_count": 71,
     "metadata": {},
     "output_type": "execute_result"
    }
   ],
   "source": [
    "post_hash_split"
   ]
  },
  {
   "cell_type": "markdown",
   "id": "4ce6c2d4",
   "metadata": {},
   "source": [
    "Check that all objects with test ids are in group B and not in A"
   ]
  },
  {
   "cell_type": "code",
   "execution_count": 69,
   "id": "7dcaa774",
   "metadata": {},
   "outputs": [
    {
     "data": {
      "text/plain": [
       "0"
      ]
     },
     "execution_count": 69,
     "metadata": {},
     "output_type": "execute_result"
    }
   ],
   "source": [
    "np.isin(test_ids, post_hash_split.query(\"group == 'A'\").object_id).sum()"
   ]
  },
  {
   "cell_type": "code",
   "execution_count": 70,
   "id": "1fb3d52e",
   "metadata": {},
   "outputs": [
    {
     "data": {
      "text/plain": [
       "10000"
      ]
     },
     "execution_count": 70,
     "metadata": {},
     "output_type": "execute_result"
    }
   ],
   "source": [
    "np.isin(test_ids, post_hash_split.query(\"group == 'B'\").object_id).sum()"
   ]
  },
  {
   "cell_type": "markdown",
   "id": "f762b617",
   "metadata": {},
   "source": [
    "---"
   ]
  },
  {
   "cell_type": "markdown",
   "id": "c47318c2",
   "metadata": {},
   "source": [
    "## Learn more"
   ]
  },
  {
   "cell_type": "markdown",
   "id": "7a80d9e4",
   "metadata": {},
   "source": [
    "There is some more information about groups split using *Ambrosia*\n",
    "\n",
    "Check:\n",
    "- An example of splitting groups from a Spark DataFrame (currently has a slightly reduced functionality)"
   ]
  }
 ],
 "metadata": {
  "kernelspec": {
   "display_name": "Python 3 (ipykernel)",
   "language": "python",
   "name": "python3"
  },
  "language_info": {
   "codemirror_mode": {
    "name": "ipython",
    "version": 3
   },
   "file_extension": ".py",
   "mimetype": "text/x-python",
   "name": "python",
   "nbconvert_exporter": "python",
   "pygments_lexer": "ipython3",
   "version": "3.9.16"
  },
  "varInspector": {
   "cols": {
    "lenName": 16,
    "lenType": 16,
    "lenVar": 40
   },
   "kernels_config": {
    "python": {
     "delete_cmd_postfix": "",
     "delete_cmd_prefix": "del ",
     "library": "var_list.py",
     "varRefreshCmd": "print(var_dic_list())"
    },
    "r": {
     "delete_cmd_postfix": ") ",
     "delete_cmd_prefix": "rm(",
     "library": "var_list.r",
     "varRefreshCmd": "cat(var_dic_list()) "
    }
   },
   "types_to_exclude": [
    "module",
    "function",
    "builtin_function_or_method",
    "instance",
    "_Feature"
   ],
   "window_display": false
  }
 },
 "nbformat": 4,
 "nbformat_minor": 5
}
