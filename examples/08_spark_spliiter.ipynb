{
 "cells": [
  {
   "cell_type": "markdown",
   "id": "1e2187de",
   "metadata": {},
   "source": [
    "# Example of *Ambrosia* ``Splitter`` class Spark data support"
   ]
  },
  {
   "cell_type": "markdown",
   "id": "9049b480",
   "metadata": {},
   "source": [
    "This example shows the functionality of the ``Splitter`` class on Spark DataFrames. Synthetic data on MTS KION users metrics will be used."
   ]
  },
  {
   "cell_type": "markdown",
   "id": "2eb52bc8",
   "metadata": {},
   "source": [
    "The functionality of the ``Designer`` class on Spark data currently is limited compared to the pandas format. \\\n",
    "See the main ``Splitter`` tutorial on pandas data to learn the full functionality and details of splitting experimental objects into groups."
   ]
  },
  {
   "cell_type": "markdown",
   "id": "4fdc328b",
   "metadata": {},
   "source": [
    "**Note:** *Ambrosia* now supports only batch spliiting. Real-time splitting tools are under development."
   ]
  },
  {
   "cell_type": "code",
   "execution_count": 4,
   "id": "f6765353",
   "metadata": {},
   "outputs": [],
   "source": [
    "import sys, os\n",
    "sys.path.insert(1, os.path.realpath(os.path.pardir))"
   ]
  },
  {
   "cell_type": "code",
   "execution_count": 17,
   "id": "07a33265",
   "metadata": {},
   "outputs": [
    {
     "name": "stderr",
     "output_type": "stream",
     "text": [
      "Your CPU supports instructions that this binary was not compiled to use: AVX2\n",
      "For maximum performance, you can install NMSLIB from sources \n",
      "pip install --no-binary :all: nmslib\n"
     ]
    }
   ],
   "source": [
    "import os\n",
    "\n",
    "import pandas as pd\n",
    "import pyspark\n",
    "\n",
    "from ambrosia.splitter import Splitter"
   ]
  },
  {
   "cell_type": "markdown",
   "id": "7f27f46b",
   "metadata": {},
   "source": [
    "Build local spark session"
   ]
  },
  {
   "cell_type": "code",
   "execution_count": 6,
   "id": "25453be2",
   "metadata": {},
   "outputs": [
    {
     "name": "stderr",
     "output_type": "stream",
     "text": [
      "Setting default log level to \"WARN\".\n",
      "To adjust logging level use sc.setLogLevel(newLevel). For SparkR, use setLogLevel(newLevel).\n"
     ]
    },
    {
     "name": "stdout",
     "output_type": "stream",
     "text": [
      "23/03/03 18:21:49 WARN NativeCodeLoader: Unable to load native-hadoop library for your platform... using builtin-java classes where applicable\n",
      "23/03/03 18:21:50 WARN Utils: Service 'SparkUI' could not bind on port 4040. Attempting port 4041.\n"
     ]
    }
   ],
   "source": [
    "os.environ['SPARK_LOCAL_IP'] = '127.0.0.1'\n",
    "spark = pyspark.sql.SparkSession.builder.master(\"local[1]\").getOrCreate()"
   ]
  },
  {
   "cell_type": "markdown",
   "id": "b26defd2",
   "metadata": {},
   "source": [
    "Create Spark DataFrame"
   ]
  },
  {
   "cell_type": "code",
   "execution_count": 16,
   "id": "50214f7f",
   "metadata": {},
   "outputs": [],
   "source": [
    "kion_dataset = pd.read_csv(\"./../tests/test_data/kion_data.csv\", sep=';')\n",
    "sdf = spark.createDataFrame(kion_dataset)"
   ]
  },
  {
   "cell_type": "code",
   "execution_count": 18,
   "id": "6cb2d459",
   "metadata": {},
   "outputs": [
    {
     "data": {
      "text/plain": [
       "(300000, 5)"
      ]
     },
     "execution_count": 18,
     "metadata": {},
     "output_type": "execute_result"
    }
   ],
   "source": [
    "kion_dataset.shape"
   ]
  },
  {
   "cell_type": "code",
   "execution_count": 19,
   "id": "6424b1ee",
   "metadata": {},
   "outputs": [
    {
     "name": "stdout",
     "output_type": "stream",
     "text": [
      "root\n",
      " |-- profile_id: long (nullable = true)\n",
      " |-- sum_dur: long (nullable = true)\n",
      " |-- vod_cnt: long (nullable = true)\n",
      " |-- ln_vod_cnt: double (nullable = true)\n",
      " |-- bin_col: long (nullable = true)\n",
      "\n"
     ]
    }
   ],
   "source": [
    "sdf.printSchema()"
   ]
  },
  {
   "cell_type": "markdown",
   "id": "1549bff5",
   "metadata": {},
   "source": [
    "### Spark hash group split"
   ]
  },
  {
   "cell_type": "markdown",
   "id": "e76b1fa8",
   "metadata": {},
   "source": [
    "Unlike pandas data, only the ``\"hash'`` method is implemented for spark. \\\n",
    "This method allows to deterministically create groups using the ``salt`` parameter."
   ]
  },
  {
   "cell_type": "markdown",
   "id": "6e3627dd",
   "metadata": {},
   "source": [
    "Set data and name of column with unique object ids"
   ]
  },
  {
   "cell_type": "code",
   "execution_count": 23,
   "id": "e5ce94c7",
   "metadata": {},
   "outputs": [],
   "source": [
    "splitter = Splitter(dataframe=sdf, id_column='profile_id')"
   ]
  },
  {
   "cell_type": "markdown",
   "id": "96955b44",
   "metadata": {},
   "source": [
    "Make hash split on 2 groups with specified salt value"
   ]
  },
  {
   "cell_type": "code",
   "execution_count": 28,
   "id": "5545a094",
   "metadata": {},
   "outputs": [
    {
     "name": "stdout",
     "output_type": "stream",
     "text": [
      "23/03/03 18:32:40 WARN TaskSetManager: Stage 47 contains a task of very large size (8236 KiB). The maximum recommended task size is 1000 KiB.\n",
      "23/03/03 18:32:40 WARN TaskSetManager: Stage 50 contains a task of very large size (8236 KiB). The maximum recommended task size is 1000 KiB.\n",
      "23/03/03 18:32:41 WARN TaskSetManager: Stage 56 contains a task of very large size (8236 KiB). The maximum recommended task size is 1000 KiB.\n",
      "23/03/03 18:32:41 WARN TaskSetManager: Stage 59 contains a task of very large size (8236 KiB). The maximum recommended task size is 1000 KiB.\n"
     ]
    }
   ],
   "source": [
    "hash_split = splitter.run(groups_size=1000, method='hash', salt='spark322')"
   ]
  },
  {
   "cell_type": "code",
   "execution_count": 27,
   "id": "f6f6b002",
   "metadata": {},
   "outputs": [
    {
     "name": "stdout",
     "output_type": "stream",
     "text": [
      "23/03/03 18:32:31 WARN TaskSetManager: Stage 46 contains a task of very large size (8237 KiB). The maximum recommended task size is 1000 KiB.\n"
     ]
    },
    {
     "name": "stderr",
     "output_type": "stream",
     "text": [
      "                                                                                \r"
     ]
    },
    {
     "data": {
      "text/html": [
       "<div>\n",
       "<style scoped>\n",
       "    .dataframe tbody tr th:only-of-type {\n",
       "        vertical-align: middle;\n",
       "    }\n",
       "\n",
       "    .dataframe tbody tr th {\n",
       "        vertical-align: top;\n",
       "    }\n",
       "\n",
       "    .dataframe thead th {\n",
       "        text-align: right;\n",
       "    }\n",
       "</style>\n",
       "<table border=\"1\" class=\"dataframe\">\n",
       "  <thead>\n",
       "    <tr style=\"text-align: right;\">\n",
       "      <th></th>\n",
       "      <th>profile_id</th>\n",
       "      <th>sum_dur</th>\n",
       "      <th>vod_cnt</th>\n",
       "      <th>ln_vod_cnt</th>\n",
       "      <th>bin_col</th>\n",
       "      <th>group</th>\n",
       "    </tr>\n",
       "  </thead>\n",
       "  <tbody>\n",
       "    <tr>\n",
       "      <th>0</th>\n",
       "      <td>559783878399</td>\n",
       "      <td>16243096</td>\n",
       "      <td>26</td>\n",
       "      <td>3.451662</td>\n",
       "      <td>1</td>\n",
       "      <td>A</td>\n",
       "    </tr>\n",
       "    <tr>\n",
       "      <th>1</th>\n",
       "      <td>807427182946</td>\n",
       "      <td>55078</td>\n",
       "      <td>3</td>\n",
       "      <td>0.909034</td>\n",
       "      <td>0</td>\n",
       "      <td>A</td>\n",
       "    </tr>\n",
       "    <tr>\n",
       "      <th>2</th>\n",
       "      <td>845784297949</td>\n",
       "      <td>31545</td>\n",
       "      <td>1</td>\n",
       "      <td>0.000000</td>\n",
       "      <td>0</td>\n",
       "      <td>A</td>\n",
       "    </tr>\n",
       "    <tr>\n",
       "      <th>3</th>\n",
       "      <td>41350284663</td>\n",
       "      <td>1878050</td>\n",
       "      <td>10</td>\n",
       "      <td>2.894374</td>\n",
       "      <td>0</td>\n",
       "      <td>A</td>\n",
       "    </tr>\n",
       "    <tr>\n",
       "      <th>4</th>\n",
       "      <td>5082903657</td>\n",
       "      <td>584191</td>\n",
       "      <td>1</td>\n",
       "      <td>0.475820</td>\n",
       "      <td>0</td>\n",
       "      <td>A</td>\n",
       "    </tr>\n",
       "    <tr>\n",
       "      <th>...</th>\n",
       "      <td>...</td>\n",
       "      <td>...</td>\n",
       "      <td>...</td>\n",
       "      <td>...</td>\n",
       "      <td>...</td>\n",
       "      <td>...</td>\n",
       "    </tr>\n",
       "    <tr>\n",
       "      <th>1995</th>\n",
       "      <td>449871171656</td>\n",
       "      <td>5890763</td>\n",
       "      <td>29</td>\n",
       "      <td>3.699892</td>\n",
       "      <td>1</td>\n",
       "      <td>B</td>\n",
       "    </tr>\n",
       "    <tr>\n",
       "      <th>1996</th>\n",
       "      <td>25374705733</td>\n",
       "      <td>3964937</td>\n",
       "      <td>51</td>\n",
       "      <td>4.053246</td>\n",
       "      <td>1</td>\n",
       "      <td>B</td>\n",
       "    </tr>\n",
       "    <tr>\n",
       "      <th>1997</th>\n",
       "      <td>368955636652</td>\n",
       "      <td>27693</td>\n",
       "      <td>1</td>\n",
       "      <td>0.000000</td>\n",
       "      <td>0</td>\n",
       "      <td>B</td>\n",
       "    </tr>\n",
       "    <tr>\n",
       "      <th>1998</th>\n",
       "      <td>674408525538</td>\n",
       "      <td>7284</td>\n",
       "      <td>1</td>\n",
       "      <td>0.000000</td>\n",
       "      <td>0</td>\n",
       "      <td>B</td>\n",
       "    </tr>\n",
       "    <tr>\n",
       "      <th>1999</th>\n",
       "      <td>942809058983</td>\n",
       "      <td>8173296</td>\n",
       "      <td>43</td>\n",
       "      <td>4.002533</td>\n",
       "      <td>1</td>\n",
       "      <td>B</td>\n",
       "    </tr>\n",
       "  </tbody>\n",
       "</table>\n",
       "<p>2000 rows × 6 columns</p>\n",
       "</div>"
      ],
      "text/plain": [
       "        profile_id   sum_dur  vod_cnt  ln_vod_cnt  bin_col group\n",
       "0     559783878399  16243096       26    3.451662        1     A\n",
       "1     807427182946     55078        3    0.909034        0     A\n",
       "2     845784297949     31545        1    0.000000        0     A\n",
       "3      41350284663   1878050       10    2.894374        0     A\n",
       "4       5082903657    584191        1    0.475820        0     A\n",
       "...            ...       ...      ...         ...      ...   ...\n",
       "1995  449871171656   5890763       29    3.699892        1     B\n",
       "1996   25374705733   3964937       51    4.053246        1     B\n",
       "1997  368955636652     27693        1    0.000000        0     B\n",
       "1998  674408525538      7284        1    0.000000        0     B\n",
       "1999  942809058983   8173296       43    4.002533        1     B\n",
       "\n",
       "[2000 rows x 6 columns]"
      ]
     },
     "execution_count": 27,
     "metadata": {},
     "output_type": "execute_result"
    }
   ],
   "source": [
    "hash_split.toPandas()"
   ]
  },
  {
   "cell_type": "markdown",
   "id": "87ed6afa",
   "metadata": {},
   "source": [
    "Now make 5 different groups each of 1000 objects"
   ]
  },
  {
   "cell_type": "code",
   "execution_count": 34,
   "id": "837758f4",
   "metadata": {},
   "outputs": [
    {
     "name": "stdout",
     "output_type": "stream",
     "text": [
      "23/03/03 18:41:16 WARN TaskSetManager: Stage 64 contains a task of very large size (8236 KiB). The maximum recommended task size is 1000 KiB.\n",
      "23/03/03 18:41:17 WARN TaskSetManager: Stage 67 contains a task of very large size (8236 KiB). The maximum recommended task size is 1000 KiB.\n",
      "23/03/03 18:41:17 WARN TaskSetManager: Stage 73 contains a task of very large size (8236 KiB). The maximum recommended task size is 1000 KiB.\n",
      "23/03/03 18:41:18 WARN TaskSetManager: Stage 76 contains a task of very large size (8236 KiB). The maximum recommended task size is 1000 KiB.\n"
     ]
    }
   ],
   "source": [
    "hash_split_multi = splitter.run(groups_size=1000, groups_number=5, method='hash', salt='spark322')"
   ]
  },
  {
   "cell_type": "code",
   "execution_count": 56,
   "id": "46bc7049",
   "metadata": {},
   "outputs": [
    {
     "name": "stdout",
     "output_type": "stream",
     "text": [
      "23/03/03 19:24:49 WARN TaskSetManager: Stage 132 contains a task of very large size (8237 KiB). The maximum recommended task size is 1000 KiB.\n"
     ]
    }
   ],
   "source": [
    "res0= hash_split_multi.toPandas()"
   ]
  },
  {
   "cell_type": "code",
   "execution_count": 57,
   "id": "20b80534",
   "metadata": {},
   "outputs": [
    {
     "data": {
      "text/html": [
       "<div>\n",
       "<style scoped>\n",
       "    .dataframe tbody tr th:only-of-type {\n",
       "        vertical-align: middle;\n",
       "    }\n",
       "\n",
       "    .dataframe tbody tr th {\n",
       "        vertical-align: top;\n",
       "    }\n",
       "\n",
       "    .dataframe thead th {\n",
       "        text-align: right;\n",
       "    }\n",
       "</style>\n",
       "<table border=\"1\" class=\"dataframe\">\n",
       "  <thead>\n",
       "    <tr style=\"text-align: right;\">\n",
       "      <th></th>\n",
       "      <th></th>\n",
       "      <th>bin_col</th>\n",
       "    </tr>\n",
       "    <tr>\n",
       "      <th>group</th>\n",
       "      <th>bin_col</th>\n",
       "      <th></th>\n",
       "    </tr>\n",
       "  </thead>\n",
       "  <tbody>\n",
       "    <tr>\n",
       "      <th rowspan=\"2\" valign=\"top\">A</th>\n",
       "      <th>0</th>\n",
       "      <td>0.615</td>\n",
       "    </tr>\n",
       "    <tr>\n",
       "      <th>1</th>\n",
       "      <td>0.385</td>\n",
       "    </tr>\n",
       "    <tr>\n",
       "      <th rowspan=\"2\" valign=\"top\">B</th>\n",
       "      <th>0</th>\n",
       "      <td>0.593</td>\n",
       "    </tr>\n",
       "    <tr>\n",
       "      <th>1</th>\n",
       "      <td>0.407</td>\n",
       "    </tr>\n",
       "    <tr>\n",
       "      <th rowspan=\"2\" valign=\"top\">C</th>\n",
       "      <th>0</th>\n",
       "      <td>0.598</td>\n",
       "    </tr>\n",
       "    <tr>\n",
       "      <th>1</th>\n",
       "      <td>0.402</td>\n",
       "    </tr>\n",
       "    <tr>\n",
       "      <th rowspan=\"2\" valign=\"top\">D</th>\n",
       "      <th>0</th>\n",
       "      <td>0.611</td>\n",
       "    </tr>\n",
       "    <tr>\n",
       "      <th>1</th>\n",
       "      <td>0.389</td>\n",
       "    </tr>\n",
       "    <tr>\n",
       "      <th rowspan=\"2\" valign=\"top\">E</th>\n",
       "      <th>0</th>\n",
       "      <td>0.611</td>\n",
       "    </tr>\n",
       "    <tr>\n",
       "      <th>1</th>\n",
       "      <td>0.389</td>\n",
       "    </tr>\n",
       "  </tbody>\n",
       "</table>\n",
       "</div>"
      ],
      "text/plain": [
       "               bin_col\n",
       "group bin_col         \n",
       "A     0          0.615\n",
       "      1          0.385\n",
       "B     0          0.593\n",
       "      1          0.407\n",
       "C     0          0.598\n",
       "      1          0.402\n",
       "D     0          0.611\n",
       "      1          0.389\n",
       "E     0          0.611\n",
       "      1          0.389"
      ]
     },
     "execution_count": 57,
     "metadata": {},
     "output_type": "execute_result"
    }
   ],
   "source": [
    "res0.groupby('group').agg({\"bin_col\": \"value_counts\"}) / 1000"
   ]
  },
  {
   "cell_type": "code",
   "execution_count": 36,
   "id": "d445efa8",
   "metadata": {},
   "outputs": [
    {
     "name": "stdout",
     "output_type": "stream",
     "text": [
      "23/03/03 18:49:09 WARN TaskSetManager: Stage 81 contains a task of very large size (8236 KiB). The maximum recommended task size is 1000 KiB.\n",
      "23/03/03 18:49:10 WARN TaskSetManager: Stage 84 contains a task of very large size (8236 KiB). The maximum recommended task size is 1000 KiB.\n",
      "23/03/03 18:49:10 WARN TaskSetManager: Stage 90 contains a task of very large size (8236 KiB). The maximum recommended task size is 1000 KiB.\n",
      "23/03/03 18:49:11 WARN TaskSetManager: Stage 96 contains a task of very large size (8236 KiB). The maximum recommended task size is 1000 KiB.\n",
      "23/03/03 18:49:11 WARN TaskSetManager: Stage 102 contains a task of very large size (8236 KiB). The maximum recommended task size is 1000 KiB.\n",
      "23/03/03 18:49:12 WARN TaskSetManager: Stage 108 contains a task of very large size (8236 KiB). The maximum recommended task size is 1000 KiB.\n",
      "23/03/03 18:49:12 WARN TaskSetManager: Stage 114 contains a task of very large size (8236 KiB). The maximum recommended task size is 1000 KiB.\n"
     ]
    }
   ],
   "source": [
    "strat_hash_split_multi = splitter.run(groups_size=1000, strat_columns=['bin_col'], groups_number=5, method='hash', salt='spark322')"
   ]
  },
  {
   "cell_type": "code",
   "execution_count": 39,
   "id": "3fbcba75",
   "metadata": {},
   "outputs": [
    {
     "name": "stderr",
     "output_type": "stream",
     "text": [
      "\r",
      "[Stage 130:===================>                                     (1 + 1) / 3]\r",
      "\r",
      "                                                                                \r"
     ]
    }
   ],
   "source": [
    "res = strat_hash_split_multi.toPandas()"
   ]
  },
  {
   "cell_type": "code",
   "execution_count": 55,
   "id": "c95c82fd",
   "metadata": {},
   "outputs": [
    {
     "data": {
      "text/html": [
       "<div>\n",
       "<style scoped>\n",
       "    .dataframe tbody tr th:only-of-type {\n",
       "        vertical-align: middle;\n",
       "    }\n",
       "\n",
       "    .dataframe tbody tr th {\n",
       "        vertical-align: top;\n",
       "    }\n",
       "\n",
       "    .dataframe thead th {\n",
       "        text-align: right;\n",
       "    }\n",
       "</style>\n",
       "<table border=\"1\" class=\"dataframe\">\n",
       "  <thead>\n",
       "    <tr style=\"text-align: right;\">\n",
       "      <th></th>\n",
       "      <th></th>\n",
       "      <th>bin_col</th>\n",
       "    </tr>\n",
       "    <tr>\n",
       "      <th>group</th>\n",
       "      <th>bin_col</th>\n",
       "      <th></th>\n",
       "    </tr>\n",
       "  </thead>\n",
       "  <tbody>\n",
       "    <tr>\n",
       "      <th rowspan=\"2\" valign=\"top\">A</th>\n",
       "      <th>0</th>\n",
       "      <td>0.609</td>\n",
       "    </tr>\n",
       "    <tr>\n",
       "      <th>1</th>\n",
       "      <td>0.391</td>\n",
       "    </tr>\n",
       "    <tr>\n",
       "      <th rowspan=\"2\" valign=\"top\">B</th>\n",
       "      <th>0</th>\n",
       "      <td>0.609</td>\n",
       "    </tr>\n",
       "    <tr>\n",
       "      <th>1</th>\n",
       "      <td>0.391</td>\n",
       "    </tr>\n",
       "    <tr>\n",
       "      <th rowspan=\"2\" valign=\"top\">C</th>\n",
       "      <th>0</th>\n",
       "      <td>0.609</td>\n",
       "    </tr>\n",
       "    <tr>\n",
       "      <th>1</th>\n",
       "      <td>0.391</td>\n",
       "    </tr>\n",
       "    <tr>\n",
       "      <th rowspan=\"2\" valign=\"top\">D</th>\n",
       "      <th>0</th>\n",
       "      <td>0.609</td>\n",
       "    </tr>\n",
       "    <tr>\n",
       "      <th>1</th>\n",
       "      <td>0.391</td>\n",
       "    </tr>\n",
       "    <tr>\n",
       "      <th rowspan=\"2\" valign=\"top\">E</th>\n",
       "      <th>0</th>\n",
       "      <td>0.609</td>\n",
       "    </tr>\n",
       "    <tr>\n",
       "      <th>1</th>\n",
       "      <td>0.391</td>\n",
       "    </tr>\n",
       "  </tbody>\n",
       "</table>\n",
       "</div>"
      ],
      "text/plain": [
       "               bin_col\n",
       "group bin_col         \n",
       "A     0          0.609\n",
       "      1          0.391\n",
       "B     0          0.609\n",
       "      1          0.391\n",
       "C     0          0.609\n",
       "      1          0.391\n",
       "D     0          0.609\n",
       "      1          0.391\n",
       "E     0          0.609\n",
       "      1          0.391"
      ]
     },
     "execution_count": 55,
     "metadata": {},
     "output_type": "execute_result"
    }
   ],
   "source": [
    "res.groupby('group').agg({\"bin_col\": \"value_counts\"}) / 1000"
   ]
  },
  {
   "cell_type": "code",
   "execution_count": 43,
   "id": "06c35246",
   "metadata": {},
   "outputs": [
    {
     "data": {
      "text/plain": [
       "A    1000\n",
       "B    1000\n",
       "C    1000\n",
       "D    1000\n",
       "E    1000\n",
       "Name: group, dtype: int64"
      ]
     },
     "execution_count": 43,
     "metadata": {},
     "output_type": "execute_result"
    }
   ],
   "source": [
    "res.group.value_counts()"
   ]
  }
 ],
 "metadata": {
  "kernelspec": {
   "display_name": "Python 3 (ipykernel)",
   "language": "python",
   "name": "python3"
  },
  "language_info": {
   "codemirror_mode": {
    "name": "ipython",
    "version": 3
   },
   "file_extension": ".py",
   "mimetype": "text/x-python",
   "name": "python",
   "nbconvert_exporter": "python",
   "pygments_lexer": "ipython3",
   "version": "3.9.16"
  },
  "varInspector": {
   "cols": {
    "lenName": 16,
    "lenType": 16,
    "lenVar": 40
   },
   "kernels_config": {
    "python": {
     "delete_cmd_postfix": "",
     "delete_cmd_prefix": "del ",
     "library": "var_list.py",
     "varRefreshCmd": "print(var_dic_list())"
    },
    "r": {
     "delete_cmd_postfix": ") ",
     "delete_cmd_prefix": "rm(",
     "library": "var_list.r",
     "varRefreshCmd": "cat(var_dic_list()) "
    }
   },
   "types_to_exclude": [
    "module",
    "function",
    "builtin_function_or_method",
    "instance",
    "_Feature"
   ],
   "window_display": false
  }
 },
 "nbformat": 4,
 "nbformat_minor": 5
}
