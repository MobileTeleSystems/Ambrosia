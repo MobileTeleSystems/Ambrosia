{
 "cells": [
  {
   "cell_type": "markdown",
   "id": "00946f46",
   "metadata": {},
   "source": [
    "# Example of an artificial experiment with CUPED transformation"
   ]
  },
  {
   "cell_type": "code",
   "execution_count": 3,
   "id": "36c34b4f",
   "metadata": {},
   "outputs": [
    {
     "name": "stderr",
     "output_type": "stream",
     "text": [
      "Your CPU supports instructions that this binary was not compiled to use: AVX2\n",
      "For maximum performance, you can install NMSLIB from sources \n",
      "pip install --no-binary :all: nmslib\n"
     ]
    }
   ],
   "source": [
    "import numpy as np\n",
    "import pandas as pd\n",
    "from tqdm.notebook import tqdm\n",
    "\n",
    "from ambrosia.designer import Designer\n",
    "from ambrosia.splitter import Splitter\n",
    "from ambrosia.tester import Tester\n",
    "\n",
    "from ambrosia.preprocessing import Cuped"
   ]
  },
  {
   "cell_type": "markdown",
   "id": "615b05d9",
   "metadata": {},
   "source": [
    "## Load data"
   ]
  },
  {
   "cell_type": "code",
   "execution_count": 4,
   "id": "73028b5d",
   "metadata": {},
   "outputs": [
    {
     "data": {
      "text/html": [
       "<div>\n",
       "<style scoped>\n",
       "    .dataframe tbody tr th:only-of-type {\n",
       "        vertical-align: middle;\n",
       "    }\n",
       "\n",
       "    .dataframe tbody tr th {\n",
       "        vertical-align: top;\n",
       "    }\n",
       "\n",
       "    .dataframe thead th {\n",
       "        text-align: right;\n",
       "    }\n",
       "</style>\n",
       "<table border=\"1\" class=\"dataframe\">\n",
       "  <thead>\n",
       "    <tr style=\"text-align: right;\">\n",
       "      <th></th>\n",
       "      <th>profile_id</th>\n",
       "      <th>sum_dur</th>\n",
       "      <th>vod_cnt</th>\n",
       "      <th>ln_vod_cnt</th>\n",
       "      <th>bin_col</th>\n",
       "    </tr>\n",
       "  </thead>\n",
       "  <tbody>\n",
       "    <tr>\n",
       "      <th>0</th>\n",
       "      <td>99402893794</td>\n",
       "      <td>20104282</td>\n",
       "      <td>83</td>\n",
       "      <td>5.533356</td>\n",
       "      <td>1</td>\n",
       "    </tr>\n",
       "    <tr>\n",
       "      <th>1</th>\n",
       "      <td>878511937265</td>\n",
       "      <td>3986136</td>\n",
       "      <td>53</td>\n",
       "      <td>4.807294</td>\n",
       "      <td>1</td>\n",
       "    </tr>\n",
       "    <tr>\n",
       "      <th>2</th>\n",
       "      <td>998929369788</td>\n",
       "      <td>2063965</td>\n",
       "      <td>22</td>\n",
       "      <td>3.187069</td>\n",
       "      <td>1</td>\n",
       "    </tr>\n",
       "    <tr>\n",
       "      <th>3</th>\n",
       "      <td>265028786131</td>\n",
       "      <td>523539</td>\n",
       "      <td>14</td>\n",
       "      <td>2.679252</td>\n",
       "      <td>1</td>\n",
       "    </tr>\n",
       "    <tr>\n",
       "      <th>4</th>\n",
       "      <td>995182338752</td>\n",
       "      <td>1588224</td>\n",
       "      <td>19</td>\n",
       "      <td>4.177776</td>\n",
       "      <td>1</td>\n",
       "    </tr>\n",
       "  </tbody>\n",
       "</table>\n",
       "</div>"
      ],
      "text/plain": [
       "     profile_id   sum_dur  vod_cnt  ln_vod_cnt  bin_col\n",
       "0   99402893794  20104282       83    5.533356        1\n",
       "1  878511937265   3986136       53    4.807294        1\n",
       "2  998929369788   2063965       22    3.187069        1\n",
       "3  265028786131    523539       14    2.679252        1\n",
       "4  995182338752   1588224       19    4.177776        1"
      ]
     },
     "execution_count": 4,
     "metadata": {},
     "output_type": "execute_result"
    }
   ],
   "source": [
    "dataframe = pd.read_csv('../tests/test_data/kion_data.csv', sep=';')\n",
    "dataframe.head()"
   ]
  },
  {
   "cell_type": "markdown",
   "id": "54e5ebb8",
   "metadata": {},
   "source": [
    "## Make CUPED transformation for the metric of interest"
   ]
  },
  {
   "cell_type": "code",
   "execution_count": 5,
   "id": "e86dcf5f",
   "metadata": {},
   "outputs": [
    {
     "name": "stderr",
     "output_type": "stream",
     "text": [
      "ambrosia LOGGER: After transformation СUPED for ln_vod_cnt, the variance is 86.0748 % of the original\n",
      "ambrosia LOGGER: Variance transformation 2.1849 ===> 1.8806\n"
     ]
    }
   ],
   "source": [
    "transformer = Cuped()\n",
    "transformed = transformer.fit_transform(dataframe, target_column='ln_vod_cnt', covariate_column='sum_dur')"
   ]
  },
  {
   "cell_type": "markdown",
   "id": "80c54ba5",
   "metadata": {},
   "source": [
    "## Design an abstract experiment for original and transformed metrics"
   ]
  },
  {
   "cell_type": "code",
   "execution_count": 6,
   "id": "823fee6b",
   "metadata": {},
   "outputs": [],
   "source": [
    "designer = Designer(transformed, effects=1.05)\n",
    "designer_info = designer.run('size', 'theory', metrics=['ln_vod_cnt', 'ln_vod_cnt_transformed'])"
   ]
  },
  {
   "cell_type": "code",
   "execution_count": 7,
   "id": "a09deefe",
   "metadata": {},
   "outputs": [
    {
     "data": {
      "text/html": [
       "<div>\n",
       "<style scoped>\n",
       "    .dataframe tbody tr th:only-of-type {\n",
       "        vertical-align: middle;\n",
       "    }\n",
       "\n",
       "    .dataframe tbody tr th {\n",
       "        vertical-align: top;\n",
       "    }\n",
       "\n",
       "    .dataframe thead tr th {\n",
       "        text-align: left;\n",
       "    }\n",
       "\n",
       "    .dataframe thead tr:last-of-type th {\n",
       "        text-align: right;\n",
       "    }\n",
       "</style>\n",
       "<table border=\"1\" class=\"dataframe\">\n",
       "  <thead>\n",
       "    <tr>\n",
       "      <th>errors</th>\n",
       "      <th>(0.05; 0.2)</th>\n",
       "    </tr>\n",
       "    <tr>\n",
       "      <th>effects</th>\n",
       "      <th></th>\n",
       "    </tr>\n",
       "  </thead>\n",
       "  <tbody>\n",
       "    <tr>\n",
       "      <th>5.0%</th>\n",
       "      <td>3105</td>\n",
       "    </tr>\n",
       "  </tbody>\n",
       "</table>\n",
       "</div>"
      ],
      "text/plain": [
       "errors  (0.05; 0.2)\n",
       "effects            \n",
       "5.0%           3105"
      ]
     },
     "execution_count": 7,
     "metadata": {},
     "output_type": "execute_result"
    }
   ],
   "source": [
    "designer_info['ln_vod_cnt']"
   ]
  },
  {
   "cell_type": "code",
   "execution_count": 8,
   "id": "855610c7",
   "metadata": {},
   "outputs": [
    {
     "data": {
      "text/html": [
       "<div>\n",
       "<style scoped>\n",
       "    .dataframe tbody tr th:only-of-type {\n",
       "        vertical-align: middle;\n",
       "    }\n",
       "\n",
       "    .dataframe tbody tr th {\n",
       "        vertical-align: top;\n",
       "    }\n",
       "\n",
       "    .dataframe thead tr th {\n",
       "        text-align: left;\n",
       "    }\n",
       "\n",
       "    .dataframe thead tr:last-of-type th {\n",
       "        text-align: right;\n",
       "    }\n",
       "</style>\n",
       "<table border=\"1\" class=\"dataframe\">\n",
       "  <thead>\n",
       "    <tr>\n",
       "      <th>errors</th>\n",
       "      <th>(0.05; 0.2)</th>\n",
       "    </tr>\n",
       "    <tr>\n",
       "      <th>effects</th>\n",
       "      <th></th>\n",
       "    </tr>\n",
       "  </thead>\n",
       "  <tbody>\n",
       "    <tr>\n",
       "      <th>5.0%</th>\n",
       "      <td>2673</td>\n",
       "    </tr>\n",
       "  </tbody>\n",
       "</table>\n",
       "</div>"
      ],
      "text/plain": [
       "errors  (0.05; 0.2)\n",
       "effects            \n",
       "5.0%           2673"
      ]
     },
     "execution_count": 8,
     "metadata": {},
     "output_type": "execute_result"
    }
   ],
   "source": [
    "designer_info['ln_vod_cnt_transformed']"
   ]
  },
  {
   "cell_type": "markdown",
   "id": "5049d97a",
   "metadata": {},
   "source": [
    "It can be seen that it will take ~450 ids less for the same experiment after the metric transformation"
   ]
  },
  {
   "cell_type": "markdown",
   "id": "13fa381a",
   "metadata": {},
   "source": [
    "### Saving the transformation parameters to use them after the experiment is completed"
   ]
  },
  {
   "cell_type": "code",
   "execution_count": 9,
   "id": "3068c971",
   "metadata": {},
   "outputs": [],
   "source": [
    "transformer.store_params('examples_configs/kion_cuped_params.json')"
   ]
  },
  {
   "cell_type": "markdown",
   "id": "36a09bf5",
   "metadata": {},
   "source": [
    "## Let's conduct an artificial testing and look at first and second type empirical errors "
   ]
  },
  {
   "cell_type": "code",
   "execution_count": 11,
   "id": "0588ea6a",
   "metadata": {},
   "outputs": [
    {
     "data": {
      "application/vnd.jupyter.widget-view+json": {
       "model_id": "01f18de97246451c9594de475c3431c8",
       "version_major": 2,
       "version_minor": 0
      },
      "text/plain": [
       "  0%|          | 0/100 [00:00<?, ?it/s]"
      ]
     },
     "metadata": {},
     "output_type": "display_data"
    }
   ],
   "source": [
    "tests_amounts: int = 100\n",
    "group_size = 2700\n",
    "amount_first_type_errors: int = 0\n",
    "amount_second_type_errors: int = 0\n",
    "alpha = 0.05\n",
    "    \n",
    "for exp_num in tqdm(range(tests_amounts)):\n",
    "    # Checking for I type error\n",
    "    splitter = Splitter(dataframe, id_column='profile_id')\n",
    "    exp_data = splitter.run(method='hash', salt=f'exp {exp_num}', groups_size=group_size)\n",
    "    transformer = Cuped(verbose=False)\n",
    "    transformer.load_params('examples_configs/kion_cuped_params.json')\n",
    "    transformed = transformer.transform(exp_data)\n",
    "    tester = Tester(transformed, metrics='ln_vod_cnt_transformed', column_groups='group')\n",
    "    pvalue = tester.run(method='empiric')['pvalue']\n",
    "    amount_first_type_errors += (pvalue < alpha) # Reject equality of means when it is true\n",
    "    \n",
    "    # Checking for II type error\n",
    "    splitter = Splitter(dataframe, id_column='profile_id')\n",
    "    exp_data = splitter.run(method='hash', salt=f'exp {exp_num}', groups_size=group_size)\n",
    "    mean_b = exp_data[exp_data.group == 'B']['ln_vod_cnt'].mean()\n",
    "    # Let's add an effect\n",
    "    exp_data.loc[exp_data.group == 'B', 'ln_vod_cnt'] += 0.05 * mean_b\n",
    "    transformer = Cuped(verbose=False)\n",
    "    transformer.load_params('examples_configs/kion_cuped_params.json')\n",
    "    transformed = transformer.transform(exp_data)\n",
    "    tester = Tester(transformed, metrics='ln_vod_cnt_transformed', column_groups='group')\n",
    "    pvalue = tester.run(method='empiric')['pvalue']\n",
    "    amount_second_type_errors += (pvalue > alpha) # Do not reject the equality of averages when \n",
    "                                                  # it is necessary to reject"
   ]
  },
  {
   "cell_type": "code",
   "execution_count": 12,
   "id": "6b981b9d",
   "metadata": {},
   "outputs": [
    {
     "name": "stdout",
     "output_type": "stream",
     "text": [
      "Empirical I type error: 0.04\n",
      "Empirical II type error: 0.19\n"
     ]
    }
   ],
   "source": [
    "print('Empirical I type error: {}'.format(amount_first_type_errors.loc[0] / tests_amounts))\n",
    "print('Empirical II type error: {}'.format(amount_second_type_errors.loc[0] / tests_amounts))"
   ]
  },
  {
   "cell_type": "markdown",
   "id": "5fc01b99",
   "metadata": {},
   "source": [
    "### Just as the design of the experiment guaranteed. It must be noted that for the CUPED transformation it is important that the mean is preserved for the covariates, i.e. $\\mathbb{E}X_{control} = \\mathbb{E}X_{test}$"
   ]
  }
 ],
 "metadata": {
  "kernelspec": {
   "display_name": "Python 3 (ipykernel)",
   "language": "python",
   "name": "python3"
  },
  "language_info": {
   "codemirror_mode": {
    "name": "ipython",
    "version": 3
   },
   "file_extension": ".py",
   "mimetype": "text/x-python",
   "name": "python",
   "nbconvert_exporter": "python",
   "pygments_lexer": "ipython3",
   "version": "3.9.6"
  },
  "varInspector": {
   "cols": {
    "lenName": 16,
    "lenType": 16,
    "lenVar": 40
   },
   "kernels_config": {
    "python": {
     "delete_cmd_postfix": "",
     "delete_cmd_prefix": "del ",
     "library": "var_list.py",
     "varRefreshCmd": "print(var_dic_list())"
    },
    "r": {
     "delete_cmd_postfix": ") ",
     "delete_cmd_prefix": "rm(",
     "library": "var_list.r",
     "varRefreshCmd": "cat(var_dic_list()) "
    }
   },
   "types_to_exclude": [
    "module",
    "function",
    "builtin_function_or_method",
    "instance",
    "_Feature"
   ],
   "window_display": false
  },
  "vscode": {
   "interpreter": {
    "hash": "15e03aca08654ff88849a83ba91b8d68554484428ba3c5cc187066980980321c"
   }
  }
 },
 "nbformat": 4,
 "nbformat_minor": 5
}
