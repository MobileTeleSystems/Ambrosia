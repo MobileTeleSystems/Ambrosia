{
 "cells": [
  {
   "cell_type": "markdown",
   "id": "247a2c2a",
   "metadata": {},
   "source": [
    "# Binary metric A/B test design example"
   ]
  },
  {
   "cell_type": "markdown",
   "id": "994a3b01",
   "metadata": {},
   "source": [
    "This example is about how *Ambrosia* can be used to calculate the parameters of an experiment with binary metrics.\n",
    "For a binary metric, there are some differences in the calculations regarding continuous metrics.\n",
    "\n",
    "Let's consider an example of calculating the parameters of a hypothetical experiment based on synthetic data on user retention rate."
   ]
  },
  {
   "cell_type": "code",
   "execution_count": 1,
   "id": "9177576e",
   "metadata": {},
   "outputs": [],
   "source": [
    "import sys, os\n",
    "sys.path.insert(1, os.path.realpath(os.path.pardir))"
   ]
  },
  {
   "cell_type": "code",
   "execution_count": 31,
   "id": "294f6033",
   "metadata": {},
   "outputs": [],
   "source": [
    "import numpy as np\n",
    "import pandas as pd\n",
    "\n",
    "import matplotlib.pyplot as plt\n",
    "import seaborn as sns\n",
    "\n",
    "from ambrosia.designer import Designer, design_binary"
   ]
  },
  {
   "cell_type": "markdown",
   "id": "7b905423",
   "metadata": {},
   "source": [
    "Load data"
   ]
  },
  {
   "cell_type": "code",
   "execution_count": 4,
   "id": "ad8ba435",
   "metadata": {},
   "outputs": [],
   "source": [
    "data = pd.read_csv('../tests/test_data/ltv_retention.csv')"
   ]
  },
  {
   "cell_type": "code",
   "execution_count": 5,
   "id": "e74157bc",
   "metadata": {},
   "outputs": [
    {
     "data": {
      "text/html": [
       "<div>\n",
       "<style scoped>\n",
       "    .dataframe tbody tr th:only-of-type {\n",
       "        vertical-align: middle;\n",
       "    }\n",
       "\n",
       "    .dataframe tbody tr th {\n",
       "        vertical-align: top;\n",
       "    }\n",
       "\n",
       "    .dataframe thead th {\n",
       "        text-align: right;\n",
       "    }\n",
       "</style>\n",
       "<table border=\"1\" class=\"dataframe\">\n",
       "  <thead>\n",
       "    <tr style=\"text-align: right;\">\n",
       "      <th></th>\n",
       "      <th>LTV</th>\n",
       "      <th>retention</th>\n",
       "    </tr>\n",
       "  </thead>\n",
       "  <tbody>\n",
       "    <tr>\n",
       "      <th>0</th>\n",
       "      <td>38.004891</td>\n",
       "      <td>0.0</td>\n",
       "    </tr>\n",
       "    <tr>\n",
       "      <th>1</th>\n",
       "      <td>70.588069</td>\n",
       "      <td>1.0</td>\n",
       "    </tr>\n",
       "    <tr>\n",
       "      <th>2</th>\n",
       "      <td>13.585602</td>\n",
       "      <td>1.0</td>\n",
       "    </tr>\n",
       "    <tr>\n",
       "      <th>3</th>\n",
       "      <td>19.813550</td>\n",
       "      <td>0.0</td>\n",
       "    </tr>\n",
       "    <tr>\n",
       "      <th>4</th>\n",
       "      <td>207.213003</td>\n",
       "      <td>0.0</td>\n",
       "    </tr>\n",
       "  </tbody>\n",
       "</table>\n",
       "</div>"
      ],
      "text/plain": [
       "          LTV  retention\n",
       "0   38.004891        0.0\n",
       "1   70.588069        1.0\n",
       "2   13.585602        1.0\n",
       "3   19.813550        0.0\n",
       "4  207.213003        0.0"
      ]
     },
     "execution_count": 5,
     "metadata": {},
     "output_type": "execute_result"
    }
   ],
   "source": [
    "data.head()"
   ]
  },
  {
   "cell_type": "markdown",
   "id": "1b2a0600",
   "metadata": {},
   "source": [
    "## Experiment design based on available historical data"
   ]
  },
  {
   "cell_type": "markdown",
   "id": "531ed4e0",
   "metadata": {},
   "source": [
    "In many situations, we have historical retention/conversion rate data available, and this data can be used in the same way as continuous data.\n",
    "\n",
    "In order to calculate some A/B test parameters of interest, such as experimental power, group size, or minimum detectable effect, we need to pass them in the same way to the ``Designer`` class."
   ]
  },
  {
   "cell_type": "code",
   "execution_count": 16,
   "id": "12f05e2a",
   "metadata": {},
   "outputs": [],
   "source": [
    "designer = Designer(dataframe=data, metrics='retention')"
   ]
  },
  {
   "cell_type": "markdown",
   "id": "a207cf64",
   "metadata": {},
   "source": [
    "For binary data, we can use either the ``\"theory\"`` method or the ``\"binary\"`` method."
   ]
  },
  {
   "cell_type": "markdown",
   "id": "806f9f77",
   "metadata": {},
   "source": [
    "The ``\"theory\"`` method performs a numerical calculation of the parameters using various approximations. \\\n",
    "The approximation method choice is controlled by the ``stabilizing_method`` parameter and defaults to ``\"asin\"`` which is more accurate and robust. You can find more information about the approximations on the Net."
   ]
  },
  {
   "cell_type": "markdown",
   "id": "a02aa573",
   "metadata": {},
   "source": [
    "The ``\"binary\"`` approach does parameter estimation based on the multiple construction of chosen confidence interval. Some of these intervals are quite exotic and should be studied for conscious application. As a default a standard Wald interval is used. \\\n",
    "This approach is more slowly and it's accuracy depends on the number of iterations."
   ]
  },
  {
   "cell_type": "markdown",
   "id": "81887451",
   "metadata": {},
   "source": [
    "Now let's create a grid of known parameters and calculate interested ones. We will use two above methods consequntly."
   ]
  },
  {
   "cell_type": "code",
   "execution_count": 20,
   "id": "f7dfa691",
   "metadata": {},
   "outputs": [],
   "source": [
    "# Create grid of MDEs and group sizes\n",
    "# I and II type errros will have default values\n",
    "effects = [1.02, 1.05, 1.1]\n",
    "group_sizes = [500, 1000, 2000]"
   ]
  },
  {
   "cell_type": "markdown",
   "id": "3833185d",
   "metadata": {},
   "source": [
    "First design group sizes"
   ]
  },
  {
   "cell_type": "code",
   "execution_count": 76,
   "id": "fc46b313",
   "metadata": {},
   "outputs": [
    {
     "data": {
      "text/html": [
       "<div>\n",
       "<style scoped>\n",
       "    .dataframe tbody tr th:only-of-type {\n",
       "        vertical-align: middle;\n",
       "    }\n",
       "\n",
       "    .dataframe tbody tr th {\n",
       "        vertical-align: top;\n",
       "    }\n",
       "\n",
       "    .dataframe thead tr th {\n",
       "        text-align: left;\n",
       "    }\n",
       "\n",
       "    .dataframe thead tr:last-of-type th {\n",
       "        text-align: right;\n",
       "    }\n",
       "</style>\n",
       "<table border=\"1\" class=\"dataframe\">\n",
       "  <thead>\n",
       "    <tr>\n",
       "      <th>errors</th>\n",
       "      <th>(0.05; 0.2)</th>\n",
       "    </tr>\n",
       "    <tr>\n",
       "      <th>effects</th>\n",
       "      <th></th>\n",
       "    </tr>\n",
       "  </thead>\n",
       "  <tbody>\n",
       "    <tr>\n",
       "      <th>2.0%</th>\n",
       "      <td>58885</td>\n",
       "    </tr>\n",
       "    <tr>\n",
       "      <th>5.0%</th>\n",
       "      <td>9464</td>\n",
       "    </tr>\n",
       "    <tr>\n",
       "      <th>10.0%</th>\n",
       "      <td>2382</td>\n",
       "    </tr>\n",
       "  </tbody>\n",
       "</table>\n",
       "</div>"
      ],
      "text/plain": [
       "errors  (0.05; 0.2)\n",
       "effects            \n",
       "2.0%          58885\n",
       "5.0%           9464\n",
       "10.0%          2382"
      ]
     },
     "execution_count": 76,
     "metadata": {},
     "output_type": "execute_result"
    }
   ],
   "source": [
    "designer.run(to_design='size', method='theory', effects=effects)"
   ]
  },
  {
   "cell_type": "markdown",
   "id": "4e8ebdcc",
   "metadata": {},
   "source": [
    "Then design MDE values "
   ]
  },
  {
   "cell_type": "code",
   "execution_count": 23,
   "id": "0fc27ccf",
   "metadata": {},
   "outputs": [
    {
     "data": {
      "text/html": [
       "<div>\n",
       "<style scoped>\n",
       "    .dataframe tbody tr th:only-of-type {\n",
       "        vertical-align: middle;\n",
       "    }\n",
       "\n",
       "    .dataframe tbody tr th {\n",
       "        vertical-align: top;\n",
       "    }\n",
       "\n",
       "    .dataframe thead tr th {\n",
       "        text-align: left;\n",
       "    }\n",
       "\n",
       "    .dataframe thead tr:last-of-type th {\n",
       "        text-align: right;\n",
       "    }\n",
       "</style>\n",
       "<table border=\"1\" class=\"dataframe\">\n",
       "  <thead>\n",
       "    <tr>\n",
       "      <th>errors</th>\n",
       "      <th>(0.05; 0.2)</th>\n",
       "    </tr>\n",
       "    <tr>\n",
       "      <th>sample_sizes</th>\n",
       "      <th></th>\n",
       "    </tr>\n",
       "  </thead>\n",
       "  <tbody>\n",
       "    <tr>\n",
       "      <th>500</th>\n",
       "      <td>21.9%</td>\n",
       "    </tr>\n",
       "    <tr>\n",
       "      <th>1000</th>\n",
       "      <td>15.5%</td>\n",
       "    </tr>\n",
       "    <tr>\n",
       "      <th>2000</th>\n",
       "      <td>10.9%</td>\n",
       "    </tr>\n",
       "  </tbody>\n",
       "</table>\n",
       "</div>"
      ],
      "text/plain": [
       "errors       (0.05; 0.2)\n",
       "sample_sizes            \n",
       "500                21.9%\n",
       "1000               15.5%\n",
       "2000               10.9%"
      ]
     },
     "execution_count": 23,
     "metadata": {},
     "output_type": "execute_result"
    }
   ],
   "source": [
    "designer.run(to_design='effect', method='theory', sizes=group_sizes)"
   ]
  },
  {
   "cell_type": "markdown",
   "id": "3ef7e769",
   "metadata": {},
   "source": [
    "Finally design power"
   ]
  },
  {
   "cell_type": "code",
   "execution_count": 24,
   "id": "2c64470a",
   "metadata": {},
   "outputs": [
    {
     "data": {
      "text/html": [
       "<div>\n",
       "<style scoped>\n",
       "    .dataframe tbody tr th:only-of-type {\n",
       "        vertical-align: middle;\n",
       "    }\n",
       "\n",
       "    .dataframe tbody tr th {\n",
       "        vertical-align: top;\n",
       "    }\n",
       "\n",
       "    .dataframe thead th {\n",
       "        text-align: right;\n",
       "    }\n",
       "</style>\n",
       "<table border=\"1\" class=\"dataframe\">\n",
       "  <thead>\n",
       "    <tr style=\"text-align: right;\">\n",
       "      <th></th>\n",
       "      <th>sample sizes</th>\n",
       "      <th>500</th>\n",
       "      <th>1000</th>\n",
       "      <th>2000</th>\n",
       "    </tr>\n",
       "    <tr>\n",
       "      <th>First type error</th>\n",
       "      <th>Effect</th>\n",
       "      <th></th>\n",
       "      <th></th>\n",
       "      <th></th>\n",
       "    </tr>\n",
       "  </thead>\n",
       "  <tbody>\n",
       "    <tr>\n",
       "      <th rowspan=\"3\" valign=\"top\">0.05</th>\n",
       "      <th>2.0%</th>\n",
       "      <td>5.8%</td>\n",
       "      <td>6.5%</td>\n",
       "      <td>8.1%</td>\n",
       "    </tr>\n",
       "    <tr>\n",
       "      <th>5.0%</th>\n",
       "      <td>9.9%</td>\n",
       "      <td>14.9%</td>\n",
       "      <td>25.1%</td>\n",
       "    </tr>\n",
       "    <tr>\n",
       "      <th>10.0%</th>\n",
       "      <td>25.0%</td>\n",
       "      <td>44.3%</td>\n",
       "      <td>72.8%</td>\n",
       "    </tr>\n",
       "  </tbody>\n",
       "</table>\n",
       "</div>"
      ],
      "text/plain": [
       "sample sizes              500    1000   2000\n",
       "First type error Effect                     \n",
       "0.05             2.0%     5.8%   6.5%   8.1%\n",
       "                 5.0%     9.9%  14.9%  25.1%\n",
       "                 10.0%   25.0%  44.3%  72.8%"
      ]
     },
     "execution_count": 24,
     "metadata": {},
     "output_type": "execute_result"
    }
   ],
   "source": [
    "designer.run(to_design='power', method='theory', effects=effects, sizes=group_sizes)"
   ]
  },
  {
   "cell_type": "markdown",
   "id": "7128717e",
   "metadata": {},
   "source": [
    "Now let's design groups size for 10% MDE value again, using ``\"binary\"`` approach and compare to ``\"theory\"`` method result. \\\n",
    "We will increase number of constructed intervals using ``amount`` parameter to check how the accuracy of estimated group size value is increased"
   ]
  },
  {
   "cell_type": "code",
   "execution_count": 73,
   "id": "c247aab9",
   "metadata": {},
   "outputs": [],
   "source": [
    "interval_amounts = [2000, 5000, 20000]\n",
    "group_size_estimation_dict = {}"
   ]
  },
  {
   "cell_type": "code",
   "execution_count": 74,
   "id": "f37022ea",
   "metadata": {},
   "outputs": [],
   "source": [
    "for amount in interval_amounts:\n",
    "    group_size_estimation_dict[amount] = []\n",
    "    for step in range(200):\n",
    "        estimated_size = designer.run(to_design='size', \n",
    "                                      method='binary', \n",
    "                                      interval_type='wald', \n",
    "                                      amount=amount, \n",
    "                                      effects=1.1).values[0][0]\n",
    "        group_size_estimation_dict[amount].append(estimated_size)"
   ]
  },
  {
   "cell_type": "markdown",
   "id": "f330d1d9",
   "metadata": {},
   "source": [
    "Draw the results"
   ]
  },
  {
   "cell_type": "code",
   "execution_count": 75,
   "id": "df668fde",
   "metadata": {},
   "outputs": [
    {
     "data": {
      "image/png": "[encoded data removed]",
      "text/plain": [
       "<Figure size 800x600 with 1 Axes>"
      ]
     },
     "metadata": {},
     "output_type": "display_data"
    }
   ],
   "source": [
    "plt.figure(figsize=(8,6))\n",
    "plt.title('Group size estimation for 10% MDE')\n",
    "for key in group_size_estimation_dict:\n",
    "    label = f'amount number={key}'\n",
    "    sns.histplot(group_size_estimation_dict[key], label=label)\n",
    "plt.plot(2382, 0.5, 'ro', label='Theoretical estimation')\n",
    "plt.legend();"
   ]
  },
  {
   "cell_type": "markdown",
   "id": "19f9448d",
   "metadata": {},
   "source": [
    "For small numbers of iterations interval parameter estimation is quite noisy, and one should be aware of it."
   ]
  },
  {
   "cell_type": "markdown",
   "id": "6c0e5d5e",
   "metadata": {},
   "source": [
    "## Experiment design based on a known retention rate value"
   ]
  },
  {
   "cell_type": "markdown",
   "id": "4f2cda58",
   "metadata": {},
   "source": [
    "In some cases, complete data on a binary metric is missing or not needed. \\\n",
    "These can be known and pre-calculated conversion/retention values, or simply the absence of any historical data (in which case, for example, assumption for rates are needed)."
   ]
  },
  {
   "cell_type": "markdown",
   "id": "a93c889c",
   "metadata": {},
   "source": [
    "And now we will calculate the experimental parameters using the known retantion rate value of 0.1."
   ]
  },
  {
   "cell_type": "code",
   "execution_count": 80,
   "id": "c2d09574",
   "metadata": {},
   "outputs": [],
   "source": [
    "retention = 0.1"
   ]
  },
  {
   "cell_type": "code",
   "execution_count": 81,
   "id": "ee8eb9e6",
   "metadata": {},
   "outputs": [],
   "source": [
    "# Create grid of MDEs and group sizes\n",
    "# I and II type errros will have default values\n",
    "effects = [1.01, 1.03, 1.05]\n",
    "group_sizes = [20_000, 50_000, 100_000]"
   ]
  },
  {
   "cell_type": "markdown",
   "id": "41d4cd6d",
   "metadata": {},
   "source": [
    "Design group sizes"
   ]
  },
  {
   "cell_type": "code",
   "execution_count": 82,
   "id": "8dd181ef",
   "metadata": {},
   "outputs": [
    {
     "data": {
      "text/html": [
       "<div>\n",
       "<style scoped>\n",
       "    .dataframe tbody tr th:only-of-type {\n",
       "        vertical-align: middle;\n",
       "    }\n",
       "\n",
       "    .dataframe tbody tr th {\n",
       "        vertical-align: top;\n",
       "    }\n",
       "\n",
       "    .dataframe thead tr th {\n",
       "        text-align: left;\n",
       "    }\n",
       "\n",
       "    .dataframe thead tr:last-of-type th {\n",
       "        text-align: right;\n",
       "    }\n",
       "</style>\n",
       "<table border=\"1\" class=\"dataframe\">\n",
       "  <thead>\n",
       "    <tr>\n",
       "      <th>errors</th>\n",
       "      <th>(0.05; 0.2)</th>\n",
       "    </tr>\n",
       "    <tr>\n",
       "      <th>effects</th>\n",
       "      <th></th>\n",
       "    </tr>\n",
       "  </thead>\n",
       "  <tbody>\n",
       "    <tr>\n",
       "      <th>1.0%</th>\n",
       "      <td>1419062</td>\n",
       "    </tr>\n",
       "    <tr>\n",
       "      <th>3.0%</th>\n",
       "      <td>159059</td>\n",
       "    </tr>\n",
       "    <tr>\n",
       "      <th>5.0%</th>\n",
       "      <td>57756</td>\n",
       "    </tr>\n",
       "  </tbody>\n",
       "</table>\n",
       "</div>"
      ],
      "text/plain": [
       "errors  (0.05; 0.2)\n",
       "effects            \n",
       "1.0%        1419062\n",
       "3.0%         159059\n",
       "5.0%          57756"
      ]
     },
     "execution_count": 82,
     "metadata": {},
     "output_type": "execute_result"
    }
   ],
   "source": [
    "design_binary(to_design='size', prob_a=retention, method='theory', effects=effects)"
   ]
  },
  {
   "cell_type": "markdown",
   "id": "a9bcbd4a",
   "metadata": {},
   "source": [
    "Design MDE values "
   ]
  },
  {
   "cell_type": "code",
   "execution_count": 85,
   "id": "304eab9a",
   "metadata": {},
   "outputs": [
    {
     "data": {
      "text/html": [
       "<div>\n",
       "<style scoped>\n",
       "    .dataframe tbody tr th:only-of-type {\n",
       "        vertical-align: middle;\n",
       "    }\n",
       "\n",
       "    .dataframe tbody tr th {\n",
       "        vertical-align: top;\n",
       "    }\n",
       "\n",
       "    .dataframe thead tr th {\n",
       "        text-align: left;\n",
       "    }\n",
       "\n",
       "    .dataframe thead tr:last-of-type th {\n",
       "        text-align: right;\n",
       "    }\n",
       "</style>\n",
       "<table border=\"1\" class=\"dataframe\">\n",
       "  <thead>\n",
       "    <tr>\n",
       "      <th>errors</th>\n",
       "      <th>(0.05; 0.2)</th>\n",
       "    </tr>\n",
       "    <tr>\n",
       "      <th>sample_sizes</th>\n",
       "      <th></th>\n",
       "    </tr>\n",
       "  </thead>\n",
       "  <tbody>\n",
       "    <tr>\n",
       "      <th>20000</th>\n",
       "      <td>8.6%</td>\n",
       "    </tr>\n",
       "    <tr>\n",
       "      <th>50000</th>\n",
       "      <td>5.4%</td>\n",
       "    </tr>\n",
       "    <tr>\n",
       "      <th>100000</th>\n",
       "      <td>3.8%</td>\n",
       "    </tr>\n",
       "  </tbody>\n",
       "</table>\n",
       "</div>"
      ],
      "text/plain": [
       "errors       (0.05; 0.2)\n",
       "sample_sizes            \n",
       "20000               8.6%\n",
       "50000               5.4%\n",
       "100000              3.8%"
      ]
     },
     "execution_count": 85,
     "metadata": {},
     "output_type": "execute_result"
    }
   ],
   "source": [
    "design_binary(to_design='effect', prob_a=retention, method='theory', sizes=group_sizes)"
   ]
  },
  {
   "cell_type": "markdown",
   "id": "caf6da6f",
   "metadata": {},
   "source": [
    "Design test power"
   ]
  },
  {
   "cell_type": "code",
   "execution_count": 86,
   "id": "247c1039",
   "metadata": {},
   "outputs": [
    {
     "data": {
      "text/html": [
       "<div>\n",
       "<style scoped>\n",
       "    .dataframe tbody tr th:only-of-type {\n",
       "        vertical-align: middle;\n",
       "    }\n",
       "\n",
       "    .dataframe tbody tr th {\n",
       "        vertical-align: top;\n",
       "    }\n",
       "\n",
       "    .dataframe thead th {\n",
       "        text-align: right;\n",
       "    }\n",
       "</style>\n",
       "<table border=\"1\" class=\"dataframe\">\n",
       "  <thead>\n",
       "    <tr style=\"text-align: right;\">\n",
       "      <th></th>\n",
       "      <th>sample sizes</th>\n",
       "      <th>20000</th>\n",
       "      <th>50000</th>\n",
       "      <th>100000</th>\n",
       "    </tr>\n",
       "    <tr>\n",
       "      <th>First type error</th>\n",
       "      <th>Effect</th>\n",
       "      <th></th>\n",
       "      <th></th>\n",
       "      <th></th>\n",
       "    </tr>\n",
       "  </thead>\n",
       "  <tbody>\n",
       "    <tr>\n",
       "      <th rowspan=\"3\" valign=\"top\">0.05</th>\n",
       "      <th>1.0%</th>\n",
       "      <td>6.3%</td>\n",
       "      <td>8.2%</td>\n",
       "      <td>11.5%</td>\n",
       "    </tr>\n",
       "    <tr>\n",
       "      <th>3.0%</th>\n",
       "      <td>16.8%</td>\n",
       "      <td>34.9%</td>\n",
       "      <td>60.3%</td>\n",
       "    </tr>\n",
       "    <tr>\n",
       "      <th>5.0%</th>\n",
       "      <td>37.8%</td>\n",
       "      <td>74.1%</td>\n",
       "      <td>95.8%</td>\n",
       "    </tr>\n",
       "  </tbody>\n",
       "</table>\n",
       "</div>"
      ],
      "text/plain": [
       "sample sizes            20000  50000  100000\n",
       "First type error Effect                     \n",
       "0.05             1.0%     6.3%   8.2%  11.5%\n",
       "                 3.0%    16.8%  34.9%  60.3%\n",
       "                 5.0%    37.8%  74.1%  95.8%"
      ]
     },
     "execution_count": 86,
     "metadata": {},
     "output_type": "execute_result"
    }
   ],
   "source": [
    "design_binary(to_design='power', prob_a=retention, method='theory', effects=effects, sizes=group_sizes)"
   ]
  },
  {
   "cell_type": "markdown",
   "id": "cff3a6c4",
   "metadata": {},
   "source": [
    "---"
   ]
  },
  {
   "cell_type": "markdown",
   "id": "d51aa6d9",
   "metadata": {},
   "source": [
    "You can learn more information about how you can do A/B test design using *Ambrosia*\n",
    "\n",
    "Check:\n",
    "- Main example of experiments design using `Designer` class"
   ]
  }
 ],
 "metadata": {
  "kernelspec": {
   "display_name": "Python 3 (ipykernel)",
   "language": "python",
   "name": "python3"
  },
  "language_info": {
   "codemirror_mode": {
    "name": "ipython",
    "version": 3
   },
   "file_extension": ".py",
   "mimetype": "text/x-python",
   "name": "python",
   "nbconvert_exporter": "python",
   "pygments_lexer": "ipython3",
   "version": "3.9.16"
  },
  "varInspector": {
   "cols": {
    "lenName": 16,
    "lenType": 16,
    "lenVar": 40
   },
   "kernels_config": {
    "python": {
     "delete_cmd_postfix": "",
     "delete_cmd_prefix": "del ",
     "library": "var_list.py",
     "varRefreshCmd": "print(var_dic_list())"
    },
    "r": {
     "delete_cmd_postfix": ") ",
     "delete_cmd_prefix": "rm(",
     "library": "var_list.r",
     "varRefreshCmd": "cat(var_dic_list()) "
    }
   },
   "types_to_exclude": [
    "module",
    "function",
    "builtin_function_or_method",
    "instance",
    "_Feature"
   ],
   "window_display": false
  }
 },
 "nbformat": 4,
 "nbformat_minor": 5
}
