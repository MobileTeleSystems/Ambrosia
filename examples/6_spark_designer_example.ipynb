{
 "cells": [
  {
   "cell_type": "markdown",
   "id": "8dc91a90",
   "metadata": {},
   "source": [
    "# Example of *Ambrosia* ``Designer`` class Spark data support"
   ]
  },
  {
   "cell_type": "markdown",
   "id": "473a582c",
   "metadata": {},
   "source": [
    "This example shows the functionality of the ``Designer`` class on Spark DataFrames. Synthetic data on LTV and user retention rates is used."
   ]
  },
  {
   "cell_type": "code",
   "execution_count": 2,
   "id": "a3e8972a",
   "metadata": {},
   "outputs": [],
   "source": [
    "import sys, os\n",
    "sys.path.insert(1, os.path.realpath(os.path.pardir))"
   ]
  },
  {
   "cell_type": "code",
   "execution_count": 3,
   "id": "9f0cbd84",
   "metadata": {},
   "outputs": [],
   "source": [
    "import os\n",
    "\n",
    "import pandas as pd\n",
    "import pyspark\n",
    "\n",
    "from ambrosia.designer import Designer"
   ]
  },
  {
   "cell_type": "markdown",
   "id": "7f27f46b",
   "metadata": {},
   "source": [
    "Build local spark session"
   ]
  },
  {
   "cell_type": "code",
   "execution_count": 4,
   "id": "22faaae9",
   "metadata": {
    "scrolled": false
   },
   "outputs": [
    {
     "name": "stderr",
     "output_type": "stream",
     "text": [
      "Setting default log level to \"WARN\".\n",
      "To adjust logging level use sc.setLogLevel(newLevel). For SparkR, use setLogLevel(newLevel).\n"
     ]
    },
    {
     "name": "stdout",
     "output_type": "stream",
     "text": [
      "23/03/03 01:23:20 WARN NativeCodeLoader: Unable to load native-hadoop library for your platform... using builtin-java classes where applicable\n"
     ]
    }
   ],
   "source": [
    "os.environ['SPARK_LOCAL_IP'] = '127.0.0.1'\n",
    "spark = pyspark.sql.SparkSession.builder.master(\"local[1]\").getOrCreate()"
   ]
  },
  {
   "cell_type": "markdown",
   "id": "b26defd2",
   "metadata": {},
   "source": [
    "Create Spark DataFrame"
   ]
  },
  {
   "cell_type": "code",
   "execution_count": 12,
   "id": "d05d2446",
   "metadata": {},
   "outputs": [],
   "source": [
    "ltv_and_retention_dataset = pd.read_csv(\"./../tests/test_data/ltv_retention.csv\")\n",
    "sdf = spark.createDataFrame(ltv_and_retention_dataset)"
   ]
  },
  {
   "cell_type": "code",
   "execution_count": 14,
   "id": "a36e1c7e",
   "metadata": {},
   "outputs": [
    {
     "name": "stdout",
     "output_type": "stream",
     "text": [
      "root\n",
      " |-- LTV: double (nullable = true)\n",
      " |-- retention: double (nullable = true)\n",
      "\n"
     ]
    }
   ],
   "source": [
    "sdf.printSchema()"
   ]
  },
  {
   "cell_type": "markdown",
   "id": "da9d3149",
   "metadata": {},
   "source": [
    "### Spark experiment parameters theoretical design"
   ]
  },
  {
   "cell_type": "markdown",
   "id": "31a11fff",
   "metadata": {},
   "source": [
    "First, we will use a theoretical approach to find the missing parameters of a hypothetical experiment. \\\n",
    "We will obtain theoretical estimates for the size of groups, MDE in the power of the test with the appropriate known parameters."
   ]
  },
  {
   "cell_type": "markdown",
   "id": "9a96c310",
   "metadata": {},
   "source": [
    "Create class instance and set grid of parameters, I and II type errors remain default"
   ]
  },
  {
   "cell_type": "code",
   "execution_count": 15,
   "id": "8917439d",
   "metadata": {},
   "outputs": [],
   "source": [
    "designer = Designer(dataframe=sdf, effects=[1.05, 1.2], sizes=[100, 1000], metrics='LTV')"
   ]
  },
  {
   "cell_type": "markdown",
   "id": "fc826a9f",
   "metadata": {},
   "source": [
    "Design groups size"
   ]
  },
  {
   "cell_type": "code",
   "execution_count": 16,
   "id": "179e2203",
   "metadata": {},
   "outputs": [
    {
     "name": "stderr",
     "output_type": "stream",
     "text": [
      "                                                                                \r"
     ]
    },
    {
     "data": {
      "text/html": [
       "<div>\n",
       "<style scoped>\n",
       "    .dataframe tbody tr th:only-of-type {\n",
       "        vertical-align: middle;\n",
       "    }\n",
       "\n",
       "    .dataframe tbody tr th {\n",
       "        vertical-align: top;\n",
       "    }\n",
       "\n",
       "    .dataframe thead tr th {\n",
       "        text-align: left;\n",
       "    }\n",
       "\n",
       "    .dataframe thead tr:last-of-type th {\n",
       "        text-align: right;\n",
       "    }\n",
       "</style>\n",
       "<table border=\"1\" class=\"dataframe\">\n",
       "  <thead>\n",
       "    <tr>\n",
       "      <th>errors</th>\n",
       "      <th>(0.05; 0.2)</th>\n",
       "    </tr>\n",
       "    <tr>\n",
       "      <th>effects</th>\n",
       "      <th></th>\n",
       "    </tr>\n",
       "  </thead>\n",
       "  <tbody>\n",
       "    <tr>\n",
       "      <th>5.0%</th>\n",
       "      <td>6206</td>\n",
       "    </tr>\n",
       "    <tr>\n",
       "      <th>20.0%</th>\n",
       "      <td>389</td>\n",
       "    </tr>\n",
       "  </tbody>\n",
       "</table>\n",
       "</div>"
      ],
      "text/plain": [
       "errors  (0.05; 0.2)\n",
       "effects            \n",
       "5.0%           6206\n",
       "20.0%           389"
      ]
     },
     "execution_count": 16,
     "metadata": {},
     "output_type": "execute_result"
    }
   ],
   "source": [
    "designer.run('size', 'theory')"
   ]
  },
  {
   "cell_type": "markdown",
   "id": "e2c35dea",
   "metadata": {},
   "source": [
    "Design minimal detectable effect"
   ]
  },
  {
   "cell_type": "code",
   "execution_count": 17,
   "id": "281df6ec",
   "metadata": {},
   "outputs": [
    {
     "data": {
      "text/html": [
       "<div>\n",
       "<style scoped>\n",
       "    .dataframe tbody tr th:only-of-type {\n",
       "        vertical-align: middle;\n",
       "    }\n",
       "\n",
       "    .dataframe tbody tr th {\n",
       "        vertical-align: top;\n",
       "    }\n",
       "\n",
       "    .dataframe thead tr th {\n",
       "        text-align: left;\n",
       "    }\n",
       "\n",
       "    .dataframe thead tr:last-of-type th {\n",
       "        text-align: right;\n",
       "    }\n",
       "</style>\n",
       "<table border=\"1\" class=\"dataframe\">\n",
       "  <thead>\n",
       "    <tr>\n",
       "      <th>errors</th>\n",
       "      <th>(0.05; 0.2)</th>\n",
       "    </tr>\n",
       "    <tr>\n",
       "      <th>sample_sizes</th>\n",
       "      <th></th>\n",
       "    </tr>\n",
       "  </thead>\n",
       "  <tbody>\n",
       "    <tr>\n",
       "      <th>100</th>\n",
       "      <td>39.6%</td>\n",
       "    </tr>\n",
       "    <tr>\n",
       "      <th>1000</th>\n",
       "      <td>12.5%</td>\n",
       "    </tr>\n",
       "  </tbody>\n",
       "</table>\n",
       "</div>"
      ],
      "text/plain": [
       "errors       (0.05; 0.2)\n",
       "sample_sizes            \n",
       "100                39.6%\n",
       "1000               12.5%"
      ]
     },
     "execution_count": 17,
     "metadata": {},
     "output_type": "execute_result"
    }
   ],
   "source": [
    "designer.run('effect', 'theory')"
   ]
  },
  {
   "cell_type": "markdown",
   "id": "1a36fda3",
   "metadata": {},
   "source": [
    "Design test power"
   ]
  },
  {
   "cell_type": "code",
   "execution_count": 18,
   "id": "aa82c1b7",
   "metadata": {
    "scrolled": true
   },
   "outputs": [
    {
     "data": {
      "text/html": [
       "<div>\n",
       "<style scoped>\n",
       "    .dataframe tbody tr th:only-of-type {\n",
       "        vertical-align: middle;\n",
       "    }\n",
       "\n",
       "    .dataframe tbody tr th {\n",
       "        vertical-align: top;\n",
       "    }\n",
       "\n",
       "    .dataframe thead th {\n",
       "        text-align: right;\n",
       "    }\n",
       "</style>\n",
       "<table border=\"1\" class=\"dataframe\">\n",
       "  <thead>\n",
       "    <tr style=\"text-align: right;\">\n",
       "      <th></th>\n",
       "      <th>sample sizes</th>\n",
       "      <th>100</th>\n",
       "      <th>1000</th>\n",
       "    </tr>\n",
       "    <tr>\n",
       "      <th>First type error</th>\n",
       "      <th>Effect</th>\n",
       "      <th></th>\n",
       "      <th></th>\n",
       "    </tr>\n",
       "  </thead>\n",
       "  <tbody>\n",
       "    <tr>\n",
       "      <th rowspan=\"2\" valign=\"top\">0.05</th>\n",
       "      <th>5.0%</th>\n",
       "      <td>6.4%</td>\n",
       "      <td>20.3%</td>\n",
       "    </tr>\n",
       "    <tr>\n",
       "      <th>20.0%</th>\n",
       "      <td>29.4%</td>\n",
       "      <td>99.4%</td>\n",
       "    </tr>\n",
       "  </tbody>\n",
       "</table>\n",
       "</div>"
      ],
      "text/plain": [
       "sample sizes              100    1000\n",
       "First type error Effect              \n",
       "0.05             5.0%     6.4%  20.3%\n",
       "                 20.0%   29.4%  99.4%"
      ]
     },
     "execution_count": 18,
     "metadata": {},
     "output_type": "execute_result"
    }
   ],
   "source": [
    "designer.run('power', 'theory')"
   ]
  },
  {
   "cell_type": "markdown",
   "id": "62c3291f",
   "metadata": {},
   "source": [
    "### Spark experiment parameters empirical design"
   ]
  },
  {
   "cell_type": "markdown",
   "id": "564efd8c",
   "metadata": {},
   "source": [
    "Now let's calculate the parameters using multiple sampling of groups from the transmitted data and modeling a hypothetical effect. \\\n",
    "This approach, with high value of `bootstrap_size` parameter (number of sampled groups per step), gives more accurate estimation of the parameters, but requires much more computational resources than the theoretical one."
   ]
  },
  {
   "cell_type": "code",
   "execution_count": 21,
   "id": "c5cfdbec",
   "metadata": {},
   "outputs": [],
   "source": [
    "designer = Designer(dataframe=sdf, second_type_errors=0.1, effects=[1.1, 1.2], sizes=[500, 2000], metrics='LTV') "
   ]
  },
  {
   "cell_type": "markdown",
   "id": "cb82ad30",
   "metadata": {},
   "source": [
    "Currently, we don't have ``criterion`` parameter which we implement for different statistical criteria in pandas data empirical design, here ``t-test`` criterion is always used."
   ]
  },
  {
   "cell_type": "code",
   "execution_count": 36,
   "id": "690ff393",
   "metadata": {},
   "outputs": [
    {
     "data": {
      "application/vnd.jupyter.widget-view+json": {
       "model_id": "d582ec757cc140619c98b3f9545cf713",
       "version_major": 2,
       "version_minor": 0
      },
      "text/plain": [
       "  0%|          | 0/2 [00:00<?, ?it/s]"
      ]
     },
     "metadata": {},
     "output_type": "display_data"
    },
    {
     "data": {
      "text/html": [
       "<div>\n",
       "<style scoped>\n",
       "    .dataframe tbody tr th:only-of-type {\n",
       "        vertical-align: middle;\n",
       "    }\n",
       "\n",
       "    .dataframe tbody tr th {\n",
       "        vertical-align: top;\n",
       "    }\n",
       "\n",
       "    .dataframe thead th {\n",
       "        text-align: right;\n",
       "    }\n",
       "</style>\n",
       "<table border=\"1\" class=\"dataframe\">\n",
       "  <thead>\n",
       "    <tr style=\"text-align: right;\">\n",
       "      <th>errors</th>\n",
       "      <th>(0.1, 0.05)</th>\n",
       "    </tr>\n",
       "    <tr>\n",
       "      <th>effect</th>\n",
       "      <th></th>\n",
       "    </tr>\n",
       "  </thead>\n",
       "  <tbody>\n",
       "    <tr>\n",
       "      <th>20.0%</th>\n",
       "      <td>244</td>\n",
       "    </tr>\n",
       "    <tr>\n",
       "      <th>10.0%</th>\n",
       "      <td>1209</td>\n",
       "    </tr>\n",
       "  </tbody>\n",
       "</table>\n",
       "</div>"
      ],
      "text/plain": [
       "errors  (0.1, 0.05)\n",
       "effect             \n",
       "20.0%           244\n",
       "10.0%          1209"
      ]
     },
     "execution_count": 36,
     "metadata": {},
     "output_type": "execute_result"
    }
   ],
   "source": [
    "designer.run('size', 'empiric', bootstrap_size=20)"
   ]
  },
  {
   "cell_type": "code",
   "execution_count": 32,
   "id": "4c23475d",
   "metadata": {},
   "outputs": [
    {
     "data": {
      "application/vnd.jupyter.widget-view+json": {
       "model_id": "2f16c158383b499691d03196cc60efb4",
       "version_major": 2,
       "version_minor": 0
      },
      "text/plain": [
       "  0%|          | 0/2 [00:00<?, ?it/s]"
      ]
     },
     "metadata": {},
     "output_type": "display_data"
    },
    {
     "data": {
      "text/html": [
       "<div>\n",
       "<style scoped>\n",
       "    .dataframe tbody tr th:only-of-type {\n",
       "        vertical-align: middle;\n",
       "    }\n",
       "\n",
       "    .dataframe tbody tr th {\n",
       "        vertical-align: top;\n",
       "    }\n",
       "\n",
       "    .dataframe thead th {\n",
       "        text-align: right;\n",
       "    }\n",
       "</style>\n",
       "<table border=\"1\" class=\"dataframe\">\n",
       "  <thead>\n",
       "    <tr style=\"text-align: right;\">\n",
       "      <th>errors</th>\n",
       "      <th>(0.1, 0.05)</th>\n",
       "    </tr>\n",
       "    <tr>\n",
       "      <th>group_sizes</th>\n",
       "      <th></th>\n",
       "    </tr>\n",
       "  </thead>\n",
       "  <tbody>\n",
       "    <tr>\n",
       "      <th>500</th>\n",
       "      <td>9.2%</td>\n",
       "    </tr>\n",
       "    <tr>\n",
       "      <th>2000</th>\n",
       "      <td>5.6%</td>\n",
       "    </tr>\n",
       "  </tbody>\n",
       "</table>\n",
       "</div>"
      ],
      "text/plain": [
       "errors      (0.1, 0.05)\n",
       "group_sizes            \n",
       "500                9.2%\n",
       "2000               5.6%"
      ]
     },
     "execution_count": 32,
     "metadata": {},
     "output_type": "execute_result"
    }
   ],
   "source": [
    "designer.run('effect', 'empiric', bootstrap_size=20)"
   ]
  },
  {
   "cell_type": "code",
   "execution_count": 34,
   "id": "408f8c09",
   "metadata": {},
   "outputs": [
    {
     "data": {
      "application/vnd.jupyter.widget-view+json": {
       "model_id": "5873dbe24fcf411c8d863dfaee947bd6",
       "version_major": 2,
       "version_minor": 0
      },
      "text/plain": [
       "0it [00:00, ?it/s]"
      ]
     },
     "metadata": {},
     "output_type": "display_data"
    },
    {
     "data": {
      "text/html": [
       "<div>\n",
       "<style scoped>\n",
       "    .dataframe tbody tr th:only-of-type {\n",
       "        vertical-align: middle;\n",
       "    }\n",
       "\n",
       "    .dataframe tbody tr th {\n",
       "        vertical-align: top;\n",
       "    }\n",
       "\n",
       "    .dataframe thead th {\n",
       "        text-align: right;\n",
       "    }\n",
       "</style>\n",
       "<table border=\"1\" class=\"dataframe\">\n",
       "  <thead>\n",
       "    <tr style=\"text-align: right;\">\n",
       "      <th>sample sizes</th>\n",
       "      <th>500</th>\n",
       "      <th>2000</th>\n",
       "    </tr>\n",
       "    <tr>\n",
       "      <th>effect</th>\n",
       "      <th></th>\n",
       "      <th></th>\n",
       "    </tr>\n",
       "  </thead>\n",
       "  <tbody>\n",
       "    <tr>\n",
       "      <th>1.1</th>\n",
       "      <td>100.0%</td>\n",
       "      <td>NaN</td>\n",
       "    </tr>\n",
       "    <tr>\n",
       "      <th>1.2</th>\n",
       "      <td>NaN</td>\n",
       "      <td>100.0%</td>\n",
       "    </tr>\n",
       "  </tbody>\n",
       "</table>\n",
       "</div>"
      ],
      "text/plain": [
       "sample sizes    500     2000\n",
       "effect                      \n",
       "1.1           100.0%     NaN\n",
       "1.2              NaN  100.0%"
      ]
     },
     "execution_count": 34,
     "metadata": {},
     "output_type": "execute_result"
    }
   ],
   "source": [
    "designer.run('power', 'empiric', bootstrap_size=20)"
   ]
  },
  {
   "cell_type": "markdown",
   "id": "ccf483dd",
   "metadata": {},
   "source": [
    "### Spark design for binary metrics "
   ]
  },
  {
   "cell_type": "markdown",
   "id": "7cc29707",
   "metadata": {},
   "source": [
    "For binary metrics,  ``\"theory\"`` or ``\"binary\"`` approaches can be used. \\\n",
    "The first approach uses different approximations for binary data, while the latter calculates experimental parameters based on the constructed confidence intervals of various types."
   ]
  },
  {
   "cell_type": "code",
   "execution_count": 69,
   "id": "bf2b0a47",
   "metadata": {},
   "outputs": [],
   "source": [
    "designer = Designer(dataframe=sdf, second_type_errors=0.5, sizes=150, effects=1.2, metrics='retention') "
   ]
  },
  {
   "cell_type": "markdown",
   "id": "240638d9",
   "metadata": {},
   "source": [
    "Group size:"
   ]
  },
  {
   "cell_type": "code",
   "execution_count": 73,
   "id": "533ef9a9",
   "metadata": {},
   "outputs": [
    {
     "data": {
      "text/html": [
       "<div>\n",
       "<style scoped>\n",
       "    .dataframe tbody tr th:only-of-type {\n",
       "        vertical-align: middle;\n",
       "    }\n",
       "\n",
       "    .dataframe tbody tr th {\n",
       "        vertical-align: top;\n",
       "    }\n",
       "\n",
       "    .dataframe thead tr th {\n",
       "        text-align: left;\n",
       "    }\n",
       "\n",
       "    .dataframe thead tr:last-of-type th {\n",
       "        text-align: right;\n",
       "    }\n",
       "</style>\n",
       "<table border=\"1\" class=\"dataframe\">\n",
       "  <thead>\n",
       "    <tr>\n",
       "      <th>errors</th>\n",
       "      <th>(0.05; 0.5)</th>\n",
       "    </tr>\n",
       "    <tr>\n",
       "      <th>effects</th>\n",
       "      <th></th>\n",
       "    </tr>\n",
       "  </thead>\n",
       "  <tbody>\n",
       "    <tr>\n",
       "      <th>20.0%</th>\n",
       "      <td>289</td>\n",
       "    </tr>\n",
       "  </tbody>\n",
       "</table>\n",
       "</div>"
      ],
      "text/plain": [
       "errors  (0.05; 0.5)\n",
       "effects            \n",
       "20.0%           289"
      ]
     },
     "execution_count": 73,
     "metadata": {},
     "output_type": "execute_result"
    }
   ],
   "source": [
    "designer.run('size', 'theory')"
   ]
  },
  {
   "cell_type": "code",
   "execution_count": 83,
   "id": "c18d9f28",
   "metadata": {},
   "outputs": [
    {
     "data": {
      "text/html": [
       "<div>\n",
       "<style scoped>\n",
       "    .dataframe tbody tr th:only-of-type {\n",
       "        vertical-align: middle;\n",
       "    }\n",
       "\n",
       "    .dataframe tbody tr th {\n",
       "        vertical-align: top;\n",
       "    }\n",
       "\n",
       "    .dataframe thead th {\n",
       "        text-align: right;\n",
       "    }\n",
       "</style>\n",
       "<table border=\"1\" class=\"dataframe\">\n",
       "  <thead>\n",
       "    <tr style=\"text-align: right;\">\n",
       "      <th></th>\n",
       "      <th>$\\delta$-relative</th>\n",
       "      <th>1.2</th>\n",
       "    </tr>\n",
       "    <tr>\n",
       "      <th>$\\alpha$</th>\n",
       "      <th>$\\beta$</th>\n",
       "      <th></th>\n",
       "    </tr>\n",
       "  </thead>\n",
       "  <tbody>\n",
       "    <tr>\n",
       "      <th>0.05</th>\n",
       "      <th>0.5</th>\n",
       "      <td>280</td>\n",
       "    </tr>\n",
       "  </tbody>\n",
       "</table>\n",
       "</div>"
      ],
      "text/plain": [
       "$\\delta$-relative  1.2\n",
       "$\\alpha$ $\\beta$      \n",
       "0.05     0.5       280"
      ]
     },
     "execution_count": 83,
     "metadata": {},
     "output_type": "execute_result"
    }
   ],
   "source": [
    "designer.run('size', 'binary', interval_type='newcombe', amount=100000)"
   ]
  },
  {
   "cell_type": "markdown",
   "id": "10669e8d",
   "metadata": {},
   "source": [
    "Power:"
   ]
  },
  {
   "cell_type": "code",
   "execution_count": 86,
   "id": "d02a3e4d",
   "metadata": {},
   "outputs": [
    {
     "data": {
      "text/html": [
       "<div>\n",
       "<style scoped>\n",
       "    .dataframe tbody tr th:only-of-type {\n",
       "        vertical-align: middle;\n",
       "    }\n",
       "\n",
       "    .dataframe tbody tr th {\n",
       "        vertical-align: top;\n",
       "    }\n",
       "\n",
       "    .dataframe thead th {\n",
       "        text-align: right;\n",
       "    }\n",
       "</style>\n",
       "<table border=\"1\" class=\"dataframe\">\n",
       "  <thead>\n",
       "    <tr style=\"text-align: right;\">\n",
       "      <th></th>\n",
       "      <th>sample sizes</th>\n",
       "      <th>150</th>\n",
       "    </tr>\n",
       "    <tr>\n",
       "      <th>First type error</th>\n",
       "      <th>Effect</th>\n",
       "      <th></th>\n",
       "    </tr>\n",
       "  </thead>\n",
       "  <tbody>\n",
       "    <tr>\n",
       "      <th>0.05</th>\n",
       "      <th>20.0%</th>\n",
       "      <td>29.2%</td>\n",
       "    </tr>\n",
       "  </tbody>\n",
       "</table>\n",
       "</div>"
      ],
      "text/plain": [
       "sample sizes               150\n",
       "First type error Effect       \n",
       "0.05             20.0%   29.2%"
      ]
     },
     "execution_count": 86,
     "metadata": {},
     "output_type": "execute_result"
    }
   ],
   "source": [
    "designer.run('power', 'theory')"
   ]
  },
  {
   "cell_type": "code",
   "execution_count": 91,
   "id": "f63087e0",
   "metadata": {},
   "outputs": [
    {
     "data": {
      "text/html": [
       "<style type=\"text/css\">\n",
       "</style>\n",
       "<table id=\"T_f544e_\">\n",
       "  <caption>$1 - \\beta$: power of criterion, $p_a\\delta=p_b$</caption>\n",
       "  <thead>\n",
       "    <tr>\n",
       "      <th class=\"blank\" >&nbsp;</th>\n",
       "      <th class=\"index_name level0\" >sample sizes</th>\n",
       "      <th class=\"col_heading level0 col0\" >150</th>\n",
       "    </tr>\n",
       "    <tr>\n",
       "      <th class=\"index_name level0\" >$\\alpha$</th>\n",
       "      <th class=\"index_name level1\" >$\\delta$-relative</th>\n",
       "      <th class=\"blank col0\" >&nbsp;</th>\n",
       "    </tr>\n",
       "  </thead>\n",
       "  <tbody>\n",
       "    <tr>\n",
       "      <th id=\"T_f544e_level0_row0\" class=\"row_heading level0 row0\" >0.05</th>\n",
       "      <th id=\"T_f544e_level1_row0\" class=\"row_heading level1 row0\" >1.2</th>\n",
       "      <td id=\"T_f544e_row0_col0\" class=\"data row0 col0\" >30.2%</td>\n",
       "    </tr>\n",
       "  </tbody>\n",
       "</table>\n"
      ],
      "text/plain": [
       "<pandas.io.formats.style.Styler at 0x1365f8160>"
      ]
     },
     "execution_count": 91,
     "metadata": {},
     "output_type": "execute_result"
    }
   ],
   "source": [
    "designer.run('power', 'binary', interval_type='newcombe', amount=100000)"
   ]
  },
  {
   "cell_type": "code",
   "execution_count": 18,
   "id": "a566f5f9",
   "metadata": {},
   "outputs": [],
   "source": [
    "spark.stop()"
   ]
  }
 ],
 "metadata": {
  "kernelspec": {
   "display_name": "Python 3 (ipykernel)",
   "language": "python",
   "name": "python3"
  },
  "language_info": {
   "codemirror_mode": {
    "name": "ipython",
    "version": 3
   },
   "file_extension": ".py",
   "mimetype": "text/x-python",
   "name": "python",
   "nbconvert_exporter": "python",
   "pygments_lexer": "ipython3",
   "version": "3.9.16"
  },
  "varInspector": {
   "cols": {
    "lenName": 16,
    "lenType": 16,
    "lenVar": 40
   },
   "kernels_config": {
    "python": {
     "delete_cmd_postfix": "",
     "delete_cmd_prefix": "del ",
     "library": "var_list.py",
     "varRefreshCmd": "print(var_dic_list())"
    },
    "r": {
     "delete_cmd_postfix": ") ",
     "delete_cmd_prefix": "rm(",
     "library": "var_list.r",
     "varRefreshCmd": "cat(var_dic_list()) "
    }
   },
   "types_to_exclude": [
    "module",
    "function",
    "builtin_function_or_method",
    "instance",
    "_Feature"
   ],
   "window_display": false
  },
  "vscode": {
   "interpreter": {
    "hash": "d8fb73508d2acb87fe0aab48900f4b3a805e91f36d689aef3b766391c2767938"
   }
  }
 },
 "nbformat": 4,
 "nbformat_minor": 5
}
