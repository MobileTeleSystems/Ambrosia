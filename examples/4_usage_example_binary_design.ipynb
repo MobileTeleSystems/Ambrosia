{
    "cells": [
        {
            "cell_type": "markdown",
            "id": "11f1e69b",
            "metadata": {},
            "source": [
                "# Example of a binary experiment design based on a known conversion value"
            ]
        },
        {
            "cell_type": "code",
            "execution_count": 2,
            "id": "1cff69a5",
            "metadata": {},
            "outputs": [],
            "source": [
                "from ambrosia.designer import design_binary\n",
                "from ambrosia.designer import design_binary_size\n",
                "from ambrosia.designer import design_binary_effect\n",
                "from ambrosia.designer import design_binary_power"
            ]
        },
        {
            "cell_type": "markdown",
            "id": "f9d2827f",
            "metadata": {},
            "source": [
                "### Sample size design"
            ]
        },
        {
            "cell_type": "code",
            "execution_count": 3,
            "id": "5ebd37f9",
            "metadata": {},
            "outputs": [
                {
                    "data": {
                        "text/html": [
                            "<div>\n",
                            "<style scoped>\n",
                            "    .dataframe tbody tr th:only-of-type {\n",
                            "        vertical-align: middle;\n",
                            "    }\n",
                            "\n",
                            "    .dataframe tbody tr th {\n",
                            "        vertical-align: top;\n",
                            "    }\n",
                            "\n",
                            "    .dataframe thead tr th {\n",
                            "        text-align: left;\n",
                            "    }\n",
                            "\n",
                            "    .dataframe thead tr:last-of-type th {\n",
                            "        text-align: right;\n",
                            "    }\n",
                            "</style>\n",
                            "<table border=\"1\" class=\"dataframe\">\n",
                            "  <thead>\n",
                            "    <tr>\n",
                            "      <th>errors</th>\n",
                            "      <th>(0.05; 0.2)</th>\n",
                            "    </tr>\n",
                            "    <tr>\n",
                            "      <th>effects</th>\n",
                            "      <th></th>\n",
                            "    </tr>\n",
                            "  </thead>\n",
                            "  <tbody>\n",
                            "    <tr>\n",
                            "      <th>5.0%</th>\n",
                            "      <td>122107</td>\n",
                            "    </tr>\n",
                            "    <tr>\n",
                            "      <th>10.0%</th>\n",
                            "      <td>31218</td>\n",
                            "    </tr>\n",
                            "  </tbody>\n",
                            "</table>\n",
                            "</div>"
                        ],
                        "text/plain": [
                            "errors  (0.05; 0.2)\n",
                            "effects            \n",
                            "5.0%         122107\n",
                            "10.0%         31218"
                        ]
                    },
                    "execution_count": 3,
                    "metadata": {},
                    "output_type": "execute_result"
                }
            ],
            "source": [
                "design_binary_size(prob_a=0.05, # Known conversion value\n",
                "                   effects=[1.05, 1.1], # Desired effects\n",
                ")"
            ]
        },
        {
            "cell_type": "code",
            "execution_count": 4,
            "id": "de0e0864",
            "metadata": {},
            "outputs": [
                {
                    "data": {
                        "text/html": [
                            "<div>\n",
                            "<style scoped>\n",
                            "    .dataframe tbody tr th:only-of-type {\n",
                            "        vertical-align: middle;\n",
                            "    }\n",
                            "\n",
                            "    .dataframe tbody tr th {\n",
                            "        vertical-align: top;\n",
                            "    }\n",
                            "\n",
                            "    .dataframe thead tr th {\n",
                            "        text-align: left;\n",
                            "    }\n",
                            "\n",
                            "    .dataframe thead tr:last-of-type th {\n",
                            "        text-align: right;\n",
                            "    }\n",
                            "</style>\n",
                            "<table border=\"1\" class=\"dataframe\">\n",
                            "  <thead>\n",
                            "    <tr>\n",
                            "      <th>errors</th>\n",
                            "      <th>(0.05; 0.2)</th>\n",
                            "    </tr>\n",
                            "    <tr>\n",
                            "      <th>effects</th>\n",
                            "      <th></th>\n",
                            "    </tr>\n",
                            "  </thead>\n",
                            "  <tbody>\n",
                            "    <tr>\n",
                            "      <th>5.0%</th>\n",
                            "      <td>122107</td>\n",
                            "    </tr>\n",
                            "    <tr>\n",
                            "      <th>10.0%</th>\n",
                            "      <td>31218</td>\n",
                            "    </tr>\n",
                            "  </tbody>\n",
                            "</table>\n",
                            "</div>"
                        ],
                        "text/plain": [
                            "errors  (0.05; 0.2)\n",
                            "effects            \n",
                            "5.0%         122107\n",
                            "10.0%         31218"
                        ]
                    },
                    "execution_count": 4,
                    "metadata": {},
                    "output_type": "execute_result"
                }
            ],
            "source": [
                "design_binary(to_design='size',\n",
                "              prob_a=0.05, # Known conversion value\n",
                "              effects=[1.05, 1.1], # Desired effects\n",
                ")"
            ]
        },
        {
            "cell_type": "markdown",
            "id": "e9e726ce",
            "metadata": {},
            "source": [
                "#### Effect design"
            ]
        },
        {
            "cell_type": "code",
            "execution_count": 5,
            "id": "be38b48f",
            "metadata": {},
            "outputs": [
                {
                    "data": {
                        "text/html": [
                            "<div>\n",
                            "<style scoped>\n",
                            "    .dataframe tbody tr th:only-of-type {\n",
                            "        vertical-align: middle;\n",
                            "    }\n",
                            "\n",
                            "    .dataframe tbody tr th {\n",
                            "        vertical-align: top;\n",
                            "    }\n",
                            "\n",
                            "    .dataframe thead tr th {\n",
                            "        text-align: left;\n",
                            "    }\n",
                            "\n",
                            "    .dataframe thead tr:last-of-type th {\n",
                            "        text-align: right;\n",
                            "    }\n",
                            "</style>\n",
                            "<table border=\"1\" class=\"dataframe\">\n",
                            "  <thead>\n",
                            "    <tr>\n",
                            "      <th>errors</th>\n",
                            "      <th>(0.05; 0.2)</th>\n",
                            "    </tr>\n",
                            "    <tr>\n",
                            "      <th>sample_sizes</th>\n",
                            "      <th></th>\n",
                            "    </tr>\n",
                            "  </thead>\n",
                            "  <tbody>\n",
                            "    <tr>\n",
                            "      <th>130000</th>\n",
                            "      <td>4.8%</td>\n",
                            "    </tr>\n",
                            "    <tr>\n",
                            "      <th>30000</th>\n",
                            "      <td>10.2%</td>\n",
                            "    </tr>\n",
                            "  </tbody>\n",
                            "</table>\n",
                            "</div>"
                        ],
                        "text/plain": [
                            "errors       (0.05; 0.2)\n",
                            "sample_sizes            \n",
                            "130000              4.8%\n",
                            "30000              10.2%"
                        ]
                    },
                    "execution_count": 5,
                    "metadata": {},
                    "output_type": "execute_result"
                }
            ],
            "source": [
                "design_binary_effect(prob_a=0.05, # Known conversion value\n",
                "                     sizes=[130000, 30000], # Desired group sizes\n",
                "                     delta_type='relative', # Can be set as absolute or relative\n",
                ")"
            ]
        },
        {
            "cell_type": "code",
            "execution_count": 6,
            "id": "8e8a77cf",
            "metadata": {},
            "outputs": [
                {
                    "data": {
                        "text/html": [
                            "<div>\n",
                            "<style scoped>\n",
                            "    .dataframe tbody tr th:only-of-type {\n",
                            "        vertical-align: middle;\n",
                            "    }\n",
                            "\n",
                            "    .dataframe tbody tr th {\n",
                            "        vertical-align: top;\n",
                            "    }\n",
                            "\n",
                            "    .dataframe thead tr th {\n",
                            "        text-align: left;\n",
                            "    }\n",
                            "\n",
                            "    .dataframe thead tr:last-of-type th {\n",
                            "        text-align: right;\n",
                            "    }\n",
                            "</style>\n",
                            "<table border=\"1\" class=\"dataframe\">\n",
                            "  <thead>\n",
                            "    <tr>\n",
                            "      <th>errors</th>\n",
                            "      <th>(0.05; 0.2)</th>\n",
                            "    </tr>\n",
                            "    <tr>\n",
                            "      <th>sample_sizes</th>\n",
                            "      <th></th>\n",
                            "    </tr>\n",
                            "  </thead>\n",
                            "  <tbody>\n",
                            "    <tr>\n",
                            "      <th>130000</th>\n",
                            "      <td>4.8%</td>\n",
                            "    </tr>\n",
                            "    <tr>\n",
                            "      <th>30000</th>\n",
                            "      <td>10.2%</td>\n",
                            "    </tr>\n",
                            "  </tbody>\n",
                            "</table>\n",
                            "</div>"
                        ],
                        "text/plain": [
                            "errors       (0.05; 0.2)\n",
                            "sample_sizes            \n",
                            "130000              4.8%\n",
                            "30000              10.2%"
                        ]
                    },
                    "execution_count": 6,
                    "metadata": {},
                    "output_type": "execute_result"
                }
            ],
            "source": [
                "design_binary(to_design='effect',\n",
                "              prob_a=0.05, # Known conversion value\n",
                "              sizes=[130000, 30000], # Desired effects\n",
                "              delta_type='relative', # Can be set as absolute or relative\n",
                ")"
            ]
        },
        {
            "cell_type": "markdown",
            "id": "6f9ecc3b",
            "metadata": {},
            "source": [
                "### Power design"
            ]
        },
        {
            "cell_type": "code",
            "execution_count": 7,
            "id": "dc91013e",
            "metadata": {},
            "outputs": [
                {
                    "data": {
                        "text/html": [
                            "<div>\n",
                            "<style scoped>\n",
                            "    .dataframe tbody tr th:only-of-type {\n",
                            "        vertical-align: middle;\n",
                            "    }\n",
                            "\n",
                            "    .dataframe tbody tr th {\n",
                            "        vertical-align: top;\n",
                            "    }\n",
                            "\n",
                            "    .dataframe thead th {\n",
                            "        text-align: right;\n",
                            "    }\n",
                            "</style>\n",
                            "<table border=\"1\" class=\"dataframe\">\n",
                            "  <thead>\n",
                            "    <tr style=\"text-align: right;\">\n",
                            "      <th></th>\n",
                            "      <th>sample sizes</th>\n",
                            "      <th>130000</th>\n",
                            "      <th>32000</th>\n",
                            "    </tr>\n",
                            "    <tr>\n",
                            "      <th>First type error</th>\n",
                            "      <th>Effect</th>\n",
                            "      <th></th>\n",
                            "      <th></th>\n",
                            "    </tr>\n",
                            "  </thead>\n",
                            "  <tbody>\n",
                            "    <tr>\n",
                            "      <th rowspan=\"2\" valign=\"top\">0.05</th>\n",
                            "      <th>5.0%</th>\n",
                            "      <td>82.4%</td>\n",
                            "      <td>30.0%</td>\n",
                            "    </tr>\n",
                            "    <tr>\n",
                            "      <th>10.0%</th>\n",
                            "      <td>100.0%</td>\n",
                            "      <td>81.0%</td>\n",
                            "    </tr>\n",
                            "  </tbody>\n",
                            "</table>\n",
                            "</div>"
                        ],
                        "text/plain": [
                            "sample sizes             130000 32000 \n",
                            "First type error Effect               \n",
                            "0.05             5.0%     82.4%  30.0%\n",
                            "                 10.0%   100.0%  81.0%"
                        ]
                    },
                    "execution_count": 7,
                    "metadata": {},
                    "output_type": "execute_result"
                }
            ],
            "source": [
                "design_binary_power(prob_a=0.05, # Known conversion value\n",
                "                    sizes=[130000, 32000], # Desired effects\n",
                "                    effects=[1.05, 1.10], # Desired effects\n",
                ")"
            ]
        },
        {
            "cell_type": "code",
            "execution_count": 8,
            "id": "844392b1",
            "metadata": {},
            "outputs": [
                {
                    "data": {
                        "text/html": [
                            "<div>\n",
                            "<style scoped>\n",
                            "    .dataframe tbody tr th:only-of-type {\n",
                            "        vertical-align: middle;\n",
                            "    }\n",
                            "\n",
                            "    .dataframe tbody tr th {\n",
                            "        vertical-align: top;\n",
                            "    }\n",
                            "\n",
                            "    .dataframe thead th {\n",
                            "        text-align: right;\n",
                            "    }\n",
                            "</style>\n",
                            "<table border=\"1\" class=\"dataframe\">\n",
                            "  <thead>\n",
                            "    <tr style=\"text-align: right;\">\n",
                            "      <th></th>\n",
                            "      <th>sample sizes</th>\n",
                            "      <th>130000</th>\n",
                            "      <th>32000</th>\n",
                            "    </tr>\n",
                            "    <tr>\n",
                            "      <th>First type error</th>\n",
                            "      <th>Effect</th>\n",
                            "      <th></th>\n",
                            "      <th></th>\n",
                            "    </tr>\n",
                            "  </thead>\n",
                            "  <tbody>\n",
                            "    <tr>\n",
                            "      <th rowspan=\"2\" valign=\"top\">0.05</th>\n",
                            "      <th>5.0%</th>\n",
                            "      <td>82.4%</td>\n",
                            "      <td>30.0%</td>\n",
                            "    </tr>\n",
                            "    <tr>\n",
                            "      <th>10.0%</th>\n",
                            "      <td>100.0%</td>\n",
                            "      <td>81.0%</td>\n",
                            "    </tr>\n",
                            "  </tbody>\n",
                            "</table>\n",
                            "</div>"
                        ],
                        "text/plain": [
                            "sample sizes             130000 32000 \n",
                            "First type error Effect               \n",
                            "0.05             5.0%     82.4%  30.0%\n",
                            "                 10.0%   100.0%  81.0%"
                        ]
                    },
                    "execution_count": 8,
                    "metadata": {},
                    "output_type": "execute_result"
                }
            ],
            "source": [
                "design_binary(to_design='power',\n",
                "              prob_a=0.05, # Known conversion value\n",
                "              sizes=[130000, 32000], # Desired effects\n",
                "              effects=[1.05, 1.10], # Desired group sizes\n",
                ")"
            ]
        }
    ],
    "metadata": {
        "kernelspec": {
            "display_name": "Python 3 (ipykernel)",
            "language": "python",
            "name": "python3"
        },
        "language_info": {
            "codemirror_mode": {
                "name": "ipython",
                "version": 3
            },
            "file_extension": ".py",
            "mimetype": "text/x-python",
            "name": "python",
            "nbconvert_exporter": "python",
            "pygments_lexer": "ipython3",
            "version": "3.9.16"
        },
        "varInspector": {
            "cols": {
                "lenName": 16,
                "lenType": 16,
                "lenVar": 40
            },
            "kernels_config": {
                "python": {
                    "delete_cmd_postfix": "",
                    "delete_cmd_prefix": "del ",
                    "library": "var_list.py",
                    "varRefreshCmd": "print(var_dic_list())"
                },
                "r": {
                    "delete_cmd_postfix": ") ",
                    "delete_cmd_prefix": "rm(",
                    "library": "var_list.r",
                    "varRefreshCmd": "cat(var_dic_list()) "
                }
            },
            "types_to_exclude": [
                "module",
                "function",
                "builtin_function_or_method",
                "instance",
                "_Feature"
            ],
            "window_display": false
        },
        "vscode": {
            "interpreter": {
                "hash": "15e03aca08654ff88849a83ba91b8d68554484428ba3c5cc187066980980321c"
            }
        }
    },
    "nbformat": 4,
    "nbformat_minor": 5
}