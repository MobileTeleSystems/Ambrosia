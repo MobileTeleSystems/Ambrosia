{
 "cells": [
  {
   "cell_type": "code",
   "execution_count": 1,
   "metadata": {},
   "outputs": [
    {
     "data": {
      "text/html": [
       "<style>.container { width:90% !important; }</style>"
      ],
      "text/plain": [
       "<IPython.core.display.HTML object>"
      ]
     },
     "metadata": {},
     "output_type": "display_data"
    }
   ],
   "source": [
    "from IPython.display import display, HTML\n",
    "display(HTML(\"<style>.container { width:90% !important; }</style>\"))"
   ]
  },
  {
   "cell_type": "markdown",
   "metadata": {},
   "source": [
    "# test Robust"
   ]
  },
  {
   "cell_type": "code",
   "execution_count": 69,
   "metadata": {},
   "outputs": [],
   "source": [
    "df_1 = pd.DataFrame(np.random.normal(size=(500_000, 3)),\n",
    "                   columns=[\"metric_val1\", \"metric_val2\", \"metric_val3\"])\n",
    "df_1['label'] = 'A'\n",
    "df_2 = pd.DataFrame(np.random.normal(size=(500_000, 3)),\n",
    "                   columns=[\"metric_val1\", \"metric_val2\", \"metric_val3\"])\n",
    "df_2['label'] = 'B'\n",
    "df_3 = pd.DataFrame(np.random.normal(size=(500_000, 3)),\n",
    "                   columns=[\"metric_val1\", \"metric_val2\", \"metric_val3\"])\n",
    "df_3['label'] = 'C'"
   ]
  },
  {
   "cell_type": "code",
   "execution_count": 70,
   "metadata": {},
   "outputs": [],
   "source": [
    "res = pd.concat([df_1, df_2, df_3])"
   ]
  },
  {
   "cell_type": "code",
   "execution_count": 96,
   "metadata": {},
   "outputs": [],
   "source": [
    "def check_target_type(\n",
    "    dataframe,\n",
    "    column,\n",
    "):\n",
    "    \"\"\"\n",
    "    Check type of target: binary / non-binary.\n",
    "    \"\"\"\n",
    "    unique_vals_count = dataframe[column].nunique()\n",
    "    if unique_vals_count > 2:\n",
    "        return \"non-binary\"\n",
    "    unique_vals = set(dataframe[column].unique())\n",
    "    if unique_vals == {0, 1} or unique_vals in {0, 1}:\n",
    "        return \"binary\"\n",
    "    return \"non-binary\""
   ]
  },
  {
   "cell_type": "code",
   "execution_count": 97,
   "metadata": {},
   "outputs": [],
   "source": [
    "def check_target_type_new(\n",
    "    dataframe,\n",
    "    column,\n",
    "):\n",
    "    \"\"\"\n",
    "    Check type of target: binary / non-binary.\n",
    "    \"\"\"\n",
    "    unique_vals = set(dataframe[column].values)\n",
    "    if unique_vals == {0, 1}:\n",
    "        return \"binary\"\n",
    "    else:\n",
    "        return \"non-binary\""
   ]
  },
  {
   "cell_type": "code",
   "execution_count": 105,
   "metadata": {},
   "outputs": [
    {
     "name": "stdout",
     "output_type": "stream",
     "text": [
      "CPU times: user 17.7 ms, sys: 3.25 ms, total: 21 ms\n",
      "Wall time: 19.4 ms\n"
     ]
    },
    {
     "data": {
      "text/plain": [
       "'binary'"
      ]
     },
     "execution_count": 105,
     "metadata": {},
     "output_type": "execute_result"
    }
   ],
   "source": [
    "%%time\n",
    "check_target_type(res, 'metric_val4')"
   ]
  },
  {
   "cell_type": "code",
   "execution_count": 39,
   "metadata": {},
   "outputs": [],
   "source": [
    "from ambrosia.tester import Tester"
   ]
  },
  {
   "cell_type": "code",
   "execution_count": 40,
   "metadata": {},
   "outputs": [],
   "source": [
    "tester = Tester()"
   ]
  },
  {
   "cell_type": "code",
   "execution_count": 57,
   "metadata": {},
   "outputs": [
    {
     "data": {
      "text/plain": [
       "0.747648"
      ]
     },
     "execution_count": 57,
     "metadata": {},
     "output_type": "execute_result"
    }
   ],
   "source": [
    "0.249216 * 3"
   ]
  },
  {
   "cell_type": "code",
   "execution_count": 56,
   "metadata": {},
   "outputs": [
    {
     "data": {
      "text/html": [
       "<div>\n",
       "<style scoped>\n",
       "    .dataframe tbody tr th:only-of-type {\n",
       "        vertical-align: middle;\n",
       "    }\n",
       "\n",
       "    .dataframe tbody tr th {\n",
       "        vertical-align: top;\n",
       "    }\n",
       "\n",
       "    .dataframe thead th {\n",
       "        text-align: right;\n",
       "    }\n",
       "</style>\n",
       "<table border=\"1\" class=\"dataframe\">\n",
       "  <thead>\n",
       "    <tr style=\"text-align: right;\">\n",
       "      <th></th>\n",
       "      <th>first_type_error</th>\n",
       "      <th>pvalue</th>\n",
       "      <th>effect</th>\n",
       "      <th>confidence_interval</th>\n",
       "      <th>metric name</th>\n",
       "      <th>group A label</th>\n",
       "      <th>group B label</th>\n",
       "    </tr>\n",
       "  </thead>\n",
       "  <tbody>\n",
       "    <tr>\n",
       "      <th>0</th>\n",
       "      <td>0.016667</td>\n",
       "      <td>0.747649</td>\n",
       "      <td>0.023052</td>\n",
       "      <td>(-0.0324, 0.0785)</td>\n",
       "      <td>metric_val1</td>\n",
       "      <td>A</td>\n",
       "      <td>B</td>\n",
       "    </tr>\n",
       "    <tr>\n",
       "      <th>1</th>\n",
       "      <td>0.016667</td>\n",
       "      <td>2.837958</td>\n",
       "      <td>0.001352</td>\n",
       "      <td>(-0.054, 0.0567)</td>\n",
       "      <td>metric_val1</td>\n",
       "      <td>A</td>\n",
       "      <td>C</td>\n",
       "    </tr>\n",
       "    <tr>\n",
       "      <th>2</th>\n",
       "      <td>0.016667</td>\n",
       "      <td>0.826893</td>\n",
       "      <td>-0.021700</td>\n",
       "      <td>(-0.0769, 0.0335)</td>\n",
       "      <td>metric_val1</td>\n",
       "      <td>B</td>\n",
       "      <td>C</td>\n",
       "    </tr>\n",
       "  </tbody>\n",
       "</table>\n",
       "</div>"
      ],
      "text/plain": [
       "   first_type_error    pvalue    effect confidence_interval  metric name  \\\n",
       "0          0.016667  0.747649  0.023052   (-0.0324, 0.0785)  metric_val1   \n",
       "1          0.016667  2.837958  0.001352    (-0.054, 0.0567)  metric_val1   \n",
       "2          0.016667  0.826893 -0.021700   (-0.0769, 0.0335)  metric_val1   \n",
       "\n",
       "  group A label group B label  \n",
       "0             A             B  \n",
       "1             A             C  \n",
       "2             B             C  "
      ]
     },
     "execution_count": 56,
     "metadata": {},
     "output_type": "execute_result"
    }
   ],
   "source": [
    "tester.run(dataframe=res, metrics=['metric_val1'], column_groups='label')"
   ]
  },
  {
   "cell_type": "code",
   "execution_count": 59,
   "metadata": {},
   "outputs": [
    {
     "data": {
      "text/html": [
       "<div>\n",
       "<style scoped>\n",
       "    .dataframe tbody tr th:only-of-type {\n",
       "        vertical-align: middle;\n",
       "    }\n",
       "\n",
       "    .dataframe tbody tr th {\n",
       "        vertical-align: top;\n",
       "    }\n",
       "\n",
       "    .dataframe thead th {\n",
       "        text-align: right;\n",
       "    }\n",
       "</style>\n",
       "<table border=\"1\" class=\"dataframe\">\n",
       "  <thead>\n",
       "    <tr style=\"text-align: right;\">\n",
       "      <th></th>\n",
       "      <th>first_type_error</th>\n",
       "      <th>pvalue</th>\n",
       "      <th>effect</th>\n",
       "      <th>confidence_interval</th>\n",
       "      <th>metric name</th>\n",
       "      <th>group A label</th>\n",
       "      <th>group B label</th>\n",
       "    </tr>\n",
       "  </thead>\n",
       "  <tbody>\n",
       "    <tr>\n",
       "      <th>0</th>\n",
       "      <td>0.005556</td>\n",
       "      <td>0.249216</td>\n",
       "      <td>0.023052</td>\n",
       "      <td>(-0.0324, 0.0785)</td>\n",
       "      <td>metric_val1</td>\n",
       "      <td>A</td>\n",
       "      <td>B</td>\n",
       "    </tr>\n",
       "  </tbody>\n",
       "</table>\n",
       "</div>"
      ],
      "text/plain": [
       "   first_type_error    pvalue    effect confidence_interval  metric name  \\\n",
       "0          0.005556  0.249216  0.023052   (-0.0324, 0.0785)  metric_val1   \n",
       "\n",
       "  group A label group B label  \n",
       "0             A             B  "
      ]
     },
     "execution_count": 59,
     "metadata": {},
     "output_type": "execute_result"
    }
   ],
   "source": [
    "tester.run(dataframe=res[(res['label'] =='A') | (res['label'] =='B')], metrics=['metric_val1'], column_groups='label')"
   ]
  },
  {
   "cell_type": "code",
   "execution_count": 58,
   "metadata": {
    "scrolled": true
   },
   "outputs": [
    {
     "data": {
      "text/html": [
       "<div>\n",
       "<style scoped>\n",
       "    .dataframe tbody tr th:only-of-type {\n",
       "        vertical-align: middle;\n",
       "    }\n",
       "\n",
       "    .dataframe tbody tr th {\n",
       "        vertical-align: top;\n",
       "    }\n",
       "\n",
       "    .dataframe thead th {\n",
       "        text-align: right;\n",
       "    }\n",
       "</style>\n",
       "<table border=\"1\" class=\"dataframe\">\n",
       "  <thead>\n",
       "    <tr style=\"text-align: right;\">\n",
       "      <th></th>\n",
       "      <th>first_type_error</th>\n",
       "      <th>pvalue</th>\n",
       "      <th>effect</th>\n",
       "      <th>confidence_interval</th>\n",
       "      <th>metric name</th>\n",
       "      <th>group A label</th>\n",
       "      <th>group B label</th>\n",
       "    </tr>\n",
       "  </thead>\n",
       "  <tbody>\n",
       "    <tr>\n",
       "      <th>0</th>\n",
       "      <td>0.005556</td>\n",
       "      <td>0.249216</td>\n",
       "      <td>0.023052</td>\n",
       "      <td>(-0.0324, 0.0785)</td>\n",
       "      <td>metric_val1</td>\n",
       "      <td>A</td>\n",
       "      <td>B</td>\n",
       "    </tr>\n",
       "    <tr>\n",
       "      <th>1</th>\n",
       "      <td>0.005556</td>\n",
       "      <td>0.142035</td>\n",
       "      <td>-0.029260</td>\n",
       "      <td>(-0.0845, 0.026)</td>\n",
       "      <td>metric_val2</td>\n",
       "      <td>A</td>\n",
       "      <td>B</td>\n",
       "    </tr>\n",
       "  </tbody>\n",
       "</table>\n",
       "</div>"
      ],
      "text/plain": [
       "   first_type_error    pvalue    effect confidence_interval  metric name  \\\n",
       "0          0.005556  0.249216  0.023052   (-0.0324, 0.0785)  metric_val1   \n",
       "1          0.005556  0.142035 -0.029260    (-0.0845, 0.026)  metric_val2   \n",
       "\n",
       "  group A label group B label  \n",
       "0             A             B  \n",
       "1             A             B  "
      ]
     },
     "execution_count": 58,
     "metadata": {},
     "output_type": "execute_result"
    }
   ],
   "source": [
    "tester.run(dataframe=res[(res['label'] =='A') | (res['label'] =='B')], metrics=['metric_val1', 'metric_val2'], column_groups='label')"
   ]
  },
  {
   "cell_type": "code",
   "execution_count": 22,
   "metadata": {},
   "outputs": [],
   "source": [
    "import joblib"
   ]
  },
  {
   "cell_type": "code",
   "execution_count": 24,
   "metadata": {},
   "outputs": [],
   "source": [
    "model = joblib.load('tests/configs/mlvar_reducer_model.pkl')"
   ]
  },
  {
   "cell_type": "code",
   "execution_count": 28,
   "metadata": {},
   "outputs": [],
   "source": [
    "trans = model.predict(table)"
   ]
  },
  {
   "cell_type": "code",
   "execution_count": 29,
   "metadata": {},
   "outputs": [
    {
     "data": {
      "text/plain": [
       "1683.6826818075872"
      ]
     },
     "execution_count": 29,
     "metadata": {},
     "output_type": "execute_result"
    }
   ],
   "source": [
    "np.mean(trans)"
   ]
  },
  {
   "cell_type": "code",
   "execution_count": 30,
   "metadata": {},
   "outputs": [
    {
     "data": {
      "text/plain": [
       "86920.62715058296"
      ]
     },
     "execution_count": 30,
     "metadata": {},
     "output_type": "execute_result"
    }
   ],
   "source": [
    "np.var(trans)"
   ]
  },
  {
   "cell_type": "code",
   "execution_count": 33,
   "metadata": {},
   "outputs": [
    {
     "data": {
      "text/plain": [
       "1684.050907878038"
      ]
     },
     "execution_count": 33,
     "metadata": {},
     "output_type": "execute_result"
    }
   ],
   "source": [
    "table.target.mean()"
   ]
  },
  {
   "cell_type": "code",
   "execution_count": 34,
   "metadata": {},
   "outputs": [
    {
     "data": {
      "text/plain": [
       "955119.6580605546"
      ]
     },
     "execution_count": 34,
     "metadata": {},
     "output_type": "execute_result"
    }
   ],
   "source": [
    "table.target.var()"
   ]
  },
  {
   "cell_type": "code",
   "execution_count": 16,
   "metadata": {},
   "outputs": [],
   "source": [
    "import numpy as np\n",
    "import pandas as pd"
   ]
  },
  {
   "cell_type": "code",
   "execution_count": 2,
   "metadata": {},
   "outputs": [],
   "source": [
    "from ambrosia.preprocessing import AggregatePreprocessor\n",
    "from ambrosia.preprocessing import Preprocessor"
   ]
  },
  {
   "cell_type": "code",
   "execution_count": 3,
   "metadata": {},
   "outputs": [],
   "source": [
    "kek = AggregatePreprocessor()"
   ]
  },
  {
   "cell_type": "code",
   "execution_count": 4,
   "metadata": {},
   "outputs": [
    {
     "ename": "NameError",
     "evalue": "name 'inspect' is not defined",
     "output_type": "error",
     "traceback": [
      "\u001b[0;31m---------------------------------------------------------------------------\u001b[0m",
      "\u001b[0;31mNameError\u001b[0m                                 Traceback (most recent call last)",
      "Cell \u001b[0;32mIn[4], line 1\u001b[0m\n\u001b[0;32m----> 1\u001b[0m \u001b[43minspect\u001b[49m\u001b[38;5;241m.\u001b[39mgetargspec(f)[\u001b[38;5;241m0\u001b[39m]\n",
      "\u001b[0;31mNameError\u001b[0m: name 'inspect' is not defined"
     ]
    }
   ],
   "source": [
    "inspect.getargspec(f)[0]"
   ]
  },
  {
   "cell_type": "code",
   "execution_count": 4,
   "metadata": {},
   "outputs": [
    {
     "ename": "NameError",
     "evalue": "name 'inspect' is not defined",
     "output_type": "error",
     "traceback": [
      "\u001b[0;31m---------------------------------------------------------------------------\u001b[0m",
      "\u001b[0;31mNameError\u001b[0m                                 Traceback (most recent call last)",
      "Cell \u001b[0;32mIn[4], line 1\u001b[0m\n\u001b[0;32m----> 1\u001b[0m \u001b[43minspect\u001b[49m\u001b[38;5;241m.\u001b[39msignature(kek\u001b[38;5;241m.\u001b[39mfit)\n",
      "\u001b[0;31mNameError\u001b[0m: name 'inspect' is not defined"
     ]
    }
   ],
   "source": [
    "inspect.signature(kek.fit)"
   ]
  },
  {
   "cell_type": "code",
   "execution_count": 6,
   "metadata": {},
   "outputs": [
    {
     "ename": "NameError",
     "evalue": "name 'sys' is not defined",
     "output_type": "error",
     "traceback": [
      "\u001b[0;31m---------------------------------------------------------------------------\u001b[0m",
      "\u001b[0;31mNameError\u001b[0m                                 Traceback (most recent call last)",
      "Cell \u001b[0;32mIn[6], line 1\u001b[0m\n\u001b[0;32m----> 1\u001b[0m \u001b[38;5;28mgetattr\u001b[39m(\u001b[43msys\u001b[49m\u001b[38;5;241m.\u001b[39mmodules[\u001b[38;5;18m__name__\u001b[39m], \u001b[38;5;124m'\u001b[39m\u001b[38;5;124mPreprocessor\u001b[39m\u001b[38;5;124m'\u001b[39m)\n",
      "\u001b[0;31mNameError\u001b[0m: name 'sys' is not defined"
     ]
    }
   ],
   "source": [
    "getattr(sys.modules[__name__], 'Preprocessor')"
   ]
  },
  {
   "cell_type": "code",
   "execution_count": null,
   "metadata": {},
   "outputs": [],
   "source": [
    "eval()"
   ]
  },
  {
   "cell_type": "code",
   "execution_count": 25,
   "metadata": {},
   "outputs": [
    {
     "data": {
      "text/plain": [
       "ambrosia.preprocessing.preprocessor.Preprocessor"
      ]
     },
     "execution_count": 25,
     "metadata": {},
     "output_type": "execute_result"
    }
   ],
   "source": [
    "eval('Preprocessor')"
   ]
  },
  {
   "cell_type": "code",
   "execution_count": 21,
   "metadata": {},
   "outputs": [
    {
     "ename": "SyntaxError",
     "evalue": "invalid syntax (2760301575.py, line 1)",
     "output_type": "error",
     "traceback": [
      "\u001b[0;36m  Cell \u001b[0;32mIn[21], line 1\u001b[0;36m\u001b[0m\n\u001b[0;31m    .__class__.__name__\u001b[0m\n\u001b[0m    ^\u001b[0m\n\u001b[0;31mSyntaxError\u001b[0m\u001b[0;31m:\u001b[0m invalid syntax\n"
     ]
    }
   ],
   "source": [
    ".__class__.__name__"
   ]
  },
  {
   "cell_type": "code",
   "execution_count": 5,
   "metadata": {},
   "outputs": [
    {
     "data": {
      "text/plain": [
       "<ambrosia.preprocessing.aggregate.AggregatePreprocessor at 0x13f771f10>"
      ]
     },
     "execution_count": 5,
     "metadata": {},
     "output_type": "execute_result"
    }
   ],
   "source": [
    "AggregatePreprocessor()"
   ]
  },
  {
   "cell_type": "code",
   "execution_count": 26,
   "metadata": {},
   "outputs": [],
   "source": [
    "table: pd.DataFrame = pd.read_csv(\"tests/test_data/nonlin_var_table.csv\")"
   ]
  },
  {
   "cell_type": "code",
   "execution_count": 21,
   "metadata": {},
   "outputs": [
    {
     "data": {
      "text/html": [
       "<div>\n",
       "<style scoped>\n",
       "    .dataframe tbody tr th:only-of-type {\n",
       "        vertical-align: middle;\n",
       "    }\n",
       "\n",
       "    .dataframe tbody tr th {\n",
       "        vertical-align: top;\n",
       "    }\n",
       "\n",
       "    .dataframe thead th {\n",
       "        text-align: right;\n",
       "    }\n",
       "</style>\n",
       "<table border=\"1\" class=\"dataframe\">\n",
       "  <thead>\n",
       "    <tr style=\"text-align: right;\">\n",
       "      <th></th>\n",
       "      <th>feature_1</th>\n",
       "      <th>feature_2</th>\n",
       "    </tr>\n",
       "  </thead>\n",
       "  <tbody>\n",
       "    <tr>\n",
       "      <th>feature_1</th>\n",
       "      <td>4.332891</td>\n",
       "      <td>0.637960</td>\n",
       "    </tr>\n",
       "    <tr>\n",
       "      <th>feature_2</th>\n",
       "      <td>0.637960</td>\n",
       "      <td>99.311681</td>\n",
       "    </tr>\n",
       "  </tbody>\n",
       "</table>\n",
       "</div>"
      ],
      "text/plain": [
       "           feature_1  feature_2\n",
       "feature_1   4.332891   0.637960\n",
       "feature_2   0.637960  99.311681"
      ]
     },
     "execution_count": 21,
     "metadata": {},
     "output_type": "execute_result"
    }
   ],
   "source": [
    "table[['feature_1', 'feature_2']].cov()"
   ]
  },
  {
   "cell_type": "code",
   "execution_count": 7,
   "metadata": {},
   "outputs": [
    {
     "name": "stdout",
     "output_type": "stream",
     "text": [
      "      feature_1  feature_2  feature_3       target\n",
      "1      1.807905   1.775187   6.774050  2300.801046\n",
      "2      1.830794   3.363904   4.872551   869.573677\n",
      "3      1.160506   3.447586   2.887106   157.878257\n",
      "4      1.575655   3.110634   5.163880  1020.129064\n",
      "5      1.104943   2.044608   6.420628  1942.369042\n",
      "...         ...        ...        ...          ...\n",
      "2995   1.363962   2.932011   7.366038  2903.761007\n",
      "2996   0.431863   1.704545   5.436949  1168.389537\n",
      "2997   1.309711   2.341441   8.172211  3883.220463\n",
      "2998   0.886774   1.263778   5.950709  1543.097011\n",
      "2999   0.944045   2.174664   4.803001   796.584377\n",
      "\n",
      "[2774 rows x 4 columns]\n",
      "['feature_3']\n"
     ]
    }
   ],
   "source": [
    "transformer = Preprocessor(table, verbose=False)\n",
    "transformed = (\n",
    "    transformer.robust(\"feature_1\", alpha=0.01, tail=\"right\")\n",
    "    .iqr([\"feature_2\", \"feature_3\"])\n",
    "    .iqr([\"feature_1\"])\n",
    "    .log(\"feature_1\")\n",
    "    .boxcox([\"feature_2\", \"feature_3\"])\n",
    "    .cuped(\"target\", \"feature_3\", name=\"target_cuped\")\n",
    "    .data()\n",
    ")"
   ]
  },
  {
   "cell_type": "code",
   "execution_count": 8,
   "metadata": {},
   "outputs": [],
   "source": [
    "transformer.store_transformations(\"tests/configs/preprocessor_config.json\")"
   ]
  },
  {
   "cell_type": "code",
   "execution_count": 9,
   "metadata": {},
   "outputs": [],
   "source": [
    "transformer = Preprocessor(table, verbose=False)"
   ]
  },
  {
   "cell_type": "code",
   "execution_count": 10,
   "metadata": {},
   "outputs": [],
   "source": [
    "import json"
   ]
  },
  {
   "cell_type": "code",
   "execution_count": 17,
   "metadata": {},
   "outputs": [],
   "source": [
    "load_path = \"tests/configs/preprocessor_config.json\""
   ]
  },
  {
   "cell_type": "code",
   "execution_count": 12,
   "metadata": {},
   "outputs": [],
   "source": [
    "with open(load_path, \"r+\") as file:\n",
    "    params = json.load(file)"
   ]
  },
  {
   "cell_type": "code",
   "execution_count": 13,
   "metadata": {},
   "outputs": [
    {
     "data": {
      "text/plain": [
       "{'RobustPreprocessor1': {'tail': 'right',\n",
       "  'column_names': ['feature_1'],\n",
       "  'alpha': [0.01],\n",
       "  'quantiles': [[8.667020766901738]]},\n",
       " 'IQRPreprocessor1': {'column_names': ['feature_2', 'feature_3'],\n",
       "  'medians': [7.966513249415563, 26.121139687894964],\n",
       "  'quartiles': [[3.841161487590153, 15.041517661578098],\n",
       "   [19.413059393319706, 34.092457050535074]]},\n",
       " 'IQRPreprocessor2': {'column_names': ['feature_1'],\n",
       "  'medians': [2.3952925928404154],\n",
       "  'quartiles': [[1.1107937563733619, 4.123781054770344]]},\n",
       " 'LogTransformer1': {'column_names': ['feature_1']},\n",
       " 'BoxCoxTransformer1': {'column_names': ['feature_2', 'feature_3'],\n",
       "  'lambda_': [0.17890980719038593, 0.33169190917986685]},\n",
       " 'Cuped1': {'theta': 765.5485835969596, 'bias': 5.852793206114785}}"
      ]
     },
     "execution_count": 13,
     "metadata": {},
     "output_type": "execute_result"
    }
   ],
   "source": [
    "params"
   ]
  },
  {
   "cell_type": "code",
   "execution_count": 14,
   "metadata": {},
   "outputs": [],
   "source": [
    "transformer = Preprocessor(table)"
   ]
  },
  {
   "cell_type": "code",
   "execution_count": 15,
   "metadata": {},
   "outputs": [
    {
     "name": "stderr",
     "output_type": "stream",
     "text": [
      "ambrosia LOGGER: Making right-tail robust transformation of columns ['feature_1']\n",
      "                 with alphas = [0.01]\n",
      "ambrosia LOGGER: \n",
      "\n",
      "ambrosia LOGGER: Change Mean feature_1: 2.8399 ===> 2.7703\n",
      "ambrosia LOGGER: Change Variance feature_1: 4.3314 ===> 3.8851\n",
      "ambrosia LOGGER: Change IQR feature_1: 3.0727 ===> 3.0232\n",
      "ambrosia LOGGER: Change Range feature_1: 12.1095 ===> 8.6641\n",
      "ambrosia LOGGER: Making IQR transformation of columns ['feature_2', 'feature_3']\n",
      "ambrosia LOGGER: \n",
      "\n",
      "ambrosia LOGGER: Change Mean feature_2: 10.9683 ===> 9.5020\n",
      "ambrosia LOGGER: Change Variance feature_2: 98.9297 ===> 51.3558\n",
      "ambrosia LOGGER: Change IQR feature_2: 11.2004 ===> 10.0196\n",
      "ambrosia LOGGER: Change Range feature_2: 75.3334 ===> 30.7439\n",
      "ambrosia LOGGER: \n",
      "\n",
      "ambrosia LOGGER: Change Mean feature_3: 27.7301 ===> 27.1216\n",
      "ambrosia LOGGER: Change Variance feature_3: 123.0687 ===> 102.6352\n",
      "ambrosia LOGGER: Change IQR feature_3: 14.6794 ===> 14.1475\n",
      "ambrosia LOGGER: Change Range feature_3: 76.8028 ===> 49.1501\n",
      "ambrosia LOGGER: Making IQR transformation of columns ['feature_1']\n",
      "ambrosia LOGGER: \n",
      "\n",
      "ambrosia LOGGER: Change Mean feature_1: 2.7506 ===> 2.7484\n",
      "ambrosia LOGGER: Change Variance feature_1: 3.8612 ===> 3.8500\n",
      "ambrosia LOGGER: Change IQR feature_1: 3.0130 ===> 3.0120\n",
      "ambrosia LOGGER: Change Range feature_1: 8.6614 ===> 8.6280\n"
     ]
    },
    {
     "name": "stdout",
     "output_type": "stream",
     "text": [
      "      feature_1  feature_2  feature_3       target\n",
      "1      1.807905   1.775187   6.774050  2300.801046\n",
      "2      1.830794   3.363904   4.872551   869.573677\n",
      "3      1.160506   3.447586   2.887106   157.878257\n",
      "4      1.575655   3.110634   5.163880  1020.129064\n",
      "5      1.104943   2.044608   6.420628  1942.369042\n",
      "...         ...        ...        ...          ...\n",
      "2995   1.363962   2.932011   7.366038  2903.761007\n",
      "2996   0.431863   1.704545   5.436949  1168.389537\n",
      "2997   1.309711   2.341441   8.172211  3883.220463\n",
      "2998   0.886774   1.263778   5.950709  1543.097011\n",
      "2999   0.944045   2.174664   4.803001   796.584377\n",
      "\n",
      "[2774 rows x 4 columns]\n",
      "[      feature_1  feature_2  feature_3       target\n",
      "1      1.807905   1.775187   6.774050  2300.801046\n",
      "2      1.830794   3.363904   4.872551   869.573677\n",
      "3      1.160506   3.447586   2.887106   157.878257\n",
      "4      1.575655   3.110634   5.163880  1020.129064\n",
      "5      1.104943   2.044608   6.420628  1942.369042\n",
      "...         ...        ...        ...          ...\n",
      "2995   1.363962   2.932011   7.366038  2903.761007\n",
      "2996   0.431863   1.704545   5.436949  1168.389537\n",
      "2997   1.309711   2.341441   8.172211  3883.220463\n",
      "2998   0.886774   1.263778   5.950709  1543.097011\n",
      "2999   0.944045   2.174664   4.803001   796.584377\n",
      "\n",
      "[2774 rows x 4 columns]]\n"
     ]
    },
    {
     "ename": "TypeError",
     "evalue": "unhashable type: 'DataFrame'",
     "output_type": "error",
     "traceback": [
      "\u001b[0;31m---------------------------------------------------------------------------\u001b[0m",
      "\u001b[0;31mTypeError\u001b[0m                                 Traceback (most recent call last)",
      "Cell \u001b[0;32mIn[15], line 1\u001b[0m\n\u001b[0;32m----> 1\u001b[0m \u001b[43mtransformer\u001b[49m\u001b[38;5;241;43m.\u001b[39;49m\u001b[43mrun_from_config\u001b[49m\u001b[43m(\u001b[49m\u001b[43mload_path\u001b[49m\u001b[43m)\u001b[49m\n",
      "File \u001b[0;32m~/gitlab/Ambrosia/ambrosia/preprocessing/preprocessor.py:450\u001b[0m, in \u001b[0;36mPreprocessor.run_from_config\u001b[0;34m(self, load_path)\u001b[0m\n\u001b[1;32m    448\u001b[0m transformer \u001b[38;5;241m=\u001b[39m transformer(\u001b[38;5;241m*\u001b[39m\u001b[38;5;241m*\u001b[39mkwargs)\n\u001b[1;32m    449\u001b[0m transformer\u001b[38;5;241m.\u001b[39mload_params_dict(value)\n\u001b[0;32m--> 450\u001b[0m \u001b[43mtransformer\u001b[49m\u001b[38;5;241;43m.\u001b[39;49m\u001b[43mtransform\u001b[49m\u001b[43m(\u001b[49m\u001b[38;5;28;43mself\u001b[39;49m\u001b[38;5;241;43m.\u001b[39;49m\u001b[43mdataframe\u001b[49m\u001b[43m,\u001b[49m\u001b[43m \u001b[49m\u001b[43minplace\u001b[49m\u001b[38;5;241;43m=\u001b[39;49m\u001b[38;5;28;43;01mTrue\u001b[39;49;00m\u001b[43m)\u001b[49m\n\u001b[1;32m    451\u001b[0m \u001b[38;5;28mself\u001b[39m\u001b[38;5;241m.\u001b[39mtransformers\u001b[38;5;241m.\u001b[39mappend(transformer)\n\u001b[1;32m    452\u001b[0m \u001b[38;5;66;03m# getattr(self, func_alias)(load_path=value)\u001b[39;00m\n",
      "File \u001b[0;32m~/gitlab/Ambrosia/ambrosia/preprocessing/cuped.py:203\u001b[0m, in \u001b[0;36mCuped.transform\u001b[0;34m(self, covariate_column, inplace, name)\u001b[0m\n\u001b[1;32m    201\u001b[0m \u001b[38;5;28mprint\u001b[39m(\u001b[38;5;28mself\u001b[39m\u001b[38;5;241m.\u001b[39mdf)\n\u001b[1;32m    202\u001b[0m \u001b[38;5;28mprint\u001b[39m([covariate_column])\n\u001b[0;32m--> 203\u001b[0m \u001b[38;5;28;43mself\u001b[39;49m\u001b[38;5;241;43m.\u001b[39;49m\u001b[43m_check_cols\u001b[49m\u001b[43m(\u001b[49m\u001b[38;5;28;43mself\u001b[39;49m\u001b[38;5;241;43m.\u001b[39;49m\u001b[43mdf\u001b[49m\u001b[43m,\u001b[49m\u001b[43m \u001b[49m\u001b[43m[\u001b[49m\u001b[43mcovariate_column\u001b[49m\u001b[43m]\u001b[49m\u001b[43m)\u001b[49m\n\u001b[1;32m    204\u001b[0m old_variance: \u001b[38;5;28mfloat\u001b[39m \u001b[38;5;241m=\u001b[39m \u001b[38;5;28mself\u001b[39m\u001b[38;5;241m.\u001b[39mcov\u001b[38;5;241m.\u001b[39mloc[\u001b[38;5;28mself\u001b[39m\u001b[38;5;241m.\u001b[39mtarget_column, \u001b[38;5;28mself\u001b[39m\u001b[38;5;241m.\u001b[39mtarget_column]\n\u001b[1;32m    205\u001b[0m new_target: np\u001b[38;5;241m.\u001b[39mndarray \u001b[38;5;241m=\u001b[39m \u001b[38;5;28mself\u001b[39m(\u001b[38;5;28mself\u001b[39m\u001b[38;5;241m.\u001b[39mdf[\u001b[38;5;28mself\u001b[39m\u001b[38;5;241m.\u001b[39mtarget_column], \u001b[38;5;28mself\u001b[39m\u001b[38;5;241m.\u001b[39mdf[covariate_column])\n",
      "File \u001b[0;32m~/gitlab/Ambrosia/ambrosia/tools/ab_abstract_component.py:132\u001b[0m, in \u001b[0;36mAbstractFittableTransformer._check_cols\u001b[0;34m(self, dataframe, columns)\u001b[0m\n\u001b[1;32m    130\u001b[0m \u001b[38;5;28;01mdef\u001b[39;00m \u001b[38;5;21m_check_cols\u001b[39m(\u001b[38;5;28mself\u001b[39m, dataframe: pd\u001b[38;5;241m.\u001b[39mDataFrame, columns: types\u001b[38;5;241m.\u001b[39mColumnNameType) \u001b[38;5;241m-\u001b[39m\u001b[38;5;241m>\u001b[39m \u001b[38;5;28;01mNone\u001b[39;00m:\n\u001b[1;32m    131\u001b[0m     \u001b[38;5;28;01mfor\u001b[39;00m column \u001b[38;5;129;01min\u001b[39;00m columns:\n\u001b[0;32m--> 132\u001b[0m         \u001b[38;5;28;01mif\u001b[39;00m \u001b[43mcolumn\u001b[49m\u001b[43m \u001b[49m\u001b[38;5;129;43;01mnot\u001b[39;49;00m\u001b[43m \u001b[49m\u001b[38;5;129;43;01min\u001b[39;49;00m\u001b[43m \u001b[49m\u001b[43mdataframe\u001b[49m:\n\u001b[1;32m    133\u001b[0m             \u001b[38;5;28;01mraise\u001b[39;00m \u001b[38;5;167;01mValueError\u001b[39;00m(\u001b[38;5;124mf\u001b[39m\u001b[38;5;124m\"\u001b[39m\u001b[38;5;124mColumn \u001b[39m\u001b[38;5;132;01m{\u001b[39;00mcolumn\u001b[38;5;132;01m}\u001b[39;00m\u001b[38;5;124m is not in Data Frame columns list\u001b[39m\u001b[38;5;124m\"\u001b[39m)\n",
      "File \u001b[0;32m~/gitlab/Ambrosia/.venv/lib/python3.9/site-packages/pandas/core/generic.py:1933\u001b[0m, in \u001b[0;36mNDFrame.__contains__\u001b[0;34m(self, key)\u001b[0m\n\u001b[1;32m   1930\u001b[0m \u001b[38;5;129m@final\u001b[39m\n\u001b[1;32m   1931\u001b[0m \u001b[38;5;28;01mdef\u001b[39;00m \u001b[38;5;21m__contains__\u001b[39m(\u001b[38;5;28mself\u001b[39m, key) \u001b[38;5;241m-\u001b[39m\u001b[38;5;241m>\u001b[39m bool_t:\n\u001b[1;32m   1932\u001b[0m \u001b[38;5;250m    \u001b[39m\u001b[38;5;124;03m\"\"\"True if the key is in the info axis\"\"\"\u001b[39;00m\n\u001b[0;32m-> 1933\u001b[0m     \u001b[38;5;28;01mreturn\u001b[39;00m \u001b[43mkey\u001b[49m\u001b[43m \u001b[49m\u001b[38;5;129;43;01min\u001b[39;49;00m\u001b[43m \u001b[49m\u001b[38;5;28;43mself\u001b[39;49m\u001b[38;5;241;43m.\u001b[39;49m\u001b[43m_info_axis\u001b[49m\n",
      "File \u001b[0;32m~/gitlab/Ambrosia/.venv/lib/python3.9/site-packages/pandas/core/indexes/base.py:4572\u001b[0m, in \u001b[0;36mIndex.__contains__\u001b[0;34m(self, key)\u001b[0m\n\u001b[1;32m   4537\u001b[0m \u001b[38;5;28;01mdef\u001b[39;00m \u001b[38;5;21m__contains__\u001b[39m(\u001b[38;5;28mself\u001b[39m, key: Any) \u001b[38;5;241m-\u001b[39m\u001b[38;5;241m>\u001b[39m \u001b[38;5;28mbool\u001b[39m:\n\u001b[1;32m   4538\u001b[0m \u001b[38;5;250m    \u001b[39m\u001b[38;5;124;03m\"\"\"\u001b[39;00m\n\u001b[1;32m   4539\u001b[0m \u001b[38;5;124;03m    Return a boolean indicating whether the provided key is in the index.\u001b[39;00m\n\u001b[1;32m   4540\u001b[0m \n\u001b[0;32m   (...)\u001b[0m\n\u001b[1;32m   4570\u001b[0m \u001b[38;5;124;03m    False\u001b[39;00m\n\u001b[1;32m   4571\u001b[0m \u001b[38;5;124;03m    \"\"\"\u001b[39;00m\n\u001b[0;32m-> 4572\u001b[0m     \u001b[38;5;28;43mhash\u001b[39;49m\u001b[43m(\u001b[49m\u001b[43mkey\u001b[49m\u001b[43m)\u001b[49m\n\u001b[1;32m   4573\u001b[0m     \u001b[38;5;28;01mtry\u001b[39;00m:\n\u001b[1;32m   4574\u001b[0m         \u001b[38;5;28;01mreturn\u001b[39;00m key \u001b[38;5;129;01min\u001b[39;00m \u001b[38;5;28mself\u001b[39m\u001b[38;5;241m.\u001b[39m_engine\n",
      "\u001b[0;31mTypeError\u001b[0m: unhashable type: 'DataFrame'"
     ]
    }
   ],
   "source": [
    "transformer.run_from_config(load_path)"
   ]
  },
  {
   "cell_type": "code",
   "execution_count": 12,
   "metadata": {},
   "outputs": [
    {
     "data": {
      "text/plain": [
       "ambrosia.preprocessing.preprocessor.Preprocessor"
      ]
     },
     "execution_count": 12,
     "metadata": {},
     "output_type": "execute_result"
    }
   ],
   "source": [
    "Preprocessor"
   ]
  },
  {
   "cell_type": "code",
   "execution_count": 12,
   "metadata": {},
   "outputs": [],
   "source": [
    "a = 1"
   ]
  },
  {
   "cell_type": "code",
   "execution_count": 14,
   "metadata": {},
   "outputs": [
    {
     "data": {
      "text/plain": [
       "1"
      ]
     },
     "execution_count": 14,
     "metadata": {},
     "output_type": "execute_result"
    }
   ],
   "source": [
    "globals()['a']"
   ]
  },
  {
   "cell_type": "code",
   "execution_count": 7,
   "metadata": {},
   "outputs": [],
   "source": [
    "import sys"
   ]
  },
  {
   "cell_type": "code",
   "execution_count": 16,
   "metadata": {},
   "outputs": [],
   "source": [
    "import inspect"
   ]
  },
  {
   "cell_type": "code",
   "execution_count": 28,
   "metadata": {},
   "outputs": [
    {
     "data": {
      "text/plain": [
       "False"
      ]
     },
     "execution_count": 28,
     "metadata": {},
     "output_type": "execute_result"
    }
   ],
   "source": [
    "\"dataframe\" in inspect.signature(Preprocessor).parameters"
   ]
  },
  {
   "cell_type": "code",
   "execution_count": 11,
   "metadata": {},
   "outputs": [
    {
     "data": {
      "text/plain": [
       "<module '__main__'>"
      ]
     },
     "execution_count": 11,
     "metadata": {},
     "output_type": "execute_result"
    }
   ],
   "source": [
    "sys.modules[__name__]"
   ]
  },
  {
   "cell_type": "code",
   "execution_count": 3,
   "metadata": {},
   "outputs": [
    {
     "data": {
      "text/plain": [
       "['In',\n",
       " 'NamespaceMagics',\n",
       " 'Out',\n",
       " '_',\n",
       " '_2',\n",
       " '_Jupyter',\n",
       " '__',\n",
       " '___',\n",
       " '__builtin__',\n",
       " '__builtins__',\n",
       " '__doc__',\n",
       " '__loader__',\n",
       " '__name__',\n",
       " '__package__',\n",
       " '__spec__',\n",
       " '_dh',\n",
       " '_getcontentof',\n",
       " '_getshapeof',\n",
       " '_getsizeof',\n",
       " '_i',\n",
       " '_i1',\n",
       " '_i2',\n",
       " '_i3',\n",
       " '_ih',\n",
       " '_ii',\n",
       " '_iii',\n",
       " '_nms',\n",
       " '_oh',\n",
       " 'exit',\n",
       " 'get_ipython',\n",
       " 'getsizeof',\n",
       " 'json',\n",
       " 'np',\n",
       " 'open',\n",
       " 'quit',\n",
       " 'var_dic_list',\n",
       " 'yapf_reformat']"
      ]
     },
     "execution_count": 3,
     "metadata": {},
     "output_type": "execute_result"
    }
   ],
   "source": [
    "globals()"
   ]
  },
  {
   "cell_type": "code",
   "execution_count": 10,
   "metadata": {},
   "outputs": [
    {
     "ename": "KeyError",
     "evalue": "'Preprocessor'",
     "output_type": "error",
     "traceback": [
      "\u001b[0;31m---------------------------------------------------------------------------\u001b[0m",
      "\u001b[0;31mKeyError\u001b[0m                                  Traceback (most recent call last)",
      "Cell \u001b[0;32mIn[10], line 1\u001b[0m\n\u001b[0;32m----> 1\u001b[0m \u001b[38;5;28;43mglobals\u001b[39;49m\u001b[43m(\u001b[49m\u001b[43m)\u001b[49m\u001b[43m[\u001b[49m\u001b[38;5;124;43m'\u001b[39;49m\u001b[38;5;124;43mPreprocessor\u001b[39;49m\u001b[38;5;124;43m'\u001b[39;49m\u001b[43m]\u001b[49m\n",
      "\u001b[0;31mKeyError\u001b[0m: 'Preprocessor'"
     ]
    }
   ],
   "source": [
    "globals()['Preprocessor']"
   ]
  },
  {
   "cell_type": "code",
   "execution_count": 6,
   "metadata": {},
   "outputs": [],
   "source": [
    "import sys"
   ]
  },
  {
   "cell_type": "code",
   "execution_count": 8,
   "metadata": {},
   "outputs": [
    {
     "ename": "KeyError",
     "evalue": "'Preprocessor'",
     "output_type": "error",
     "traceback": [
      "\u001b[0;31m---------------------------------------------------------------------------\u001b[0m",
      "\u001b[0;31mKeyError\u001b[0m                                  Traceback (most recent call last)",
      "Cell \u001b[0;32mIn[8], line 1\u001b[0m\n\u001b[0;32m----> 1\u001b[0m \u001b[43msys\u001b[49m\u001b[38;5;241;43m.\u001b[39;49m\u001b[43mmodules\u001b[49m\u001b[43m[\u001b[49m\u001b[38;5;124;43m'\u001b[39;49m\u001b[38;5;124;43mPreprocessor\u001b[39;49m\u001b[38;5;124;43m'\u001b[39;49m\u001b[43m]\u001b[49m\n",
      "\u001b[0;31mKeyError\u001b[0m: 'Preprocessor'"
     ]
    }
   ],
   "source": [
    "sys.modules['Preprocessor']"
   ]
  },
  {
   "cell_type": "code",
   "execution_count": 4,
   "metadata": {
    "scrolled": true
   },
   "outputs": [
    {
     "ename": "TypeError",
     "evalue": "getattr expected at least 2 arguments, got 1",
     "output_type": "error",
     "traceback": [
      "\u001b[0;31m---------------------------------------------------------------------------\u001b[0m",
      "\u001b[0;31mTypeError\u001b[0m                                 Traceback (most recent call last)",
      "Cell \u001b[0;32mIn[4], line 1\u001b[0m\n\u001b[0;32m----> 1\u001b[0m \u001b[38;5;28;43mgetattr\u001b[39;49m\u001b[43m(\u001b[49m\u001b[38;5;124;43m'\u001b[39;49m\u001b[38;5;124;43mPreprocessor\u001b[39;49m\u001b[38;5;124;43m'\u001b[39;49m\u001b[43m)\u001b[49m\n",
      "\u001b[0;31mTypeError\u001b[0m: getattr expected at least 2 arguments, got 1"
     ]
    }
   ],
   "source": [
    "getattr('Preprocessor')"
   ]
  },
  {
   "cell_type": "code",
   "execution_count": 4,
   "metadata": {},
   "outputs": [],
   "source": [
    "aggregator = AggregatePreprocessor(categorial_method=\"mode\", real_method=\"mean\")"
   ]
  },
  {
   "cell_type": "code",
   "execution_count": 10,
   "metadata": {},
   "outputs": [],
   "source": [
    "    agg_params = {\n",
    "        \"sessions\": \"median\",\n",
    "        \"gender\": \"last\",\n",
    "    }"
   ]
  },
  {
   "cell_type": "code",
   "execution_count": 11,
   "metadata": {},
   "outputs": [
    {
     "data": {
      "text/html": [
       "<div>\n",
       "<style scoped>\n",
       "    .dataframe tbody tr th:only-of-type {\n",
       "        vertical-align: middle;\n",
       "    }\n",
       "\n",
       "    .dataframe tbody tr th {\n",
       "        vertical-align: top;\n",
       "    }\n",
       "\n",
       "    .dataframe thead th {\n",
       "        text-align: right;\n",
       "    }\n",
       "</style>\n",
       "<table border=\"1\" class=\"dataframe\">\n",
       "  <thead>\n",
       "    <tr style=\"text-align: right;\">\n",
       "      <th></th>\n",
       "      <th>id</th>\n",
       "      <th>sessions</th>\n",
       "      <th>gender</th>\n",
       "    </tr>\n",
       "  </thead>\n",
       "  <tbody>\n",
       "    <tr>\n",
       "      <th>0</th>\n",
       "      <td>0</td>\n",
       "      <td>1.0</td>\n",
       "      <td>Male</td>\n",
       "    </tr>\n",
       "    <tr>\n",
       "      <th>1</th>\n",
       "      <td>1</td>\n",
       "      <td>2.0</td>\n",
       "      <td>Female</td>\n",
       "    </tr>\n",
       "    <tr>\n",
       "      <th>2</th>\n",
       "      <td>2</td>\n",
       "      <td>3.0</td>\n",
       "      <td>Female</td>\n",
       "    </tr>\n",
       "    <tr>\n",
       "      <th>3</th>\n",
       "      <td>3</td>\n",
       "      <td>1.0</td>\n",
       "      <td>Female</td>\n",
       "    </tr>\n",
       "    <tr>\n",
       "      <th>4</th>\n",
       "      <td>4</td>\n",
       "      <td>1.0</td>\n",
       "      <td>Female</td>\n",
       "    </tr>\n",
       "    <tr>\n",
       "      <th>...</th>\n",
       "      <td>...</td>\n",
       "      <td>...</td>\n",
       "      <td>...</td>\n",
       "    </tr>\n",
       "    <tr>\n",
       "      <th>4995</th>\n",
       "      <td>4995</td>\n",
       "      <td>1.0</td>\n",
       "      <td>Male</td>\n",
       "    </tr>\n",
       "    <tr>\n",
       "      <th>4996</th>\n",
       "      <td>4996</td>\n",
       "      <td>2.0</td>\n",
       "      <td>Female</td>\n",
       "    </tr>\n",
       "    <tr>\n",
       "      <th>4997</th>\n",
       "      <td>4997</td>\n",
       "      <td>2.0</td>\n",
       "      <td>Male</td>\n",
       "    </tr>\n",
       "    <tr>\n",
       "      <th>4998</th>\n",
       "      <td>4998</td>\n",
       "      <td>3.0</td>\n",
       "      <td>Female</td>\n",
       "    </tr>\n",
       "    <tr>\n",
       "      <th>4999</th>\n",
       "      <td>4999</td>\n",
       "      <td>1.0</td>\n",
       "      <td>Male</td>\n",
       "    </tr>\n",
       "  </tbody>\n",
       "</table>\n",
       "<p>5000 rows × 3 columns</p>\n",
       "</div>"
      ],
      "text/plain": [
       "        id  sessions  gender\n",
       "0        0       1.0    Male\n",
       "1        1       2.0  Female\n",
       "2        2       3.0  Female\n",
       "3        3       1.0  Female\n",
       "4        4       1.0  Female\n",
       "...    ...       ...     ...\n",
       "4995  4995       1.0    Male\n",
       "4996  4996       2.0  Female\n",
       "4997  4997       2.0    Male\n",
       "4998  4998       3.0  Female\n",
       "4999  4999       1.0    Male\n",
       "\n",
       "[5000 rows x 3 columns]"
      ]
     },
     "execution_count": 11,
     "metadata": {},
     "output_type": "execute_result"
    }
   ],
   "source": [
    "aggregator.fit_transform(table, 'id', agg_params)"
   ]
  },
  {
   "cell_type": "code",
   "execution_count": 7,
   "metadata": {},
   "outputs": [],
   "source": [
    "agg_params['sessions'] = 'kek'"
   ]
  },
  {
   "cell_type": "code",
   "execution_count": 12,
   "metadata": {},
   "outputs": [
    {
     "data": {
      "text/plain": [
       "{'sessions': 'median', 'gender': 'last'}"
      ]
     },
     "execution_count": 12,
     "metadata": {},
     "output_type": "execute_result"
    }
   ],
   "source": [
    "aggregator.agg_params"
   ]
  },
  {
   "cell_type": "code",
   "execution_count": 14,
   "metadata": {},
   "outputs": [
    {
     "data": {
      "text/plain": [
       "<ambrosia.preprocessing.aggregate.AggregatePreprocessor at 0x13fc47640>"
      ]
     },
     "execution_count": 14,
     "metadata": {},
     "output_type": "execute_result"
    }
   ],
   "source": [
    "    aggregator = AggregatePreprocessor(categorial_method=\"mode\", real_method=\"mean\")\n",
    "    groupby_columns = [\"id\"]\n",
    "    agg_params = {\n",
    "        \"sessions\": \"median\",\n",
    "        \"gender\": \"last\",\n",
    "    }\n",
    "    aggregator.fit(\n",
    "        dataframe=table,\n",
    "        groupby_columns=groupby_columns,\n",
    "        # agg_params=agg_params,\n",
    "        real_cols=[\"sessions\"],\n",
    "        categorial_cols=\"gender\",\n",
    "    )"
   ]
  },
  {
   "cell_type": "code",
   "execution_count": 2,
   "metadata": {},
   "outputs": [],
   "source": [
    "from ambrosia.preprocessing import Preprocessor"
   ]
  },
  {
   "cell_type": "code",
   "execution_count": 12,
   "metadata": {},
   "outputs": [],
   "source": [
    "preproc = Preprocessor(table)"
   ]
  },
  {
   "cell_type": "code",
   "execution_count": 28,
   "metadata": {},
   "outputs": [],
   "source": [
    "import sys"
   ]
  },
  {
   "cell_type": "code",
   "execution_count": 70,
   "metadata": {},
   "outputs": [],
   "source": [
    "def kek(lvl):\n",
    "    print(inspect.stack()[1][3])"
   ]
  },
  {
   "cell_type": "code",
   "execution_count": 73,
   "metadata": {},
   "outputs": [
    {
     "data": {
      "text/plain": [
       "<function __main__.kek()>"
      ]
     },
     "execution_count": 73,
     "metadata": {},
     "output_type": "execute_result"
    }
   ],
   "source": [
    "kek"
   ]
  },
  {
   "cell_type": "code",
   "execution_count": 71,
   "metadata": {},
   "outputs": [],
   "source": [
    "import inspect\n",
    "\n",
    "def Kek():\n",
    "    'hey'\n",
    "    kek()"
   ]
  },
  {
   "cell_type": "code",
   "execution_count": 75,
   "metadata": {},
   "outputs": [
    {
     "data": {
      "text/plain": [
       "'jfdjfsj'"
      ]
     },
     "execution_count": 75,
     "metadata": {},
     "output_type": "execute_result"
    }
   ],
   "source": [
    "''.join(filter(str.isalpha, 'jfdjfsj11'))"
   ]
  },
  {
   "cell_type": "code",
   "execution_count": 72,
   "metadata": {},
   "outputs": [
    {
     "name": "stdout",
     "output_type": "stream",
     "text": [
      "Kek\n"
     ]
    }
   ],
   "source": [
    "Kek()"
   ]
  },
  {
   "cell_type": "code",
   "execution_count": null,
   "metadata": {},
   "outputs": [],
   "source": [
    "dict()"
   ]
  },
  {
   "cell_type": "code",
   "execution_count": 32,
   "metadata": {},
   "outputs": [
    {
     "data": {
      "text/plain": [
       "<frame at 0x7f7c2f468410, file '/var/folders/7_/hzpv_sys2c34hr0hdqhgx26wx_3yvd/T/ipykernel_91670/2963268759.py', line 1, code <module>>"
      ]
     },
     "execution_count": 32,
     "metadata": {},
     "output_type": "execute_result"
    }
   ],
   "source": [
    "sys._getframe()"
   ]
  },
  {
   "cell_type": "code",
   "execution_count": 31,
   "metadata": {},
   "outputs": [
    {
     "ename": "AttributeError",
     "evalue": "'frame' object has no attribute 'preproc'",
     "output_type": "error",
     "traceback": [
      "\u001b[0;31m---------------------------------------------------------------------------\u001b[0m",
      "\u001b[0;31mAttributeError\u001b[0m                            Traceback (most recent call last)",
      "Cell \u001b[0;32mIn[31], line 1\u001b[0m\n\u001b[0;32m----> 1\u001b[0m functionNameAsString \u001b[38;5;241m=\u001b[39m \u001b[43msys\u001b[49m\u001b[38;5;241;43m.\u001b[39;49m\u001b[43m_getframe\u001b[49m\u001b[43m(\u001b[49m\u001b[43m)\u001b[49m\u001b[38;5;241;43m.\u001b[39;49m\u001b[43mpreproc\u001b[49m\n",
      "\u001b[0;31mAttributeError\u001b[0m: 'frame' object has no attribute 'preproc'"
     ]
    }
   ],
   "source": [
    "functionNameAsString = sys._getframe().preproc"
   ]
  },
  {
   "cell_type": "code",
   "execution_count": 26,
   "metadata": {},
   "outputs": [
    {
     "ename": "TypeError",
     "evalue": "transform() missing 1 required positional argument: 'dataframe'",
     "output_type": "error",
     "traceback": [
      "\u001b[0;31m---------------------------------------------------------------------------\u001b[0m",
      "\u001b[0;31mTypeError\u001b[0m                                 Traceback (most recent call last)",
      "Cell \u001b[0;32mIn[26], line 1\u001b[0m\n\u001b[0;32m----> 1\u001b[0m \u001b[43mpreproc\u001b[49m\u001b[38;5;241;43m.\u001b[39;49m\u001b[43mtransformations\u001b[49m\u001b[43m(\u001b[49m\u001b[43m)\u001b[49m\u001b[43m[\u001b[49m\u001b[38;5;241;43m0\u001b[39;49m\u001b[43m]\u001b[49m\u001b[38;5;241;43m.\u001b[39;49m\u001b[43mtransform\u001b[49m\u001b[43m(\u001b[49m\u001b[43m)\u001b[49m\n",
      "\u001b[0;31mTypeError\u001b[0m: transform() missing 1 required positional argument: 'dataframe'"
     ]
    }
   ],
   "source": [
    "preproc.transformations()[0].transform()"
   ]
  },
  {
   "cell_type": "code",
   "execution_count": 16,
   "metadata": {},
   "outputs": [
    {
     "data": {
      "text/html": [
       "<div>\n",
       "<style scoped>\n",
       "    .dataframe tbody tr th:only-of-type {\n",
       "        vertical-align: middle;\n",
       "    }\n",
       "\n",
       "    .dataframe tbody tr th {\n",
       "        vertical-align: top;\n",
       "    }\n",
       "\n",
       "    .dataframe thead th {\n",
       "        text-align: right;\n",
       "    }\n",
       "</style>\n",
       "<table border=\"1\" class=\"dataframe\">\n",
       "  <thead>\n",
       "    <tr style=\"text-align: right;\">\n",
       "      <th></th>\n",
       "      <th>id</th>\n",
       "      <th>gender</th>\n",
       "      <th>watched</th>\n",
       "      <th>sessions</th>\n",
       "      <th>day</th>\n",
       "      <th>platform</th>\n",
       "    </tr>\n",
       "  </thead>\n",
       "  <tbody>\n",
       "    <tr>\n",
       "      <th>0</th>\n",
       "      <td>0</td>\n",
       "      <td>Male</td>\n",
       "      <td>28.440846</td>\n",
       "      <td>4</td>\n",
       "      <td>1</td>\n",
       "      <td>android</td>\n",
       "    </tr>\n",
       "    <tr>\n",
       "      <th>1</th>\n",
       "      <td>1</td>\n",
       "      <td>Female</td>\n",
       "      <td>1.825271</td>\n",
       "      <td>2</td>\n",
       "      <td>1</td>\n",
       "      <td>ios</td>\n",
       "    </tr>\n",
       "    <tr>\n",
       "      <th>2</th>\n",
       "      <td>2</td>\n",
       "      <td>Female</td>\n",
       "      <td>46.995606</td>\n",
       "      <td>0</td>\n",
       "      <td>1</td>\n",
       "      <td>web</td>\n",
       "    </tr>\n",
       "    <tr>\n",
       "      <th>3</th>\n",
       "      <td>3</td>\n",
       "      <td>Female</td>\n",
       "      <td>37.310264</td>\n",
       "      <td>1</td>\n",
       "      <td>1</td>\n",
       "      <td>ios</td>\n",
       "    </tr>\n",
       "    <tr>\n",
       "      <th>4</th>\n",
       "      <td>4</td>\n",
       "      <td>Female</td>\n",
       "      <td>147.513105</td>\n",
       "      <td>0</td>\n",
       "      <td>1</td>\n",
       "      <td>web</td>\n",
       "    </tr>\n",
       "    <tr>\n",
       "      <th>...</th>\n",
       "      <td>...</td>\n",
       "      <td>...</td>\n",
       "      <td>...</td>\n",
       "      <td>...</td>\n",
       "      <td>...</td>\n",
       "      <td>...</td>\n",
       "    </tr>\n",
       "    <tr>\n",
       "      <th>34995</th>\n",
       "      <td>4995</td>\n",
       "      <td>Male</td>\n",
       "      <td>116.832887</td>\n",
       "      <td>0</td>\n",
       "      <td>7</td>\n",
       "      <td>web</td>\n",
       "    </tr>\n",
       "    <tr>\n",
       "      <th>34996</th>\n",
       "      <td>4996</td>\n",
       "      <td>Female</td>\n",
       "      <td>13.558919</td>\n",
       "      <td>2</td>\n",
       "      <td>7</td>\n",
       "      <td>web</td>\n",
       "    </tr>\n",
       "    <tr>\n",
       "      <th>34997</th>\n",
       "      <td>4997</td>\n",
       "      <td>Male</td>\n",
       "      <td>24.035386</td>\n",
       "      <td>2</td>\n",
       "      <td>7</td>\n",
       "      <td>android</td>\n",
       "    </tr>\n",
       "    <tr>\n",
       "      <th>34998</th>\n",
       "      <td>4998</td>\n",
       "      <td>Female</td>\n",
       "      <td>18.482640</td>\n",
       "      <td>2</td>\n",
       "      <td>7</td>\n",
       "      <td>android</td>\n",
       "    </tr>\n",
       "    <tr>\n",
       "      <th>34999</th>\n",
       "      <td>4999</td>\n",
       "      <td>Male</td>\n",
       "      <td>3.182455</td>\n",
       "      <td>0</td>\n",
       "      <td>7</td>\n",
       "      <td>android</td>\n",
       "    </tr>\n",
       "  </tbody>\n",
       "</table>\n",
       "<p>35000 rows × 6 columns</p>\n",
       "</div>"
      ],
      "text/plain": [
       "         id  gender     watched  sessions  day platform\n",
       "0         0    Male   28.440846         4    1  android\n",
       "1         1  Female    1.825271         2    1      ios\n",
       "2         2  Female   46.995606         0    1      web\n",
       "3         3  Female   37.310264         1    1      ios\n",
       "4         4  Female  147.513105         0    1      web\n",
       "...     ...     ...         ...       ...  ...      ...\n",
       "34995  4995    Male  116.832887         0    7      web\n",
       "34996  4996  Female   13.558919         2    7      web\n",
       "34997  4997    Male   24.035386         2    7  android\n",
       "34998  4998  Female   18.482640         2    7  android\n",
       "34999  4999    Male    3.182455         0    7  android\n",
       "\n",
       "[35000 rows x 6 columns]"
      ]
     },
     "execution_count": 16,
     "metadata": {},
     "output_type": "execute_result"
    }
   ],
   "source": [
    "table"
   ]
  },
  {
   "cell_type": "code",
   "execution_count": 15,
   "metadata": {
    "scrolled": true
   },
   "outputs": [
    {
     "ename": "NameError",
     "evalue": "name 'column_names' is not defined",
     "output_type": "error",
     "traceback": [
      "\u001b[0;31m---------------------------------------------------------------------------\u001b[0m",
      "\u001b[0;31mNameError\u001b[0m                                 Traceback (most recent call last)",
      "Cell \u001b[0;32mIn[15], line 1\u001b[0m\n\u001b[0;32m----> 1\u001b[0m \u001b[43mcolumn_names\u001b[49m \n",
      "\u001b[0;31mNameError\u001b[0m: name 'column_names' is not defined"
     ]
    }
   ],
   "source": [
    "column_names "
   ]
  },
  {
   "cell_type": "code",
   "execution_count": 17,
   "metadata": {},
   "outputs": [
    {
     "name": "stderr",
     "output_type": "stream",
     "text": [
      "ambrosia LOGGER: Making IQR transformation of columns ['watched']\n",
      "ambrosia LOGGER: \n",
      "\n",
      "ambrosia LOGGER: Change Mean watched: 100.2381 ===> 84.9118\n",
      "ambrosia LOGGER: Change Variance watched: 10070.7557 ===> 5161.8108\n",
      "ambrosia LOGGER: Change IQR watched: 110.3941 ===> 98.3596\n",
      "ambrosia LOGGER: Change Range watched: 1251.7118 ===> 304.6217\n"
     ]
    },
    {
     "data": {
      "text/plain": [
       "<ambrosia.preprocessing.preprocessor.Preprocessor at 0x12f124e50>"
      ]
     },
     "execution_count": 17,
     "metadata": {},
     "output_type": "execute_result"
    }
   ],
   "source": [
    "getattr(preproc, 'iqr')(column_names='watched')"
   ]
  },
  {
   "cell_type": "code",
   "execution_count": 15,
   "metadata": {},
   "outputs": [
    {
     "data": {
      "text/plain": [
       "{'sessions': 'mean',\n",
       " 'gender': <function ambrosia.preprocessing.aggregate.AggregatePreprocessor.__mode_calculation(values: pandas.core.series.Series) -> Any>}"
      ]
     },
     "execution_count": 15,
     "metadata": {},
     "output_type": "execute_result"
    }
   ],
   "source": [
    "aggregator.agg_params"
   ]
  },
  {
   "cell_type": "code",
   "execution_count": 39,
   "metadata": {},
   "outputs": [],
   "source": [
    "df = pd.DataFrame(np.random.normal(size=(5_000, 3)),\n",
    "                   columns=[\"metric_val1\", \"metric_val2\", \"metric_val3\"])"
   ]
  },
  {
   "cell_type": "code",
   "execution_count": null,
   "metadata": {},
   "outputs": [],
   "source": [
    "learned_dict = robust.get_params_dict()"
   ]
  },
  {
   "cell_type": "code",
   "execution_count": 5,
   "metadata": {},
   "outputs": [
    {
     "ename": "NameError",
     "evalue": "name 'robust' is not defined",
     "output_type": "error",
     "traceback": [
      "\u001b[0;31m---------------------------------------------------------------------------\u001b[0m",
      "\u001b[0;31mNameError\u001b[0m                                 Traceback (most recent call last)",
      "Cell \u001b[0;32mIn[5], line 1\u001b[0m\n\u001b[0;32m----> 1\u001b[0m \u001b[43mrobust\u001b[49m\u001b[38;5;241m.\u001b[39mfit_transform(df, [\u001b[38;5;124m\"\u001b[39m\u001b[38;5;124mmetric_val1\u001b[39m\u001b[38;5;124m\"\u001b[39m, \u001b[38;5;124m\"\u001b[39m\u001b[38;5;124mmetric_val2\u001b[39m\u001b[38;5;124m\"\u001b[39m, \u001b[38;5;124m\"\u001b[39m\u001b[38;5;124mmetric_val3\u001b[39m\u001b[38;5;124m\"\u001b[39m], alpha\u001b[38;5;241m=\u001b[39mnp\u001b[38;5;241m.\u001b[39marray([\u001b[38;5;241m0.05\u001b[39m, \u001b[38;5;241m0.1\u001b[39m, \u001b[38;5;241m0.2\u001b[39m]), inplace\u001b[38;5;241m=\u001b[39m\u001b[38;5;28;01mTrue\u001b[39;00m)\n",
      "\u001b[0;31mNameError\u001b[0m: name 'robust' is not defined"
     ]
    }
   ],
   "source": [
    "robust.fit_transform(df, [\"metric_val1\", \"metric_val2\", \"metric_val3\"], alpha=np.array([0.05, 0.1, 0.2]), inplace=True)"
   ]
  },
  {
   "cell_type": "code",
   "execution_count": 7,
   "metadata": {},
   "outputs": [],
   "source": [
    "robust = RobustPreprocessor()"
   ]
  },
  {
   "cell_type": "code",
   "execution_count": 30,
   "metadata": {},
   "outputs": [],
   "source": [
    "kek = {'kek': 1, 'quantiles': np.array([1,2,3])}"
   ]
  },
  {
   "cell_type": "code",
   "execution_count": 28,
   "metadata": {},
   "outputs": [
    {
     "data": {
      "text/plain": [
       "{'kek': 1, 'lol': 2}"
      ]
     },
     "execution_count": 28,
     "metadata": {},
     "output_type": "execute_result"
    }
   ],
   "source": [
    "{key: value for key, value in kek.items()}"
   ]
  },
  {
   "cell_type": "code",
   "execution_count": 5,
   "metadata": {},
   "outputs": [
    {
     "ename": "NameError",
     "evalue": "name 'learned_dict' is not defined",
     "output_type": "error",
     "traceback": [
      "\u001b[0;31m---------------------------------------------------------------------------\u001b[0m",
      "\u001b[0;31mNameError\u001b[0m                                 Traceback (most recent call last)",
      "Cell \u001b[0;32mIn[5], line 1\u001b[0m\n\u001b[0;32m----> 1\u001b[0m robust\u001b[38;5;241m.\u001b[39mload_params_dict(\u001b[43mlearned_dict\u001b[49m)\n",
      "\u001b[0;31mNameError\u001b[0m: name 'learned_dict' is not defined"
     ]
    }
   ],
   "source": [
    "robust.load_params_dict(learned_dict)"
   ]
  },
  {
   "cell_type": "code",
   "execution_count": 6,
   "metadata": {},
   "outputs": [
    {
     "data": {
      "text/plain": [
       "-1.9732277723005935"
      ]
     },
     "execution_count": 6,
     "metadata": {},
     "output_type": "execute_result"
    }
   ],
   "source": [
    "df.metric_val1.quantile(0.025)"
   ]
  },
  {
   "cell_type": "code",
   "execution_count": 7,
   "metadata": {},
   "outputs": [
    {
     "data": {
      "text/plain": [
       "1.914423531233203"
      ]
     },
     "execution_count": 7,
     "metadata": {},
     "output_type": "execute_result"
    }
   ],
   "source": [
    "df.metric_val1.quantile(0.975)"
   ]
  },
  {
   "cell_type": "code",
   "execution_count": 23,
   "metadata": {},
   "outputs": [
    {
     "data": {
      "text/plain": [
       "1.6692246839809284"
      ]
     },
     "execution_count": 23,
     "metadata": {},
     "output_type": "execute_result"
    }
   ],
   "source": [
    "df.metric_val3.quantile(0.)"
   ]
  },
  {
   "cell_type": "code",
   "execution_count": 8,
   "metadata": {},
   "outputs": [
    {
     "data": {
      "text/plain": [
       "{'tail': None, 'column_names': None, 'alpha': None, 'quantiles': None}"
      ]
     },
     "execution_count": 8,
     "metadata": {},
     "output_type": "execute_result"
    }
   ],
   "source": [
    "robust.params"
   ]
  },
  {
   "cell_type": "code",
   "execution_count": 17,
   "metadata": {
    "scrolled": true
   },
   "outputs": [],
   "source": [
    "robust.fit(df, [\"metric_val1\", 'metric_val2'], alpha=np.array([0.05, 0.05]))"
   ]
  },
  {
   "cell_type": "code",
   "execution_count": 21,
   "metadata": {},
   "outputs": [
    {
     "data": {
      "text/plain": [
       "[[-1.985307460766111, 1.9271982876185825],\n",
       " [-1.9582737959218812, 1.9601237737405255]]"
      ]
     },
     "execution_count": 21,
     "metadata": {},
     "output_type": "execute_result"
    }
   ],
   "source": [
    "robust.params['quantiles'].tolist()"
   ]
  },
  {
   "cell_type": "code",
   "execution_count": 18,
   "metadata": {},
   "outputs": [
    {
     "data": {
      "text/plain": [
       "array([[-1.98530746,  1.92719829],\n",
       "       [-1.9582738 ,  1.96012377]])"
      ]
     },
     "execution_count": 18,
     "metadata": {},
     "output_type": "execute_result"
    }
   ],
   "source": [
    "np.array(robust.params['quantiles'].tolist())"
   ]
  },
  {
   "cell_type": "code",
   "execution_count": 10,
   "metadata": {},
   "outputs": [
    {
     "data": {
      "text/plain": [
       "{'tail': 'both',\n",
       " 'column_names': ['metric_val1'],\n",
       " 'alpha': array([0.05]),\n",
       " 'quantiles': array([[-1.98530746,  1.92719829]])}"
      ]
     },
     "execution_count": 10,
     "metadata": {},
     "output_type": "execute_result"
    }
   ],
   "source": [
    "robust.params"
   ]
  },
  {
   "cell_type": "code",
   "execution_count": 11,
   "metadata": {},
   "outputs": [
    {
     "name": "stderr",
     "output_type": "stream",
     "text": [
      "ambrosia LOGGER: Making robust transformation of columns ['metric_val1'] \n",
      "                 with alphas = [0.05]\n",
      "ambrosia LOGGER: \n",
      "\n",
      "ambrosia LOGGER: Change Mean metric_val1: -0.0070 ===> -0.0045\n",
      "ambrosia LOGGER: Change Variance metric_val1: 0.9753 ===> 0.7434\n",
      "ambrosia LOGGER: Change IQR metric_val1: 1.3370 ===> 1.2507\n",
      "ambrosia LOGGER: Change Range metric_val1: 6.6966 ===> 3.8876\n"
     ]
    }
   ],
   "source": [
    "df_transformed = robust.transform(df)"
   ]
  },
  {
   "cell_type": "code",
   "execution_count": 12,
   "metadata": {},
   "outputs": [
    {
     "data": {
      "text/plain": [
       "(1, 2)"
      ]
     },
     "execution_count": 12,
     "metadata": {},
     "output_type": "execute_result"
    }
   ],
   "source": [
    "robust.params[\"quantiles\"].shape"
   ]
  },
  {
   "cell_type": "code",
   "execution_count": 13,
   "metadata": {},
   "outputs": [
    {
     "data": {
      "text/plain": [
       "array([[0.],\n",
       "       [0.],\n",
       "       [0.]])"
      ]
     },
     "execution_count": 13,
     "metadata": {},
     "output_type": "execute_result"
    }
   ],
   "source": [
    "np.zeros((3, 1))"
   ]
  },
  {
   "cell_type": "code",
   "execution_count": 14,
   "metadata": {},
   "outputs": [],
   "source": [
    "kek = np.array([[-1.59370383, -1.32681326, -0.83831528]]).T"
   ]
  },
  {
   "cell_type": "code",
   "execution_count": null,
   "metadata": {},
   "outputs": [],
   "source": [
    "kek[2]"
   ]
  },
  {
   "cell_type": "code",
   "execution_count": null,
   "metadata": {},
   "outputs": [],
   "source": [
    "robust.params[\"quantiles\"]"
   ]
  },
  {
   "cell_type": "code",
   "execution_count": null,
   "metadata": {},
   "outputs": [],
   "source": [
    "robust"
   ]
  },
  {
   "cell_type": "code",
   "execution_count": null,
   "metadata": {},
   "outputs": [],
   "source": [
    "df[robust.params[\"column_names\"]]"
   ]
  },
  {
   "cell_type": "code",
   "execution_count": null,
   "metadata": {},
   "outputs": [],
   "source": [
    "robust.params"
   ]
  },
  {
   "cell_type": "code",
   "execution_count": null,
   "metadata": {},
   "outputs": [],
   "source": [
    "df.loc[robust.mask].index"
   ]
  },
  {
   "cell_type": "code",
   "execution_count": null,
   "metadata": {},
   "outputs": [],
   "source": [
    "robust.mask"
   ]
  },
  {
   "cell_type": "code",
   "execution_count": null,
   "metadata": {},
   "outputs": [],
   "source": [
    "df"
   ]
  },
  {
   "cell_type": "code",
   "execution_count": null,
   "metadata": {},
   "outputs": [],
   "source": [
    "df"
   ]
  },
  {
   "cell_type": "code",
   "execution_count": null,
   "metadata": {},
   "outputs": [],
   "source": [
    "robust.transform(df, inplace=True)"
   ]
  },
  {
   "cell_type": "markdown",
   "metadata": {},
   "source": [
    "# test IQR"
   ]
  },
  {
   "cell_type": "code",
   "execution_count": 7,
   "metadata": {},
   "outputs": [],
   "source": [
    "df = pd.DataFrame(np.random.normal(size=(5_000, 3)),\n",
    "                   columns=[\"metric_val1\", \"metric_val2\", \"metric_val3\"])"
   ]
  },
  {
   "cell_type": "code",
   "execution_count": 7,
   "metadata": {},
   "outputs": [],
   "source": [
    "cols = [\"metric_val1\", \"metric_val2\"]"
   ]
  },
  {
   "cell_type": "code",
   "execution_count": 8,
   "metadata": {},
   "outputs": [],
   "source": [
    "iqrclass = IQRPreprocessor()"
   ]
  },
  {
   "cell_type": "code",
   "execution_count": 9,
   "metadata": {},
   "outputs": [
    {
     "name": "stderr",
     "output_type": "stream",
     "text": [
      "ambrosia LOGGER: Making IQR transformation of columns ['metric_val1', 'metric_val2']\n",
      "ambrosia LOGGER: \n",
      "\n",
      "ambrosia LOGGER: Change Mean metric_val1: 0.0148 ===> 0.0107\n",
      "ambrosia LOGGER: Change Variance metric_val1: 0.9888 ===> 0.9220\n",
      "ambrosia LOGGER: Change IQR metric_val1: 1.3436 ===> 1.3340\n",
      "ambrosia LOGGER: Change Range metric_val1: 7.4759 ===> 5.3588\n",
      "ambrosia LOGGER: \n",
      "\n",
      "ambrosia LOGGER: Change Mean metric_val2: -0.0291 ===> -0.0298\n",
      "ambrosia LOGGER: Change Variance metric_val2: 0.9931 ===> 0.9275\n",
      "ambrosia LOGGER: Change IQR metric_val2: 1.3460 ===> 1.3364\n",
      "ambrosia LOGGER: Change Range metric_val2: 8.0403 ===> 5.3635\n"
     ]
    },
    {
     "data": {
      "text/html": [
       "<div>\n",
       "<style scoped>\n",
       "    .dataframe tbody tr th:only-of-type {\n",
       "        vertical-align: middle;\n",
       "    }\n",
       "\n",
       "    .dataframe tbody tr th {\n",
       "        vertical-align: top;\n",
       "    }\n",
       "\n",
       "    .dataframe thead th {\n",
       "        text-align: right;\n",
       "    }\n",
       "</style>\n",
       "<table border=\"1\" class=\"dataframe\">\n",
       "  <thead>\n",
       "    <tr style=\"text-align: right;\">\n",
       "      <th></th>\n",
       "      <th>metric_val1</th>\n",
       "      <th>metric_val2</th>\n",
       "      <th>metric_val3</th>\n",
       "    </tr>\n",
       "  </thead>\n",
       "  <tbody>\n",
       "    <tr>\n",
       "      <th>0</th>\n",
       "      <td>-1.509132</td>\n",
       "      <td>-1.038221</td>\n",
       "      <td>1.486457</td>\n",
       "    </tr>\n",
       "    <tr>\n",
       "      <th>1</th>\n",
       "      <td>-0.388096</td>\n",
       "      <td>0.856851</td>\n",
       "      <td>0.643557</td>\n",
       "    </tr>\n",
       "    <tr>\n",
       "      <th>2</th>\n",
       "      <td>0.439795</td>\n",
       "      <td>0.393159</td>\n",
       "      <td>0.969933</td>\n",
       "    </tr>\n",
       "    <tr>\n",
       "      <th>3</th>\n",
       "      <td>-0.023978</td>\n",
       "      <td>-1.339821</td>\n",
       "      <td>0.389628</td>\n",
       "    </tr>\n",
       "    <tr>\n",
       "      <th>5</th>\n",
       "      <td>-0.062325</td>\n",
       "      <td>0.067058</td>\n",
       "      <td>-0.012226</td>\n",
       "    </tr>\n",
       "    <tr>\n",
       "      <th>...</th>\n",
       "      <td>...</td>\n",
       "      <td>...</td>\n",
       "      <td>...</td>\n",
       "    </tr>\n",
       "    <tr>\n",
       "      <th>4995</th>\n",
       "      <td>-0.676269</td>\n",
       "      <td>0.082028</td>\n",
       "      <td>0.577783</td>\n",
       "    </tr>\n",
       "    <tr>\n",
       "      <th>4996</th>\n",
       "      <td>0.994633</td>\n",
       "      <td>-0.025512</td>\n",
       "      <td>-0.029609</td>\n",
       "    </tr>\n",
       "    <tr>\n",
       "      <th>4997</th>\n",
       "      <td>-1.253755</td>\n",
       "      <td>-1.456992</td>\n",
       "      <td>-1.371186</td>\n",
       "    </tr>\n",
       "    <tr>\n",
       "      <th>4998</th>\n",
       "      <td>-0.029100</td>\n",
       "      <td>0.315267</td>\n",
       "      <td>-0.172862</td>\n",
       "    </tr>\n",
       "    <tr>\n",
       "      <th>4999</th>\n",
       "      <td>-0.534076</td>\n",
       "      <td>1.006367</td>\n",
       "      <td>0.017490</td>\n",
       "    </tr>\n",
       "  </tbody>\n",
       "</table>\n",
       "<p>4925 rows × 3 columns</p>\n",
       "</div>"
      ],
      "text/plain": [
       "      metric_val1  metric_val2  metric_val3\n",
       "0       -1.509132    -1.038221     1.486457\n",
       "1       -0.388096     0.856851     0.643557\n",
       "2        0.439795     0.393159     0.969933\n",
       "3       -0.023978    -1.339821     0.389628\n",
       "5       -0.062325     0.067058    -0.012226\n",
       "...           ...          ...          ...\n",
       "4995    -0.676269     0.082028     0.577783\n",
       "4996     0.994633    -0.025512    -0.029609\n",
       "4997    -1.253755    -1.456992    -1.371186\n",
       "4998    -0.029100     0.315267    -0.172862\n",
       "4999    -0.534076     1.006367     0.017490\n",
       "\n",
       "[4925 rows x 3 columns]"
      ]
     },
     "execution_count": 9,
     "metadata": {},
     "output_type": "execute_result"
    }
   ],
   "source": [
    "iqrclass.fit_transform(df, cols, inplace=False)"
   ]
  },
  {
   "cell_type": "code",
   "execution_count": 12,
   "metadata": {},
   "outputs": [
    {
     "data": {
      "text/html": [
       "<div>\n",
       "<style scoped>\n",
       "    .dataframe tbody tr th:only-of-type {\n",
       "        vertical-align: middle;\n",
       "    }\n",
       "\n",
       "    .dataframe tbody tr th {\n",
       "        vertical-align: top;\n",
       "    }\n",
       "\n",
       "    .dataframe thead th {\n",
       "        text-align: right;\n",
       "    }\n",
       "</style>\n",
       "<table border=\"1\" class=\"dataframe\">\n",
       "  <thead>\n",
       "    <tr style=\"text-align: right;\">\n",
       "      <th></th>\n",
       "      <th>metric_val1</th>\n",
       "      <th>metric_val2</th>\n",
       "      <th>metric_val3</th>\n",
       "    </tr>\n",
       "  </thead>\n",
       "  <tbody>\n",
       "    <tr>\n",
       "      <th>0</th>\n",
       "      <td>-0.300136</td>\n",
       "      <td>0.085199</td>\n",
       "      <td>0.992214</td>\n",
       "    </tr>\n",
       "    <tr>\n",
       "      <th>1</th>\n",
       "      <td>1.184154</td>\n",
       "      <td>1.214958</td>\n",
       "      <td>1.006129</td>\n",
       "    </tr>\n",
       "    <tr>\n",
       "      <th>2</th>\n",
       "      <td>-0.697817</td>\n",
       "      <td>0.368578</td>\n",
       "      <td>-0.584481</td>\n",
       "    </tr>\n",
       "    <tr>\n",
       "      <th>3</th>\n",
       "      <td>1.510678</td>\n",
       "      <td>-1.080187</td>\n",
       "      <td>0.125386</td>\n",
       "    </tr>\n",
       "    <tr>\n",
       "      <th>4</th>\n",
       "      <td>-1.574673</td>\n",
       "      <td>-0.293700</td>\n",
       "      <td>1.335375</td>\n",
       "    </tr>\n",
       "    <tr>\n",
       "      <th>...</th>\n",
       "      <td>...</td>\n",
       "      <td>...</td>\n",
       "      <td>...</td>\n",
       "    </tr>\n",
       "    <tr>\n",
       "      <th>4995</th>\n",
       "      <td>0.656436</td>\n",
       "      <td>-1.741118</td>\n",
       "      <td>1.909299</td>\n",
       "    </tr>\n",
       "    <tr>\n",
       "      <th>4996</th>\n",
       "      <td>0.209243</td>\n",
       "      <td>-1.161018</td>\n",
       "      <td>0.152228</td>\n",
       "    </tr>\n",
       "    <tr>\n",
       "      <th>4997</th>\n",
       "      <td>-0.834028</td>\n",
       "      <td>-0.411020</td>\n",
       "      <td>0.612697</td>\n",
       "    </tr>\n",
       "    <tr>\n",
       "      <th>4998</th>\n",
       "      <td>0.846411</td>\n",
       "      <td>0.774942</td>\n",
       "      <td>-1.086685</td>\n",
       "    </tr>\n",
       "    <tr>\n",
       "      <th>4999</th>\n",
       "      <td>1.204037</td>\n",
       "      <td>0.307551</td>\n",
       "      <td>0.885131</td>\n",
       "    </tr>\n",
       "  </tbody>\n",
       "</table>\n",
       "<p>4917 rows × 3 columns</p>\n",
       "</div>"
      ],
      "text/plain": [
       "      metric_val1  metric_val2  metric_val3\n",
       "0       -0.300136     0.085199     0.992214\n",
       "1        1.184154     1.214958     1.006129\n",
       "2       -0.697817     0.368578    -0.584481\n",
       "3        1.510678    -1.080187     0.125386\n",
       "4       -1.574673    -0.293700     1.335375\n",
       "...           ...          ...          ...\n",
       "4995     0.656436    -1.741118     1.909299\n",
       "4996     0.209243    -1.161018     0.152228\n",
       "4997    -0.834028    -0.411020     0.612697\n",
       "4998     0.846411     0.774942    -1.086685\n",
       "4999     1.204037     0.307551     0.885131\n",
       "\n",
       "[4917 rows x 3 columns]"
      ]
     },
     "execution_count": 12,
     "metadata": {},
     "output_type": "execute_result"
    }
   ],
   "source": [
    "df"
   ]
  },
  {
   "cell_type": "code",
   "execution_count": 12,
   "metadata": {},
   "outputs": [],
   "source": [
    "iqrclass.fit(df, cols)"
   ]
  },
  {
   "cell_type": "code",
   "execution_count": 22,
   "metadata": {},
   "outputs": [],
   "source": [
    "iqrclass.transform(df, inplace=True)"
   ]
  },
  {
   "cell_type": "code",
   "execution_count": 23,
   "metadata": {},
   "outputs": [
    {
     "data": {
      "text/html": [
       "<div>\n",
       "<style scoped>\n",
       "    .dataframe tbody tr th:only-of-type {\n",
       "        vertical-align: middle;\n",
       "    }\n",
       "\n",
       "    .dataframe tbody tr th {\n",
       "        vertical-align: top;\n",
       "    }\n",
       "\n",
       "    .dataframe thead th {\n",
       "        text-align: right;\n",
       "    }\n",
       "</style>\n",
       "<table border=\"1\" class=\"dataframe\">\n",
       "  <thead>\n",
       "    <tr style=\"text-align: right;\">\n",
       "      <th></th>\n",
       "      <th>metric_val1</th>\n",
       "      <th>metric_val2</th>\n",
       "      <th>metric_val3</th>\n",
       "    </tr>\n",
       "  </thead>\n",
       "  <tbody>\n",
       "    <tr>\n",
       "      <th>0</th>\n",
       "      <td>-0.484322</td>\n",
       "      <td>0.643399</td>\n",
       "      <td>0.427435</td>\n",
       "    </tr>\n",
       "    <tr>\n",
       "      <th>1</th>\n",
       "      <td>0.023709</td>\n",
       "      <td>-0.338474</td>\n",
       "      <td>0.608964</td>\n",
       "    </tr>\n",
       "    <tr>\n",
       "      <th>2</th>\n",
       "      <td>0.634201</td>\n",
       "      <td>0.572607</td>\n",
       "      <td>0.129765</td>\n",
       "    </tr>\n",
       "    <tr>\n",
       "      <th>3</th>\n",
       "      <td>1.166159</td>\n",
       "      <td>-0.025467</td>\n",
       "      <td>-0.143979</td>\n",
       "    </tr>\n",
       "    <tr>\n",
       "      <th>4</th>\n",
       "      <td>-0.459135</td>\n",
       "      <td>-0.107858</td>\n",
       "      <td>0.366649</td>\n",
       "    </tr>\n",
       "    <tr>\n",
       "      <th>...</th>\n",
       "      <td>...</td>\n",
       "      <td>...</td>\n",
       "      <td>...</td>\n",
       "    </tr>\n",
       "    <tr>\n",
       "      <th>4995</th>\n",
       "      <td>-0.324446</td>\n",
       "      <td>-0.500512</td>\n",
       "      <td>-0.164044</td>\n",
       "    </tr>\n",
       "    <tr>\n",
       "      <th>4996</th>\n",
       "      <td>-2.706544</td>\n",
       "      <td>-1.030363</td>\n",
       "      <td>-1.206979</td>\n",
       "    </tr>\n",
       "    <tr>\n",
       "      <th>4997</th>\n",
       "      <td>-0.126194</td>\n",
       "      <td>-1.066703</td>\n",
       "      <td>-0.094655</td>\n",
       "    </tr>\n",
       "    <tr>\n",
       "      <th>4998</th>\n",
       "      <td>0.147374</td>\n",
       "      <td>0.450617</td>\n",
       "      <td>-1.784715</td>\n",
       "    </tr>\n",
       "    <tr>\n",
       "      <th>4999</th>\n",
       "      <td>-0.889932</td>\n",
       "      <td>-1.079042</td>\n",
       "      <td>-0.305427</td>\n",
       "    </tr>\n",
       "  </tbody>\n",
       "</table>\n",
       "<p>4942 rows × 3 columns</p>\n",
       "</div>"
      ],
      "text/plain": [
       "      metric_val1  metric_val2  metric_val3\n",
       "0       -0.484322     0.643399     0.427435\n",
       "1        0.023709    -0.338474     0.608964\n",
       "2        0.634201     0.572607     0.129765\n",
       "3        1.166159    -0.025467    -0.143979\n",
       "4       -0.459135    -0.107858     0.366649\n",
       "...           ...          ...          ...\n",
       "4995    -0.324446    -0.500512    -0.164044\n",
       "4996    -2.706544    -1.030363    -1.206979\n",
       "4997    -0.126194    -1.066703    -0.094655\n",
       "4998     0.147374     0.450617    -1.784715\n",
       "4999    -0.889932    -1.079042    -0.305427\n",
       "\n",
       "[4942 rows x 3 columns]"
      ]
     },
     "execution_count": 23,
     "metadata": {},
     "output_type": "execute_result"
    }
   ],
   "source": [
    "df"
   ]
  },
  {
   "cell_type": "code",
   "execution_count": 43,
   "metadata": {},
   "outputs": [
    {
     "ename": "TypeError",
     "evalue": "'NoneType' object is not subscriptable",
     "output_type": "error",
     "traceback": [
      "\u001b[0;31m---------------------------------------------------------------------------\u001b[0m",
      "\u001b[0;31mTypeError\u001b[0m                                 Traceback (most recent call last)",
      "Cell \u001b[0;32mIn[43], line 1\u001b[0m\n\u001b[0;32m----> 1\u001b[0m iqr \u001b[38;5;241m=\u001b[39m \u001b[43miqrclass\u001b[49m\u001b[38;5;241;43m.\u001b[39;49m\u001b[43mparams\u001b[49m\u001b[43m[\u001b[49m\u001b[38;5;124;43m\"\u001b[39;49m\u001b[38;5;124;43mquartiles\u001b[39;49m\u001b[38;5;124;43m\"\u001b[39;49m\u001b[43m]\u001b[49m\u001b[43m[\u001b[49m\u001b[43m:\u001b[49m\u001b[43m,\u001b[49m\u001b[43m \u001b[49m\u001b[38;5;241;43m1\u001b[39;49m\u001b[43m]\u001b[49m \u001b[38;5;241m-\u001b[39m iqrclass\u001b[38;5;241m.\u001b[39mparams[\u001b[38;5;124m\"\u001b[39m\u001b[38;5;124mquartiles\u001b[39m\u001b[38;5;124m\"\u001b[39m][:, \u001b[38;5;241m0\u001b[39m]\n\u001b[1;32m      2\u001b[0m tail \u001b[38;5;241m=\u001b[39m iqrclass\u001b[38;5;241m.\u001b[39mparams[\u001b[38;5;124m\"\u001b[39m\u001b[38;5;124mquartiles\u001b[39m\u001b[38;5;124m\"\u001b[39m][:, \u001b[38;5;241m0\u001b[39m] \u001b[38;5;241m-\u001b[39m \u001b[38;5;241m1.5\u001b[39m \u001b[38;5;241m*\u001b[39m iqr\n\u001b[1;32m      3\u001b[0m head \u001b[38;5;241m=\u001b[39m iqrclass\u001b[38;5;241m.\u001b[39mparams[\u001b[38;5;124m\"\u001b[39m\u001b[38;5;124mquartiles\u001b[39m\u001b[38;5;124m\"\u001b[39m][:, \u001b[38;5;241m1\u001b[39m] \u001b[38;5;241m+\u001b[39m \u001b[38;5;241m1.5\u001b[39m \u001b[38;5;241m*\u001b[39m iqr\n",
      "\u001b[0;31mTypeError\u001b[0m: 'NoneType' object is not subscriptable"
     ]
    }
   ],
   "source": [
    "iqr = iqrclass.params[\"quartiles\"][:, 1] - iqrclass.params[\"quartiles\"][:, 0]\n",
    "tail = iqrclass.params[\"quartiles\"][:, 0] - 1.5 * iqr\n",
    "head = iqrclass.params[\"quartiles\"][:, 1] + 1.5 * iqr"
   ]
  },
  {
   "cell_type": "code",
   "execution_count": 27,
   "metadata": {},
   "outputs": [
    {
     "data": {
      "text/plain": [
       "array([[-0.6301564 ,  0.6898051 ],\n",
       "       [-0.70395877,  0.66930072],\n",
       "       [-0.65542166,  0.64453047]])"
      ]
     },
     "execution_count": 27,
     "metadata": {},
     "output_type": "execute_result"
    }
   ],
   "source": [
    "iqrclass.params[\"quartiles\"]"
   ]
  },
  {
   "cell_type": "code",
   "execution_count": 28,
   "metadata": {},
   "outputs": [
    {
     "data": {
      "text/plain": [
       "array([-2.61009864, -2.763848  , -2.60534986])"
      ]
     },
     "execution_count": 28,
     "metadata": {},
     "output_type": "execute_result"
    }
   ],
   "source": [
    "tail"
   ]
  },
  {
   "cell_type": "code",
   "execution_count": 29,
   "metadata": {},
   "outputs": [],
   "source": [
    "mask = (df[iqrclass.params[\"column_names\"]] < tail) | (df[iqrclass.params[\"column_names\"]] > head)"
   ]
  },
  {
   "cell_type": "code",
   "execution_count": 30,
   "metadata": {},
   "outputs": [
    {
     "data": {
      "text/plain": [
       "123"
      ]
     },
     "execution_count": 30,
     "metadata": {},
     "output_type": "execute_result"
    }
   ],
   "source": [
    "mask.any(axis=1).sum()"
   ]
  },
  {
   "cell_type": "code",
   "execution_count": 33,
   "metadata": {},
   "outputs": [
    {
     "data": {
      "text/plain": [
       "0        True\n",
       "1       False\n",
       "2        True\n",
       "3       False\n",
       "4       False\n",
       "        ...  \n",
       "4995    False\n",
       "4996    False\n",
       "4997    False\n",
       "4998    False\n",
       "4999    False\n",
       "Length: 5000, dtype: bool"
      ]
     },
     "execution_count": 33,
     "metadata": {},
     "output_type": "execute_result"
    }
   ],
   "source": [
    "iqrclass.mask"
   ]
  },
  {
   "cell_type": "code",
   "execution_count": 34,
   "metadata": {},
   "outputs": [
    {
     "data": {
      "text/html": [
       "<div>\n",
       "<style scoped>\n",
       "    .dataframe tbody tr th:only-of-type {\n",
       "        vertical-align: middle;\n",
       "    }\n",
       "\n",
       "    .dataframe tbody tr th {\n",
       "        vertical-align: top;\n",
       "    }\n",
       "\n",
       "    .dataframe thead th {\n",
       "        text-align: right;\n",
       "    }\n",
       "</style>\n",
       "<table border=\"1\" class=\"dataframe\">\n",
       "  <thead>\n",
       "    <tr style=\"text-align: right;\">\n",
       "      <th></th>\n",
       "      <th>metric_val1</th>\n",
       "      <th>metric_val2</th>\n",
       "      <th>metric_val3</th>\n",
       "    </tr>\n",
       "  </thead>\n",
       "  <tbody>\n",
       "    <tr>\n",
       "      <th>1</th>\n",
       "      <td>0.720170</td>\n",
       "      <td>0.378941</td>\n",
       "      <td>1.301612</td>\n",
       "    </tr>\n",
       "    <tr>\n",
       "      <th>3</th>\n",
       "      <td>-1.056326</td>\n",
       "      <td>1.793595</td>\n",
       "      <td>1.529396</td>\n",
       "    </tr>\n",
       "    <tr>\n",
       "      <th>4</th>\n",
       "      <td>-1.076965</td>\n",
       "      <td>-2.172287</td>\n",
       "      <td>-0.020836</td>\n",
       "    </tr>\n",
       "    <tr>\n",
       "      <th>5</th>\n",
       "      <td>0.519030</td>\n",
       "      <td>-1.770059</td>\n",
       "      <td>1.857670</td>\n",
       "    </tr>\n",
       "    <tr>\n",
       "      <th>6</th>\n",
       "      <td>1.350175</td>\n",
       "      <td>-0.193829</td>\n",
       "      <td>-0.059907</td>\n",
       "    </tr>\n",
       "    <tr>\n",
       "      <th>...</th>\n",
       "      <td>...</td>\n",
       "      <td>...</td>\n",
       "      <td>...</td>\n",
       "    </tr>\n",
       "    <tr>\n",
       "      <th>4995</th>\n",
       "      <td>0.537855</td>\n",
       "      <td>-2.717513</td>\n",
       "      <td>1.365800</td>\n",
       "    </tr>\n",
       "    <tr>\n",
       "      <th>4996</th>\n",
       "      <td>0.113153</td>\n",
       "      <td>0.051330</td>\n",
       "      <td>-0.117054</td>\n",
       "    </tr>\n",
       "    <tr>\n",
       "      <th>4997</th>\n",
       "      <td>-0.140213</td>\n",
       "      <td>0.122161</td>\n",
       "      <td>0.113612</td>\n",
       "    </tr>\n",
       "    <tr>\n",
       "      <th>4998</th>\n",
       "      <td>-0.883253</td>\n",
       "      <td>-0.601246</td>\n",
       "      <td>-0.464188</td>\n",
       "    </tr>\n",
       "    <tr>\n",
       "      <th>4999</th>\n",
       "      <td>0.291272</td>\n",
       "      <td>-0.925880</td>\n",
       "      <td>0.534237</td>\n",
       "    </tr>\n",
       "  </tbody>\n",
       "</table>\n",
       "<p>4877 rows × 3 columns</p>\n",
       "</div>"
      ],
      "text/plain": [
       "      metric_val1  metric_val2  metric_val3\n",
       "1        0.720170     0.378941     1.301612\n",
       "3       -1.056326     1.793595     1.529396\n",
       "4       -1.076965    -2.172287    -0.020836\n",
       "5        0.519030    -1.770059     1.857670\n",
       "6        1.350175    -0.193829    -0.059907\n",
       "...           ...          ...          ...\n",
       "4995     0.537855    -2.717513     1.365800\n",
       "4996     0.113153     0.051330    -0.117054\n",
       "4997    -0.140213     0.122161     0.113612\n",
       "4998    -0.883253    -0.601246    -0.464188\n",
       "4999     0.291272    -0.925880     0.534237\n",
       "\n",
       "[4877 rows x 3 columns]"
      ]
     },
     "execution_count": 34,
     "metadata": {},
     "output_type": "execute_result"
    }
   ],
   "source": [
    "iqrclass.transform(df)"
   ]
  },
  {
   "cell_type": "code",
   "execution_count": 13,
   "metadata": {},
   "outputs": [
    {
     "data": {
      "text/plain": [
       "{'column_names': ['metric_val1', 'metric_val2'],\n",
       " 'medians': array([0.01412424, 0.00152882]),\n",
       " 'quartiles': array([[-0.66525203,  0.66603767],\n",
       "        [-0.67209298,  0.65946556]])}"
      ]
     },
     "execution_count": 13,
     "metadata": {},
     "output_type": "execute_result"
    }
   ],
   "source": [
    "iqrclass.get_params_dict()"
   ]
  },
  {
   "cell_type": "markdown",
   "metadata": {},
   "source": [
    "# test Box Cox"
   ]
  },
  {
   "cell_type": "code",
   "execution_count": 1,
   "metadata": {
    "scrolled": true
   },
   "outputs": [],
   "source": [
    "%load_ext autoreload \n",
    "%autoreload 2"
   ]
  },
  {
   "cell_type": "code",
   "execution_count": 2,
   "metadata": {},
   "outputs": [],
   "source": [
    "from ambrosia.preprocessing.robust import RobustPreprocessor, IQRPreprocessor, LogTransformer, BoxCoxTransformer"
   ]
  },
  {
   "cell_type": "code",
   "execution_count": 3,
   "metadata": {},
   "outputs": [],
   "source": [
    "import numpy as np\n",
    "import pandas as pd"
   ]
  },
  {
   "cell_type": "code",
   "execution_count": 4,
   "metadata": {},
   "outputs": [],
   "source": [
    "df = pd.DataFrame(np.random.normal(size=(5_000, 3)),\n",
    "                   columns=[\"metric_val1\", \"metric_val2\", \"metric_val3\"])"
   ]
  },
  {
   "cell_type": "code",
   "execution_count": 5,
   "metadata": {},
   "outputs": [],
   "source": [
    "import random, string\n",
    "\n",
    "def randomword(length):\n",
    "    letters = string.ascii_lowercase\n",
    "    return ''.join(random.choice(letters) for i in range(length))"
   ]
  },
  {
   "cell_type": "code",
   "execution_count": 6,
   "metadata": {},
   "outputs": [],
   "source": [
    "df['id'] =  df.apply(lambda x: randomword(28), axis=1)"
   ]
  },
  {
   "cell_type": "code",
   "execution_count": 7,
   "metadata": {},
   "outputs": [],
   "source": [
    "boxcox = BoxCoxTransformer()"
   ]
  },
  {
   "cell_type": "code",
   "execution_count": 11,
   "metadata": {},
   "outputs": [],
   "source": [
    "boxcox.fit(df, cols)"
   ]
  },
  {
   "cell_type": "code",
   "execution_count": 12,
   "metadata": {},
   "outputs": [
    {
     "data": {
      "text/plain": [
       "{'column_names': ['metric_val1', 'metric_val2'],\n",
       " 'lambda_': array([0.42821399, 0.42724942])}"
      ]
     },
     "execution_count": 12,
     "metadata": {},
     "output_type": "execute_result"
    }
   ],
   "source": [
    "boxcox.get_params_dict()"
   ]
  },
  {
   "cell_type": "code",
   "execution_count": 13,
   "metadata": {},
   "outputs": [
    {
     "data": {
      "text/html": [
       "<div>\n",
       "<style scoped>\n",
       "    .dataframe tbody tr th:only-of-type {\n",
       "        vertical-align: middle;\n",
       "    }\n",
       "\n",
       "    .dataframe tbody tr th {\n",
       "        vertical-align: top;\n",
       "    }\n",
       "\n",
       "    .dataframe thead th {\n",
       "        text-align: right;\n",
       "    }\n",
       "</style>\n",
       "<table border=\"1\" class=\"dataframe\">\n",
       "  <thead>\n",
       "    <tr style=\"text-align: right;\">\n",
       "      <th></th>\n",
       "      <th>metric_val1</th>\n",
       "      <th>metric_val2</th>\n",
       "      <th>metric_val3</th>\n",
       "      <th>id</th>\n",
       "    </tr>\n",
       "  </thead>\n",
       "  <tbody>\n",
       "    <tr>\n",
       "      <th>0</th>\n",
       "      <td>0.240243</td>\n",
       "      <td>0.460883</td>\n",
       "      <td>1.214133</td>\n",
       "      <td>sdithreliyxyxrigwpxlztnhkhhg</td>\n",
       "    </tr>\n",
       "    <tr>\n",
       "      <th>1</th>\n",
       "      <td>0.878765</td>\n",
       "      <td>0.567552</td>\n",
       "      <td>0.437754</td>\n",
       "      <td>jhzywvbostfdttbcxpqgmyhstwjs</td>\n",
       "    </tr>\n",
       "    <tr>\n",
       "      <th>2</th>\n",
       "      <td>2.128493</td>\n",
       "      <td>2.281123</td>\n",
       "      <td>0.544554</td>\n",
       "      <td>jdgcebydgcqshvpqlyjdvpbcnxic</td>\n",
       "    </tr>\n",
       "    <tr>\n",
       "      <th>3</th>\n",
       "      <td>0.683000</td>\n",
       "      <td>0.856081</td>\n",
       "      <td>1.296684</td>\n",
       "      <td>wfyfpxatbyjypyxfthgjjxhbbagf</td>\n",
       "    </tr>\n",
       "    <tr>\n",
       "      <th>4</th>\n",
       "      <td>0.459182</td>\n",
       "      <td>0.523063</td>\n",
       "      <td>0.894781</td>\n",
       "      <td>xpctzdgrrwpblegafkwvkixhsjuv</td>\n",
       "    </tr>\n",
       "    <tr>\n",
       "      <th>...</th>\n",
       "      <td>...</td>\n",
       "      <td>...</td>\n",
       "      <td>...</td>\n",
       "      <td>...</td>\n",
       "    </tr>\n",
       "    <tr>\n",
       "      <th>4995</th>\n",
       "      <td>0.640490</td>\n",
       "      <td>0.891341</td>\n",
       "      <td>1.573491</td>\n",
       "      <td>ozlxnjzuzizoplaiilfxietmsvpf</td>\n",
       "    </tr>\n",
       "    <tr>\n",
       "      <th>4996</th>\n",
       "      <td>0.873785</td>\n",
       "      <td>1.633371</td>\n",
       "      <td>0.110024</td>\n",
       "      <td>eghxqeuiijeyduihuzfgexvhjzkv</td>\n",
       "    </tr>\n",
       "    <tr>\n",
       "      <th>4997</th>\n",
       "      <td>0.120386</td>\n",
       "      <td>1.822059</td>\n",
       "      <td>0.531115</td>\n",
       "      <td>ygevukwejqkovjyrixrgcbcwxwjd</td>\n",
       "    </tr>\n",
       "    <tr>\n",
       "      <th>4998</th>\n",
       "      <td>2.015623</td>\n",
       "      <td>0.762472</td>\n",
       "      <td>2.459815</td>\n",
       "      <td>lslfqksnhzhkiaxsgpnaftmfrxnt</td>\n",
       "    </tr>\n",
       "    <tr>\n",
       "      <th>4999</th>\n",
       "      <td>0.692007</td>\n",
       "      <td>0.960003</td>\n",
       "      <td>0.142952</td>\n",
       "      <td>zyfzdbsfglcqreqdnvtrjfbqbiaj</td>\n",
       "    </tr>\n",
       "  </tbody>\n",
       "</table>\n",
       "<p>5000 rows × 4 columns</p>\n",
       "</div>"
      ],
      "text/plain": [
       "      metric_val1  metric_val2  metric_val3                            id\n",
       "0        0.240243     0.460883     1.214133  sdithreliyxyxrigwpxlztnhkhhg\n",
       "1        0.878765     0.567552     0.437754  jhzywvbostfdttbcxpqgmyhstwjs\n",
       "2        2.128493     2.281123     0.544554  jdgcebydgcqshvpqlyjdvpbcnxic\n",
       "3        0.683000     0.856081     1.296684  wfyfpxatbyjypyxfthgjjxhbbagf\n",
       "4        0.459182     0.523063     0.894781  xpctzdgrrwpblegafkwvkixhsjuv\n",
       "...           ...          ...          ...                           ...\n",
       "4995     0.640490     0.891341     1.573491  ozlxnjzuzizoplaiilfxietmsvpf\n",
       "4996     0.873785     1.633371     0.110024  eghxqeuiijeyduihuzfgexvhjzkv\n",
       "4997     0.120386     1.822059     0.531115  ygevukwejqkovjyrixrgcbcwxwjd\n",
       "4998     2.015623     0.762472     2.459815  lslfqksnhzhkiaxsgpnaftmfrxnt\n",
       "4999     0.692007     0.960003     0.142952  zyfzdbsfglcqreqdnvtrjfbqbiaj\n",
       "\n",
       "[5000 rows x 4 columns]"
      ]
     },
     "execution_count": 13,
     "metadata": {},
     "output_type": "execute_result"
    }
   ],
   "source": [
    "df"
   ]
  },
  {
   "cell_type": "code",
   "execution_count": 20,
   "metadata": {},
   "outputs": [
    {
     "data": {
      "text/plain": [
       "'Box-Cox transformation'"
      ]
     },
     "execution_count": 20,
     "metadata": {},
     "output_type": "execute_result"
    }
   ],
   "source": [
    "str(boxcox)"
   ]
  },
  {
   "cell_type": "code",
   "execution_count": 19,
   "metadata": {},
   "outputs": [
    {
     "data": {
      "text/html": [
       "<div>\n",
       "<style scoped>\n",
       "    .dataframe tbody tr th:only-of-type {\n",
       "        vertical-align: middle;\n",
       "    }\n",
       "\n",
       "    .dataframe tbody tr th {\n",
       "        vertical-align: top;\n",
       "    }\n",
       "\n",
       "    .dataframe thead th {\n",
       "        text-align: right;\n",
       "    }\n",
       "</style>\n",
       "<table border=\"1\" class=\"dataframe\">\n",
       "  <thead>\n",
       "    <tr style=\"text-align: right;\">\n",
       "      <th></th>\n",
       "      <th>metric_val1</th>\n",
       "      <th>metric_val2</th>\n",
       "      <th>metric_val3</th>\n",
       "      <th>id</th>\n",
       "    </tr>\n",
       "  </thead>\n",
       "  <tbody>\n",
       "    <tr>\n",
       "      <th>0</th>\n",
       "      <td>0.388252</td>\n",
       "      <td>-2.261356</td>\n",
       "      <td>0.866494</td>\n",
       "      <td>gtwqhambzeybdnzzuxnzxkmyuoly</td>\n",
       "    </tr>\n",
       "    <tr>\n",
       "      <th>1</th>\n",
       "      <td>0.604751</td>\n",
       "      <td>-1.011895</td>\n",
       "      <td>0.452002</td>\n",
       "      <td>uswzsakeexvcsraxaqouazytxrxx</td>\n",
       "    </tr>\n",
       "    <tr>\n",
       "      <th>2</th>\n",
       "      <td>-0.950704</td>\n",
       "      <td>0.712862</td>\n",
       "      <td>1.126189</td>\n",
       "      <td>ypdafgtoyewpbyfyrxwdmascgxxq</td>\n",
       "    </tr>\n",
       "    <tr>\n",
       "      <th>3</th>\n",
       "      <td>0.127157</td>\n",
       "      <td>-0.769377</td>\n",
       "      <td>2.024744</td>\n",
       "      <td>hmriajnzokurhoenenanoerwvmkc</td>\n",
       "    </tr>\n",
       "    <tr>\n",
       "      <th>4</th>\n",
       "      <td>-0.168260</td>\n",
       "      <td>-0.818581</td>\n",
       "      <td>0.221281</td>\n",
       "      <td>uxlkyvxpctlagfoycjvxdwqmlmwh</td>\n",
       "    </tr>\n",
       "    <tr>\n",
       "      <th>...</th>\n",
       "      <td>...</td>\n",
       "      <td>...</td>\n",
       "      <td>...</td>\n",
       "      <td>...</td>\n",
       "    </tr>\n",
       "    <tr>\n",
       "      <th>4995</th>\n",
       "      <td>-0.449457</td>\n",
       "      <td>-1.571021</td>\n",
       "      <td>0.870054</td>\n",
       "      <td>axlqwcqcwxzivuzreigcvemmpkie</td>\n",
       "    </tr>\n",
       "    <tr>\n",
       "      <th>4996</th>\n",
       "      <td>-0.270050</td>\n",
       "      <td>-0.291021</td>\n",
       "      <td>0.251562</td>\n",
       "      <td>ixvfsajffldljubzwfnftmadlpxu</td>\n",
       "    </tr>\n",
       "    <tr>\n",
       "      <th>4997</th>\n",
       "      <td>-0.973418</td>\n",
       "      <td>-0.656206</td>\n",
       "      <td>1.967607</td>\n",
       "      <td>wgmszarnirjuoylehkvzhpklspka</td>\n",
       "    </tr>\n",
       "    <tr>\n",
       "      <th>4998</th>\n",
       "      <td>0.023323</td>\n",
       "      <td>-0.167547</td>\n",
       "      <td>0.364445</td>\n",
       "      <td>pvpylwqygzhbfmjdkjrmlqnzsdcy</td>\n",
       "    </tr>\n",
       "    <tr>\n",
       "      <th>4999</th>\n",
       "      <td>-1.045398</td>\n",
       "      <td>-0.174114</td>\n",
       "      <td>1.013731</td>\n",
       "      <td>xrxnhjddaclgwjhskkesvibszomd</td>\n",
       "    </tr>\n",
       "  </tbody>\n",
       "</table>\n",
       "<p>5000 rows × 4 columns</p>\n",
       "</div>"
      ],
      "text/plain": [
       "      metric_val1  metric_val2  metric_val3                            id\n",
       "0        0.388252    -2.261356     0.866494  gtwqhambzeybdnzzuxnzxkmyuoly\n",
       "1        0.604751    -1.011895     0.452002  uswzsakeexvcsraxaqouazytxrxx\n",
       "2       -0.950704     0.712862     1.126189  ypdafgtoyewpbyfyrxwdmascgxxq\n",
       "3        0.127157    -0.769377     2.024744  hmriajnzokurhoenenanoerwvmkc\n",
       "4       -0.168260    -0.818581     0.221281  uxlkyvxpctlagfoycjvxdwqmlmwh\n",
       "...           ...          ...          ...                           ...\n",
       "4995    -0.449457    -1.571021     0.870054  axlqwcqcwxzivuzreigcvemmpkie\n",
       "4996    -0.270050    -0.291021     0.251562  ixvfsajffldljubzwfnftmadlpxu\n",
       "4997    -0.973418    -0.656206     1.967607  wgmszarnirjuoylehkvzhpklspka\n",
       "4998     0.023323    -0.167547     0.364445  pvpylwqygzhbfmjdkjrmlqnzsdcy\n",
       "4999    -1.045398    -0.174114     1.013731  xrxnhjddaclgwjhskkesvibszomd\n",
       "\n",
       "[5000 rows x 4 columns]"
      ]
     },
     "execution_count": 19,
     "metadata": {},
     "output_type": "execute_result"
    }
   ],
   "source": [
    "boxcox.transform(df, inplace=True)"
   ]
  },
  {
   "cell_type": "code",
   "execution_count": 40,
   "metadata": {},
   "outputs": [],
   "source": [
    "class Kek:\n",
    "    def __str__(self):\n",
    "        return'Kek class'\n",
    "    def __uma(self):\n",
    "        print(\"uma\")"
   ]
  },
  {
   "cell_type": "code",
   "execution_count": null,
   "metadata": {},
   "outputs": [],
   "source": []
  },
  {
   "cell_type": "code",
   "execution_count": 41,
   "metadata": {},
   "outputs": [],
   "source": [
    "kek = Kek()"
   ]
  },
  {
   "cell_type": "code",
   "execution_count": 42,
   "metadata": {},
   "outputs": [
    {
     "ename": "AttributeError",
     "evalue": "'Kek' object has no attribute '__uma'",
     "output_type": "error",
     "traceback": [
      "\u001b[0;31m---------------------------------------------------------------------------\u001b[0m",
      "\u001b[0;31mAttributeError\u001b[0m                            Traceback (most recent call last)",
      "Cell \u001b[0;32mIn[42], line 1\u001b[0m\n\u001b[0;32m----> 1\u001b[0m \u001b[43mkek\u001b[49m\u001b[38;5;241;43m.\u001b[39;49m\u001b[43m__uma\u001b[49m()\n",
      "\u001b[0;31mAttributeError\u001b[0m: 'Kek' object has no attribute '__uma'"
     ]
    }
   ],
   "source": [
    "kek.__uma()"
   ]
  },
  {
   "cell_type": "code",
   "execution_count": 33,
   "metadata": {},
   "outputs": [],
   "source": [
    "import catboost"
   ]
  },
  {
   "cell_type": "code",
   "execution_count": 35,
   "metadata": {},
   "outputs": [],
   "source": [
    "kek = catboost.CatBoostClassifier()"
   ]
  },
  {
   "cell_type": "code",
   "execution_count": 36,
   "metadata": {},
   "outputs": [
    {
     "data": {
      "text/plain": [
       "<catboost.core.CatBoostClassifier at 0x135ca6b80>"
      ]
     },
     "execution_count": 36,
     "metadata": {},
     "output_type": "execute_result"
    }
   ],
   "source": [
    "kek"
   ]
  },
  {
   "cell_type": "code",
   "execution_count": 38,
   "metadata": {},
   "outputs": [
    {
     "data": {
      "text/plain": [
       "'<catboost.core.CatBoostClassifier object at 0x135ca6b80>'"
      ]
     },
     "execution_count": 38,
     "metadata": {},
     "output_type": "execute_result"
    }
   ],
   "source": [
    "kek.__str__()"
   ]
  },
  {
   "cell_type": "code",
   "execution_count": 37,
   "metadata": {},
   "outputs": [
    {
     "data": {
      "text/plain": [
       "'<catboost.core.CatBoostClassifier object at 0x135ca6b80>'"
      ]
     },
     "execution_count": 37,
     "metadata": {},
     "output_type": "execute_result"
    }
   ],
   "source": [
    "kek.__repr__()"
   ]
  },
  {
   "cell_type": "code",
   "execution_count": 21,
   "metadata": {},
   "outputs": [
    {
     "name": "stdout",
     "output_type": "stream",
     "text": [
      "Box-Cox transformation\n"
     ]
    }
   ],
   "source": [
    "print(boxcox)"
   ]
  },
  {
   "cell_type": "code",
   "execution_count": 14,
   "metadata": {},
   "outputs": [],
   "source": [
    "boxcox.transform(df, inplace=True)"
   ]
  },
  {
   "cell_type": "code",
   "execution_count": 15,
   "metadata": {},
   "outputs": [
    {
     "data": {
      "text/html": [
       "<div>\n",
       "<style scoped>\n",
       "    .dataframe tbody tr th:only-of-type {\n",
       "        vertical-align: middle;\n",
       "    }\n",
       "\n",
       "    .dataframe tbody tr th {\n",
       "        vertical-align: top;\n",
       "    }\n",
       "\n",
       "    .dataframe thead th {\n",
       "        text-align: right;\n",
       "    }\n",
       "</style>\n",
       "<table border=\"1\" class=\"dataframe\">\n",
       "  <thead>\n",
       "    <tr style=\"text-align: right;\">\n",
       "      <th></th>\n",
       "      <th>metric_val1</th>\n",
       "      <th>metric_val2</th>\n",
       "      <th>metric_val3</th>\n",
       "      <th>id</th>\n",
       "    </tr>\n",
       "  </thead>\n",
       "  <tbody>\n",
       "    <tr>\n",
       "      <th>0</th>\n",
       "      <td>-1.067264</td>\n",
       "      <td>-0.659476</td>\n",
       "      <td>1.214133</td>\n",
       "      <td>sdithreliyxyxrigwpxlztnhkhhg</td>\n",
       "    </tr>\n",
       "    <tr>\n",
       "      <th>1</th>\n",
       "      <td>-0.125726</td>\n",
       "      <td>-0.503095</td>\n",
       "      <td>0.437754</td>\n",
       "      <td>jhzywvbostfdttbcxpqgmyhstwjs</td>\n",
       "    </tr>\n",
       "    <tr>\n",
       "      <th>2</th>\n",
       "      <td>0.891907</td>\n",
       "      <td>0.988628</td>\n",
       "      <td>0.544554</td>\n",
       "      <td>jdgcebydgcqshvpqlyjdvpbcnxic</td>\n",
       "    </tr>\n",
       "    <tr>\n",
       "      <th>3</th>\n",
       "      <td>-0.351765</td>\n",
       "      <td>-0.150345</td>\n",
       "      <td>1.296684</td>\n",
       "      <td>wfyfpxatbyjypyxfthgjjxhbbagf</td>\n",
       "    </tr>\n",
       "    <tr>\n",
       "      <th>4</th>\n",
       "      <td>-0.661894</td>\n",
       "      <td>-0.566074</td>\n",
       "      <td>0.894781</td>\n",
       "      <td>xpctzdgrrwpblegafkwvkixhsjuv</td>\n",
       "    </tr>\n",
       "    <tr>\n",
       "      <th>...</th>\n",
       "      <td>...</td>\n",
       "      <td>...</td>\n",
       "      <td>...</td>\n",
       "      <td>...</td>\n",
       "    </tr>\n",
       "    <tr>\n",
       "      <th>4995</th>\n",
       "      <td>-0.405602</td>\n",
       "      <td>-0.112248</td>\n",
       "      <td>1.573491</td>\n",
       "      <td>ozlxnjzuzizoplaiilfxietmsvpf</td>\n",
       "    </tr>\n",
       "    <tr>\n",
       "      <th>4996</th>\n",
       "      <td>-0.131097</td>\n",
       "      <td>0.545863</td>\n",
       "      <td>0.110024</td>\n",
       "      <td>eghxqeuiijeyduihuzfgexvhjzkv</td>\n",
       "    </tr>\n",
       "    <tr>\n",
       "      <th>4997</th>\n",
       "      <td>-1.392027</td>\n",
       "      <td>0.683877</td>\n",
       "      <td>0.531115</td>\n",
       "      <td>ygevukwejqkovjyrixrgcbcwxwjd</td>\n",
       "    </tr>\n",
       "    <tr>\n",
       "      <th>4998</th>\n",
       "      <td>0.817483</td>\n",
       "      <td>-0.256068</td>\n",
       "      <td>2.459815</td>\n",
       "      <td>lslfqksnhzhkiaxsgpnaftmfrxnt</td>\n",
       "    </tr>\n",
       "    <tr>\n",
       "      <th>4999</th>\n",
       "      <td>-0.340605</td>\n",
       "      <td>-0.040465</td>\n",
       "      <td>0.142952</td>\n",
       "      <td>zyfzdbsfglcqreqdnvtrjfbqbiaj</td>\n",
       "    </tr>\n",
       "  </tbody>\n",
       "</table>\n",
       "<p>5000 rows × 4 columns</p>\n",
       "</div>"
      ],
      "text/plain": [
       "      metric_val1  metric_val2  metric_val3                            id\n",
       "0       -1.067264    -0.659476     1.214133  sdithreliyxyxrigwpxlztnhkhhg\n",
       "1       -0.125726    -0.503095     0.437754  jhzywvbostfdttbcxpqgmyhstwjs\n",
       "2        0.891907     0.988628     0.544554  jdgcebydgcqshvpqlyjdvpbcnxic\n",
       "3       -0.351765    -0.150345     1.296684  wfyfpxatbyjypyxfthgjjxhbbagf\n",
       "4       -0.661894    -0.566074     0.894781  xpctzdgrrwpblegafkwvkixhsjuv\n",
       "...           ...          ...          ...                           ...\n",
       "4995    -0.405602    -0.112248     1.573491  ozlxnjzuzizoplaiilfxietmsvpf\n",
       "4996    -0.131097     0.545863     0.110024  eghxqeuiijeyduihuzfgexvhjzkv\n",
       "4997    -1.392027     0.683877     0.531115  ygevukwejqkovjyrixrgcbcwxwjd\n",
       "4998     0.817483    -0.256068     2.459815  lslfqksnhzhkiaxsgpnaftmfrxnt\n",
       "4999    -0.340605    -0.040465     0.142952  zyfzdbsfglcqreqdnvtrjfbqbiaj\n",
       "\n",
       "[5000 rows x 4 columns]"
      ]
     },
     "execution_count": 15,
     "metadata": {},
     "output_type": "execute_result"
    }
   ],
   "source": [
    "df"
   ]
  },
  {
   "cell_type": "code",
   "execution_count": 16,
   "metadata": {},
   "outputs": [
    {
     "data": {
      "text/html": [
       "<div>\n",
       "<style scoped>\n",
       "    .dataframe tbody tr th:only-of-type {\n",
       "        vertical-align: middle;\n",
       "    }\n",
       "\n",
       "    .dataframe tbody tr th {\n",
       "        vertical-align: top;\n",
       "    }\n",
       "\n",
       "    .dataframe thead th {\n",
       "        text-align: right;\n",
       "    }\n",
       "</style>\n",
       "<table border=\"1\" class=\"dataframe\">\n",
       "  <thead>\n",
       "    <tr style=\"text-align: right;\">\n",
       "      <th></th>\n",
       "      <th>metric_val1</th>\n",
       "      <th>metric_val2</th>\n",
       "      <th>metric_val3</th>\n",
       "      <th>id</th>\n",
       "    </tr>\n",
       "  </thead>\n",
       "  <tbody>\n",
       "    <tr>\n",
       "      <th>0</th>\n",
       "      <td>0.240243</td>\n",
       "      <td>0.460883</td>\n",
       "      <td>1.214133</td>\n",
       "      <td>sdithreliyxyxrigwpxlztnhkhhg</td>\n",
       "    </tr>\n",
       "    <tr>\n",
       "      <th>1</th>\n",
       "      <td>0.878765</td>\n",
       "      <td>0.567552</td>\n",
       "      <td>0.437754</td>\n",
       "      <td>jhzywvbostfdttbcxpqgmyhstwjs</td>\n",
       "    </tr>\n",
       "    <tr>\n",
       "      <th>2</th>\n",
       "      <td>2.128493</td>\n",
       "      <td>2.281123</td>\n",
       "      <td>0.544554</td>\n",
       "      <td>jdgcebydgcqshvpqlyjdvpbcnxic</td>\n",
       "    </tr>\n",
       "    <tr>\n",
       "      <th>3</th>\n",
       "      <td>0.683000</td>\n",
       "      <td>0.856081</td>\n",
       "      <td>1.296684</td>\n",
       "      <td>wfyfpxatbyjypyxfthgjjxhbbagf</td>\n",
       "    </tr>\n",
       "    <tr>\n",
       "      <th>4</th>\n",
       "      <td>0.459182</td>\n",
       "      <td>0.523063</td>\n",
       "      <td>0.894781</td>\n",
       "      <td>xpctzdgrrwpblegafkwvkixhsjuv</td>\n",
       "    </tr>\n",
       "    <tr>\n",
       "      <th>...</th>\n",
       "      <td>...</td>\n",
       "      <td>...</td>\n",
       "      <td>...</td>\n",
       "      <td>...</td>\n",
       "    </tr>\n",
       "    <tr>\n",
       "      <th>4995</th>\n",
       "      <td>0.640490</td>\n",
       "      <td>0.891341</td>\n",
       "      <td>1.573491</td>\n",
       "      <td>ozlxnjzuzizoplaiilfxietmsvpf</td>\n",
       "    </tr>\n",
       "    <tr>\n",
       "      <th>4996</th>\n",
       "      <td>0.873785</td>\n",
       "      <td>1.633371</td>\n",
       "      <td>0.110024</td>\n",
       "      <td>eghxqeuiijeyduihuzfgexvhjzkv</td>\n",
       "    </tr>\n",
       "    <tr>\n",
       "      <th>4997</th>\n",
       "      <td>0.120386</td>\n",
       "      <td>1.822059</td>\n",
       "      <td>0.531115</td>\n",
       "      <td>ygevukwejqkovjyrixrgcbcwxwjd</td>\n",
       "    </tr>\n",
       "    <tr>\n",
       "      <th>4998</th>\n",
       "      <td>2.015623</td>\n",
       "      <td>0.762472</td>\n",
       "      <td>2.459815</td>\n",
       "      <td>lslfqksnhzhkiaxsgpnaftmfrxnt</td>\n",
       "    </tr>\n",
       "    <tr>\n",
       "      <th>4999</th>\n",
       "      <td>0.692007</td>\n",
       "      <td>0.960003</td>\n",
       "      <td>0.142952</td>\n",
       "      <td>zyfzdbsfglcqreqdnvtrjfbqbiaj</td>\n",
       "    </tr>\n",
       "  </tbody>\n",
       "</table>\n",
       "<p>5000 rows × 4 columns</p>\n",
       "</div>"
      ],
      "text/plain": [
       "      metric_val1  metric_val2  metric_val3                            id\n",
       "0        0.240243     0.460883     1.214133  sdithreliyxyxrigwpxlztnhkhhg\n",
       "1        0.878765     0.567552     0.437754  jhzywvbostfdttbcxpqgmyhstwjs\n",
       "2        2.128493     2.281123     0.544554  jdgcebydgcqshvpqlyjdvpbcnxic\n",
       "3        0.683000     0.856081     1.296684  wfyfpxatbyjypyxfthgjjxhbbagf\n",
       "4        0.459182     0.523063     0.894781  xpctzdgrrwpblegafkwvkixhsjuv\n",
       "...           ...          ...          ...                           ...\n",
       "4995     0.640490     0.891341     1.573491  ozlxnjzuzizoplaiilfxietmsvpf\n",
       "4996     0.873785     1.633371     0.110024  eghxqeuiijeyduihuzfgexvhjzkv\n",
       "4997     0.120386     1.822059     0.531115  ygevukwejqkovjyrixrgcbcwxwjd\n",
       "4998     2.015623     0.762472     2.459815  lslfqksnhzhkiaxsgpnaftmfrxnt\n",
       "4999     0.692007     0.960003     0.142952  zyfzdbsfglcqreqdnvtrjfbqbiaj\n",
       "\n",
       "[5000 rows x 4 columns]"
      ]
     },
     "execution_count": 16,
     "metadata": {},
     "output_type": "execute_result"
    }
   ],
   "source": [
    "boxcox.inverse_transform(df, inplace=False)"
   ]
  },
  {
   "cell_type": "code",
   "execution_count": 17,
   "metadata": {},
   "outputs": [],
   "source": [
    "boxcox.inverse_transform(df, inplace=True)"
   ]
  },
  {
   "cell_type": "markdown",
   "metadata": {},
   "source": [
    "# test Log"
   ]
  },
  {
   "cell_type": "code",
   "execution_count": 39,
   "metadata": {},
   "outputs": [],
   "source": [
    "log = LogTransformer()"
   ]
  },
  {
   "cell_type": "code",
   "execution_count": 9,
   "metadata": {},
   "outputs": [],
   "source": [
    "cols = [\"metric_val1\", \"metric_val2\"]"
   ]
  },
  {
   "cell_type": "code",
   "execution_count": 41,
   "metadata": {},
   "outputs": [],
   "source": [
    "log.fit(df, cols)"
   ]
  },
  {
   "cell_type": "code",
   "execution_count": 42,
   "metadata": {},
   "outputs": [
    {
     "data": {
      "text/plain": [
       "{'column_names': ['metric_val1', 'metric_val2']}"
      ]
     },
     "execution_count": 42,
     "metadata": {},
     "output_type": "execute_result"
    }
   ],
   "source": [
    "log.get_params_dict()"
   ]
  },
  {
   "cell_type": "code",
   "execution_count": 10,
   "metadata": {},
   "outputs": [],
   "source": [
    "df[['metric_val1', 'metric_val2', 'metric_val3']] = df[['metric_val1', 'metric_val2', 'metric_val3']].apply(abs)"
   ]
  },
  {
   "cell_type": "code",
   "execution_count": 45,
   "metadata": {},
   "outputs": [],
   "source": [
    "kek = df.copy()"
   ]
  },
  {
   "cell_type": "code",
   "execution_count": 44,
   "metadata": {},
   "outputs": [
    {
     "data": {
      "text/html": [
       "<div>\n",
       "<style scoped>\n",
       "    .dataframe tbody tr th:only-of-type {\n",
       "        vertical-align: middle;\n",
       "    }\n",
       "\n",
       "    .dataframe tbody tr th {\n",
       "        vertical-align: top;\n",
       "    }\n",
       "\n",
       "    .dataframe thead th {\n",
       "        text-align: right;\n",
       "    }\n",
       "</style>\n",
       "<table border=\"1\" class=\"dataframe\">\n",
       "  <thead>\n",
       "    <tr style=\"text-align: right;\">\n",
       "      <th></th>\n",
       "      <th>metric_val1</th>\n",
       "      <th>metric_val2</th>\n",
       "      <th>metric_val3</th>\n",
       "      <th>id</th>\n",
       "    </tr>\n",
       "  </thead>\n",
       "  <tbody>\n",
       "    <tr>\n",
       "      <th>0</th>\n",
       "      <td>-0.947067</td>\n",
       "      <td>0.030203</td>\n",
       "      <td>1.849447</td>\n",
       "      <td>puvfvuqtczdzsenrlhflwnodwewk</td>\n",
       "    </tr>\n",
       "    <tr>\n",
       "      <th>1</th>\n",
       "      <td>0.088531</td>\n",
       "      <td>0.446179</td>\n",
       "      <td>1.759319</td>\n",
       "      <td>eapgrxreeojjfkwvosmtulfkoggr</td>\n",
       "    </tr>\n",
       "    <tr>\n",
       "      <th>2</th>\n",
       "      <td>-0.437952</td>\n",
       "      <td>-0.414052</td>\n",
       "      <td>1.401652</td>\n",
       "      <td>xcvbippbqfvimjvqatwuawyiryzr</td>\n",
       "    </tr>\n",
       "    <tr>\n",
       "      <th>3</th>\n",
       "      <td>0.185472</td>\n",
       "      <td>0.467904</td>\n",
       "      <td>0.923105</td>\n",
       "      <td>uasuodjswzirdhgqcsynkqyviibb</td>\n",
       "    </tr>\n",
       "    <tr>\n",
       "      <th>4</th>\n",
       "      <td>-0.633778</td>\n",
       "      <td>0.751230</td>\n",
       "      <td>2.063343</td>\n",
       "      <td>nphigvwfdrjyxcedsdrrbswccgaa</td>\n",
       "    </tr>\n",
       "    <tr>\n",
       "      <th>...</th>\n",
       "      <td>...</td>\n",
       "      <td>...</td>\n",
       "      <td>...</td>\n",
       "      <td>...</td>\n",
       "    </tr>\n",
       "    <tr>\n",
       "      <th>4995</th>\n",
       "      <td>-3.244132</td>\n",
       "      <td>-0.559503</td>\n",
       "      <td>1.827769</td>\n",
       "      <td>sbbaavqgyvgnzfiwdjjjclhhkfee</td>\n",
       "    </tr>\n",
       "    <tr>\n",
       "      <th>4996</th>\n",
       "      <td>-1.569467</td>\n",
       "      <td>-1.602806</td>\n",
       "      <td>0.456478</td>\n",
       "      <td>tvtgfsdkgjgcpyngabnsvjwkapga</td>\n",
       "    </tr>\n",
       "    <tr>\n",
       "      <th>4997</th>\n",
       "      <td>-2.438303</td>\n",
       "      <td>-1.700029</td>\n",
       "      <td>1.330066</td>\n",
       "      <td>ofxjsfzeacyrytlfojblbjavrgtx</td>\n",
       "    </tr>\n",
       "    <tr>\n",
       "      <th>4998</th>\n",
       "      <td>-5.560738</td>\n",
       "      <td>-0.545777</td>\n",
       "      <td>0.631886</td>\n",
       "      <td>aozygkiuvizgehweiabzmhueukwm</td>\n",
       "    </tr>\n",
       "    <tr>\n",
       "      <th>4999</th>\n",
       "      <td>0.203508</td>\n",
       "      <td>-3.550364</td>\n",
       "      <td>0.973038</td>\n",
       "      <td>qzmbrohxyhnsuntipdbzcxhmriew</td>\n",
       "    </tr>\n",
       "  </tbody>\n",
       "</table>\n",
       "<p>5000 rows × 4 columns</p>\n",
       "</div>"
      ],
      "text/plain": [
       "      metric_val1  metric_val2  metric_val3                            id\n",
       "0       -0.947067     0.030203     1.849447  puvfvuqtczdzsenrlhflwnodwewk\n",
       "1        0.088531     0.446179     1.759319  eapgrxreeojjfkwvosmtulfkoggr\n",
       "2       -0.437952    -0.414052     1.401652  xcvbippbqfvimjvqatwuawyiryzr\n",
       "3        0.185472     0.467904     0.923105  uasuodjswzirdhgqcsynkqyviibb\n",
       "4       -0.633778     0.751230     2.063343  nphigvwfdrjyxcedsdrrbswccgaa\n",
       "...           ...          ...          ...                           ...\n",
       "4995    -3.244132    -0.559503     1.827769  sbbaavqgyvgnzfiwdjjjclhhkfee\n",
       "4996    -1.569467    -1.602806     0.456478  tvtgfsdkgjgcpyngabnsvjwkapga\n",
       "4997    -2.438303    -1.700029     1.330066  ofxjsfzeacyrytlfojblbjavrgtx\n",
       "4998    -5.560738    -0.545777     0.631886  aozygkiuvizgehweiabzmhueukwm\n",
       "4999     0.203508    -3.550364     0.973038  qzmbrohxyhnsuntipdbzcxhmriew\n",
       "\n",
       "[5000 rows x 4 columns]"
      ]
     },
     "execution_count": 44,
     "metadata": {},
     "output_type": "execute_result"
    }
   ],
   "source": [
    "log.transform(df, inplace =False)"
   ]
  },
  {
   "cell_type": "code",
   "execution_count": 46,
   "metadata": {},
   "outputs": [
    {
     "data": {
      "text/html": [
       "<div>\n",
       "<style scoped>\n",
       "    .dataframe tbody tr th:only-of-type {\n",
       "        vertical-align: middle;\n",
       "    }\n",
       "\n",
       "    .dataframe tbody tr th {\n",
       "        vertical-align: top;\n",
       "    }\n",
       "\n",
       "    .dataframe thead th {\n",
       "        text-align: right;\n",
       "    }\n",
       "</style>\n",
       "<table border=\"1\" class=\"dataframe\">\n",
       "  <thead>\n",
       "    <tr style=\"text-align: right;\">\n",
       "      <th></th>\n",
       "      <th>metric_val1</th>\n",
       "      <th>metric_val2</th>\n",
       "      <th>metric_val3</th>\n",
       "      <th>id</th>\n",
       "    </tr>\n",
       "  </thead>\n",
       "  <tbody>\n",
       "    <tr>\n",
       "      <th>0</th>\n",
       "      <td>0.387877</td>\n",
       "      <td>1.030664</td>\n",
       "      <td>1.849447</td>\n",
       "      <td>puvfvuqtczdzsenrlhflwnodwewk</td>\n",
       "    </tr>\n",
       "    <tr>\n",
       "      <th>1</th>\n",
       "      <td>1.092568</td>\n",
       "      <td>1.562332</td>\n",
       "      <td>1.759319</td>\n",
       "      <td>eapgrxreeojjfkwvosmtulfkoggr</td>\n",
       "    </tr>\n",
       "    <tr>\n",
       "      <th>2</th>\n",
       "      <td>0.645357</td>\n",
       "      <td>0.660967</td>\n",
       "      <td>1.401652</td>\n",
       "      <td>xcvbippbqfvimjvqatwuawyiryzr</td>\n",
       "    </tr>\n",
       "    <tr>\n",
       "      <th>3</th>\n",
       "      <td>1.203787</td>\n",
       "      <td>1.596644</td>\n",
       "      <td>0.923105</td>\n",
       "      <td>uasuodjswzirdhgqcsynkqyviibb</td>\n",
       "    </tr>\n",
       "    <tr>\n",
       "      <th>4</th>\n",
       "      <td>0.530583</td>\n",
       "      <td>2.119606</td>\n",
       "      <td>2.063343</td>\n",
       "      <td>nphigvwfdrjyxcedsdrrbswccgaa</td>\n",
       "    </tr>\n",
       "    <tr>\n",
       "      <th>...</th>\n",
       "      <td>...</td>\n",
       "      <td>...</td>\n",
       "      <td>...</td>\n",
       "      <td>...</td>\n",
       "    </tr>\n",
       "    <tr>\n",
       "      <th>4995</th>\n",
       "      <td>0.039002</td>\n",
       "      <td>0.571493</td>\n",
       "      <td>1.827769</td>\n",
       "      <td>sbbaavqgyvgnzfiwdjjjclhhkfee</td>\n",
       "    </tr>\n",
       "    <tr>\n",
       "      <th>4996</th>\n",
       "      <td>0.208156</td>\n",
       "      <td>0.201331</td>\n",
       "      <td>0.456478</td>\n",
       "      <td>tvtgfsdkgjgcpyngabnsvjwkapga</td>\n",
       "    </tr>\n",
       "    <tr>\n",
       "      <th>4997</th>\n",
       "      <td>0.087309</td>\n",
       "      <td>0.182678</td>\n",
       "      <td>1.330066</td>\n",
       "      <td>ofxjsfzeacyrytlfojblbjavrgtx</td>\n",
       "    </tr>\n",
       "    <tr>\n",
       "      <th>4998</th>\n",
       "      <td>0.003846</td>\n",
       "      <td>0.579392</td>\n",
       "      <td>0.631886</td>\n",
       "      <td>aozygkiuvizgehweiabzmhueukwm</td>\n",
       "    </tr>\n",
       "    <tr>\n",
       "      <th>4999</th>\n",
       "      <td>1.225695</td>\n",
       "      <td>0.028714</td>\n",
       "      <td>0.973038</td>\n",
       "      <td>qzmbrohxyhnsuntipdbzcxhmriew</td>\n",
       "    </tr>\n",
       "  </tbody>\n",
       "</table>\n",
       "<p>5000 rows × 4 columns</p>\n",
       "</div>"
      ],
      "text/plain": [
       "      metric_val1  metric_val2  metric_val3                            id\n",
       "0        0.387877     1.030664     1.849447  puvfvuqtczdzsenrlhflwnodwewk\n",
       "1        1.092568     1.562332     1.759319  eapgrxreeojjfkwvosmtulfkoggr\n",
       "2        0.645357     0.660967     1.401652  xcvbippbqfvimjvqatwuawyiryzr\n",
       "3        1.203787     1.596644     0.923105  uasuodjswzirdhgqcsynkqyviibb\n",
       "4        0.530583     2.119606     2.063343  nphigvwfdrjyxcedsdrrbswccgaa\n",
       "...           ...          ...          ...                           ...\n",
       "4995     0.039002     0.571493     1.827769  sbbaavqgyvgnzfiwdjjjclhhkfee\n",
       "4996     0.208156     0.201331     0.456478  tvtgfsdkgjgcpyngabnsvjwkapga\n",
       "4997     0.087309     0.182678     1.330066  ofxjsfzeacyrytlfojblbjavrgtx\n",
       "4998     0.003846     0.579392     0.631886  aozygkiuvizgehweiabzmhueukwm\n",
       "4999     1.225695     0.028714     0.973038  qzmbrohxyhnsuntipdbzcxhmriew\n",
       "\n",
       "[5000 rows x 4 columns]"
      ]
     },
     "execution_count": 46,
     "metadata": {},
     "output_type": "execute_result"
    }
   ],
   "source": [
    "kek"
   ]
  },
  {
   "cell_type": "code",
   "execution_count": 52,
   "metadata": {},
   "outputs": [
    {
     "data": {
      "text/html": [
       "<div>\n",
       "<style scoped>\n",
       "    .dataframe tbody tr th:only-of-type {\n",
       "        vertical-align: middle;\n",
       "    }\n",
       "\n",
       "    .dataframe tbody tr th {\n",
       "        vertical-align: top;\n",
       "    }\n",
       "\n",
       "    .dataframe thead th {\n",
       "        text-align: right;\n",
       "    }\n",
       "</style>\n",
       "<table border=\"1\" class=\"dataframe\">\n",
       "  <thead>\n",
       "    <tr style=\"text-align: right;\">\n",
       "      <th></th>\n",
       "      <th>metric_val1</th>\n",
       "      <th>metric_val2</th>\n",
       "      <th>metric_val3</th>\n",
       "      <th>id</th>\n",
       "    </tr>\n",
       "  </thead>\n",
       "  <tbody>\n",
       "    <tr>\n",
       "      <th>0</th>\n",
       "      <td>0.387877</td>\n",
       "      <td>1.030664</td>\n",
       "      <td>1.849447</td>\n",
       "      <td>puvfvuqtczdzsenrlhflwnodwewk</td>\n",
       "    </tr>\n",
       "    <tr>\n",
       "      <th>1</th>\n",
       "      <td>1.092568</td>\n",
       "      <td>1.562332</td>\n",
       "      <td>1.759319</td>\n",
       "      <td>eapgrxreeojjfkwvosmtulfkoggr</td>\n",
       "    </tr>\n",
       "    <tr>\n",
       "      <th>2</th>\n",
       "      <td>0.645357</td>\n",
       "      <td>0.660967</td>\n",
       "      <td>1.401652</td>\n",
       "      <td>xcvbippbqfvimjvqatwuawyiryzr</td>\n",
       "    </tr>\n",
       "    <tr>\n",
       "      <th>3</th>\n",
       "      <td>1.203787</td>\n",
       "      <td>1.596644</td>\n",
       "      <td>0.923105</td>\n",
       "      <td>uasuodjswzirdhgqcsynkqyviibb</td>\n",
       "    </tr>\n",
       "    <tr>\n",
       "      <th>4</th>\n",
       "      <td>0.530583</td>\n",
       "      <td>2.119606</td>\n",
       "      <td>2.063343</td>\n",
       "      <td>nphigvwfdrjyxcedsdrrbswccgaa</td>\n",
       "    </tr>\n",
       "    <tr>\n",
       "      <th>...</th>\n",
       "      <td>...</td>\n",
       "      <td>...</td>\n",
       "      <td>...</td>\n",
       "      <td>...</td>\n",
       "    </tr>\n",
       "    <tr>\n",
       "      <th>4995</th>\n",
       "      <td>0.039002</td>\n",
       "      <td>0.571493</td>\n",
       "      <td>1.827769</td>\n",
       "      <td>sbbaavqgyvgnzfiwdjjjclhhkfee</td>\n",
       "    </tr>\n",
       "    <tr>\n",
       "      <th>4996</th>\n",
       "      <td>0.208156</td>\n",
       "      <td>0.201331</td>\n",
       "      <td>0.456478</td>\n",
       "      <td>tvtgfsdkgjgcpyngabnsvjwkapga</td>\n",
       "    </tr>\n",
       "    <tr>\n",
       "      <th>4997</th>\n",
       "      <td>0.087309</td>\n",
       "      <td>0.182678</td>\n",
       "      <td>1.330066</td>\n",
       "      <td>ofxjsfzeacyrytlfojblbjavrgtx</td>\n",
       "    </tr>\n",
       "    <tr>\n",
       "      <th>4998</th>\n",
       "      <td>0.003846</td>\n",
       "      <td>0.579392</td>\n",
       "      <td>0.631886</td>\n",
       "      <td>aozygkiuvizgehweiabzmhueukwm</td>\n",
       "    </tr>\n",
       "    <tr>\n",
       "      <th>4999</th>\n",
       "      <td>1.225695</td>\n",
       "      <td>0.028714</td>\n",
       "      <td>0.973038</td>\n",
       "      <td>qzmbrohxyhnsuntipdbzcxhmriew</td>\n",
       "    </tr>\n",
       "  </tbody>\n",
       "</table>\n",
       "<p>5000 rows × 4 columns</p>\n",
       "</div>"
      ],
      "text/plain": [
       "      metric_val1  metric_val2  metric_val3                            id\n",
       "0        0.387877     1.030664     1.849447  puvfvuqtczdzsenrlhflwnodwewk\n",
       "1        1.092568     1.562332     1.759319  eapgrxreeojjfkwvosmtulfkoggr\n",
       "2        0.645357     0.660967     1.401652  xcvbippbqfvimjvqatwuawyiryzr\n",
       "3        1.203787     1.596644     0.923105  uasuodjswzirdhgqcsynkqyviibb\n",
       "4        0.530583     2.119606     2.063343  nphigvwfdrjyxcedsdrrbswccgaa\n",
       "...           ...          ...          ...                           ...\n",
       "4995     0.039002     0.571493     1.827769  sbbaavqgyvgnzfiwdjjjclhhkfee\n",
       "4996     0.208156     0.201331     0.456478  tvtgfsdkgjgcpyngabnsvjwkapga\n",
       "4997     0.087309     0.182678     1.330066  ofxjsfzeacyrytlfojblbjavrgtx\n",
       "4998     0.003846     0.579392     0.631886  aozygkiuvizgehweiabzmhueukwm\n",
       "4999     1.225695     0.028714     0.973038  qzmbrohxyhnsuntipdbzcxhmriew\n",
       "\n",
       "[5000 rows x 4 columns]"
      ]
     },
     "execution_count": 52,
     "metadata": {},
     "output_type": "execute_result"
    }
   ],
   "source": [
    "log.inverse_transform(df, inplace =True)"
   ]
  },
  {
   "cell_type": "code",
   "execution_count": 47,
   "metadata": {},
   "outputs": [],
   "source": [
    "log.transform(df, inplace =True)"
   ]
  },
  {
   "cell_type": "code",
   "execution_count": 50,
   "metadata": {},
   "outputs": [
    {
     "data": {
      "text/html": [
       "<div>\n",
       "<style scoped>\n",
       "    .dataframe tbody tr th:only-of-type {\n",
       "        vertical-align: middle;\n",
       "    }\n",
       "\n",
       "    .dataframe tbody tr th {\n",
       "        vertical-align: top;\n",
       "    }\n",
       "\n",
       "    .dataframe thead th {\n",
       "        text-align: right;\n",
       "    }\n",
       "</style>\n",
       "<table border=\"1\" class=\"dataframe\">\n",
       "  <thead>\n",
       "    <tr style=\"text-align: right;\">\n",
       "      <th></th>\n",
       "      <th>metric_val1</th>\n",
       "      <th>metric_val2</th>\n",
       "    </tr>\n",
       "  </thead>\n",
       "  <tbody>\n",
       "    <tr>\n",
       "      <th>0</th>\n",
       "      <td>0.387877</td>\n",
       "      <td>1.030664</td>\n",
       "    </tr>\n",
       "    <tr>\n",
       "      <th>1</th>\n",
       "      <td>1.092568</td>\n",
       "      <td>1.562332</td>\n",
       "    </tr>\n",
       "    <tr>\n",
       "      <th>2</th>\n",
       "      <td>0.645357</td>\n",
       "      <td>0.660967</td>\n",
       "    </tr>\n",
       "    <tr>\n",
       "      <th>3</th>\n",
       "      <td>1.203787</td>\n",
       "      <td>1.596644</td>\n",
       "    </tr>\n",
       "    <tr>\n",
       "      <th>4</th>\n",
       "      <td>0.530583</td>\n",
       "      <td>2.119606</td>\n",
       "    </tr>\n",
       "    <tr>\n",
       "      <th>...</th>\n",
       "      <td>...</td>\n",
       "      <td>...</td>\n",
       "    </tr>\n",
       "    <tr>\n",
       "      <th>4995</th>\n",
       "      <td>0.039002</td>\n",
       "      <td>0.571493</td>\n",
       "    </tr>\n",
       "    <tr>\n",
       "      <th>4996</th>\n",
       "      <td>0.208156</td>\n",
       "      <td>0.201331</td>\n",
       "    </tr>\n",
       "    <tr>\n",
       "      <th>4997</th>\n",
       "      <td>0.087309</td>\n",
       "      <td>0.182678</td>\n",
       "    </tr>\n",
       "    <tr>\n",
       "      <th>4998</th>\n",
       "      <td>0.003846</td>\n",
       "      <td>0.579392</td>\n",
       "    </tr>\n",
       "    <tr>\n",
       "      <th>4999</th>\n",
       "      <td>1.225695</td>\n",
       "      <td>0.028714</td>\n",
       "    </tr>\n",
       "  </tbody>\n",
       "</table>\n",
       "<p>5000 rows × 2 columns</p>\n",
       "</div>"
      ],
      "text/plain": [
       "      metric_val1  metric_val2\n",
       "0        0.387877     1.030664\n",
       "1        1.092568     1.562332\n",
       "2        0.645357     0.660967\n",
       "3        1.203787     1.596644\n",
       "4        0.530583     2.119606\n",
       "...           ...          ...\n",
       "4995     0.039002     0.571493\n",
       "4996     0.208156     0.201331\n",
       "4997     0.087309     0.182678\n",
       "4998     0.003846     0.579392\n",
       "4999     1.225695     0.028714\n",
       "\n",
       "[5000 rows x 2 columns]"
      ]
     },
     "execution_count": 50,
     "metadata": {},
     "output_type": "execute_result"
    }
   ],
   "source": [
    "np.exp(df[cols])"
   ]
  },
  {
   "cell_type": "code",
   "execution_count": 13,
   "metadata": {
    "scrolled": true
   },
   "outputs": [
    {
     "data": {
      "text/html": [
       "<div>\n",
       "<style scoped>\n",
       "    .dataframe tbody tr th:only-of-type {\n",
       "        vertical-align: middle;\n",
       "    }\n",
       "\n",
       "    .dataframe tbody tr th {\n",
       "        vertical-align: top;\n",
       "    }\n",
       "\n",
       "    .dataframe thead th {\n",
       "        text-align: right;\n",
       "    }\n",
       "</style>\n",
       "<table border=\"1\" class=\"dataframe\">\n",
       "  <thead>\n",
       "    <tr style=\"text-align: right;\">\n",
       "      <th></th>\n",
       "      <th>metric_val1</th>\n",
       "      <th>metric_val2</th>\n",
       "      <th>metric_val3</th>\n",
       "      <th>id</th>\n",
       "    </tr>\n",
       "  </thead>\n",
       "  <tbody>\n",
       "    <tr>\n",
       "      <th>0</th>\n",
       "      <td>1.411043</td>\n",
       "      <td>-1.475124</td>\n",
       "      <td>-0.561522</td>\n",
       "      <td>fcdwpzjyjlokbveipfhddswvalbm</td>\n",
       "    </tr>\n",
       "    <tr>\n",
       "      <th>1</th>\n",
       "      <td>-0.320027</td>\n",
       "      <td>1.843124</td>\n",
       "      <td>1.044989</td>\n",
       "      <td>wlfgadgjbxkeqqshjjokzxmpvspz</td>\n",
       "    </tr>\n",
       "    <tr>\n",
       "      <th>2</th>\n",
       "      <td>-0.281602</td>\n",
       "      <td>-1.005838</td>\n",
       "      <td>0.713199</td>\n",
       "      <td>tfimshlctvqsdmoirrzbvfprkofp</td>\n",
       "    </tr>\n",
       "    <tr>\n",
       "      <th>3</th>\n",
       "      <td>-0.441225</td>\n",
       "      <td>0.834288</td>\n",
       "      <td>-1.271434</td>\n",
       "      <td>dmoisglgxonxtmdynpkholbpelri</td>\n",
       "    </tr>\n",
       "    <tr>\n",
       "      <th>4</th>\n",
       "      <td>0.446221</td>\n",
       "      <td>0.580241</td>\n",
       "      <td>0.626757</td>\n",
       "      <td>vfkqjzlkwukqioswovcsozclofoy</td>\n",
       "    </tr>\n",
       "    <tr>\n",
       "      <th>...</th>\n",
       "      <td>...</td>\n",
       "      <td>...</td>\n",
       "      <td>...</td>\n",
       "      <td>...</td>\n",
       "    </tr>\n",
       "    <tr>\n",
       "      <th>4995</th>\n",
       "      <td>0.772888</td>\n",
       "      <td>-0.496471</td>\n",
       "      <td>-1.158996</td>\n",
       "      <td>kmsevifizjajfufyefoaykolxgzz</td>\n",
       "    </tr>\n",
       "    <tr>\n",
       "      <th>4996</th>\n",
       "      <td>-0.256224</td>\n",
       "      <td>0.841059</td>\n",
       "      <td>-0.084492</td>\n",
       "      <td>tnnvbyzkzfbcvgwsuogpazcxmicr</td>\n",
       "    </tr>\n",
       "    <tr>\n",
       "      <th>4997</th>\n",
       "      <td>0.022732</td>\n",
       "      <td>-0.749928</td>\n",
       "      <td>-0.811311</td>\n",
       "      <td>pabrefgvoltihqjqpitesvqyyrer</td>\n",
       "    </tr>\n",
       "    <tr>\n",
       "      <th>4998</th>\n",
       "      <td>0.034546</td>\n",
       "      <td>0.980446</td>\n",
       "      <td>-0.139998</td>\n",
       "      <td>bxjdzdkitdtjpwqleizagjruuwfv</td>\n",
       "    </tr>\n",
       "    <tr>\n",
       "      <th>4999</th>\n",
       "      <td>-1.815188</td>\n",
       "      <td>0.662218</td>\n",
       "      <td>0.199465</td>\n",
       "      <td>kkrtjjvbiwiesppcjhmecawntrch</td>\n",
       "    </tr>\n",
       "  </tbody>\n",
       "</table>\n",
       "<p>5000 rows × 4 columns</p>\n",
       "</div>"
      ],
      "text/plain": [
       "      metric_val1  metric_val2  metric_val3                            id\n",
       "0        1.411043    -1.475124    -0.561522  fcdwpzjyjlokbveipfhddswvalbm\n",
       "1       -0.320027     1.843124     1.044989  wlfgadgjbxkeqqshjjokzxmpvspz\n",
       "2       -0.281602    -1.005838     0.713199  tfimshlctvqsdmoirrzbvfprkofp\n",
       "3       -0.441225     0.834288    -1.271434  dmoisglgxonxtmdynpkholbpelri\n",
       "4        0.446221     0.580241     0.626757  vfkqjzlkwukqioswovcsozclofoy\n",
       "...           ...          ...          ...                           ...\n",
       "4995     0.772888    -0.496471    -1.158996  kmsevifizjajfufyefoaykolxgzz\n",
       "4996    -0.256224     0.841059    -0.084492  tnnvbyzkzfbcvgwsuogpazcxmicr\n",
       "4997     0.022732    -0.749928    -0.811311  pabrefgvoltihqjqpitesvqyyrer\n",
       "4998     0.034546     0.980446    -0.139998  bxjdzdkitdtjpwqleizagjruuwfv\n",
       "4999    -1.815188     0.662218     0.199465  kkrtjjvbiwiesppcjhmecawntrch\n",
       "\n",
       "[5000 rows x 4 columns]"
      ]
     },
     "execution_count": 13,
     "metadata": {},
     "output_type": "execute_result"
    }
   ],
   "source": [
    "df"
   ]
  },
  {
   "cell_type": "markdown",
   "metadata": {},
   "source": [
    "# test Preprocessor"
   ]
  },
  {
   "cell_type": "code",
   "execution_count": 5,
   "metadata": {},
   "outputs": [],
   "source": [
    "from ambrosia.preprocessing import Preprocessor"
   ]
  },
  {
   "cell_type": "code",
   "execution_count": 31,
   "metadata": {},
   "outputs": [],
   "source": [
    "robust = RobustPreprocessor()"
   ]
  },
  {
   "cell_type": "code",
   "execution_count": 32,
   "metadata": {},
   "outputs": [],
   "source": [
    "robust.fit(df, 'metric_val1')"
   ]
  },
  {
   "cell_type": "code",
   "execution_count": 18,
   "metadata": {},
   "outputs": [],
   "source": [
    "df[['metric_val1', 'metric_val2', 'metric_val3']] = np.abs(df[['metric_val1', 'metric_val2', 'metric_val3']])"
   ]
  },
  {
   "cell_type": "code",
   "execution_count": 33,
   "metadata": {},
   "outputs": [],
   "source": [
    "preprocessor = Preprocessor(df)"
   ]
  },
  {
   "cell_type": "code",
   "execution_count": 34,
   "metadata": {},
   "outputs": [
    {
     "data": {
      "text/plain": [
       "0.7962473676244292"
      ]
     },
     "execution_count": 34,
     "metadata": {},
     "output_type": "execute_result"
    }
   ],
   "source": [
    "df.metric_val1.mean()"
   ]
  },
  {
   "cell_type": "code",
   "execution_count": null,
   "metadata": {},
   "outputs": [],
   "source": []
  },
  {
   "cell_type": "code",
   "execution_count": 35,
   "metadata": {},
   "outputs": [
    {
     "name": "stderr",
     "output_type": "stream",
     "text": [
      "ambrosia LOGGER: Making robust transformation of columns ['metric_val1']\n",
      "                 with alphas = [0.1]\n",
      "ambrosia LOGGER: \n",
      "\n",
      "ambrosia LOGGER: Change Mean metric_val1: 0.7962 ===> 0.7531\n",
      "ambrosia LOGGER: Change Variance metric_val1: 0.3689 ===> 0.2366\n",
      "ambrosia LOGGER: Change IQR metric_val1: 0.8471 ===> 0.7507\n",
      "ambrosia LOGGER: Change Range metric_val1: 3.6997 ===> 1.9026\n",
      "ambrosia LOGGER: Making IQR transformation of columns ['metric_val2']\n",
      "ambrosia LOGGER: \n",
      "\n",
      "ambrosia LOGGER: Change Mean metric_val2: 0.7761 ===> 0.7420\n",
      "ambrosia LOGGER: Change Variance metric_val2: 0.3428 ===> 0.2833\n",
      "ambrosia LOGGER: Change IQR metric_val2: 0.7899 ===> 0.7678\n",
      "ambrosia LOGGER: Change Range metric_val2: 3.8766 ===> 2.2812\n"
     ]
    }
   ],
   "source": [
    "res = preprocessor.robust('metric_val1', alpha=0.1).iqr(['metric_val2']).boxcox(['metric_val1', 'metric_val3']).log('metric_val2').data()"
   ]
  },
  {
   "cell_type": "code",
   "execution_count": 33,
   "metadata": {},
   "outputs": [
    {
     "data": {
      "text/plain": [
       "Robust preprocessing"
      ]
     },
     "execution_count": 33,
     "metadata": {},
     "output_type": "execute_result"
    }
   ],
   "source": [
    "preprocessor.transformers[0]"
   ]
  },
  {
   "cell_type": "code",
   "execution_count": 42,
   "metadata": {},
   "outputs": [],
   "source": [
    "trans = preprocessor.transformations()"
   ]
  },
  {
   "cell_type": "code",
   "execution_count": 38,
   "metadata": {},
   "outputs": [
    {
     "data": {
      "text/html": [
       "<div>\n",
       "<style scoped>\n",
       "    .dataframe tbody tr th:only-of-type {\n",
       "        vertical-align: middle;\n",
       "    }\n",
       "\n",
       "    .dataframe tbody tr th {\n",
       "        vertical-align: top;\n",
       "    }\n",
       "\n",
       "    .dataframe thead th {\n",
       "        text-align: right;\n",
       "    }\n",
       "</style>\n",
       "<table border=\"1\" class=\"dataframe\">\n",
       "  <thead>\n",
       "    <tr style=\"text-align: right;\">\n",
       "      <th></th>\n",
       "      <th>metric_val1</th>\n",
       "      <th>metric_val2</th>\n",
       "      <th>metric_val3</th>\n",
       "      <th>id</th>\n",
       "    </tr>\n",
       "  </thead>\n",
       "  <tbody>\n",
       "    <tr>\n",
       "      <th>0</th>\n",
       "      <td>0.682369</td>\n",
       "      <td>0.199532</td>\n",
       "      <td>0.296020</td>\n",
       "      <td>xdtvpmetwfqpnvzltoushgfovnzs</td>\n",
       "    </tr>\n",
       "    <tr>\n",
       "      <th>1</th>\n",
       "      <td>0.172239</td>\n",
       "      <td>0.475359</td>\n",
       "      <td>0.645409</td>\n",
       "      <td>ftjsnhgfazfvpriilglnydsbevoi</td>\n",
       "    </tr>\n",
       "    <tr>\n",
       "      <th>2</th>\n",
       "      <td>0.538216</td>\n",
       "      <td>1.227512</td>\n",
       "      <td>0.572236</td>\n",
       "      <td>fgwkdymocqrtozztajenjvhwukox</td>\n",
       "    </tr>\n",
       "    <tr>\n",
       "      <th>3</th>\n",
       "      <td>1.966529</td>\n",
       "      <td>0.329519</td>\n",
       "      <td>0.680655</td>\n",
       "      <td>snkoqngjdxyobcdzmyhsggrxepnf</td>\n",
       "    </tr>\n",
       "    <tr>\n",
       "      <th>4</th>\n",
       "      <td>1.384287</td>\n",
       "      <td>0.915573</td>\n",
       "      <td>0.866718</td>\n",
       "      <td>oggltsvznzcuufqnkyfvsmjkrpio</td>\n",
       "    </tr>\n",
       "    <tr>\n",
       "      <th>...</th>\n",
       "      <td>...</td>\n",
       "      <td>...</td>\n",
       "      <td>...</td>\n",
       "      <td>...</td>\n",
       "    </tr>\n",
       "    <tr>\n",
       "      <th>4995</th>\n",
       "      <td>0.988831</td>\n",
       "      <td>0.024259</td>\n",
       "      <td>0.119583</td>\n",
       "      <td>fypjhldbettrkndlvpqxrxtbzoek</td>\n",
       "    </tr>\n",
       "    <tr>\n",
       "      <th>4996</th>\n",
       "      <td>0.257089</td>\n",
       "      <td>0.304122</td>\n",
       "      <td>0.317481</td>\n",
       "      <td>imjnymldlzetebgxsmrijfuffdav</td>\n",
       "    </tr>\n",
       "    <tr>\n",
       "      <th>4997</th>\n",
       "      <td>1.827396</td>\n",
       "      <td>1.063072</td>\n",
       "      <td>1.796107</td>\n",
       "      <td>agcpvdfveyaalrfgzfndslkcnpgn</td>\n",
       "    </tr>\n",
       "    <tr>\n",
       "      <th>4998</th>\n",
       "      <td>0.145532</td>\n",
       "      <td>0.352904</td>\n",
       "      <td>0.119226</td>\n",
       "      <td>baulbiwvdowsihquotvfwltrxoll</td>\n",
       "    </tr>\n",
       "    <tr>\n",
       "      <th>4999</th>\n",
       "      <td>1.265836</td>\n",
       "      <td>0.168475</td>\n",
       "      <td>0.939097</td>\n",
       "      <td>dhyjzcuzgfxrrkzaydewqvpeveke</td>\n",
       "    </tr>\n",
       "  </tbody>\n",
       "</table>\n",
       "<p>5000 rows × 4 columns</p>\n",
       "</div>"
      ],
      "text/plain": [
       "      metric_val1  metric_val2  metric_val3                            id\n",
       "0        0.682369     0.199532     0.296020  xdtvpmetwfqpnvzltoushgfovnzs\n",
       "1        0.172239     0.475359     0.645409  ftjsnhgfazfvpriilglnydsbevoi\n",
       "2        0.538216     1.227512     0.572236  fgwkdymocqrtozztajenjvhwukox\n",
       "3        1.966529     0.329519     0.680655  snkoqngjdxyobcdzmyhsggrxepnf\n",
       "4        1.384287     0.915573     0.866718  oggltsvznzcuufqnkyfvsmjkrpio\n",
       "...           ...          ...          ...                           ...\n",
       "4995     0.988831     0.024259     0.119583  fypjhldbettrkndlvpqxrxtbzoek\n",
       "4996     0.257089     0.304122     0.317481  imjnymldlzetebgxsmrijfuffdav\n",
       "4997     1.827396     1.063072     1.796107  agcpvdfveyaalrfgzfndslkcnpgn\n",
       "4998     0.145532     0.352904     0.119226  baulbiwvdowsihquotvfwltrxoll\n",
       "4999     1.265836     0.168475     0.939097  dhyjzcuzgfxrrkzaydewqvpeveke\n",
       "\n",
       "[5000 rows x 4 columns]"
      ]
     },
     "execution_count": 38,
     "metadata": {},
     "output_type": "execute_result"
    }
   ],
   "source": [
    "df"
   ]
  },
  {
   "cell_type": "code",
   "execution_count": 37,
   "metadata": {},
   "outputs": [],
   "source": [
    "data = preprocessor.data()"
   ]
  },
  {
   "cell_type": "code",
   "execution_count": 46,
   "metadata": {},
   "outputs": [
    {
     "data": {
      "text/html": [
       "<div>\n",
       "<style scoped>\n",
       "    .dataframe tbody tr th:only-of-type {\n",
       "        vertical-align: middle;\n",
       "    }\n",
       "\n",
       "    .dataframe tbody tr th {\n",
       "        vertical-align: top;\n",
       "    }\n",
       "\n",
       "    .dataframe thead th {\n",
       "        text-align: right;\n",
       "    }\n",
       "</style>\n",
       "<table border=\"1\" class=\"dataframe\">\n",
       "  <thead>\n",
       "    <tr style=\"text-align: right;\">\n",
       "      <th></th>\n",
       "      <th>metric_val1</th>\n",
       "      <th>metric_val2</th>\n",
       "      <th>metric_val3</th>\n",
       "      <th>id</th>\n",
       "    </tr>\n",
       "  </thead>\n",
       "  <tbody>\n",
       "    <tr>\n",
       "      <th>0</th>\n",
       "      <td>0.682369</td>\n",
       "      <td>0.199532</td>\n",
       "      <td>0.296020</td>\n",
       "      <td>xdtvpmetwfqpnvzltoushgfovnzs</td>\n",
       "    </tr>\n",
       "    <tr>\n",
       "      <th>1</th>\n",
       "      <td>0.172239</td>\n",
       "      <td>0.475359</td>\n",
       "      <td>0.645409</td>\n",
       "      <td>ftjsnhgfazfvpriilglnydsbevoi</td>\n",
       "    </tr>\n",
       "    <tr>\n",
       "      <th>2</th>\n",
       "      <td>0.538216</td>\n",
       "      <td>1.227512</td>\n",
       "      <td>0.572236</td>\n",
       "      <td>fgwkdymocqrtozztajenjvhwukox</td>\n",
       "    </tr>\n",
       "    <tr>\n",
       "      <th>3</th>\n",
       "      <td>1.966529</td>\n",
       "      <td>0.329519</td>\n",
       "      <td>0.680655</td>\n",
       "      <td>snkoqngjdxyobcdzmyhsggrxepnf</td>\n",
       "    </tr>\n",
       "    <tr>\n",
       "      <th>4</th>\n",
       "      <td>1.384287</td>\n",
       "      <td>0.915573</td>\n",
       "      <td>0.866718</td>\n",
       "      <td>oggltsvznzcuufqnkyfvsmjkrpio</td>\n",
       "    </tr>\n",
       "    <tr>\n",
       "      <th>...</th>\n",
       "      <td>...</td>\n",
       "      <td>...</td>\n",
       "      <td>...</td>\n",
       "      <td>...</td>\n",
       "    </tr>\n",
       "    <tr>\n",
       "      <th>4995</th>\n",
       "      <td>0.988831</td>\n",
       "      <td>0.024259</td>\n",
       "      <td>0.119583</td>\n",
       "      <td>fypjhldbettrkndlvpqxrxtbzoek</td>\n",
       "    </tr>\n",
       "    <tr>\n",
       "      <th>4996</th>\n",
       "      <td>0.257089</td>\n",
       "      <td>0.304122</td>\n",
       "      <td>0.317481</td>\n",
       "      <td>imjnymldlzetebgxsmrijfuffdav</td>\n",
       "    </tr>\n",
       "    <tr>\n",
       "      <th>4997</th>\n",
       "      <td>1.827396</td>\n",
       "      <td>1.063072</td>\n",
       "      <td>1.796107</td>\n",
       "      <td>agcpvdfveyaalrfgzfndslkcnpgn</td>\n",
       "    </tr>\n",
       "    <tr>\n",
       "      <th>4998</th>\n",
       "      <td>0.145532</td>\n",
       "      <td>0.352904</td>\n",
       "      <td>0.119226</td>\n",
       "      <td>baulbiwvdowsihquotvfwltrxoll</td>\n",
       "    </tr>\n",
       "    <tr>\n",
       "      <th>4999</th>\n",
       "      <td>1.265836</td>\n",
       "      <td>0.168475</td>\n",
       "      <td>0.939097</td>\n",
       "      <td>dhyjzcuzgfxrrkzaydewqvpeveke</td>\n",
       "    </tr>\n",
       "  </tbody>\n",
       "</table>\n",
       "<p>4420 rows × 4 columns</p>\n",
       "</div>"
      ],
      "text/plain": [
       "      metric_val1  metric_val2  metric_val3                            id\n",
       "0        0.682369     0.199532     0.296020  xdtvpmetwfqpnvzltoushgfovnzs\n",
       "1        0.172239     0.475359     0.645409  ftjsnhgfazfvpriilglnydsbevoi\n",
       "2        0.538216     1.227512     0.572236  fgwkdymocqrtozztajenjvhwukox\n",
       "3        1.966529     0.329519     0.680655  snkoqngjdxyobcdzmyhsggrxepnf\n",
       "4        1.384287     0.915573     0.866718  oggltsvznzcuufqnkyfvsmjkrpio\n",
       "...           ...          ...          ...                           ...\n",
       "4995     0.988831     0.024259     0.119583  fypjhldbettrkndlvpqxrxtbzoek\n",
       "4996     0.257089     0.304122     0.317481  imjnymldlzetebgxsmrijfuffdav\n",
       "4997     1.827396     1.063072     1.796107  agcpvdfveyaalrfgzfndslkcnpgn\n",
       "4998     0.145532     0.352904     0.119226  baulbiwvdowsihquotvfwltrxoll\n",
       "4999     1.265836     0.168475     0.939097  dhyjzcuzgfxrrkzaydewqvpeveke\n",
       "\n",
       "[4420 rows x 4 columns]"
      ]
     },
     "execution_count": 46,
     "metadata": {},
     "output_type": "execute_result"
    }
   ],
   "source": [
    "trans[2].inverse_transform(trans[3].inverse_transform(data))"
   ]
  },
  {
   "cell_type": "code",
   "execution_count": 39,
   "metadata": {},
   "outputs": [
    {
     "data": {
      "text/html": [
       "<div>\n",
       "<style scoped>\n",
       "    .dataframe tbody tr th:only-of-type {\n",
       "        vertical-align: middle;\n",
       "    }\n",
       "\n",
       "    .dataframe tbody tr th {\n",
       "        vertical-align: top;\n",
       "    }\n",
       "\n",
       "    .dataframe thead th {\n",
       "        text-align: right;\n",
       "    }\n",
       "</style>\n",
       "<table border=\"1\" class=\"dataframe\">\n",
       "  <thead>\n",
       "    <tr style=\"text-align: right;\">\n",
       "      <th></th>\n",
       "      <th>metric_val1</th>\n",
       "      <th>metric_val2</th>\n",
       "      <th>metric_val3</th>\n",
       "      <th>id</th>\n",
       "    </tr>\n",
       "  </thead>\n",
       "  <tbody>\n",
       "    <tr>\n",
       "      <th>0</th>\n",
       "      <td>-0.352781</td>\n",
       "      <td>-1.611780</td>\n",
       "      <td>-0.948374</td>\n",
       "      <td>xdtvpmetwfqpnvzltoushgfovnzs</td>\n",
       "    </tr>\n",
       "    <tr>\n",
       "      <th>1</th>\n",
       "      <td>-1.239042</td>\n",
       "      <td>-0.743686</td>\n",
       "      <td>-0.399221</td>\n",
       "      <td>ftjsnhgfazfvpriilglnydsbevoi</td>\n",
       "    </tr>\n",
       "    <tr>\n",
       "      <th>2</th>\n",
       "      <td>-0.544705</td>\n",
       "      <td>0.204990</td>\n",
       "      <td>-0.496425</td>\n",
       "      <td>fgwkdymocqrtozztajenjvhwukox</td>\n",
       "    </tr>\n",
       "    <tr>\n",
       "      <th>3</th>\n",
       "      <td>0.783385</td>\n",
       "      <td>-1.110123</td>\n",
       "      <td>-0.354645</td>\n",
       "      <td>snkoqngjdxyobcdzmyhsggrxepnf</td>\n",
       "    </tr>\n",
       "    <tr>\n",
       "      <th>4</th>\n",
       "      <td>0.348709</td>\n",
       "      <td>-0.088205</td>\n",
       "      <td>-0.138743</td>\n",
       "      <td>oggltsvznzcuufqnkyfvsmjkrpio</td>\n",
       "    </tr>\n",
       "    <tr>\n",
       "      <th>...</th>\n",
       "      <td>...</td>\n",
       "      <td>...</td>\n",
       "      <td>...</td>\n",
       "      <td>...</td>\n",
       "    </tr>\n",
       "    <tr>\n",
       "      <th>4995</th>\n",
       "      <td>-0.011205</td>\n",
       "      <td>-3.718959</td>\n",
       "      <td>-1.393996</td>\n",
       "      <td>fypjhldbettrkndlvpqxrxtbzoek</td>\n",
       "    </tr>\n",
       "    <tr>\n",
       "      <th>4996</th>\n",
       "      <td>-1.032165</td>\n",
       "      <td>-1.190327</td>\n",
       "      <td>-0.906216</td>\n",
       "      <td>imjnymldlzetebgxsmrijfuffdav</td>\n",
       "    </tr>\n",
       "    <tr>\n",
       "      <th>4997</th>\n",
       "      <td>0.687103</td>\n",
       "      <td>0.061163</td>\n",
       "      <td>0.665710</td>\n",
       "      <td>agcpvdfveyaalrfgzfndslkcnpgn</td>\n",
       "    </tr>\n",
       "    <tr>\n",
       "      <th>4998</th>\n",
       "      <td>-1.316081</td>\n",
       "      <td>-1.041560</td>\n",
       "      <td>-1.395198</td>\n",
       "      <td>baulbiwvdowsihquotvfwltrxoll</td>\n",
       "    </tr>\n",
       "    <tr>\n",
       "      <th>4999</th>\n",
       "      <td>0.247936</td>\n",
       "      <td>-1.780970</td>\n",
       "      <td>-0.061997</td>\n",
       "      <td>dhyjzcuzgfxrrkzaydewqvpeveke</td>\n",
       "    </tr>\n",
       "  </tbody>\n",
       "</table>\n",
       "<p>4420 rows × 4 columns</p>\n",
       "</div>"
      ],
      "text/plain": [
       "      metric_val1  metric_val2  metric_val3                            id\n",
       "0       -0.352781    -1.611780    -0.948374  xdtvpmetwfqpnvzltoushgfovnzs\n",
       "1       -1.239042    -0.743686    -0.399221  ftjsnhgfazfvpriilglnydsbevoi\n",
       "2       -0.544705     0.204990    -0.496425  fgwkdymocqrtozztajenjvhwukox\n",
       "3        0.783385    -1.110123    -0.354645  snkoqngjdxyobcdzmyhsggrxepnf\n",
       "4        0.348709    -0.088205    -0.138743  oggltsvznzcuufqnkyfvsmjkrpio\n",
       "...           ...          ...          ...                           ...\n",
       "4995    -0.011205    -3.718959    -1.393996  fypjhldbettrkndlvpqxrxtbzoek\n",
       "4996    -1.032165    -1.190327    -0.906216  imjnymldlzetebgxsmrijfuffdav\n",
       "4997     0.687103     0.061163     0.665710  agcpvdfveyaalrfgzfndslkcnpgn\n",
       "4998    -1.316081    -1.041560    -1.395198  baulbiwvdowsihquotvfwltrxoll\n",
       "4999     0.247936    -1.780970    -0.061997  dhyjzcuzgfxrrkzaydewqvpeveke\n",
       "\n",
       "[4420 rows x 4 columns]"
      ]
     },
     "execution_count": 39,
     "metadata": {},
     "output_type": "execute_result"
    }
   ],
   "source": [
    "data"
   ]
  },
  {
   "cell_type": "code",
   "execution_count": 35,
   "metadata": {},
   "outputs": [],
   "source": [
    "nonlin_var_table = pd.read_csv('tests/test_data/nonlin_var_table.csv')"
   ]
  },
  {
   "cell_type": "code",
   "execution_count": 36,
   "metadata": {},
   "outputs": [
    {
     "data": {
      "text/html": [
       "<div>\n",
       "<style scoped>\n",
       "    .dataframe tbody tr th:only-of-type {\n",
       "        vertical-align: middle;\n",
       "    }\n",
       "\n",
       "    .dataframe tbody tr th {\n",
       "        vertical-align: top;\n",
       "    }\n",
       "\n",
       "    .dataframe thead th {\n",
       "        text-align: right;\n",
       "    }\n",
       "</style>\n",
       "<table border=\"1\" class=\"dataframe\">\n",
       "  <thead>\n",
       "    <tr style=\"text-align: right;\">\n",
       "      <th></th>\n",
       "      <th>feature_1</th>\n",
       "      <th>feature_2</th>\n",
       "      <th>feature_3</th>\n",
       "      <th>target</th>\n",
       "    </tr>\n",
       "  </thead>\n",
       "  <tbody>\n",
       "    <tr>\n",
       "      <th>0</th>\n",
       "      <td>1.333527</td>\n",
       "      <td>34.184225</td>\n",
       "      <td>24.730372</td>\n",
       "      <td>1378.481590</td>\n",
       "    </tr>\n",
       "    <tr>\n",
       "      <th>1</th>\n",
       "      <td>6.097661</td>\n",
       "      <td>4.672146</td>\n",
       "      <td>34.833651</td>\n",
       "      <td>2300.801046</td>\n",
       "    </tr>\n",
       "    <tr>\n",
       "      <th>2</th>\n",
       "      <td>6.238838</td>\n",
       "      <td>13.921723</td>\n",
       "      <td>18.163784</td>\n",
       "      <td>869.573677</td>\n",
       "    </tr>\n",
       "    <tr>\n",
       "      <th>3</th>\n",
       "      <td>3.191549</td>\n",
       "      <td>14.664789</td>\n",
       "      <td>7.577442</td>\n",
       "      <td>157.878257</td>\n",
       "    </tr>\n",
       "    <tr>\n",
       "      <th>4</th>\n",
       "      <td>4.833905</td>\n",
       "      <td>11.858664</td>\n",
       "      <td>20.262644</td>\n",
       "      <td>1020.129064</td>\n",
       "    </tr>\n",
       "    <tr>\n",
       "      <th>...</th>\n",
       "      <td>...</td>\n",
       "      <td>...</td>\n",
       "      <td>...</td>\n",
       "      <td>...</td>\n",
       "    </tr>\n",
       "    <tr>\n",
       "      <th>2995</th>\n",
       "      <td>3.911659</td>\n",
       "      <td>10.560352</td>\n",
       "      <td>41.579517</td>\n",
       "      <td>2903.761007</td>\n",
       "    </tr>\n",
       "    <tr>\n",
       "      <th>2996</th>\n",
       "      <td>1.540124</td>\n",
       "      <td>4.427102</td>\n",
       "      <td>22.371634</td>\n",
       "      <td>1168.389537</td>\n",
       "    </tr>\n",
       "    <tr>\n",
       "      <th>2997</th>\n",
       "      <td>3.705102</td>\n",
       "      <td>7.068579</td>\n",
       "      <td>52.096223</td>\n",
       "      <td>3883.220463</td>\n",
       "    </tr>\n",
       "    <tr>\n",
       "      <th>2998</th>\n",
       "      <td>2.427286</td>\n",
       "      <td>3.124725</td>\n",
       "      <td>26.727786</td>\n",
       "      <td>1543.097011</td>\n",
       "    </tr>\n",
       "    <tr>\n",
       "      <th>2999</th>\n",
       "      <td>2.570358</td>\n",
       "      <td>6.276841</td>\n",
       "      <td>17.685186</td>\n",
       "      <td>796.584377</td>\n",
       "    </tr>\n",
       "  </tbody>\n",
       "</table>\n",
       "<p>3000 rows × 4 columns</p>\n",
       "</div>"
      ],
      "text/plain": [
       "      feature_1  feature_2  feature_3       target\n",
       "0      1.333527  34.184225  24.730372  1378.481590\n",
       "1      6.097661   4.672146  34.833651  2300.801046\n",
       "2      6.238838  13.921723  18.163784   869.573677\n",
       "3      3.191549  14.664789   7.577442   157.878257\n",
       "4      4.833905  11.858664  20.262644  1020.129064\n",
       "...         ...        ...        ...          ...\n",
       "2995   3.911659  10.560352  41.579517  2903.761007\n",
       "2996   1.540124   4.427102  22.371634  1168.389537\n",
       "2997   3.705102   7.068579  52.096223  3883.220463\n",
       "2998   2.427286   3.124725  26.727786  1543.097011\n",
       "2999   2.570358   6.276841  17.685186   796.584377\n",
       "\n",
       "[3000 rows x 4 columns]"
      ]
     },
     "execution_count": 36,
     "metadata": {},
     "output_type": "execute_result"
    }
   ],
   "source": [
    "nonlin_var_table"
   ]
  },
  {
   "cell_type": "code",
   "execution_count": 56,
   "metadata": {},
   "outputs": [
    {
     "data": {
      "text/html": [
       "<div>\n",
       "<style scoped>\n",
       "    .dataframe tbody tr th:only-of-type {\n",
       "        vertical-align: middle;\n",
       "    }\n",
       "\n",
       "    .dataframe tbody tr th {\n",
       "        vertical-align: top;\n",
       "    }\n",
       "\n",
       "    .dataframe thead th {\n",
       "        text-align: right;\n",
       "    }\n",
       "</style>\n",
       "<table border=\"1\" class=\"dataframe\">\n",
       "  <thead>\n",
       "    <tr style=\"text-align: right;\">\n",
       "      <th></th>\n",
       "      <th>kek</th>\n",
       "      <th>new_col</th>\n",
       "      <th>puma</th>\n",
       "    </tr>\n",
       "  </thead>\n",
       "  <tbody>\n",
       "    <tr>\n",
       "      <th>0</th>\n",
       "      <td>1.0</td>\n",
       "      <td>(1, 4)</td>\n",
       "      <td>NaN</td>\n",
       "    </tr>\n",
       "    <tr>\n",
       "      <th>1</th>\n",
       "      <td>2.0</td>\n",
       "      <td>(3, 0)</td>\n",
       "      <td>NaN</td>\n",
       "    </tr>\n",
       "    <tr>\n",
       "      <th>2</th>\n",
       "      <td>NaN</td>\n",
       "      <td>NaN</td>\n",
       "      <td>(1, 2)</td>\n",
       "    </tr>\n",
       "  </tbody>\n",
       "</table>\n",
       "</div>"
      ],
      "text/plain": [
       "   kek new_col    puma\n",
       "0  1.0  (1, 4)     NaN\n",
       "1  2.0  (3, 0)     NaN\n",
       "2  NaN     NaN  (1, 2)"
      ]
     },
     "execution_count": 56,
     "metadata": {},
     "output_type": "execute_result"
    }
   ],
   "source": [
    "kek.append({'puma': (1,2)}, ignore_index=True)"
   ]
  },
  {
   "cell_type": "code",
   "execution_count": 61,
   "metadata": {},
   "outputs": [],
   "source": [
    "moments_robust = pd.DataFrame(index=[\"mean\", \"std\"])"
   ]
  },
  {
   "cell_type": "code",
   "execution_count": 63,
   "metadata": {},
   "outputs": [],
   "source": [
    "logged = nonlin_var_table[['feature_1', 'feature_2', 'feature_3']]"
   ]
  },
  {
   "cell_type": "code",
   "execution_count": 66,
   "metadata": {},
   "outputs": [
    {
     "data": {
      "text/html": [
       "<div>\n",
       "<style scoped>\n",
       "    .dataframe tbody tr th:only-of-type {\n",
       "        vertical-align: middle;\n",
       "    }\n",
       "\n",
       "    .dataframe tbody tr th {\n",
       "        vertical-align: top;\n",
       "    }\n",
       "\n",
       "    .dataframe thead th {\n",
       "        text-align: right;\n",
       "    }\n",
       "</style>\n",
       "<table border=\"1\" class=\"dataframe\">\n",
       "  <thead>\n",
       "    <tr style=\"text-align: right;\">\n",
       "      <th></th>\n",
       "      <th>feature_1</th>\n",
       "      <th>feature_2</th>\n",
       "      <th>feature_3</th>\n",
       "    </tr>\n",
       "  </thead>\n",
       "  <tbody>\n",
       "    <tr>\n",
       "      <th>0</th>\n",
       "      <td>1.333527</td>\n",
       "      <td>34.184225</td>\n",
       "      <td>24.730372</td>\n",
       "    </tr>\n",
       "    <tr>\n",
       "      <th>1</th>\n",
       "      <td>6.097661</td>\n",
       "      <td>4.672146</td>\n",
       "      <td>34.833651</td>\n",
       "    </tr>\n",
       "    <tr>\n",
       "      <th>2</th>\n",
       "      <td>6.238838</td>\n",
       "      <td>13.921723</td>\n",
       "      <td>18.163784</td>\n",
       "    </tr>\n",
       "    <tr>\n",
       "      <th>3</th>\n",
       "      <td>3.191549</td>\n",
       "      <td>14.664789</td>\n",
       "      <td>7.577442</td>\n",
       "    </tr>\n",
       "    <tr>\n",
       "      <th>4</th>\n",
       "      <td>4.833905</td>\n",
       "      <td>11.858664</td>\n",
       "      <td>20.262644</td>\n",
       "    </tr>\n",
       "    <tr>\n",
       "      <th>...</th>\n",
       "      <td>...</td>\n",
       "      <td>...</td>\n",
       "      <td>...</td>\n",
       "    </tr>\n",
       "    <tr>\n",
       "      <th>2995</th>\n",
       "      <td>3.911659</td>\n",
       "      <td>10.560352</td>\n",
       "      <td>41.579517</td>\n",
       "    </tr>\n",
       "    <tr>\n",
       "      <th>2996</th>\n",
       "      <td>1.540124</td>\n",
       "      <td>4.427102</td>\n",
       "      <td>22.371634</td>\n",
       "    </tr>\n",
       "    <tr>\n",
       "      <th>2997</th>\n",
       "      <td>3.705102</td>\n",
       "      <td>7.068579</td>\n",
       "      <td>52.096223</td>\n",
       "    </tr>\n",
       "    <tr>\n",
       "      <th>2998</th>\n",
       "      <td>2.427286</td>\n",
       "      <td>3.124725</td>\n",
       "      <td>26.727786</td>\n",
       "    </tr>\n",
       "    <tr>\n",
       "      <th>2999</th>\n",
       "      <td>2.570358</td>\n",
       "      <td>6.276841</td>\n",
       "      <td>17.685186</td>\n",
       "    </tr>\n",
       "  </tbody>\n",
       "</table>\n",
       "<p>3000 rows × 3 columns</p>\n",
       "</div>"
      ],
      "text/plain": [
       "      feature_1  feature_2  feature_3\n",
       "0      1.333527  34.184225  24.730372\n",
       "1      6.097661   4.672146  34.833651\n",
       "2      6.238838  13.921723  18.163784\n",
       "3      3.191549  14.664789   7.577442\n",
       "4      4.833905  11.858664  20.262644\n",
       "...         ...        ...        ...\n",
       "2995   3.911659  10.560352  41.579517\n",
       "2996   1.540124   4.427102  22.371634\n",
       "2997   3.705102   7.068579  52.096223\n",
       "2998   2.427286   3.124725  26.727786\n",
       "2999   2.570358   6.276841  17.685186\n",
       "\n",
       "[3000 rows x 3 columns]"
      ]
     },
     "execution_count": 66,
     "metadata": {},
     "output_type": "execute_result"
    }
   ],
   "source": [
    "logged"
   ]
  },
  {
   "cell_type": "code",
   "execution_count": 67,
   "metadata": {},
   "outputs": [
    {
     "data": {
      "text/plain": [
       "feature_1    0.639320\n",
       "feature_2    2.009838\n",
       "feature_3    3.244837\n",
       "dtype: float64"
      ]
     },
     "execution_count": 67,
     "metadata": {},
     "output_type": "execute_result"
    }
   ],
   "source": [
    "np.log(logged).mean()"
   ]
  },
  {
   "cell_type": "code",
   "execution_count": 73,
   "metadata": {},
   "outputs": [
    {
     "data": {
      "text/plain": [
       "feature_1    1.109735\n",
       "feature_2    0.914309\n",
       "feature_3    0.405373\n",
       "dtype: float64"
      ]
     },
     "execution_count": 73,
     "metadata": {},
     "output_type": "execute_result"
    }
   ],
   "source": [
    "np.log(logged).std()"
   ]
  },
  {
   "cell_type": "code",
   "execution_count": 77,
   "metadata": {},
   "outputs": [
    {
     "data": {
      "text/plain": [
       "array([[0.63932008, 2.00983826, 3.24483653],\n",
       "       [1.10973526, 0.91430881, 0.4053728 ]])"
      ]
     },
     "execution_count": 77,
     "metadata": {},
     "output_type": "execute_result"
    }
   ],
   "source": [
    "np.vstack([np.log(logged).mean().values, np.log(logged).std().values])"
   ]
  },
  {
   "cell_type": "code",
   "execution_count": 79,
   "metadata": {},
   "outputs": [],
   "source": [
    "moments_robust[['log_feature_1', 'log_feature_2', 'log_feature_3']] = np.vstack([np.log(logged).mean().values, np.log(logged).std().values])"
   ]
  },
  {
   "cell_type": "code",
   "execution_count": 80,
   "metadata": {},
   "outputs": [
    {
     "data": {
      "text/html": [
       "<div>\n",
       "<style scoped>\n",
       "    .dataframe tbody tr th:only-of-type {\n",
       "        vertical-align: middle;\n",
       "    }\n",
       "\n",
       "    .dataframe tbody tr th {\n",
       "        vertical-align: top;\n",
       "    }\n",
       "\n",
       "    .dataframe thead th {\n",
       "        text-align: right;\n",
       "    }\n",
       "</style>\n",
       "<table border=\"1\" class=\"dataframe\">\n",
       "  <thead>\n",
       "    <tr style=\"text-align: right;\">\n",
       "      <th></th>\n",
       "      <th>log_feature_1</th>\n",
       "      <th>log_feature_2</th>\n",
       "      <th>log_feature_3</th>\n",
       "    </tr>\n",
       "  </thead>\n",
       "  <tbody>\n",
       "    <tr>\n",
       "      <th>mean</th>\n",
       "      <td>0.639320</td>\n",
       "      <td>2.009838</td>\n",
       "      <td>3.244837</td>\n",
       "    </tr>\n",
       "    <tr>\n",
       "      <th>std</th>\n",
       "      <td>1.109735</td>\n",
       "      <td>0.914309</td>\n",
       "      <td>0.405373</td>\n",
       "    </tr>\n",
       "  </tbody>\n",
       "</table>\n",
       "</div>"
      ],
      "text/plain": [
       "      log_feature_1  log_feature_2  log_feature_3\n",
       "mean       0.639320       2.009838       3.244837\n",
       "std        1.109735       0.914309       0.405373"
      ]
     },
     "execution_count": 80,
     "metadata": {},
     "output_type": "execute_result"
    }
   ],
   "source": [
    "moments_robust"
   ]
  },
  {
   "cell_type": "code",
   "execution_count": 82,
   "metadata": {},
   "outputs": [],
   "source": [
    "import scipy.stats as sps"
   ]
  },
  {
   "cell_type": "code",
   "execution_count": 108,
   "metadata": {},
   "outputs": [],
   "source": [
    "moments_robust[\"boxcox_feature_1\"] = sps.boxcox(nonlin_var_table.feature_1)[0].mean(), sps.boxcox(nonlin_var_table.feature_1)[0].std()\n",
    "moments_robust[\"boxcox_feature_2\"] = sps.boxcox(nonlin_var_table.feature_2)[0].mean(), sps.boxcox(nonlin_var_table.feature_2)[0].std()\n",
    "moments_robust[\"boxcox_feature_3\"] = sps.boxcox(nonlin_var_table.feature_3)[0].mean(), sps.boxcox(nonlin_var_table.feature_3)[0].std()"
   ]
  },
  {
   "cell_type": "code",
   "execution_count": 109,
   "metadata": {},
   "outputs": [
    {
     "data": {
      "text/html": [
       "<div>\n",
       "<style scoped>\n",
       "    .dataframe tbody tr th:only-of-type {\n",
       "        vertical-align: middle;\n",
       "    }\n",
       "\n",
       "    .dataframe tbody tr th {\n",
       "        vertical-align: top;\n",
       "    }\n",
       "\n",
       "    .dataframe thead th {\n",
       "        text-align: right;\n",
       "    }\n",
       "</style>\n",
       "<table border=\"1\" class=\"dataframe\">\n",
       "  <thead>\n",
       "    <tr style=\"text-align: right;\">\n",
       "      <th></th>\n",
       "      <th>log_feature_1</th>\n",
       "      <th>log_feature_2</th>\n",
       "      <th>log_feature_3</th>\n",
       "      <th>boxcox_feature_1</th>\n",
       "      <th>boxcox_feature_2</th>\n",
       "      <th>boxcox_feature_3</th>\n",
       "    </tr>\n",
       "  </thead>\n",
       "  <tbody>\n",
       "    <tr>\n",
       "      <th>mean</th>\n",
       "      <td>0.639320</td>\n",
       "      <td>2.009838</td>\n",
       "      <td>3.244837</td>\n",
       "      <td>1.046164</td>\n",
       "      <td>2.189527</td>\n",
       "      <td>4.454172</td>\n",
       "    </tr>\n",
       "    <tr>\n",
       "      <th>std</th>\n",
       "      <td>1.109735</td>\n",
       "      <td>0.914309</td>\n",
       "      <td>0.405373</td>\n",
       "      <td>1.255637</td>\n",
       "      <td>1.048332</td>\n",
       "      <td>0.730086</td>\n",
       "    </tr>\n",
       "  </tbody>\n",
       "</table>\n",
       "</div>"
      ],
      "text/plain": [
       "      log_feature_1  log_feature_2  log_feature_3  boxcox_feature_1  \\\n",
       "mean       0.639320       2.009838       3.244837          1.046164   \n",
       "std        1.109735       0.914309       0.405373          1.255637   \n",
       "\n",
       "      boxcox_feature_2  boxcox_feature_3  \n",
       "mean          2.189527          4.454172  \n",
       "std           1.048332          0.730086  "
      ]
     },
     "execution_count": 109,
     "metadata": {},
     "output_type": "execute_result"
    }
   ],
   "source": [
    "moments_robust"
   ]
  },
  {
   "cell_type": "code",
   "execution_count": 105,
   "metadata": {},
   "outputs": [
    {
     "data": {
      "text/plain": [
       "feature_1      1.255847\n",
       "feature_2      1.048506\n",
       "feature_3      0.730208\n",
       "target       977.302235\n",
       "dtype: float64"
      ]
     },
     "execution_count": 105,
     "metadata": {},
     "output_type": "execute_result"
    }
   ],
   "source": [
    "BoxCoxTransformer().fit_transform(nonlin_var_table, ['feature_1', 'feature_2', 'feature_3']).std()"
   ]
  },
  {
   "cell_type": "code",
   "execution_count": null,
   "metadata": {},
   "outputs": [],
   "source": [
    "np.quantile"
   ]
  },
  {
   "cell_type": "code",
   "execution_count": 169,
   "metadata": {},
   "outputs": [
    {
     "data": {
      "text/html": [
       "<div>\n",
       "<style scoped>\n",
       "    .dataframe tbody tr th:only-of-type {\n",
       "        vertical-align: middle;\n",
       "    }\n",
       "\n",
       "    .dataframe tbody tr th {\n",
       "        vertical-align: top;\n",
       "    }\n",
       "\n",
       "    .dataframe thead th {\n",
       "        text-align: right;\n",
       "    }\n",
       "</style>\n",
       "<table border=\"1\" class=\"dataframe\">\n",
       "  <thead>\n",
       "    <tr style=\"text-align: right;\">\n",
       "      <th></th>\n",
       "      <th>feature_1</th>\n",
       "      <th>feature_2</th>\n",
       "      <th>feature_3</th>\n",
       "    </tr>\n",
       "  </thead>\n",
       "  <tbody>\n",
       "    <tr>\n",
       "      <th>0.025</th>\n",
       "      <td>0.112853</td>\n",
       "      <td>1.291637</td>\n",
       "      <td>11.008203</td>\n",
       "    </tr>\n",
       "    <tr>\n",
       "      <th>0.975</th>\n",
       "      <td>7.583657</td>\n",
       "      <td>38.170640</td>\n",
       "      <td>54.527149</td>\n",
       "    </tr>\n",
       "  </tbody>\n",
       "</table>\n",
       "</div>"
      ],
      "text/plain": [
       "       feature_1  feature_2  feature_3\n",
       "0.025   0.112853   1.291637  11.008203\n",
       "0.975   7.583657  38.170640  54.527149"
      ]
     },
     "execution_count": 169,
     "metadata": {},
     "output_type": "execute_result"
    }
   ],
   "source": [
    "quantiles"
   ]
  },
  {
   "cell_type": "code",
   "execution_count": 200,
   "metadata": {},
   "outputs": [],
   "source": [
    "quantiles = nonlin_var_table[['feature_1', 'feature_2', 'feature_3']].quantile(q=[0.025, 0.975])"
   ]
  },
  {
   "cell_type": "code",
   "execution_count": 202,
   "metadata": {},
   "outputs": [],
   "source": [
    "feat_1_rob = nonlin_var_table[(nonlin_var_table.feature_1 >= quantiles.feature_1.iloc[0] ) & (nonlin_var_table.feature_1 <= quantiles.feature_1.iloc[1])]\n",
    "moments_robust['robust_both_0.05_feature_1'] = feat_1_rob.feature_1.mean(), feat_1_rob.feature_1.std()"
   ]
  },
  {
   "cell_type": "code",
   "execution_count": 203,
   "metadata": {},
   "outputs": [],
   "source": [
    "feat_2_rob = nonlin_var_table[(nonlin_var_table.feature_2 >= quantiles.feature_2.iloc[0] ) & (nonlin_var_table.feature_2 <= quantiles.feature_2.iloc[1])]\n",
    "moments_robust['robust_both_0.05_feature_2'] = feat_2_rob.feature_2.mean(), feat_2_rob.feature_2.std()"
   ]
  },
  {
   "cell_type": "code",
   "execution_count": 206,
   "metadata": {},
   "outputs": [],
   "source": [
    "feat_3_rob = feat_1_rob[(feat_1_rob.feature_2 >= quantiles.feature_2.iloc[0] ) & (feat_1_rob.feature_2 <= quantiles.feature_2.iloc[1])]\n",
    "moments_robust['robust_both_0.05_feature_2after1'] = feat_3_rob.feature_2.mean(), feat_3_rob.feature_2.std()"
   ]
  },
  {
   "cell_type": "code",
   "execution_count": 211,
   "metadata": {
    "scrolled": true
   },
   "outputs": [
    {
     "data": {
      "text/html": [
       "<div>\n",
       "<style scoped>\n",
       "    .dataframe tbody tr th:only-of-type {\n",
       "        vertical-align: middle;\n",
       "    }\n",
       "\n",
       "    .dataframe tbody tr th {\n",
       "        vertical-align: top;\n",
       "    }\n",
       "\n",
       "    .dataframe thead th {\n",
       "        text-align: right;\n",
       "    }\n",
       "</style>\n",
       "<table border=\"1\" class=\"dataframe\">\n",
       "  <thead>\n",
       "    <tr style=\"text-align: right;\">\n",
       "      <th></th>\n",
       "      <th>log_feature_1</th>\n",
       "      <th>log_feature_2</th>\n",
       "      <th>log_feature_3</th>\n",
       "      <th>boxcox_feature_1</th>\n",
       "      <th>boxcox_feature_2</th>\n",
       "      <th>boxcox_feature_3</th>\n",
       "      <th>robust_both_0.05_feature_1</th>\n",
       "      <th>robust_both_0.05_feature_2</th>\n",
       "      <th>robust_both_0.05_feature_2after1</th>\n",
       "    </tr>\n",
       "  </thead>\n",
       "  <tbody>\n",
       "    <tr>\n",
       "      <th>mean</th>\n",
       "      <td>0.639320</td>\n",
       "      <td>2.009838</td>\n",
       "      <td>3.244837</td>\n",
       "      <td>1.046164</td>\n",
       "      <td>2.189527</td>\n",
       "      <td>4.454172</td>\n",
       "      <td>2.757666</td>\n",
       "      <td>10.257010</td>\n",
       "      <td>10.241291</td>\n",
       "    </tr>\n",
       "    <tr>\n",
       "      <th>std</th>\n",
       "      <td>1.109735</td>\n",
       "      <td>0.914309</td>\n",
       "      <td>0.405373</td>\n",
       "      <td>1.255637</td>\n",
       "      <td>1.048332</td>\n",
       "      <td>0.730086</td>\n",
       "      <td>1.845768</td>\n",
       "      <td>7.961768</td>\n",
       "      <td>7.933084</td>\n",
       "    </tr>\n",
       "  </tbody>\n",
       "</table>\n",
       "</div>"
      ],
      "text/plain": [
       "      log_feature_1  log_feature_2  log_feature_3  boxcox_feature_1  \\\n",
       "mean       0.639320       2.009838       3.244837          1.046164   \n",
       "std        1.109735       0.914309       0.405373          1.255637   \n",
       "\n",
       "      boxcox_feature_2  boxcox_feature_3  robust_both_0.05_feature_1  \\\n",
       "mean          2.189527          4.454172                    2.757666   \n",
       "std           1.048332          0.730086                    1.845768   \n",
       "\n",
       "      robust_both_0.05_feature_2  robust_both_0.05_feature_2after1  \n",
       "mean                   10.257010                         10.241291  \n",
       "std                     7.961768                          7.933084  "
      ]
     },
     "execution_count": 211,
     "metadata": {},
     "output_type": "execute_result"
    }
   ],
   "source": [
    "moments_robust"
   ]
  },
  {
   "cell_type": "code",
   "execution_count": 214,
   "metadata": {},
   "outputs": [
    {
     "name": "stderr",
     "output_type": "stream",
     "text": [
      "ambrosia LOGGER: Making robust transformation of columns ['feature_1', 'feature_2']\n",
      "                 with alphas = [0.05 0.05]\n",
      "ambrosia LOGGER: \n",
      "\n",
      "ambrosia LOGGER: Change Mean feature_1: 2.8399 ===> 2.7451\n",
      "ambrosia LOGGER: Change Variance feature_1: 4.3314 ===> 3.4127\n",
      "ambrosia LOGGER: Change IQR feature_1: 3.0727 ===> 2.9313\n",
      "ambrosia LOGGER: Change Range feature_1: 12.1095 ===> 7.4707\n",
      "ambrosia LOGGER: \n",
      "\n",
      "ambrosia LOGGER: Change Mean feature_2: 10.9707 ===> 10.2413\n",
      "ambrosia LOGGER: Change Variance feature_2: 99.2786 ===> 62.9106\n",
      "ambrosia LOGGER: Change IQR feature_2: 11.2421 ===> 10.5675\n",
      "ambrosia LOGGER: Change Range feature_2: 75.3334 ===> 36.8747\n"
     ]
    }
   ],
   "source": [
    "res = booster.fit_transform(nonlin_var_table, ['feature_1', 'feature_2'])"
   ]
  },
  {
   "cell_type": "code",
   "execution_count": 213,
   "metadata": {},
   "outputs": [
    {
     "name": "stderr",
     "output_type": "stream",
     "text": [
      "ambrosia LOGGER: Making robust transformation of columns ['feature_1']\n",
      "                 with alphas = [0.05]\n",
      "ambrosia LOGGER: \n",
      "\n",
      "ambrosia LOGGER: Change Mean feature_1: 2.8399 ===> 2.7577\n",
      "ambrosia LOGGER: Change Variance feature_1: 4.3314 ===> 3.4057\n",
      "ambrosia LOGGER: Change IQR feature_1: 3.0727 ===> 2.9229\n",
      "ambrosia LOGGER: Change Range feature_1: 12.1095 ===> 7.4707\n"
     ]
    }
   ],
   "source": [
    "res = booster.fit_transform(nonlin_var_table, ['feature_1'])"
   ]
  },
  {
   "cell_type": "code",
   "execution_count": 215,
   "metadata": {
    "scrolled": true
   },
   "outputs": [
    {
     "data": {
      "text/plain": [
       "feature_1      1.847700\n",
       "feature_2      7.933084\n",
       "feature_3     11.127882\n",
       "target       977.039638\n",
       "dtype: float64"
      ]
     },
     "execution_count": 215,
     "metadata": {},
     "output_type": "execute_result"
    }
   ],
   "source": [
    "res.std()"
   ]
  },
  {
   "cell_type": "code",
   "execution_count": 157,
   "metadata": {},
   "outputs": [
    {
     "data": {
      "text/plain": [
       "1.8443969204051498"
      ]
     },
     "execution_count": 157,
     "metadata": {},
     "output_type": "execute_result"
    }
   ],
   "source": [
    "np.sqrt(3.4018)"
   ]
  },
  {
   "cell_type": "code",
   "execution_count": 156,
   "metadata": {},
   "outputs": [
    {
     "ename": "TypeError",
     "evalue": "_std_dispatcher() missing 1 required positional argument: 'a'",
     "output_type": "error",
     "traceback": [
      "\u001b[0;31m---------------------------------------------------------------------------\u001b[0m",
      "\u001b[0;31mTypeError\u001b[0m                                 Traceback (most recent call last)",
      "Cell \u001b[0;32mIn[156], line 1\u001b[0m\n\u001b[0;32m----> 1\u001b[0m \u001b[43mnp\u001b[49m\u001b[38;5;241;43m.\u001b[39;49m\u001b[43mstd\u001b[49m\u001b[43m(\u001b[49m\u001b[43mddof\u001b[49m\u001b[38;5;241;43m=\u001b[39;49m\u001b[38;5;241;43m1\u001b[39;49m\u001b[43m)\u001b[49m\n",
      "File \u001b[0;32m<__array_function__ internals>:4\u001b[0m, in \u001b[0;36mstd\u001b[0;34m(*args, **kwargs)\u001b[0m\n",
      "\u001b[0;31mTypeError\u001b[0m: _std_dispatcher() missing 1 required positional argument: 'a'"
     ]
    }
   ],
   "source": [
    "np.std(ddof=1)"
   ]
  },
  {
   "cell_type": "code",
   "execution_count": 155,
   "metadata": {},
   "outputs": [
    {
     "data": {
      "text/plain": [
       "feature_1      2.081560\n",
       "feature_2      9.965525\n",
       "feature_3     11.131110\n",
       "target       977.302235\n",
       "dtype: float64"
      ]
     },
     "execution_count": 155,
     "metadata": {},
     "output_type": "execute_result"
    }
   ],
   "source": [
    "nonlin_var_table.std()"
   ]
  },
  {
   "cell_type": "code",
   "execution_count": 218,
   "metadata": {},
   "outputs": [],
   "source": [
    "quantiles = nonlin_var_table[['feature_1', 'feature_2', 'feature_3']].quantile(q=[0.25, 0.75])"
   ]
  },
  {
   "cell_type": "code",
   "execution_count": 221,
   "metadata": {},
   "outputs": [
    {
     "data": {
      "text/html": [
       "<div>\n",
       "<style scoped>\n",
       "    .dataframe tbody tr th:only-of-type {\n",
       "        vertical-align: middle;\n",
       "    }\n",
       "\n",
       "    .dataframe tbody tr th {\n",
       "        vertical-align: top;\n",
       "    }\n",
       "\n",
       "    .dataframe thead th {\n",
       "        text-align: right;\n",
       "    }\n",
       "</style>\n",
       "<table border=\"1\" class=\"dataframe\">\n",
       "  <thead>\n",
       "    <tr style=\"text-align: right;\">\n",
       "      <th></th>\n",
       "      <th>feature_1</th>\n",
       "      <th>feature_2</th>\n",
       "      <th>feature_3</th>\n",
       "    </tr>\n",
       "  </thead>\n",
       "  <tbody>\n",
       "    <tr>\n",
       "      <th>0.25</th>\n",
       "      <td>1.132285</td>\n",
       "      <td>3.819827</td>\n",
       "      <td>19.436929</td>\n",
       "    </tr>\n",
       "    <tr>\n",
       "      <th>0.75</th>\n",
       "      <td>4.205019</td>\n",
       "      <td>15.061902</td>\n",
       "      <td>34.157467</td>\n",
       "    </tr>\n",
       "  </tbody>\n",
       "</table>\n",
       "</div>"
      ],
      "text/plain": [
       "      feature_1  feature_2  feature_3\n",
       "0.25   1.132285   3.819827  19.436929\n",
       "0.75   4.205019  15.061902  34.157467"
      ]
     },
     "execution_count": 221,
     "metadata": {},
     "output_type": "execute_result"
    }
   ],
   "source": [
    "quantiles"
   ]
  },
  {
   "cell_type": "code",
   "execution_count": 230,
   "metadata": {},
   "outputs": [],
   "source": [
    "quantiles.loc['top'] = quantiles.iloc[1] + 1.5* (quantiles.iloc[1] - quantiles.iloc[0])\n",
    "quantiles.loc['bot'] = quantiles.iloc[0] - 1.5* (quantiles.iloc[1] - quantiles.iloc[0])"
   ]
  },
  {
   "cell_type": "code",
   "execution_count": 231,
   "metadata": {
    "scrolled": true
   },
   "outputs": [
    {
     "data": {
      "text/html": [
       "<div>\n",
       "<style scoped>\n",
       "    .dataframe tbody tr th:only-of-type {\n",
       "        vertical-align: middle;\n",
       "    }\n",
       "\n",
       "    .dataframe tbody tr th {\n",
       "        vertical-align: top;\n",
       "    }\n",
       "\n",
       "    .dataframe thead th {\n",
       "        text-align: right;\n",
       "    }\n",
       "</style>\n",
       "<table border=\"1\" class=\"dataframe\">\n",
       "  <thead>\n",
       "    <tr style=\"text-align: right;\">\n",
       "      <th></th>\n",
       "      <th>feature_1</th>\n",
       "      <th>feature_2</th>\n",
       "      <th>feature_3</th>\n",
       "    </tr>\n",
       "  </thead>\n",
       "  <tbody>\n",
       "    <tr>\n",
       "      <th>0.25</th>\n",
       "      <td>1.132285</td>\n",
       "      <td>3.819827</td>\n",
       "      <td>19.436929</td>\n",
       "    </tr>\n",
       "    <tr>\n",
       "      <th>0.75</th>\n",
       "      <td>4.205019</td>\n",
       "      <td>15.061902</td>\n",
       "      <td>34.157467</td>\n",
       "    </tr>\n",
       "    <tr>\n",
       "      <th>top</th>\n",
       "      <td>8.814119</td>\n",
       "      <td>31.925013</td>\n",
       "      <td>56.238275</td>\n",
       "    </tr>\n",
       "    <tr>\n",
       "      <th>bot</th>\n",
       "      <td>-3.476815</td>\n",
       "      <td>-13.043285</td>\n",
       "      <td>-2.643879</td>\n",
       "    </tr>\n",
       "  </tbody>\n",
       "</table>\n",
       "</div>"
      ],
      "text/plain": [
       "      feature_1  feature_2  feature_3\n",
       "0.25   1.132285   3.819827  19.436929\n",
       "0.75   4.205019  15.061902  34.157467\n",
       "top    8.814119  31.925013  56.238275\n",
       "bot   -3.476815 -13.043285  -2.643879"
      ]
     },
     "execution_count": 231,
     "metadata": {},
     "output_type": "execute_result"
    }
   ],
   "source": [
    "quantiles"
   ]
  },
  {
   "cell_type": "code",
   "execution_count": 239,
   "metadata": {},
   "outputs": [],
   "source": [
    "feat_1_iqr = nonlin_var_table[(nonlin_var_table.feature_1 >= quantiles.feature_1.iloc[3] ) & (nonlin_var_table.feature_1 <= quantiles.feature_1.iloc[2])]\n",
    "moments_robust['iqr_feature_1'] = feat_1_iqr.feature_1.mean(), feat_1_iqr.feature_1.std()\n",
    "\n",
    "feat_2_iqr = nonlin_var_table[(nonlin_var_table.feature_2 >= quantiles.feature_2.iloc[3] ) & (nonlin_var_table.feature_2 <= quantiles.feature_2.iloc[2])]\n",
    "moments_robust['iqr_feature_2'] = feat_2_iqr.feature_2.mean(), feat_2_iqr.feature_2.std()\n",
    "\n",
    "feat_3_iqr = feat_1_iqr[(feat_1_iqr.feature_2 >= quantiles.feature_2.iloc[3] ) & (feat_1_iqr.feature_2 <= quantiles.feature_2.iloc[2])]\n",
    "moments_robust['iqr_feature_2after1'] = feat_3_iqr.feature_2.mean(), feat_3_iqr.feature_2.std()"
   ]
  },
  {
   "cell_type": "code",
   "execution_count": 240,
   "metadata": {},
   "outputs": [
    {
     "data": {
      "text/html": [
       "<div>\n",
       "<style scoped>\n",
       "    .dataframe tbody tr th:only-of-type {\n",
       "        vertical-align: middle;\n",
       "    }\n",
       "\n",
       "    .dataframe tbody tr th {\n",
       "        vertical-align: top;\n",
       "    }\n",
       "\n",
       "    .dataframe thead th {\n",
       "        text-align: right;\n",
       "    }\n",
       "</style>\n",
       "<table border=\"1\" class=\"dataframe\">\n",
       "  <thead>\n",
       "    <tr style=\"text-align: right;\">\n",
       "      <th></th>\n",
       "      <th>log_feature_1</th>\n",
       "      <th>log_feature_2</th>\n",
       "      <th>log_feature_3</th>\n",
       "      <th>boxcox_feature_1</th>\n",
       "      <th>boxcox_feature_2</th>\n",
       "      <th>boxcox_feature_3</th>\n",
       "      <th>robust_both_0.05_feature_1</th>\n",
       "      <th>robust_both_0.05_feature_2</th>\n",
       "      <th>robust_both_0.05_feature_2after1</th>\n",
       "      <th>iqr_feature_1</th>\n",
       "      <th>iqr_feature_2</th>\n",
       "      <th>iqr_feature_2after1</th>\n",
       "    </tr>\n",
       "  </thead>\n",
       "  <tbody>\n",
       "    <tr>\n",
       "      <th>mean</th>\n",
       "      <td>0.639320</td>\n",
       "      <td>2.009838</td>\n",
       "      <td>3.244837</td>\n",
       "      <td>1.046164</td>\n",
       "      <td>2.189527</td>\n",
       "      <td>4.454172</td>\n",
       "      <td>2.757666</td>\n",
       "      <td>10.257010</td>\n",
       "      <td>10.241291</td>\n",
       "      <td>2.770306</td>\n",
       "      <td>9.483861</td>\n",
       "      <td>9.496623</td>\n",
       "    </tr>\n",
       "    <tr>\n",
       "      <th>std</th>\n",
       "      <td>1.109735</td>\n",
       "      <td>0.914309</td>\n",
       "      <td>0.405373</td>\n",
       "      <td>1.255637</td>\n",
       "      <td>1.048332</td>\n",
       "      <td>0.730086</td>\n",
       "      <td>1.845768</td>\n",
       "      <td>7.961768</td>\n",
       "      <td>7.933084</td>\n",
       "      <td>1.971392</td>\n",
       "      <td>7.187309</td>\n",
       "      <td>7.185762</td>\n",
       "    </tr>\n",
       "  </tbody>\n",
       "</table>\n",
       "</div>"
      ],
      "text/plain": [
       "      log_feature_1  log_feature_2  log_feature_3  boxcox_feature_1  \\\n",
       "mean       0.639320       2.009838       3.244837          1.046164   \n",
       "std        1.109735       0.914309       0.405373          1.255637   \n",
       "\n",
       "      boxcox_feature_2  boxcox_feature_3  robust_both_0.05_feature_1  \\\n",
       "mean          2.189527          4.454172                    2.757666   \n",
       "std           1.048332          0.730086                    1.845768   \n",
       "\n",
       "      robust_both_0.05_feature_2  robust_both_0.05_feature_2after1  \\\n",
       "mean                   10.257010                         10.241291   \n",
       "std                     7.961768                          7.933084   \n",
       "\n",
       "      iqr_feature_1  iqr_feature_2  iqr_feature_2after1  \n",
       "mean       2.770306       9.483861             9.496623  \n",
       "std        1.971392       7.187309             7.185762  "
      ]
     },
     "execution_count": 240,
     "metadata": {},
     "output_type": "execute_result"
    }
   ],
   "source": [
    "moments_robust"
   ]
  },
  {
   "cell_type": "code",
   "execution_count": 241,
   "metadata": {},
   "outputs": [],
   "source": [
    "booster = IQRPreprocessor()"
   ]
  },
  {
   "cell_type": "code",
   "execution_count": 246,
   "metadata": {},
   "outputs": [
    {
     "name": "stderr",
     "output_type": "stream",
     "text": [
      "ambrosia LOGGER: Making IQR transformation of columns ['feature_2']\n",
      "ambrosia LOGGER: \n",
      "\n",
      "ambrosia LOGGER: Change Mean feature_2: 10.9707 ===> 9.4839\n",
      "ambrosia LOGGER: Change Variance feature_2: 99.2786 ===> 51.6394\n",
      "ambrosia LOGGER: Change IQR feature_2: 11.2421 ===> 9.9918\n",
      "ambrosia LOGGER: Change Range feature_2: 75.3334 ===> 30.8669\n"
     ]
    },
    {
     "data": {
      "text/plain": [
       "feature_1       2.819486\n",
       "feature_2       9.483861\n",
       "feature_3      27.866093\n",
       "target       1690.449716\n",
       "dtype: float64"
      ]
     },
     "execution_count": 246,
     "metadata": {},
     "output_type": "execute_result"
    }
   ],
   "source": [
    "booster.fit_transform(nonlin_var_table, ['feature_2']).mean()"
   ]
  },
  {
   "cell_type": "code",
   "execution_count": 247,
   "metadata": {},
   "outputs": [
    {
     "ename": "SyntaxError",
     "evalue": "invalid decimal literal (1970904186.py, line 1)",
     "output_type": "error",
     "traceback": [
      "\u001b[0;36m  Cell \u001b[0;32mIn[247], line 1\u001b[0;36m\u001b[0m\n\u001b[0;31m    robust_both_0.05_feature_1\u001b[0m\n\u001b[0m                    ^\u001b[0m\n\u001b[0;31mSyntaxError\u001b[0m\u001b[0;31m:\u001b[0m invalid decimal literal\n"
     ]
    }
   ],
   "source": [
    "moments_robust"
   ]
  },
  {
   "cell_type": "code",
   "execution_count": 325,
   "metadata": {},
   "outputs": [],
   "source": [
    "quantiles = nonlin_var_table[['feature_1', 'feature_2'\n",
    "                             ]].quantile(q=[0.1, 0.9])\n",
    "\n",
    "feat_1_rob = nonlin_var_table[(nonlin_var_table.feature_1 >= quantiles.feature_1.iloc[0])]\n",
    "moments_robust['robust_left_0.1_feature_1'] = feat_1_rob.feature_1.mean(), feat_1_rob.feature_1.std()\n",
    "\n",
    "feat_2_rob = nonlin_var_table[(nonlin_var_table.feature_1 <= quantiles.feature_1.iloc[1])]\n",
    "moments_robust['robust_right_0.1_feature_1'] = feat_2_rob.feature_1.mean(), feat_2_rob.feature_1.std()"
   ]
  },
  {
   "cell_type": "code",
   "execution_count": 255,
   "metadata": {},
   "outputs": [],
   "source": [
    "moments_robust.drop(columns='robust_right_0.9_feature_1', inplace=True)"
   ]
  },
  {
   "cell_type": "code",
   "execution_count": 326,
   "metadata": {},
   "outputs": [
    {
     "data": {
      "text/html": [
       "<div>\n",
       "<style scoped>\n",
       "    .dataframe tbody tr th:only-of-type {\n",
       "        vertical-align: middle;\n",
       "    }\n",
       "\n",
       "    .dataframe tbody tr th {\n",
       "        vertical-align: top;\n",
       "    }\n",
       "\n",
       "    .dataframe thead th {\n",
       "        text-align: right;\n",
       "    }\n",
       "</style>\n",
       "<table border=\"1\" class=\"dataframe\">\n",
       "  <thead>\n",
       "    <tr style=\"text-align: right;\">\n",
       "      <th></th>\n",
       "      <th>log_feature_1</th>\n",
       "      <th>log_feature_2</th>\n",
       "      <th>log_feature_3</th>\n",
       "      <th>boxcox_feature_1</th>\n",
       "      <th>boxcox_feature_2</th>\n",
       "      <th>boxcox_feature_3</th>\n",
       "      <th>robust_both_0.05_feature_1</th>\n",
       "      <th>robust_both_0.05_feature_2</th>\n",
       "      <th>robust_both_0.05_feature_2after1</th>\n",
       "      <th>robust_left_0.1_feature_1</th>\n",
       "      <th>robust_right_0.1_feature_1</th>\n",
       "      <th>iqr_feature_1</th>\n",
       "      <th>iqr_feature_2</th>\n",
       "      <th>iqr_feature_2after1</th>\n",
       "    </tr>\n",
       "  </thead>\n",
       "  <tbody>\n",
       "    <tr>\n",
       "      <th>mean</th>\n",
       "      <td>0.639320</td>\n",
       "      <td>2.009838</td>\n",
       "      <td>3.244837</td>\n",
       "      <td>1.046164</td>\n",
       "      <td>2.189527</td>\n",
       "      <td>4.454172</td>\n",
       "      <td>2.757666</td>\n",
       "      <td>10.257010</td>\n",
       "      <td>10.241291</td>\n",
       "      <td>3.130867</td>\n",
       "      <td>2.375393</td>\n",
       "      <td>2.770306</td>\n",
       "      <td>9.483861</td>\n",
       "      <td>9.496623</td>\n",
       "    </tr>\n",
       "    <tr>\n",
       "      <th>std</th>\n",
       "      <td>1.109735</td>\n",
       "      <td>0.914309</td>\n",
       "      <td>0.405373</td>\n",
       "      <td>1.255637</td>\n",
       "      <td>1.048332</td>\n",
       "      <td>0.730086</td>\n",
       "      <td>1.845768</td>\n",
       "      <td>7.961768</td>\n",
       "      <td>7.933084</td>\n",
       "      <td>1.991460</td>\n",
       "      <td>1.579760</td>\n",
       "      <td>1.971392</td>\n",
       "      <td>7.187309</td>\n",
       "      <td>7.185762</td>\n",
       "    </tr>\n",
       "  </tbody>\n",
       "</table>\n",
       "</div>"
      ],
      "text/plain": [
       "      log_feature_1  log_feature_2  log_feature_3  boxcox_feature_1  \\\n",
       "mean       0.639320       2.009838       3.244837          1.046164   \n",
       "std        1.109735       0.914309       0.405373          1.255637   \n",
       "\n",
       "      boxcox_feature_2  boxcox_feature_3  robust_both_0.05_feature_1  \\\n",
       "mean          2.189527          4.454172                    2.757666   \n",
       "std           1.048332          0.730086                    1.845768   \n",
       "\n",
       "      robust_both_0.05_feature_2  robust_both_0.05_feature_2after1  \\\n",
       "mean                   10.257010                         10.241291   \n",
       "std                     7.961768                          7.933084   \n",
       "\n",
       "      robust_left_0.1_feature_1  robust_right_0.1_feature_1  iqr_feature_1  \\\n",
       "mean                   3.130867                    2.375393       2.770306   \n",
       "std                    1.991460                    1.579760       1.971392   \n",
       "\n",
       "      iqr_feature_2  iqr_feature_2after1  \n",
       "mean       9.483861             9.496623  \n",
       "std        7.187309             7.185762  "
      ]
     },
     "execution_count": 326,
     "metadata": {},
     "output_type": "execute_result"
    }
   ],
   "source": [
    "moments_robust"
   ]
  },
  {
   "cell_type": "code",
   "execution_count": 332,
   "metadata": {},
   "outputs": [
    {
     "name": "stderr",
     "output_type": "stream",
     "text": [
      "ambrosia LOGGER: Making IQR transformation of columns ['feature_1']\n",
      "ambrosia LOGGER: \n",
      "\n",
      "ambrosia LOGGER: Change Mean feature_1: 2.8399 ===> 2.7703\n",
      "ambrosia LOGGER: Change Variance feature_1: 4.3314 ===> 3.8851\n",
      "ambrosia LOGGER: Change IQR feature_1: 3.0727 ===> 3.0232\n",
      "ambrosia LOGGER: Change Range feature_1: 12.1095 ===> 8.6641\n"
     ]
    },
    {
     "data": {
      "text/plain": [
       "feature_1       2.770306\n",
       "feature_2      10.968254\n",
       "feature_3      27.730082\n",
       "target       1678.224275\n",
       "dtype: float64"
      ]
     },
     "execution_count": 332,
     "metadata": {},
     "output_type": "execute_result"
    }
   ],
   "source": [
    "booster = IQRPreprocessor()\n",
    "booster.fit_transform(nonlin_var_table, 'feature_1').mean()"
   ]
  },
  {
   "cell_type": "code",
   "execution_count": 312,
   "metadata": {},
   "outputs": [
    {
     "name": "stderr",
     "output_type": "stream",
     "text": [
      "ambrosia LOGGER: Making robust transformation of columns ['feature_1']\n",
      "                 with alphas = [0.1]\n",
      "ambrosia LOGGER: \n",
      "\n",
      "ambrosia LOGGER: Change Mean feature_1: 2.8399 ===> 3.1309\n",
      "ambrosia LOGGER: Change Variance feature_1: 4.3314 ===> 3.9644\n",
      "ambrosia LOGGER: Change IQR feature_1: 3.0727 ===> 2.9454\n",
      "ambrosia LOGGER: Change Range feature_1: 12.1095 ===> 11.6543\n",
      "ambrosia LOGGER: Making robust transformation of columns ['feature_1']\n",
      "                 with alphas = [0.1]\n",
      "ambrosia LOGGER: \n",
      "\n",
      "ambrosia LOGGER: Change Mean feature_1: 2.8399 ===> 3.1309\n",
      "ambrosia LOGGER: Change Variance feature_1: 4.3314 ===> 3.9644\n",
      "ambrosia LOGGER: Change IQR feature_1: 3.0727 ===> 2.9454\n",
      "ambrosia LOGGER: Change Range feature_1: 12.1095 ===> 11.6543\n"
     ]
    }
   ],
   "source": [
    "kek = booster.fit_transform(nonlin_var_table, ['feature_1'], alpha=0.1).feature_1.mean(), booster.fit_transform(nonlin_var_table, ['feature_1'], alpha=0.1).feature_1.std()"
   ]
  },
  {
   "cell_type": "code",
   "execution_count": 320,
   "metadata": {},
   "outputs": [
    {
     "data": {
      "text/plain": [
       "True"
      ]
     },
     "execution_count": 320,
     "metadata": {},
     "output_type": "execute_result"
    }
   ],
   "source": [
    "np.isclose(np.array(kek), moments.loc['robust_left_0.1_feature_1'], atol=0.0001).all()"
   ]
  },
  {
   "cell_type": "code",
   "execution_count": 313,
   "metadata": {},
   "outputs": [
    {
     "data": {
      "text/plain": [
       "True"
      ]
     },
     "execution_count": 313,
     "metadata": {},
     "output_type": "execute_result"
    }
   ],
   "source": [
    "kek == tuple(moments.loc['robust_left_0.1_feature_1'])"
   ]
  },
  {
   "cell_type": "code",
   "execution_count": 317,
   "metadata": {},
   "outputs": [
    {
     "data": {
      "text/plain": [
       "mean    3.13\n",
       "std     1.99\n",
       "Name: robust_left_0.1_feature_1, dtype: float64"
      ]
     },
     "execution_count": 317,
     "metadata": {},
     "output_type": "execute_result"
    }
   ],
   "source": [
    "moments.loc['robust_left_0.1_feature_1'].round(2)"
   ]
  },
  {
   "cell_type": "code",
   "execution_count": 327,
   "metadata": {},
   "outputs": [
    {
     "data": {
      "text/html": [
       "<div>\n",
       "<style scoped>\n",
       "    .dataframe tbody tr th:only-of-type {\n",
       "        vertical-align: middle;\n",
       "    }\n",
       "\n",
       "    .dataframe tbody tr th {\n",
       "        vertical-align: top;\n",
       "    }\n",
       "\n",
       "    .dataframe thead th {\n",
       "        text-align: right;\n",
       "    }\n",
       "</style>\n",
       "<table border=\"1\" class=\"dataframe\">\n",
       "  <thead>\n",
       "    <tr style=\"text-align: right;\">\n",
       "      <th></th>\n",
       "      <th>mean</th>\n",
       "      <th>std</th>\n",
       "    </tr>\n",
       "  </thead>\n",
       "  <tbody>\n",
       "    <tr>\n",
       "      <th>log_feature_1</th>\n",
       "      <td>0.639320</td>\n",
       "      <td>1.109735</td>\n",
       "    </tr>\n",
       "    <tr>\n",
       "      <th>log_feature_2</th>\n",
       "      <td>2.009838</td>\n",
       "      <td>0.914309</td>\n",
       "    </tr>\n",
       "    <tr>\n",
       "      <th>log_feature_3</th>\n",
       "      <td>3.244837</td>\n",
       "      <td>0.405373</td>\n",
       "    </tr>\n",
       "    <tr>\n",
       "      <th>boxcox_feature_1</th>\n",
       "      <td>1.046164</td>\n",
       "      <td>1.255637</td>\n",
       "    </tr>\n",
       "    <tr>\n",
       "      <th>boxcox_feature_2</th>\n",
       "      <td>2.189527</td>\n",
       "      <td>1.048332</td>\n",
       "    </tr>\n",
       "    <tr>\n",
       "      <th>boxcox_feature_3</th>\n",
       "      <td>4.454172</td>\n",
       "      <td>0.730086</td>\n",
       "    </tr>\n",
       "    <tr>\n",
       "      <th>robust_both_0.05_feature_1</th>\n",
       "      <td>2.757666</td>\n",
       "      <td>1.845768</td>\n",
       "    </tr>\n",
       "    <tr>\n",
       "      <th>robust_both_0.05_feature_2</th>\n",
       "      <td>10.257010</td>\n",
       "      <td>7.961768</td>\n",
       "    </tr>\n",
       "    <tr>\n",
       "      <th>robust_both_0.05_feature_2after1</th>\n",
       "      <td>10.241291</td>\n",
       "      <td>7.933084</td>\n",
       "    </tr>\n",
       "    <tr>\n",
       "      <th>robust_left_0.1_feature_1</th>\n",
       "      <td>3.130867</td>\n",
       "      <td>1.991460</td>\n",
       "    </tr>\n",
       "    <tr>\n",
       "      <th>robust_right_0.1_feature_1</th>\n",
       "      <td>2.375393</td>\n",
       "      <td>1.579760</td>\n",
       "    </tr>\n",
       "    <tr>\n",
       "      <th>iqr_feature_1</th>\n",
       "      <td>2.770306</td>\n",
       "      <td>1.971392</td>\n",
       "    </tr>\n",
       "    <tr>\n",
       "      <th>iqr_feature_2</th>\n",
       "      <td>9.483861</td>\n",
       "      <td>7.187309</td>\n",
       "    </tr>\n",
       "    <tr>\n",
       "      <th>iqr_feature_2after1</th>\n",
       "      <td>9.496623</td>\n",
       "      <td>7.185762</td>\n",
       "    </tr>\n",
       "  </tbody>\n",
       "</table>\n",
       "</div>"
      ],
      "text/plain": [
       "                                       mean       std\n",
       "log_feature_1                      0.639320  1.109735\n",
       "log_feature_2                      2.009838  0.914309\n",
       "log_feature_3                      3.244837  0.405373\n",
       "boxcox_feature_1                   1.046164  1.255637\n",
       "boxcox_feature_2                   2.189527  1.048332\n",
       "boxcox_feature_3                   4.454172  0.730086\n",
       "robust_both_0.05_feature_1         2.757666  1.845768\n",
       "robust_both_0.05_feature_2        10.257010  7.961768\n",
       "robust_both_0.05_feature_2after1  10.241291  7.933084\n",
       "robust_left_0.1_feature_1          3.130867  1.991460\n",
       "robust_right_0.1_feature_1         2.375393  1.579760\n",
       "iqr_feature_1                      2.770306  1.971392\n",
       "iqr_feature_2                      9.483861  7.187309\n",
       "iqr_feature_2after1                9.496623  7.185762"
      ]
     },
     "execution_count": 327,
     "metadata": {},
     "output_type": "execute_result"
    }
   ],
   "source": [
    "moments"
   ]
  },
  {
   "cell_type": "code",
   "execution_count": 262,
   "metadata": {},
   "outputs": [],
   "source": [
    "moments_robust = moments_robust[['log_feature_1', 'log_feature_2', 'log_feature_3', 'boxcox_feature_1',\n",
    "       'boxcox_feature_2', 'boxcox_feature_3', 'robust_both_0.05_feature_1',\n",
    "       'robust_both_0.05_feature_2', 'robust_both_0.05_feature_2after1', 'robust_left_0.1_feature_1', 'robust_right_0.1_feature_1',\n",
    "       'iqr_feature_1', 'iqr_feature_2', 'iqr_feature_2after1',\n",
    "       ]]"
   ]
  },
  {
   "cell_type": "code",
   "execution_count": 263,
   "metadata": {},
   "outputs": [
    {
     "data": {
      "text/html": [
       "<div>\n",
       "<style scoped>\n",
       "    .dataframe tbody tr th:only-of-type {\n",
       "        vertical-align: middle;\n",
       "    }\n",
       "\n",
       "    .dataframe tbody tr th {\n",
       "        vertical-align: top;\n",
       "    }\n",
       "\n",
       "    .dataframe thead th {\n",
       "        text-align: right;\n",
       "    }\n",
       "</style>\n",
       "<table border=\"1\" class=\"dataframe\">\n",
       "  <thead>\n",
       "    <tr style=\"text-align: right;\">\n",
       "      <th></th>\n",
       "      <th>log_feature_1</th>\n",
       "      <th>log_feature_2</th>\n",
       "      <th>log_feature_3</th>\n",
       "      <th>boxcox_feature_1</th>\n",
       "      <th>boxcox_feature_2</th>\n",
       "      <th>boxcox_feature_3</th>\n",
       "      <th>robust_both_0.05_feature_1</th>\n",
       "      <th>robust_both_0.05_feature_2</th>\n",
       "      <th>robust_both_0.05_feature_2after1</th>\n",
       "      <th>robust_left_0.1_feature_1</th>\n",
       "      <th>robust_right_0.1_feature_1</th>\n",
       "      <th>iqr_feature_1</th>\n",
       "      <th>iqr_feature_2</th>\n",
       "      <th>iqr_feature_2after1</th>\n",
       "    </tr>\n",
       "  </thead>\n",
       "  <tbody>\n",
       "    <tr>\n",
       "      <th>mean</th>\n",
       "      <td>0.639320</td>\n",
       "      <td>2.009838</td>\n",
       "      <td>3.244837</td>\n",
       "      <td>1.046164</td>\n",
       "      <td>2.189527</td>\n",
       "      <td>4.454172</td>\n",
       "      <td>2.757666</td>\n",
       "      <td>10.257010</td>\n",
       "      <td>10.241291</td>\n",
       "      <td>3.130867</td>\n",
       "      <td>10.882165</td>\n",
       "      <td>2.770306</td>\n",
       "      <td>9.483861</td>\n",
       "      <td>9.496623</td>\n",
       "    </tr>\n",
       "    <tr>\n",
       "      <th>std</th>\n",
       "      <td>1.109735</td>\n",
       "      <td>0.914309</td>\n",
       "      <td>0.405373</td>\n",
       "      <td>1.255637</td>\n",
       "      <td>1.048332</td>\n",
       "      <td>0.730086</td>\n",
       "      <td>1.845768</td>\n",
       "      <td>7.961768</td>\n",
       "      <td>7.933084</td>\n",
       "      <td>1.991460</td>\n",
       "      <td>9.839790</td>\n",
       "      <td>1.971392</td>\n",
       "      <td>7.187309</td>\n",
       "      <td>7.185762</td>\n",
       "    </tr>\n",
       "  </tbody>\n",
       "</table>\n",
       "</div>"
      ],
      "text/plain": [
       "      log_feature_1  log_feature_2  log_feature_3  boxcox_feature_1  \\\n",
       "mean       0.639320       2.009838       3.244837          1.046164   \n",
       "std        1.109735       0.914309       0.405373          1.255637   \n",
       "\n",
       "      boxcox_feature_2  boxcox_feature_3  robust_both_0.05_feature_1  \\\n",
       "mean          2.189527          4.454172                    2.757666   \n",
       "std           1.048332          0.730086                    1.845768   \n",
       "\n",
       "      robust_both_0.05_feature_2  robust_both_0.05_feature_2after1  \\\n",
       "mean                   10.257010                         10.241291   \n",
       "std                     7.961768                          7.933084   \n",
       "\n",
       "      robust_left_0.1_feature_1  robust_right_0.1_feature_1  iqr_feature_1  \\\n",
       "mean                   3.130867                   10.882165       2.770306   \n",
       "std                    1.991460                    9.839790       1.971392   \n",
       "\n",
       "      iqr_feature_2  iqr_feature_2after1  \n",
       "mean       9.483861             9.496623  \n",
       "std        7.187309             7.185762  "
      ]
     },
     "execution_count": 263,
     "metadata": {},
     "output_type": "execute_result"
    }
   ],
   "source": [
    "moments_robust"
   ]
  },
  {
   "cell_type": "code",
   "execution_count": 328,
   "metadata": {},
   "outputs": [],
   "source": [
    "moments = moments_robust.T"
   ]
  },
  {
   "cell_type": "code",
   "execution_count": 329,
   "metadata": {},
   "outputs": [],
   "source": [
    "moments.to_csv('moments.csv', index_label='transf_name')"
   ]
  },
  {
   "cell_type": "code",
   "execution_count": 286,
   "metadata": {},
   "outputs": [
    {
     "data": {
      "text/plain": [
       "(0.6393200791700496, 1.1097352611771127)"
      ]
     },
     "execution_count": 286,
     "metadata": {},
     "output_type": "execute_result"
    }
   ],
   "source": [
    "tuple(moments.loc['log_feature_1'].values)"
   ]
  },
  {
   "cell_type": "code",
   "execution_count": 285,
   "metadata": {},
   "outputs": [
    {
     "data": {
      "text/plain": [
       "array([0.63932008, 1.10973526])"
      ]
     },
     "execution_count": 285,
     "metadata": {},
     "output_type": "execute_result"
    }
   ],
   "source": [
    "moments.loc['log_feature_1'].values == "
   ]
  },
  {
   "cell_type": "code",
   "execution_count": 293,
   "metadata": {},
   "outputs": [
    {
     "data": {
      "text/plain": [
       "array([5.1859748])"
      ]
     },
     "execution_count": 293,
     "metadata": {},
     "output_type": "execute_result"
    }
   ],
   "source": [
    "moments[['mean']].mean().values"
   ]
  },
  {
   "cell_type": "code",
   "execution_count": 298,
   "metadata": {},
   "outputs": [
    {
     "data": {
      "text/plain": [
       "False"
      ]
     },
     "execution_count": 298,
     "metadata": {},
     "output_type": "execute_result"
    }
   ],
   "source": [
    "(1, 2) == (3, 4)"
   ]
  },
  {
   "cell_type": "code",
   "execution_count": 296,
   "metadata": {},
   "outputs": [
    {
     "data": {
      "text/plain": [
       "array([0.63932008, 1.10973526])"
      ]
     },
     "execution_count": 296,
     "metadata": {},
     "output_type": "execute_result"
    }
   ],
   "source": [
    "moments.loc['log_feature_1'].values"
   ]
  },
  {
   "cell_type": "code",
   "execution_count": 282,
   "metadata": {},
   "outputs": [
    {
     "data": {
      "text/plain": [
       "mean    0.639320\n",
       "std     1.109735\n",
       "Name: log_feature_1, dtype: float64"
      ]
     },
     "execution_count": 282,
     "metadata": {},
     "output_type": "execute_result"
    }
   ],
   "source": [
    "pd.read_csv('moments.csv', index_col=0).loc['log_feature_1']"
   ]
  },
  {
   "cell_type": "code",
   "execution_count": 1,
   "metadata": {},
   "outputs": [],
   "source": [
    "from ambrosia.preprocessing import MLVarianceReducer"
   ]
  },
  {
   "cell_type": "code",
   "execution_count": 3,
   "metadata": {
    "scrolled": true
   },
   "outputs": [
    {
     "ename": "AttributeError",
     "evalue": "'int' object has no attribute 'columns'",
     "output_type": "error",
     "traceback": [
      "\u001b[0;31m---------------------------------------------------------------------------\u001b[0m",
      "\u001b[0;31mAttributeError\u001b[0m                            Traceback (most recent call last)",
      "Cell \u001b[0;32mIn[3], line 1\u001b[0m\n\u001b[0;32m----> 1\u001b[0m \u001b[43mMLVarianceReducer\u001b[49m\u001b[43m(\u001b[49m\u001b[38;5;241;43m1\u001b[39;49m\u001b[43m,\u001b[49m\u001b[43m \u001b[49m\u001b[38;5;124;43m'\u001b[39;49m\u001b[38;5;124;43mkek\u001b[39;49m\u001b[38;5;124;43m'\u001b[39;49m\u001b[43m)\u001b[49m\n",
      "File \u001b[0;32m~/gitlab/Ambrosia/ambrosia/preprocessing/ml_var_reducer.py:208\u001b[0m, in \u001b[0;36mMLVarianceReducer.__init__\u001b[0;34m(self, dataframe, target_column, model, model_params, scores, verbose)\u001b[0m\n\u001b[1;32m    199\u001b[0m \u001b[38;5;28;01mdef\u001b[39;00m \u001b[38;5;21m__init__\u001b[39m(\n\u001b[1;32m    200\u001b[0m     \u001b[38;5;28mself\u001b[39m,\n\u001b[1;32m    201\u001b[0m     dataframe: pd\u001b[38;5;241m.\u001b[39mDataFrame,\n\u001b[0;32m   (...)\u001b[0m\n\u001b[1;32m    206\u001b[0m     verbose: \u001b[38;5;28mbool\u001b[39m \u001b[38;5;241m=\u001b[39m \u001b[38;5;28;01mTrue\u001b[39;00m,\n\u001b[1;32m    207\u001b[0m ) \u001b[38;5;241m-\u001b[39m\u001b[38;5;241m>\u001b[39m \u001b[38;5;28;01mNone\u001b[39;00m:\n\u001b[0;32m--> 208\u001b[0m     \u001b[38;5;28;43msuper\u001b[39;49m\u001b[43m(\u001b[49m\u001b[43m)\u001b[49m\u001b[38;5;241;43m.\u001b[39;49m\u001b[38;5;21;43m__init__\u001b[39;49m\u001b[43m(\u001b[49m\u001b[43mdataframe\u001b[49m\u001b[43m,\u001b[49m\u001b[43m \u001b[49m\u001b[43mtarget_column\u001b[49m\u001b[43m,\u001b[49m\u001b[43m \u001b[49m\u001b[43mverbose\u001b[49m\u001b[43m)\u001b[49m\n\u001b[1;32m    209\u001b[0m     \u001b[38;5;28mself\u001b[39m\u001b[38;5;241m.\u001b[39mmodel \u001b[38;5;241m=\u001b[39m model\n\u001b[1;32m    210\u001b[0m     \u001b[38;5;28mself\u001b[39m\u001b[38;5;241m.\u001b[39mbias \u001b[38;5;241m=\u001b[39m \u001b[38;5;28;01mNone\u001b[39;00m\n",
      "File \u001b[0;32m~/gitlab/Ambrosia/ambrosia/tools/ab_abstract_component.py:193\u001b[0m, in \u001b[0;36mAbstractVarianceReducer.__init__\u001b[0;34m(self, dataframe, target_column, verbose)\u001b[0m\n\u001b[1;32m    191\u001b[0m \u001b[38;5;28;01mdef\u001b[39;00m \u001b[38;5;21m__init__\u001b[39m(\u001b[38;5;28mself\u001b[39m, dataframe: pd\u001b[38;5;241m.\u001b[39mDataFrame, target_column: types\u001b[38;5;241m.\u001b[39mColumnNameType, verbose: \u001b[38;5;28mbool\u001b[39m \u001b[38;5;241m=\u001b[39m \u001b[38;5;28;01mTrue\u001b[39;00m) \u001b[38;5;241m-\u001b[39m\u001b[38;5;241m>\u001b[39m \u001b[38;5;28;01mNone\u001b[39;00m:\n\u001b[1;32m    192\u001b[0m     \u001b[38;5;28mself\u001b[39m\u001b[38;5;241m.\u001b[39mdf \u001b[38;5;241m=\u001b[39m dataframe\n\u001b[0;32m--> 193\u001b[0m     \u001b[38;5;28;01mif\u001b[39;00m target_column \u001b[38;5;129;01mnot\u001b[39;00m \u001b[38;5;129;01min\u001b[39;00m \u001b[43mdataframe\u001b[49m\u001b[38;5;241;43m.\u001b[39;49m\u001b[43mcolumns\u001b[49m:\n\u001b[1;32m    194\u001b[0m         \u001b[38;5;28;01mraise\u001b[39;00m \u001b[38;5;167;01mValueError\u001b[39;00m(\u001b[38;5;124mf\u001b[39m\u001b[38;5;124m\"\u001b[39m\u001b[38;5;124mTarget column \u001b[39m\u001b[38;5;132;01m{\u001b[39;00mtarget_column\u001b[38;5;132;01m}\u001b[39;00m\u001b[38;5;124m is not in Data Frame columns list\u001b[39m\u001b[38;5;124m\"\u001b[39m)\n\u001b[1;32m    195\u001b[0m     \u001b[38;5;28mself\u001b[39m\u001b[38;5;241m.\u001b[39mtarget_column \u001b[38;5;241m=\u001b[39m target_column\n",
      "\u001b[0;31mAttributeError\u001b[0m: 'int' object has no attribute 'columns'"
     ]
    }
   ],
   "source": [
    "MLVarianceReducer(1, 'kek')"
   ]
  },
  {
   "cell_type": "code",
   "execution_count": 10,
   "metadata": {},
   "outputs": [],
   "source": [
    "import pandas as pd"
   ]
  },
  {
   "cell_type": "code",
   "execution_count": 11,
   "metadata": {},
   "outputs": [],
   "source": [
    "from ambrosia.preprocessing import AggregatePreprocessor"
   ]
  },
  {
   "cell_type": "code",
   "execution_count": 14,
   "metadata": {},
   "outputs": [],
   "source": [
    "table = pd.read_csv('tests/test_data/week_metrics.csv')"
   ]
  },
  {
   "cell_type": "code",
   "execution_count": 15,
   "metadata": {},
   "outputs": [],
   "source": [
    "# These arguments values are also default ones\n",
    "transformer = AggregatePreprocessor(categorial_method='mode', real_method='sum')"
   ]
  },
  {
   "cell_type": "code",
   "execution_count": 16,
   "metadata": {},
   "outputs": [
    {
     "data": {
      "text/html": [
       "<div>\n",
       "<style scoped>\n",
       "    .dataframe tbody tr th:only-of-type {\n",
       "        vertical-align: middle;\n",
       "    }\n",
       "\n",
       "    .dataframe tbody tr th {\n",
       "        vertical-align: top;\n",
       "    }\n",
       "\n",
       "    .dataframe thead th {\n",
       "        text-align: right;\n",
       "    }\n",
       "</style>\n",
       "<table border=\"1\" class=\"dataframe\">\n",
       "  <thead>\n",
       "    <tr style=\"text-align: right;\">\n",
       "      <th></th>\n",
       "      <th>id</th>\n",
       "      <th>watched</th>\n",
       "      <th>sessions</th>\n",
       "      <th>gender</th>\n",
       "      <th>platform</th>\n",
       "    </tr>\n",
       "  </thead>\n",
       "  <tbody>\n",
       "    <tr>\n",
       "      <th>0</th>\n",
       "      <td>0</td>\n",
       "      <td>772.597224</td>\n",
       "      <td>8</td>\n",
       "      <td>Male</td>\n",
       "      <td>ios</td>\n",
       "    </tr>\n",
       "    <tr>\n",
       "      <th>1</th>\n",
       "      <td>1</td>\n",
       "      <td>538.076739</td>\n",
       "      <td>15</td>\n",
       "      <td>Female</td>\n",
       "      <td>android</td>\n",
       "    </tr>\n",
       "    <tr>\n",
       "      <th>2</th>\n",
       "      <td>2</td>\n",
       "      <td>288.492353</td>\n",
       "      <td>20</td>\n",
       "      <td>Female</td>\n",
       "      <td>android</td>\n",
       "    </tr>\n",
       "    <tr>\n",
       "      <th>3</th>\n",
       "      <td>3</td>\n",
       "      <td>373.620408</td>\n",
       "      <td>9</td>\n",
       "      <td>Female</td>\n",
       "      <td>ios</td>\n",
       "    </tr>\n",
       "    <tr>\n",
       "      <th>4</th>\n",
       "      <td>4</td>\n",
       "      <td>630.238862</td>\n",
       "      <td>14</td>\n",
       "      <td>Female</td>\n",
       "      <td>ios</td>\n",
       "    </tr>\n",
       "    <tr>\n",
       "      <th>...</th>\n",
       "      <td>...</td>\n",
       "      <td>...</td>\n",
       "      <td>...</td>\n",
       "      <td>...</td>\n",
       "      <td>...</td>\n",
       "    </tr>\n",
       "    <tr>\n",
       "      <th>4995</th>\n",
       "      <td>4995</td>\n",
       "      <td>390.133588</td>\n",
       "      <td>14</td>\n",
       "      <td>Male</td>\n",
       "      <td>android</td>\n",
       "    </tr>\n",
       "    <tr>\n",
       "      <th>4996</th>\n",
       "      <td>4996</td>\n",
       "      <td>544.423724</td>\n",
       "      <td>25</td>\n",
       "      <td>Female</td>\n",
       "      <td>ios</td>\n",
       "    </tr>\n",
       "    <tr>\n",
       "      <th>4997</th>\n",
       "      <td>4997</td>\n",
       "      <td>204.713032</td>\n",
       "      <td>19</td>\n",
       "      <td>Male</td>\n",
       "      <td>android</td>\n",
       "    </tr>\n",
       "    <tr>\n",
       "      <th>4998</th>\n",
       "      <td>4998</td>\n",
       "      <td>1088.642872</td>\n",
       "      <td>25</td>\n",
       "      <td>Female</td>\n",
       "      <td>web</td>\n",
       "    </tr>\n",
       "    <tr>\n",
       "      <th>4999</th>\n",
       "      <td>4999</td>\n",
       "      <td>405.817078</td>\n",
       "      <td>11</td>\n",
       "      <td>Male</td>\n",
       "      <td>android</td>\n",
       "    </tr>\n",
       "  </tbody>\n",
       "</table>\n",
       "<p>5000 rows × 5 columns</p>\n",
       "</div>"
      ],
      "text/plain": [
       "        id      watched  sessions  gender platform\n",
       "0        0   772.597224         8    Male      ios\n",
       "1        1   538.076739        15  Female  android\n",
       "2        2   288.492353        20  Female  android\n",
       "3        3   373.620408         9  Female      ios\n",
       "4        4   630.238862        14  Female      ios\n",
       "...    ...          ...       ...     ...      ...\n",
       "4995  4995   390.133588        14    Male  android\n",
       "4996  4996   544.423724        25  Female      ios\n",
       "4997  4997   204.713032        19    Male  android\n",
       "4998  4998  1088.642872        25  Female      web\n",
       "4999  4999   405.817078        11    Male  android\n",
       "\n",
       "[5000 rows x 5 columns]"
      ]
     },
     "execution_count": 16,
     "metadata": {},
     "output_type": "execute_result"
    }
   ],
   "source": [
    "transformer.run(\n",
    "    dataframe=table,\n",
    "    groupby_columns='id',\n",
    "    real_cols=['watched', 'sessions'],\n",
    "    categorial_cols=['gender', 'platform']\n",
    ")"
   ]
  },
  {
   "cell_type": "code",
   "execution_count": null,
   "metadata": {},
   "outputs": [],
   "source": []
  },
  {
   "cell_type": "code",
   "execution_count": 19,
   "metadata": {},
   "outputs": [
    {
     "data": {
      "text/plain": [
       "{'watched': 'sum',\n",
       " 'sessions': 'sum',\n",
       " 'gender': <function ambrosia.preprocessing.aggregate.AggregatePreprocessor.__mode_calculation(values: pandas.core.series.Series) -> Any>,\n",
       " 'platform': <function ambrosia.preprocessing.aggregate.AggregatePreprocessor.__mode_calculation(values: pandas.core.series.Series) -> Any>}"
      ]
     },
     "execution_count": 19,
     "metadata": {},
     "output_type": "execute_result"
    }
   ],
   "source": [
    "transformer.agg_params"
   ]
  },
  {
   "cell_type": "code",
   "execution_count": null,
   "metadata": {},
   "outputs": [],
   "source": []
  },
  {
   "cell_type": "code",
   "execution_count": 20,
   "metadata": {},
   "outputs": [
    {
     "ename": "NameError",
     "evalue": "name 'dataframe' is not defined",
     "output_type": "error",
     "traceback": [
      "\u001b[0;31m---------------------------------------------------------------------------\u001b[0m",
      "\u001b[0;31mNameError\u001b[0m                                 Traceback (most recent call last)",
      "Cell \u001b[0;32mIn[20], line 1\u001b[0m\n\u001b[0;32m----> 1\u001b[0m transformer\u001b[38;5;241m.\u001b[39mtransform(\u001b[43mdataframe\u001b[49m)\n",
      "\u001b[0;31mNameError\u001b[0m: name 'dataframe' is not defined"
     ]
    }
   ],
   "source": [
    "transformer.transform(dataframe)"
   ]
  },
  {
   "cell_type": "code",
   "execution_count": 18,
   "metadata": {},
   "outputs": [
    {
     "data": {
      "text/plain": [
       "['_AggregatePreprocessor__categorial_case_step',\n",
       " '_AggregatePreprocessor__empty_args_step',\n",
       " '_AggregatePreprocessor__mode_calculation',\n",
       " '_AggregatePreprocessor__real_case_step',\n",
       " '_AggregatePreprocessor__simple_agg',\n",
       " '_AggregatePreprocessor__transform_agg_param',\n",
       " '_AggregatePreprocessor__transform_params',\n",
       " '__class__',\n",
       " '__delattr__',\n",
       " '__dict__',\n",
       " '__dir__',\n",
       " '__doc__',\n",
       " '__eq__',\n",
       " '__format__',\n",
       " '__ge__',\n",
       " '__getattribute__',\n",
       " '__gt__',\n",
       " '__hash__',\n",
       " '__init__',\n",
       " '__init_subclass__',\n",
       " '__le__',\n",
       " '__lt__',\n",
       " '__module__',\n",
       " '__ne__',\n",
       " '__new__',\n",
       " '__reduce__',\n",
       " '__reduce_ex__',\n",
       " '__repr__',\n",
       " '__setattr__',\n",
       " '__sizeof__',\n",
       " '__str__',\n",
       " '__subclasshook__',\n",
       " '__weakref__',\n",
       " 'agg_params',\n",
       " 'categorial_method',\n",
       " 'get_params_dict',\n",
       " 'groupby_columns',\n",
       " 'real_method',\n",
       " 'run',\n",
       " 'transform']"
      ]
     },
     "execution_count": 18,
     "metadata": {},
     "output_type": "execute_result"
    }
   ],
   "source": [
    "dir(transformer)"
   ]
  },
  {
   "cell_type": "code",
   "execution_count": 22,
   "metadata": {},
   "outputs": [],
   "source": [
    "from typing import Dict"
   ]
  },
  {
   "cell_type": "code",
   "execution_count": 23,
   "metadata": {},
   "outputs": [],
   "source": [
    "class Borg:\n",
    "    _shared_state: Dict[str, str] = {}\n",
    "\n",
    "    def __init__(self) -> None:\n",
    "        self.__dict__ = self._shared_state\n",
    "\n",
    "\n",
    "class YourBorg(Borg):\n",
    "    def __init__(self, state: str = None) -> None:\n",
    "        super().__init__()\n",
    "        if state:\n",
    "            self.state = state\n",
    "        else:\n",
    "            # initiate the first instance with default state\n",
    "            if not hasattr(self, \"state\"):\n",
    "                self.state = \"Init\"\n",
    "\n",
    "    def __str__(self) -> str:\n",
    "        return self.state"
   ]
  },
  {
   "cell_type": "code",
   "execution_count": 24,
   "metadata": {},
   "outputs": [],
   "source": [
    "rm1 = YourBorg()"
   ]
  },
  {
   "cell_type": "code",
   "execution_count": 26,
   "metadata": {},
   "outputs": [
    {
     "name": "stdout",
     "output_type": "stream",
     "text": [
      "Init\n"
     ]
    }
   ],
   "source": [
    "print(rm1)"
   ]
  },
  {
   "cell_type": "code",
   "execution_count": 27,
   "metadata": {},
   "outputs": [],
   "source": [
    "rm2 = YourBorg()"
   ]
  },
  {
   "cell_type": "code",
   "execution_count": 28,
   "metadata": {},
   "outputs": [
    {
     "name": "stdout",
     "output_type": "stream",
     "text": [
      "Init\n"
     ]
    }
   ],
   "source": [
    "print(rm2)"
   ]
  },
  {
   "cell_type": "code",
   "execution_count": 30,
   "metadata": {},
   "outputs": [],
   "source": [
    "rm1.state = 'No'"
   ]
  },
  {
   "cell_type": "code",
   "execution_count": 32,
   "metadata": {},
   "outputs": [],
   "source": [
    "rm1.kek = 4"
   ]
  },
  {
   "cell_type": "code",
   "execution_count": 31,
   "metadata": {},
   "outputs": [
    {
     "name": "stdout",
     "output_type": "stream",
     "text": [
      "No\n",
      "No\n"
     ]
    }
   ],
   "source": [
    "print(rm1)\n",
    "print(rm2)"
   ]
  },
  {
   "cell_type": "code",
   "execution_count": 33,
   "metadata": {},
   "outputs": [
    {
     "data": {
      "text/plain": [
       "4"
      ]
     },
     "execution_count": 33,
     "metadata": {},
     "output_type": "execute_result"
    }
   ],
   "source": [
    "rm1.kek"
   ]
  },
  {
   "cell_type": "code",
   "execution_count": 34,
   "metadata": {
    "scrolled": true
   },
   "outputs": [
    {
     "data": {
      "text/plain": [
       "4"
      ]
     },
     "execution_count": 34,
     "metadata": {},
     "output_type": "execute_result"
    }
   ],
   "source": [
    "rm2.kek"
   ]
  },
  {
   "cell_type": "code",
   "execution_count": 37,
   "metadata": {},
   "outputs": [
    {
     "ename": "NameError",
     "evalue": "name 'df_1' is not defined",
     "output_type": "error",
     "traceback": [
      "\u001b[0;31m---------------------------------------------------------------------------\u001b[0m",
      "\u001b[0;31mNameError\u001b[0m                                 Traceback (most recent call last)",
      "Cell \u001b[0;32mIn[37], line 1\u001b[0m\n\u001b[0;32m----> 1\u001b[0m \u001b[43mdf_1\u001b[49m\n",
      "\u001b[0;31mNameError\u001b[0m: name 'df_1' is not defined"
     ]
    }
   ],
   "source": [
    "df_1"
   ]
  },
  {
   "cell_type": "code",
   "execution_count": 38,
   "metadata": {},
   "outputs": [
    {
     "data": {
      "text/plain": [
       "['AggregatePreprocessor',\n",
       " 'Borg',\n",
       " 'Dict',\n",
       " 'In',\n",
       " 'MLVarianceReducer',\n",
       " 'NamespaceMagics',\n",
       " 'Out',\n",
       " 'YourBorg',\n",
       " '_',\n",
       " '_16',\n",
       " '_17',\n",
       " '_18',\n",
       " '_19',\n",
       " '_25',\n",
       " '_33',\n",
       " '_34',\n",
       " '_4',\n",
       " '_5',\n",
       " '_6',\n",
       " '_Jupyter',\n",
       " '__',\n",
       " '___',\n",
       " '__builtin__',\n",
       " '__builtins__',\n",
       " '__doc__',\n",
       " '__loader__',\n",
       " '__name__',\n",
       " '__package__',\n",
       " '__spec__',\n",
       " '_dh',\n",
       " '_getcontentof',\n",
       " '_getshapeof',\n",
       " '_getsizeof',\n",
       " '_i',\n",
       " '_i1',\n",
       " '_i10',\n",
       " '_i11',\n",
       " '_i12',\n",
       " '_i13',\n",
       " '_i14',\n",
       " '_i15',\n",
       " '_i16',\n",
       " '_i17',\n",
       " '_i18',\n",
       " '_i19',\n",
       " '_i2',\n",
       " '_i20',\n",
       " '_i21',\n",
       " '_i22',\n",
       " '_i23',\n",
       " '_i24',\n",
       " '_i25',\n",
       " '_i26',\n",
       " '_i27',\n",
       " '_i28',\n",
       " '_i29',\n",
       " '_i3',\n",
       " '_i30',\n",
       " '_i31',\n",
       " '_i32',\n",
       " '_i33',\n",
       " '_i34',\n",
       " '_i35',\n",
       " '_i36',\n",
       " '_i37',\n",
       " '_i38',\n",
       " '_i4',\n",
       " '_i5',\n",
       " '_i6',\n",
       " '_i7',\n",
       " '_i8',\n",
       " '_i9',\n",
       " '_ih',\n",
       " '_ii',\n",
       " '_iii',\n",
       " '_nms',\n",
       " '_oh',\n",
       " 'exit',\n",
       " 'get_ipython',\n",
       " 'getsizeof',\n",
       " 'json',\n",
       " 'np',\n",
       " 'open',\n",
       " 'pd',\n",
       " 'quit',\n",
       " 'rm1',\n",
       " 'rm2',\n",
       " 'table',\n",
       " 'transformer',\n",
       " 'var_dic_list',\n",
       " 'yapf_reformat']"
      ]
     },
     "execution_count": 38,
     "metadata": {},
     "output_type": "execute_result"
    }
   ],
   "source": [
    "dir()"
   ]
  },
  {
   "cell_type": "code",
   "execution_count": 2,
   "metadata": {},
   "outputs": [],
   "source": [
    "from abc import ABC, abstractmethod\n",
    "from typing import Iterable, List\n",
    "\n",
    "import numpy as np\n",
    "import pandas as pd\n",
    "import scipy.stats as sps\n",
    "\n",
    "import ambrosia.tools._lib._bin_ci_aide as helper_dir\n",
    "import ambrosia.tools.pvalue_tools as pvalue_pkg\n",
    "from ambrosia import types\n",
    "\n",
    "RELATIVE_ABSOLUTE_DELTA_ERROR = ValueError(\"Choose relative or absolute delta, not both\")\n",
    "ROUND_DIGITS: int = 3\n",
    "\n",
    "\n",
    "class BinomTwoSampleCI(ABC):\n",
    "    \"\"\"\n",
    "    Implementation of two-sample confidence interval.\n",
    "    Supported the following types  interval_type:\n",
    "\n",
    "    X ~ Bin(m, p1)\n",
    "    Y ~ Bin(n, p2)\n",
    "\n",
    "    Estimated Delta = p1 - p2\n",
    "    For more information explore:\n",
    "    http://stat.wharton.upenn.edu/~lbrown/Papers/2005c%20Confidence%20intervals%20for%\n",
    "    20the%20two%20sample%20binomial%20distribution%20problem.pdf\n",
    "\n",
    "    Methods\n",
    "    -------\n",
    "\n",
    "        Frequency:\n",
    "        ----------\n",
    "\n",
    "        Wald's CI - Using MLE estimation for proportions and\n",
    "                asymptotic normality\n",
    "\n",
    "        Yule's CI - Using estimation for Var(p1 - p2), in assumption\n",
    "                (p1 = p2) and (m ~= n). Could be use for criterion\n",
    "                H0: p1 = p2   vs   H1: p1 != p2\n",
    "        Yule's modified CI - analogue for previous one for m != n\n",
    "        Newcombe's CI - combination of CI for p1 and p2, building CI for difference\n",
    "        Recentred CI - Using t quantiles\n",
    "\n",
    "        Bayes:\n",
    "        ------\n",
    "\n",
    "        Jeffrey's CI - Using for prior distribution Beta(1/2, 1/2)\n",
    "        Agresti's CI - Using for prior distribution Beta(1, 1)\n",
    "        Conjugate Beta - Using for prior Beta(n_success, n_failure)\n",
    "\n",
    "    \"\"\"\n",
    "\n",
    "    __PRECISION: float = 0.0001\n",
    "\n",
    "    # This class just a container with all confidence intervals.\n",
    "    # Thats why there is no instantiation.\n",
    "    @abstractmethod\n",
    "    def __init__(self):\n",
    "        pass\n",
    "\n",
    "    @staticmethod\n",
    "    def __wald_ci(\n",
    "        sample_a: int, sample_b: int, a_trials: int, b_trials: int, significance_level: float\n",
    "    ) -> types.IntervalType:\n",
    "        \"\"\"\n",
    "        Implementation of Wald confidence interval.\n",
    "        \"\"\"\n",
    "        p_a_est = sample_a / a_trials\n",
    "        p_b_est = sample_b / b_trials\n",
    "        q_a_est = 1 - p_a_est\n",
    "        q_b_est = 1 - p_b_est\n",
    "        delta_estimation = p_b_est - p_a_est\n",
    "\n",
    "        quantile = sps.norm.ppf(significance_level / 2)\n",
    "        variation = p_a_est * q_a_est / a_trials + p_b_est * q_b_est / b_trials\n",
    "        shift = -quantile * np.sqrt(variation)\n",
    "\n",
    "        return delta_estimation - shift, delta_estimation + shift\n",
    "\n",
    "    @staticmethod\n",
    "    def __yule_ci(\n",
    "        sample_a: int, sample_b: int, a_trials: int, b_trials: int, significance_level: float, modified: bool = False\n",
    "    ) -> types.IntervalType:\n",
    "        \"\"\"\n",
    "        Implementation of Yule's confidence intervals.\n",
    "        \"\"\"\n",
    "\n",
    "        p_a_est = sample_a / a_trials\n",
    "        p_b_est = sample_b / b_trials\n",
    "        delta_estimation = p_b_est - p_a_est\n",
    "\n",
    "        quantile = sps.norm.ppf(significance_level / 2)\n",
    "\n",
    "        if modified:\n",
    "            coef_a = b_trials / a_trials\n",
    "            coef_b = a_trials / b_trials\n",
    "            p_hat = (sample_a * coef_a + sample_b * coef_b) / (a_trials + b_trials)\n",
    "            q_hat = 1 - p_hat\n",
    "            variation = (1 / a_trials + 1 / b_trials) * p_hat * q_hat\n",
    "        else:\n",
    "            p_overline = (sample_a + sample_b) / (a_trials + b_trials)\n",
    "            q_overline = 1 - p_overline\n",
    "            variation = (1 / a_trials + 1 / b_trials) * p_overline * q_overline\n",
    "\n",
    "        shift = -quantile * np.sqrt(variation)\n",
    "        return delta_estimation - shift, delta_estimation + shift\n",
    "\n",
    "    @staticmethod\n",
    "    def __bayes_conjugate_beta(\n",
    "        sample_a: int,\n",
    "        sample_b: int,\n",
    "        a_trials: int,\n",
    "        b_trials: int,\n",
    "        n_success: int,\n",
    "        n_failure: int,\n",
    "        significance_level: float,\n",
    "    ) -> types.IntervalType:\n",
    "        \"\"\"\n",
    "        Implementation of bayes confidence intervals with cojugate distribution\n",
    "        Beta(n_success, n_falure).\n",
    "        \"\"\"\n",
    "\n",
    "        p_tilde_a = (sample_a + n_success) / (n_success + n_failure + a_trials)\n",
    "        p_tilde_b = (sample_b + n_success) / (n_success + n_failure + b_trials)\n",
    "\n",
    "        q_tilde_a = 1 - p_tilde_a\n",
    "        q_tilde_b = 1 - p_tilde_b\n",
    "        delta_tilde = p_tilde_b - p_tilde_a\n",
    "\n",
    "        quantile = sps.norm.ppf(significance_level / 2)\n",
    "        variation = p_tilde_a * q_tilde_a / a_trials + p_tilde_b * q_tilde_b / b_trials\n",
    "        shift = -quantile * np.sqrt(variation)\n",
    "        return delta_tilde - shift, delta_tilde + shift\n",
    "\n",
    "    @staticmethod\n",
    "    def __square_eq_newcombe(p_est: float, m: int, quantile: float) -> types.IntervalType:  # pylint: disable=C0103\n",
    "        \"\"\"\n",
    "        Helper function for newcombe_ci.\n",
    "        \"\"\"\n",
    "\n",
    "        coef_a = 1 + quantile**2 / m\n",
    "        coef_b = -(2 * p_est + quantile**2 / m)\n",
    "        coef_c = p_est**2\n",
    "        d = coef_b**2 - 4 * coef_a * coef_c  # pylint: disable=C0103\n",
    "        left = (-coef_b - np.sqrt(d)) / (2 * coef_a)\n",
    "        right = (-coef_b + np.sqrt(d)) / (2 * coef_a)\n",
    "\n",
    "        return left, right\n",
    "\n",
    "    @staticmethod\n",
    "    def __newcombe_ci(\n",
    "        sample_a: int,\n",
    "        sample_b: int,\n",
    "        a_trials: int,\n",
    "        b_trials: int,\n",
    "        significance_level: float = 0.05,\n",
    "    ) -> types.IntervalType:\n",
    "        \"\"\"\n",
    "        Implementation of Newcombe's confidence intervals.\n",
    "        \"\"\"\n",
    "        p_a_est = sample_a / a_trials\n",
    "        p_b_est = sample_b / b_trials\n",
    "        delta_est = p_b_est - p_a_est\n",
    "\n",
    "        quantile = sps.norm.ppf(significance_level / 2)\n",
    "\n",
    "        # Calculate intevalls for A and B group\n",
    "        left_bound_group_a, right_bound_group_a = BinomTwoSampleCI.__square_eq_newcombe(p_a_est, a_trials, quantile)\n",
    "        left_bound_group_b, right_bound_group_b = BinomTwoSampleCI.__square_eq_newcombe(p_b_est, b_trials, quantile)\n",
    "\n",
    "        variance_a_left = left_bound_group_a * (1 - left_bound_group_a) / a_trials\n",
    "        variance_a_right = right_bound_group_a * (1 - right_bound_group_a) / a_trials\n",
    "        variance_b_left = left_bound_group_b * (1 - left_bound_group_b) / b_trials\n",
    "        variance_b_right = right_bound_group_b * (1 - right_bound_group_b) / b_trials\n",
    "        variance_left = variance_a_left + variance_b_right\n",
    "        variance_right = variance_b_left + variance_a_right\n",
    "        left_bound = delta_est + quantile * np.sqrt(variance_left)\n",
    "        right_bound = delta_est - quantile * np.sqrt(variance_right)\n",
    "\n",
    "        return left_bound, right_bound\n",
    "\n",
    "    @staticmethod\n",
    "    def __recentered_ci(\n",
    "        sample_a: int, sample_b: int, a_trials: int, b_trials: int, significance_level: float\n",
    "    ) -> types.IntervalType:\n",
    "        \"\"\"\n",
    "        Implementation of recentered confidence intervals.\n",
    "        \"\"\"\n",
    "        p_a_est = sample_a / a_trials\n",
    "        p_b_est = sample_b / b_trials\n",
    "        delta_estimation = p_b_est - p_a_est\n",
    "        p_est = (b_trials * p_a_est + a_trials * p_b_est) / (a_trials + b_trials)\n",
    "        q_est = 1 - p_est\n",
    "        quantile = -sps.t.ppf(significance_level / 2, df=a_trials + b_trials - 2)\n",
    "        coef = 1 + quantile**2 / (a_trials + b_trials)\n",
    "        center = delta_estimation / coef\n",
    "        var_est = (1 / a_trials + 1 / b_trials) * p_est * q_est\n",
    "        shift = quantile * np.sqrt(coef * var_est - delta_estimation**2 / (a_trials + b_trials)) / coef\n",
    "        return center - shift, center + shift\n",
    "\n",
    "    @staticmethod\n",
    "    def calculate_pvalue(\n",
    "        a_success: int,\n",
    "        b_success: int,\n",
    "        a_trials: int,\n",
    "        b_trials: int,\n",
    "        interval_type: str = \"wald\",\n",
    "        alternative: str = \"two-sided\",\n",
    "        n_success_conjugate: int = None,\n",
    "        n_failure_conjugate: int = None,\n",
    "    ) -> float:\n",
    "        \"\"\"\n",
    "        Calculate pvalue for confidence interval.\n",
    "        pvalue(x) = inf_a {a | x \\\\in S_a }\n",
    "\n",
    "        Parameters\n",
    "        ----------\n",
    "        a_success : int\n",
    "            Samples from Bin(a_trials, p_a)\n",
    "        b_success : int\n",
    "            Sample from Bin(b_trials, p_b)\n",
    "        a_trials : int\n",
    "            Parameter for trials amount for group A\n",
    "        b_trials : int\n",
    "            Parameter for trials amount for group B\n",
    "        confidence_level : float\n",
    "            Pr ( [p1 - p2] in CI ) -> confidence_level, n -> infty\n",
    "        interval_type : str, default : ``\"wald\"``\n",
    "            One from [wald, yule, yule_modif, newcombe, jeffrey, agresti, bayes_beta, recenter]\n",
    "        alternative : str, default : ``\"two-sided\"``\n",
    "            Alternative for static criteria - two-sided, less, greater\n",
    "            Less means, that mean in first group less, than mean in second group\n",
    "        n_success : int\n",
    "            Arguments for conjugate distribution Beta(n_success, n_failure) if interval_type = \"bayes_beta\"\n",
    "        n_failure : int\n",
    "            Arguments for conjugate distribution Beta(n_success, n_failure) if interval_type = \"bayes_beta\"\n",
    "\n",
    "        Comment\n",
    "        -------\n",
    "        You can pass numpy arrays with same shapes for a_success, b_success and e.t.c\n",
    "\n",
    "        Returns\n",
    "        -------\n",
    "        pvalue : float\n",
    "            P-value of the interval-induced criterion\n",
    "        \"\"\"\n",
    "\n",
    "        return pvalue_pkg.calculate_pvalue_by_interval(\n",
    "            BinomTwoSampleCI.confidence_interval,\n",
    "            0,\n",
    "            a_success=a_success,\n",
    "            a_trials=a_trials,\n",
    "            b_success=b_success,\n",
    "            b_trials=b_trials,\n",
    "            n_success_conjugate=n_success_conjugate,\n",
    "            n_failure_conjugate=n_failure_conjugate,\n",
    "            interval_type=interval_type,\n",
    "            alternative=alternative,\n",
    "        )\n",
    "\n",
    "    @staticmethod\n",
    "    def confidence_interval(\n",
    "        a_success: int,\n",
    "        b_success: int,\n",
    "        a_trials: int,\n",
    "        b_trials: int,\n",
    "        confidence_level: float,\n",
    "        interval_type: str = \"wald\",\n",
    "        alternative: str = \"two-sided\",\n",
    "        n_success_conjugate: int = None,\n",
    "        n_failure_conjugate: int = None,\n",
    "    ) -> types.IntervalType:\n",
    "        \"\"\"\n",
    "        Main function building confidence interval.\n",
    "\n",
    "        Parameters\n",
    "        ----------\n",
    "        a_success : int\n",
    "            Samples from Bin(a_trials, p_a)\n",
    "        b_success : int\n",
    "            Sample from Bin(b_trials, p_b)\n",
    "        a_trials : int\n",
    "            Parameter for trials amount for group A\n",
    "        b_trials : int\n",
    "            Parameter for trials amount for group B\n",
    "        confidence_level : float\n",
    "            Pr ( [p1 - p2] in CI ) -> confidence_level, n -> infty\n",
    "        interval_type : str, default : ``\"wald\"``\n",
    "            One from [wald, yule, yule_modif, newcombe, jeffrey, agresti, bayes_beta, recenter]\n",
    "        alternative : str, default : ``\"two-sided\"``\n",
    "            Alternative for static criteria - two-sided, less, greater\n",
    "            Less means, that mean in first group less, than mean in second group\n",
    "        n_success : int\n",
    "            Arguments for conjugate distribution Beta(n_success, n_failure) if interval_type = \"bayes_beta\"\n",
    "        n_failure : int\n",
    "            Arguments for conjugate distribution Beta(n_success, n_failure) if interval_type = \"bayes_beta\"\n",
    "\n",
    "        Note\n",
    "        ----\n",
    "        You can pass numpy arrays with same shapes for a_success, b_success and e.t.c\n",
    "\n",
    "        Returns\n",
    "        -------\n",
    "        interval : Tuple[float, float]\n",
    "        \"\"\"\n",
    "\n",
    "        valid_types: List[str] = [\n",
    "            \"wald\",\n",
    "            \"yule\",\n",
    "            \"yule_modif\",\n",
    "            \"newcombe\",\n",
    "            \"jeffrey\",\n",
    "            \"agresti\",\n",
    "            \"bayes_beta\",\n",
    "            \"recenter\",\n",
    "        ]\n",
    "        pvalue_pkg.check_alternative(alternative)\n",
    "        significance_level = pvalue_pkg.corrected_alpha(1 - confidence_level, alternative)\n",
    "        if interval_type == \"wald\":\n",
    "            left_ci, right_ci = BinomTwoSampleCI.__wald_ci(a_success, b_success, a_trials, b_trials, significance_level)\n",
    "        elif interval_type == \"yule\":\n",
    "            left_ci, right_ci = BinomTwoSampleCI.__yule_ci(\n",
    "                a_success, b_success, a_trials, b_trials, significance_level, modified=False\n",
    "            )\n",
    "        elif interval_type == \"yule_modif\":\n",
    "            left_ci, right_ci = BinomTwoSampleCI.__yule_ci(\n",
    "                a_success, b_success, a_trials, b_trials, significance_level, modified=True\n",
    "            )\n",
    "        elif interval_type == \"newcombe\":\n",
    "            left_ci, right_ci = BinomTwoSampleCI.__newcombe_ci(\n",
    "                a_success, b_success, a_trials, b_trials, significance_level\n",
    "            )\n",
    "        elif interval_type == \"recenter\":\n",
    "            left_ci, right_ci = BinomTwoSampleCI.__recentered_ci(\n",
    "                a_success, b_success, a_trials, b_trials, significance_level\n",
    "            )\n",
    "        elif interval_type == \"jeffrey\":\n",
    "            left_ci, right_ci = BinomTwoSampleCI.__bayes_conjugate_beta(\n",
    "                a_success, b_success, a_trials, b_trials, 0.5, 0.5, significance_level\n",
    "            )\n",
    "        elif interval_type == \"agresti\":\n",
    "            left_ci, right_ci = BinomTwoSampleCI.__bayes_conjugate_beta(\n",
    "                a_success, b_success, a_trials, b_trials, 1, 1, significance_level\n",
    "            )\n",
    "        elif interval_type == \"bayes_beta\":\n",
    "            error_beta_params: str = \"Pass correct params n_success_conjugate, n_faliure_conjugate\"\n",
    "            args_correctness = (\n",
    "                (n_success_conjugate is not None)\n",
    "                and (n_failure_conjugate is not None)\n",
    "                and (n_success_conjugate > 0)\n",
    "                and (n_failure_conjugate > 0)\n",
    "            )\n",
    "            if not args_correctness:\n",
    "                raise ValueError(error_beta_params)\n",
    "            left_ci, right_ci = BinomTwoSampleCI.__bayes_conjugate_beta(\n",
    "                a_success, b_success, a_trials, b_trials, n_success_conjugate, n_failure_conjugate, significance_level\n",
    "            )\n",
    "        else:\n",
    "            algo_type_error: str = f'Choose one from accepted methods, from - {\", \".join(valid_types)}'\n",
    "            raise ValueError(algo_type_error)\n",
    "        left_ci, right_ci = pvalue_pkg.choose_from_bounds(\n",
    "            left_ci, right_ci, alternative, left_bound=np.array([-1]), right_bound=np.array([1])\n",
    "        )\n",
    "        return left_ci, right_ci"
   ]
  },
  {
   "cell_type": "code",
   "execution_count": 3,
   "metadata": {},
   "outputs": [],
   "source": [
    "def get_table_power_on_size_and_delta(\n",
    "    p_a: float,\n",
    "    sample_sizes: Iterable[int],\n",
    "    interval_type: str = \"wald\",\n",
    "    delta_values: Iterable[float] = None,\n",
    "    delta_relative_values: Iterable[float] = None,\n",
    "    amount: int = 10000,\n",
    "    confidence_level: float = 0.95,\n",
    ") -> pd.DataFrame:\n",
    "    \"\"\"\n",
    "    Table with power / empirical 1 type error = 1 - coverage for fixed size and effect.\n",
    "\n",
    "    Parameters\n",
    "    ----------\n",
    "    interval_type : str\n",
    "        interval_type for confidence interval\n",
    "    p_a : Iterable[float]\n",
    "        Conversion in A group\n",
    "    sample_sizes : Iterable[float]\n",
    "        Sizes for samples\n",
    "    delta_values : Iterable[float]\n",
    "        Absolute delta values: p_a - p_b = delta\n",
    "    delta_relative_values : Iterable[float]\n",
    "        Relative delta values: delta_relative * p_a = p_b\n",
    "    amount : int, default : ``10000``\n",
    "        Amount of generated samples for one n(trials amount), to estimate power\n",
    "    confidence_level : float, default : ``0.95``\n",
    "        Such value x, that: Pr ( delta in I ) >= x\n",
    "\n",
    "    Returns\n",
    "    -------\n",
    "    table : pd.DataFrame\n",
    "        Required table with power\n",
    "    \"\"\"\n",
    "    trials = np.array(sample_sizes)\n",
    "    if not (delta_values is None) ^ (delta_relative_values is None):\n",
    "        raise RELATIVE_ABSOLUTE_DELTA_ERROR\n",
    "    if delta_values is not None:\n",
    "        p_b_values: np.ndarray = p_a - np.array(delta_values)\n",
    "    else:\n",
    "        p_b_values: np.ndarray = p_a * np.array(delta_relative_values)\n",
    "    if not np.all((p_b_values >= 0) & (p_b_values <= 1)):\n",
    "        raise ValueError(f\"Probability of success in group B must be positive, not {p_b_values}\")\n",
    "    powers_array: List[np.ndarray] = []\n",
    "    sample_a = sps.binom.rvs(n=trials, p=p_a, size=(amount, trials.shape[0]))\n",
    "\n",
    "    for p_b in p_b_values:\n",
    "        sample_b = sps.binom.rvs(n=trials, p=p_b, size=(amount, trials.shape[0]))\n",
    "        binom_kwargs = {\n",
    "            \"interval_type\": interval_type,\n",
    "            \"a_success\": sample_a,\n",
    "            \"b_success\": sample_b,\n",
    "            \"a_trials\": trials,\n",
    "            \"b_trials\": trials,\n",
    "            \"confidence_level\": confidence_level,\n",
    "        }\n",
    "        conf_interval: types.ManyIntervalType = BinomTwoSampleCI.confidence_interval(**binom_kwargs)\n",
    "        power: np.ndarray = helper_dir.__helper_calc_empirical_power(conf_interval)\n",
    "        powers_array.append(power)\n",
    "    power_matrix = np.vstack(powers_array)\n",
    "    index = delta_values if delta_values is not None else delta_relative_values\n",
    "    table = pd.DataFrame(power_matrix, index=index, columns=sample_sizes)\n",
    "    table.index.name = r\"$\\Delta$-absolute\" if delta_values is not None else r\"$\\delta$-relative\"\n",
    "    table.columns.name = \"sample sizes\"\n",
    "    table_title: str = r\"$1 - \\beta$: power of criterion, \" + (\n",
    "        r\"$p_a-p_b=\\Delta$\" if delta_values else r\"$p_a\\delta=p_b$\"\n",
    "    )\n",
    "    table = table.style.set_caption(table_title)\n",
    "    return table"
   ]
  },
  {
   "cell_type": "code",
   "execution_count": 4,
   "metadata": {},
   "outputs": [],
   "source": [
    "def iterate_for_delta(\n",
    "    interval_type: str,\n",
    "    first_errors: Iterable[float],\n",
    "    second_errors: Iterable[float],\n",
    "    sample_sizes: Iterable[int],\n",
    "    p_a: float,\n",
    "    amount: int,\n",
    "    delta_type: str,\n",
    ") -> pd.DataFrame:\n",
    "    \"\"\"\n",
    "    Helps find effect for different params\n",
    "    \"\"\"\n",
    "    values = [(round(a, ROUND_DIGITS), round(b, ROUND_DIGITS)) for a in first_errors for b in second_errors]\n",
    "    table: pd.DataFrame = pd.DataFrame(\n",
    "        index=pd.MultiIndex.from_tuples(values, names=[r\"$\\alpha$\", r\"$\\beta$\"]),\n",
    "        columns=sample_sizes,\n",
    "    )\n",
    "    for alpha in first_errors:\n",
    "        for second_error in second_errors:\n",
    "            power = 1 - second_error\n",
    "            for trials in sample_sizes:\n",
    "                delta = helper_dir.__helper_bin_search_for_delta(\n",
    "                    interval_type=interval_type,\n",
    "                    confidence_level=1 - alpha,\n",
    "                    p_a=p_a,\n",
    "                    trials=trials,\n",
    "                    amount=amount,\n",
    "                    power=power,\n",
    "                )\n",
    "                if delta is not None and delta_type == \"relative\":\n",
    "                    delta = str(round(abs(delta) / p_a * 100, 2)) + \"%\"\n",
    "\n",
    "                table.loc[(alpha, second_error), trials] = delta\n",
    "    return table"
   ]
  },
  {
   "cell_type": "code",
   "execution_count": 20,
   "metadata": {},
   "outputs": [],
   "source": [
    "def get_table_power_on_size_and_delta(\n",
    "    p_a: float,\n",
    "    sample_sizes: Iterable[int],\n",
    "    first_errors: Iterable[float] = (0.05,),\n",
    "    delta_values: Iterable[float] = None,\n",
    "    delta_relative_values: Iterable[float] = None,\n",
    "    interval_type: str = \"wald\",\n",
    "    alternative: str = \"two-sided\",\n",
    "    amount: int = 10000,\n",
    ") -> pd.DataFrame:\n",
    "    \"\"\"\n",
    "    Table with power / empirical 1 type error = 1 - coverage for fixed size and effect.\n",
    "\n",
    "    Parameters\n",
    "    ----------\n",
    "    p_a : Iterable[float]\n",
    "        Conversion in A group\n",
    "    sample_sizes : Iterable[float]\n",
    "        Sizes for samples\n",
    "    first_errors : Iterable[float], default : ``(0.05,)``\n",
    "        First type error values\n",
    "    delta_values : Iterable[float]\n",
    "        Absolute delta values: p_a - p_b = delta\n",
    "    delta_relative_values : Iterable[float]\n",
    "        Relative delta values: delta_relative * p_a = p_b\n",
    "    interval_type : str\n",
    "        interval_type for confidence interval\n",
    "    alternative : str, default : ``\"two-sided\"``\n",
    "        Alternative for static criteria - two-sided, less, greater\n",
    "        Less means, that mean in first group less, than mean in second group\n",
    "    amount : int, default : ``10000``\n",
    "        Amount of generated samples for one n(trials amount), to estimate power\n",
    "\n",
    "    Returns\n",
    "    -------\n",
    "    table : pd.DataFrame\n",
    "        Required table with power\n",
    "    \"\"\"\n",
    "    trials = np.array(sample_sizes)\n",
    "    if not (delta_values is None) ^ (delta_relative_values is None):\n",
    "        raise RELATIVE_ABSOLUTE_DELTA_ERROR\n",
    "    if delta_values is not None:\n",
    "        p_b_values: np.ndarray = p_a - np.array(delta_values)\n",
    "        grid_delta: np.ndarray = delta_values\n",
    "        delta_name: str = r\"$\\Delta$-absolute\"\n",
    "    else:\n",
    "        p_b_values: np.ndarray = p_a * np.array(delta_relative_values)\n",
    "        grid_delta: np.ndarray = delta_relative_values\n",
    "        delta_name: str = r\"$\\delta$-relative\"\n",
    "    if not np.all((p_b_values >= 0) & (p_b_values <= 1)):\n",
    "        raise ValueError(f\"Probability of success in group B must be positive, not {p_b_values}\")\n",
    "\n",
    "    values = [(round(a, ROUND_DIGITS), b) for a in first_errors for b in grid_delta]\n",
    "    table: pd.DataFrame = pd.DataFrame(\n",
    "        index=pd.MultiIndex.from_tuples(values, names=[r\"$\\alpha$\", delta_name]),\n",
    "        columns=trials,\n",
    "    )\n",
    "    table.columns.name = \"sample sizes\"\n",
    "    sample_a = sps.binom.rvs(n=trials, p=p_a, size=(amount, trials.shape[0]))\n",
    "    for alpha in first_errors:\n",
    "        for p_b, delta in zip(p_b_values, grid_delta):\n",
    "            sample_b = sps.binom.rvs(n=trials, p=p_b, size=(amount, trials.shape[0]))\n",
    "            binom_kwargs = {\n",
    "                \"interval_type\": interval_type,\n",
    "                \"a_success\": sample_a,\n",
    "                \"b_success\": sample_b,\n",
    "                \"a_trials\": trials,\n",
    "                \"b_trials\": trials,\n",
    "                \"confidence_level\": 1 - alpha,\n",
    "                \"alternative\": alternative,\n",
    "            }\n",
    "            conf_interval: types.ManyIntervalType = BinomTwoSampleCI.confidence_interval(**binom_kwargs)\n",
    "            #return conf_interval\n",
    "            power: np.ndarray = helper_dir.__helper_calc_empirical_power(conf_interval)\n",
    "            print(power)\n",
    "            table.loc[(alpha, delta), trials] = [str(round(power_val * 100, 1)) + \"%\" for power_val in power]\n",
    "    table_title: str = r\"$1 - \\beta$: power of criterion, \" + (\n",
    "        r\"$p_a-p_b=\\Delta$\" if delta_values else r\"$p_a\\delta=p_b$\"\n",
    "    )\n",
    "    table = table.style.set_caption(table_title)\n",
    "    return table"
   ]
  },
  {
   "cell_type": "code",
   "execution_count": 27,
   "metadata": {},
   "outputs": [],
   "source": [
    "from scipy.stats import ttest_ind"
   ]
  },
  {
   "cell_type": "code",
   "execution_count": 28,
   "metadata": {},
   "outputs": [
    {
     "ename": "ValueError",
     "evalue": "alternative must be 'less', 'greater' or 'two-sided'",
     "output_type": "error",
     "traceback": [
      "\u001b[0;31m---------------------------------------------------------------------------\u001b[0m",
      "\u001b[0;31mValueError\u001b[0m                                Traceback (most recent call last)",
      "Cell \u001b[0;32mIn[28], line 1\u001b[0m\n\u001b[0;32m----> 1\u001b[0m \u001b[43mttest_ind\u001b[49m\u001b[43m(\u001b[49m\u001b[43m[\u001b[49m\u001b[38;5;241;43m100\u001b[39;49m\u001b[43m,\u001b[49m\u001b[43m \u001b[49m\u001b[38;5;241;43m2003\u001b[39;49m\u001b[43m]\u001b[49m\u001b[43m,\u001b[49m\u001b[43m \u001b[49m\u001b[43m[\u001b[49m\u001b[38;5;241;43m12030\u001b[39;49m\u001b[43m,\u001b[49m\u001b[43m \u001b[49m\u001b[38;5;241;43m5959\u001b[39;49m\u001b[43m]\u001b[49m\u001b[43m,\u001b[49m\u001b[43m \u001b[49m\u001b[43malternative\u001b[49m\u001b[38;5;241;43m=\u001b[39;49m\u001b[38;5;124;43m'\u001b[39;49m\u001b[38;5;124;43mkek\u001b[39;49m\u001b[38;5;124;43m'\u001b[39;49m\u001b[43m)\u001b[49m\n",
      "File \u001b[0;32m~/gitlab/Ambrosia/.venv/lib/python3.9/site-packages/scipy/stats/stats.py:6145\u001b[0m, in \u001b[0;36mttest_ind\u001b[0;34m(a, b, axis, equal_var, nan_policy, permutations, random_state, alternative, trim)\u001b[0m\n\u001b[1;32m   6143\u001b[0m     \u001b[38;5;28;01melse\u001b[39;00m:\n\u001b[1;32m   6144\u001b[0m         df, denom \u001b[38;5;241m=\u001b[39m _unequal_var_ttest_denom(v1, n1, v2, n2)\n\u001b[0;32m-> 6145\u001b[0m     res \u001b[38;5;241m=\u001b[39m \u001b[43m_ttest_ind_from_stats\u001b[49m\u001b[43m(\u001b[49m\u001b[43mm1\u001b[49m\u001b[43m,\u001b[49m\u001b[43m \u001b[49m\u001b[43mm2\u001b[49m\u001b[43m,\u001b[49m\u001b[43m \u001b[49m\u001b[43mdenom\u001b[49m\u001b[43m,\u001b[49m\u001b[43m \u001b[49m\u001b[43mdf\u001b[49m\u001b[43m,\u001b[49m\u001b[43m \u001b[49m\u001b[43malternative\u001b[49m\u001b[43m)\u001b[49m\n\u001b[1;32m   6146\u001b[0m \u001b[38;5;28;01mreturn\u001b[39;00m Ttest_indResult(\u001b[38;5;241m*\u001b[39mres)\n",
      "File \u001b[0;32m~/gitlab/Ambrosia/.venv/lib/python3.9/site-packages/scipy/stats/stats.py:5684\u001b[0m, in \u001b[0;36m_ttest_ind_from_stats\u001b[0;34m(mean1, mean2, denom, df, alternative)\u001b[0m\n\u001b[1;32m   5682\u001b[0m \u001b[38;5;28;01mwith\u001b[39;00m np\u001b[38;5;241m.\u001b[39merrstate(divide\u001b[38;5;241m=\u001b[39m\u001b[38;5;124m'\u001b[39m\u001b[38;5;124mignore\u001b[39m\u001b[38;5;124m'\u001b[39m, invalid\u001b[38;5;241m=\u001b[39m\u001b[38;5;124m'\u001b[39m\u001b[38;5;124mignore\u001b[39m\u001b[38;5;124m'\u001b[39m):\n\u001b[1;32m   5683\u001b[0m     t \u001b[38;5;241m=\u001b[39m np\u001b[38;5;241m.\u001b[39mdivide(d, denom)\n\u001b[0;32m-> 5684\u001b[0m t, prob \u001b[38;5;241m=\u001b[39m \u001b[43m_ttest_finish\u001b[49m\u001b[43m(\u001b[49m\u001b[43mdf\u001b[49m\u001b[43m,\u001b[49m\u001b[43m \u001b[49m\u001b[43mt\u001b[49m\u001b[43m,\u001b[49m\u001b[43m \u001b[49m\u001b[43malternative\u001b[49m\u001b[43m)\u001b[49m\n\u001b[1;32m   5686\u001b[0m \u001b[38;5;28;01mreturn\u001b[39;00m (t, prob)\n",
      "File \u001b[0;32m~/gitlab/Ambrosia/.venv/lib/python3.9/site-packages/scipy/stats/stats.py:5670\u001b[0m, in \u001b[0;36m_ttest_finish\u001b[0;34m(df, t, alternative)\u001b[0m\n\u001b[1;32m   5668\u001b[0m     prob \u001b[38;5;241m=\u001b[39m \u001b[38;5;241m2\u001b[39m \u001b[38;5;241m*\u001b[39m distributions\u001b[38;5;241m.\u001b[39mt\u001b[38;5;241m.\u001b[39msf(np\u001b[38;5;241m.\u001b[39mabs(t), df)\n\u001b[1;32m   5669\u001b[0m \u001b[38;5;28;01melse\u001b[39;00m:\n\u001b[0;32m-> 5670\u001b[0m     \u001b[38;5;28;01mraise\u001b[39;00m \u001b[38;5;167;01mValueError\u001b[39;00m(\u001b[38;5;124m\"\u001b[39m\u001b[38;5;124malternative must be \u001b[39m\u001b[38;5;124m\"\u001b[39m\n\u001b[1;32m   5671\u001b[0m                      \u001b[38;5;124m\"\u001b[39m\u001b[38;5;124m'\u001b[39m\u001b[38;5;124mless\u001b[39m\u001b[38;5;124m'\u001b[39m\u001b[38;5;124m, \u001b[39m\u001b[38;5;124m'\u001b[39m\u001b[38;5;124mgreater\u001b[39m\u001b[38;5;124m'\u001b[39m\u001b[38;5;124m or \u001b[39m\u001b[38;5;124m'\u001b[39m\u001b[38;5;124mtwo-sided\u001b[39m\u001b[38;5;124m'\u001b[39m\u001b[38;5;124m\"\u001b[39m)\n\u001b[1;32m   5673\u001b[0m \u001b[38;5;28;01mif\u001b[39;00m t\u001b[38;5;241m.\u001b[39mndim \u001b[38;5;241m==\u001b[39m \u001b[38;5;241m0\u001b[39m:\n\u001b[1;32m   5674\u001b[0m     t \u001b[38;5;241m=\u001b[39m t[()]\n",
      "\u001b[0;31mValueError\u001b[0m: alternative must be 'less', 'greater' or 'two-sided'"
     ]
    }
   ],
   "source": [
    "ttest_ind([100, 2003], [12030, 5959], alternative='kek')"
   ]
  },
  {
   "cell_type": "code",
   "execution_count": 14,
   "metadata": {},
   "outputs": [
    {
     "ename": "NameError",
     "evalue": "name 'interval1' is not defined",
     "output_type": "error",
     "traceback": [
      "\u001b[0;31m---------------------------------------------------------------------------\u001b[0m",
      "\u001b[0;31mNameError\u001b[0m                                 Traceback (most recent call last)",
      "Cell \u001b[0;32mIn[14], line 1\u001b[0m\n\u001b[0;32m----> 1\u001b[0m \u001b[43minterval1\u001b[49m\n",
      "\u001b[0;31mNameError\u001b[0m: name 'interval1' is not defined"
     ]
    }
   ],
   "source": [
    "interval1"
   ]
  },
  {
   "cell_type": "code",
   "execution_count": 70,
   "metadata": {},
   "outputs": [
    {
     "data": {
      "text/plain": [
       "2"
      ]
     },
     "execution_count": 70,
     "metadata": {},
     "output_type": "execute_result"
    }
   ],
   "source": [
    "interval1.__len__()"
   ]
  },
  {
   "cell_type": "code",
   "execution_count": 68,
   "metadata": {},
   "outputs": [],
   "source": [
    "interval1 = get_table_power_on_size_and_delta(0.5, sample_sizes= [100, 200, 500], delta_relative_values = [1.1, 1.01], first_errors=[0.1, 0.2], alternative='two-sided')"
   ]
  },
  {
   "cell_type": "code",
   "execution_count": 69,
   "metadata": {},
   "outputs": [],
   "source": [
    "interval2 = get_table_power_on_size_and_delta(0.5, sample_sizes= [100, 200, 500], delta_relative_values = [1.1, 1.01], first_errors=[0.1, 0.2], alternative='less')"
   ]
  },
  {
   "cell_type": "code",
   "execution_count": 25,
   "metadata": {
    "scrolled": true
   },
   "outputs": [
    {
     "name": "stdout",
     "output_type": "stream",
     "text": [
      "[0.4146 0.6419]\n",
      "[0.188  0.2568]\n",
      "[0.3075 0.5162]\n",
      "[0.1177 0.1721]\n"
     ]
    },
    {
     "data": {
      "text/html": [
       "<style type=\"text/css\">\n",
       "</style>\n",
       "<table id=\"T_4c250_\">\n",
       "  <caption>$1 - \\beta$: power of criterion, $p_a-p_b=\\Delta$</caption>\n",
       "  <thead>\n",
       "    <tr>\n",
       "      <th class=\"blank\" >&nbsp;</th>\n",
       "      <th class=\"index_name level0\" >sample sizes</th>\n",
       "      <th class=\"col_heading level0 col0\" >100</th>\n",
       "      <th class=\"col_heading level0 col1\" >200</th>\n",
       "    </tr>\n",
       "    <tr>\n",
       "      <th class=\"index_name level0\" >$\\alpha$</th>\n",
       "      <th class=\"index_name level1\" >$\\Delta$-absolute</th>\n",
       "      <th class=\"blank col0\" >&nbsp;</th>\n",
       "      <th class=\"blank col1\" >&nbsp;</th>\n",
       "    </tr>\n",
       "  </thead>\n",
       "  <tbody>\n",
       "    <tr>\n",
       "      <th id=\"T_4c250_level0_row0\" class=\"row_heading level0 row0\" rowspan=\"2\">0.1</th>\n",
       "      <th id=\"T_4c250_level1_row0\" class=\"row_heading level1 row0\" >0.1</th>\n",
       "      <td id=\"T_4c250_row0_col0\" class=\"data row0 col0\" >41.5%</td>\n",
       "      <td id=\"T_4c250_row0_col1\" class=\"data row0 col1\" >64.2%</td>\n",
       "    </tr>\n",
       "    <tr>\n",
       "      <th id=\"T_4c250_level1_row1\" class=\"row_heading level1 row1\" >0.05</th>\n",
       "      <td id=\"T_4c250_row1_col0\" class=\"data row1 col0\" >18.8%</td>\n",
       "      <td id=\"T_4c250_row1_col1\" class=\"data row1 col1\" >25.7%</td>\n",
       "    </tr>\n",
       "    <tr>\n",
       "      <th id=\"T_4c250_level0_row2\" class=\"row_heading level0 row2\" rowspan=\"2\">0.05</th>\n",
       "      <th id=\"T_4c250_level1_row2\" class=\"row_heading level1 row2\" >0.1</th>\n",
       "      <td id=\"T_4c250_row2_col0\" class=\"data row2 col0\" >30.8%</td>\n",
       "      <td id=\"T_4c250_row2_col1\" class=\"data row2 col1\" >51.6%</td>\n",
       "    </tr>\n",
       "    <tr>\n",
       "      <th id=\"T_4c250_level1_row3\" class=\"row_heading level1 row3\" >0.05</th>\n",
       "      <td id=\"T_4c250_row3_col0\" class=\"data row3 col0\" >11.8%</td>\n",
       "      <td id=\"T_4c250_row3_col1\" class=\"data row3 col1\" >17.2%</td>\n",
       "    </tr>\n",
       "  </tbody>\n",
       "</table>\n"
      ],
      "text/plain": [
       "<pandas.io.formats.style.Styler at 0x137ec32e0>"
      ]
     },
     "execution_count": 25,
     "metadata": {},
     "output_type": "execute_result"
    }
   ],
   "source": [
    "get_table_power_on_size_and_delta(0.5, sample_sizes= [100, 200], delta_values = [0.1, 0.05], first_errors=[0.1, 0.05])"
   ]
  },
  {
   "cell_type": "code",
   "execution_count": 30,
   "metadata": {},
   "outputs": [
    {
     "data": {
      "text/html": [
       "<style type=\"text/css\">\n",
       "</style>\n",
       "<table id=\"T_112c0_\">\n",
       "  <caption>$1 - \\beta$: power of criterion, $p_a-p_b=\\Delta$</caption>\n",
       "  <thead>\n",
       "    <tr>\n",
       "      <th class=\"index_name level0\" >sample sizes</th>\n",
       "      <th class=\"col_heading level0 col0\" >100</th>\n",
       "      <th class=\"col_heading level0 col1\" >200</th>\n",
       "    </tr>\n",
       "    <tr>\n",
       "      <th class=\"index_name level0\" >$\\Delta$-absolute</th>\n",
       "      <th class=\"blank col0\" >&nbsp;</th>\n",
       "      <th class=\"blank col1\" >&nbsp;</th>\n",
       "    </tr>\n",
       "  </thead>\n",
       "  <tbody>\n",
       "    <tr>\n",
       "      <th id=\"T_112c0_level0_row0\" class=\"row_heading level0 row0\" >0.1</th>\n",
       "      <td id=\"T_112c0_row0_col0\" class=\"data row0 col0\" >0.565800</td>\n",
       "      <td id=\"T_112c0_row0_col1\" class=\"data row0 col1\" >0.767500</td>\n",
       "    </tr>\n",
       "    <tr>\n",
       "      <th id=\"T_112c0_level0_row1\" class=\"row_heading level0 row1\" >0.05</th>\n",
       "      <td id=\"T_112c0_row1_col0\" class=\"data row1 col0\" >0.296900</td>\n",
       "      <td id=\"T_112c0_row1_col1\" class=\"data row1 col1\" >0.405700</td>\n",
       "    </tr>\n",
       "  </tbody>\n",
       "</table>\n"
      ],
      "text/plain": [
       "<pandas.io.formats.style.Styler at 0x12fa27ee0>"
      ]
     },
     "execution_count": 30,
     "metadata": {},
     "output_type": "execute_result"
    }
   ],
   "source": [
    "get_table_power_on_size_and_delta(0.5, sample_sizes= [100, 200], delta_values = [0.1, 0.05], confidence_level=0.8)"
   ]
  }
 ],
 "metadata": {
  "kernelspec": {
   "display_name": "Python 3 (ipykernel)",
   "language": "python",
   "name": "python3"
  },
  "language_info": {
   "codemirror_mode": {
    "name": "ipython",
    "version": 3
   },
   "file_extension": ".py",
   "mimetype": "text/x-python",
   "name": "python",
   "nbconvert_exporter": "python",
   "pygments_lexer": "ipython3",
   "version": "3.9.16"
  },
  "varInspector": {
   "cols": {
    "lenName": 16,
    "lenType": 16,
    "lenVar": 40
   },
   "kernels_config": {
    "python": {
     "delete_cmd_postfix": "",
     "delete_cmd_prefix": "del ",
     "library": "var_list.py",
     "varRefreshCmd": "print(var_dic_list())"
    },
    "r": {
     "delete_cmd_postfix": ") ",
     "delete_cmd_prefix": "rm(",
     "library": "var_list.r",
     "varRefreshCmd": "cat(var_dic_list()) "
    }
   },
   "types_to_exclude": [
    "module",
    "function",
    "builtin_function_or_method",
    "instance",
    "_Feature"
   ],
   "window_display": false
  }
 },
 "nbformat": 4,
 "nbformat_minor": 2
}
